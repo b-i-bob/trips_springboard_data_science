{
 "cells": [
  {
   "cell_type": "markdown",
   "metadata": {},
   "source": [
    "### Regression model V19\n",
    "prep V 11 has new feature avg prior late arrival \n",
    "try gradient boosted regressor (see cell 14)"
   ]
  },
  {
   "cell_type": "code",
   "execution_count": 1,
   "metadata": {},
   "outputs": [],
   "source": [
    "fileprefix='./lateness_PREP_V11_'"
   ]
  },
  {
   "cell_type": "code",
   "execution_count": 2,
   "metadata": {},
   "outputs": [],
   "source": [
    "import pandas as pd\n",
    "import numpy as np"
   ]
  },
  {
   "cell_type": "code",
   "execution_count": 3,
   "metadata": {},
   "outputs": [],
   "source": [
    "df_X=pd.read_csv(fileprefix+'X.csv', sep='\\t')"
   ]
  },
  {
   "cell_type": "code",
   "execution_count": 4,
   "metadata": {},
   "outputs": [
    {
     "data": {
      "text/plain": [
       "(125675, 216)"
      ]
     },
     "execution_count": 4,
     "metadata": {},
     "output_type": "execute_result"
    }
   ],
   "source": [
    "df_X.shape"
   ]
  },
  {
   "cell_type": "code",
   "execution_count": 5,
   "metadata": {},
   "outputs": [],
   "source": [
    "df_y=pd.read_csv(fileprefix+'y.csv', sep='\\t', header=None)"
   ]
  },
  {
   "cell_type": "code",
   "execution_count": 6,
   "metadata": {},
   "outputs": [
    {
     "data": {
      "text/plain": [
       "(125675, 2)"
      ]
     },
     "execution_count": 6,
     "metadata": {},
     "output_type": "execute_result"
    }
   ],
   "source": [
    "type(df_y)\n",
    "df_y.shape"
   ]
  },
  {
   "cell_type": "code",
   "execution_count": 37,
   "metadata": {},
   "outputs": [
    {
     "data": {
      "text/html": [
       "<div>\n",
       "<style scoped>\n",
       "    .dataframe tbody tr th:only-of-type {\n",
       "        vertical-align: middle;\n",
       "    }\n",
       "\n",
       "    .dataframe tbody tr th {\n",
       "        vertical-align: top;\n",
       "    }\n",
       "\n",
       "    .dataframe thead th {\n",
       "        text-align: right;\n",
       "    }\n",
       "</style>\n",
       "<table border=\"1\" class=\"dataframe\">\n",
       "  <thead>\n",
       "    <tr style=\"text-align: right;\">\n",
       "      <th></th>\n",
       "      <th>0</th>\n",
       "      <th>1</th>\n",
       "    </tr>\n",
       "  </thead>\n",
       "  <tbody>\n",
       "    <tr>\n",
       "      <th>0</th>\n",
       "      <td>5</td>\n",
       "      <td>-497.0</td>\n",
       "    </tr>\n",
       "    <tr>\n",
       "      <th>1</th>\n",
       "      <td>6</td>\n",
       "      <td>5.0</td>\n",
       "    </tr>\n",
       "    <tr>\n",
       "      <th>2</th>\n",
       "      <td>7</td>\n",
       "      <td>-313.0</td>\n",
       "    </tr>\n",
       "    <tr>\n",
       "      <th>3</th>\n",
       "      <td>8</td>\n",
       "      <td>-296.0</td>\n",
       "    </tr>\n",
       "    <tr>\n",
       "      <th>4</th>\n",
       "      <td>9</td>\n",
       "      <td>-166.0</td>\n",
       "    </tr>\n",
       "  </tbody>\n",
       "</table>\n",
       "</div>"
      ],
      "text/plain": [
       "   0      1\n",
       "0  5 -497.0\n",
       "1  6    5.0\n",
       "2  7 -313.0\n",
       "3  8 -296.0\n",
       "4  9 -166.0"
      ]
     },
     "execution_count": 37,
     "metadata": {},
     "output_type": "execute_result"
    }
   ],
   "source": [
    "df_y.head()"
   ]
  },
  {
   "cell_type": "code",
   "execution_count": 8,
   "metadata": {},
   "outputs": [
    {
     "data": {
      "text/plain": [
       "0   -497.0\n",
       "1      5.0\n",
       "2   -313.0\n",
       "3   -296.0\n",
       "4   -166.0\n",
       "Name: 1, dtype: float64"
      ]
     },
     "execution_count": 8,
     "metadata": {},
     "output_type": "execute_result"
    }
   ],
   "source": [
    "y=df_y[1]\n",
    "y.head()"
   ]
  },
  {
   "cell_type": "code",
   "execution_count": 9,
   "metadata": {},
   "outputs": [
    {
     "data": {
      "text/plain": [
       "(125675,)"
      ]
     },
     "execution_count": 9,
     "metadata": {},
     "output_type": "execute_result"
    }
   ],
   "source": [
    "y.shape"
   ]
  },
  {
   "cell_type": "code",
   "execution_count": 10,
   "metadata": {},
   "outputs": [
    {
     "data": {
      "text/html": [
       "<div>\n",
       "<style scoped>\n",
       "    .dataframe tbody tr th:only-of-type {\n",
       "        vertical-align: middle;\n",
       "    }\n",
       "\n",
       "    .dataframe tbody tr th {\n",
       "        vertical-align: top;\n",
       "    }\n",
       "\n",
       "    .dataframe thead th {\n",
       "        text-align: right;\n",
       "    }\n",
       "</style>\n",
       "<table border=\"1\" class=\"dataframe\">\n",
       "  <thead>\n",
       "    <tr style=\"text-align: right;\">\n",
       "      <th></th>\n",
       "      <th>Unnamed: 0</th>\n",
       "      <th>claimed_at_pdt_hour_4</th>\n",
       "      <th>claimed_at_pdt_hour_13</th>\n",
       "      <th>lead_organizer_created_at_pdt_hour</th>\n",
       "      <th>origin_region_name_San Francisco</th>\n",
       "      <th>created_at_pdt_month</th>\n",
       "      <th>destination_lat</th>\n",
       "      <th>origin_region_name_Orange County - North</th>\n",
       "      <th>created_at_pdt_weekday</th>\n",
       "      <th>driver_signup_before_trip_created_secs</th>\n",
       "      <th>...</th>\n",
       "      <th>scheduled_starts_at_pdt_hour_10</th>\n",
       "      <th>driver_previous_completed_trips</th>\n",
       "      <th>claimed_at_pdt_hour_1</th>\n",
       "      <th>lead_organizer_created_at_pdt_weekofyear</th>\n",
       "      <th>scheduled_starts_at_pdt_hour_12</th>\n",
       "      <th>origin_analysis_metro_name_LA</th>\n",
       "      <th>shuttle_int</th>\n",
       "      <th>lead_organizer_created_at_pdt_dayofyear</th>\n",
       "      <th>scheduled_starts_at_pdt_dayofyear</th>\n",
       "      <th>lead_organizer_platform_ios</th>\n",
       "    </tr>\n",
       "  </thead>\n",
       "  <tbody>\n",
       "    <tr>\n",
       "      <th>0</th>\n",
       "      <td>5</td>\n",
       "      <td>0</td>\n",
       "      <td>0</td>\n",
       "      <td>19</td>\n",
       "      <td>0</td>\n",
       "      <td>2</td>\n",
       "      <td>34.18</td>\n",
       "      <td>0</td>\n",
       "      <td>6</td>\n",
       "      <td>18685416.0</td>\n",
       "      <td>...</td>\n",
       "      <td>0</td>\n",
       "      <td>663.0</td>\n",
       "      <td>0</td>\n",
       "      <td>26</td>\n",
       "      <td>0</td>\n",
       "      <td>1</td>\n",
       "      <td>0</td>\n",
       "      <td>185</td>\n",
       "      <td>45</td>\n",
       "      <td>1</td>\n",
       "    </tr>\n",
       "    <tr>\n",
       "      <th>1</th>\n",
       "      <td>6</td>\n",
       "      <td>0</td>\n",
       "      <td>0</td>\n",
       "      <td>19</td>\n",
       "      <td>0</td>\n",
       "      <td>1</td>\n",
       "      <td>34.10</td>\n",
       "      <td>0</td>\n",
       "      <td>3</td>\n",
       "      <td>16613901.0</td>\n",
       "      <td>...</td>\n",
       "      <td>0</td>\n",
       "      <td>634.0</td>\n",
       "      <td>0</td>\n",
       "      <td>26</td>\n",
       "      <td>0</td>\n",
       "      <td>1</td>\n",
       "      <td>0</td>\n",
       "      <td>185</td>\n",
       "      <td>24</td>\n",
       "      <td>1</td>\n",
       "    </tr>\n",
       "    <tr>\n",
       "      <th>2</th>\n",
       "      <td>7</td>\n",
       "      <td>0</td>\n",
       "      <td>0</td>\n",
       "      <td>20</td>\n",
       "      <td>0</td>\n",
       "      <td>2</td>\n",
       "      <td>34.16</td>\n",
       "      <td>0</td>\n",
       "      <td>6</td>\n",
       "      <td>18684204.0</td>\n",
       "      <td>...</td>\n",
       "      <td>0</td>\n",
       "      <td>649.0</td>\n",
       "      <td>0</td>\n",
       "      <td>26</td>\n",
       "      <td>0</td>\n",
       "      <td>1</td>\n",
       "      <td>0</td>\n",
       "      <td>185</td>\n",
       "      <td>39</td>\n",
       "      <td>1</td>\n",
       "    </tr>\n",
       "    <tr>\n",
       "      <th>3</th>\n",
       "      <td>8</td>\n",
       "      <td>0</td>\n",
       "      <td>0</td>\n",
       "      <td>20</td>\n",
       "      <td>0</td>\n",
       "      <td>1</td>\n",
       "      <td>34.17</td>\n",
       "      <td>0</td>\n",
       "      <td>2</td>\n",
       "      <td>17715744.0</td>\n",
       "      <td>...</td>\n",
       "      <td>0</td>\n",
       "      <td>637.0</td>\n",
       "      <td>0</td>\n",
       "      <td>26</td>\n",
       "      <td>0</td>\n",
       "      <td>1</td>\n",
       "      <td>0</td>\n",
       "      <td>185</td>\n",
       "      <td>26</td>\n",
       "      <td>1</td>\n",
       "    </tr>\n",
       "    <tr>\n",
       "      <th>4</th>\n",
       "      <td>9</td>\n",
       "      <td>0</td>\n",
       "      <td>0</td>\n",
       "      <td>19</td>\n",
       "      <td>0</td>\n",
       "      <td>10</td>\n",
       "      <td>34.12</td>\n",
       "      <td>0</td>\n",
       "      <td>0</td>\n",
       "      <td>7851048.0</td>\n",
       "      <td>...</td>\n",
       "      <td>0</td>\n",
       "      <td>629.0</td>\n",
       "      <td>0</td>\n",
       "      <td>26</td>\n",
       "      <td>0</td>\n",
       "      <td>1</td>\n",
       "      <td>0</td>\n",
       "      <td>185</td>\n",
       "      <td>23</td>\n",
       "      <td>1</td>\n",
       "    </tr>\n",
       "  </tbody>\n",
       "</table>\n",
       "<p>5 rows × 216 columns</p>\n",
       "</div>"
      ],
      "text/plain": [
       "   Unnamed: 0  claimed_at_pdt_hour_4  claimed_at_pdt_hour_13  \\\n",
       "0           5                      0                       0   \n",
       "1           6                      0                       0   \n",
       "2           7                      0                       0   \n",
       "3           8                      0                       0   \n",
       "4           9                      0                       0   \n",
       "\n",
       "   lead_organizer_created_at_pdt_hour  origin_region_name_San Francisco  \\\n",
       "0                                  19                                 0   \n",
       "1                                  19                                 0   \n",
       "2                                  20                                 0   \n",
       "3                                  20                                 0   \n",
       "4                                  19                                 0   \n",
       "\n",
       "   created_at_pdt_month  destination_lat  \\\n",
       "0                     2            34.18   \n",
       "1                     1            34.10   \n",
       "2                     2            34.16   \n",
       "3                     1            34.17   \n",
       "4                    10            34.12   \n",
       "\n",
       "   origin_region_name_Orange County - North  created_at_pdt_weekday  \\\n",
       "0                                         0                       6   \n",
       "1                                         0                       3   \n",
       "2                                         0                       6   \n",
       "3                                         0                       2   \n",
       "4                                         0                       0   \n",
       "\n",
       "   driver_signup_before_trip_created_secs             ...               \\\n",
       "0                              18685416.0             ...                \n",
       "1                              16613901.0             ...                \n",
       "2                              18684204.0             ...                \n",
       "3                              17715744.0             ...                \n",
       "4                               7851048.0             ...                \n",
       "\n",
       "   scheduled_starts_at_pdt_hour_10  driver_previous_completed_trips  \\\n",
       "0                                0                            663.0   \n",
       "1                                0                            634.0   \n",
       "2                                0                            649.0   \n",
       "3                                0                            637.0   \n",
       "4                                0                            629.0   \n",
       "\n",
       "   claimed_at_pdt_hour_1  lead_organizer_created_at_pdt_weekofyear  \\\n",
       "0                      0                                        26   \n",
       "1                      0                                        26   \n",
       "2                      0                                        26   \n",
       "3                      0                                        26   \n",
       "4                      0                                        26   \n",
       "\n",
       "   scheduled_starts_at_pdt_hour_12  origin_analysis_metro_name_LA  \\\n",
       "0                                0                              1   \n",
       "1                                0                              1   \n",
       "2                                0                              1   \n",
       "3                                0                              1   \n",
       "4                                0                              1   \n",
       "\n",
       "   shuttle_int  lead_organizer_created_at_pdt_dayofyear  \\\n",
       "0            0                                      185   \n",
       "1            0                                      185   \n",
       "2            0                                      185   \n",
       "3            0                                      185   \n",
       "4            0                                      185   \n",
       "\n",
       "   scheduled_starts_at_pdt_dayofyear  lead_organizer_platform_ios  \n",
       "0                                 45                            1  \n",
       "1                                 24                            1  \n",
       "2                                 39                            1  \n",
       "3                                 26                            1  \n",
       "4                                 23                            1  \n",
       "\n",
       "[5 rows x 216 columns]"
      ]
     },
     "execution_count": 10,
     "metadata": {},
     "output_type": "execute_result"
    }
   ],
   "source": [
    "df_X.head()"
   ]
  },
  {
   "cell_type": "code",
   "execution_count": 11,
   "metadata": {},
   "outputs": [
    {
     "data": {
      "text/plain": [
       "count    125675.0\n",
       "mean       -416.0\n",
       "std         509.0\n",
       "min       -1800.0\n",
       "25%        -657.0\n",
       "50%        -324.0\n",
       "75%         -96.0\n",
       "max        1800.0\n",
       "Name: 1, dtype: float64"
      ]
     },
     "execution_count": 11,
     "metadata": {},
     "output_type": "execute_result"
    }
   ],
   "source": [
    "y.describe().round()"
   ]
  },
  {
   "cell_type": "code",
   "execution_count": 12,
   "metadata": {},
   "outputs": [],
   "source": [
    "# break df_X,y into test and train sets\n",
    "from sklearn.model_selection import train_test_split\n",
    "X_train, X_test, y_train, y_test = train_test_split(df_X, y, test_size=0.20, random_state=808)"
   ]
  },
  {
   "cell_type": "code",
   "execution_count": 13,
   "metadata": {},
   "outputs": [
    {
     "name": "stdout",
     "output_type": "stream",
     "text": [
      "(100540, 216)\n",
      "(25135, 216)\n",
      "(100540,)\n",
      "(25135,)\n"
     ]
    }
   ],
   "source": [
    "for i in X_train, X_test, y_train, y_test:\n",
    "    print(i.shape)"
   ]
  },
  {
   "cell_type": "code",
   "execution_count": 14,
   "metadata": {},
   "outputs": [],
   "source": [
    "# select a regressor\n",
    "from sklearn.ensemble import GradientBoostingRegressor\n",
    "model=GradientBoostingRegressor(max_depth=4, random_state=808, n_estimators=200)"
   ]
  },
  {
   "cell_type": "code",
   "execution_count": 15,
   "metadata": {},
   "outputs": [],
   "source": [
    "# fit model\n",
    "model=model.fit(X_train,y_train)"
   ]
  },
  {
   "cell_type": "code",
   "execution_count": 16,
   "metadata": {},
   "outputs": [
    {
     "name": "stdout",
     "output_type": "stream",
     "text": [
      "[1.78644517e-02 4.90139475e-04 1.89679446e-03 4.95982258e-03\n",
      " 0.00000000e+00 6.16081653e-05 1.07851849e-02 0.00000000e+00\n",
      " 1.07082591e-03 1.54254138e-02 0.00000000e+00 6.51418857e-04\n",
      " 0.00000000e+00 1.19692972e-03 1.91165747e-03 0.00000000e+00\n",
      " 3.04428028e-04 4.18482230e-03 4.15630074e-04 2.54121416e-03\n",
      " 0.00000000e+00 5.01483897e-05 1.54066012e-04 0.00000000e+00\n",
      " 4.15251283e-04 1.26115883e-02 2.08080759e-05 3.48820467e-02\n",
      " 4.78938688e-02 8.36075292e-04 0.00000000e+00 0.00000000e+00\n",
      " 3.28384406e-03 7.28246026e-03 6.10892945e-03 0.00000000e+00\n",
      " 1.09856367e-03 0.00000000e+00 0.00000000e+00 1.27181759e-02\n",
      " 1.46798471e-02 1.61604468e-03 0.00000000e+00 1.44550544e-02\n",
      " 6.81900387e-04 1.01786669e-03 2.30761370e-04 1.65136514e-03\n",
      " 3.50960063e-03 3.03125746e-04 5.64902394e-05 0.00000000e+00\n",
      " 0.00000000e+00 1.73205079e-01 5.24575429e-04 0.00000000e+00\n",
      " 9.92686779e-03 1.72719246e-02 2.49771372e-03 1.36681671e-02\n",
      " 0.00000000e+00 9.94062125e-04 8.16057081e-03 4.79931085e-03\n",
      " 1.54912945e-02 0.00000000e+00 4.44033261e-04 4.27322725e-04\n",
      " 6.79971723e-03 0.00000000e+00 0.00000000e+00 1.27654953e-02\n",
      " 0.00000000e+00 0.00000000e+00 6.52040331e-04 6.77360004e-04\n",
      " 3.33092027e-02 9.50624423e-03 0.00000000e+00 8.75728607e-04\n",
      " 1.21158658e-05 7.58392739e-03 1.67932569e-03 1.10056141e-02\n",
      " 0.00000000e+00 2.26891744e-02 2.22922542e-02 3.52356101e-04\n",
      " 1.18221700e-02 2.35038067e-04 0.00000000e+00 6.15815516e-05\n",
      " 4.86848433e-03 3.52406552e-03 4.56652517e-04 6.23930331e-03\n",
      " 8.86865603e-04 3.40900035e-04 0.00000000e+00 0.00000000e+00\n",
      " 3.23669621e-04 2.33009987e-03 6.97115786e-03 7.48980900e-07\n",
      " 4.35386033e-04 1.09731840e-02 0.00000000e+00 1.22505097e-03\n",
      " 8.59973066e-04 0.00000000e+00 0.00000000e+00 1.76641464e-03\n",
      " 0.00000000e+00 3.80833967e-04 8.62915085e-03 5.92848173e-04\n",
      " 0.00000000e+00 3.93136021e-03 0.00000000e+00 1.01361925e-03\n",
      " 8.71895041e-03 0.00000000e+00 0.00000000e+00 6.49026054e-03\n",
      " 0.00000000e+00 0.00000000e+00 0.00000000e+00 1.11580210e-03\n",
      " 0.00000000e+00 4.77059733e-04 2.62664570e-03 0.00000000e+00\n",
      " 1.65859745e-03 0.00000000e+00 0.00000000e+00 1.81080741e-03\n",
      " 3.12154893e-03 2.47091501e-04 1.17271652e-03 2.05092910e-06\n",
      " 8.22943214e-03 1.92899365e-03 0.00000000e+00 0.00000000e+00\n",
      " 0.00000000e+00 9.41067224e-04 4.60804112e-04 2.33612861e-02\n",
      " 0.00000000e+00 1.46210854e-04 6.27021185e-03 1.39590403e-05\n",
      " 1.98337889e-05 5.63563569e-03 3.68541048e-04 1.56033220e-04\n",
      " 6.62145308e-04 0.00000000e+00 8.09492249e-03 2.12973042e-04\n",
      " 4.13874905e-04 4.53358203e-04 0.00000000e+00 0.00000000e+00\n",
      " 1.25528107e-02 0.00000000e+00 3.33310120e-02 2.49510378e-02\n",
      " 0.00000000e+00 5.48499185e-04 9.52253100e-04 1.12604996e-03\n",
      " 6.40720972e-04 2.65723263e-04 1.28853450e-04 1.26671380e-03\n",
      " 1.21193451e-02 9.16628359e-03 0.00000000e+00 0.00000000e+00\n",
      " 3.03207230e-05 0.00000000e+00 1.34041560e-03 5.44300074e-04\n",
      " 5.58821006e-03 0.00000000e+00 7.01285441e-04 0.00000000e+00\n",
      " 3.24096714e-03 3.03167926e-03 2.85308209e-04 5.68882851e-04\n",
      " 7.63002278e-04 5.38349754e-04 7.09498705e-04 1.18784353e-03\n",
      " 1.46261276e-03 5.28135870e-03 3.76632468e-03 0.00000000e+00\n",
      " 6.20183625e-03 3.33594505e-03 2.87407481e-05 1.89485618e-03\n",
      " 1.29749004e-02 3.52964637e-02 1.36724905e-04 3.48857420e-02\n",
      " 4.07353580e-04 8.96462203e-04 0.00000000e+00 0.00000000e+00\n",
      " 3.19279717e-04 8.64076496e-03 5.71420267e-03 3.56799079e-03]\n"
     ]
    }
   ],
   "source": [
    "print(model.feature_importances_)"
   ]
  },
  {
   "cell_type": "code",
   "execution_count": 17,
   "metadata": {},
   "outputs": [
    {
     "data": {
      "text/plain": [
       "[(0.17320507852071393, 'avg_prior_arrived_late_seconds'),\n",
       " (0.04789386881895214, 'claimed_before_trip_start_secs'),\n",
       " (0.03529646369737171, 'origin_location_id'),\n",
       " (0.03488574199261876, 'driver_previous_completed_trips'),\n",
       " (0.03488204669324041, 'driver_home_lon'),\n",
       " (0.0333310119660214, 'driver_home_lat'),\n",
       " (0.033309202658305635, 'driver_id'),\n",
       " (0.024951037796717417, 'scheduled_starts_at_pdt_hour'),\n",
       " (0.023361286096700802, 'driver_created_at_pdt_dayofyear'),\n",
       " (0.022689174438655244, 'destination_location_id'),\n",
       " (0.022292254225859665, 'origin_lon'),\n",
       " (0.017864451665380962, 'Unnamed: 0'),\n",
       " (0.01727192463683992, 'trip_created_before_trip_start_secs'),\n",
       " (0.015491294476992728, 'driver_created_at_pdt_day'),\n",
       " (0.015425413842162087, 'driver_signup_before_trip_created_secs'),\n",
       " (0.014679847129552004, 'lead_organizer_previous_completed_trips'),\n",
       " (0.01445505440928096, 'driver_signup_before_org_signup_secs'),\n",
       " (0.0136681671240135, 'predicted_driver_fare'),\n",
       " (0.012974900425814655, 'trip_predicted_raw_fare'),\n",
       " (0.012765495256430353, 'origin_lat'),\n",
       " (0.012718175941379101, 'scheduled_ends_at_pdt_hour'),\n",
       " (0.012611588319801586, 'drivers_prev_ride_1hr_int'),\n",
       " (0.012552810733719506, 'driver_signup_before_trip_start_secs'),\n",
       " (0.012119345056591697, 'driver_signup_before_trip_claimed_secs'),\n",
       " (0.011822169978601473, 'org_signup_before_trip_start_secs'),\n",
       " (0.011005614094805983, 'driver_created_at_pdt_hour'),\n",
       " (0.010973183980747063, 'id'),\n",
       " (0.010785184912855033, 'destination_lat'),\n",
       " (0.009926867791993811, 'trip_claimed_after_trip_created'),\n",
       " (0.00950624422687266, 'org_signup_before_trip_created_secs'),\n",
       " (0.009166283588144357, 'organizer_home_lat'),\n",
       " (0.00871895040927458, 'creator_id'),\n",
       " (0.008640764960059178, 'lead_organizer_created_at_pdt_dayofyear'),\n",
       " (0.008629150851496695, 'total_predicted_duration'),\n",
       " (0.008229432139481819, 'organizer_home_lon'),\n",
       " (0.008160570809592592, 'created_at_pdt_weekofyear'),\n",
       " (0.008094922490591731, 'claimed_after_created'),\n",
       " (0.007583927387665974, 'created_at_pdt_hour'),\n",
       " (0.0072824602572924245, 'trip_est_duration_secs'),\n",
       " (0.006971157859963022, 'trip_template_id'),\n",
       " (0.006799717234554283, 'lead_organizer_id'),\n",
       " (0.006490260538504159, 'origin_region_id'),\n",
       " (0.006270211852167466, 'driver_created_at_pdt_weekofyear'),\n",
       " (0.0062393033095971195, 'origin_region_name_Malibu'),\n",
       " (0.006201836245811385, 'driver_created_at_pdt_weekday'),\n",
       " (0.006108929454963647, 'organizers_count'),\n",
       " (0.005714202671513235, 'scheduled_starts_at_pdt_dayofyear'),\n",
       " (0.005635635694502928, 'destination_region_id'),\n",
       " (0.0055882100607094, 'claimed_at_pdt_dayofyear'),\n",
       " (0.005281358696368601, 'destination_lon'),\n",
       " (0.004959822581511309, 'lead_organizer_created_at_pdt_hour'),\n",
       " (0.0048684843309413596, 'lead_organizer_created_at_pdt_day'),\n",
       " (0.004799310847592225, 'origin_region_name_Central LA - West'),\n",
       " (0.004184822304852528, 'created_at_pdt_day'),\n",
       " (0.0039313602065331466, 'scheduled_starts_at_pdt_weekday_5'),\n",
       " (0.0037663246847830715, 'scheduled_starts_at_pdt_day'),\n",
       " (0.003567990785788422, 'lead_organizer_platform_ios'),\n",
       " (0.0035240655241792294, 'lead_organizer_created_at_pdt_weekday'),\n",
       " (0.0035096006289538446, 'scheduled_starts_at_pdt_hour_14'),\n",
       " (0.0033359450515483193, 'origin_region_name_Orange County - Central'),\n",
       " (0.003283844064100252, 'origin_region_name_East Contra Costa'),\n",
       " (0.003240967138104408, 'created_at_pdt_dayofyear'),\n",
       " (0.003121548931029269, 'passengers_count'),\n",
       " (0.0030316792596748465, 'lead_organizer_created_at_pdt_month'),\n",
       " (0.0026266456969003637, 'claimed_at_pdt_hour'),\n",
       " (0.0025412141643741076, 'claimed_at_pdt_day'),\n",
       " (0.0024977137192139496, 'total_predicted_distance_miles'),\n",
       " (0.0023300998671397814, 'claimed_at_pdt_hour_9'),\n",
       " (0.0019289936529283311, 'origin_region_name_South Bay'),\n",
       " (0.0019116574689756523, 'scheduled_starts_at_pdt_weekday'),\n",
       " (0.00189679446440157, 'claimed_at_pdt_hour_13'),\n",
       " (0.0018948561823480092, 'origin_region_name_South LA'),\n",
       " (0.0018108074109181333, 'origin_region_name_Tri Valley'),\n",
       " (0.001766414640575667, 'driver_has_driven_this_route_before_int'),\n",
       " (0.0016793256869293022, 'scheduled_starts_at_pdt_hour_17'),\n",
       " (0.001658597454117422, 'claimed_at_pdt_weekofyear'),\n",
       " (0.0016513651405732491, 'scheduled_ends_at_pdt_dayofyear'),\n",
       " (0.0016160446776938382, 'is_affiliate_int'),\n",
       " (0.001462612762527213, 'scheduled_ends_at_pdt_weekday'),\n",
       " (0.001340415604383826, 'origin_region_name_San Gabriel Valley - West'),\n",
       " (0.0012667137951123087, 'claimed_at_pdt_hour_22'),\n",
       " (0.001225050972613976, 'claimed_at_pdt_hour_21'),\n",
       " (0.0011969297174579156, 'origin_region_name_Peninsula South'),\n",
       " (0.0011878435312361651, 'scheduled_ends_at_pdt_day'),\n",
       " (0.0011727165189172836, 'scheduled_starts_at_pdt_hour_7'),\n",
       " (0.001126049963383373, 'driver_gender_male'),\n",
       " (0.0011158020970162908, 'claimed_at_pdt_hour_14'),\n",
       " (0.0010985636733424422, 'carpool_int'),\n",
       " (0.0010708259136816567, 'created_at_pdt_weekday'),\n",
       " (0.0010178666916220514, 'lead_organizer_platform_web'),\n",
       " (0.0010136192480502283, 'scheduled_starts_at_pdt_hour_15'),\n",
       " (0.000994062124540882, 'driver_created_at_pdt_month'),\n",
       " (0.0009522531003772139, 'origin_region_name_Orange County - West'),\n",
       " (0.0009410672239587423, 'scheduled_starts_at_pdt_month_10'),\n",
       " (0.0008964622031710151, 'lead_organizer_created_at_pdt_weekofyear'),\n",
       " (0.0008868656026764675, 'claimed_at_pdt_hour_15'),\n",
       " (0.0008757286072838028, 'route_legs_count'),\n",
       " (0.0008599730661157383, 'claimed_at_pdt_month'),\n",
       " (0.0008360752921256472, 'scheduled_starts_at_pdt_hour_21'),\n",
       " (0.0007630022780249451, 'claimed_at_pdt_weekday'),\n",
       " (0.0007094987048773474, 'scheduled_starts_at_pdt_weekday_3'),\n",
       " (0.0007012854414436354, 'claimed_at_pdt_weekday_1'),\n",
       " (0.0006819003865338408, 'claimed_at_pdt_hour_10'),\n",
       " (0.0006773600035801818, 'origin_region_name_Westside'),\n",
       " (0.0006621453079783172, 'origin_region_name_San Fernando Valley - East'),\n",
       " (0.0006520403310794471, 'scheduled_starts_at_pdt_hour_19'),\n",
       " (0.0006514188568853726, 'origin_region_name_San Gabriel Valley - South'),\n",
       " (0.0006407209717467223, 'scheduled_starts_at_pdt_weekday_1'),\n",
       " (0.0005928481730022135, 'claimed_at_pdt_weekday_5'),\n",
       " (0.0005688828513453078, 'claimed_at_pdt_hour_17'),\n",
       " (0.0005484991849687641, 'claimed_at_pdt_month_5'),\n",
       " (0.0005443000741860531, 'claimed_at_pdt_month_2'),\n",
       " (0.0005383497538547302, 'scheduled_starts_at_pdt_hour_8'),\n",
       " (0.0005245754289065397, 'lead_organizer_created_at_pdt_quarter'),\n",
       " (0.0004901394751175004, 'claimed_at_pdt_hour_4'),\n",
       " (0.0004770597334599889, 'origin_region_name_Orange County - South'),\n",
       " (0.00046080411235495194, 'origin_region_name_East Bay South'),\n",
       " (0.00045665251720926244, 'claimed_at_pdt_month_11'),\n",
       " (0.00045335820253410104, 'scheduled_starts_at_pdt_weekday_2'),\n",
       " (0.0004440332613487661, 'claimed_at_pdt_hour_16'),\n",
       " (0.000435386032902997, 'scheduled_starts_at_pdt_hour_16'),\n",
       " (0.00042732272503079744, 'claimed_at_pdt_month_9'),\n",
       " (0.0004156300740692454, 'is_same_day_ride_int'),\n",
       " (0.00041525128252974775, 'origin_region_name_Inland Empire'),\n",
       " (0.00041387490508192396, 'scheduled_starts_at_pdt_month_9'),\n",
       " (0.00040735358013917205, 'claimed_at_pdt_hour_1'),\n",
       " (0.00038083396726823856, 'scheduled_starts_at_pdt_month_8'),\n",
       " (0.00036854104773465115, 'origin_region_name_San Fernando Valley - West'),\n",
       " (0.00035235610057223566, 'claimed_at_pdt_hour_2'),\n",
       " (0.0003409000348041804, 'origin_region_name_North Bay'),\n",
       " (0.00032366962066338495, 'claimed_at_pdt_hour_3'),\n",
       " (0.0003192797174918072, 'shuttle_int'),\n",
       " (0.00030442802845079476, 'scheduled_ends_at_pdt_month'),\n",
       " (0.0003031257458150071, 'origin_region_name_Central LA - South'),\n",
       " (0.0002853082090862054, 'claimed_at_pdt_weekday_3'),\n",
       " (0.0002657232626904428, 'scheduled_starts_at_pdt_weekofyear'),\n",
       " (0.00024709150105986207, 'origin_region_name_San Jose'),\n",
       " (0.00023503806698184858, 'claimed_at_pdt_hour_6'),\n",
       " (0.00023076136953452335, 'claimed_at_pdt_quarter'),\n",
       " (0.00021297304232376204, 'scheduled_starts_at_pdt_quarter_2'),\n",
       " (0.00015603321966359382, 'scheduled_ends_at_pdt_quarter'),\n",
       " (0.00015406601219452394, 'claimed_at_pdt_hour_23'),\n",
       " (0.00014621085356520406, 'scheduled_starts_at_pdt_quarter_3'),\n",
       " (0.0001367249048080414, 'scheduled_starts_at_pdt_hour_10'),\n",
       " (0.0001288534495652385, 'claimed_at_pdt_quarter_2'),\n",
       " (6.160816528431787e-05, 'created_at_pdt_month'),\n",
       " (6.158155160861658e-05, 'scheduled_starts_at_pdt_quarter'),\n",
       " (5.649023939179126e-05, 'claimed_at_pdt_quarter_3'),\n",
       " (5.014838970650709e-05, 'scheduled_starts_at_pdt_month_4'),\n",
       " (3.032072297240469e-05, 'is_repeating_ride_int'),\n",
       " (2.8740748107038685e-05, 'claimed_at_pdt_hour_19'),\n",
       " (2.0808075908375036e-05, 'created_at_pdt_quarter'),\n",
       " (1.983378886274372e-05, 'scheduled_starts_at_pdt_hour_11'),\n",
       " (1.395904034781059e-05, 'claimed_at_pdt_month_7'),\n",
       " (1.2115865824714276e-05, 'claimed_at_pdt_weekday_4'),\n",
       " (2.0509290970856864e-06, 'claimed_at_pdt_month_8'),\n",
       " (7.489809004628229e-07, 'scheduled_starts_at_pdt_month_5'),\n",
       " (0.0, 'scheduled_starts_at_pdt_weekday_6'),\n",
       " (0.0, 'scheduled_starts_at_pdt_weekday_4'),\n",
       " (0.0, 'scheduled_starts_at_pdt_quarter_4'),\n",
       " (0.0, 'scheduled_starts_at_pdt_month_7'),\n",
       " (0.0, 'scheduled_starts_at_pdt_month_6'),\n",
       " (0.0, 'scheduled_starts_at_pdt_month_3'),\n",
       " (0.0, 'scheduled_starts_at_pdt_month_2'),\n",
       " (0.0, 'scheduled_starts_at_pdt_month_12'),\n",
       " (0.0, 'scheduled_starts_at_pdt_month_11'),\n",
       " (0.0, 'scheduled_starts_at_pdt_month'),\n",
       " (0.0, 'scheduled_starts_at_pdt_hour_9'),\n",
       " (0.0, 'scheduled_starts_at_pdt_hour_6'),\n",
       " (0.0, 'scheduled_starts_at_pdt_hour_5'),\n",
       " (0.0, 'scheduled_starts_at_pdt_hour_4'),\n",
       " (0.0, 'scheduled_starts_at_pdt_hour_3'),\n",
       " (0.0, 'scheduled_starts_at_pdt_hour_23'),\n",
       " (0.0, 'scheduled_starts_at_pdt_hour_22'),\n",
       " (0.0, 'scheduled_starts_at_pdt_hour_20'),\n",
       " (0.0, 'scheduled_starts_at_pdt_hour_2'),\n",
       " (0.0, 'scheduled_starts_at_pdt_hour_18'),\n",
       " (0.0, 'scheduled_starts_at_pdt_hour_13'),\n",
       " (0.0, 'scheduled_starts_at_pdt_hour_12'),\n",
       " (0.0, 'scheduled_starts_at_pdt_hour_1'),\n",
       " (0.0, 'scheduled_ends_at_pdt_weekofyear'),\n",
       " (0.0, 'origin_region_name_antelope-valley'),\n",
       " (0.0, 'origin_region_name_Ventura'),\n",
       " (0.0, 'origin_region_name_Southeast LA'),\n",
       " (0.0, 'origin_region_name_Santa Clarita'),\n",
       " (0.0, 'origin_region_name_San Gabriel Valley - East'),\n",
       " (0.0, 'origin_region_name_San Francisco'),\n",
       " (0.0, 'origin_region_name_Pomona Valley'),\n",
       " (0.0, 'origin_region_name_Peninsula North'),\n",
       " (0.0, 'origin_region_name_Orange County - North'),\n",
       " (0.0, 'origin_region_name_Oakland Berkeley'),\n",
       " (0.0, 'origin_region_name_Long Beach'),\n",
       " (0.0, 'origin_region_name_Lamorinda Walnut Creek'),\n",
       " (0.0, 'origin_region_name_Eastside'),\n",
       " (0.0, 'origin_region_name_East Bay North'),\n",
       " (0.0, 'origin_region_name_Default (Unassigned)'),\n",
       " (0.0, 'origin_analysis_metro_name_OC'),\n",
       " (0.0, 'origin_analysis_metro_name_LA'),\n",
       " (0.0, 'origin_analysis_metro_name_Default (Unassigned)'),\n",
       " (0.0, 'driver_created_at_pdt_quarter'),\n",
       " (0.0, 'coupon_consumed'),\n",
       " (0.0, 'claimed_at_pdt_weekday_6'),\n",
       " (0.0, 'claimed_at_pdt_weekday_2'),\n",
       " (0.0, 'claimed_at_pdt_quarter_4'),\n",
       " (0.0, 'claimed_at_pdt_month_6'),\n",
       " (0.0, 'claimed_at_pdt_month_4'),\n",
       " (0.0, 'claimed_at_pdt_month_3'),\n",
       " (0.0, 'claimed_at_pdt_month_12'),\n",
       " (0.0, 'claimed_at_pdt_month_10'),\n",
       " (0.0, 'claimed_at_pdt_hour_8'),\n",
       " (0.0, 'claimed_at_pdt_hour_7'),\n",
       " (0.0, 'claimed_at_pdt_hour_5'),\n",
       " (0.0, 'claimed_at_pdt_hour_20'),\n",
       " (0.0, 'claimed_at_pdt_hour_18'),\n",
       " (0.0, 'claimed_at_pdt_hour_12'),\n",
       " (0.0, 'claimed_at_pdt_hour_11')]"
      ]
     },
     "execution_count": 17,
     "metadata": {},
     "output_type": "execute_result"
    }
   ],
   "source": [
    "importances = list(zip(model.feature_importances_, X_train.columns))\n",
    "importances.sort(reverse=True)\n",
    "importances"
   ]
  },
  {
   "cell_type": "code",
   "execution_count": 18,
   "metadata": {},
   "outputs": [
    {
     "data": {
      "text/plain": [
       "dict_values(['avg_prior_arrived_late_seconds', 'claimed_before_trip_start_secs', 'origin_location_id', 'driver_previous_completed_trips', 'driver_home_lon', 'driver_home_lat', 'driver_id', 'scheduled_starts_at_pdt_hour', 'driver_created_at_pdt_dayofyear', 'destination_location_id'])"
      ]
     },
     "execution_count": 18,
     "metadata": {},
     "output_type": "execute_result"
    }
   ],
   "source": [
    "# top 10 importances\n",
    "dict(importances[:10]).values()\n"
   ]
  },
  {
   "cell_type": "code",
   "execution_count": 19,
   "metadata": {},
   "outputs": [
    {
     "data": {
      "text/plain": [
       "157"
      ]
     },
     "execution_count": 19,
     "metadata": {},
     "output_type": "execute_result"
    }
   ],
   "source": [
    "# number of non-zero features used\n",
    "len([(i,f) for i, f in importances if i > 0])"
   ]
  },
  {
   "cell_type": "code",
   "execution_count": 20,
   "metadata": {},
   "outputs": [
    {
     "data": {
      "text/plain": [
       "28"
      ]
     },
     "execution_count": 20,
     "metadata": {},
     "output_type": "execute_result"
    }
   ],
   "source": [
    "# number of features with importance above 1%\n",
    "len([(i,f) for i, f in importances if i > 0.01])"
   ]
  },
  {
   "cell_type": "code",
   "execution_count": 36,
   "metadata": {},
   "outputs": [
    {
     "data": {
      "text/plain": [
       "<matplotlib.axes._subplots.AxesSubplot at 0x120b99cc0>"
      ]
     },
     "execution_count": 36,
     "metadata": {},
     "output_type": "execute_result"
    },
    {
     "data": {
      "image/png": "[encoded data removed]",
      "text/plain": [
       "<Figure size 432x288 with 1 Axes>"
      ]
     },
     "metadata": {},
     "output_type": "display_data"
    }
   ],
   "source": [
    "pd.DataFrame(importances[:10], index=[x for (_,x) in importances[:10] ]).plot(kind = 'bar')"
   ]
  },
  {
   "cell_type": "code",
   "execution_count": 22,
   "metadata": {},
   "outputs": [
    {
     "data": {
      "text/plain": [
       "0.2888052267156406"
      ]
     },
     "execution_count": 22,
     "metadata": {},
     "output_type": "execute_result"
    }
   ],
   "source": [
    "# score against TRAINING set\n",
    "model.score(X_train,y_train)"
   ]
  },
  {
   "cell_type": "code",
   "execution_count": 23,
   "metadata": {},
   "outputs": [
    {
     "data": {
      "text/plain": [
       "0.2585993184978693"
      ]
     },
     "execution_count": 23,
     "metadata": {},
     "output_type": "execute_result"
    }
   ],
   "source": [
    "# score against TEST set\n",
    "model.score(X_test,y_test)"
   ]
  },
  {
   "cell_type": "code",
   "execution_count": 24,
   "metadata": {},
   "outputs": [
    {
     "data": {
      "text/plain": [
       "25135"
      ]
     },
     "execution_count": 24,
     "metadata": {},
     "output_type": "execute_result"
    }
   ],
   "source": [
    "model_y_test_pred = model.predict(X_test)\n",
    "model_y_test_pred.size"
   ]
  },
  {
   "cell_type": "code",
   "execution_count": 25,
   "metadata": {},
   "outputs": [
    {
     "data": {
      "text/plain": [
       "numpy.ndarray"
      ]
     },
     "execution_count": 25,
     "metadata": {},
     "output_type": "execute_result"
    }
   ],
   "source": [
    "type(model_y_test_pred)"
   ]
  },
  {
   "cell_type": "code",
   "execution_count": 26,
   "metadata": {},
   "outputs": [
    {
     "data": {
      "text/plain": [
       "array([-114.95344448, -197.87626334, -815.34333596, -345.67755176,\n",
       "       -284.60035075, -284.06412118, -255.5459281 , -432.15729758,\n",
       "       -849.20471326, -336.15643824])"
      ]
     },
     "execution_count": 26,
     "metadata": {},
     "output_type": "execute_result"
    }
   ],
   "source": [
    "model_y_test_pred[:10]"
   ]
  },
  {
   "cell_type": "code",
   "execution_count": 27,
   "metadata": {},
   "outputs": [
    {
     "data": {
      "text/plain": [
       "256.8197513172395"
      ]
     },
     "execution_count": 27,
     "metadata": {},
     "output_type": "execute_result"
    }
   ],
   "source": [
    "pd.Series(model_y_test_pred).std()"
   ]
  },
  {
   "cell_type": "code",
   "execution_count": 28,
   "metadata": {},
   "outputs": [
    {
     "data": {
      "text/plain": [
       "-0.011136453145618811"
      ]
     },
     "execution_count": 28,
     "metadata": {},
     "output_type": "execute_result"
    }
   ],
   "source": [
    "pd.Series(model_y_test_pred).corr(y_test)"
   ]
  },
  {
   "cell_type": "code",
   "execution_count": 29,
   "metadata": {},
   "outputs": [
    {
     "name": "stdout",
     "output_type": "stream",
     "text": [
      "0.259 7.35 194564 0.259 321 232 3.87\n"
     ]
    }
   ],
   "source": [
    "# regression metrics\n",
    "from sklearn.metrics import explained_variance_score, mean_squared_error, r2_score, mean_absolute_error, median_absolute_error\n",
    "from math import sqrt\n",
    "print (\"%.3f %.2f %.0f %.3f %.0f %.0f %.2f\" % \n",
    "       (explained_variance_score(y_test, model_y_test_pred),\n",
    "        sqrt(mean_squared_error(y_test, model_y_test_pred))/60, # sqrt of MSE in minutes\n",
    "        mean_squared_error(y_test, model_y_test_pred), \n",
    "        r2_score(y_test, model_y_test_pred), \n",
    "        mean_absolute_error(y_test, model_y_test_pred), \n",
    "        median_absolute_error(y_test, model_y_test_pred),\n",
    "        median_absolute_error(y_test, model_y_test_pred)/60 # MAE in minutes\n",
    "       ))"
   ]
  },
  {
   "cell_type": "code",
   "execution_count": 30,
   "metadata": {},
   "outputs": [
    {
     "data": {
      "text/plain": [
       "array([  0., 300., 900.])"
      ]
     },
     "execution_count": 30,
     "metadata": {},
     "output_type": "execute_result"
    }
   ],
   "source": [
    "# make classifications from seconds late target\n",
    "bins = np.array([0.0, 5*60, 15*60]) # 0 on-time, 1 almost on-time, 2 late, 3 extremely late\n",
    "bins"
   ]
  },
  {
   "cell_type": "code",
   "execution_count": 31,
   "metadata": {},
   "outputs": [
    {
     "data": {
      "text/plain": [
       "array([1, 1, 0, 0, 0, 1, 0, 0, 1, 0])"
      ]
     },
     "execution_count": 31,
     "metadata": {},
     "output_type": "execute_result"
    }
   ],
   "source": [
    "np.digitize(y_test, bins)[:10]"
   ]
  },
  {
   "cell_type": "code",
   "execution_count": 32,
   "metadata": {
    "scrolled": true
   },
   "outputs": [
    {
     "name": "stdout",
     "output_type": "stream",
     "text": [
      "[[    0 21156]\n",
      " [    1  2939]\n",
      " [    2   892]\n",
      " [    3   148]]\n"
     ]
    }
   ],
   "source": [
    "# materialize y_test_class array\n",
    "# check to see how many trips are categorized as 0 on-time, 1 almost on-time, 2 late, 3 extremely late\n",
    "y_test_class=np.digitize(y_test, bins)\n",
    "unique, counts = np.unique(y_test_class, return_counts=True)\n",
    "print(np.asarray((unique, counts)).T)"
   ]
  },
  {
   "cell_type": "code",
   "execution_count": 33,
   "metadata": {},
   "outputs": [
    {
     "name": "stdout",
     "output_type": "stream",
     "text": [
      "[[    0 24822]\n",
      " [    1   245]\n",
      " [    2    54]\n",
      " [    3    14]]\n"
     ]
    }
   ],
   "source": [
    "# materialize model_y_pred_class\n",
    "# check to see how many trips are categorized as 0 on-time, 1 almost on-time, 2 late, 3 extremely late\n",
    "model_y_test_pred_class=np.digitize(model_y_test_pred, bins)\n",
    "print(np.asarray(np.unique(model_y_test_pred_class, return_counts=True)).T)"
   ]
  },
  {
   "cell_type": "code",
   "execution_count": 34,
   "metadata": {},
   "outputs": [
    {
     "name": "stdout",
     "output_type": "stream",
     "text": [
      "             precision    recall  f1-score   support\n",
      "\n",
      "          0       0.85      0.99      0.92     21156\n",
      "          1       0.43      0.04      0.07      2939\n",
      "          2       0.41      0.02      0.05       892\n",
      "          3       0.50      0.05      0.09       148\n",
      "\n",
      "avg / total       0.78      0.84      0.78     25135\n",
      "\n"
     ]
    }
   ],
   "source": [
    "from sklearn.metrics import classification_report\n",
    "print(classification_report(y_test_class,model_y_test_pred_class))"
   ]
  },
  {
   "cell_type": "code",
   "execution_count": 35,
   "metadata": {},
   "outputs": [
    {
     "name": "stdout",
     "output_type": "stream",
     "text": [
      "[[21041   106     8     1]\n",
      " [ 2820   105    11     3]\n",
      " [  843    24    22     3]\n",
      " [  118    10    13     7]]\n"
     ]
    }
   ],
   "source": [
    "from sklearn.metrics import confusion_matrix\n",
    "print(confusion_matrix(y_test_class,model_y_test_pred_class,labels=[0,1,2,3]))"
   ]
  },
  {
   "cell_type": "code",
   "execution_count": null,
   "metadata": {},
   "outputs": [],
   "source": []
  }
 ],
 "metadata": {
  "kernelspec": {
   "display_name": "Python 3",
   "language": "python",
   "name": "python3"
  },
  "language_info": {
   "codemirror_mode": {
    "name": "ipython",
    "version": 3
   },
   "file_extension": ".py",
   "mimetype": "text/x-python",
   "name": "python",
   "nbconvert_exporter": "python",
   "pygments_lexer": "ipython3",
   "version": "3.6.5"
  }
 },
 "nbformat": 4,
 "nbformat_minor": 2
}
