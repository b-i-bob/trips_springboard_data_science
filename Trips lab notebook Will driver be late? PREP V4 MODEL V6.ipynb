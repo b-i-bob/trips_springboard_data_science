{
 "cells": [
  {
   "cell_type": "markdown",
   "metadata": {},
   "source": [
    "### Linear regression model V6\n",
    "with 6*7=42 additional date properies"
   ]
  },
  {
   "cell_type": "code",
   "execution_count": 1,
   "metadata": {},
   "outputs": [],
   "source": [
    "fileprefix='./lateness_PREP_V4_'"
   ]
  },
  {
   "cell_type": "code",
   "execution_count": 2,
   "metadata": {},
   "outputs": [],
   "source": [
    "import pandas as pd\n",
    "import numpy as np"
   ]
  },
  {
   "cell_type": "code",
   "execution_count": 3,
   "metadata": {},
   "outputs": [],
   "source": [
    "df_X=pd.read_csv(fileprefix+'X.csv', sep='\\t')"
   ]
  },
  {
   "cell_type": "code",
   "execution_count": 4,
   "metadata": {},
   "outputs": [
    {
     "data": {
      "text/plain": [
       "(125675, 87)"
      ]
     },
     "execution_count": 4,
     "metadata": {},
     "output_type": "execute_result"
    }
   ],
   "source": [
    "df_X.shape"
   ]
  },
  {
   "cell_type": "code",
   "execution_count": 5,
   "metadata": {},
   "outputs": [],
   "source": [
    "df_y=pd.read_csv(fileprefix+'y.csv', sep='\\t', header=None)"
   ]
  },
  {
   "cell_type": "code",
   "execution_count": 6,
   "metadata": {},
   "outputs": [
    {
     "data": {
      "text/plain": [
       "(125675, 2)"
      ]
     },
     "execution_count": 6,
     "metadata": {},
     "output_type": "execute_result"
    }
   ],
   "source": [
    "type(df_y)\n",
    "df_y.shape"
   ]
  },
  {
   "cell_type": "code",
   "execution_count": 7,
   "metadata": {},
   "outputs": [],
   "source": [
    "y=df_y.iloc[:,1]"
   ]
  },
  {
   "cell_type": "code",
   "execution_count": 9,
   "metadata": {},
   "outputs": [
    {
     "data": {
      "text/plain": [
       "(125675,)"
      ]
     },
     "execution_count": 9,
     "metadata": {},
     "output_type": "execute_result"
    }
   ],
   "source": [
    "y.shape"
   ]
  },
  {
   "cell_type": "code",
   "execution_count": 10,
   "metadata": {
    "scrolled": true
   },
   "outputs": [
    {
     "data": {
      "text/plain": [
       "0   -497.0\n",
       "1      5.0\n",
       "2   -313.0\n",
       "3   -296.0\n",
       "4   -166.0\n",
       "Name: 1, dtype: float64"
      ]
     },
     "execution_count": 10,
     "metadata": {},
     "output_type": "execute_result"
    }
   ],
   "source": [
    "y.head()"
   ]
  },
  {
   "cell_type": "code",
   "execution_count": 11,
   "metadata": {},
   "outputs": [
    {
     "data": {
      "text/html": [
       "<div>\n",
       "<style scoped>\n",
       "    .dataframe tbody tr th:only-of-type {\n",
       "        vertical-align: middle;\n",
       "    }\n",
       "\n",
       "    .dataframe tbody tr th {\n",
       "        vertical-align: top;\n",
       "    }\n",
       "\n",
       "    .dataframe thead th {\n",
       "        text-align: right;\n",
       "    }\n",
       "</style>\n",
       "<table border=\"1\" class=\"dataframe\">\n",
       "  <thead>\n",
       "    <tr style=\"text-align: right;\">\n",
       "      <th></th>\n",
       "      <th>Unnamed: 0</th>\n",
       "      <th>is_affiliate_int</th>\n",
       "      <th>driver_signup_before_trip_claimed_secs</th>\n",
       "      <th>claimed_at_pdt_weekofyear</th>\n",
       "      <th>trip_predicted_raw_fare</th>\n",
       "      <th>driver_created_at_pdt_dayofyear</th>\n",
       "      <th>claimed_after_created</th>\n",
       "      <th>created_at_pdt_month</th>\n",
       "      <th>driver_id</th>\n",
       "      <th>destination_region_id</th>\n",
       "      <th>...</th>\n",
       "      <th>organizer_home_lon</th>\n",
       "      <th>origin_location_id</th>\n",
       "      <th>scheduled_starts_at_pdt_weekday</th>\n",
       "      <th>coupon_consumed</th>\n",
       "      <th>organizer_home_lat</th>\n",
       "      <th>total_predicted_distance_miles</th>\n",
       "      <th>trip_template_id</th>\n",
       "      <th>lead_organizer_created_at_pdt_hour</th>\n",
       "      <th>is_same_day_ride_int</th>\n",
       "      <th>claimed_at_pdt_day</th>\n",
       "    </tr>\n",
       "  </thead>\n",
       "  <tbody>\n",
       "    <tr>\n",
       "      <th>0</th>\n",
       "      <td>5</td>\n",
       "      <td>0</td>\n",
       "      <td>18850635.0</td>\n",
       "      <td>6.0</td>\n",
       "      <td>32.50</td>\n",
       "      <td>186.0</td>\n",
       "      <td>2753.65</td>\n",
       "      <td>2</td>\n",
       "      <td>62969.0</td>\n",
       "      <td>36.0</td>\n",
       "      <td>...</td>\n",
       "      <td>-118.34</td>\n",
       "      <td>82879.0</td>\n",
       "      <td>1</td>\n",
       "      <td>0.0</td>\n",
       "      <td>34.17</td>\n",
       "      <td>10.0</td>\n",
       "      <td>0.0</td>\n",
       "      <td>19</td>\n",
       "      <td>0</td>\n",
       "      <td>7.0</td>\n",
       "    </tr>\n",
       "    <tr>\n",
       "      <th>1</th>\n",
       "      <td>6</td>\n",
       "      <td>0</td>\n",
       "      <td>16965945.0</td>\n",
       "      <td>3.0</td>\n",
       "      <td>23.09</td>\n",
       "      <td>186.0</td>\n",
       "      <td>5867.40</td>\n",
       "      <td>1</td>\n",
       "      <td>62969.0</td>\n",
       "      <td>36.0</td>\n",
       "      <td>...</td>\n",
       "      <td>-118.34</td>\n",
       "      <td>83958.0</td>\n",
       "      <td>1</td>\n",
       "      <td>0.0</td>\n",
       "      <td>34.08</td>\n",
       "      <td>5.0</td>\n",
       "      <td>6325.0</td>\n",
       "      <td>19</td>\n",
       "      <td>0</td>\n",
       "      <td>17.0</td>\n",
       "    </tr>\n",
       "    <tr>\n",
       "      <th>2</th>\n",
       "      <td>7</td>\n",
       "      <td>0</td>\n",
       "      <td>18686136.0</td>\n",
       "      <td>5.0</td>\n",
       "      <td>17.81</td>\n",
       "      <td>186.0</td>\n",
       "      <td>32.20</td>\n",
       "      <td>2</td>\n",
       "      <td>62969.0</td>\n",
       "      <td>48.0</td>\n",
       "      <td>...</td>\n",
       "      <td>-118.11</td>\n",
       "      <td>84580.0</td>\n",
       "      <td>2</td>\n",
       "      <td>0.0</td>\n",
       "      <td>34.16</td>\n",
       "      <td>5.0</td>\n",
       "      <td>0.0</td>\n",
       "      <td>20</td>\n",
       "      <td>0</td>\n",
       "      <td>5.0</td>\n",
       "    </tr>\n",
       "    <tr>\n",
       "      <th>3</th>\n",
       "      <td>8</td>\n",
       "      <td>0</td>\n",
       "      <td>17717081.0</td>\n",
       "      <td>4.0</td>\n",
       "      <td>22.56</td>\n",
       "      <td>186.0</td>\n",
       "      <td>22.28</td>\n",
       "      <td>1</td>\n",
       "      <td>62969.0</td>\n",
       "      <td>36.0</td>\n",
       "      <td>...</td>\n",
       "      <td>-118.22</td>\n",
       "      <td>87880.0</td>\n",
       "      <td>3</td>\n",
       "      <td>0.0</td>\n",
       "      <td>34.05</td>\n",
       "      <td>7.0</td>\n",
       "      <td>0.0</td>\n",
       "      <td>20</td>\n",
       "      <td>0</td>\n",
       "      <td>25.0</td>\n",
       "    </tr>\n",
       "    <tr>\n",
       "      <th>4</th>\n",
       "      <td>9</td>\n",
       "      <td>0</td>\n",
       "      <td>16879496.0</td>\n",
       "      <td>3.0</td>\n",
       "      <td>36.19</td>\n",
       "      <td>186.0</td>\n",
       "      <td>150534.13</td>\n",
       "      <td>10</td>\n",
       "      <td>62969.0</td>\n",
       "      <td>33.0</td>\n",
       "      <td>...</td>\n",
       "      <td>-118.38</td>\n",
       "      <td>92149.0</td>\n",
       "      <td>0</td>\n",
       "      <td>0.0</td>\n",
       "      <td>34.12</td>\n",
       "      <td>13.0</td>\n",
       "      <td>3719.0</td>\n",
       "      <td>19</td>\n",
       "      <td>0</td>\n",
       "      <td>16.0</td>\n",
       "    </tr>\n",
       "  </tbody>\n",
       "</table>\n",
       "<p>5 rows × 87 columns</p>\n",
       "</div>"
      ],
      "text/plain": [
       "   Unnamed: 0  is_affiliate_int  driver_signup_before_trip_claimed_secs  \\\n",
       "0           5                 0                              18850635.0   \n",
       "1           6                 0                              16965945.0   \n",
       "2           7                 0                              18686136.0   \n",
       "3           8                 0                              17717081.0   \n",
       "4           9                 0                              16879496.0   \n",
       "\n",
       "   claimed_at_pdt_weekofyear  trip_predicted_raw_fare  \\\n",
       "0                        6.0                    32.50   \n",
       "1                        3.0                    23.09   \n",
       "2                        5.0                    17.81   \n",
       "3                        4.0                    22.56   \n",
       "4                        3.0                    36.19   \n",
       "\n",
       "   driver_created_at_pdt_dayofyear  claimed_after_created  \\\n",
       "0                            186.0                2753.65   \n",
       "1                            186.0                5867.40   \n",
       "2                            186.0                  32.20   \n",
       "3                            186.0                  22.28   \n",
       "4                            186.0              150534.13   \n",
       "\n",
       "   created_at_pdt_month  driver_id  destination_region_id         ...          \\\n",
       "0                     2    62969.0                   36.0         ...           \n",
       "1                     1    62969.0                   36.0         ...           \n",
       "2                     2    62969.0                   48.0         ...           \n",
       "3                     1    62969.0                   36.0         ...           \n",
       "4                    10    62969.0                   33.0         ...           \n",
       "\n",
       "   organizer_home_lon  origin_location_id  scheduled_starts_at_pdt_weekday  \\\n",
       "0             -118.34             82879.0                                1   \n",
       "1             -118.34             83958.0                                1   \n",
       "2             -118.11             84580.0                                2   \n",
       "3             -118.22             87880.0                                3   \n",
       "4             -118.38             92149.0                                0   \n",
       "\n",
       "   coupon_consumed  organizer_home_lat  total_predicted_distance_miles  \\\n",
       "0              0.0               34.17                            10.0   \n",
       "1              0.0               34.08                             5.0   \n",
       "2              0.0               34.16                             5.0   \n",
       "3              0.0               34.05                             7.0   \n",
       "4              0.0               34.12                            13.0   \n",
       "\n",
       "   trip_template_id  lead_organizer_created_at_pdt_hour  is_same_day_ride_int  \\\n",
       "0               0.0                                  19                     0   \n",
       "1            6325.0                                  19                     0   \n",
       "2               0.0                                  20                     0   \n",
       "3               0.0                                  20                     0   \n",
       "4            3719.0                                  19                     0   \n",
       "\n",
       "   claimed_at_pdt_day  \n",
       "0                 7.0  \n",
       "1                17.0  \n",
       "2                 5.0  \n",
       "3                25.0  \n",
       "4                16.0  \n",
       "\n",
       "[5 rows x 87 columns]"
      ]
     },
     "execution_count": 11,
     "metadata": {},
     "output_type": "execute_result"
    }
   ],
   "source": [
    "df_X.head()"
   ]
  },
  {
   "cell_type": "code",
   "execution_count": 12,
   "metadata": {},
   "outputs": [
    {
     "data": {
      "text/plain": [
       "count     125675.0\n",
       "mean        -507.0\n",
       "std        22763.0\n",
       "min     -7862491.0\n",
       "25%         -657.0\n",
       "50%         -324.0\n",
       "75%          -96.0\n",
       "max       204537.0\n",
       "Name: 1, dtype: float64"
      ]
     },
     "execution_count": 12,
     "metadata": {},
     "output_type": "execute_result"
    }
   ],
   "source": [
    "y.describe().round()"
   ]
  },
  {
   "cell_type": "code",
   "execution_count": 13,
   "metadata": {},
   "outputs": [],
   "source": [
    "# break df_X,y into test and train sets\n",
    "from sklearn.model_selection import train_test_split\n",
    "X_train, X_test, y_train, y_test = train_test_split(df_X, y, test_size=0.20, random_state=808)"
   ]
  },
  {
   "cell_type": "code",
   "execution_count": 17,
   "metadata": {},
   "outputs": [
    {
     "name": "stdout",
     "output_type": "stream",
     "text": [
      "(100540, 87)\n",
      "(25135, 87)\n",
      "(100540,)\n",
      "(25135,)\n"
     ]
    }
   ],
   "source": [
    "for i in X_train, X_test, y_train, y_test:\n",
    "    print(i.shape)"
   ]
  },
  {
   "cell_type": "code",
   "execution_count": 19,
   "metadata": {},
   "outputs": [],
   "source": [
    "# select a linear model\n",
    "import sklearn.linear_model\n",
    "model=sklearn.linear_model.LinearRegression(normalize=True)"
   ]
  },
  {
   "cell_type": "code",
   "execution_count": 20,
   "metadata": {},
   "outputs": [],
   "source": [
    "# fit model\n",
    "model=model.fit(X_train,y_train)"
   ]
  },
  {
   "cell_type": "code",
   "execution_count": 21,
   "metadata": {},
   "outputs": [
    {
     "data": {
      "text/plain": [
       "array([-4.48502055e-04, -2.14803827e+01, -2.75582885e+07,  2.16991066e-01,\n",
       "       -6.37840858e+00, -1.06813335e+05, -4.66268197e-01,  8.18034503e+02,\n",
       "        2.71269675e-03,  1.75649611e+00, -2.86423781e+01,  1.07384914e+05,\n",
       "        2.57939387e+01, -3.95573008e+12,  2.32386900e+07,  1.67563753e+13,\n",
       "       -2.21731439e+00, -8.79555505e+00,  5.56149689e+02,  1.76012066e+01,\n",
       "       -2.74785628e+01,  4.00039781e-01,  7.19978703e-04,  6.08031763e+02,\n",
       "       -1.22216968e+07,  8.36130248e+00, -5.83605049e+01,  1.26639702e+01,\n",
       "        1.86717153e+03,  6.34082917e+01,  1.17573677e-01,  2.04511963e+06,\n",
       "        1.60090486e+02,  7.51680443e+05,  1.13827522e+01, -2.27344963e-03,\n",
       "        1.15159438e+02, -1.88828331e+02,  7.75549895e+03, -7.77589278e-04,\n",
       "        4.25220122e+12,  2.37555933e+12, -2.27407947e+02,  1.38968918e+01,\n",
       "        8.09618746e+00,  2.26954450e+00,  4.37503360e+06, -3.56467826e+11,\n",
       "        7.76229746e+02, -1.29242407e+02, -1.00326021e+02,  3.15078791e+01,\n",
       "        8.40006820e-01,  2.23806608e+00, -5.54351156e+04, -2.10055475e+06,\n",
       "       -4.83011889e-03,  8.22818453e+01,  2.19501343e+12, -1.14151502e+02,\n",
       "       -2.96471140e+11,  9.94721798e+06, -2.29465578e+03,  1.34891347e+12,\n",
       "       -1.32341951e+02, -1.53365917e+07, -5.79194585e+01,  3.74530757e+01,\n",
       "        2.64259547e+01, -1.67563753e+13,  6.48932320e+01, -1.34891347e+12,\n",
       "        7.64878967e+01, -7.79498269e+01,  3.95573008e+12, -6.77602346e+01,\n",
       "        7.20061248e+00, -1.70303617e+01, -9.08255359e-04, -3.59926226e+12,\n",
       "        2.15140803e+00, -5.84112625e+01,  4.18647095e+00,  1.24827354e-02,\n",
       "        1.92401953e+00, -1.54049925e+02,  6.49094181e+01])"
      ]
     },
     "execution_count": 21,
     "metadata": {},
     "output_type": "execute_result"
    }
   ],
   "source": [
    "model.coef_"
   ]
  },
  {
   "cell_type": "code",
   "execution_count": 22,
   "metadata": {
    "collapsed": true
   },
   "outputs": [
    {
     "data": {
      "text/plain": [
       "0                  0\n",
       "1                -21\n",
       "2          -27558288\n",
       "3                  0\n",
       "4                 -6\n",
       "5            -106813\n",
       "6                  0\n",
       "7                818\n",
       "8                  0\n",
       "9                  1\n",
       "10               -28\n",
       "11            107384\n",
       "12                25\n",
       "13    -3955730084021\n",
       "14          23238690\n",
       "15    16756375322640\n",
       "16                -2\n",
       "17                -8\n",
       "18               556\n",
       "19                17\n",
       "20               -27\n",
       "21                 0\n",
       "22                 0\n",
       "23               608\n",
       "24         -12221696\n",
       "25                 8\n",
       "26               -58\n",
       "27                12\n",
       "28              1867\n",
       "29                63\n",
       "           ...      \n",
       "57                82\n",
       "58     2195013432418\n",
       "59              -114\n",
       "60     -296471140053\n",
       "61           9947217\n",
       "62             -2294\n",
       "63     1348913470005\n",
       "64              -132\n",
       "65         -15336591\n",
       "66               -57\n",
       "67                37\n",
       "68                26\n",
       "69   -16756375324581\n",
       "70                64\n",
       "71    -1348913470810\n",
       "72                76\n",
       "73               -77\n",
       "74     3955730083953\n",
       "75               -67\n",
       "76                 7\n",
       "77               -17\n",
       "78                 0\n",
       "79    -3599262256630\n",
       "80                 2\n",
       "81               -58\n",
       "82                 4\n",
       "83                 0\n",
       "84                 1\n",
       "85              -154\n",
       "86                64\n",
       "Length: 87, dtype: int64"
      ]
     },
     "execution_count": 22,
     "metadata": {},
     "output_type": "execute_result"
    }
   ],
   "source": [
    "pd.Series(model.coef_).astype(int)"
   ]
  },
  {
   "cell_type": "code",
   "execution_count": 23,
   "metadata": {},
   "outputs": [
    {
     "data": {
      "text/plain": [
       "-3264695352127.095"
      ]
     },
     "execution_count": 23,
     "metadata": {},
     "output_type": "execute_result"
    }
   ],
   "source": [
    "model.intercept_"
   ]
  },
  {
   "cell_type": "code",
   "execution_count": 24,
   "metadata": {
    "scrolled": true
   },
   "outputs": [
    {
     "data": {
      "text/plain": [
       "Unnamed: 0                                 6.259357e+04\n",
       "is_affiliate_int                           2.673397e-01\n",
       "driver_signup_before_trip_claimed_secs     1.236846e+07\n",
       "claimed_at_pdt_weekofyear                  1.507907e+01\n",
       "trip_predicted_raw_fare                    1.222204e+01\n",
       "driver_created_at_pdt_dayofyear            8.074870e+01\n",
       "claimed_after_created                      3.024465e+04\n",
       "created_at_pdt_month                       3.496608e+00\n",
       "driver_id                                  3.646652e+04\n",
       "destination_region_id                      1.422844e+01\n",
       "driver_home_lon                            1.696783e+00\n",
       "driver_created_at_pdt_weekday              1.582086e+00\n",
       "created_at_pdt_day                         8.901218e+00\n",
       "scheduled_ends_at_pdt_day                  8.724890e+00\n",
       "driver_signup_before_trip_created_secs     1.246842e+07\n",
       "scheduled_ends_at_pdt_month                3.471655e+00\n",
       "created_at_pdt_hour                        4.993326e+00\n",
       "claimed_at_pdt_hour                        5.783854e+00\n",
       "driver_created_at_pdt_month                2.614661e+00\n",
       "driver_created_at_pdt_day                  9.002556e+00\n",
       "created_at_pdt_dayofyear                   1.064046e+02\n",
       "driver_previous_completed_trips            3.427828e+02\n",
       "destination_location_id                    3.688729e+04\n",
       "origin_lat                                 1.466141e+00\n",
       "claimed_before_trip_start_secs             2.381955e+05\n",
       "created_at_pdt_weekday                     2.166007e+00\n",
       "scheduled_ends_at_pdt_hour                 3.780759e+00\n",
       "predicted_driver_fare                      5.895252e+00\n",
       "claimed_at_pdt_month                       3.474735e+00\n",
       "destination_lon                            1.570260e+00\n",
       "                                               ...     \n",
       "organizers_count                           1.717336e-01\n",
       "scheduled_ends_at_pdt_weekofyear           1.507374e+01\n",
       "destination_lat                            1.466265e+00\n",
       "scheduled_ends_at_pdt_dayofyear            1.054582e+02\n",
       "trip_created_before_trip_start_secs        1.920172e+06\n",
       "lead_organizer_created_at_pdt_month        2.500288e+00\n",
       "scheduled_ends_at_pdt_quarter              1.150273e+00\n",
       "lead_organizer_created_at_pdt_quarter      8.076552e-01\n",
       "trip_claimed_after_trip_created            1.814771e+06\n",
       "shuttle_int                                9.784898e-02\n",
       "created_at_pdt_quarter                     1.135271e+00\n",
       "driver_created_at_pdt_hour                 2.327096e+00\n",
       "scheduled_starts_at_pdt_month              3.471655e+00\n",
       "carpool_int                                1.312920e-01\n",
       "scheduled_starts_at_pdt_quarter            1.150273e+00\n",
       "lead_organizer_created_at_pdt_dayofyear    7.665583e+01\n",
       "lead_organizer_created_at_pdt_day          9.349237e+00\n",
       "scheduled_starts_at_pdt_day                8.724887e+00\n",
       "claimed_at_pdt_dayofyear                   1.055471e+02\n",
       "claimed_at_pdt_weekday                     2.004019e+00\n",
       "organizer_home_lon                         1.100766e+01\n",
       "origin_location_id                         3.680007e+04\n",
       "scheduled_starts_at_pdt_weekday            1.357037e+00\n",
       "coupon_consumed                            7.915962e-02\n",
       "organizer_home_lat                         3.493593e+00\n",
       "total_predicted_distance_miles             5.668047e+00\n",
       "trip_template_id                           5.735203e+03\n",
       "lead_organizer_created_at_pdt_hour         4.782270e+00\n",
       "is_same_day_ride_int                       1.590459e-01\n",
       "claimed_at_pdt_day                         8.788468e+00\n",
       "Length: 87, dtype: float64"
      ]
     },
     "execution_count": 24,
     "metadata": {},
     "output_type": "execute_result"
    }
   ],
   "source": [
    "X_train.std()"
   ]
  },
  {
   "cell_type": "code",
   "execution_count": 25,
   "metadata": {},
   "outputs": [
    {
     "data": {
      "text/plain": [
       "scheduled_starts_at_pdt_month             -4826625252702\n",
       "scheduled_starts_at_pdt_weekday           -2652294102294\n",
       "scheduled_starts_at_pdt_quarter           -1172689482052\n",
       "scheduled_ends_at_pdt_day                  -453384503322\n",
       "scheduled_starts_at_pdt_dayofyear            -3380179687\n",
       "scheduled_ends_at_pdt_dayofyear              -2811266430\n",
       "driver_created_at_pdt_dayofyear                    -1322\n",
       "is_same_day_ride_int                                -968\n",
       "lead_organizer_created_at_pdt_month                 -917\n",
       "route_legs_count                                    -813\n",
       "shuttle_int                                         -591\n",
       "lead_organizer_created_at_pdt_quarter               -163\n",
       "driver_home_lat                                     -127\n",
       "driver_created_at_pdt_quarter                       -113\n",
       "is_affiliate_int                                     -80\n",
       "destination_lat                                      -77\n",
       "claimed_before_trip_start_secs                       -51\n",
       "driver_home_lon                                      -16\n",
       "organizer_home_lat                                   -16\n",
       "scheduled_ends_at_pdt_hour                           -15\n",
       "trip_claimed_after_trip_created                       -8\n",
       "lead_organizer_created_at_pdt_day                     -8\n",
       "driver_signup_before_trip_claimed_secs                -2\n",
       "organizer_home_lon                                    -1\n",
       "claimed_at_pdt_hour                                   -1\n",
       "claimed_at_pdt_dayofyear                               0\n",
       "trip_predicted_raw_fare                                0\n",
       "created_at_pdt_hour                                    0\n",
       "created_at_pdt_dayofyear                               0\n",
       "trip_est_duration_secs                                 0\n",
       "                                               ...      \n",
       "claimed_at_pdt_weekday                                 3\n",
       "scheduled_starts_at_pdt_hour                           3\n",
       "created_at_pdt_weekday                                 3\n",
       "lead_organizer_created_at_pdt_weekday                  5\n",
       "trip_created_before_trip_start_secs                    5\n",
       "claimed_at_pdt_day                                     7\n",
       "driver_created_at_pdt_hour                            11\n",
       "passengers_count                                      13\n",
       "coupon_consumed                                       27\n",
       "created_at_pdt_quarter                                32\n",
       "destination_lon                                       40\n",
       "is_repeating_ride_int                                 66\n",
       "origin_lon                                           101\n",
       "driver_created_at_pdt_month                          212\n",
       "driver_has_driven_this_route_before_int              232\n",
       "created_at_pdt_month                                 233\n",
       "origin_lat                                           414\n",
       "organizers_count                                     479\n",
       "carpool_int                                          494\n",
       "claimed_at_pdt_month                                 537\n",
       "total_predicted_duration                             618\n",
       "claimed_at_pdt_quarter                               677\n",
       "driver_created_at_pdt_weekofyear                   65568\n",
       "driver_created_at_pdt_weekday                      67875\n",
       "scheduled_ends_at_pdt_weekofyear            145618321842\n",
       "scheduled_starts_at_pdt_weekofyear          157595829644\n",
       "scheduled_starts_at_pdt_day                 453384689741\n",
       "scheduled_ends_at_pdt_quarter              1172689481352\n",
       "scheduled_ends_at_pdt_weekday              3133215481090\n",
       "scheduled_ends_at_pdt_month                4826625252143\n",
       "Length: 87, dtype: int64"
      ]
     },
     "execution_count": 25,
     "metadata": {},
     "output_type": "execute_result"
    }
   ],
   "source": [
    "# normalize the linear model coefficients by the standard deviation to see which features are most important\n",
    "(model.coef_/X_train.std()).sort_values(axis=0).astype(int)"
   ]
  },
  {
   "cell_type": "code",
   "execution_count": 26,
   "metadata": {},
   "outputs": [
    {
     "data": {
      "text/plain": [
       "0.9500664062874965"
      ]
     },
     "execution_count": 26,
     "metadata": {},
     "output_type": "execute_result"
    }
   ],
   "source": [
    "# score against TRAINING set\n",
    "model.score(X_train,y_train)"
   ]
  },
  {
   "cell_type": "code",
   "execution_count": 27,
   "metadata": {},
   "outputs": [
    {
     "data": {
      "text/plain": [
       "-0.02745112471696065"
      ]
     },
     "execution_count": 27,
     "metadata": {},
     "output_type": "execute_result"
    }
   ],
   "source": [
    "# score against TEST set\n",
    "model.score(X_test,y_test)"
   ]
  },
  {
   "cell_type": "code",
   "execution_count": 28,
   "metadata": {},
   "outputs": [
    {
     "data": {
      "text/plain": [
       "25135"
      ]
     },
     "execution_count": 28,
     "metadata": {},
     "output_type": "execute_result"
    }
   ],
   "source": [
    "model_y_test_pred = model.predict(X_test)\n",
    "model_y_test_pred.size"
   ]
  },
  {
   "cell_type": "code",
   "execution_count": 29,
   "metadata": {},
   "outputs": [
    {
     "data": {
      "text/plain": [
       "numpy.ndarray"
      ]
     },
     "execution_count": 29,
     "metadata": {},
     "output_type": "execute_result"
    }
   ],
   "source": [
    "type(model_y_test_pred)"
   ]
  },
  {
   "cell_type": "code",
   "execution_count": 30,
   "metadata": {},
   "outputs": [
    {
     "data": {
      "text/plain": [
       "array([-253.70507812, -521.0390625 , -713.17724609, -573.08300781,\n",
       "       -245.01660156, -481.46679688, -655.80322266, -163.90332031,\n",
       "       -748.57958984, -397.52783203])"
      ]
     },
     "execution_count": 30,
     "metadata": {},
     "output_type": "execute_result"
    }
   ],
   "source": [
    "model_y_test_pred[:10]"
   ]
  },
  {
   "cell_type": "code",
   "execution_count": 31,
   "metadata": {},
   "outputs": [
    {
     "data": {
      "text/plain": [
       "287.4663860724478"
      ]
     },
     "execution_count": 31,
     "metadata": {},
     "output_type": "execute_result"
    }
   ],
   "source": [
    "pd.Series(model_y_test_pred).std()"
   ]
  },
  {
   "cell_type": "code",
   "execution_count": 32,
   "metadata": {},
   "outputs": [
    {
     "data": {
      "text/plain": [
       "0.014549252903096568"
      ]
     },
     "execution_count": 32,
     "metadata": {},
     "output_type": "execute_result"
    }
   ],
   "source": [
    "pd.Series(model_y_test_pred).corr(y_test)"
   ]
  },
  {
   "cell_type": "code",
   "execution_count": 33,
   "metadata": {},
   "outputs": [
    {
     "name": "stdout",
     "output_type": "stream",
     "text": [
      "-0.027 2140842 -0.027 455 335\n"
     ]
    }
   ],
   "source": [
    "# regression metrics\n",
    "from sklearn.metrics import explained_variance_score, mean_squared_error, r2_score, mean_absolute_error, median_absolute_error\n",
    "print (\"%.3f %.0f %.3f %.0f %.0f\" % \n",
    "       (explained_variance_score(y_test, model_y_test_pred),\n",
    "        mean_squared_error(y_test, model_y_test_pred), \n",
    "        r2_score(y_test, model_y_test_pred), \n",
    "        mean_absolute_error(y_test, model_y_test_pred), \n",
    "        median_absolute_error(y_test, model_y_test_pred)))"
   ]
  },
  {
   "cell_type": "code",
   "execution_count": 34,
   "metadata": {},
   "outputs": [
    {
     "data": {
      "text/plain": [
       "array([  0., 300., 900.])"
      ]
     },
     "execution_count": 34,
     "metadata": {},
     "output_type": "execute_result"
    }
   ],
   "source": [
    "# make classifications from seconds late target\n",
    "bins = np.array([0.0, 5*60, 15*60]) # 0 on-time, 1 almost on-time, 2 late, 3 extremely late\n",
    "bins"
   ]
  },
  {
   "cell_type": "code",
   "execution_count": 35,
   "metadata": {},
   "outputs": [
    {
     "data": {
      "text/plain": [
       "array([1, 1, 0, 0, 0, 1, 0, 0, 1, 0])"
      ]
     },
     "execution_count": 35,
     "metadata": {},
     "output_type": "execute_result"
    }
   ],
   "source": [
    "np.digitize(y_test, bins)[:10]"
   ]
  },
  {
   "cell_type": "code",
   "execution_count": 36,
   "metadata": {
    "scrolled": true
   },
   "outputs": [
    {
     "name": "stdout",
     "output_type": "stream",
     "text": [
      "[[    0 21156]\n",
      " [    1  2939]\n",
      " [    2   892]\n",
      " [    3   148]]\n"
     ]
    }
   ],
   "source": [
    "# materialize y_test_class array\n",
    "# check to see how many trips are categorized as 0 on-time, 1 almost on-time, 2 late, 3 extremely late\n",
    "y_test_class=np.digitize(y_test, bins)\n",
    "unique, counts = np.unique(y_test_class, return_counts=True)\n",
    "print(np.asarray((unique, counts)).T)"
   ]
  },
  {
   "cell_type": "code",
   "execution_count": 37,
   "metadata": {},
   "outputs": [
    {
     "name": "stdout",
     "output_type": "stream",
     "text": [
      "[[    0 24241]\n",
      " [    1   867]\n",
      " [    2    26]\n",
      " [    3     1]]\n"
     ]
    }
   ],
   "source": [
    "# materialize model_y_pred_class\n",
    "# check to see how many trips are categorized as 0 on-time, 1 almost on-time, 2 late, 3 extremely late\n",
    "model_y_test_pred_class=np.digitize(model_y_test_pred, bins)\n",
    "print(np.asarray(np.unique(model_y_test_pred_class, return_counts=True)).T)"
   ]
  },
  {
   "cell_type": "code",
   "execution_count": 38,
   "metadata": {},
   "outputs": [
    {
     "name": "stdout",
     "output_type": "stream",
     "text": [
      "             precision    recall  f1-score   support\n",
      "\n",
      "          0       0.84      0.97      0.90     21156\n",
      "          1       0.14      0.04      0.06      2939\n",
      "          2       0.04      0.00      0.00       892\n",
      "          3       0.00      0.00      0.00       148\n",
      "\n",
      "avg / total       0.73      0.82      0.77     25135\n",
      "\n"
     ]
    }
   ],
   "source": [
    "from sklearn.metrics import classification_report\n",
    "print(classification_report(y_test_class,model_y_test_pred_class))"
   ]
  },
  {
   "cell_type": "code",
   "execution_count": 39,
   "metadata": {},
   "outputs": [
    {
     "name": "stdout",
     "output_type": "stream",
     "text": [
      "[[20437   700    19     0]\n",
      " [ 2817   119     3     0]\n",
      " [  851    39     1     1]\n",
      " [  136     9     3     0]]\n"
     ]
    }
   ],
   "source": [
    "from sklearn.metrics import confusion_matrix\n",
    "print(confusion_matrix(y_test_class,model_y_test_pred_class,labels=[0,1,2,3]))"
   ]
  },
  {
   "cell_type": "code",
   "execution_count": null,
   "metadata": {},
   "outputs": [],
   "source": []
  }
 ],
 "metadata": {
  "kernelspec": {
   "display_name": "Python 3",
   "language": "python",
   "name": "python3"
  },
  "language_info": {
   "codemirror_mode": {
    "name": "ipython",
    "version": 3
   },
   "file_extension": ".py",
   "mimetype": "text/x-python",
   "name": "python",
   "nbconvert_exporter": "python",
   "pygments_lexer": "ipython3",
   "version": "3.6.5"
  }
 },
 "nbformat": 4,
 "nbformat_minor": 2
}
