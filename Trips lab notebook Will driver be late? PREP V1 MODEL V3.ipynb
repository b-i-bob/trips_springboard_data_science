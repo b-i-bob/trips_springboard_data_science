{
 "cells": [
  {
   "cell_type": "markdown",
   "metadata": {},
   "source": [
    "# Linear regression model V3\n",
    "normalize features"
   ]
  },
  {
   "cell_type": "code",
   "execution_count": 1,
   "metadata": {},
   "outputs": [],
   "source": [
    "fileprefix='./lateness_PREP_V1_'"
   ]
  },
  {
   "cell_type": "code",
   "execution_count": 2,
   "metadata": {},
   "outputs": [],
   "source": [
    "import pandas as pd\n",
    "import numpy as np"
   ]
  },
  {
   "cell_type": "code",
   "execution_count": 3,
   "metadata": {},
   "outputs": [],
   "source": [
    "df_X=pd.read_csv(fileprefix+'X.csv', sep='\\t')"
   ]
  },
  {
   "cell_type": "code",
   "execution_count": 4,
   "metadata": {},
   "outputs": [
    {
     "data": {
      "text/plain": [
       "(125675, 29)"
      ]
     },
     "execution_count": 4,
     "metadata": {},
     "output_type": "execute_result"
    }
   ],
   "source": [
    "df_X.shape"
   ]
  },
  {
   "cell_type": "code",
   "execution_count": 5,
   "metadata": {},
   "outputs": [],
   "source": [
    "df_y=pd.read_csv(fileprefix+'y.csv', sep='\\t', header=None)"
   ]
  },
  {
   "cell_type": "code",
   "execution_count": 6,
   "metadata": {},
   "outputs": [
    {
     "data": {
      "text/plain": [
       "(125675, 2)"
      ]
     },
     "execution_count": 6,
     "metadata": {},
     "output_type": "execute_result"
    }
   ],
   "source": [
    "type(df_y)\n",
    "df_y.shape"
   ]
  },
  {
   "cell_type": "code",
   "execution_count": 7,
   "metadata": {},
   "outputs": [],
   "source": [
    "y=df_y.iloc[:,1]"
   ]
  },
  {
   "cell_type": "code",
   "execution_count": 8,
   "metadata": {},
   "outputs": [
    {
     "data": {
      "text/plain": [
       "pandas.core.series.Series"
      ]
     },
     "execution_count": 8,
     "metadata": {},
     "output_type": "execute_result"
    }
   ],
   "source": [
    "type(y)"
   ]
  },
  {
   "cell_type": "code",
   "execution_count": 9,
   "metadata": {},
   "outputs": [
    {
     "data": {
      "text/plain": [
       "(125675,)"
      ]
     },
     "execution_count": 9,
     "metadata": {},
     "output_type": "execute_result"
    }
   ],
   "source": [
    "y.shape"
   ]
  },
  {
   "cell_type": "code",
   "execution_count": 10,
   "metadata": {
    "scrolled": true
   },
   "outputs": [
    {
     "data": {
      "text/plain": [
       "0   -497.0\n",
       "1      5.0\n",
       "2   -313.0\n",
       "3   -296.0\n",
       "4   -166.0\n",
       "Name: 1, dtype: float64"
      ]
     },
     "execution_count": 10,
     "metadata": {},
     "output_type": "execute_result"
    }
   ],
   "source": [
    "y.head()"
   ]
  },
  {
   "cell_type": "code",
   "execution_count": 11,
   "metadata": {},
   "outputs": [
    {
     "data": {
      "text/html": [
       "<div>\n",
       "<style scoped>\n",
       "    .dataframe tbody tr th:only-of-type {\n",
       "        vertical-align: middle;\n",
       "    }\n",
       "\n",
       "    .dataframe tbody tr th {\n",
       "        vertical-align: top;\n",
       "    }\n",
       "\n",
       "    .dataframe thead th {\n",
       "        text-align: right;\n",
       "    }\n",
       "</style>\n",
       "<table border=\"1\" class=\"dataframe\">\n",
       "  <thead>\n",
       "    <tr style=\"text-align: right;\">\n",
       "      <th></th>\n",
       "      <th>Unnamed: 0</th>\n",
       "      <th>total_predicted_distance_miles</th>\n",
       "      <th>lead_organizer_previous_completed_trips</th>\n",
       "      <th>total_predicted_duration</th>\n",
       "      <th>predicted_driver_fare</th>\n",
       "      <th>organizer_home_lat</th>\n",
       "      <th>destination_lat</th>\n",
       "      <th>driver_previous_completed_trips</th>\n",
       "      <th>destination_region_id</th>\n",
       "      <th>coupon_consumed</th>\n",
       "      <th>...</th>\n",
       "      <th>driver_home_lon</th>\n",
       "      <th>passengers_count</th>\n",
       "      <th>origin_lon</th>\n",
       "      <th>organizer_home_lon</th>\n",
       "      <th>trip_template_id</th>\n",
       "      <th>origin_lat</th>\n",
       "      <th>claimed_after_created</th>\n",
       "      <th>destination_lon</th>\n",
       "      <th>driver_home_lat</th>\n",
       "      <th>route_legs_count</th>\n",
       "    </tr>\n",
       "  </thead>\n",
       "  <tbody>\n",
       "    <tr>\n",
       "      <th>0</th>\n",
       "      <td>5</td>\n",
       "      <td>10.0</td>\n",
       "      <td>5</td>\n",
       "      <td>36.47</td>\n",
       "      <td>19.63</td>\n",
       "      <td>34.17</td>\n",
       "      <td>34.18</td>\n",
       "      <td>663.0</td>\n",
       "      <td>36.0</td>\n",
       "      <td>0.0</td>\n",
       "      <td>...</td>\n",
       "      <td>-118.25</td>\n",
       "      <td>1.0</td>\n",
       "      <td>-118.35</td>\n",
       "      <td>-118.34</td>\n",
       "      <td>0.0</td>\n",
       "      <td>34.18</td>\n",
       "      <td>2753.65</td>\n",
       "      <td>-118.23</td>\n",
       "      <td>34.1</td>\n",
       "      <td>1</td>\n",
       "    </tr>\n",
       "    <tr>\n",
       "      <th>1</th>\n",
       "      <td>6</td>\n",
       "      <td>5.0</td>\n",
       "      <td>65</td>\n",
       "      <td>29.00</td>\n",
       "      <td>14.19</td>\n",
       "      <td>34.08</td>\n",
       "      <td>34.10</td>\n",
       "      <td>634.0</td>\n",
       "      <td>36.0</td>\n",
       "      <td>0.0</td>\n",
       "      <td>...</td>\n",
       "      <td>-118.25</td>\n",
       "      <td>1.0</td>\n",
       "      <td>-118.31</td>\n",
       "      <td>-118.34</td>\n",
       "      <td>6325.0</td>\n",
       "      <td>34.10</td>\n",
       "      <td>5867.40</td>\n",
       "      <td>-118.24</td>\n",
       "      <td>34.1</td>\n",
       "      <td>1</td>\n",
       "    </tr>\n",
       "    <tr>\n",
       "      <th>2</th>\n",
       "      <td>7</td>\n",
       "      <td>5.0</td>\n",
       "      <td>13</td>\n",
       "      <td>18.90</td>\n",
       "      <td>14.06</td>\n",
       "      <td>34.16</td>\n",
       "      <td>34.16</td>\n",
       "      <td>649.0</td>\n",
       "      <td>48.0</td>\n",
       "      <td>0.0</td>\n",
       "      <td>...</td>\n",
       "      <td>-118.25</td>\n",
       "      <td>1.0</td>\n",
       "      <td>-118.16</td>\n",
       "      <td>-118.11</td>\n",
       "      <td>0.0</td>\n",
       "      <td>34.13</td>\n",
       "      <td>32.20</td>\n",
       "      <td>-118.11</td>\n",
       "      <td>34.1</td>\n",
       "      <td>1</td>\n",
       "    </tr>\n",
       "    <tr>\n",
       "      <th>3</th>\n",
       "      <td>8</td>\n",
       "      <td>7.0</td>\n",
       "      <td>88</td>\n",
       "      <td>22.93</td>\n",
       "      <td>15.59</td>\n",
       "      <td>34.05</td>\n",
       "      <td>34.17</td>\n",
       "      <td>637.0</td>\n",
       "      <td>36.0</td>\n",
       "      <td>0.0</td>\n",
       "      <td>...</td>\n",
       "      <td>-118.25</td>\n",
       "      <td>1.0</td>\n",
       "      <td>-118.24</td>\n",
       "      <td>-118.22</td>\n",
       "      <td>0.0</td>\n",
       "      <td>34.11</td>\n",
       "      <td>22.28</td>\n",
       "      <td>-118.28</td>\n",
       "      <td>34.1</td>\n",
       "      <td>1</td>\n",
       "    </tr>\n",
       "    <tr>\n",
       "      <th>4</th>\n",
       "      <td>9</td>\n",
       "      <td>13.0</td>\n",
       "      <td>46</td>\n",
       "      <td>35.50</td>\n",
       "      <td>21.63</td>\n",
       "      <td>34.12</td>\n",
       "      <td>34.12</td>\n",
       "      <td>629.0</td>\n",
       "      <td>33.0</td>\n",
       "      <td>0.0</td>\n",
       "      <td>...</td>\n",
       "      <td>-118.25</td>\n",
       "      <td>1.0</td>\n",
       "      <td>-118.51</td>\n",
       "      <td>-118.38</td>\n",
       "      <td>3719.0</td>\n",
       "      <td>34.20</td>\n",
       "      <td>150534.13</td>\n",
       "      <td>-118.38</td>\n",
       "      <td>34.1</td>\n",
       "      <td>1</td>\n",
       "    </tr>\n",
       "  </tbody>\n",
       "</table>\n",
       "<p>5 rows × 29 columns</p>\n",
       "</div>"
      ],
      "text/plain": [
       "   Unnamed: 0  total_predicted_distance_miles  \\\n",
       "0           5                            10.0   \n",
       "1           6                             5.0   \n",
       "2           7                             5.0   \n",
       "3           8                             7.0   \n",
       "4           9                            13.0   \n",
       "\n",
       "   lead_organizer_previous_completed_trips  total_predicted_duration  \\\n",
       "0                                        5                     36.47   \n",
       "1                                       65                     29.00   \n",
       "2                                       13                     18.90   \n",
       "3                                       88                     22.93   \n",
       "4                                       46                     35.50   \n",
       "\n",
       "   predicted_driver_fare  organizer_home_lat  destination_lat  \\\n",
       "0                  19.63               34.17            34.18   \n",
       "1                  14.19               34.08            34.10   \n",
       "2                  14.06               34.16            34.16   \n",
       "3                  15.59               34.05            34.17   \n",
       "4                  21.63               34.12            34.12   \n",
       "\n",
       "   driver_previous_completed_trips  destination_region_id  coupon_consumed  \\\n",
       "0                            663.0                   36.0              0.0   \n",
       "1                            634.0                   36.0              0.0   \n",
       "2                            649.0                   48.0              0.0   \n",
       "3                            637.0                   36.0              0.0   \n",
       "4                            629.0                   33.0              0.0   \n",
       "\n",
       "         ...         driver_home_lon  passengers_count  origin_lon  \\\n",
       "0        ...                 -118.25               1.0     -118.35   \n",
       "1        ...                 -118.25               1.0     -118.31   \n",
       "2        ...                 -118.25               1.0     -118.16   \n",
       "3        ...                 -118.25               1.0     -118.24   \n",
       "4        ...                 -118.25               1.0     -118.51   \n",
       "\n",
       "   organizer_home_lon  trip_template_id  origin_lat  claimed_after_created  \\\n",
       "0             -118.34               0.0       34.18                2753.65   \n",
       "1             -118.34            6325.0       34.10                5867.40   \n",
       "2             -118.11               0.0       34.13                  32.20   \n",
       "3             -118.22               0.0       34.11                  22.28   \n",
       "4             -118.38            3719.0       34.20              150534.13   \n",
       "\n",
       "   destination_lon  driver_home_lat  route_legs_count  \n",
       "0          -118.23             34.1                 1  \n",
       "1          -118.24             34.1                 1  \n",
       "2          -118.11             34.1                 1  \n",
       "3          -118.28             34.1                 1  \n",
       "4          -118.38             34.1                 1  \n",
       "\n",
       "[5 rows x 29 columns]"
      ]
     },
     "execution_count": 11,
     "metadata": {},
     "output_type": "execute_result"
    }
   ],
   "source": [
    "df_X.head()"
   ]
  },
  {
   "cell_type": "code",
   "execution_count": 12,
   "metadata": {},
   "outputs": [
    {
     "data": {
      "text/plain": [
       "count     125675.0\n",
       "mean        -507.0\n",
       "std        22763.0\n",
       "min     -7862491.0\n",
       "25%         -657.0\n",
       "50%         -324.0\n",
       "75%          -96.0\n",
       "max       204537.0\n",
       "Name: 1, dtype: float64"
      ]
     },
     "execution_count": 12,
     "metadata": {},
     "output_type": "execute_result"
    }
   ],
   "source": [
    "y.describe().round()"
   ]
  },
  {
   "cell_type": "code",
   "execution_count": 13,
   "metadata": {},
   "outputs": [],
   "source": [
    "# break df_X,y into test and train sets\n",
    "from sklearn.model_selection import train_test_split\n",
    "X_train, X_test, y_train, y_test = train_test_split(df_X, y, test_size=0.20, random_state=808)"
   ]
  },
  {
   "cell_type": "code",
   "execution_count": 14,
   "metadata": {},
   "outputs": [
    {
     "name": "stdout",
     "output_type": "stream",
     "text": [
      "(100540, 29)\n",
      "(25135, 29)\n",
      "(100540,)\n",
      "(25135,)\n"
     ]
    }
   ],
   "source": [
    "for i in X_train, X_test, y_train, y_test:\n",
    "    print(i.shape)"
   ]
  },
  {
   "cell_type": "code",
   "execution_count": 15,
   "metadata": {},
   "outputs": [],
   "source": [
    "# select a linear model\n",
    "import sklearn.linear_model\n",
    "model=sklearn.linear_model.LinearRegression(normalize=True)"
   ]
  },
  {
   "cell_type": "code",
   "execution_count": 16,
   "metadata": {},
   "outputs": [],
   "source": [
    "# fit model\n",
    "model=model.fit(X_train,y_train)"
   ]
  },
  {
   "cell_type": "code",
   "execution_count": 17,
   "metadata": {},
   "outputs": [
    {
     "data": {
      "text/plain": [
       "array([-1.80606026e-04,  5.64019193e+01,  3.90589863e-02,  3.01982676e+01,\n",
       "       -4.09241064e+01, -5.75490534e+02, -2.12228665e+04,  1.33749491e+00,\n",
       "        4.99173756e+01, -5.28967860e+02, -3.83978900e-03, -8.15103539e-03,\n",
       "        4.90276755e-03,  1.90555142e+02,  1.49533665e-03,  2.31390407e-03,\n",
       "        5.20806921e+01,  1.84881423e-03, -5.10748707e+00, -9.70440480e+03,\n",
       "        7.11507272e+01,  5.58466314e+03, -1.69883926e+02, -1.67327913e-02,\n",
       "       -2.81867787e+04, -3.30540602e-03,  3.52346514e+03,  5.01274949e+04,\n",
       "       -3.83638232e+02])"
      ]
     },
     "execution_count": 17,
     "metadata": {},
     "output_type": "execute_result"
    }
   ],
   "source": [
    "model.coef_"
   ]
  },
  {
   "cell_type": "code",
   "execution_count": 35,
   "metadata": {},
   "outputs": [
    {
     "data": {
      "text/plain": [
       "0         0\n",
       "1        56\n",
       "2         0\n",
       "3        30\n",
       "4       -40\n",
       "5      -575\n",
       "6    -21222\n",
       "7         1\n",
       "8        49\n",
       "9      -528\n",
       "10        0\n",
       "11        0\n",
       "12        0\n",
       "13      190\n",
       "14        0\n",
       "15        0\n",
       "16       52\n",
       "17        0\n",
       "18       -5\n",
       "19    -9704\n",
       "20       71\n",
       "21     5584\n",
       "22     -169\n",
       "23        0\n",
       "24   -28186\n",
       "25        0\n",
       "26     3523\n",
       "27    50127\n",
       "28     -383\n",
       "dtype: int64"
      ]
     },
     "execution_count": 35,
     "metadata": {},
     "output_type": "execute_result"
    }
   ],
   "source": [
    "pd.Series(model.coef_).astype(int)"
   ]
  },
  {
   "cell_type": "code",
   "execution_count": 19,
   "metadata": {},
   "outputs": [
    {
     "data": {
      "text/plain": [
       "-98904.2533150271"
      ]
     },
     "execution_count": 19,
     "metadata": {},
     "output_type": "execute_result"
    }
   ],
   "source": [
    "model.intercept_"
   ]
  },
  {
   "cell_type": "code",
   "execution_count": 20,
   "metadata": {},
   "outputs": [
    {
     "data": {
      "text/plain": [
       "Unnamed: 0                                 62574.764615\n",
       "total_predicted_distance_miles                 5.648633\n",
       "lead_organizer_previous_completed_trips      205.035384\n",
       "total_predicted_duration                      12.495387\n",
       "predicted_driver_fare                          5.869914\n",
       "organizer_home_lat                             3.520902\n",
       "destination_lat                                1.465935\n",
       "driver_previous_completed_trips              343.170859\n",
       "destination_region_id                         14.230953\n",
       "coupon_consumed                                0.078336\n",
       "id                                         90386.207317\n",
       "creator_id                                 28361.473481\n",
       "driver_id                                  36476.929023\n",
       "organizers_count                               0.172448\n",
       "destination_location_id                    36903.795020\n",
       "origin_location_id                         36848.424811\n",
       "origin_region_id                              14.245880\n",
       "lead_organizer_id                          28366.288764\n",
       "trip_predicted_raw_fare                       12.181633\n",
       "driver_home_lon                                1.686690\n",
       "passengers_count                               0.584727\n",
       "origin_lon                                     1.568521\n",
       "organizer_home_lon                            11.110236\n",
       "trip_template_id                            5739.083626\n",
       "origin_lat                                     1.465858\n",
       "claimed_after_created                      30303.787703\n",
       "destination_lon                                1.568718\n",
       "driver_home_lat                                1.475387\n",
       "route_legs_count                               0.278448\n",
       "dtype: float64"
      ]
     },
     "execution_count": 20,
     "metadata": {},
     "output_type": "execute_result"
    }
   ],
   "source": [
    "df_X.std()"
   ]
  },
  {
   "cell_type": "code",
   "execution_count": 36,
   "metadata": {},
   "outputs": [
    {
     "data": {
      "text/plain": [
       "origin_lat                                -19228\n",
       "destination_lat                           -14477\n",
       "coupon_consumed                            -6752\n",
       "driver_home_lon                            -5753\n",
       "route_legs_count                           -1377\n",
       "organizer_home_lat                          -163\n",
       "organizer_home_lon                           -15\n",
       "predicted_driver_fare                         -6\n",
       "trip_predicted_raw_fare                        0\n",
       "trip_template_id                               0\n",
       "creator_id                                     0\n",
       "claimed_after_created                          0\n",
       "id                                             0\n",
       "Unnamed: 0                                     0\n",
       "destination_location_id                        0\n",
       "origin_location_id                             0\n",
       "lead_organizer_id                              0\n",
       "driver_id                                      0\n",
       "lead_organizer_previous_completed_trips        0\n",
       "driver_previous_completed_trips                0\n",
       "total_predicted_duration                       2\n",
       "destination_region_id                          3\n",
       "origin_region_id                               3\n",
       "total_predicted_distance_miles                 9\n",
       "passengers_count                             121\n",
       "organizers_count                            1104\n",
       "destination_lon                             2246\n",
       "origin_lon                                  3560\n",
       "driver_home_lat                            33975\n",
       "dtype: int64"
      ]
     },
     "execution_count": 36,
     "metadata": {},
     "output_type": "execute_result"
    }
   ],
   "source": [
    "# normalize the linear model coefficients by the standard deviation to see which features are most important\n",
    "(model.coef_/df_X.std()).sort_values(axis=0).astype(int)"
   ]
  },
  {
   "cell_type": "code",
   "execution_count": 22,
   "metadata": {},
   "outputs": [
    {
     "data": {
      "text/plain": [
       "-67.96033800845635"
      ]
     },
     "execution_count": 22,
     "metadata": {},
     "output_type": "execute_result"
    }
   ],
   "source": [
    "# score against TEST set\n",
    "model.score(X_test,y_test)"
   ]
  },
  {
   "cell_type": "code",
   "execution_count": 23,
   "metadata": {},
   "outputs": [
    {
     "data": {
      "text/plain": [
       "25135"
      ]
     },
     "execution_count": 23,
     "metadata": {},
     "output_type": "execute_result"
    }
   ],
   "source": [
    "model_y_test_pred = model.predict(X_test)\n",
    "model_y_test_pred.size"
   ]
  },
  {
   "cell_type": "code",
   "execution_count": 24,
   "metadata": {},
   "outputs": [
    {
     "data": {
      "text/plain": [
       "numpy.ndarray"
      ]
     },
     "execution_count": 24,
     "metadata": {},
     "output_type": "execute_result"
    }
   ],
   "source": [
    "type(model_y_test_pred)"
   ]
  },
  {
   "cell_type": "code",
   "execution_count": 25,
   "metadata": {},
   "outputs": [
    {
     "data": {
      "text/plain": [
       "array([ 9993.71028529,   177.10088028,  1438.91834706, -2715.98537305,\n",
       "       -3960.78922074,  -632.19060602, -1986.1043895 ,  4843.24000458,\n",
       "       -2814.57160266, -5068.66299951])"
      ]
     },
     "execution_count": 25,
     "metadata": {},
     "output_type": "execute_result"
    }
   ],
   "source": [
    "model_y_test_pred[:10]"
   ]
  },
  {
   "cell_type": "code",
   "execution_count": 26,
   "metadata": {},
   "outputs": [
    {
     "data": {
      "text/plain": [
       "11885.066992753233"
      ]
     },
     "execution_count": 26,
     "metadata": {},
     "output_type": "execute_result"
    }
   ],
   "source": [
    "pd.Series(model_y_test_pred).std()"
   ]
  },
  {
   "cell_type": "code",
   "execution_count": 27,
   "metadata": {},
   "outputs": [
    {
     "data": {
      "text/plain": [
       "0.006368537153212968"
      ]
     },
     "execution_count": 27,
     "metadata": {},
     "output_type": "execute_result"
    }
   ],
   "source": [
    "pd.Series(model_y_test_pred).corr(y_test)"
   ]
  },
  {
   "cell_type": "code",
   "execution_count": 28,
   "metadata": {},
   "outputs": [
    {
     "name": "stdout",
     "output_type": "stream",
     "text": [
      "-67.956 143688765 -67.960 3405 2119\n"
     ]
    }
   ],
   "source": [
    "# regression metrics\n",
    "from sklearn.metrics import explained_variance_score, mean_squared_error, r2_score, mean_absolute_error, median_absolute_error\n",
    "print (\"%.3f %.0f %.3f %.0f %.0f\" % \n",
    "       (explained_variance_score(y_test, model_y_test_pred),\n",
    "        mean_squared_error(y_test, model_y_test_pred), \n",
    "        r2_score(y_test, model_y_test_pred), \n",
    "        mean_absolute_error(y_test, model_y_test_pred), \n",
    "        median_absolute_error(y_test, model_y_test_pred)))"
   ]
  },
  {
   "cell_type": "code",
   "execution_count": 29,
   "metadata": {},
   "outputs": [
    {
     "data": {
      "text/plain": [
       "array([  0., 300., 900.])"
      ]
     },
     "execution_count": 29,
     "metadata": {},
     "output_type": "execute_result"
    }
   ],
   "source": [
    "# make classifications from seconds late target\n",
    "bins = np.array([0.0, 5*60, 15*60]) # 0 on-time, 1 almost on-time, 2 late, 3 extremely late\n",
    "bins"
   ]
  },
  {
   "cell_type": "code",
   "execution_count": 30,
   "metadata": {},
   "outputs": [
    {
     "data": {
      "text/plain": [
       "array([1, 1, 0, 0, 0, 1, 0, 0, 1, 0])"
      ]
     },
     "execution_count": 30,
     "metadata": {},
     "output_type": "execute_result"
    }
   ],
   "source": [
    "np.digitize(y_test, bins)[:10]"
   ]
  },
  {
   "cell_type": "code",
   "execution_count": 31,
   "metadata": {
    "scrolled": true
   },
   "outputs": [
    {
     "name": "stdout",
     "output_type": "stream",
     "text": [
      "[[    0 21156]\n",
      " [    1  2939]\n",
      " [    2   892]\n",
      " [    3   148]]\n"
     ]
    }
   ],
   "source": [
    "# materialize y_test_class array\n",
    "# check to see how many trips are categorized as 0 on-time, 1 almost on-time, 2 late, 3 extremely late\n",
    "y_test_class=np.digitize(y_test, bins)\n",
    "unique, counts = np.unique(y_test_class, return_counts=True)\n",
    "print(np.asarray((unique, counts)).T)"
   ]
  },
  {
   "cell_type": "code",
   "execution_count": 32,
   "metadata": {},
   "outputs": [
    {
     "name": "stdout",
     "output_type": "stream",
     "text": [
      "[[    0 14171]\n",
      " [    1   936]\n",
      " [    2  1811]\n",
      " [    3  8217]]\n"
     ]
    }
   ],
   "source": [
    "# materialize model_y_pred_class\n",
    "# check to see how many trips are categorized as 0 on-time, 1 almost on-time, 2 late, 3 extremely late\n",
    "model_y_test_pred_class=np.digitize(model_y_test_pred, bins)\n",
    "print(np.asarray(np.unique(model_y_test_pred_class, return_counts=True)).T)"
   ]
  },
  {
   "cell_type": "code",
   "execution_count": 33,
   "metadata": {},
   "outputs": [
    {
     "name": "stdout",
     "output_type": "stream",
     "text": [
      "             precision    recall  f1-score   support\n",
      "\n",
      "          0       0.84      0.56      0.67     21156\n",
      "          1       0.13      0.04      0.06      2939\n",
      "          2       0.02      0.05      0.03       892\n",
      "          3       0.01      0.35      0.01       148\n",
      "\n",
      "avg / total       0.72      0.48      0.57     25135\n",
      "\n"
     ]
    }
   ],
   "source": [
    "from sklearn.metrics import classification_report\n",
    "print(classification_report(y_test_class,model_y_test_pred_class))"
   ]
  },
  {
   "cell_type": "code",
   "execution_count": 34,
   "metadata": {},
   "outputs": [
    {
     "name": "stdout",
     "output_type": "stream",
     "text": [
      "[[11845   779  1543  6989]\n",
      " [ 1698   122   211   908]\n",
      " [  546    33    45   268]\n",
      " [   82     2    12    52]]\n"
     ]
    }
   ],
   "source": [
    "from sklearn.metrics import confusion_matrix\n",
    "print(confusion_matrix(y_test_class,model_y_test_pred_class,labels=[0,1,2,3]))"
   ]
  },
  {
   "cell_type": "code",
   "execution_count": null,
   "metadata": {},
   "outputs": [],
   "source": []
  }
 ],
 "metadata": {
  "kernelspec": {
   "display_name": "Python 3",
   "language": "python",
   "name": "python3"
  },
  "language_info": {
   "codemirror_mode": {
    "name": "ipython",
    "version": 3
   },
   "file_extension": ".py",
   "mimetype": "text/x-python",
   "name": "python",
   "nbconvert_exporter": "python",
   "pygments_lexer": "ipython3",
   "version": "3.6.5"
  }
 },
 "nbformat": 4,
 "nbformat_minor": 2
}
