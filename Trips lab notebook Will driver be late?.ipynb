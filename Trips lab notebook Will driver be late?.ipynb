{
 "cells": [
  {
   "cell_type": "code",
   "execution_count": null,
   "metadata": {},
   "outputs": [],
   "source": []
  },
  {
   "cell_type": "markdown",
   "metadata": {},
   "source": [
    "## Trip Lab notebook\n",
    "Predict when the driver will arrive at the pick up location before the driver has started driving there. \n",
    "What factors are most predictive of lateness?\n",
    "\n",
    "#### Framing the business case\n",
    "On-time arrival is an important metric for the business to optimize. 25% of customer negative comments after the trip mention the word \"late\" and another 19% mention time-related issues. \"Driver\" and \"Late\" are the top 2 most frequently used words in negative comments. The business would like to reduce lateness to improve customer satisfaction, improve retention, and reduce support costs.\n",
    "\n",
    "There are automated alerts in place when the driver is estimated to be late (based on current time, time of pickup, location of driver, location of pick up, predicted route and predicted traffic). By the time the driver is estimated to be late there may be too little time to correct the situation. The company incurs support costs working with the parties involved. It is not a good customer or driver experience. \n",
    "\n",
    "To reduce no-shows, the driver must check-in 60 to 90 minutes before the the scheduled start of the ride (otherwise the driver is replaced on that ride). The check-in period is an ideal time to alert the driver about the likelihood of arriving late to the pick up location. The driver is already interacting with the driver app at that time. Their attention is avaiable without separate messaging. The driver could take actions to reduce the chance of lateness, such as starting to commute on time. (is there an alert already when the driver has not starting on-the-way on time?)\n",
    "\n",
    "Accurate prediction is important. Reducing false alarms would tend to improve trust in this prediction and show respect the drivers time. Driver incentives could be added rides with high likelihood of being late to encourage on-time behavior.\n",
    "\n",
    "#### Data considerations to address this use case\n",
    "We will ignore trips in training and test sets when we know the driver never arrived (in the data there is no arrival time). The on-time properly of these rides can not be directly assessed. These could be unclaimed rides or rides where the driver canceled or the organizer canceled before the driver arrived. \n",
    "\n",
    "We will predict on-time arrival on any trip which has not been canceled when the prediction is requested. Effectively, we assume the ride will not be canceled between the prediction time and the scheduled pick up. Predicting cancelation is a separate data science problem beyond the scope of this project. About 5% of remaining trips are cancelled within 90 minutes of the scheduled start. This discrepancy should have a small effect.\n",
    "\n",
    "The prediction model must only use data which is available at the prediction time. The following are those data items in this data set which may not have final values at prediction time: trip_state, canceled_by, canceled_at_pdt, canceled_before_scheduled_start, departs_for_trip_at_pdt, origin_arrived_at_pdt, origin_departed_at_pdt, destination_arrived_at_pdt, rating, trip_paid_time, events, has_cd_unclaimed_event, is_unfilled_canceled, is_cd_cancel, canceled_by_id, commute_miles.\n",
    "\n",
    "\n",
    "#### Labeling the data\n",
    "For supervised learning the training and testing data must be labeled. The labels are the target output of the prediction model. Our label will be the duration in seconds between when the driver arrives and the scheduled start. We can use the canceled rides which were canceled after the driver arrived. This adds about 2% in volume to the complete rides.\n",
    "\n",
    "The prediction target (label) arrived_seconds_after_scheduled_start will be <0 if arrived early, 0 if arrived exactly on time, >0 if arrived late. For trips where the driver never arrived, which ultimately get canceled, make the prediction target NaN. \n",
    "\n",
    "```\n",
    "arrived_seconds_after_scheduled_start = \n",
    "    np.nan if np.isnat(origin_arrived_at_pdt)\n",
    "           else (origin_arrived_at_pdt - scheduled_starts_at_pdt).total_seconds()\n",
    "\n",
    "```\n",
    "\n",
    "In addition to arrived_seconds_after_scheduled_start we will classify each trip to help interpret the results of the prediction in a business-friendly way. The classes are \n",
    "0. arrived on-time\n",
    "1. almost on-time (arrived up to 5 minutes after scheduled start)\n",
    "2. late (arrived 5 to 15 minutes after scheduled start)\n",
    "3. extremely late (arrived 15 minutes or more after scheduled start).\n",
    "\n",
    "LATER:\n",
    " * check-in time might be very informative. Could build a different model which uses check-in time when available.\n",
    " * could use prediction time itself compared to predicted on-the-way time, if we have that.\n",
    " * create transformed features such as time of day, day of week, distance from driver home to origin, duration claimed before scheduled start, compute duration from end of previously claimed trip to this trip, was drivers previous ride or recent rides late, unclaimed near scheduled time, claimed-scheduled.\n",
    "\n",
    "TRIP LIFECYCLE STATES\n",
    "- invalid - trips remain invalid until they have enough information to schedule, route, and bill\n",
    "- awaiting_carpool_invitation (private carpools only), carpools need invitations resolved to be valid\n",
    "- unclaimed - valid trips which are booked but not claimed\n",
    "- visible to drivers to claim (not an actual trip state). Policies embargo trips until 7 days before the scheduled start of the trip.\n",
    "- claimed - driver commits to giving ride. aka filled.\n",
    "- checked in - driver confirms intent to give ride 60 to 90 minutes before schedule start, within 60 minutes manual effort may be involved to fill the ride and get the driver checked-in\n",
    "- on the way - driver departs for the trip\n",
    "- arrives at origin location (aka pick up point)\n",
    "- waiting for passenger(s)\n",
    "- departs origin location with passenger(s)\n",
    "- arrives at destination\n",
    "- complete after passenger(s) are safe at last destination\n",
    "- canceled - the ride can be canceled anytime after first unclaimed and before complete by the organizer, safe ride specialist team, or automatically.\n",
    "\n",
    "KINDS OF TRIPS (not mutually exclusive)\n",
    "- multiple pickups or dropoffs \n",
    "- multiple organizers (private carpools or shuttle trips)\n",
    "- multiple passengers\n",
    "- shuttle\n",
    "- affiliate organizer\n",
    "- bonused\n",
    "- recurring\n",
    "- pickup or dropoff anchor\n",
    "\n"
   ]
  },
  {
   "cell_type": "code",
   "execution_count": 1,
   "metadata": {},
   "outputs": [
    {
     "name": "stdout",
     "output_type": "stream",
     "text": [
      "2018-09-03 17:15:19.829058\n"
     ]
    }
   ],
   "source": [
    "import datetime\n",
    "a = datetime.datetime.now()\n",
    "print(a)"
   ]
  },
  {
   "cell_type": "code",
   "execution_count": 2,
   "metadata": {},
   "outputs": [
    {
     "name": "stdout",
     "output_type": "stream",
     "text": [
      "2018-09-03 17:15:19.836220\n",
      "0.007162\n",
      "-0.007162\n"
     ]
    }
   ],
   "source": [
    "b = datetime.datetime.now()\n",
    "print(b)\n",
    "c = b - a\n",
    "print(c.total_seconds())\n",
    "d = a - b\n",
    "print(d.total_seconds())"
   ]
  },
  {
   "cell_type": "code",
   "execution_count": 3,
   "metadata": {},
   "outputs": [],
   "source": [
    "import pandas as pd\n",
    "import numpy as np"
   ]
  },
  {
   "cell_type": "code",
   "execution_count": 4,
   "metadata": {},
   "outputs": [],
   "source": [
    "dateColNames=['canceled_at_pdt', 'claimed_at_pdt', 'departs_for_trip_at_pdt',\n",
    "       'created_at_pdt', 'scheduled_starts_at_pdt', 'scheduled_ends_at_pdt',\n",
    "       'origin_arrived_at_pdt', 'origin_departed_at_pdt',\n",
    "       'destination_arrived_at_pdt', 'lead_organizer_created_at_pdt',\n",
    "       'driver_created_at_pdt']"
   ]
  },
  {
   "cell_type": "code",
   "execution_count": 5,
   "metadata": {},
   "outputs": [],
   "source": [
    "df=pd.read_csv('/Users/bob 2/Projects/TripsData2017.txt', sep='\\t', parse_dates=dateColNames)"
   ]
  },
  {
   "cell_type": "code",
   "execution_count": 6,
   "metadata": {},
   "outputs": [
    {
     "data": {
      "text/plain": [
       "(217348, 74)"
      ]
     },
     "execution_count": 6,
     "metadata": {},
     "output_type": "execute_result"
    }
   ],
   "source": [
    "df.shape"
   ]
  },
  {
   "cell_type": "code",
   "execution_count": 7,
   "metadata": {},
   "outputs": [
    {
     "data": {
      "text/plain": [
       "['id',\n",
       " 'trip_state',\n",
       " 'canceled_by',\n",
       " 'canceled_at_pdt',\n",
       " 'canceled_before_scheduled_start',\n",
       " 'claimed_at_pdt',\n",
       " 'driver_id',\n",
       " 'lead_organizer_id',\n",
       " 'creator_id',\n",
       " 'carpool',\n",
       " 'is_repeating_ride',\n",
       " 'shuttle',\n",
       " 'trip_template_id',\n",
       " 'departs_for_trip_at_pdt',\n",
       " 'time_anchor',\n",
       " 'created_at_pdt',\n",
       " 'scheduled_starts_at_pdt',\n",
       " 'scheduled_ends_at_pdt',\n",
       " 'origin_arrived_at_pdt',\n",
       " 'origin_departed_at_pdt',\n",
       " 'destination_arrived_at_pdt',\n",
       " 'origin_location_id',\n",
       " 'destination_location_id',\n",
       " 'origin_region_id',\n",
       " 'origin_analysis_metro_name',\n",
       " 'destination_region_id',\n",
       " 'destination_region_name',\n",
       " 'origin_region_name',\n",
       " 'origin_metro_area_name',\n",
       " 'destination_metro_area_name',\n",
       " 'destination_analysis_metro_name',\n",
       " 'origin_lat',\n",
       " 'origin_lon',\n",
       " 'destination_lat',\n",
       " 'destination_lon',\n",
       " 'passengers_ids',\n",
       " 'organizers_count',\n",
       " 'passengers_count',\n",
       " 'driver_home_lat',\n",
       " 'driver_home_lon',\n",
       " 'organizer_home_lat',\n",
       " 'organizer_home_lon',\n",
       " 'rating',\n",
       " 'canceled_by_id',\n",
       " 'route_legs_count',\n",
       " 'start_waypoints_zipcodes',\n",
       " 'end_waypoints_zipcodes',\n",
       " 'total_predicted_distance_miles',\n",
       " 'total_predicted_duration',\n",
       " 'trip_paid_time',\n",
       " 'is_affiliate',\n",
       " 'lead_organizer_platform',\n",
       " 'lead_organizer_app_version',\n",
       " 'driver_platform',\n",
       " 'driver_app_version',\n",
       " 'driver_gender',\n",
       " 'driver_fare_multiplier',\n",
       " 'lead_organizer_created_at_pdt',\n",
       " 'driver_created_at_pdt',\n",
       " 'coupon',\n",
       " 'coupon_consumed',\n",
       " 'events',\n",
       " 'has_cd_unclaimed_event',\n",
       " 'driver_previous_completed_trips',\n",
       " 'lead_organizer_previous_completed_trips',\n",
       " 'commute_distance',\n",
       " 'claimed_after_created',\n",
       " 'is_unfilled_canceled',\n",
       " 'is_cd_cancel',\n",
       " 'is_same_day_ride',\n",
       " 'trip_predicted_raw_fare',\n",
       " 'predicted_driver_fare',\n",
       " 'predicted_driver_fare_with_multiplier',\n",
       " 'driver_has_driven_this_route_before']"
      ]
     },
     "execution_count": 7,
     "metadata": {},
     "output_type": "execute_result"
    }
   ],
   "source": [
    "list(df)"
   ]
  },
  {
   "cell_type": "code",
   "execution_count": 8,
   "metadata": {},
   "outputs": [
    {
     "name": "stdout",
     "output_type": "stream",
     "text": [
      "<class 'pandas.core.frame.DataFrame'>\n",
      "RangeIndex: 217348 entries, 0 to 217347\n",
      "Columns: 74 entries, id to driver_has_driven_this_route_before\n",
      "dtypes: bool(8), datetime64[ns](11), float64(29), int64(5), object(21)\n",
      "memory usage: 111.1+ MB\n"
     ]
    }
   ],
   "source": [
    "df.info(verbose=False)"
   ]
  },
  {
   "cell_type": "code",
   "execution_count": 9,
   "metadata": {},
   "outputs": [
    {
     "data": {
      "text/plain": [
       "<bound method DataFrame.info of             id trip_state canceled_by     canceled_at_pdt  \\\n",
       "0       367322   canceled    Employee 2017-03-08 13:18:55   \n",
       "1       492666   canceled    Employee 2017-09-11 09:09:43   \n",
       "2       527985   canceled    Employee 2017-09-27 14:02:52   \n",
       "3       415557   canceled    Employee 2017-05-22 13:47:32   \n",
       "4       317210   canceled    Employee 2017-01-18 10:14:22   \n",
       "5       338150   complete         NaN                 NaT   \n",
       "6       310958   complete         NaN                 NaT   \n",
       "7       338135   complete         NaN                 NaT   \n",
       "8       324615   complete         NaN                 NaT   \n",
       "9       247127   complete         NaN                 NaT   \n",
       "10      306833   complete         NaN                 NaT   \n",
       "11      436184   complete         NaN                 NaT   \n",
       "12      473473   complete         NaN                 NaT   \n",
       "13      354050   complete         NaN                 NaT   \n",
       "14      415507   complete         NaN                 NaT   \n",
       "15      416842   complete         NaN                 NaT   \n",
       "16      493287   canceled         NaN 2017-09-05 19:27:35   \n",
       "17      571122   complete         NaN                 NaT   \n",
       "18      368854   complete         NaN                 NaT   \n",
       "19      311378   canceled         NaN 2017-02-03 08:07:15   \n",
       "20      311386   canceled         NaN 2017-02-17 12:45:27   \n",
       "21      360999   canceled   Organizer 2017-03-07 16:38:42   \n",
       "22      527947   complete         NaN                 NaT   \n",
       "23      544136   complete         NaN                 NaT   \n",
       "24      498306   complete         NaN                 NaT   \n",
       "25      410148   complete         NaN                 NaT   \n",
       "26      469973   complete         NaN                 NaT   \n",
       "27      538266   complete         NaN                 NaT   \n",
       "28      532445   complete         NaN                 NaT   \n",
       "29      554732   canceled   Organizer 2017-10-26 04:03:32   \n",
       "...        ...        ...         ...                 ...   \n",
       "217318  598477   canceled   Organizer 2017-12-15 14:09:08   \n",
       "217319  598485   canceled   Organizer 2017-12-15 14:14:28   \n",
       "217320  578504   canceled   Organizer 2017-11-19 10:16:43   \n",
       "217321  578872   canceled   Organizer 2017-11-26 16:20:21   \n",
       "217322  586946   canceled   Organizer 2017-11-30 18:43:30   \n",
       "217323  584098   canceled   Organizer 2017-12-07 07:51:02   \n",
       "217324  584408   canceled   Organizer 2017-11-28 07:27:24   \n",
       "217325  586277   canceled   Organizer 2017-11-29 23:20:19   \n",
       "217326  585210   canceled   Organizer 2017-11-28 22:21:30   \n",
       "217327  585552   canceled   Organizer 2017-11-29 12:48:34   \n",
       "217328  595519   canceled   Organizer 2017-12-11 14:13:37   \n",
       "217329  591585   canceled   Organizer 2017-12-05 19:05:57   \n",
       "217330  589883   canceled   Organizer 2017-12-04 12:51:15   \n",
       "217331  600352   canceled   Organizer 2017-12-18 19:08:06   \n",
       "217332  594559   canceled   Organizer 2017-12-10 16:41:35   \n",
       "217333  593683   canceled   Organizer 2017-12-08 20:32:49   \n",
       "217334  593682   canceled   Organizer 2017-12-08 20:31:53   \n",
       "217335  594844   canceled   Organizer 2017-12-10 20:02:18   \n",
       "217336  598325   canceled   Organizer 2017-12-15 09:33:38   \n",
       "217337  601561   canceled   Organizer 2017-12-20 21:18:37   \n",
       "217338  361610   canceled         NaN 2017-03-02 21:15:17   \n",
       "217339  365353   canceled         NaN 2017-03-10 19:34:28   \n",
       "217340  388941   canceled         NaN 2017-04-16 18:17:37   \n",
       "217341  399956   canceled         NaN 2017-05-17 08:52:36   \n",
       "217342  421974   canceled         NaN 2017-06-08 06:40:27   \n",
       "217343  419833   canceled   Organizer 2017-06-07 16:55:25   \n",
       "217344  558581   canceled   Organizer 2017-10-28 22:25:20   \n",
       "217345  580499   canceled   Organizer 2017-11-24 08:50:17   \n",
       "217346  591432   canceled   Organizer 2017-12-07 08:42:41   \n",
       "217347  595949   canceled         NaN 2017-12-13 18:52:21   \n",
       "\n",
       "        canceled_before_scheduled_start      claimed_at_pdt  driver_id  \\\n",
       "0                                 18.68 2017-03-08 13:16:39    62908.0   \n",
       "1                                  0.84 2017-08-31 12:33:50    62930.0   \n",
       "2                                  1.07 2017-09-27 13:59:44    62930.0   \n",
       "3                                  7.47 2017-05-22 13:18:52    62930.0   \n",
       "4                                 95.76 2017-01-18 10:12:03    62966.0   \n",
       "5                                   NaN 2017-02-07 19:33:33    62969.0   \n",
       "6                                   NaN 2017-01-17 00:02:03    62969.0   \n",
       "7                                   NaN 2017-02-05 21:51:54    62969.0   \n",
       "8                                   NaN 2017-01-25 16:40:59    62969.0   \n",
       "9                                   NaN 2017-01-16 00:01:14    62969.0   \n",
       "10                                  NaN 2017-01-10 11:24:49    62969.0   \n",
       "11                                  NaN 2017-06-25 19:37:17    62970.0   \n",
       "12                                  NaN 2017-08-20 08:49:20    62970.0   \n",
       "13                                  NaN 2017-02-24 09:57:20    62970.0   \n",
       "14                                  NaN 2017-05-22 11:59:05    62970.0   \n",
       "15                                  NaN 2017-05-24 16:40:31    62970.0   \n",
       "16                                42.96 2017-08-31 22:58:08    62970.0   \n",
       "17                                  NaN 2017-11-09 09:20:50    62970.0   \n",
       "18                                  NaN 2017-03-12 09:31:13    62970.0   \n",
       "19                               175.13 2017-02-03 08:07:15    62970.0   \n",
       "20                               170.49 2017-02-17 12:45:27    62970.0   \n",
       "21                                46.10 2017-03-04 22:43:59    62970.0   \n",
       "22                                  NaN 2017-10-05 14:43:17    62970.0   \n",
       "23                                  NaN 2017-10-30 19:31:36    62970.0   \n",
       "24                                  NaN 2017-09-04 19:49:19    62970.0   \n",
       "25                                  NaN 2017-05-15 16:46:55    62970.0   \n",
       "26                                  NaN 2017-08-16 11:53:49    62970.0   \n",
       "27                                  NaN 2017-10-07 15:30:36    62970.0   \n",
       "28                                  NaN 2017-10-02 06:25:29    62970.0   \n",
       "29                                12.94 2017-10-24 17:04:31    62970.0   \n",
       "...                                 ...                 ...        ...   \n",
       "217318                            97.85                 NaT        NaN   \n",
       "217319                           121.76                 NaT        NaN   \n",
       "217320                           199.72                 NaT        NaN   \n",
       "217321                           207.16                 NaT        NaN   \n",
       "217322                            20.86                 NaT        NaN   \n",
       "217323                             6.57 2017-12-01 22:57:09        NaN   \n",
       "217324                             7.96                 NaT        NaN   \n",
       "217325                            16.08                 NaT        NaN   \n",
       "217326                            16.97                 NaT        NaN   \n",
       "217327                           123.69                 NaT        NaN   \n",
       "217328                            72.52                 NaT        NaN   \n",
       "217329                            45.90                 NaT        NaN   \n",
       "217330                            49.81                 NaT        NaN   \n",
       "217331                            62.36                 NaT        NaN   \n",
       "217332                            22.97                 NaT        NaN   \n",
       "217333                            66.24                 NaT        NaN   \n",
       "217334                            72.44                 NaT        NaN   \n",
       "217335                            71.71                 NaT        NaN   \n",
       "217336                            11.44                 NaT        NaN   \n",
       "217337                            42.94                 NaT        NaN   \n",
       "217338                            17.75                 NaT        NaN   \n",
       "217339                            66.68                 NaT        NaN   \n",
       "217340                            93.29                 NaT        NaN   \n",
       "217341                             6.29                 NaT        NaN   \n",
       "217342                             0.49                 NaT        NaN   \n",
       "217343                            21.77                 NaT        NaN   \n",
       "217344                           143.59                 NaT        NaN   \n",
       "217345                            78.41                 NaT        NaN   \n",
       "217346                           166.79                 NaT        NaN   \n",
       "217347                            52.88                 NaT        NaN   \n",
       "\n",
       "        lead_organizer_id  creator_id  carpool  \\\n",
       "0                   87303       87303    False   \n",
       "1                   78527       78527    False   \n",
       "2                   78527       78527    False   \n",
       "3                  131139      131139    False   \n",
       "4                  101326      101326    False   \n",
       "5                   81281       81281    False   \n",
       "6                   80068       80068    False   \n",
       "7                   87802       87802    False   \n",
       "8                   81561       81561    False   \n",
       "9                   76793       76793    False   \n",
       "10                 121481      121481    False   \n",
       "11                  81403       81403    False   \n",
       "12                 138235      138235    False   \n",
       "13                  82670       82670    False   \n",
       "14                  84718       84718    False   \n",
       "15                  84718       84718    False   \n",
       "16                 158125      158125    False   \n",
       "17                 161676      161676    False   \n",
       "18                  81403       81403    False   \n",
       "19                 106028      106028    False   \n",
       "20                 106028      106028    False   \n",
       "21                 131873      131873    False   \n",
       "22                  83627       83627    False   \n",
       "23                  83627       83627    False   \n",
       "24                 122614      122614    False   \n",
       "25                 134431      134431    False   \n",
       "26                 154492      154492    False   \n",
       "27                 153739      153739    False   \n",
       "28                 153739      153739    False   \n",
       "29                  88215       88215    False   \n",
       "...                   ...         ...      ...   \n",
       "217318             164267      164267    False   \n",
       "217319             164267      164267    False   \n",
       "217320              77413       77413    False   \n",
       "217321             159691      159691    False   \n",
       "217322             178769      178769    False   \n",
       "217323             158154      158154    False   \n",
       "217324             179176      179176    False   \n",
       "217325             179176      179176    False   \n",
       "217326             147285      147285    False   \n",
       "217327             176269      176269    False   \n",
       "217328              77595       77595    False   \n",
       "217329             179772      179772    False   \n",
       "217330             106146      106146    False   \n",
       "217331             161526      161526    False   \n",
       "217332             179862      179862    False   \n",
       "217333             179330      179330    False   \n",
       "217334             179330      179330    False   \n",
       "217335             145901      145901    False   \n",
       "217336             181653      181653    False   \n",
       "217337             106994      106994    False   \n",
       "217338              88785       88785    False   \n",
       "217339              77251       77251    False   \n",
       "217340             102114      102114    False   \n",
       "217341             133309      133309    False   \n",
       "217342             102653      102653    False   \n",
       "217343             142072      142072    False   \n",
       "217344             173932      173932    False   \n",
       "217345             176479      176479    False   \n",
       "217346             180258      180258    False   \n",
       "217347              80924       80924    False   \n",
       "\n",
       "                       ...                  \\\n",
       "0                      ...                   \n",
       "1                      ...                   \n",
       "2                      ...                   \n",
       "3                      ...                   \n",
       "4                      ...                   \n",
       "5                      ...                   \n",
       "6                      ...                   \n",
       "7                      ...                   \n",
       "8                      ...                   \n",
       "9                      ...                   \n",
       "10                     ...                   \n",
       "11                     ...                   \n",
       "12                     ...                   \n",
       "13                     ...                   \n",
       "14                     ...                   \n",
       "15                     ...                   \n",
       "16                     ...                   \n",
       "17                     ...                   \n",
       "18                     ...                   \n",
       "19                     ...                   \n",
       "20                     ...                   \n",
       "21                     ...                   \n",
       "22                     ...                   \n",
       "23                     ...                   \n",
       "24                     ...                   \n",
       "25                     ...                   \n",
       "26                     ...                   \n",
       "27                     ...                   \n",
       "28                     ...                   \n",
       "29                     ...                   \n",
       "...                    ...                   \n",
       "217318                 ...                   \n",
       "217319                 ...                   \n",
       "217320                 ...                   \n",
       "217321                 ...                   \n",
       "217322                 ...                   \n",
       "217323                 ...                   \n",
       "217324                 ...                   \n",
       "217325                 ...                   \n",
       "217326                 ...                   \n",
       "217327                 ...                   \n",
       "217328                 ...                   \n",
       "217329                 ...                   \n",
       "217330                 ...                   \n",
       "217331                 ...                   \n",
       "217332                 ...                   \n",
       "217333                 ...                   \n",
       "217334                 ...                   \n",
       "217335                 ...                   \n",
       "217336                 ...                   \n",
       "217337                 ...                   \n",
       "217338                 ...                   \n",
       "217339                 ...                   \n",
       "217340                 ...                   \n",
       "217341                 ...                   \n",
       "217342                 ...                   \n",
       "217343                 ...                   \n",
       "217344                 ...                   \n",
       "217345                 ...                   \n",
       "217346                 ...                   \n",
       "217347                 ...                   \n",
       "\n",
       "        lead_organizer_previous_completed_trips  commute_distance  \\\n",
       "0                                             0               NaN   \n",
       "1                                             1               NaN   \n",
       "2                                             1               NaN   \n",
       "3                                             1               NaN   \n",
       "4                                             0               NaN   \n",
       "5                                             5               1.0   \n",
       "6                                            65               2.0   \n",
       "7                                            13               6.0   \n",
       "8                                            88               0.0   \n",
       "9                                            46              16.0   \n",
       "10                                            6               3.0   \n",
       "11                                          163               NaN   \n",
       "12                                            1               3.0   \n",
       "13                                          114               5.0   \n",
       "14                                          130               NaN   \n",
       "15                                          132               NaN   \n",
       "16                                           10               NaN   \n",
       "17                                            4              34.0   \n",
       "18                                          102               NaN   \n",
       "19                                            5               NaN   \n",
       "20                                            9               NaN   \n",
       "21                                            1               NaN   \n",
       "22                                          115               6.0   \n",
       "23                                          131               6.0   \n",
       "24                                           18              16.0   \n",
       "25                                            2               NaN   \n",
       "26                                            0               8.0   \n",
       "27                                           38               5.0   \n",
       "28                                           31               5.0   \n",
       "29                                            2               NaN   \n",
       "...                                         ...               ...   \n",
       "217318                                       52               NaN   \n",
       "217319                                       56               NaN   \n",
       "217320                                        0               NaN   \n",
       "217321                                        0               NaN   \n",
       "217322                                        5               NaN   \n",
       "217323                                        1               NaN   \n",
       "217324                                        0               NaN   \n",
       "217325                                        1               NaN   \n",
       "217326                                        2               NaN   \n",
       "217327                                        1               NaN   \n",
       "217328                                     1688               NaN   \n",
       "217329                                        2               NaN   \n",
       "217330                                        4               NaN   \n",
       "217331                                        9               NaN   \n",
       "217332                                        2               NaN   \n",
       "217333                                        9               NaN   \n",
       "217334                                       10               NaN   \n",
       "217335                                       12               NaN   \n",
       "217336                                        1               NaN   \n",
       "217337                                       20               NaN   \n",
       "217338                                        5               NaN   \n",
       "217339                                      102               NaN   \n",
       "217340                                       13               NaN   \n",
       "217341                                        4               NaN   \n",
       "217342                                      233               NaN   \n",
       "217343                                       11               NaN   \n",
       "217344                                        0               NaN   \n",
       "217345                                        0               NaN   \n",
       "217346                                        0               NaN   \n",
       "217347                                       23               NaN   \n",
       "\n",
       "        claimed_after_created is_unfilled_canceled is_cd_cancel  \\\n",
       "0                        0.72                False         True   \n",
       "1                       28.88                False         True   \n",
       "2                        0.20                False         True   \n",
       "3                        1.03                False         True   \n",
       "4                        0.25                False         True   \n",
       "5                     2753.65                False        False   \n",
       "6                     5867.40                False        False   \n",
       "7                       32.20                False        False   \n",
       "8                       22.28                False        False   \n",
       "9                   150534.13                False        False   \n",
       "10                      22.83                False        False   \n",
       "11                      96.80                False        False   \n",
       "12                      25.38                False        False   \n",
       "13                       1.97                False        False   \n",
       "14                       0.58                False        False   \n",
       "15                     234.88                False        False   \n",
       "16                       3.42                False         True   \n",
       "17                     252.62                False        False   \n",
       "18                    1287.35                False        False   \n",
       "19                   29738.30                False         True   \n",
       "20                   50176.50                False         True   \n",
       "21                    4570.88                False        False   \n",
       "22                   11624.67                False        False   \n",
       "23                   24489.22                False        False   \n",
       "24                       3.68                False        False   \n",
       "25                      16.98                False        False   \n",
       "26                       4.93                False        False   \n",
       "27                      30.23                False        False   \n",
       "28                     104.15                False        False   \n",
       "29                       4.02                False        False   \n",
       "...                       ...                  ...          ...   \n",
       "217318                    NaN                False        False   \n",
       "217319                    NaN                False        False   \n",
       "217320                    NaN                False        False   \n",
       "217321                    NaN                False        False   \n",
       "217322                    NaN                False        False   \n",
       "217323                5931.75                 True        False   \n",
       "217324                    NaN                False        False   \n",
       "217325                    NaN                False        False   \n",
       "217326                    NaN                False        False   \n",
       "217327                    NaN                False        False   \n",
       "217328                    NaN                False        False   \n",
       "217329                    NaN                False        False   \n",
       "217330                    NaN                False        False   \n",
       "217331                    NaN                False        False   \n",
       "217332                    NaN                False        False   \n",
       "217333                    NaN                False        False   \n",
       "217334                    NaN                False        False   \n",
       "217335                    NaN                False        False   \n",
       "217336                    NaN                False        False   \n",
       "217337                    NaN                False        False   \n",
       "217338                    NaN                 True        False   \n",
       "217339                    NaN                False        False   \n",
       "217340                    NaN                False        False   \n",
       "217341                    NaN                 True        False   \n",
       "217342                    NaN                 True        False   \n",
       "217343                    NaN                False        False   \n",
       "217344                    NaN                False        False   \n",
       "217345                    NaN                False        False   \n",
       "217346                    NaN                False        False   \n",
       "217347                    NaN                False        False   \n",
       "\n",
       "       is_same_day_ride trip_predicted_raw_fare predicted_driver_fare  \\\n",
       "0                 False                     NaN                   NaN   \n",
       "1                 False                   16.00                 14.00   \n",
       "2                  True                   16.00                 14.00   \n",
       "3                  True                   22.11                 16.47   \n",
       "4                 False                   16.00                 14.00   \n",
       "5                 False                   32.50                 19.63   \n",
       "6                 False                   23.09                 14.19   \n",
       "7                 False                   17.81                 14.06   \n",
       "8                 False                   22.56                 15.59   \n",
       "9                 False                   36.19                 21.63   \n",
       "10                False                   16.00                 14.00   \n",
       "11                False                   27.85                 17.93   \n",
       "12                False                   16.00                 14.00   \n",
       "13                False                   16.00                 14.00   \n",
       "14                 True                   20.37                 14.00   \n",
       "15                False                   17.46                 14.00   \n",
       "16                False                   16.00                 14.00   \n",
       "17                 True                   16.00                 14.00   \n",
       "18                False                   16.00                 14.00   \n",
       "19                False                   23.28                 15.46   \n",
       "20                False                   23.28                 15.46   \n",
       "21                False                   16.00                 14.00   \n",
       "22                False                   19.11                 14.00   \n",
       "23                False                   18.87                 14.00   \n",
       "24                False                   17.78                 14.20   \n",
       "25                False                   19.30                 15.37   \n",
       "26                False                   17.65                 14.00   \n",
       "27                False                   16.00                 14.00   \n",
       "28                False                   16.00                 14.00   \n",
       "29                False                   16.00                 14.00   \n",
       "...                 ...                     ...                   ...   \n",
       "217318            False                   37.92                 23.06   \n",
       "217319            False                   37.83                 23.00   \n",
       "217320            False                   51.67                 32.07   \n",
       "217321            False                   16.00                 14.00   \n",
       "217322            False                   18.49                 14.00   \n",
       "217323            False                   18.00                 15.00   \n",
       "217324             True                   18.00                 15.00   \n",
       "217325            False                   18.00                 15.00   \n",
       "217326            False                   16.00                 14.00   \n",
       "217327            False                   25.84                 17.26   \n",
       "217328            False                   47.53                 28.82   \n",
       "217329            False                   18.99                 14.48   \n",
       "217330            False                   18.00                 15.00   \n",
       "217331            False                   23.61                 16.09   \n",
       "217332            False                   17.85                 14.00   \n",
       "217333            False                  159.23                 96.90   \n",
       "217334            False                  140.02                 83.45   \n",
       "217335            False                   27.64                 17.98   \n",
       "217336             True                   16.00                 14.00   \n",
       "217337            False                   20.23                 15.00   \n",
       "217338            False                     NaN                   NaN   \n",
       "217339            False                     NaN                   NaN   \n",
       "217340            False                     NaN                   NaN   \n",
       "217341            False                     NaN                   NaN   \n",
       "217342            False                     NaN                   NaN   \n",
       "217343            False                     NaN                   NaN   \n",
       "217344            False                     NaN                   NaN   \n",
       "217345            False                     NaN                   NaN   \n",
       "217346            False                     NaN                   NaN   \n",
       "217347            False                     NaN                   NaN   \n",
       "\n",
       "       predicted_driver_fare_with_multiplier  \\\n",
       "0                                        NaN   \n",
       "1                                      50.00   \n",
       "2                                      14.00   \n",
       "3                                      16.47   \n",
       "4                                      14.00   \n",
       "5                                      19.63   \n",
       "6                                      14.19   \n",
       "7                                      14.06   \n",
       "8                                      15.59   \n",
       "9                                      21.63   \n",
       "10                                     14.00   \n",
       "11                                     17.93   \n",
       "12                                     14.00   \n",
       "13                                     14.00   \n",
       "14                                     14.00   \n",
       "15                                     14.00   \n",
       "16                                     14.00   \n",
       "17                                     14.00   \n",
       "18                                     14.00   \n",
       "19                                     15.46   \n",
       "20                                     15.46   \n",
       "21                                     14.00   \n",
       "22                                     14.00   \n",
       "23                                     14.00   \n",
       "24                                     14.20   \n",
       "25                                     15.37   \n",
       "26                                     14.00   \n",
       "27                                     14.00   \n",
       "28                                     14.00   \n",
       "29                                     14.00   \n",
       "...                                      ...   \n",
       "217318                                 23.06   \n",
       "217319                                 23.00   \n",
       "217320                                 32.07   \n",
       "217321                                 14.00   \n",
       "217322                                 14.00   \n",
       "217323                                 19.95   \n",
       "217324                                 15.00   \n",
       "217325                                 15.00   \n",
       "217326                                 14.00   \n",
       "217327                                 17.26   \n",
       "217328                                 28.82   \n",
       "217329                                 14.48   \n",
       "217330                                 15.00   \n",
       "217331                                 16.09   \n",
       "217332                                 14.00   \n",
       "217333                                 96.90   \n",
       "217334                                 83.45   \n",
       "217335                                 17.98   \n",
       "217336                                 14.00   \n",
       "217337                                 15.00   \n",
       "217338                                   NaN   \n",
       "217339                                   NaN   \n",
       "217340                                   NaN   \n",
       "217341                                   NaN   \n",
       "217342                                   NaN   \n",
       "217343                                   NaN   \n",
       "217344                                   NaN   \n",
       "217345                                   NaN   \n",
       "217346                                   NaN   \n",
       "217347                                   NaN   \n",
       "\n",
       "       driver_has_driven_this_route_before  \n",
       "0                                    False  \n",
       "1                                    False  \n",
       "2                                    False  \n",
       "3                                    False  \n",
       "4                                    False  \n",
       "5                                    False  \n",
       "6                                     True  \n",
       "7                                    False  \n",
       "8                                     True  \n",
       "9                                     True  \n",
       "10                                   False  \n",
       "11                                   False  \n",
       "12                                   False  \n",
       "13                                    True  \n",
       "14                                   False  \n",
       "15                                    True  \n",
       "16                                    True  \n",
       "17                                   False  \n",
       "18                                    True  \n",
       "19                                    True  \n",
       "20                                    True  \n",
       "21                                   False  \n",
       "22                                    True  \n",
       "23                                    True  \n",
       "24                                   False  \n",
       "25                                   False  \n",
       "26                                   False  \n",
       "27                                    True  \n",
       "28                                   False  \n",
       "29                                   False  \n",
       "...                                    ...  \n",
       "217318                               False  \n",
       "217319                               False  \n",
       "217320                               False  \n",
       "217321                               False  \n",
       "217322                               False  \n",
       "217323                               False  \n",
       "217324                               False  \n",
       "217325                               False  \n",
       "217326                               False  \n",
       "217327                               False  \n",
       "217328                               False  \n",
       "217329                               False  \n",
       "217330                               False  \n",
       "217331                               False  \n",
       "217332                               False  \n",
       "217333                               False  \n",
       "217334                               False  \n",
       "217335                               False  \n",
       "217336                               False  \n",
       "217337                               False  \n",
       "217338                               False  \n",
       "217339                               False  \n",
       "217340                               False  \n",
       "217341                               False  \n",
       "217342                               False  \n",
       "217343                               False  \n",
       "217344                               False  \n",
       "217345                               False  \n",
       "217346                               False  \n",
       "217347                               False  \n",
       "\n",
       "[217348 rows x 74 columns]>"
      ]
     },
     "execution_count": 9,
     "metadata": {},
     "output_type": "execute_result"
    }
   ],
   "source": [
    "df.info"
   ]
  },
  {
   "cell_type": "markdown",
   "metadata": {},
   "source": [
    "#### columns_from_the_future must not be used in predictions but some are needed to label the data"
   ]
  },
  {
   "cell_type": "code",
   "execution_count": 10,
   "metadata": {},
   "outputs": [
    {
     "name": "stdout",
     "output_type": "stream",
     "text": [
      "['trip_state', 'canceled_by', 'canceled_at_pdt', 'canceled_before_scheduled_start', 'departs_for_trip_at_pdt', 'origin_arrived_at_pdt', 'origin_departed_at_pdt', 'destination_arrived_at_pdt', 'rating', 'trip_paid_time', 'driver_fare_multiplier', 'events', 'has_cd_unclaimed_event', 'is_unfilled_canceled', 'is_cd_cancel', 'canceled_by_id', 'commute_distance', 'predicted_driver_fare_with_multiplier']\n",
      "18\n"
     ]
    }
   ],
   "source": [
    "columns_from_the_future = ['trip_state', 'canceled_by', 'canceled_at_pdt', 'canceled_before_scheduled_start', 'departs_for_trip_at_pdt', 'origin_arrived_at_pdt', 'origin_departed_at_pdt', 'destination_arrived_at_pdt', 'rating', 'trip_paid_time', 'driver_fare_multiplier', 'events', 'has_cd_unclaimed_event', 'is_unfilled_canceled', 'is_cd_cancel', 'canceled_by_id', 'commute_distance', 'predicted_driver_fare_with_multiplier']\n",
    "print(columns_from_the_future)\n",
    "print(len(columns_from_the_future))"
   ]
  },
  {
   "cell_type": "code",
   "execution_count": 11,
   "metadata": {},
   "outputs": [
    {
     "data": {
      "text/plain": [
       "['trip_state',\n",
       " 'canceled_by',\n",
       " 'time_anchor',\n",
       " 'origin_analysis_metro_name',\n",
       " 'destination_region_name',\n",
       " 'origin_region_name',\n",
       " 'origin_metro_area_name',\n",
       " 'destination_metro_area_name',\n",
       " 'destination_analysis_metro_name',\n",
       " 'passengers_ids',\n",
       " 'rating',\n",
       " 'start_waypoints_zipcodes',\n",
       " 'end_waypoints_zipcodes',\n",
       " 'lead_organizer_platform',\n",
       " 'lead_organizer_app_version',\n",
       " 'driver_platform',\n",
       " 'driver_app_version',\n",
       " 'driver_gender',\n",
       " 'coupon',\n",
       " 'events',\n",
       " 'has_cd_unclaimed_event']"
      ]
     },
     "execution_count": 11,
     "metadata": {},
     "output_type": "execute_result"
    }
   ],
   "source": [
    "list(df.select_dtypes(['object']).columns)"
   ]
  },
  {
   "cell_type": "code",
   "execution_count": 12,
   "metadata": {},
   "outputs": [
    {
     "data": {
      "text/plain": [
       "id                                                  int64\n",
       "trip_state                                         object\n",
       "canceled_by                                        object\n",
       "canceled_at_pdt                            datetime64[ns]\n",
       "canceled_before_scheduled_start                   float64\n",
       "claimed_at_pdt                             datetime64[ns]\n",
       "driver_id                                         float64\n",
       "lead_organizer_id                                   int64\n",
       "creator_id                                          int64\n",
       "carpool                                              bool\n",
       "is_repeating_ride                                    bool\n",
       "shuttle                                              bool\n",
       "trip_template_id                                  float64\n",
       "departs_for_trip_at_pdt                    datetime64[ns]\n",
       "time_anchor                                        object\n",
       "created_at_pdt                             datetime64[ns]\n",
       "scheduled_starts_at_pdt                    datetime64[ns]\n",
       "scheduled_ends_at_pdt                      datetime64[ns]\n",
       "origin_arrived_at_pdt                      datetime64[ns]\n",
       "origin_departed_at_pdt                     datetime64[ns]\n",
       "destination_arrived_at_pdt                 datetime64[ns]\n",
       "origin_location_id                                float64\n",
       "destination_location_id                           float64\n",
       "origin_region_id                                  float64\n",
       "origin_analysis_metro_name                         object\n",
       "destination_region_id                             float64\n",
       "destination_region_name                            object\n",
       "origin_region_name                                 object\n",
       "origin_metro_area_name                             object\n",
       "destination_metro_area_name                        object\n",
       "                                                ...      \n",
       "route_legs_count                                    int64\n",
       "start_waypoints_zipcodes                           object\n",
       "end_waypoints_zipcodes                             object\n",
       "total_predicted_distance_miles                    float64\n",
       "total_predicted_duration                          float64\n",
       "trip_paid_time                                    float64\n",
       "is_affiliate                                         bool\n",
       "lead_organizer_platform                            object\n",
       "lead_organizer_app_version                         object\n",
       "driver_platform                                    object\n",
       "driver_app_version                                 object\n",
       "driver_gender                                      object\n",
       "driver_fare_multiplier                            float64\n",
       "lead_organizer_created_at_pdt              datetime64[ns]\n",
       "driver_created_at_pdt                      datetime64[ns]\n",
       "coupon                                             object\n",
       "coupon_consumed                                   float64\n",
       "events                                             object\n",
       "has_cd_unclaimed_event                             object\n",
       "driver_previous_completed_trips                   float64\n",
       "lead_organizer_previous_completed_trips             int64\n",
       "commute_distance                                  float64\n",
       "claimed_after_created                             float64\n",
       "is_unfilled_canceled                                 bool\n",
       "is_cd_cancel                                         bool\n",
       "is_same_day_ride                                     bool\n",
       "trip_predicted_raw_fare                           float64\n",
       "predicted_driver_fare                             float64\n",
       "predicted_driver_fare_with_multiplier             float64\n",
       "driver_has_driven_this_route_before                  bool\n",
       "Length: 74, dtype: object"
      ]
     },
     "execution_count": 12,
     "metadata": {},
     "output_type": "execute_result"
    }
   ],
   "source": [
    "df.dtypes"
   ]
  },
  {
   "cell_type": "code",
   "execution_count": 13,
   "metadata": {},
   "outputs": [
    {
     "data": {
      "text/html": [
       "<div>\n",
       "<style scoped>\n",
       "    .dataframe tbody tr th:only-of-type {\n",
       "        vertical-align: middle;\n",
       "    }\n",
       "\n",
       "    .dataframe tbody tr th {\n",
       "        vertical-align: top;\n",
       "    }\n",
       "\n",
       "    .dataframe thead th {\n",
       "        text-align: right;\n",
       "    }\n",
       "</style>\n",
       "<table border=\"1\" class=\"dataframe\">\n",
       "  <thead>\n",
       "    <tr style=\"text-align: right;\">\n",
       "      <th></th>\n",
       "      <th>id</th>\n",
       "      <th>trip_state</th>\n",
       "      <th>canceled_by</th>\n",
       "      <th>canceled_at_pdt</th>\n",
       "      <th>canceled_before_scheduled_start</th>\n",
       "      <th>claimed_at_pdt</th>\n",
       "      <th>driver_id</th>\n",
       "      <th>lead_organizer_id</th>\n",
       "      <th>creator_id</th>\n",
       "      <th>carpool</th>\n",
       "      <th>...</th>\n",
       "      <th>lead_organizer_previous_completed_trips</th>\n",
       "      <th>commute_distance</th>\n",
       "      <th>claimed_after_created</th>\n",
       "      <th>is_unfilled_canceled</th>\n",
       "      <th>is_cd_cancel</th>\n",
       "      <th>is_same_day_ride</th>\n",
       "      <th>trip_predicted_raw_fare</th>\n",
       "      <th>predicted_driver_fare</th>\n",
       "      <th>predicted_driver_fare_with_multiplier</th>\n",
       "      <th>driver_has_driven_this_route_before</th>\n",
       "    </tr>\n",
       "  </thead>\n",
       "  <tbody>\n",
       "    <tr>\n",
       "      <th>0</th>\n",
       "      <td>367322</td>\n",
       "      <td>canceled</td>\n",
       "      <td>Employee</td>\n",
       "      <td>2017-03-08 13:18:55</td>\n",
       "      <td>18.68</td>\n",
       "      <td>2017-03-08 13:16:39</td>\n",
       "      <td>62908.0</td>\n",
       "      <td>87303</td>\n",
       "      <td>87303</td>\n",
       "      <td>False</td>\n",
       "      <td>...</td>\n",
       "      <td>0</td>\n",
       "      <td>NaN</td>\n",
       "      <td>0.72</td>\n",
       "      <td>False</td>\n",
       "      <td>True</td>\n",
       "      <td>False</td>\n",
       "      <td>NaN</td>\n",
       "      <td>NaN</td>\n",
       "      <td>NaN</td>\n",
       "      <td>False</td>\n",
       "    </tr>\n",
       "  </tbody>\n",
       "</table>\n",
       "<p>1 rows × 74 columns</p>\n",
       "</div>"
      ],
      "text/plain": [
       "       id trip_state canceled_by     canceled_at_pdt  \\\n",
       "0  367322   canceled    Employee 2017-03-08 13:18:55   \n",
       "\n",
       "   canceled_before_scheduled_start      claimed_at_pdt  driver_id  \\\n",
       "0                            18.68 2017-03-08 13:16:39    62908.0   \n",
       "\n",
       "   lead_organizer_id  creator_id  carpool                 ...                  \\\n",
       "0              87303       87303    False                 ...                   \n",
       "\n",
       "   lead_organizer_previous_completed_trips  commute_distance  \\\n",
       "0                                        0               NaN   \n",
       "\n",
       "   claimed_after_created is_unfilled_canceled is_cd_cancel is_same_day_ride  \\\n",
       "0                   0.72                False         True            False   \n",
       "\n",
       "  trip_predicted_raw_fare predicted_driver_fare  \\\n",
       "0                     NaN                   NaN   \n",
       "\n",
       "  predicted_driver_fare_with_multiplier driver_has_driven_this_route_before  \n",
       "0                                   NaN                               False  \n",
       "\n",
       "[1 rows x 74 columns]"
      ]
     },
     "execution_count": 13,
     "metadata": {},
     "output_type": "execute_result"
    }
   ],
   "source": [
    "df.head(1)"
   ]
  },
  {
   "cell_type": "markdown",
   "metadata": {},
   "source": [
    "#### pick features to use as input to prediction. here just numerics and not those from the future.\n",
    "todo: add booleans, date features, object features as categorical dummies"
   ]
  },
  {
   "cell_type": "code",
   "execution_count": 14,
   "metadata": {},
   "outputs": [
    {
     "name": "stdout",
     "output_type": "stream",
     "text": [
      "['trip_template_id', 'origin_location_id', 'organizer_home_lon', 'destination_region_id', 'id', 'route_legs_count', 'organizers_count', 'passengers_count', 'driver_home_lon', 'lead_organizer_previous_completed_trips', 'driver_previous_completed_trips', 'lead_organizer_id', 'origin_lon', 'trip_predicted_raw_fare', 'creator_id', 'predicted_driver_fare', 'driver_home_lat', 'claimed_after_created', 'origin_lat', 'organizer_home_lat', 'origin_region_id', 'destination_lat', 'destination_location_id', 'total_predicted_distance_miles', 'destination_lon', 'driver_id', 'total_predicted_duration', 'coupon_consumed']\n"
     ]
    }
   ],
   "source": [
    "feature_columns_to_use=list(set(df.select_dtypes(include=['number']).columns) - set(columns_from_the_future))\n",
    "print(feature_columns_to_use)"
   ]
  },
  {
   "cell_type": "markdown",
   "metadata": {},
   "source": [
    "#### compute arrived_late label, ah should be 5 min late. At 0 seconds, 9% of trips are \"late\"!"
   ]
  },
  {
   "cell_type": "code",
   "execution_count": 15,
   "metadata": {
    "scrolled": false
   },
   "outputs": [
    {
     "data": {
      "text/plain": [
       "id                                           0\n",
       "scheduled_starts_at_pdt                      0\n",
       "origin_arrived_at_pdt                    91673\n",
       "arrived_seconds_after_scheduled_start    91673\n",
       "dtype: int64"
      ]
     },
     "execution_count": 15,
     "metadata": {},
     "output_type": "execute_result"
    }
   ],
   "source": [
    "arrival_time_df=df[['id','scheduled_starts_at_pdt','origin_arrived_at_pdt']]\n",
    "arrival_time_df.shape\n",
    "arrival_time_df=arrival_time_df.assign(\n",
    "    arrived_seconds_after_scheduled_start=lambda x:\n",
    "        (x['origin_arrived_at_pdt'] - x['scheduled_starts_at_pdt']).dt.total_seconds()\n",
    ")\n",
    "\n",
    "# show number of nulls\n",
    "arrival_time_df.isnull().sum()\n",
    "\n"
   ]
  },
  {
   "cell_type": "code",
   "execution_count": 16,
   "metadata": {},
   "outputs": [
    {
     "data": {
      "text/plain": [
       "(125675, 4)"
      ]
     },
     "execution_count": 16,
     "metadata": {},
     "output_type": "execute_result"
    }
   ],
   "source": [
    "arrival_time_df.dropna().shape\n"
   ]
  },
  {
   "cell_type": "code",
   "execution_count": 17,
   "metadata": {},
   "outputs": [
    {
     "data": {
      "text/plain": [
       "array([[<matplotlib.axes._subplots.AxesSubplot object at 0x111990f98>]],\n",
       "      dtype=object)"
      ]
     },
     "execution_count": 17,
     "metadata": {},
     "output_type": "execute_result"
    }
   ],
   "source": [
    "arrival_time_df.dropna().hist(column='arrived_seconds_after_scheduled_start',bins=np.linspace(-1800,1800,60),grid=False)\n"
   ]
  },
  {
   "cell_type": "code",
   "execution_count": 18,
   "metadata": {},
   "outputs": [
    {
     "data": {
      "text/plain": [
       "arrived_seconds_after_scheduled_start   -8.456539\n",
       "dtype: float64"
      ]
     },
     "execution_count": 18,
     "metadata": {},
     "output_type": "execute_result"
    }
   ],
   "source": [
    "# arrives 8.5 minutes early on average\n",
    "arrival_time_df[['arrived_seconds_after_scheduled_start']].dropna().mean()/60"
   ]
  },
  {
   "cell_type": "code",
   "execution_count": 19,
   "metadata": {},
   "outputs": [
    {
     "data": {
      "text/html": [
       "<div>\n",
       "<style scoped>\n",
       "    .dataframe tbody tr th:only-of-type {\n",
       "        vertical-align: middle;\n",
       "    }\n",
       "\n",
       "    .dataframe tbody tr th {\n",
       "        vertical-align: top;\n",
       "    }\n",
       "\n",
       "    .dataframe thead th {\n",
       "        text-align: right;\n",
       "    }\n",
       "</style>\n",
       "<table border=\"1\" class=\"dataframe\">\n",
       "  <thead>\n",
       "    <tr style=\"text-align: right;\">\n",
       "      <th></th>\n",
       "      <th>arrived_seconds_after_scheduled_start</th>\n",
       "    </tr>\n",
       "  </thead>\n",
       "  <tbody>\n",
       "    <tr>\n",
       "      <th>0</th>\n",
       "      <td>-4.45</td>\n",
       "    </tr>\n",
       "  </tbody>\n",
       "</table>\n",
       "</div>"
      ],
      "text/plain": [
       "   arrived_seconds_after_scheduled_start\n",
       "0                                  -4.45"
      ]
     },
     "execution_count": 19,
     "metadata": {},
     "output_type": "execute_result"
    }
   ],
   "source": [
    "# most often arrives 4.5 minutes early on average\n",
    "arrival_time_df[['arrived_seconds_after_scheduled_start']].dropna().mode()/60"
   ]
  },
  {
   "cell_type": "code",
   "execution_count": 20,
   "metadata": {
    "scrolled": true
   },
   "outputs": [
    {
     "data": {
      "text/plain": [
       "<bound method NDFrame.head of             id scheduled_starts_at_pdt origin_arrived_at_pdt  \\\n",
       "0       367322     2017-03-09 08:00:00                   NaT   \n",
       "1       492666     2017-09-11 10:00:00                   NaT   \n",
       "2       527985     2017-09-27 15:07:00                   NaT   \n",
       "3       415557     2017-05-22 21:16:00                   NaT   \n",
       "4       317210     2017-01-22 10:00:00                   NaT   \n",
       "5       338150     2017-02-14 16:00:00   2017-02-14 15:51:43   \n",
       "6       310958     2017-01-24 16:20:00   2017-01-24 16:20:05   \n",
       "7       338135     2017-02-08 16:00:00   2017-02-08 15:54:47   \n",
       "8       324615     2017-01-26 16:30:00   2017-01-26 16:25:04   \n",
       "9       247127     2017-01-23 14:45:00   2017-01-23 14:42:14   \n",
       "10      306833     2017-01-11 14:25:00   2017-01-11 14:20:23   \n",
       "11      436184     2017-06-26 13:30:00   2017-06-26 13:15:40   \n",
       "12      473473     2017-08-21 14:30:00   2017-08-21 14:10:25   \n",
       "13      354050     2017-02-27 15:00:00   2017-02-27 14:48:47   \n",
       "14      415507     2017-05-22 15:00:55   2017-05-22 14:59:17   \n",
       "15      416842     2017-05-25 15:06:12   2017-05-25 15:00:30   \n",
       "16      493287     2017-09-07 14:25:20                   NaT   \n",
       "17      571122     2017-11-09 14:45:00   2017-11-09 14:49:59   \n",
       "18      368854     2017-03-13 07:50:00   2017-03-13 07:53:58   \n",
       "19      311378     2017-02-10 15:15:00                   NaT   \n",
       "20      311386     2017-02-24 15:15:00                   NaT   \n",
       "21      360999     2017-03-09 14:45:00                   NaT   \n",
       "22      527947     2017-10-12 17:15:00   2017-10-12 17:06:29   \n",
       "23      544136     2017-11-06 14:30:00   2017-11-06 14:25:50   \n",
       "24      498306     2017-09-06 20:05:00   2017-09-06 20:02:33   \n",
       "25      410148     2017-05-16 15:00:00   2017-05-16 14:53:06   \n",
       "26      469973     2017-08-18 08:25:00   2017-08-18 08:19:13   \n",
       "27      538266     2017-10-13 07:10:33   2017-10-13 07:06:22   \n",
       "28      532445     2017-10-03 07:10:00   2017-10-03 07:04:28   \n",
       "29      554732     2017-10-26 17:00:00                   NaT   \n",
       "...        ...                     ...                   ...   \n",
       "217318  598477     2017-12-19 16:00:00                   NaT   \n",
       "217319  598485     2017-12-20 16:00:00                   NaT   \n",
       "217320  578504     2017-11-27 18:00:00                   NaT   \n",
       "217321  578872     2017-12-05 07:30:14                   NaT   \n",
       "217322  586946     2017-12-01 15:35:00                   NaT   \n",
       "217323  584098     2017-12-07 14:25:00                   NaT   \n",
       "217324  584408     2017-11-28 15:25:00                   NaT   \n",
       "217325  586277     2017-11-30 15:25:00                   NaT   \n",
       "217326  585210     2017-11-29 15:20:00                   NaT   \n",
       "217327  585552     2017-12-04 16:30:00                   NaT   \n",
       "217328  595519     2017-12-14 14:45:00                   NaT   \n",
       "217329  591585     2017-12-07 17:00:00                   NaT   \n",
       "217330  589883     2017-12-06 14:40:00                   NaT   \n",
       "217331  600352     2017-12-21 09:30:00                   NaT   \n",
       "217332  594559     2017-12-11 15:40:00                   NaT   \n",
       "217333  593683     2017-12-11 14:47:00                   NaT   \n",
       "217334  593682     2017-12-11 20:58:00                   NaT   \n",
       "217335  594844     2017-12-13 19:45:00                   NaT   \n",
       "217336  598325     2017-12-15 21:00:00                   NaT   \n",
       "217337  601561     2017-12-22 16:15:00                   NaT   \n",
       "217338  361610     2017-03-03 15:00:00                   NaT   \n",
       "217339  365353     2017-03-13 15:15:00                   NaT   \n",
       "217340  388941     2017-04-20 15:35:00                   NaT   \n",
       "217341  399956     2017-05-17 15:10:00                   NaT   \n",
       "217342  421974     2017-06-08 07:10:00                   NaT   \n",
       "217343  419833     2017-06-08 14:41:35                   NaT   \n",
       "217344  558581     2017-11-03 22:00:40                   NaT   \n",
       "217345  580499     2017-11-27 15:15:00                   NaT   \n",
       "217346  591432     2017-12-14 07:30:00                   NaT   \n",
       "217347  595949     2017-12-15 23:45:00                   NaT   \n",
       "\n",
       "        arrived_seconds_after_scheduled_start  \n",
       "0                                         NaN  \n",
       "1                                         NaN  \n",
       "2                                         NaN  \n",
       "3                                         NaN  \n",
       "4                                         NaN  \n",
       "5                                      -497.0  \n",
       "6                                         5.0  \n",
       "7                                      -313.0  \n",
       "8                                      -296.0  \n",
       "9                                      -166.0  \n",
       "10                                     -277.0  \n",
       "11                                     -860.0  \n",
       "12                                    -1175.0  \n",
       "13                                     -673.0  \n",
       "14                                      -98.0  \n",
       "15                                     -342.0  \n",
       "16                                        NaN  \n",
       "17                                      299.0  \n",
       "18                                      238.0  \n",
       "19                                        NaN  \n",
       "20                                        NaN  \n",
       "21                                        NaN  \n",
       "22                                     -511.0  \n",
       "23                                     -250.0  \n",
       "24                                     -147.0  \n",
       "25                                     -414.0  \n",
       "26                                     -347.0  \n",
       "27                                     -251.0  \n",
       "28                                     -332.0  \n",
       "29                                        NaN  \n",
       "...                                       ...  \n",
       "217318                                    NaN  \n",
       "217319                                    NaN  \n",
       "217320                                    NaN  \n",
       "217321                                    NaN  \n",
       "217322                                    NaN  \n",
       "217323                                    NaN  \n",
       "217324                                    NaN  \n",
       "217325                                    NaN  \n",
       "217326                                    NaN  \n",
       "217327                                    NaN  \n",
       "217328                                    NaN  \n",
       "217329                                    NaN  \n",
       "217330                                    NaN  \n",
       "217331                                    NaN  \n",
       "217332                                    NaN  \n",
       "217333                                    NaN  \n",
       "217334                                    NaN  \n",
       "217335                                    NaN  \n",
       "217336                                    NaN  \n",
       "217337                                    NaN  \n",
       "217338                                    NaN  \n",
       "217339                                    NaN  \n",
       "217340                                    NaN  \n",
       "217341                                    NaN  \n",
       "217342                                    NaN  \n",
       "217343                                    NaN  \n",
       "217344                                    NaN  \n",
       "217345                                    NaN  \n",
       "217346                                    NaN  \n",
       "217347                                    NaN  \n",
       "\n",
       "[217348 rows x 4 columns]>"
      ]
     },
     "execution_count": 20,
     "metadata": {},
     "output_type": "execute_result"
    }
   ],
   "source": [
    "# show rows and label to verify logic\n",
    "# arrived_late_df[arrived_late_df['label']].head # version where label is TRUE\n",
    "arrival_time_df.head"
   ]
  },
  {
   "cell_type": "code",
   "execution_count": 21,
   "metadata": {},
   "outputs": [
    {
     "data": {
      "text/plain": [
       "<bound method NDFrame.head of         trip_template_id  origin_location_id  organizer_home_lon  \\\n",
       "0                    NaN            119715.0             -118.27   \n",
       "1                    NaN             52933.0             -118.34   \n",
       "2                    NaN             81534.0             -118.34   \n",
       "3                    NaN            118697.0             -118.30   \n",
       "4                    NaN             97313.0             -118.27   \n",
       "5                    NaN             82879.0             -118.34   \n",
       "6                 6325.0             83958.0             -118.34   \n",
       "7                    NaN             84580.0             -118.11   \n",
       "8                    NaN             87880.0             -118.22   \n",
       "9                 3719.0             92149.0             -118.38   \n",
       "10                   NaN            100484.0             -118.21   \n",
       "11                   NaN             83332.0             -117.90   \n",
       "12                   NaN             85043.0             -117.86   \n",
       "13                   NaN             85198.0             -117.99   \n",
       "14                   NaN             86097.0             -117.89   \n",
       "15                   NaN             87215.0             -117.89   \n",
       "16               13317.0             87946.0             -117.68   \n",
       "17                   NaN             88401.0             -118.06   \n",
       "18                   NaN             91085.0             -117.90   \n",
       "19                6335.0             94828.0             -118.16   \n",
       "20                6335.0             94828.0             -118.16   \n",
       "21                7893.0             98241.0             -117.99   \n",
       "22                   NaN             99683.0             -117.88   \n",
       "23               15510.0             99683.0             -117.88   \n",
       "24                   NaN            117592.0             -117.75   \n",
       "25                   NaN            121434.0             -117.87   \n",
       "26                   NaN            144566.0             -118.11   \n",
       "27               15286.0            153103.0             -117.87   \n",
       "28                   NaN            153103.0             -117.87   \n",
       "29                   NaN            169713.0             -117.88   \n",
       "...                  ...                 ...                 ...   \n",
       "217318               NaN            173702.0             -118.26   \n",
       "217319               NaN            173702.0             -118.26   \n",
       "217320               NaN            174259.0             -118.27   \n",
       "217321           16852.0            174369.0             -118.35   \n",
       "217322               NaN            174926.0                 NaN   \n",
       "217323               NaN            175301.0             -122.52   \n",
       "217324           17181.0            175356.0             -122.07   \n",
       "217325               NaN            175356.0             -122.07   \n",
       "217326               NaN            175478.0             -118.22   \n",
       "217327               NaN            175543.0             -118.10   \n",
       "217328               NaN            175545.0             -118.25   \n",
       "217329               NaN            175657.0             -117.84   \n",
       "217330               NaN            176112.0             -122.04   \n",
       "217331               NaN            176230.0             -117.63   \n",
       "217332               NaN            176599.0             -118.18   \n",
       "217333               NaN            176755.0             -118.27   \n",
       "217334               NaN            176755.0             -118.27   \n",
       "217335               NaN            176936.0                 NaN   \n",
       "217336               NaN            177476.0             -118.39   \n",
       "217337               NaN            178021.0             -122.29   \n",
       "217338               NaN                 NaN             -118.44   \n",
       "217339               NaN                 NaN             -118.32   \n",
       "217340               NaN                 NaN             -122.42   \n",
       "217341               NaN                 NaN             -122.23   \n",
       "217342           10223.0                 NaN             -118.45   \n",
       "217343           10194.0                 NaN             -117.86   \n",
       "217344               NaN                 NaN             -121.96   \n",
       "217345               NaN                 NaN             -121.89   \n",
       "217346           17489.0                 NaN             -118.55   \n",
       "217347               NaN                 NaN             -118.27   \n",
       "\n",
       "        destination_region_id      id  route_legs_count  organizers_count  \\\n",
       "0                        25.0  367322                 1               1.0   \n",
       "1                        33.0  492666                 1               1.0   \n",
       "2                        33.0  527985                 1               1.0   \n",
       "3                        34.0  415557                 1               2.0   \n",
       "4                        36.0  317210                 1               1.0   \n",
       "5                        36.0  338150                 1               1.0   \n",
       "6                        36.0  310958                 1               1.0   \n",
       "7                        48.0  338135                 1               1.0   \n",
       "8                        36.0  324615                 1               1.0   \n",
       "9                        33.0  247127                 1               1.0   \n",
       "10                       36.0  306833                 1               1.0   \n",
       "11                       46.0  436184                 1               1.0   \n",
       "12                       46.0  473473                 1               1.0   \n",
       "13                       48.0  354050                 1               1.0   \n",
       "14                       46.0  415507                 2               1.0   \n",
       "15                       46.0  416842                 2               1.0   \n",
       "16                       66.0  493287                 1               1.0   \n",
       "17                       48.0  571122                 1               1.0   \n",
       "18                       46.0  368854                 1               1.0   \n",
       "19                       48.0  311378                 1               1.0   \n",
       "20                       48.0  311386                 1               1.0   \n",
       "21                       47.0  360999                 1               1.0   \n",
       "22                       47.0  527947                 1               1.0   \n",
       "23                       47.0  544136                 1               1.0   \n",
       "24                       66.0  498306                 1               1.0   \n",
       "25                       46.0  410148                 1               1.0   \n",
       "26                       66.0  469973                 1               1.0   \n",
       "27                       46.0  538266                 1               1.0   \n",
       "28                       46.0  532445                 1               1.0   \n",
       "29                       66.0  554732                 1               1.0   \n",
       "...                       ...     ...               ...               ...   \n",
       "217318                   48.0  598477                 1               1.0   \n",
       "217319                   48.0  598485                 1               1.0   \n",
       "217320                   33.0  578504                 1               1.0   \n",
       "217321                   39.0  578872                 1               1.0   \n",
       "217322                   66.0  586946                 1               1.0   \n",
       "217323                   10.0  584098                 1               1.0   \n",
       "217324                    7.0  584408                 1               1.0   \n",
       "217325                    7.0  586277                 1               1.0   \n",
       "217326                   48.0  585210                 1               1.0   \n",
       "217327                   99.0  585552                 1               1.0   \n",
       "217328                   35.0  595519                 1               1.0   \n",
       "217329                   39.0  591585                 1               1.0   \n",
       "217330                   14.0  589883                 1               1.0   \n",
       "217331                   41.0  600352                 1               1.0   \n",
       "217332                   48.0  594559                 1               1.0   \n",
       "217333                   66.0  593683                 1               1.0   \n",
       "217334                   66.0  593682                 1               1.0   \n",
       "217335                   36.0  594844                 1               1.0   \n",
       "217336                   44.0  598325                 1               1.0   \n",
       "217337                   11.0  601561                 1               1.0   \n",
       "217338                    NaN  361610                 1               NaN   \n",
       "217339                    NaN  365353                 1               NaN   \n",
       "217340                    NaN  388941                 1               NaN   \n",
       "217341                    NaN  399956                 1               NaN   \n",
       "217342                    NaN  421974                 1               NaN   \n",
       "217343                    NaN  419833                 1               NaN   \n",
       "217344                    NaN  558581                 1               NaN   \n",
       "217345                    NaN  580499                 1               NaN   \n",
       "217346                    NaN  591432                 1               NaN   \n",
       "217347                    NaN  595949                 1               NaN   \n",
       "\n",
       "        passengers_count  driver_home_lon  \\\n",
       "0                    1.0          -118.27   \n",
       "1                    3.0          -118.34   \n",
       "2                    1.0          -118.34   \n",
       "3                    1.0          -118.34   \n",
       "4                    1.0          -118.27   \n",
       "5                    1.0          -118.25   \n",
       "6                    1.0          -118.25   \n",
       "7                    1.0          -118.25   \n",
       "8                    1.0          -118.25   \n",
       "9                    1.0          -118.25   \n",
       "10                   1.0          -118.25   \n",
       "11                   1.0          -117.96   \n",
       "12                   1.0          -117.96   \n",
       "13                   1.0          -117.96   \n",
       "14                   2.0          -117.96   \n",
       "15                   2.0          -117.96   \n",
       "16                   1.0          -117.96   \n",
       "17                   1.0          -117.96   \n",
       "18                   2.0          -117.96   \n",
       "19                   1.0          -117.96   \n",
       "20                   1.0          -117.96   \n",
       "21                   1.0          -117.96   \n",
       "22                   1.0          -117.96   \n",
       "23                   1.0          -117.96   \n",
       "24                   1.0          -117.96   \n",
       "25                   1.0          -117.96   \n",
       "26                   1.0          -117.96   \n",
       "27                   1.0          -117.96   \n",
       "28                   1.0          -117.96   \n",
       "29                   1.0          -117.96   \n",
       "...                  ...              ...   \n",
       "217318               1.0              NaN   \n",
       "217319               1.0              NaN   \n",
       "217320               1.0              NaN   \n",
       "217321               1.0              NaN   \n",
       "217322               1.0              NaN   \n",
       "217323               1.0              NaN   \n",
       "217324               1.0              NaN   \n",
       "217325               1.0              NaN   \n",
       "217326               1.0              NaN   \n",
       "217327               1.0              NaN   \n",
       "217328               1.0              NaN   \n",
       "217329               1.0              NaN   \n",
       "217330               1.0              NaN   \n",
       "217331               1.0              NaN   \n",
       "217332               1.0              NaN   \n",
       "217333               1.0              NaN   \n",
       "217334               1.0              NaN   \n",
       "217335               1.0              NaN   \n",
       "217336               1.0              NaN   \n",
       "217337               1.0              NaN   \n",
       "217338               NaN              NaN   \n",
       "217339               NaN              NaN   \n",
       "217340               NaN              NaN   \n",
       "217341               NaN              NaN   \n",
       "217342               NaN              NaN   \n",
       "217343               NaN              NaN   \n",
       "217344               NaN              NaN   \n",
       "217345               NaN              NaN   \n",
       "217346               NaN              NaN   \n",
       "217347               NaN              NaN   \n",
       "\n",
       "        lead_organizer_previous_completed_trips       ...         origin_lat  \\\n",
       "0                                             0       ...              29.76   \n",
       "1                                             1       ...              34.03   \n",
       "2                                             1       ...              34.03   \n",
       "3                                             1       ...              34.09   \n",
       "4                                             0       ...              34.10   \n",
       "5                                             5       ...              34.18   \n",
       "6                                            65       ...              34.10   \n",
       "7                                            13       ...              34.13   \n",
       "8                                            88       ...              34.11   \n",
       "9                                            46       ...              34.20   \n",
       "10                                            6       ...              34.15   \n",
       "11                                          163       ...              34.10   \n",
       "12                                            1       ...              34.14   \n",
       "13                                          114       ...              34.14   \n",
       "14                                          130       ...              34.10   \n",
       "15                                          132       ...              34.08   \n",
       "16                                           10       ...              34.10   \n",
       "17                                            4       ...              34.15   \n",
       "18                                          102       ...              34.15   \n",
       "19                                            5       ...              34.10   \n",
       "20                                            9       ...              34.10   \n",
       "21                                            1       ...              33.94   \n",
       "22                                          115       ...              33.98   \n",
       "23                                          131       ...              33.98   \n",
       "24                                           18       ...              33.99   \n",
       "25                                            2       ...              34.07   \n",
       "26                                            0       ...              34.05   \n",
       "27                                           38       ...              34.01   \n",
       "28                                           31       ...              34.01   \n",
       "29                                            2       ...              34.12   \n",
       "...                                         ...       ...                ...   \n",
       "217318                                       52       ...              34.02   \n",
       "217319                                       56       ...              34.02   \n",
       "217320                                        0       ...              34.07   \n",
       "217321                                        0       ...              33.73   \n",
       "217322                                        5       ...              34.09   \n",
       "217323                                        1       ...              38.00   \n",
       "217324                                        0       ...              37.91   \n",
       "217325                                        1       ...              37.91   \n",
       "217326                                        2       ...              34.19   \n",
       "217327                                        1       ...              34.67   \n",
       "217328                                     1688       ...              33.96   \n",
       "217329                                        2       ...              33.69   \n",
       "217330                                        4       ...              37.70   \n",
       "217331                                        9       ...              33.54   \n",
       "217332                                        2       ...              34.14   \n",
       "217333                                        9       ...              34.44   \n",
       "217334                                       10       ...              34.44   \n",
       "217335                                       12       ...              34.21   \n",
       "217336                                        1       ...              34.14   \n",
       "217337                                       20       ...              37.88   \n",
       "217338                                        5       ...                NaN   \n",
       "217339                                      102       ...                NaN   \n",
       "217340                                       13       ...                NaN   \n",
       "217341                                        4       ...                NaN   \n",
       "217342                                      233       ...                NaN   \n",
       "217343                                       11       ...                NaN   \n",
       "217344                                        0       ...                NaN   \n",
       "217345                                        0       ...                NaN   \n",
       "217346                                        0       ...                NaN   \n",
       "217347                                       23       ...                NaN   \n",
       "\n",
       "        organizer_home_lat  origin_region_id  destination_lat  \\\n",
       "0                    34.03              25.0            29.76   \n",
       "1                    34.11              33.0            34.03   \n",
       "2                    34.11              33.0            34.03   \n",
       "3                    34.09              36.0            34.02   \n",
       "4                    34.12              36.0            34.12   \n",
       "5                    34.17              44.0            34.18   \n",
       "6                    34.08              33.0            34.10   \n",
       "7                    34.16              48.0            34.16   \n",
       "8                    34.05              36.0            34.17   \n",
       "9                    34.12              45.0            34.12   \n",
       "10                   34.15              36.0            34.15   \n",
       "11                   34.15              66.0            34.15   \n",
       "12                   34.13              46.0            34.13   \n",
       "13                   34.13              48.0            34.13   \n",
       "14                   34.08              46.0            34.09   \n",
       "15                   34.08              46.0            34.09   \n",
       "16                   34.09              66.0            34.09   \n",
       "17                   34.13              48.0            34.13   \n",
       "18                   34.15              46.0            34.15   \n",
       "19                   34.07              48.0            34.07   \n",
       "20                   34.07              48.0            34.07   \n",
       "21                   33.93              40.0            33.93   \n",
       "22                   34.03              47.0            34.03   \n",
       "23                   34.03              47.0            34.03   \n",
       "24                   34.01              66.0            34.01   \n",
       "25                   34.11              46.0            34.07   \n",
       "26                   33.97              66.0            34.02   \n",
       "27                   34.01              47.0            34.02   \n",
       "28                   34.01              47.0            34.02   \n",
       "29                   34.15              66.0            34.11   \n",
       "...                    ...               ...              ...   \n",
       "217318               34.02              50.0            34.05   \n",
       "217319               34.02              50.0            34.05   \n",
       "217320               34.03              35.0            34.05   \n",
       "217321               33.92              39.0            33.74   \n",
       "217322                 NaN              66.0            34.12   \n",
       "217323               37.99              10.0            37.99   \n",
       "217324               37.88               7.0            37.89   \n",
       "217325               37.88               7.0            37.89   \n",
       "217326               34.22              48.0            34.22   \n",
       "217327               34.68              99.0            34.58   \n",
       "217328               34.12              50.0            34.06   \n",
       "217329               33.68              39.0            33.68   \n",
       "217330               37.67              14.0            37.69   \n",
       "217331               33.55              41.0            33.58   \n",
       "217332               34.17              48.0            34.17   \n",
       "217333               34.03              49.0            34.10   \n",
       "217334               34.03              49.0            34.10   \n",
       "217335                 NaN              44.0            34.18   \n",
       "217336               34.16              44.0            34.16   \n",
       "217337               37.92              11.0            37.92   \n",
       "217338               34.13               NaN              NaN   \n",
       "217339               34.06               NaN              NaN   \n",
       "217340               37.74               NaN              NaN   \n",
       "217341               37.81               NaN              NaN   \n",
       "217342               34.16               NaN              NaN   \n",
       "217343               33.64               NaN              NaN   \n",
       "217344               37.29               NaN              NaN   \n",
       "217345               37.66               NaN              NaN   \n",
       "217346               34.46               NaN              NaN   \n",
       "217347               34.03               NaN              NaN   \n",
       "\n",
       "        destination_location_id  total_predicted_distance_miles  \\\n",
       "0                      119714.0                             1.0   \n",
       "1                      160061.0                             0.0   \n",
       "2                       53750.0                             0.0   \n",
       "3                      131067.0                             9.0   \n",
       "4                       52972.0                             2.0   \n",
       "5                       86289.0                            10.0   \n",
       "6                       86075.0                             5.0   \n",
       "7                       88361.0                             5.0   \n",
       "8                       87908.0                             7.0   \n",
       "9                       89633.0                            13.0   \n",
       "10                     111347.0                             1.0   \n",
       "11                      91085.0                            11.0   \n",
       "12                     156102.0                             2.0   \n",
       "13                      85083.0                             2.0   \n",
       "14                      90666.0                             4.0   \n",
       "15                      90666.0                             3.0   \n",
       "16                     157082.0                             3.0   \n",
       "17                     160260.0                             3.0   \n",
       "18                      89170.0                             3.0   \n",
       "19                      96910.0                             7.0   \n",
       "20                      96910.0                             7.0   \n",
       "21                     119225.0                             2.0   \n",
       "22                      83186.0                             5.0   \n",
       "23                      83186.0                             5.0   \n",
       "24                     112255.0                             5.0   \n",
       "25                      82086.0                             7.0   \n",
       "26                      81968.0                             4.0   \n",
       "27                     153107.0                             3.0   \n",
       "28                     166346.0                             3.0   \n",
       "29                     169714.0                             0.0   \n",
       "...                         ...                             ...   \n",
       "217318                 176197.0                            12.0   \n",
       "217319                 176197.0                            12.0   \n",
       "217320                  82560.0                            15.0   \n",
       "217321                 107464.0                             1.0   \n",
       "217322                 173250.0                             5.0   \n",
       "217323                 156552.0                             2.0   \n",
       "217324                  25949.0                             4.0   \n",
       "217325                  25949.0                             4.0   \n",
       "217326                 142388.0                             3.0   \n",
       "217327                 175542.0                            10.0   \n",
       "217328                  52934.0                            17.0   \n",
       "217329                 175656.0                             6.0   \n",
       "217330                 176114.0                             1.0   \n",
       "217331                 159449.0                             8.0   \n",
       "217332                 175729.0                             4.0   \n",
       "217333                 176754.0                            75.0   \n",
       "217334                 176754.0                            75.0   \n",
       "217335                 140170.0                            11.0   \n",
       "217336                 167023.0                             2.0   \n",
       "217337                 101236.0                             4.0   \n",
       "217338                      NaN                             NaN   \n",
       "217339                      NaN                             NaN   \n",
       "217340                      NaN                             NaN   \n",
       "217341                      NaN                             NaN   \n",
       "217342                      NaN                             NaN   \n",
       "217343                      NaN                             NaN   \n",
       "217344                      NaN                             NaN   \n",
       "217345                      NaN                             NaN   \n",
       "217346                      NaN                             NaN   \n",
       "217347                      NaN                             NaN   \n",
       "\n",
       "        destination_lon  driver_id  total_predicted_duration  coupon_consumed  \n",
       "0                -95.36    62908.0                     13.75              NaN  \n",
       "1               -118.27    62930.0                      6.72              NaN  \n",
       "2               -118.27    62930.0                      4.67              NaN  \n",
       "3               -118.29    62930.0                     18.90              NaN  \n",
       "4               -118.27    62966.0                     15.82              NaN  \n",
       "5               -118.23    62969.0                     36.47              NaN  \n",
       "6               -118.24    62969.0                     29.00              NaN  \n",
       "7               -118.11    62969.0                     18.90              NaN  \n",
       "8               -118.28    62969.0                     22.93              NaN  \n",
       "9               -118.38    62969.0                     35.50              NaN  \n",
       "10              -118.21    62969.0                      8.48              NaN  \n",
       "11              -117.90    62970.0                     25.17              NaN  \n",
       "12              -117.86    62970.0                     13.80              NaN  \n",
       "13              -117.99    62970.0                     15.05              NaN  \n",
       "14              -117.89    62970.0                     27.08              NaN  \n",
       "15              -117.89    62970.0                     23.80              NaN  \n",
       "16              -117.68    62970.0                     15.77              NaN  \n",
       "17              -118.06    62970.0                     17.85              NaN  \n",
       "18              -117.85    62970.0                     14.42              NaN  \n",
       "19              -118.16    62970.0                     24.85              NaN  \n",
       "20              -118.16    62970.0                     24.85              NaN  \n",
       "21              -117.99    62970.0                     15.37              NaN  \n",
       "22              -117.88    62970.0                     22.92              NaN  \n",
       "23              -117.88    62970.0                     22.45              NaN  \n",
       "24              -117.75    62970.0                     18.35              NaN  \n",
       "25              -117.99    62970.0                     17.22              NaN  \n",
       "26              -117.78    62970.0                     20.48              1.0  \n",
       "27              -117.91    62970.0                     13.03              NaN  \n",
       "28              -117.91    62970.0                     12.78              NaN  \n",
       "29              -117.76    62970.0                      8.87              NaN  \n",
       "...                 ...        ...                       ...              ...  \n",
       "217318          -118.10        NaN                     42.07              NaN  \n",
       "217319          -118.10        NaN                     41.90              NaN  \n",
       "217320          -118.25        NaN                     60.83              NaN  \n",
       "217321          -117.82        NaN                     13.28              NaN  \n",
       "217322          -117.56        NaN                     21.45              NaN  \n",
       "217323          -122.52        NaN                     13.15              NaN  \n",
       "217324          -122.06        NaN                     17.02              NaN  \n",
       "217325          -122.06        NaN                     17.30              NaN  \n",
       "217326          -118.22        NaN                     17.73              NaN  \n",
       "217327          -118.14        NaN                     23.55              NaN  \n",
       "217328          -118.41        NaN                     47.38              NaN  \n",
       "217329          -117.84        NaN                     19.75              NaN  \n",
       "217330          -122.06        NaN                     11.70              NaN  \n",
       "217331          -117.61        NaN                     23.27              NaN  \n",
       "217332          -118.18        NaN                     22.10              NaN  \n",
       "217333          -117.58        NaN                    126.40              NaN  \n",
       "217334          -117.58        NaN                     87.98              NaN  \n",
       "217335          -118.28        NaN                     24.58              NaN  \n",
       "217336          -118.39        NaN                     13.58              NaN  \n",
       "217337          -122.29        NaN                     22.43              NaN  \n",
       "217338              NaN        NaN                       NaN              NaN  \n",
       "217339              NaN        NaN                       NaN              NaN  \n",
       "217340              NaN        NaN                       NaN              NaN  \n",
       "217341              NaN        NaN                       NaN              NaN  \n",
       "217342              NaN        NaN                       NaN              NaN  \n",
       "217343              NaN        NaN                       NaN              NaN  \n",
       "217344              NaN        NaN                       NaN              NaN  \n",
       "217345              NaN        NaN                       NaN              NaN  \n",
       "217346              NaN        NaN                       NaN              NaN  \n",
       "217347              NaN        NaN                       NaN              NaN  \n",
       "\n",
       "[217348 rows x 28 columns]>"
      ]
     },
     "execution_count": 21,
     "metadata": {},
     "output_type": "execute_result"
    }
   ],
   "source": [
    "# features look ok, contain some NaNs\n",
    "df[feature_columns_to_use].head"
   ]
  },
  {
   "cell_type": "code",
   "execution_count": 22,
   "metadata": {},
   "outputs": [
    {
     "data": {
      "text/plain": [
       "(64, 28)"
      ]
     },
     "execution_count": 22,
     "metadata": {},
     "output_type": "execute_result"
    }
   ],
   "source": [
    "# hmmm too many NaNs\n",
    "df[feature_columns_to_use].dropna().shape"
   ]
  },
  {
   "cell_type": "code",
   "execution_count": 23,
   "metadata": {},
   "outputs": [
    {
     "data": {
      "text/plain": [
       "(217348, 28)"
      ]
     },
     "execution_count": 23,
     "metadata": {},
     "output_type": "execute_result"
    }
   ],
   "source": [
    "# replace NaNs with 0s, although another solution for missing latlons is probably better\n",
    "df[feature_columns_to_use].fillna(0).shape"
   ]
  },
  {
   "cell_type": "code",
   "execution_count": 24,
   "metadata": {},
   "outputs": [
    {
     "data": {
      "text/plain": [
       "(125675, 74)"
      ]
     },
     "execution_count": 24,
     "metadata": {},
     "output_type": "execute_result"
    }
   ],
   "source": [
    "# eliminate rows where on-time arrival cannot be computed (canceled before arrival, possibly filled).\n",
    "df.loc[df['origin_arrived_at_pdt'].notnull()].shape"
   ]
  },
  {
   "cell_type": "code",
   "execution_count": 25,
   "metadata": {},
   "outputs": [
    {
     "data": {
      "text/plain": [
       "trip_state\n",
       "canceled      1529\n",
       "complete    124146\n",
       "dtype: int64"
      ]
     },
     "execution_count": 25,
     "metadata": {},
     "output_type": "execute_result"
    }
   ],
   "source": [
    "# how many observations of each final state do we have left where on-time arrival can be labeled\n",
    "df.loc[df['origin_arrived_at_pdt'].notnull()].groupby(['trip_state']).size()"
   ]
  },
  {
   "cell_type": "code",
   "execution_count": 26,
   "metadata": {},
   "outputs": [
    {
     "data": {
      "text/plain": [
       "trip_state  driver_id\n",
       "canceled    False             1\n",
       "            True           1528\n",
       "complete    True         124146\n",
       "dtype: int64"
      ]
     },
     "execution_count": 26,
     "metadata": {},
     "output_type": "execute_result"
    }
   ],
   "source": [
    "# how many are filled; all should be but 1 wierd trip arrived with no driver! \n",
    "# chaotic race condition when scheduled start time approaching, cancel by organizer, removing driver, and driver arriving \n",
    "# It will be filled with 0 which is ok.\n",
    "df.loc[df['origin_arrived_at_pdt'].notnull()].groupby(['trip_state',df.driver_id.notnull()]).size()"
   ]
  },
  {
   "cell_type": "code",
   "execution_count": 27,
   "metadata": {},
   "outputs": [
    {
     "data": {
      "text/plain": [
       "(125675, 28)"
      ]
     },
     "execution_count": 27,
     "metadata": {},
     "output_type": "execute_result"
    }
   ],
   "source": [
    "# materialize the useful dataset for training and testing\n",
    "df_X=df.loc[df['origin_arrived_at_pdt'].notnull()][feature_columns_to_use].fillna(0)\n",
    "df_X.shape"
   ]
  },
  {
   "cell_type": "code",
   "execution_count": 28,
   "metadata": {},
   "outputs": [
    {
     "data": {
      "text/plain": [
       "count      125675\n",
       "mean         -507\n",
       "std         22763\n",
       "min      -7862491\n",
       "25%          -657\n",
       "50%          -324\n",
       "75%           -96\n",
       "max        204537\n",
       "dtype: object"
      ]
     },
     "execution_count": 28,
     "metadata": {},
     "output_type": "execute_result"
    }
   ],
   "source": [
    "# materialize the prediction target (arrived_seconds_after_scheduled_start)\n",
    "y=(df.loc[df['origin_arrived_at_pdt'].notnull()].origin_arrived_at_pdt \n",
    "   - df.loc[df['origin_arrived_at_pdt'].notnull()].scheduled_starts_at_pdt).dt.total_seconds()\n",
    "\n",
    "# describe and convert from scientific notation\n",
    "y.describe().apply(lambda x: '%.0f' % x)"
   ]
  },
  {
   "cell_type": "markdown",
   "metadata": {},
   "source": [
    "hmmm. the std is huge. todo: saturate outlier y values"
   ]
  },
  {
   "cell_type": "code",
   "execution_count": 29,
   "metadata": {},
   "outputs": [],
   "source": [
    "# select a linear model\n",
    "import sklearn.linear_model\n",
    "model=sklearn.linear_model.LinearRegression()"
   ]
  },
  {
   "cell_type": "code",
   "execution_count": 30,
   "metadata": {},
   "outputs": [],
   "source": [
    "# fit model\n",
    "model=model.fit(df_X,y)"
   ]
  },
  {
   "cell_type": "code",
   "execution_count": 31,
   "metadata": {},
   "outputs": [
    {
     "data": {
      "text/plain": [
       "array([-1.62476201e-02,  2.70595633e-03, -1.81823726e+02,  4.50137898e+01,\n",
       "       -3.25499236e-03, -3.22183801e+02,  1.01516860e+02,  2.48505505e+01,\n",
       "       -8.58522900e+03,  3.59288569e-02,  1.10736255e+00,  4.80168450e-03,\n",
       "        5.25099032e+03, -5.01205250e+00, -1.05420992e-02, -3.34419741e+01,\n",
       "        4.33147288e+04, -1.67092237e-03, -2.45797966e+04, -6.14462926e+02,\n",
       "        4.32138965e+01, -1.81633913e+04,  6.22559707e-04,  4.73574151e+01,\n",
       "        2.69712025e+03,  3.79677890e-03,  2.63405249e+01, -4.39468979e+01])"
      ]
     },
     "execution_count": 31,
     "metadata": {},
     "output_type": "execute_result"
    }
   ],
   "source": [
    "model.coef_"
   ]
  },
  {
   "cell_type": "code",
   "execution_count": 32,
   "metadata": {},
   "outputs": [
    {
     "data": {
      "text/plain": [
       "-98297.10086836905"
      ]
     },
     "execution_count": 32,
     "metadata": {},
     "output_type": "execute_result"
    }
   ],
   "source": [
    "model.intercept_"
   ]
  },
  {
   "cell_type": "code",
   "execution_count": 33,
   "metadata": {},
   "outputs": [
    {
     "data": {
      "text/plain": [
       "0.3241908396604172"
      ]
     },
     "execution_count": 33,
     "metadata": {},
     "output_type": "execute_result"
    }
   ],
   "source": [
    "# score against full training set\n",
    "model.score(df_X,y)"
   ]
  },
  {
   "cell_type": "code",
   "execution_count": 34,
   "metadata": {},
   "outputs": [
    {
     "data": {
      "text/plain": [
       "125675"
      ]
     },
     "execution_count": 34,
     "metadata": {},
     "output_type": "execute_result"
    }
   ],
   "source": [
    "model_y_pred = model.predict(df_X)\n",
    "model_y_pred.size"
   ]
  },
  {
   "cell_type": "code",
   "execution_count": 35,
   "metadata": {},
   "outputs": [
    {
     "data": {
      "text/plain": [
       "numpy.ndarray"
      ]
     },
     "execution_count": 35,
     "metadata": {},
     "output_type": "execute_result"
    }
   ],
   "source": [
    "type(model_y_pred)"
   ]
  },
  {
   "cell_type": "code",
   "execution_count": 36,
   "metadata": {},
   "outputs": [
    {
     "data": {
      "text/plain": [
       "0.3241908396604172"
      ]
     },
     "execution_count": 36,
     "metadata": {},
     "output_type": "execute_result"
    }
   ],
   "source": [
    "from sklearn.metrics import explained_variance_score\n",
    "explained_variance_score(y, model_y_pred)"
   ]
  },
  {
   "cell_type": "code",
   "execution_count": 37,
   "metadata": {},
   "outputs": [
    {
     "data": {
      "text/plain": [
       "350179853.5337528"
      ]
     },
     "execution_count": 37,
     "metadata": {},
     "output_type": "execute_result"
    }
   ],
   "source": [
    "from sklearn.metrics import mean_squared_error\n",
    "mean_squared_error(y, model_y_pred)"
   ]
  },
  {
   "cell_type": "code",
   "execution_count": 38,
   "metadata": {},
   "outputs": [
    {
     "data": {
      "text/plain": [
       "0.3241908396604172"
      ]
     },
     "execution_count": 38,
     "metadata": {},
     "output_type": "execute_result"
    }
   ],
   "source": [
    "from sklearn.metrics import r2_score\n",
    "r2_score(y, model_y_pred)"
   ]
  },
  {
   "cell_type": "markdown",
   "metadata": {},
   "source": [
    "regression score == r2_score. So use model.score. .32 seems high for the data I gave it. how to see hwat it did?"
   ]
  },
  {
   "cell_type": "code",
   "execution_count": 39,
   "metadata": {},
   "outputs": [
    {
     "name": "stdout",
     "output_type": "stream",
     "text": [
      "0   -507.39234\n",
      "1   -507.39234\n",
      "2   -507.39234\n",
      "3   -507.39234\n",
      "4   -507.39234\n",
      "5   -507.39234\n",
      "6   -507.39234\n",
      "7   -507.39234\n",
      "8   -507.39234\n",
      "9   -507.39234\n",
      "dtype: float64\n",
      "125675\n"
     ]
    }
   ],
   "source": [
    "# score a model using constant (the mean) as the prediction to set a baseline\n",
    "k = pd.Series([-8.456539*60]*y.size)\n",
    "print(k.head(10))\n",
    "print(k.size)"
   ]
  },
  {
   "cell_type": "code",
   "execution_count": 40,
   "metadata": {},
   "outputs": [
    {
     "data": {
      "text/plain": [
       "-2.079540733227249e+33"
      ]
     },
     "execution_count": 40,
     "metadata": {},
     "output_type": "execute_result"
    }
   ],
   "source": [
    "model.score(df_X,k)"
   ]
  },
  {
   "cell_type": "code",
   "execution_count": 41,
   "metadata": {},
   "outputs": [
    {
     "data": {
      "text/plain": [
       "0.0"
      ]
     },
     "execution_count": 41,
     "metadata": {},
     "output_type": "execute_result"
    }
   ],
   "source": [
    "explained_variance_score(y, k)"
   ]
  },
  {
   "cell_type": "code",
   "execution_count": 42,
   "metadata": {},
   "outputs": [
    {
     "data": {
      "text/plain": [
       "1.1102230246251565e-16"
      ]
     },
     "execution_count": 42,
     "metadata": {},
     "output_type": "execute_result"
    }
   ],
   "source": [
    "r2_score(y, k)"
   ]
  },
  {
   "cell_type": "markdown",
   "metadata": {},
   "source": [
    "##### hmmm. \n",
    "note: R-squared will always increase as you add more features to the model, even if they are unrelated to the response\n",
    "Selecting the model with the highest R-squared is not a reliable approach for choosing the best linear model. \n",
    "Train/test split or cross-validation. More reliable estimate of out-of-sample error. Better for choosing which of your models will best generalize to out-of-sample data[https://www.ritchieng.com/machine-learning-evaluate-linear-regression-model/]\n",
    "\n",
    "used: https://stackoverflow.com/questions/41900387/mapping-column-names-to-random-forest-feature-importances\n",
    "\n",
    "Later: ? fancier models\n",
    "Hypotheses: new drivers, specific locations/routes/pickups, last minute unclaims/claims\n",
    "Remove 0-weighted features?\n",
    "Add the log of features?\n",
    "Try some fancier models like random forests or whatever?\n",
    "Deal with imbalanced classes (on-time arrivals are 91% of observations)?\n"
   ]
  },
  {
   "cell_type": "code",
   "execution_count": null,
   "metadata": {},
   "outputs": [],
   "source": []
  }
 ],
 "metadata": {
  "kernelspec": {
   "display_name": "Python 3",
   "language": "python",
   "name": "python3"
  },
  "language_info": {
   "codemirror_mode": {
    "name": "ipython",
    "version": 3
   },
   "file_extension": ".py",
   "mimetype": "text/x-python",
   "name": "python",
   "nbconvert_exporter": "python",
   "pygments_lexer": "ipython3",
   "version": "3.6.5"
  }
 },
 "nbformat": 4,
 "nbformat_minor": 2
}
