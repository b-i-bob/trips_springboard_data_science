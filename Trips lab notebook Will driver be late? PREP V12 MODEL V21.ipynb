{
 "cells": [
  {
   "cell_type": "markdown",
   "metadata": {},
   "source": [
    "### Regression model V21\n",
    "Use most recent 20% as test set to test leakage in new feature avg prior late arrival to origin location\n",
    "\n",
    "try gradient boosted regressor (see cell 14)"
   ]
  },
  {
   "cell_type": "code",
   "execution_count": 1,
   "metadata": {},
   "outputs": [],
   "source": [
    "fileprefix='./lateness_PREP_V12_'"
   ]
  },
  {
   "cell_type": "code",
   "execution_count": 2,
   "metadata": {},
   "outputs": [],
   "source": [
    "import pandas as pd\n",
    "import numpy as np"
   ]
  },
  {
   "cell_type": "code",
   "execution_count": 3,
   "metadata": {},
   "outputs": [],
   "source": [
    "df_X=pd.read_csv(fileprefix+'X.csv', sep='\\t')"
   ]
  },
  {
   "cell_type": "code",
   "execution_count": 4,
   "metadata": {},
   "outputs": [
    {
     "data": {
      "text/plain": [
       "(125675, 217)"
      ]
     },
     "execution_count": 4,
     "metadata": {},
     "output_type": "execute_result"
    }
   ],
   "source": [
    "df_X.shape"
   ]
  },
  {
   "cell_type": "code",
   "execution_count": 5,
   "metadata": {},
   "outputs": [],
   "source": [
    "df_y=pd.read_csv(fileprefix+'y.csv', sep='\\t', header=None)"
   ]
  },
  {
   "cell_type": "code",
   "execution_count": 6,
   "metadata": {},
   "outputs": [
    {
     "data": {
      "text/plain": [
       "(125675, 2)"
      ]
     },
     "execution_count": 6,
     "metadata": {},
     "output_type": "execute_result"
    }
   ],
   "source": [
    "type(df_y)\n",
    "df_y.shape"
   ]
  },
  {
   "cell_type": "code",
   "execution_count": 7,
   "metadata": {},
   "outputs": [
    {
     "data": {
      "text/html": [
       "<div>\n",
       "<style scoped>\n",
       "    .dataframe tbody tr th:only-of-type {\n",
       "        vertical-align: middle;\n",
       "    }\n",
       "\n",
       "    .dataframe tbody tr th {\n",
       "        vertical-align: top;\n",
       "    }\n",
       "\n",
       "    .dataframe thead th {\n",
       "        text-align: right;\n",
       "    }\n",
       "</style>\n",
       "<table border=\"1\" class=\"dataframe\">\n",
       "  <thead>\n",
       "    <tr style=\"text-align: right;\">\n",
       "      <th></th>\n",
       "      <th>0</th>\n",
       "      <th>1</th>\n",
       "    </tr>\n",
       "  </thead>\n",
       "  <tbody>\n",
       "    <tr>\n",
       "      <th>0</th>\n",
       "      <td>5</td>\n",
       "      <td>-497.0</td>\n",
       "    </tr>\n",
       "    <tr>\n",
       "      <th>1</th>\n",
       "      <td>6</td>\n",
       "      <td>5.0</td>\n",
       "    </tr>\n",
       "    <tr>\n",
       "      <th>2</th>\n",
       "      <td>7</td>\n",
       "      <td>-313.0</td>\n",
       "    </tr>\n",
       "    <tr>\n",
       "      <th>3</th>\n",
       "      <td>8</td>\n",
       "      <td>-296.0</td>\n",
       "    </tr>\n",
       "    <tr>\n",
       "      <th>4</th>\n",
       "      <td>9</td>\n",
       "      <td>-166.0</td>\n",
       "    </tr>\n",
       "  </tbody>\n",
       "</table>\n",
       "</div>"
      ],
      "text/plain": [
       "   0      1\n",
       "0  5 -497.0\n",
       "1  6    5.0\n",
       "2  7 -313.0\n",
       "3  8 -296.0\n",
       "4  9 -166.0"
      ]
     },
     "execution_count": 7,
     "metadata": {},
     "output_type": "execute_result"
    }
   ],
   "source": [
    "df_y.head()"
   ]
  },
  {
   "cell_type": "code",
   "execution_count": 8,
   "metadata": {},
   "outputs": [
    {
     "data": {
      "text/plain": [
       "0   -497.0\n",
       "1      5.0\n",
       "2   -313.0\n",
       "3   -296.0\n",
       "4   -166.0\n",
       "Name: 1, dtype: float64"
      ]
     },
     "execution_count": 8,
     "metadata": {},
     "output_type": "execute_result"
    }
   ],
   "source": [
    "y=df_y[1]\n",
    "y.head()"
   ]
  },
  {
   "cell_type": "code",
   "execution_count": 9,
   "metadata": {},
   "outputs": [
    {
     "data": {
      "text/plain": [
       "(125675,)"
      ]
     },
     "execution_count": 9,
     "metadata": {},
     "output_type": "execute_result"
    }
   ],
   "source": [
    "y.shape"
   ]
  },
  {
   "cell_type": "code",
   "execution_count": 10,
   "metadata": {},
   "outputs": [
    {
     "data": {
      "text/html": [
       "<div>\n",
       "<style scoped>\n",
       "    .dataframe tbody tr th:only-of-type {\n",
       "        vertical-align: middle;\n",
       "    }\n",
       "\n",
       "    .dataframe tbody tr th {\n",
       "        vertical-align: top;\n",
       "    }\n",
       "\n",
       "    .dataframe thead th {\n",
       "        text-align: right;\n",
       "    }\n",
       "</style>\n",
       "<table border=\"1\" class=\"dataframe\">\n",
       "  <thead>\n",
       "    <tr style=\"text-align: right;\">\n",
       "      <th></th>\n",
       "      <th>Unnamed: 0</th>\n",
       "      <th>claimed_at_pdt_hour_22</th>\n",
       "      <th>claimed_at_pdt_hour_1</th>\n",
       "      <th>scheduled_starts_at_pdt_hour_11</th>\n",
       "      <th>origin_analysis_metro_name_OC</th>\n",
       "      <th>scheduled_starts_at_pdt_quarter</th>\n",
       "      <th>created_at_pdt_weekofyear</th>\n",
       "      <th>origin_region_id</th>\n",
       "      <th>claimed_at_pdt_month_4</th>\n",
       "      <th>origin_region_name_San Fernando Valley - East</th>\n",
       "      <th>...</th>\n",
       "      <th>total_predicted_duration</th>\n",
       "      <th>scheduled_starts_at_pdt_hour_9</th>\n",
       "      <th>claimed_at_pdt_quarter_4</th>\n",
       "      <th>origin_location_id</th>\n",
       "      <th>claimed_at_pdt_hour_3</th>\n",
       "      <th>drivers_prev_ride_1hr_int</th>\n",
       "      <th>driver_home_lon</th>\n",
       "      <th>scheduled_starts_at_pdt_hour</th>\n",
       "      <th>origin_lon</th>\n",
       "      <th>driver_signup_before_org_signup_secs</th>\n",
       "    </tr>\n",
       "  </thead>\n",
       "  <tbody>\n",
       "    <tr>\n",
       "      <th>0</th>\n",
       "      <td>5</td>\n",
       "      <td>0</td>\n",
       "      <td>0</td>\n",
       "      <td>0</td>\n",
       "      <td>0</td>\n",
       "      <td>1</td>\n",
       "      <td>5</td>\n",
       "      <td>44.0</td>\n",
       "      <td>0</td>\n",
       "      <td>1</td>\n",
       "      <td>...</td>\n",
       "      <td>36.47</td>\n",
       "      <td>0</td>\n",
       "      <td>0</td>\n",
       "      <td>82879.0</td>\n",
       "      <td>0</td>\n",
       "      <td>1</td>\n",
       "      <td>-118.25</td>\n",
       "      <td>16</td>\n",
       "      <td>-118.35</td>\n",
       "      <td>-69412.0</td>\n",
       "    </tr>\n",
       "    <tr>\n",
       "      <th>1</th>\n",
       "      <td>6</td>\n",
       "      <td>0</td>\n",
       "      <td>0</td>\n",
       "      <td>0</td>\n",
       "      <td>0</td>\n",
       "      <td>1</td>\n",
       "      <td>2</td>\n",
       "      <td>33.0</td>\n",
       "      <td>0</td>\n",
       "      <td>0</td>\n",
       "      <td>...</td>\n",
       "      <td>29.00</td>\n",
       "      <td>0</td>\n",
       "      <td>0</td>\n",
       "      <td>83958.0</td>\n",
       "      <td>0</td>\n",
       "      <td>1</td>\n",
       "      <td>-118.25</td>\n",
       "      <td>16</td>\n",
       "      <td>-118.31</td>\n",
       "      <td>-69815.0</td>\n",
       "    </tr>\n",
       "    <tr>\n",
       "      <th>2</th>\n",
       "      <td>7</td>\n",
       "      <td>0</td>\n",
       "      <td>0</td>\n",
       "      <td>0</td>\n",
       "      <td>0</td>\n",
       "      <td>1</td>\n",
       "      <td>5</td>\n",
       "      <td>48.0</td>\n",
       "      <td>0</td>\n",
       "      <td>0</td>\n",
       "      <td>...</td>\n",
       "      <td>18.90</td>\n",
       "      <td>0</td>\n",
       "      <td>0</td>\n",
       "      <td>84580.0</td>\n",
       "      <td>0</td>\n",
       "      <td>1</td>\n",
       "      <td>-118.25</td>\n",
       "      <td>16</td>\n",
       "      <td>-118.16</td>\n",
       "      <td>-66508.0</td>\n",
       "    </tr>\n",
       "    <tr>\n",
       "      <th>3</th>\n",
       "      <td>8</td>\n",
       "      <td>0</td>\n",
       "      <td>0</td>\n",
       "      <td>0</td>\n",
       "      <td>0</td>\n",
       "      <td>1</td>\n",
       "      <td>4</td>\n",
       "      <td>36.0</td>\n",
       "      <td>0</td>\n",
       "      <td>0</td>\n",
       "      <td>...</td>\n",
       "      <td>22.93</td>\n",
       "      <td>0</td>\n",
       "      <td>0</td>\n",
       "      <td>87880.0</td>\n",
       "      <td>0</td>\n",
       "      <td>1</td>\n",
       "      <td>-118.25</td>\n",
       "      <td>16</td>\n",
       "      <td>-118.24</td>\n",
       "      <td>-69324.0</td>\n",
       "    </tr>\n",
       "    <tr>\n",
       "      <th>4</th>\n",
       "      <td>9</td>\n",
       "      <td>0</td>\n",
       "      <td>0</td>\n",
       "      <td>0</td>\n",
       "      <td>0</td>\n",
       "      <td>1</td>\n",
       "      <td>40</td>\n",
       "      <td>45.0</td>\n",
       "      <td>0</td>\n",
       "      <td>0</td>\n",
       "      <td>...</td>\n",
       "      <td>35.50</td>\n",
       "      <td>0</td>\n",
       "      <td>0</td>\n",
       "      <td>92149.0</td>\n",
       "      <td>0</td>\n",
       "      <td>0</td>\n",
       "      <td>-118.25</td>\n",
       "      <td>14</td>\n",
       "      <td>-118.51</td>\n",
       "      <td>-70895.0</td>\n",
       "    </tr>\n",
       "  </tbody>\n",
       "</table>\n",
       "<p>5 rows × 217 columns</p>\n",
       "</div>"
      ],
      "text/plain": [
       "   Unnamed: 0  claimed_at_pdt_hour_22  claimed_at_pdt_hour_1  \\\n",
       "0           5                       0                      0   \n",
       "1           6                       0                      0   \n",
       "2           7                       0                      0   \n",
       "3           8                       0                      0   \n",
       "4           9                       0                      0   \n",
       "\n",
       "   scheduled_starts_at_pdt_hour_11  origin_analysis_metro_name_OC  \\\n",
       "0                                0                              0   \n",
       "1                                0                              0   \n",
       "2                                0                              0   \n",
       "3                                0                              0   \n",
       "4                                0                              0   \n",
       "\n",
       "   scheduled_starts_at_pdt_quarter  created_at_pdt_weekofyear  \\\n",
       "0                                1                          5   \n",
       "1                                1                          2   \n",
       "2                                1                          5   \n",
       "3                                1                          4   \n",
       "4                                1                         40   \n",
       "\n",
       "   origin_region_id  claimed_at_pdt_month_4  \\\n",
       "0              44.0                       0   \n",
       "1              33.0                       0   \n",
       "2              48.0                       0   \n",
       "3              36.0                       0   \n",
       "4              45.0                       0   \n",
       "\n",
       "   origin_region_name_San Fernando Valley - East  \\\n",
       "0                                              1   \n",
       "1                                              0   \n",
       "2                                              0   \n",
       "3                                              0   \n",
       "4                                              0   \n",
       "\n",
       "                   ...                   total_predicted_duration  \\\n",
       "0                  ...                                      36.47   \n",
       "1                  ...                                      29.00   \n",
       "2                  ...                                      18.90   \n",
       "3                  ...                                      22.93   \n",
       "4                  ...                                      35.50   \n",
       "\n",
       "   scheduled_starts_at_pdt_hour_9  claimed_at_pdt_quarter_4  \\\n",
       "0                               0                         0   \n",
       "1                               0                         0   \n",
       "2                               0                         0   \n",
       "3                               0                         0   \n",
       "4                               0                         0   \n",
       "\n",
       "   origin_location_id  claimed_at_pdt_hour_3  drivers_prev_ride_1hr_int  \\\n",
       "0             82879.0                      0                          1   \n",
       "1             83958.0                      0                          1   \n",
       "2             84580.0                      0                          1   \n",
       "3             87880.0                      0                          1   \n",
       "4             92149.0                      0                          0   \n",
       "\n",
       "   driver_home_lon  scheduled_starts_at_pdt_hour  origin_lon  \\\n",
       "0          -118.25                            16     -118.35   \n",
       "1          -118.25                            16     -118.31   \n",
       "2          -118.25                            16     -118.16   \n",
       "3          -118.25                            16     -118.24   \n",
       "4          -118.25                            14     -118.51   \n",
       "\n",
       "   driver_signup_before_org_signup_secs  \n",
       "0                              -69412.0  \n",
       "1                              -69815.0  \n",
       "2                              -66508.0  \n",
       "3                              -69324.0  \n",
       "4                              -70895.0  \n",
       "\n",
       "[5 rows x 217 columns]"
      ]
     },
     "execution_count": 10,
     "metadata": {},
     "output_type": "execute_result"
    }
   ],
   "source": [
    "df_X.head()"
   ]
  },
  {
   "cell_type": "code",
   "execution_count": 11,
   "metadata": {},
   "outputs": [
    {
     "data": {
      "text/plain": [
       "count    125675.0\n",
       "mean       -416.0\n",
       "std         509.0\n",
       "min       -1800.0\n",
       "25%        -657.0\n",
       "50%        -324.0\n",
       "75%         -96.0\n",
       "max        1800.0\n",
       "Name: 1, dtype: float64"
      ]
     },
     "execution_count": 11,
     "metadata": {},
     "output_type": "execute_result"
    }
   ],
   "source": [
    "y.describe().round()"
   ]
  },
  {
   "cell_type": "code",
   "execution_count": 12,
   "metadata": {},
   "outputs": [],
   "source": [
    "# break df_X,y into test and train sets\n",
    "###from sklearn.model_selection import train_test_split\n",
    "###X_train, X_test, y_train, y_test = train_test_split(df_X, y, test_size=0.20, random_state=808)\n",
    "# use first 80% as train and last 30% as test to test for leakage\n",
    "###print(y.shape[0])\n",
    "###train_split=0.80\n",
    "###index = int(np.floor(y.shape[0] * train_split))\n",
    "###print(index)\n",
    "###y_train = y[:index]\n",
    "###print(y_train.shape)\n",
    "###X_train = df_X[:index]\n",
    "###print(X_train.shape)\n",
    "###y_test = y[index:]\n",
    "###print(y_test.shape)\n",
    "##print(y_train.head())\n",
    "##print(y_train.tail())\n",
    "##print(y_test.head())\n",
    "##print(y_test.tail())\n",
    "###X_test = df_X[index:]\n",
    "###print(X_test.shape)\n",
    "###X_train.iloc[:10]['scheduled_starts_at_pdt_dayofyear']\n",
    "## this shows df_X (and y) are not in time sorted order... so try another approach\n",
    "##X_train.iloc[:10]['scheduled_starts_at_pdt_dayofyear'][X_train['scheduled_starts_at_pdt_dayofyear']<100]\n",
    "###df_X[df_X.scheduled_starts_at_pdt_dayofyear>=100]['scheduled_starts_at_pdt_dayofyear'].head(10)\n",
    "###y[df_X.scheduled_starts_at_pdt_dayofyear>=100].head(10)\n",
    "###y[df_X.scheduled_starts_at_pdt_dayofyear>=299].count()\n",
    "\n",
    "## to test for leakage train on older data and test on newer data\n",
    "## approximate 80/20 split\n",
    "## data contains 1 year of data, first 298 days of the year use for training, rest use for testing\n",
    "y_train = y[df_X.scheduled_starts_at_pdt_dayofyear<299]\n",
    "X_train = df_X[df_X.scheduled_starts_at_pdt_dayofyear<299]\n",
    "y_test = y[df_X.scheduled_starts_at_pdt_dayofyear>=299]\n",
    "X_test = df_X[df_X.scheduled_starts_at_pdt_dayofyear>=299]\n"
   ]
  },
  {
   "cell_type": "code",
   "execution_count": 13,
   "metadata": {},
   "outputs": [
    {
     "name": "stdout",
     "output_type": "stream",
     "text": [
      "(100198, 217)\n",
      "(25477, 217)\n",
      "(100198,)\n",
      "(25477,)\n"
     ]
    }
   ],
   "source": [
    "for i in X_train, X_test, y_train, y_test:\n",
    "    print(i.shape)"
   ]
  },
  {
   "cell_type": "code",
   "execution_count": 14,
   "metadata": {},
   "outputs": [],
   "source": [
    "# select a regressor\n",
    "from sklearn.ensemble import GradientBoostingRegressor\n",
    "model=GradientBoostingRegressor(max_depth=4, random_state=808, n_estimators=200)"
   ]
  },
  {
   "cell_type": "code",
   "execution_count": 15,
   "metadata": {},
   "outputs": [],
   "source": [
    "# fit model\n",
    "model=model.fit(X_train,y_train)"
   ]
  },
  {
   "cell_type": "code",
   "execution_count": 16,
   "metadata": {},
   "outputs": [
    {
     "name": "stdout",
     "output_type": "stream",
     "text": [
      "[2.19953944e-02 0.00000000e+00 0.00000000e+00 3.94284381e-04\n",
      " 5.54908594e-04 2.84009698e-06 3.12356408e-03 4.11684386e-03\n",
      " 4.91708730e-04 9.03991793e-04 9.55145057e-05 0.00000000e+00\n",
      " 0.00000000e+00 7.04178585e-04 0.00000000e+00 0.00000000e+00\n",
      " 4.83782532e-03 5.03786271e-04 7.51584825e-03 0.00000000e+00\n",
      " 3.56019985e-02 0.00000000e+00 3.45031643e-02 1.63548871e-03\n",
      " 1.34016348e-02 3.34985604e-04 1.44103717e-02 8.48903835e-03\n",
      " 0.00000000e+00 5.41966207e-03 2.25119990e-04 5.28109217e-03\n",
      " 0.00000000e+00 9.57326554e-05 0.00000000e+00 0.00000000e+00\n",
      " 8.76566329e-04 0.00000000e+00 4.19090460e-04 1.00410732e-02\n",
      " 0.00000000e+00 0.00000000e+00 0.00000000e+00 5.06804106e-02\n",
      " 0.00000000e+00 3.20099620e-04 0.00000000e+00 5.98180082e-04\n",
      " 2.69524837e-04 0.00000000e+00 0.00000000e+00 0.00000000e+00\n",
      " 1.83022082e-02 5.55909497e-04 0.00000000e+00 0.00000000e+00\n",
      " 0.00000000e+00 0.00000000e+00 1.02250721e-03 0.00000000e+00\n",
      " 1.68564582e-03 4.00750623e-02 8.61643491e-04 0.00000000e+00\n",
      " 0.00000000e+00 3.51444467e-04 3.40616035e-03 0.00000000e+00\n",
      " 6.76284341e-05 4.47542267e-03 1.18927869e-04 0.00000000e+00\n",
      " 1.99790415e-03 4.93382622e-03 1.85938109e-06 7.67472988e-04\n",
      " 0.00000000e+00 0.00000000e+00 0.00000000e+00 4.32580170e-04\n",
      " 1.05112803e-04 1.83589113e-02 4.12668390e-04 8.91406919e-03\n",
      " 4.46462131e-03 4.02418750e-03 2.03776743e-03 2.03684876e-03\n",
      " 1.84997980e-03 5.38892870e-03 9.25594626e-04 1.88440976e-03\n",
      " 1.03296693e-02 3.43212402e-04 0.00000000e+00 4.17824764e-03\n",
      " 2.17493314e-03 1.21065318e-02 7.24863743e-04 0.00000000e+00\n",
      " 0.00000000e+00 0.00000000e+00 0.00000000e+00 0.00000000e+00\n",
      " 1.82867338e-03 1.13436949e-02 1.57590780e-02 3.40219734e-05\n",
      " 1.65666224e-04 0.00000000e+00 4.71672416e-04 2.16108169e-03\n",
      " 9.73380860e-03 0.00000000e+00 7.21901644e-04 6.52509019e-07\n",
      " 1.84887888e-03 0.00000000e+00 2.66019643e-04 0.00000000e+00\n",
      " 1.27073510e-03 3.33892720e-03 3.18005213e-03 4.45586817e-02\n",
      " 4.12066119e-06 1.12140121e-03 2.78928744e-03 2.27950104e-03\n",
      " 2.30709460e-03 1.17319829e-03 0.00000000e+00 0.00000000e+00\n",
      " 5.32971294e-04 3.18734174e-04 9.65448737e-04 7.13410212e-04\n",
      " 0.00000000e+00 3.18195340e-03 0.00000000e+00 5.24780784e-04\n",
      " 8.69483455e-03 0.00000000e+00 1.08828877e-03 2.88877396e-03\n",
      " 0.00000000e+00 0.00000000e+00 0.00000000e+00 8.24595169e-03\n",
      " 0.00000000e+00 1.72200703e-04 3.89833651e-03 0.00000000e+00\n",
      " 6.77067876e-07 7.10741230e-04 7.74244032e-04 3.04796388e-03\n",
      " 9.87132243e-04 6.21855552e-06 0.00000000e+00 1.38040198e-03\n",
      " 3.85578445e-03 1.59036961e-02 6.46899511e-03 0.00000000e+00\n",
      " 5.34797122e-03 8.60336600e-04 0.00000000e+00 0.00000000e+00\n",
      " 0.00000000e+00 7.24183869e-04 1.54819366e-01 4.18016002e-04\n",
      " 4.04063153e-04 0.00000000e+00 2.25401440e-02 3.31360424e-03\n",
      " 6.87414697e-04 2.07046532e-02 7.38275969e-05 0.00000000e+00\n",
      " 4.39109292e-03 3.72346044e-03 8.00290206e-03 0.00000000e+00\n",
      " 8.59923092e-05 1.33947673e-02 0.00000000e+00 5.73306581e-04\n",
      " 0.00000000e+00 0.00000000e+00 0.00000000e+00 0.00000000e+00\n",
      " 5.98523112e-04 5.63521983e-04 9.30044891e-03 3.68111273e-04\n",
      " 2.33457147e-03 1.36218388e-02 1.14916856e-02 0.00000000e+00\n",
      " 1.20397924e-02 0.00000000e+00 1.80074401e-06 4.32470546e-06\n",
      " 1.13677776e-03 0.00000000e+00 0.00000000e+00 1.04998499e-02\n",
      " 0.00000000e+00 0.00000000e+00 2.80095698e-02 3.84908722e-04\n",
      " 1.36535823e-02 3.25502929e-02 2.41740040e-02 2.07037950e-02\n",
      " 2.06171265e-02]\n"
     ]
    }
   ],
   "source": [
    "print(model.feature_importances_)"
   ]
  },
  {
   "cell_type": "code",
   "execution_count": 17,
   "metadata": {},
   "outputs": [
    {
     "data": {
      "text/plain": [
       "[(0.15481936552599188, 'avg_prior_arrived_late_seconds'),\n",
       " (0.050680410564524124, 'claimed_before_trip_start_secs'),\n",
       " (0.04455868174674853, 'driver_id'),\n",
       " (0.040075062329817585, 'driver_previous_completed_trips'),\n",
       " (0.03560199849685661, 'driver_home_lat'),\n",
       " (0.034503164293399016, 'avg_prior_arrived_late_seconds_to_origin_location'),\n",
       " (0.03255029289290532, 'driver_home_lon'),\n",
       " (0.02800956984054882, 'origin_location_id'),\n",
       " (0.024174004025459057, 'scheduled_starts_at_pdt_hour'),\n",
       " (0.022540143987402117, 'destination_location_id'),\n",
       " (0.021995394389745234, 'Unnamed: 0'),\n",
       " (0.020704653159836647, 'driver_created_at_pdt_dayofyear'),\n",
       " (0.02070379501657128, 'origin_lon'),\n",
       " (0.02061712654765069, 'driver_signup_before_org_signup_secs'),\n",
       " (0.018358911314023535, 'driver_signup_before_trip_start_secs'),\n",
       " (0.01830220819848268, 'trip_created_before_trip_start_secs'),\n",
       " (0.015903696130587917, 'org_signup_before_trip_start_secs'),\n",
       " (0.015759077992939276, 'driver_created_at_pdt_day'),\n",
       " (0.014410371731709656, 'origin_lat'),\n",
       " (0.013653582272338259, 'drivers_prev_ride_1hr_int'),\n",
       " (0.01362183880389122, 'id'),\n",
       " (0.013401634825062103, 'driver_signup_before_trip_claimed_secs'),\n",
       " (0.013394767294746628, 'lead_organizer_previous_completed_trips'),\n",
       " (0.012106531783414143, 'driver_created_at_pdt_hour'),\n",
       " (0.01203979243833406, 'driver_signup_before_trip_created_secs'),\n",
       " (0.01149168563794637, 'destination_lon'),\n",
       " (0.011343694899295525, 'claimed_after_created'),\n",
       " (0.010499849853931296, 'total_predicted_duration'),\n",
       " (0.01032966926777601, 'trip_est_duration_secs'),\n",
       " (0.010041073175005112, 'org_signup_before_trip_created_secs'),\n",
       " (0.009733808602013113, 'lead_organizer_created_at_pdt_dayofyear'),\n",
       " (0.009300448910510423, 'trip_claimed_after_trip_created'),\n",
       " (0.008914069186443597, 'scheduled_ends_at_pdt_hour'),\n",
       " (0.008694834545285829, 'trip_template_id'),\n",
       " (0.008489038347033956, 'organizer_home_lat'),\n",
       " (0.008245951688329258, 'trip_predicted_raw_fare'),\n",
       " (0.0080029020624491, 'predicted_driver_fare'),\n",
       " (0.007515848250588961, 'destination_lat'),\n",
       " (0.006468995105856785, 'total_predicted_distance_miles'),\n",
       " (0.005419662065054272, 'created_at_pdt_hour'),\n",
       " (0.005388928695036509, 'driver_has_driven_this_route_before_int'),\n",
       " (0.0053479712233001865, 'driver_created_at_pdt_weekday'),\n",
       " (0.005281092174682539, 'created_at_pdt_dayofyear'),\n",
       " (0.0049338262164419465, 'lead_organizer_id'),\n",
       " (0.004837825323326303, 'passengers_count'),\n",
       " (0.004475422665881142, 'scheduled_ends_at_pdt_dayofyear'),\n",
       " (0.0044646213149354165, 'lead_organizer_created_at_pdt_hour'),\n",
       " (0.00439109291813444, 'claimed_at_pdt_dayofyear'),\n",
       " (0.004178247640732011, 'origin_region_name_Central LA - West'),\n",
       " (0.004116843862112975, 'origin_region_id'),\n",
       " (0.00402418749593019, 'creator_id'),\n",
       " (0.0038983365131839555, 'created_at_pdt_day'),\n",
       " (0.003855784447139497, 'driver_created_at_pdt_weekofyear'),\n",
       " (0.0037234604388290387, 'origin_region_name_South LA'),\n",
       " (0.0034061603451689677, 'claimed_at_pdt_hour'),\n",
       " (0.0033389271997988417, 'lead_organizer_created_at_pdt_day'),\n",
       " (0.003313604235023259, 'organizer_home_lon'),\n",
       " (0.0031819533973242845, 'destination_region_id'),\n",
       " (0.0031800521259539192, 'is_affiliate_int'),\n",
       " (0.0031235640829807803, 'created_at_pdt_weekofyear'),\n",
       " (0.0030479638765122784, 'claimed_at_pdt_weekday'),\n",
       " (0.0028887739595518736, 'scheduled_starts_at_pdt_dayofyear'),\n",
       " (0.00278928744375213, 'origin_region_name_Malibu'),\n",
       " (0.0023345714691509257, 'lead_organizer_platform_ios'),\n",
       " (0.0023070945983566194, 'scheduled_starts_at_pdt_day'),\n",
       " (0.0022795010448562335, 'scheduled_ends_at_pdt_day'),\n",
       " (0.0021749331403529914, 'claimed_at_pdt_hour_21'),\n",
       " (0.0021610816908844556, 'scheduled_starts_at_pdt_weekday_5'),\n",
       " (0.0020377674333143026, 'lead_organizer_created_at_pdt_weekofyear'),\n",
       " (0.002036848755270893, 'claimed_at_pdt_hour_9'),\n",
       " (0.0019979041501652795, 'lead_organizer_created_at_pdt_weekday'),\n",
       " (0.0018844097627325493, 'claimed_at_pdt_hour_4'),\n",
       " (0.0018499798004458345, 'organizers_count'),\n",
       " (0.001848878876087308, 'created_at_pdt_weekday'),\n",
       " (0.0018286733829708623, 'route_legs_count'),\n",
       " (0.0016856458212766, 'origin_region_name_Westside'),\n",
       " (0.001635488712324335, 'origin_region_name_Peninsula South'),\n",
       " (0.0013804019837415844, 'claimed_at_pdt_day'),\n",
       " (0.001270735100999914, 'origin_region_name_Tri Valley'),\n",
       " (0.0011731982885148026, 'driver_gender_male'),\n",
       " (0.0011367777550197722, 'claimed_at_pdt_weekofyear'),\n",
       " (0.001121401210192318, 'scheduled_starts_at_pdt_hour_14'),\n",
       " (0.0010882887736490573, 'origin_region_name_Central LA - South'),\n",
       " (0.0010225072058187479, 'claimed_at_pdt_hour_15'),\n",
       " (0.0009871322425227611, 'origin_region_name_Orange County - Central'),\n",
       " (0.0009654487374269055, 'origin_region_name_San Gabriel Valley - South'),\n",
       " (0.0009255946258337301, 'scheduled_starts_at_pdt_weekday_1'),\n",
       " (0.0009039917934911782, 'origin_region_name_San Fernando Valley - East'),\n",
       " (0.0008765663291353865, 'driver_created_at_pdt_quarter'),\n",
       " (0.0008616434909930812, 'scheduled_starts_at_pdt_weekofyear'),\n",
       " (0.0008603365995873502, 'claimed_at_pdt_month_9'),\n",
       " (0.0007742440323906596, 'scheduled_starts_at_pdt_hour_16'),\n",
       " (0.0007674729878174905, 'scheduled_starts_at_pdt_quarter_3'),\n",
       " (0.0007248637425873752, 'scheduled_starts_at_pdt_hour_15'),\n",
       " (0.0007241838689428917, 'scheduled_starts_at_pdt_hour_21'),\n",
       " (0.0007219016443109283, 'lead_organizer_platform_web'),\n",
       " (0.0007134102116018859, 'claimed_at_pdt_hour_16'),\n",
       " (0.0007107412297922398, 'scheduled_starts_at_pdt_hour_8'),\n",
       " (0.0007041785854302772, 'scheduled_starts_at_pdt_weekday'),\n",
       " (0.000687414696767076, 'claimed_at_pdt_quarter_2'),\n",
       " (0.0005985231115576017, 'driver_created_at_pdt_month'),\n",
       " (0.0005981800821353513, 'origin_region_name_San Gabriel Valley - East'),\n",
       " (0.0005733065805789904, 'claimed_at_pdt_hour_8'),\n",
       " (0.0005635219827387286, 'claimed_at_pdt_hour_17'),\n",
       " (0.0005559094972761202, 'scheduled_starts_at_pdt_hour_18'),\n",
       " (0.0005549085936440225, 'origin_analysis_metro_name_OC'),\n",
       " (0.0005329712940772021, 'claimed_at_pdt_hour_11'),\n",
       " (0.0005247807839784944, 'origin_region_name_San Francisco'),\n",
       " (0.0005037862713223446, 'origin_region_name_East Contra Costa'),\n",
       " (0.0004917087304215056, 'claimed_at_pdt_month_4'),\n",
       " (0.00047167241585864257, 'scheduled_starts_at_pdt_hour_20'),\n",
       " (0.0004325801700501375, 'shuttle_int'),\n",
       " (0.0004190904601438417, 'scheduled_starts_at_pdt_weekday_3'),\n",
       " (0.0004180160023626078, 'scheduled_ends_at_pdt_weekofyear'),\n",
       " (0.0004126683897692448, 'scheduled_starts_at_pdt_hour_7'),\n",
       " (0.00040406315338281716, 'origin_region_name_South Bay'),\n",
       " (0.00039428438074340247, 'scheduled_starts_at_pdt_hour_11'),\n",
       " (0.00038490872185915524, 'claimed_at_pdt_hour_3'),\n",
       " (0.00036811127318484607, 'claimed_at_pdt_hour_10'),\n",
       " (0.00035144446679158956, 'scheduled_ends_at_pdt_weekday'),\n",
       " (0.00034321240157915905, 'origin_region_name_Eastside'),\n",
       " (0.0003349856042843468, 'scheduled_starts_at_pdt_weekday_2'),\n",
       " (0.0003200996202411642, 'scheduled_starts_at_pdt_hour_4'),\n",
       " (0.00031873417444098053, 'claimed_at_pdt_hour_12'),\n",
       " (0.0002695248371275246, 'claimed_at_pdt_month_6'),\n",
       " (0.00026601964322454653, 'origin_region_name_Long Beach'),\n",
       " (0.00022511999028840122, 'origin_region_name_Inland Empire'),\n",
       " (0.00017220070348106985, 'created_at_pdt_month'),\n",
       " (0.00016566622443480852, 'scheduled_starts_at_pdt_hour_19'),\n",
       " (0.00011892786909818338, 'origin_region_name_Orange County - West'),\n",
       " (0.00010511280310880101, 'claimed_at_pdt_hour_13'),\n",
       " (9.573265538888659e-05, 'claimed_at_pdt_weekday_6'),\n",
       " (9.551450565878301e-05, 'lead_organizer_created_at_pdt_month'),\n",
       " (8.599230916568059e-05, 'claimed_at_pdt_month'),\n",
       " (7.382759693409618e-05, 'scheduled_starts_at_pdt_month_9'),\n",
       " (6.762843409948548e-05, 'created_at_pdt_quarter'),\n",
       " (3.4021973427588425e-05, 'is_repeating_ride_int'),\n",
       " (6.218555520766444e-06, 'claimed_at_pdt_hour_18'),\n",
       " (4.324705461569674e-06, 'origin_region_name_East Bay South'),\n",
       " (4.120661194117358e-06, 'scheduled_starts_at_pdt_month_2'),\n",
       " (2.840096977254777e-06, 'scheduled_starts_at_pdt_quarter'),\n",
       " (1.8593810888742167e-06, 'scheduled_ends_at_pdt_quarter'),\n",
       " (1.800744006864655e-06, 'claimed_at_pdt_weekday_2'),\n",
       " (6.770678760594941e-07, 'claimed_at_pdt_month_3'),\n",
       " (6.525090192123986e-07, 'claimed_at_pdt_quarter'),\n",
       " (0.0, 'scheduled_starts_at_pdt_weekday_6'),\n",
       " (0.0, 'scheduled_starts_at_pdt_weekday_4'),\n",
       " (0.0, 'scheduled_starts_at_pdt_quarter_4'),\n",
       " (0.0, 'scheduled_starts_at_pdt_quarter_2'),\n",
       " (0.0, 'scheduled_starts_at_pdt_month_8'),\n",
       " (0.0, 'scheduled_starts_at_pdt_month_7'),\n",
       " (0.0, 'scheduled_starts_at_pdt_month_6'),\n",
       " (0.0, 'scheduled_starts_at_pdt_month_5'),\n",
       " (0.0, 'scheduled_starts_at_pdt_month_4'),\n",
       " (0.0, 'scheduled_starts_at_pdt_month_3'),\n",
       " (0.0, 'scheduled_starts_at_pdt_month_12'),\n",
       " (0.0, 'scheduled_starts_at_pdt_month_11'),\n",
       " (0.0, 'scheduled_starts_at_pdt_month_10'),\n",
       " (0.0, 'scheduled_starts_at_pdt_month'),\n",
       " (0.0, 'scheduled_starts_at_pdt_hour_9'),\n",
       " (0.0, 'scheduled_starts_at_pdt_hour_6'),\n",
       " (0.0, 'scheduled_starts_at_pdt_hour_5'),\n",
       " (0.0, 'scheduled_starts_at_pdt_hour_3'),\n",
       " (0.0, 'scheduled_starts_at_pdt_hour_23'),\n",
       " (0.0, 'scheduled_starts_at_pdt_hour_22'),\n",
       " (0.0, 'scheduled_starts_at_pdt_hour_2'),\n",
       " (0.0, 'scheduled_starts_at_pdt_hour_17'),\n",
       " (0.0, 'scheduled_starts_at_pdt_hour_13'),\n",
       " (0.0, 'scheduled_starts_at_pdt_hour_12'),\n",
       " (0.0, 'scheduled_starts_at_pdt_hour_10'),\n",
       " (0.0, 'scheduled_starts_at_pdt_hour_1'),\n",
       " (0.0, 'scheduled_ends_at_pdt_month'),\n",
       " (0.0, 'origin_region_name_antelope-valley'),\n",
       " (0.0, 'origin_region_name_Ventura'),\n",
       " (0.0, 'origin_region_name_Southeast LA'),\n",
       " (0.0, 'origin_region_name_Santa Clarita'),\n",
       " (0.0, 'origin_region_name_San Jose'),\n",
       " (0.0, 'origin_region_name_San Gabriel Valley - West'),\n",
       " (0.0, 'origin_region_name_San Fernando Valley - West'),\n",
       " (0.0, 'origin_region_name_Pomona Valley'),\n",
       " (0.0, 'origin_region_name_Peninsula North'),\n",
       " (0.0, 'origin_region_name_Orange County - South'),\n",
       " (0.0, 'origin_region_name_Orange County - North'),\n",
       " (0.0, 'origin_region_name_Oakland Berkeley'),\n",
       " (0.0, 'origin_region_name_North Bay'),\n",
       " (0.0, 'origin_region_name_Lamorinda Walnut Creek'),\n",
       " (0.0, 'origin_region_name_East Bay North'),\n",
       " (0.0, 'origin_region_name_Default (Unassigned)'),\n",
       " (0.0, 'origin_analysis_metro_name_LA'),\n",
       " (0.0, 'origin_analysis_metro_name_Default (Unassigned)'),\n",
       " (0.0, 'lead_organizer_created_at_pdt_quarter'),\n",
       " (0.0, 'is_same_day_ride_int'),\n",
       " (0.0, 'coupon_consumed'),\n",
       " (0.0, 'claimed_at_pdt_weekday_5'),\n",
       " (0.0, 'claimed_at_pdt_weekday_4'),\n",
       " (0.0, 'claimed_at_pdt_weekday_3'),\n",
       " (0.0, 'claimed_at_pdt_weekday_1'),\n",
       " (0.0, 'claimed_at_pdt_quarter_4'),\n",
       " (0.0, 'claimed_at_pdt_quarter_3'),\n",
       " (0.0, 'claimed_at_pdt_month_8'),\n",
       " (0.0, 'claimed_at_pdt_month_7'),\n",
       " (0.0, 'claimed_at_pdt_month_5'),\n",
       " (0.0, 'claimed_at_pdt_month_2'),\n",
       " (0.0, 'claimed_at_pdt_month_12'),\n",
       " (0.0, 'claimed_at_pdt_month_11'),\n",
       " (0.0, 'claimed_at_pdt_month_10'),\n",
       " (0.0, 'claimed_at_pdt_hour_7'),\n",
       " (0.0, 'claimed_at_pdt_hour_6'),\n",
       " (0.0, 'claimed_at_pdt_hour_5'),\n",
       " (0.0, 'claimed_at_pdt_hour_23'),\n",
       " (0.0, 'claimed_at_pdt_hour_22'),\n",
       " (0.0, 'claimed_at_pdt_hour_20'),\n",
       " (0.0, 'claimed_at_pdt_hour_2'),\n",
       " (0.0, 'claimed_at_pdt_hour_19'),\n",
       " (0.0, 'claimed_at_pdt_hour_14'),\n",
       " (0.0, 'claimed_at_pdt_hour_1'),\n",
       " (0.0, 'carpool_int')]"
      ]
     },
     "execution_count": 17,
     "metadata": {},
     "output_type": "execute_result"
    }
   ],
   "source": [
    "importances = list(zip(model.feature_importances_, X_train.columns))\n",
    "importances.sort(reverse=True)\n",
    "importances"
   ]
  },
  {
   "cell_type": "code",
   "execution_count": 18,
   "metadata": {},
   "outputs": [
    {
     "data": {
      "text/plain": [
       "dict_values(['avg_prior_arrived_late_seconds', 'claimed_before_trip_start_secs', 'driver_id', 'driver_previous_completed_trips', 'driver_home_lat', 'avg_prior_arrived_late_seconds_to_origin_location', 'driver_home_lon', 'origin_location_id', 'scheduled_starts_at_pdt_hour', 'destination_location_id'])"
      ]
     },
     "execution_count": 18,
     "metadata": {},
     "output_type": "execute_result"
    }
   ],
   "source": [
    "# top 10 importances\n",
    "dict(importances[:10]).values()\n"
   ]
  },
  {
   "cell_type": "code",
   "execution_count": 19,
   "metadata": {},
   "outputs": [
    {
     "data": {
      "text/plain": [
       "145"
      ]
     },
     "execution_count": 19,
     "metadata": {},
     "output_type": "execute_result"
    }
   ],
   "source": [
    "# number of non-zero features used\n",
    "len([(i,f) for i, f in importances if i > 0])"
   ]
  },
  {
   "cell_type": "code",
   "execution_count": 20,
   "metadata": {},
   "outputs": [
    {
     "data": {
      "text/plain": [
       "30"
      ]
     },
     "execution_count": 20,
     "metadata": {},
     "output_type": "execute_result"
    }
   ],
   "source": [
    "# number of features with importance above 1%\n",
    "len([(i,f) for i, f in importances if i > 0.01])"
   ]
  },
  {
   "cell_type": "code",
   "execution_count": 36,
   "metadata": {},
   "outputs": [
    {
     "data": {
      "text/plain": [
       "<matplotlib.axes._subplots.AxesSubplot at 0x109c420f0>"
      ]
     },
     "execution_count": 36,
     "metadata": {},
     "output_type": "execute_result"
    },
    {
     "data": {
      "image/png": "[encoded data removed]",
      "text/plain": [
       "<Figure size 432x288 with 1 Axes>"
      ]
     },
     "metadata": {},
     "output_type": "display_data"
    }
   ],
   "source": [
    "pd.DataFrame(importances[:10], index=[x for (_,x) in importances[:10] ]).plot(kind = 'bar')"
   ]
  },
  {
   "cell_type": "code",
   "execution_count": 22,
   "metadata": {},
   "outputs": [
    {
     "data": {
      "text/plain": [
       "0.29687833116788354"
      ]
     },
     "execution_count": 22,
     "metadata": {},
     "output_type": "execute_result"
    }
   ],
   "source": [
    "# score against TRAINING set\n",
    "model.score(X_train,y_train)"
   ]
  },
  {
   "cell_type": "code",
   "execution_count": 23,
   "metadata": {},
   "outputs": [
    {
     "data": {
      "text/plain": [
       "0.1862349701037577"
      ]
     },
     "execution_count": 23,
     "metadata": {},
     "output_type": "execute_result"
    }
   ],
   "source": [
    "# score against TEST set\n",
    "model.score(X_test,y_test)"
   ]
  },
  {
   "cell_type": "code",
   "execution_count": 24,
   "metadata": {},
   "outputs": [
    {
     "data": {
      "text/plain": [
       "25477"
      ]
     },
     "execution_count": 24,
     "metadata": {},
     "output_type": "execute_result"
    }
   ],
   "source": [
    "model_y_test_pred = model.predict(X_test)\n",
    "model_y_test_pred.size"
   ]
  },
  {
   "cell_type": "code",
   "execution_count": 25,
   "metadata": {},
   "outputs": [
    {
     "data": {
      "text/plain": [
       "numpy.ndarray"
      ]
     },
     "execution_count": 25,
     "metadata": {},
     "output_type": "execute_result"
    }
   ],
   "source": [
    "type(model_y_test_pred)"
   ]
  },
  {
   "cell_type": "code",
   "execution_count": 26,
   "metadata": {},
   "outputs": [
    {
     "data": {
      "text/plain": [
       "array([-257.82682439, -150.38999599,  -14.60516786, -210.90030208,\n",
       "          6.49445784,  -75.29592491, -332.48179412, -612.09800866,\n",
       "       -195.06038107, -582.09619909])"
      ]
     },
     "execution_count": 26,
     "metadata": {},
     "output_type": "execute_result"
    }
   ],
   "source": [
    "model_y_test_pred[:10]"
   ]
  },
  {
   "cell_type": "code",
   "execution_count": 27,
   "metadata": {},
   "outputs": [
    {
     "data": {
      "text/plain": [
       "247.3287353040212"
      ]
     },
     "execution_count": 27,
     "metadata": {},
     "output_type": "execute_result"
    }
   ],
   "source": [
    "pd.Series(model_y_test_pred).std()"
   ]
  },
  {
   "cell_type": "code",
   "execution_count": 28,
   "metadata": {},
   "outputs": [
    {
     "data": {
      "text/plain": [
       "-0.008311844105571028"
      ]
     },
     "execution_count": 28,
     "metadata": {},
     "output_type": "execute_result"
    }
   ],
   "source": [
    "pd.Series(model_y_test_pred).corr(y_test)"
   ]
  },
  {
   "cell_type": "code",
   "execution_count": 29,
   "metadata": {},
   "outputs": [
    {
     "name": "stdout",
     "output_type": "stream",
     "text": [
      "0.186 7.54 204536 0.186 334 245 4.09\n"
     ]
    }
   ],
   "source": [
    "# regression metrics\n",
    "from sklearn.metrics import explained_variance_score, mean_squared_error, r2_score, mean_absolute_error, median_absolute_error\n",
    "from math import sqrt\n",
    "print (\"%.3f %.2f %.0f %.3f %.0f %.0f %.2f\" % \n",
    "       (explained_variance_score(y_test, model_y_test_pred),\n",
    "        sqrt(mean_squared_error(y_test, model_y_test_pred))/60, # sqrt of MSE in minutes\n",
    "        mean_squared_error(y_test, model_y_test_pred), \n",
    "        r2_score(y_test, model_y_test_pred), \n",
    "        mean_absolute_error(y_test, model_y_test_pred), \n",
    "        median_absolute_error(y_test, model_y_test_pred),\n",
    "        median_absolute_error(y_test, model_y_test_pred)/60 # MAE in minutes\n",
    "       ))"
   ]
  },
  {
   "cell_type": "code",
   "execution_count": 30,
   "metadata": {},
   "outputs": [
    {
     "data": {
      "text/plain": [
       "array([  0., 300., 900.])"
      ]
     },
     "execution_count": 30,
     "metadata": {},
     "output_type": "execute_result"
    }
   ],
   "source": [
    "# make classifications from seconds late target\n",
    "bins = np.array([0.0, 5*60, 15*60]) # 0 on-time, 1 almost on-time, 2 late, 3 extremely late\n",
    "bins"
   ]
  },
  {
   "cell_type": "code",
   "execution_count": 31,
   "metadata": {},
   "outputs": [
    {
     "data": {
      "text/plain": [
       "array([1, 0, 0, 0, 1, 0, 0, 0, 0, 0])"
      ]
     },
     "execution_count": 31,
     "metadata": {},
     "output_type": "execute_result"
    }
   ],
   "source": [
    "np.digitize(y_test, bins)[:10]"
   ]
  },
  {
   "cell_type": "code",
   "execution_count": 32,
   "metadata": {
    "scrolled": true
   },
   "outputs": [
    {
     "name": "stdout",
     "output_type": "stream",
     "text": [
      "[[    0 21301]\n",
      " [    1  3118]\n",
      " [    2   904]\n",
      " [    3   154]]\n"
     ]
    }
   ],
   "source": [
    "# materialize y_test_class array\n",
    "# check to see how many trips are categorized as 0 on-time, 1 almost on-time, 2 late, 3 extremely late\n",
    "y_test_class=np.digitize(y_test, bins)\n",
    "unique, counts = np.unique(y_test_class, return_counts=True)\n",
    "print(np.asarray((unique, counts)).T)"
   ]
  },
  {
   "cell_type": "code",
   "execution_count": 33,
   "metadata": {},
   "outputs": [
    {
     "name": "stdout",
     "output_type": "stream",
     "text": [
      "[[    0 24719]\n",
      " [    1   658]\n",
      " [    2    89]\n",
      " [    3    11]]\n"
     ]
    }
   ],
   "source": [
    "# materialize model_y_pred_class\n",
    "# check to see how many trips are categorized as 0 on-time, 1 almost on-time, 2 late, 3 extremely late\n",
    "model_y_test_pred_class=np.digitize(model_y_test_pred, bins)\n",
    "print(np.asarray(np.unique(model_y_test_pred_class, return_counts=True)).T)"
   ]
  },
  {
   "cell_type": "code",
   "execution_count": 34,
   "metadata": {},
   "outputs": [
    {
     "name": "stdout",
     "output_type": "stream",
     "text": [
      "             precision    recall  f1-score   support\n",
      "\n",
      "          0       0.84      0.98      0.91     21301\n",
      "          1       0.28      0.06      0.10      3118\n",
      "          2       0.24      0.02      0.04       904\n",
      "          3       0.45      0.03      0.06       154\n",
      "\n",
      "avg / total       0.75      0.83      0.77     25477\n",
      "\n"
     ]
    }
   ],
   "source": [
    "from sklearn.metrics import classification_report\n",
    "print(classification_report(y_test_class,model_y_test_pred_class))"
   ]
  },
  {
   "cell_type": "code",
   "execution_count": 35,
   "metadata": {},
   "outputs": [
    {
     "name": "stdout",
     "output_type": "stream",
     "text": [
      "[[20855   414    32     0]\n",
      " [ 2913   183    20     2]\n",
      " [  824    55    21     4]\n",
      " [  127     6    16     5]]\n"
     ]
    }
   ],
   "source": [
    "from sklearn.metrics import confusion_matrix\n",
    "print(confusion_matrix(y_test_class,model_y_test_pred_class,labels=[0,1,2,3]))"
   ]
  },
  {
   "cell_type": "code",
   "execution_count": null,
   "metadata": {},
   "outputs": [],
   "source": []
  }
 ],
 "metadata": {
  "kernelspec": {
   "display_name": "Python 3",
   "language": "python",
   "name": "python3"
  },
  "language_info": {
   "codemirror_mode": {
    "name": "ipython",
    "version": 3
   },
   "file_extension": ".py",
   "mimetype": "text/x-python",
   "name": "python",
   "nbconvert_exporter": "python",
   "pygments_lexer": "ipython3",
   "version": "3.6.5"
  }
 },
 "nbformat": 4,
 "nbformat_minor": 2
}
