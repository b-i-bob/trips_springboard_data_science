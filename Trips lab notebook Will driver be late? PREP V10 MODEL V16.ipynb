{
 "cells": [
  {
   "cell_type": "markdown",
   "metadata": {},
   "source": [
    "### Ensemble Piecewise Linear regression model V16\n",
    "try random forest regressor with deeper trees"
   ]
  },
  {
   "cell_type": "code",
   "execution_count": 1,
   "metadata": {},
   "outputs": [],
   "source": [
    "fileprefix='./lateness_PREP_V10_'"
   ]
  },
  {
   "cell_type": "code",
   "execution_count": 2,
   "metadata": {},
   "outputs": [],
   "source": [
    "import pandas as pd\n",
    "import numpy as np"
   ]
  },
  {
   "cell_type": "code",
   "execution_count": 3,
   "metadata": {},
   "outputs": [],
   "source": [
    "df_X=pd.read_csv(fileprefix+'X.csv', sep='\\t')"
   ]
  },
  {
   "cell_type": "code",
   "execution_count": 4,
   "metadata": {},
   "outputs": [
    {
     "data": {
      "text/plain": [
       "(125675, 215)"
      ]
     },
     "execution_count": 4,
     "metadata": {},
     "output_type": "execute_result"
    }
   ],
   "source": [
    "df_X.shape"
   ]
  },
  {
   "cell_type": "code",
   "execution_count": 5,
   "metadata": {},
   "outputs": [],
   "source": [
    "df_y=pd.read_csv(fileprefix+'y.csv', sep='\\t', header=None)"
   ]
  },
  {
   "cell_type": "code",
   "execution_count": 6,
   "metadata": {},
   "outputs": [
    {
     "data": {
      "text/plain": [
       "(125675, 2)"
      ]
     },
     "execution_count": 6,
     "metadata": {},
     "output_type": "execute_result"
    }
   ],
   "source": [
    "type(df_y)\n",
    "df_y.shape"
   ]
  },
  {
   "cell_type": "code",
   "execution_count": 7,
   "metadata": {},
   "outputs": [
    {
     "data": {
      "text/html": [
       "<div>\n",
       "<style scoped>\n",
       "    .dataframe tbody tr th:only-of-type {\n",
       "        vertical-align: middle;\n",
       "    }\n",
       "\n",
       "    .dataframe tbody tr th {\n",
       "        vertical-align: top;\n",
       "    }\n",
       "\n",
       "    .dataframe thead th {\n",
       "        text-align: right;\n",
       "    }\n",
       "</style>\n",
       "<table border=\"1\" class=\"dataframe\">\n",
       "  <thead>\n",
       "    <tr style=\"text-align: right;\">\n",
       "      <th></th>\n",
       "      <th>0</th>\n",
       "      <th>1</th>\n",
       "    </tr>\n",
       "  </thead>\n",
       "  <tbody>\n",
       "    <tr>\n",
       "      <th>0</th>\n",
       "      <td>5</td>\n",
       "      <td>-497.0</td>\n",
       "    </tr>\n",
       "    <tr>\n",
       "      <th>1</th>\n",
       "      <td>6</td>\n",
       "      <td>5.0</td>\n",
       "    </tr>\n",
       "    <tr>\n",
       "      <th>2</th>\n",
       "      <td>7</td>\n",
       "      <td>-313.0</td>\n",
       "    </tr>\n",
       "    <tr>\n",
       "      <th>3</th>\n",
       "      <td>8</td>\n",
       "      <td>-296.0</td>\n",
       "    </tr>\n",
       "    <tr>\n",
       "      <th>4</th>\n",
       "      <td>9</td>\n",
       "      <td>-166.0</td>\n",
       "    </tr>\n",
       "  </tbody>\n",
       "</table>\n",
       "</div>"
      ],
      "text/plain": [
       "   0      1\n",
       "0  5 -497.0\n",
       "1  6    5.0\n",
       "2  7 -313.0\n",
       "3  8 -296.0\n",
       "4  9 -166.0"
      ]
     },
     "execution_count": 7,
     "metadata": {},
     "output_type": "execute_result"
    }
   ],
   "source": [
    "df_y.head()"
   ]
  },
  {
   "cell_type": "code",
   "execution_count": 8,
   "metadata": {},
   "outputs": [
    {
     "data": {
      "text/plain": [
       "0   -497.0\n",
       "1      5.0\n",
       "2   -313.0\n",
       "3   -296.0\n",
       "4   -166.0\n",
       "Name: 1, dtype: float64"
      ]
     },
     "execution_count": 8,
     "metadata": {},
     "output_type": "execute_result"
    }
   ],
   "source": [
    "y=df_y[1]\n",
    "y.head()"
   ]
  },
  {
   "cell_type": "code",
   "execution_count": 9,
   "metadata": {},
   "outputs": [
    {
     "data": {
      "text/plain": [
       "(125675,)"
      ]
     },
     "execution_count": 9,
     "metadata": {},
     "output_type": "execute_result"
    }
   ],
   "source": [
    "y.shape"
   ]
  },
  {
   "cell_type": "code",
   "execution_count": 10,
   "metadata": {},
   "outputs": [
    {
     "data": {
      "text/html": [
       "<div>\n",
       "<style scoped>\n",
       "    .dataframe tbody tr th:only-of-type {\n",
       "        vertical-align: middle;\n",
       "    }\n",
       "\n",
       "    .dataframe tbody tr th {\n",
       "        vertical-align: top;\n",
       "    }\n",
       "\n",
       "    .dataframe thead th {\n",
       "        text-align: right;\n",
       "    }\n",
       "</style>\n",
       "<table border=\"1\" class=\"dataframe\">\n",
       "  <thead>\n",
       "    <tr style=\"text-align: right;\">\n",
       "      <th></th>\n",
       "      <th>Unnamed: 0</th>\n",
       "      <th>organizer_home_lat</th>\n",
       "      <th>claimed_at_pdt_month_7</th>\n",
       "      <th>claimed_at_pdt_hour_1</th>\n",
       "      <th>driver_created_at_pdt_weekofyear</th>\n",
       "      <th>scheduled_starts_at_pdt_hour_1</th>\n",
       "      <th>scheduled_starts_at_pdt_weekday_4</th>\n",
       "      <th>origin_region_name_Malibu</th>\n",
       "      <th>is_same_day_ride_int</th>\n",
       "      <th>is_affiliate_int</th>\n",
       "      <th>...</th>\n",
       "      <th>claimed_at_pdt_quarter</th>\n",
       "      <th>origin_region_name_Peninsula South</th>\n",
       "      <th>scheduled_starts_at_pdt_month_3</th>\n",
       "      <th>claimed_at_pdt_weekday_3</th>\n",
       "      <th>claimed_at_pdt_hour_9</th>\n",
       "      <th>driver_created_at_pdt_hour</th>\n",
       "      <th>scheduled_starts_at_pdt_quarter_4</th>\n",
       "      <th>origin_region_name_East Contra Costa</th>\n",
       "      <th>scheduled_starts_at_pdt_month_5</th>\n",
       "      <th>lead_organizer_created_at_pdt_hour</th>\n",
       "    </tr>\n",
       "  </thead>\n",
       "  <tbody>\n",
       "    <tr>\n",
       "      <th>0</th>\n",
       "      <td>5</td>\n",
       "      <td>34.17</td>\n",
       "      <td>0</td>\n",
       "      <td>0</td>\n",
       "      <td>27</td>\n",
       "      <td>0</td>\n",
       "      <td>0</td>\n",
       "      <td>0</td>\n",
       "      <td>0</td>\n",
       "      <td>0</td>\n",
       "      <td>...</td>\n",
       "      <td>1</td>\n",
       "      <td>0</td>\n",
       "      <td>0</td>\n",
       "      <td>0</td>\n",
       "      <td>0</td>\n",
       "      <td>15</td>\n",
       "      <td>0</td>\n",
       "      <td>0</td>\n",
       "      <td>0</td>\n",
       "      <td>19</td>\n",
       "    </tr>\n",
       "    <tr>\n",
       "      <th>1</th>\n",
       "      <td>6</td>\n",
       "      <td>34.08</td>\n",
       "      <td>0</td>\n",
       "      <td>0</td>\n",
       "      <td>27</td>\n",
       "      <td>0</td>\n",
       "      <td>0</td>\n",
       "      <td>0</td>\n",
       "      <td>0</td>\n",
       "      <td>0</td>\n",
       "      <td>...</td>\n",
       "      <td>1</td>\n",
       "      <td>0</td>\n",
       "      <td>0</td>\n",
       "      <td>0</td>\n",
       "      <td>0</td>\n",
       "      <td>15</td>\n",
       "      <td>0</td>\n",
       "      <td>0</td>\n",
       "      <td>0</td>\n",
       "      <td>19</td>\n",
       "    </tr>\n",
       "    <tr>\n",
       "      <th>2</th>\n",
       "      <td>7</td>\n",
       "      <td>34.16</td>\n",
       "      <td>0</td>\n",
       "      <td>0</td>\n",
       "      <td>27</td>\n",
       "      <td>0</td>\n",
       "      <td>0</td>\n",
       "      <td>0</td>\n",
       "      <td>0</td>\n",
       "      <td>0</td>\n",
       "      <td>...</td>\n",
       "      <td>1</td>\n",
       "      <td>0</td>\n",
       "      <td>0</td>\n",
       "      <td>0</td>\n",
       "      <td>0</td>\n",
       "      <td>15</td>\n",
       "      <td>0</td>\n",
       "      <td>0</td>\n",
       "      <td>0</td>\n",
       "      <td>20</td>\n",
       "    </tr>\n",
       "    <tr>\n",
       "      <th>3</th>\n",
       "      <td>8</td>\n",
       "      <td>34.05</td>\n",
       "      <td>0</td>\n",
       "      <td>0</td>\n",
       "      <td>27</td>\n",
       "      <td>0</td>\n",
       "      <td>0</td>\n",
       "      <td>0</td>\n",
       "      <td>0</td>\n",
       "      <td>0</td>\n",
       "      <td>...</td>\n",
       "      <td>1</td>\n",
       "      <td>0</td>\n",
       "      <td>0</td>\n",
       "      <td>0</td>\n",
       "      <td>0</td>\n",
       "      <td>15</td>\n",
       "      <td>0</td>\n",
       "      <td>0</td>\n",
       "      <td>0</td>\n",
       "      <td>20</td>\n",
       "    </tr>\n",
       "    <tr>\n",
       "      <th>4</th>\n",
       "      <td>9</td>\n",
       "      <td>34.12</td>\n",
       "      <td>0</td>\n",
       "      <td>0</td>\n",
       "      <td>27</td>\n",
       "      <td>0</td>\n",
       "      <td>0</td>\n",
       "      <td>0</td>\n",
       "      <td>0</td>\n",
       "      <td>0</td>\n",
       "      <td>...</td>\n",
       "      <td>1</td>\n",
       "      <td>0</td>\n",
       "      <td>0</td>\n",
       "      <td>0</td>\n",
       "      <td>0</td>\n",
       "      <td>15</td>\n",
       "      <td>0</td>\n",
       "      <td>0</td>\n",
       "      <td>0</td>\n",
       "      <td>19</td>\n",
       "    </tr>\n",
       "  </tbody>\n",
       "</table>\n",
       "<p>5 rows × 215 columns</p>\n",
       "</div>"
      ],
      "text/plain": [
       "   Unnamed: 0  organizer_home_lat  claimed_at_pdt_month_7  \\\n",
       "0           5               34.17                       0   \n",
       "1           6               34.08                       0   \n",
       "2           7               34.16                       0   \n",
       "3           8               34.05                       0   \n",
       "4           9               34.12                       0   \n",
       "\n",
       "   claimed_at_pdt_hour_1  driver_created_at_pdt_weekofyear  \\\n",
       "0                      0                                27   \n",
       "1                      0                                27   \n",
       "2                      0                                27   \n",
       "3                      0                                27   \n",
       "4                      0                                27   \n",
       "\n",
       "   scheduled_starts_at_pdt_hour_1  scheduled_starts_at_pdt_weekday_4  \\\n",
       "0                               0                                  0   \n",
       "1                               0                                  0   \n",
       "2                               0                                  0   \n",
       "3                               0                                  0   \n",
       "4                               0                                  0   \n",
       "\n",
       "   origin_region_name_Malibu  is_same_day_ride_int  is_affiliate_int  \\\n",
       "0                          0                     0                 0   \n",
       "1                          0                     0                 0   \n",
       "2                          0                     0                 0   \n",
       "3                          0                     0                 0   \n",
       "4                          0                     0                 0   \n",
       "\n",
       "                  ...                  claimed_at_pdt_quarter  \\\n",
       "0                 ...                                       1   \n",
       "1                 ...                                       1   \n",
       "2                 ...                                       1   \n",
       "3                 ...                                       1   \n",
       "4                 ...                                       1   \n",
       "\n",
       "   origin_region_name_Peninsula South  scheduled_starts_at_pdt_month_3  \\\n",
       "0                                   0                                0   \n",
       "1                                   0                                0   \n",
       "2                                   0                                0   \n",
       "3                                   0                                0   \n",
       "4                                   0                                0   \n",
       "\n",
       "   claimed_at_pdt_weekday_3  claimed_at_pdt_hour_9  \\\n",
       "0                         0                      0   \n",
       "1                         0                      0   \n",
       "2                         0                      0   \n",
       "3                         0                      0   \n",
       "4                         0                      0   \n",
       "\n",
       "   driver_created_at_pdt_hour  scheduled_starts_at_pdt_quarter_4  \\\n",
       "0                          15                                  0   \n",
       "1                          15                                  0   \n",
       "2                          15                                  0   \n",
       "3                          15                                  0   \n",
       "4                          15                                  0   \n",
       "\n",
       "   origin_region_name_East Contra Costa  scheduled_starts_at_pdt_month_5  \\\n",
       "0                                     0                                0   \n",
       "1                                     0                                0   \n",
       "2                                     0                                0   \n",
       "3                                     0                                0   \n",
       "4                                     0                                0   \n",
       "\n",
       "   lead_organizer_created_at_pdt_hour  \n",
       "0                                  19  \n",
       "1                                  19  \n",
       "2                                  20  \n",
       "3                                  20  \n",
       "4                                  19  \n",
       "\n",
       "[5 rows x 215 columns]"
      ]
     },
     "execution_count": 10,
     "metadata": {},
     "output_type": "execute_result"
    }
   ],
   "source": [
    "df_X.head()"
   ]
  },
  {
   "cell_type": "code",
   "execution_count": 11,
   "metadata": {},
   "outputs": [
    {
     "data": {
      "text/plain": [
       "count    125675.0\n",
       "mean       -416.0\n",
       "std         509.0\n",
       "min       -1800.0\n",
       "25%        -657.0\n",
       "50%        -324.0\n",
       "75%         -96.0\n",
       "max        1800.0\n",
       "Name: 1, dtype: float64"
      ]
     },
     "execution_count": 11,
     "metadata": {},
     "output_type": "execute_result"
    }
   ],
   "source": [
    "y.describe().round()"
   ]
  },
  {
   "cell_type": "code",
   "execution_count": 12,
   "metadata": {},
   "outputs": [],
   "source": [
    "# break df_X,y into test and train sets\n",
    "from sklearn.model_selection import train_test_split\n",
    "X_train, X_test, y_train, y_test = train_test_split(df_X, y, test_size=0.20, random_state=808)"
   ]
  },
  {
   "cell_type": "code",
   "execution_count": 13,
   "metadata": {},
   "outputs": [
    {
     "name": "stdout",
     "output_type": "stream",
     "text": [
      "(100540, 215)\n",
      "(25135, 215)\n",
      "(100540,)\n",
      "(25135,)\n"
     ]
    }
   ],
   "source": [
    "for i in X_train, X_test, y_train, y_test:\n",
    "    print(i.shape)"
   ]
  },
  {
   "cell_type": "code",
   "execution_count": 14,
   "metadata": {},
   "outputs": [],
   "source": [
    "# select a regressor\n",
    "from sklearn.ensemble import RandomForestRegressor\n",
    "model=RandomForestRegressor(max_depth=4, random_state=808, n_estimators=100)"
   ]
  },
  {
   "cell_type": "code",
   "execution_count": 15,
   "metadata": {},
   "outputs": [],
   "source": [
    "# fit model\n",
    "model=model.fit(X_train,y_train)"
   ]
  },
  {
   "cell_type": "code",
   "execution_count": 16,
   "metadata": {},
   "outputs": [
    {
     "name": "stdout",
     "output_type": "stream",
     "text": [
      "[1.12083979e-04 1.02080154e-04 0.00000000e+00 0.00000000e+00\n",
      " 3.91277898e-03 0.00000000e+00 0.00000000e+00 0.00000000e+00\n",
      " 0.00000000e+00 0.00000000e+00 0.00000000e+00 0.00000000e+00\n",
      " 0.00000000e+00 0.00000000e+00 6.41034821e-04 0.00000000e+00\n",
      " 0.00000000e+00 1.27026333e-04 0.00000000e+00 1.11700504e-01\n",
      " 0.00000000e+00 0.00000000e+00 0.00000000e+00 0.00000000e+00\n",
      " 3.04797408e-03 4.02747538e-04 0.00000000e+00 3.61100061e-02\n",
      " 0.00000000e+00 0.00000000e+00 0.00000000e+00 0.00000000e+00\n",
      " 0.00000000e+00 2.44467176e-03 0.00000000e+00 6.06896802e-05\n",
      " 1.26198227e-04 0.00000000e+00 0.00000000e+00 1.85711162e-04\n",
      " 0.00000000e+00 0.00000000e+00 0.00000000e+00 1.28053534e-03\n",
      " 0.00000000e+00 0.00000000e+00 0.00000000e+00 0.00000000e+00\n",
      " 1.29826121e-01 0.00000000e+00 0.00000000e+00 0.00000000e+00\n",
      " 0.00000000e+00 0.00000000e+00 2.66294523e-04 0.00000000e+00\n",
      " 0.00000000e+00 1.58730921e-03 1.84298478e-05 0.00000000e+00\n",
      " 0.00000000e+00 0.00000000e+00 0.00000000e+00 0.00000000e+00\n",
      " 0.00000000e+00 1.68358871e-04 0.00000000e+00 0.00000000e+00\n",
      " 0.00000000e+00 7.84281986e-04 0.00000000e+00 0.00000000e+00\n",
      " 0.00000000e+00 0.00000000e+00 0.00000000e+00 0.00000000e+00\n",
      " 0.00000000e+00 0.00000000e+00 3.88031389e-05 2.22431874e-03\n",
      " 0.00000000e+00 0.00000000e+00 0.00000000e+00 0.00000000e+00\n",
      " 2.29313648e-05 0.00000000e+00 0.00000000e+00 0.00000000e+00\n",
      " 0.00000000e+00 0.00000000e+00 0.00000000e+00 5.01114072e-04\n",
      " 0.00000000e+00 1.98308482e-05 1.69278112e-03 0.00000000e+00\n",
      " 3.16729320e-05 0.00000000e+00 0.00000000e+00 0.00000000e+00\n",
      " 4.25940196e-04 0.00000000e+00 0.00000000e+00 0.00000000e+00\n",
      " 0.00000000e+00 4.21359399e-02 9.39032679e-04 0.00000000e+00\n",
      " 0.00000000e+00 0.00000000e+00 1.57004882e-01 0.00000000e+00\n",
      " 0.00000000e+00 0.00000000e+00 0.00000000e+00 0.00000000e+00\n",
      " 0.00000000e+00 0.00000000e+00 0.00000000e+00 0.00000000e+00\n",
      " 1.30044149e-03 0.00000000e+00 0.00000000e+00 1.75139433e-04\n",
      " 0.00000000e+00 6.34983399e-04 6.19231516e-04 0.00000000e+00\n",
      " 7.40760780e-05 0.00000000e+00 0.00000000e+00 0.00000000e+00\n",
      " 0.00000000e+00 0.00000000e+00 1.60116513e-02 0.00000000e+00\n",
      " 1.97713915e-05 0.00000000e+00 1.88448041e-02 6.45603399e-04\n",
      " 0.00000000e+00 0.00000000e+00 1.69271796e-05 0.00000000e+00\n",
      " 0.00000000e+00 7.71332699e-04 0.00000000e+00 0.00000000e+00\n",
      " 0.00000000e+00 1.14767027e-03 0.00000000e+00 0.00000000e+00\n",
      " 5.95652478e-05 6.13376910e-05 1.10966072e-05 0.00000000e+00\n",
      " 9.40032183e-05 1.62293708e-04 0.00000000e+00 0.00000000e+00\n",
      " 0.00000000e+00 0.00000000e+00 0.00000000e+00 1.87967670e-04\n",
      " 0.00000000e+00 3.07559310e-03 1.15777080e-03 3.93121945e-05\n",
      " 0.00000000e+00 0.00000000e+00 0.00000000e+00 0.00000000e+00\n",
      " 9.66638704e-05 0.00000000e+00 0.00000000e+00 0.00000000e+00\n",
      " 0.00000000e+00 2.89919039e-03 2.62771937e-04 0.00000000e+00\n",
      " 2.08267528e-04 1.25700585e-04 1.03148115e-04 0.00000000e+00\n",
      " 0.00000000e+00 2.42497527e-04 0.00000000e+00 0.00000000e+00\n",
      " 0.00000000e+00 0.00000000e+00 0.00000000e+00 1.08203545e-01\n",
      " 0.00000000e+00 0.00000000e+00 0.00000000e+00 0.00000000e+00\n",
      " 0.00000000e+00 2.48449371e-04 0.00000000e+00 2.48739111e-04\n",
      " 6.75830027e-05 3.42105124e-01 2.06558420e-04 0.00000000e+00\n",
      " 7.64124592e-04 0.00000000e+00 0.00000000e+00 5.00988711e-06\n",
      " 0.00000000e+00 0.00000000e+00 4.10968688e-04 0.00000000e+00\n",
      " 0.00000000e+00 0.00000000e+00 7.49000574e-04]\n"
     ]
    }
   ],
   "source": [
    "print(model.feature_importances_)"
   ]
  },
  {
   "cell_type": "code",
   "execution_count": 17,
   "metadata": {},
   "outputs": [
    {
     "data": {
      "text/plain": [
       "[(0.34210512395180026, 'scheduled_starts_at_pdt_hour'),\n",
       " (0.15700488200864898, 'claimed_before_trip_start_secs'),\n",
       " (0.12982612144253974, 'scheduled_ends_at_pdt_hour'),\n",
       " (0.11170050430987892, 'driver_home_lat'),\n",
       " (0.10820354458690712, 'driver_previous_completed_trips'),\n",
       " (0.04213593990696024, 'driver_signup_before_trip_start_secs'),\n",
       " (0.03611000606833313, 'driver_created_at_pdt_dayofyear'),\n",
       " (0.018844804116428047, 'driver_signup_before_trip_claimed_secs'),\n",
       " (0.016011651337236473, 'driver_id'),\n",
       " (0.003912778977560006, 'driver_created_at_pdt_weekofyear'),\n",
       " (0.0030755930956101944, 'total_predicted_duration'),\n",
       " (0.0030479740804872273, 'claimed_after_created'),\n",
       " (0.0028991903853852184, 'driver_home_lon'),\n",
       " (0.0024446717648946405, 'destination_lat'),\n",
       " (0.0022243187423367987, 'trip_est_duration_secs'),\n",
       " (0.0016927811199605595, 'trip_claimed_after_trip_created'),\n",
       " (0.0015873092123953971, 'trip_predicted_raw_fare'),\n",
       " (0.0013004414880583878, 'driver_signup_before_trip_created_secs'),\n",
       " (0.0012805353397327907, 'destination_lon'),\n",
       " (0.0011577707997896, 'scheduled_starts_at_pdt_dayofyear'),\n",
       " (0.0011476702722529907, 'trip_created_before_trip_start_secs'),\n",
       " (0.0009390326792904105, 'origin_lon'),\n",
       " (0.0007842819856476564, 'id'),\n",
       " (0.0007713326993630112, 'organizer_home_lon'),\n",
       " (0.0007641245924087644, 'claimed_at_pdt_weekofyear'),\n",
       " (0.0007490005741661116, 'lead_organizer_created_at_pdt_hour'),\n",
       " (0.0006456033993587125, 'organizers_count'),\n",
       " (0.0006410348214784778, 'driver_has_driven_this_route_before_int'),\n",
       " (0.0006349833985242422, 'origin_lat'),\n",
       " (0.0006192315163580007, 'lead_organizer_created_at_pdt_day'),\n",
       " (0.0005011140718158967, 'scheduled_ends_at_pdt_dayofyear'),\n",
       " (0.0004259401958142957, 'destination_location_id'),\n",
       " (0.00041096868795581775, 'driver_created_at_pdt_hour'),\n",
       " (0.0004027475383232405, 'scheduled_ends_at_pdt_weekofyear'),\n",
       " (0.00026629452269428546, 'driver_created_at_pdt_day'),\n",
       " (0.00026277193670118533, 'created_at_pdt_weekday'),\n",
       " (0.0002487391105341975, 'drivers_prev_ride_1hr_int'),\n",
       " (0.0002484493711004824, 'scheduled_starts_at_pdt_hour_7'),\n",
       " (0.0002424975268677553, 'origin_analysis_metro_name_LA'),\n",
       " (0.00020826752785994774, 'trip_template_id'),\n",
       " (0.0002065584199990231, 'origin_region_name_Eastside'),\n",
       " (0.0001879676704297958, 'predicted_driver_fare'),\n",
       " (0.0001857111620547591, 'lead_organizer_previous_completed_trips'),\n",
       " (0.00017513943264924162, 'lead_organizer_created_at_pdt_dayofyear'),\n",
       " (0.00016835887077655738, 'driver_signup_before_org_signup_secs'),\n",
       " (0.0001622937081557726, 'org_signup_before_trip_start_secs'),\n",
       " (0.000127026332588451, 'claimed_at_pdt_hour'),\n",
       " (0.0001261982271276525, 'origin_location_id'),\n",
       " (0.00012570058531065202, 'lead_organizer_id'),\n",
       " (0.00011208397910492159, 'Unnamed: 0'),\n",
       " (0.0001031481148586613, 'created_at_pdt_weekofyear'),\n",
       " (0.00010208015355834118, 'organizer_home_lat'),\n",
       " (9.66638704365453e-05, 'created_at_pdt_day'),\n",
       " (9.400321828847942e-05, 'claimed_at_pdt_month_10'),\n",
       " (7.407607802795427e-05, 'created_at_pdt_dayofyear'),\n",
       " (6.7583002691454e-05, 'claimed_at_pdt_quarter_2'),\n",
       " (6.133769095332248e-05, 'creator_id'),\n",
       " (6.0689680163053485e-05, 'lead_organizer_created_at_pdt_weekofyear'),\n",
       " (5.956524780696137e-05, 'claimed_at_pdt_month_4'),\n",
       " (3.9312194491708226e-05, 'org_signup_before_trip_created_secs'),\n",
       " (3.880313892345069e-05, 'scheduled_starts_at_pdt_month'),\n",
       " (3.1672932014554046e-05, 'origin_region_id'),\n",
       " (2.293136477540769e-05, 'driver_created_at_pdt_weekday'),\n",
       " (1.98308482370451e-05, 'scheduled_starts_at_pdt_day'),\n",
       " (1.977139153407126e-05, 'claimed_at_pdt_month_11'),\n",
       " (1.842984775748517e-05, 'scheduled_starts_at_pdt_month_11'),\n",
       " (1.692717955887207e-05, 'scheduled_ends_at_pdt_quarter'),\n",
       " (1.1096607157433208e-05, 'created_at_pdt_quarter'),\n",
       " (5.009887109188949e-06, 'scheduled_starts_at_pdt_month_3'),\n",
       " (0.0, 'total_predicted_distance_miles'),\n",
       " (0.0, 'shuttle_int'),\n",
       " (0.0, 'scheduled_starts_at_pdt_weekofyear'),\n",
       " (0.0, 'scheduled_starts_at_pdt_weekday_6'),\n",
       " (0.0, 'scheduled_starts_at_pdt_weekday_5'),\n",
       " (0.0, 'scheduled_starts_at_pdt_weekday_4'),\n",
       " (0.0, 'scheduled_starts_at_pdt_weekday_3'),\n",
       " (0.0, 'scheduled_starts_at_pdt_weekday_2'),\n",
       " (0.0, 'scheduled_starts_at_pdt_weekday_1'),\n",
       " (0.0, 'scheduled_starts_at_pdt_weekday'),\n",
       " (0.0, 'scheduled_starts_at_pdt_quarter_4'),\n",
       " (0.0, 'scheduled_starts_at_pdt_quarter_3'),\n",
       " (0.0, 'scheduled_starts_at_pdt_quarter_2'),\n",
       " (0.0, 'scheduled_starts_at_pdt_quarter'),\n",
       " (0.0, 'scheduled_starts_at_pdt_month_9'),\n",
       " (0.0, 'scheduled_starts_at_pdt_month_8'),\n",
       " (0.0, 'scheduled_starts_at_pdt_month_7'),\n",
       " (0.0, 'scheduled_starts_at_pdt_month_6'),\n",
       " (0.0, 'scheduled_starts_at_pdt_month_5'),\n",
       " (0.0, 'scheduled_starts_at_pdt_month_4'),\n",
       " (0.0, 'scheduled_starts_at_pdt_month_2'),\n",
       " (0.0, 'scheduled_starts_at_pdt_month_12'),\n",
       " (0.0, 'scheduled_starts_at_pdt_month_10'),\n",
       " (0.0, 'scheduled_starts_at_pdt_hour_9'),\n",
       " (0.0, 'scheduled_starts_at_pdt_hour_8'),\n",
       " (0.0, 'scheduled_starts_at_pdt_hour_6'),\n",
       " (0.0, 'scheduled_starts_at_pdt_hour_5'),\n",
       " (0.0, 'scheduled_starts_at_pdt_hour_4'),\n",
       " (0.0, 'scheduled_starts_at_pdt_hour_3'),\n",
       " (0.0, 'scheduled_starts_at_pdt_hour_23'),\n",
       " (0.0, 'scheduled_starts_at_pdt_hour_22'),\n",
       " (0.0, 'scheduled_starts_at_pdt_hour_21'),\n",
       " (0.0, 'scheduled_starts_at_pdt_hour_20'),\n",
       " (0.0, 'scheduled_starts_at_pdt_hour_2'),\n",
       " (0.0, 'scheduled_starts_at_pdt_hour_19'),\n",
       " (0.0, 'scheduled_starts_at_pdt_hour_18'),\n",
       " (0.0, 'scheduled_starts_at_pdt_hour_17'),\n",
       " (0.0, 'scheduled_starts_at_pdt_hour_16'),\n",
       " (0.0, 'scheduled_starts_at_pdt_hour_15'),\n",
       " (0.0, 'scheduled_starts_at_pdt_hour_14'),\n",
       " (0.0, 'scheduled_starts_at_pdt_hour_13'),\n",
       " (0.0, 'scheduled_starts_at_pdt_hour_12'),\n",
       " (0.0, 'scheduled_starts_at_pdt_hour_11'),\n",
       " (0.0, 'scheduled_starts_at_pdt_hour_10'),\n",
       " (0.0, 'scheduled_starts_at_pdt_hour_1'),\n",
       " (0.0, 'scheduled_ends_at_pdt_weekday'),\n",
       " (0.0, 'scheduled_ends_at_pdt_month'),\n",
       " (0.0, 'scheduled_ends_at_pdt_day'),\n",
       " (0.0, 'route_legs_count'),\n",
       " (0.0, 'passengers_count'),\n",
       " (0.0, 'origin_region_name_antelope-valley'),\n",
       " (0.0, 'origin_region_name_Westside'),\n",
       " (0.0, 'origin_region_name_Ventura'),\n",
       " (0.0, 'origin_region_name_Tri Valley'),\n",
       " (0.0, 'origin_region_name_Southeast LA'),\n",
       " (0.0, 'origin_region_name_South LA'),\n",
       " (0.0, 'origin_region_name_South Bay'),\n",
       " (0.0, 'origin_region_name_Santa Clarita'),\n",
       " (0.0, 'origin_region_name_San Jose'),\n",
       " (0.0, 'origin_region_name_San Gabriel Valley - West'),\n",
       " (0.0, 'origin_region_name_San Gabriel Valley - South'),\n",
       " (0.0, 'origin_region_name_San Gabriel Valley - East'),\n",
       " (0.0, 'origin_region_name_San Francisco'),\n",
       " (0.0, 'origin_region_name_San Fernando Valley - West'),\n",
       " (0.0, 'origin_region_name_San Fernando Valley - East'),\n",
       " (0.0, 'origin_region_name_Pomona Valley'),\n",
       " (0.0, 'origin_region_name_Peninsula South'),\n",
       " (0.0, 'origin_region_name_Peninsula North'),\n",
       " (0.0, 'origin_region_name_Orange County - West'),\n",
       " (0.0, 'origin_region_name_Orange County - South'),\n",
       " (0.0, 'origin_region_name_Orange County - North'),\n",
       " (0.0, 'origin_region_name_Orange County - Central'),\n",
       " (0.0, 'origin_region_name_Oakland Berkeley'),\n",
       " (0.0, 'origin_region_name_North Bay'),\n",
       " (0.0, 'origin_region_name_Malibu'),\n",
       " (0.0, 'origin_region_name_Long Beach'),\n",
       " (0.0, 'origin_region_name_Lamorinda Walnut Creek'),\n",
       " (0.0, 'origin_region_name_Inland Empire'),\n",
       " (0.0, 'origin_region_name_East Contra Costa'),\n",
       " (0.0, 'origin_region_name_East Bay South'),\n",
       " (0.0, 'origin_region_name_East Bay North'),\n",
       " (0.0, 'origin_region_name_Default (Unassigned)'),\n",
       " (0.0, 'origin_region_name_Central LA - West'),\n",
       " (0.0, 'origin_region_name_Central LA - South'),\n",
       " (0.0, 'origin_analysis_metro_name_OC'),\n",
       " (0.0, 'origin_analysis_metro_name_Default (Unassigned)'),\n",
       " (0.0, 'lead_organizer_platform_web'),\n",
       " (0.0, 'lead_organizer_platform_ios'),\n",
       " (0.0, 'lead_organizer_created_at_pdt_weekday'),\n",
       " (0.0, 'lead_organizer_created_at_pdt_quarter'),\n",
       " (0.0, 'lead_organizer_created_at_pdt_month'),\n",
       " (0.0, 'is_same_day_ride_int'),\n",
       " (0.0, 'is_repeating_ride_int'),\n",
       " (0.0, 'is_affiliate_int'),\n",
       " (0.0, 'driver_gender_male'),\n",
       " (0.0, 'driver_created_at_pdt_quarter'),\n",
       " (0.0, 'driver_created_at_pdt_month'),\n",
       " (0.0, 'destination_region_id'),\n",
       " (0.0, 'created_at_pdt_month'),\n",
       " (0.0, 'created_at_pdt_hour'),\n",
       " (0.0, 'coupon_consumed'),\n",
       " (0.0, 'claimed_at_pdt_weekday_6'),\n",
       " (0.0, 'claimed_at_pdt_weekday_5'),\n",
       " (0.0, 'claimed_at_pdt_weekday_4'),\n",
       " (0.0, 'claimed_at_pdt_weekday_3'),\n",
       " (0.0, 'claimed_at_pdt_weekday_2'),\n",
       " (0.0, 'claimed_at_pdt_weekday_1'),\n",
       " (0.0, 'claimed_at_pdt_weekday'),\n",
       " (0.0, 'claimed_at_pdt_quarter_4'),\n",
       " (0.0, 'claimed_at_pdt_quarter_3'),\n",
       " (0.0, 'claimed_at_pdt_quarter'),\n",
       " (0.0, 'claimed_at_pdt_month_9'),\n",
       " (0.0, 'claimed_at_pdt_month_8'),\n",
       " (0.0, 'claimed_at_pdt_month_7'),\n",
       " (0.0, 'claimed_at_pdt_month_6'),\n",
       " (0.0, 'claimed_at_pdt_month_5'),\n",
       " (0.0, 'claimed_at_pdt_month_3'),\n",
       " (0.0, 'claimed_at_pdt_month_2'),\n",
       " (0.0, 'claimed_at_pdt_month_12'),\n",
       " (0.0, 'claimed_at_pdt_month'),\n",
       " (0.0, 'claimed_at_pdt_hour_9'),\n",
       " (0.0, 'claimed_at_pdt_hour_8'),\n",
       " (0.0, 'claimed_at_pdt_hour_7'),\n",
       " (0.0, 'claimed_at_pdt_hour_6'),\n",
       " (0.0, 'claimed_at_pdt_hour_5'),\n",
       " (0.0, 'claimed_at_pdt_hour_4'),\n",
       " (0.0, 'claimed_at_pdt_hour_3'),\n",
       " (0.0, 'claimed_at_pdt_hour_23'),\n",
       " (0.0, 'claimed_at_pdt_hour_22'),\n",
       " (0.0, 'claimed_at_pdt_hour_21'),\n",
       " (0.0, 'claimed_at_pdt_hour_20'),\n",
       " (0.0, 'claimed_at_pdt_hour_2'),\n",
       " (0.0, 'claimed_at_pdt_hour_19'),\n",
       " (0.0, 'claimed_at_pdt_hour_18'),\n",
       " (0.0, 'claimed_at_pdt_hour_17'),\n",
       " (0.0, 'claimed_at_pdt_hour_16'),\n",
       " (0.0, 'claimed_at_pdt_hour_15'),\n",
       " (0.0, 'claimed_at_pdt_hour_14'),\n",
       " (0.0, 'claimed_at_pdt_hour_13'),\n",
       " (0.0, 'claimed_at_pdt_hour_12'),\n",
       " (0.0, 'claimed_at_pdt_hour_11'),\n",
       " (0.0, 'claimed_at_pdt_hour_10'),\n",
       " (0.0, 'claimed_at_pdt_hour_1'),\n",
       " (0.0, 'claimed_at_pdt_dayofyear'),\n",
       " (0.0, 'claimed_at_pdt_day'),\n",
       " (0.0, 'carpool_int')]"
      ]
     },
     "execution_count": 17,
     "metadata": {},
     "output_type": "execute_result"
    }
   ],
   "source": [
    "importances = list(zip(model.feature_importances_, X_train.columns))\n",
    "importances.sort(reverse=True)\n",
    "importances"
   ]
  },
  {
   "cell_type": "code",
   "execution_count": 18,
   "metadata": {},
   "outputs": [
    {
     "data": {
      "text/plain": [
       "dict_values(['scheduled_starts_at_pdt_hour', 'claimed_before_trip_start_secs', 'scheduled_ends_at_pdt_hour', 'driver_home_lat', 'driver_previous_completed_trips', 'driver_signup_before_trip_start_secs', 'driver_created_at_pdt_dayofyear', 'driver_signup_before_trip_claimed_secs', 'driver_id', 'driver_created_at_pdt_weekofyear'])"
      ]
     },
     "execution_count": 18,
     "metadata": {},
     "output_type": "execute_result"
    }
   ],
   "source": [
    "# top 10 importances\n",
    "dict(importances[:10]).values()\n"
   ]
  },
  {
   "cell_type": "code",
   "execution_count": 19,
   "metadata": {},
   "outputs": [
    {
     "data": {
      "text/plain": [
       "69"
      ]
     },
     "execution_count": 19,
     "metadata": {},
     "output_type": "execute_result"
    }
   ],
   "source": [
    "# number of non-zero features used\n",
    "len([(i,f) for i, f in importances if i > 0])"
   ]
  },
  {
   "cell_type": "code",
   "execution_count": 20,
   "metadata": {},
   "outputs": [
    {
     "data": {
      "text/plain": [
       "9"
      ]
     },
     "execution_count": 20,
     "metadata": {},
     "output_type": "execute_result"
    }
   ],
   "source": [
    "# number of features wiht importance above 1%\n",
    "len([(i,f) for i, f in importances if i > 0.01])"
   ]
  },
  {
   "cell_type": "code",
   "execution_count": 21,
   "metadata": {},
   "outputs": [
    {
     "data": {
      "text/plain": [
       "<matplotlib.axes._subplots.AxesSubplot at 0x117a813c8>"
      ]
     },
     "execution_count": 21,
     "metadata": {},
     "output_type": "execute_result"
    }
   ],
   "source": [
    "pd.DataFrame(importances[:10], index=[x for (_,x) in importances[:10] ]).plot(kind = 'bar')"
   ]
  },
  {
   "cell_type": "code",
   "execution_count": 22,
   "metadata": {},
   "outputs": [
    {
     "data": {
      "text/plain": [
       "0.06234385083806394"
      ]
     },
     "execution_count": 22,
     "metadata": {},
     "output_type": "execute_result"
    }
   ],
   "source": [
    "# score against TRAINING set\n",
    "model.score(X_train,y_train)"
   ]
  },
  {
   "cell_type": "code",
   "execution_count": 23,
   "metadata": {},
   "outputs": [
    {
     "data": {
      "text/plain": [
       "0.0645143253595446"
      ]
     },
     "execution_count": 23,
     "metadata": {},
     "output_type": "execute_result"
    }
   ],
   "source": [
    "# score against TEST set\n",
    "model.score(X_test,y_test)"
   ]
  },
  {
   "cell_type": "code",
   "execution_count": 24,
   "metadata": {},
   "outputs": [
    {
     "data": {
      "text/plain": [
       "25135"
      ]
     },
     "execution_count": 24,
     "metadata": {},
     "output_type": "execute_result"
    }
   ],
   "source": [
    "model_y_test_pred = model.predict(X_test)\n",
    "model_y_test_pred.size"
   ]
  },
  {
   "cell_type": "code",
   "execution_count": 25,
   "metadata": {},
   "outputs": [
    {
     "data": {
      "text/plain": [
       "numpy.ndarray"
      ]
     },
     "execution_count": 25,
     "metadata": {},
     "output_type": "execute_result"
    }
   ],
   "source": [
    "type(model_y_test_pred)"
   ]
  },
  {
   "cell_type": "code",
   "execution_count": 26,
   "metadata": {},
   "outputs": [
    {
     "data": {
      "text/plain": [
       "array([-521.24409292, -412.21301478, -412.21301478, -504.74740038,\n",
       "       -547.91986042, -416.51627242, -254.86848043, -504.74740038,\n",
       "       -504.74740038, -412.21301478])"
      ]
     },
     "execution_count": 26,
     "metadata": {},
     "output_type": "execute_result"
    }
   ],
   "source": [
    "model_y_test_pred[:10]"
   ]
  },
  {
   "cell_type": "code",
   "execution_count": 27,
   "metadata": {},
   "outputs": [
    {
     "data": {
      "text/plain": [
       "114.2540160572322"
      ]
     },
     "execution_count": 27,
     "metadata": {},
     "output_type": "execute_result"
    }
   ],
   "source": [
    "pd.Series(model_y_test_pred).std()"
   ]
  },
  {
   "cell_type": "code",
   "execution_count": 28,
   "metadata": {},
   "outputs": [
    {
     "data": {
      "text/plain": [
       "-0.030868474098493515"
      ]
     },
     "execution_count": 28,
     "metadata": {},
     "output_type": "execute_result"
    }
   ],
   "source": [
    "pd.Series(model_y_test_pred).corr(y_test)"
   ]
  },
  {
   "cell_type": "code",
   "execution_count": 29,
   "metadata": {},
   "outputs": [
    {
     "name": "stdout",
     "output_type": "stream",
     "text": [
      "0.065 8.26 245497 0.065 371 280 4.67\n"
     ]
    }
   ],
   "source": [
    "# regression metrics\n",
    "from sklearn.metrics import explained_variance_score, mean_squared_error, r2_score, mean_absolute_error, median_absolute_error\n",
    "from math import sqrt\n",
    "print (\"%.3f %.2f %.0f %.3f %.0f %.0f %.2f\" % \n",
    "       (explained_variance_score(y_test, model_y_test_pred),\n",
    "        sqrt(mean_squared_error(y_test, model_y_test_pred))/60, # sqrt of MSE in minutes\n",
    "        mean_squared_error(y_test, model_y_test_pred), \n",
    "        r2_score(y_test, model_y_test_pred), \n",
    "        mean_absolute_error(y_test, model_y_test_pred), \n",
    "        median_absolute_error(y_test, model_y_test_pred),\n",
    "        median_absolute_error(y_test, model_y_test_pred)/60 # MAE in minutes\n",
    "       ))"
   ]
  },
  {
   "cell_type": "code",
   "execution_count": 30,
   "metadata": {},
   "outputs": [
    {
     "data": {
      "text/plain": [
       "array([  0., 300., 900.])"
      ]
     },
     "execution_count": 30,
     "metadata": {},
     "output_type": "execute_result"
    }
   ],
   "source": [
    "# make classifications from seconds late target\n",
    "bins = np.array([0.0, 5*60, 15*60]) # 0 on-time, 1 almost on-time, 2 late, 3 extremely late\n",
    "bins"
   ]
  },
  {
   "cell_type": "code",
   "execution_count": 31,
   "metadata": {},
   "outputs": [
    {
     "data": {
      "text/plain": [
       "array([1, 1, 0, 0, 0, 1, 0, 0, 1, 0])"
      ]
     },
     "execution_count": 31,
     "metadata": {},
     "output_type": "execute_result"
    }
   ],
   "source": [
    "np.digitize(y_test, bins)[:10]"
   ]
  },
  {
   "cell_type": "code",
   "execution_count": 32,
   "metadata": {
    "scrolled": true
   },
   "outputs": [
    {
     "name": "stdout",
     "output_type": "stream",
     "text": [
      "[[    0 21156]\n",
      " [    1  2939]\n",
      " [    2   892]\n",
      " [    3   148]]\n"
     ]
    }
   ],
   "source": [
    "# materialize y_test_class array\n",
    "# check to see how many trips are categorized as 0 on-time, 1 almost on-time, 2 late, 3 extremely late\n",
    "y_test_class=np.digitize(y_test, bins)\n",
    "unique, counts = np.unique(y_test_class, return_counts=True)\n",
    "print(np.asarray((unique, counts)).T)"
   ]
  },
  {
   "cell_type": "code",
   "execution_count": 33,
   "metadata": {},
   "outputs": [
    {
     "name": "stdout",
     "output_type": "stream",
     "text": [
      "[[    0 25067]\n",
      " [    1    19]\n",
      " [    2    44]\n",
      " [    3     5]]\n"
     ]
    }
   ],
   "source": [
    "# materialize model_y_pred_class\n",
    "# check to see how many trips are categorized as 0 on-time, 1 almost on-time, 2 late, 3 extremely late\n",
    "model_y_test_pred_class=np.digitize(model_y_test_pred, bins)\n",
    "print(np.asarray(np.unique(model_y_test_pred_class, return_counts=True)).T)"
   ]
  },
  {
   "cell_type": "code",
   "execution_count": 34,
   "metadata": {},
   "outputs": [
    {
     "name": "stdout",
     "output_type": "stream",
     "text": [
      "             precision    recall  f1-score   support\n",
      "\n",
      "          0       0.84      1.00      0.91     21156\n",
      "          1       0.26      0.00      0.00      2939\n",
      "          2       0.25      0.01      0.02       892\n",
      "          3       0.40      0.01      0.03       148\n",
      "\n",
      "avg / total       0.75      0.84      0.77     25135\n",
      "\n"
     ]
    }
   ],
   "source": [
    "from sklearn.metrics import classification_report\n",
    "print(classification_report(y_test_class,model_y_test_pred_class))"
   ]
  },
  {
   "cell_type": "code",
   "execution_count": 35,
   "metadata": {},
   "outputs": [
    {
     "name": "stdout",
     "output_type": "stream",
     "text": [
      "[[21144     4     7     1]\n",
      " [ 2920     5    14     0]\n",
      " [  875     4    11     2]\n",
      " [  128     6    12     2]]\n"
     ]
    }
   ],
   "source": [
    "from sklearn.metrics import confusion_matrix\n",
    "print(confusion_matrix(y_test_class,model_y_test_pred_class,labels=[0,1,2,3]))"
   ]
  },
  {
   "cell_type": "code",
   "execution_count": null,
   "metadata": {},
   "outputs": [],
   "source": []
  }
 ],
 "metadata": {
  "kernelspec": {
   "display_name": "Python 3",
   "language": "python",
   "name": "python3"
  },
  "language_info": {
   "codemirror_mode": {
    "name": "ipython",
    "version": 3
   },
   "file_extension": ".py",
   "mimetype": "text/x-python",
   "name": "python",
   "nbconvert_exporter": "python",
   "pygments_lexer": "ipython3",
   "version": "3.6.5"
  }
 },
 "nbformat": 4,
 "nbformat_minor": 2
}
