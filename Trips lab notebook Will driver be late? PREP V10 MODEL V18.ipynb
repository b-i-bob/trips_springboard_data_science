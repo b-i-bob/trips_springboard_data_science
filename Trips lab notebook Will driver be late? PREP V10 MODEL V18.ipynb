{
 "cells": [
  {
   "cell_type": "markdown",
   "metadata": {},
   "source": [
    "### Regression model V18\n",
    "try gradient boosted regressor (see cell 14)"
   ]
  },
  {
   "cell_type": "code",
   "execution_count": 1,
   "metadata": {},
   "outputs": [],
   "source": [
    "fileprefix='./lateness_PREP_V10_'"
   ]
  },
  {
   "cell_type": "code",
   "execution_count": 2,
   "metadata": {},
   "outputs": [],
   "source": [
    "import pandas as pd\n",
    "import numpy as np"
   ]
  },
  {
   "cell_type": "code",
   "execution_count": 3,
   "metadata": {},
   "outputs": [],
   "source": [
    "df_X=pd.read_csv(fileprefix+'X.csv', sep='\\t')"
   ]
  },
  {
   "cell_type": "code",
   "execution_count": 4,
   "metadata": {},
   "outputs": [
    {
     "data": {
      "text/plain": [
       "(125675, 215)"
      ]
     },
     "execution_count": 4,
     "metadata": {},
     "output_type": "execute_result"
    }
   ],
   "source": [
    "df_X.shape"
   ]
  },
  {
   "cell_type": "code",
   "execution_count": 5,
   "metadata": {},
   "outputs": [],
   "source": [
    "df_y=pd.read_csv(fileprefix+'y.csv', sep='\\t', header=None)"
   ]
  },
  {
   "cell_type": "code",
   "execution_count": 6,
   "metadata": {},
   "outputs": [
    {
     "data": {
      "text/plain": [
       "(125675, 2)"
      ]
     },
     "execution_count": 6,
     "metadata": {},
     "output_type": "execute_result"
    }
   ],
   "source": [
    "type(df_y)\n",
    "df_y.shape"
   ]
  },
  {
   "cell_type": "code",
   "execution_count": 7,
   "metadata": {},
   "outputs": [
    {
     "data": {
      "text/html": [
       "<div>\n",
       "<style scoped>\n",
       "    .dataframe tbody tr th:only-of-type {\n",
       "        vertical-align: middle;\n",
       "    }\n",
       "\n",
       "    .dataframe tbody tr th {\n",
       "        vertical-align: top;\n",
       "    }\n",
       "\n",
       "    .dataframe thead th {\n",
       "        text-align: right;\n",
       "    }\n",
       "</style>\n",
       "<table border=\"1\" class=\"dataframe\">\n",
       "  <thead>\n",
       "    <tr style=\"text-align: right;\">\n",
       "      <th></th>\n",
       "      <th>0</th>\n",
       "      <th>1</th>\n",
       "    </tr>\n",
       "  </thead>\n",
       "  <tbody>\n",
       "    <tr>\n",
       "      <th>0</th>\n",
       "      <td>5</td>\n",
       "      <td>-497.0</td>\n",
       "    </tr>\n",
       "    <tr>\n",
       "      <th>1</th>\n",
       "      <td>6</td>\n",
       "      <td>5.0</td>\n",
       "    </tr>\n",
       "    <tr>\n",
       "      <th>2</th>\n",
       "      <td>7</td>\n",
       "      <td>-313.0</td>\n",
       "    </tr>\n",
       "    <tr>\n",
       "      <th>3</th>\n",
       "      <td>8</td>\n",
       "      <td>-296.0</td>\n",
       "    </tr>\n",
       "    <tr>\n",
       "      <th>4</th>\n",
       "      <td>9</td>\n",
       "      <td>-166.0</td>\n",
       "    </tr>\n",
       "  </tbody>\n",
       "</table>\n",
       "</div>"
      ],
      "text/plain": [
       "   0      1\n",
       "0  5 -497.0\n",
       "1  6    5.0\n",
       "2  7 -313.0\n",
       "3  8 -296.0\n",
       "4  9 -166.0"
      ]
     },
     "execution_count": 7,
     "metadata": {},
     "output_type": "execute_result"
    }
   ],
   "source": [
    "df_y.head()"
   ]
  },
  {
   "cell_type": "code",
   "execution_count": 8,
   "metadata": {},
   "outputs": [
    {
     "data": {
      "text/plain": [
       "0   -497.0\n",
       "1      5.0\n",
       "2   -313.0\n",
       "3   -296.0\n",
       "4   -166.0\n",
       "Name: 1, dtype: float64"
      ]
     },
     "execution_count": 8,
     "metadata": {},
     "output_type": "execute_result"
    }
   ],
   "source": [
    "y=df_y[1]\n",
    "y.head()"
   ]
  },
  {
   "cell_type": "code",
   "execution_count": 9,
   "metadata": {},
   "outputs": [
    {
     "data": {
      "text/plain": [
       "(125675,)"
      ]
     },
     "execution_count": 9,
     "metadata": {},
     "output_type": "execute_result"
    }
   ],
   "source": [
    "y.shape"
   ]
  },
  {
   "cell_type": "code",
   "execution_count": 10,
   "metadata": {},
   "outputs": [
    {
     "data": {
      "text/html": [
       "<div>\n",
       "<style scoped>\n",
       "    .dataframe tbody tr th:only-of-type {\n",
       "        vertical-align: middle;\n",
       "    }\n",
       "\n",
       "    .dataframe tbody tr th {\n",
       "        vertical-align: top;\n",
       "    }\n",
       "\n",
       "    .dataframe thead th {\n",
       "        text-align: right;\n",
       "    }\n",
       "</style>\n",
       "<table border=\"1\" class=\"dataframe\">\n",
       "  <thead>\n",
       "    <tr style=\"text-align: right;\">\n",
       "      <th></th>\n",
       "      <th>Unnamed: 0</th>\n",
       "      <th>organizer_home_lat</th>\n",
       "      <th>claimed_at_pdt_month_7</th>\n",
       "      <th>claimed_at_pdt_hour_1</th>\n",
       "      <th>driver_created_at_pdt_weekofyear</th>\n",
       "      <th>scheduled_starts_at_pdt_hour_1</th>\n",
       "      <th>scheduled_starts_at_pdt_weekday_4</th>\n",
       "      <th>origin_region_name_Malibu</th>\n",
       "      <th>is_same_day_ride_int</th>\n",
       "      <th>is_affiliate_int</th>\n",
       "      <th>...</th>\n",
       "      <th>claimed_at_pdt_quarter</th>\n",
       "      <th>origin_region_name_Peninsula South</th>\n",
       "      <th>scheduled_starts_at_pdt_month_3</th>\n",
       "      <th>claimed_at_pdt_weekday_3</th>\n",
       "      <th>claimed_at_pdt_hour_9</th>\n",
       "      <th>driver_created_at_pdt_hour</th>\n",
       "      <th>scheduled_starts_at_pdt_quarter_4</th>\n",
       "      <th>origin_region_name_East Contra Costa</th>\n",
       "      <th>scheduled_starts_at_pdt_month_5</th>\n",
       "      <th>lead_organizer_created_at_pdt_hour</th>\n",
       "    </tr>\n",
       "  </thead>\n",
       "  <tbody>\n",
       "    <tr>\n",
       "      <th>0</th>\n",
       "      <td>5</td>\n",
       "      <td>34.17</td>\n",
       "      <td>0</td>\n",
       "      <td>0</td>\n",
       "      <td>27</td>\n",
       "      <td>0</td>\n",
       "      <td>0</td>\n",
       "      <td>0</td>\n",
       "      <td>0</td>\n",
       "      <td>0</td>\n",
       "      <td>...</td>\n",
       "      <td>1</td>\n",
       "      <td>0</td>\n",
       "      <td>0</td>\n",
       "      <td>0</td>\n",
       "      <td>0</td>\n",
       "      <td>15</td>\n",
       "      <td>0</td>\n",
       "      <td>0</td>\n",
       "      <td>0</td>\n",
       "      <td>19</td>\n",
       "    </tr>\n",
       "    <tr>\n",
       "      <th>1</th>\n",
       "      <td>6</td>\n",
       "      <td>34.08</td>\n",
       "      <td>0</td>\n",
       "      <td>0</td>\n",
       "      <td>27</td>\n",
       "      <td>0</td>\n",
       "      <td>0</td>\n",
       "      <td>0</td>\n",
       "      <td>0</td>\n",
       "      <td>0</td>\n",
       "      <td>...</td>\n",
       "      <td>1</td>\n",
       "      <td>0</td>\n",
       "      <td>0</td>\n",
       "      <td>0</td>\n",
       "      <td>0</td>\n",
       "      <td>15</td>\n",
       "      <td>0</td>\n",
       "      <td>0</td>\n",
       "      <td>0</td>\n",
       "      <td>19</td>\n",
       "    </tr>\n",
       "    <tr>\n",
       "      <th>2</th>\n",
       "      <td>7</td>\n",
       "      <td>34.16</td>\n",
       "      <td>0</td>\n",
       "      <td>0</td>\n",
       "      <td>27</td>\n",
       "      <td>0</td>\n",
       "      <td>0</td>\n",
       "      <td>0</td>\n",
       "      <td>0</td>\n",
       "      <td>0</td>\n",
       "      <td>...</td>\n",
       "      <td>1</td>\n",
       "      <td>0</td>\n",
       "      <td>0</td>\n",
       "      <td>0</td>\n",
       "      <td>0</td>\n",
       "      <td>15</td>\n",
       "      <td>0</td>\n",
       "      <td>0</td>\n",
       "      <td>0</td>\n",
       "      <td>20</td>\n",
       "    </tr>\n",
       "    <tr>\n",
       "      <th>3</th>\n",
       "      <td>8</td>\n",
       "      <td>34.05</td>\n",
       "      <td>0</td>\n",
       "      <td>0</td>\n",
       "      <td>27</td>\n",
       "      <td>0</td>\n",
       "      <td>0</td>\n",
       "      <td>0</td>\n",
       "      <td>0</td>\n",
       "      <td>0</td>\n",
       "      <td>...</td>\n",
       "      <td>1</td>\n",
       "      <td>0</td>\n",
       "      <td>0</td>\n",
       "      <td>0</td>\n",
       "      <td>0</td>\n",
       "      <td>15</td>\n",
       "      <td>0</td>\n",
       "      <td>0</td>\n",
       "      <td>0</td>\n",
       "      <td>20</td>\n",
       "    </tr>\n",
       "    <tr>\n",
       "      <th>4</th>\n",
       "      <td>9</td>\n",
       "      <td>34.12</td>\n",
       "      <td>0</td>\n",
       "      <td>0</td>\n",
       "      <td>27</td>\n",
       "      <td>0</td>\n",
       "      <td>0</td>\n",
       "      <td>0</td>\n",
       "      <td>0</td>\n",
       "      <td>0</td>\n",
       "      <td>...</td>\n",
       "      <td>1</td>\n",
       "      <td>0</td>\n",
       "      <td>0</td>\n",
       "      <td>0</td>\n",
       "      <td>0</td>\n",
       "      <td>15</td>\n",
       "      <td>0</td>\n",
       "      <td>0</td>\n",
       "      <td>0</td>\n",
       "      <td>19</td>\n",
       "    </tr>\n",
       "  </tbody>\n",
       "</table>\n",
       "<p>5 rows × 215 columns</p>\n",
       "</div>"
      ],
      "text/plain": [
       "   Unnamed: 0  organizer_home_lat  claimed_at_pdt_month_7  \\\n",
       "0           5               34.17                       0   \n",
       "1           6               34.08                       0   \n",
       "2           7               34.16                       0   \n",
       "3           8               34.05                       0   \n",
       "4           9               34.12                       0   \n",
       "\n",
       "   claimed_at_pdt_hour_1  driver_created_at_pdt_weekofyear  \\\n",
       "0                      0                                27   \n",
       "1                      0                                27   \n",
       "2                      0                                27   \n",
       "3                      0                                27   \n",
       "4                      0                                27   \n",
       "\n",
       "   scheduled_starts_at_pdt_hour_1  scheduled_starts_at_pdt_weekday_4  \\\n",
       "0                               0                                  0   \n",
       "1                               0                                  0   \n",
       "2                               0                                  0   \n",
       "3                               0                                  0   \n",
       "4                               0                                  0   \n",
       "\n",
       "   origin_region_name_Malibu  is_same_day_ride_int  is_affiliate_int  \\\n",
       "0                          0                     0                 0   \n",
       "1                          0                     0                 0   \n",
       "2                          0                     0                 0   \n",
       "3                          0                     0                 0   \n",
       "4                          0                     0                 0   \n",
       "\n",
       "                  ...                  claimed_at_pdt_quarter  \\\n",
       "0                 ...                                       1   \n",
       "1                 ...                                       1   \n",
       "2                 ...                                       1   \n",
       "3                 ...                                       1   \n",
       "4                 ...                                       1   \n",
       "\n",
       "   origin_region_name_Peninsula South  scheduled_starts_at_pdt_month_3  \\\n",
       "0                                   0                                0   \n",
       "1                                   0                                0   \n",
       "2                                   0                                0   \n",
       "3                                   0                                0   \n",
       "4                                   0                                0   \n",
       "\n",
       "   claimed_at_pdt_weekday_3  claimed_at_pdt_hour_9  \\\n",
       "0                         0                      0   \n",
       "1                         0                      0   \n",
       "2                         0                      0   \n",
       "3                         0                      0   \n",
       "4                         0                      0   \n",
       "\n",
       "   driver_created_at_pdt_hour  scheduled_starts_at_pdt_quarter_4  \\\n",
       "0                          15                                  0   \n",
       "1                          15                                  0   \n",
       "2                          15                                  0   \n",
       "3                          15                                  0   \n",
       "4                          15                                  0   \n",
       "\n",
       "   origin_region_name_East Contra Costa  scheduled_starts_at_pdt_month_5  \\\n",
       "0                                     0                                0   \n",
       "1                                     0                                0   \n",
       "2                                     0                                0   \n",
       "3                                     0                                0   \n",
       "4                                     0                                0   \n",
       "\n",
       "   lead_organizer_created_at_pdt_hour  \n",
       "0                                  19  \n",
       "1                                  19  \n",
       "2                                  20  \n",
       "3                                  20  \n",
       "4                                  19  \n",
       "\n",
       "[5 rows x 215 columns]"
      ]
     },
     "execution_count": 10,
     "metadata": {},
     "output_type": "execute_result"
    }
   ],
   "source": [
    "df_X.head()"
   ]
  },
  {
   "cell_type": "code",
   "execution_count": 11,
   "metadata": {},
   "outputs": [
    {
     "data": {
      "text/plain": [
       "count    125675.0\n",
       "mean       -416.0\n",
       "std         509.0\n",
       "min       -1800.0\n",
       "25%        -657.0\n",
       "50%        -324.0\n",
       "75%         -96.0\n",
       "max        1800.0\n",
       "Name: 1, dtype: float64"
      ]
     },
     "execution_count": 11,
     "metadata": {},
     "output_type": "execute_result"
    }
   ],
   "source": [
    "y.describe().round()"
   ]
  },
  {
   "cell_type": "code",
   "execution_count": 12,
   "metadata": {},
   "outputs": [],
   "source": [
    "# break df_X,y into test and train sets\n",
    "from sklearn.model_selection import train_test_split\n",
    "X_train, X_test, y_train, y_test = train_test_split(df_X, y, test_size=0.20, random_state=808)"
   ]
  },
  {
   "cell_type": "code",
   "execution_count": 13,
   "metadata": {},
   "outputs": [
    {
     "name": "stdout",
     "output_type": "stream",
     "text": [
      "(100540, 215)\n",
      "(25135, 215)\n",
      "(100540,)\n",
      "(25135,)\n"
     ]
    }
   ],
   "source": [
    "for i in X_train, X_test, y_train, y_test:\n",
    "    print(i.shape)"
   ]
  },
  {
   "cell_type": "code",
   "execution_count": 14,
   "metadata": {},
   "outputs": [],
   "source": [
    "# select a regressor\n",
    "from sklearn.ensemble import GradientBoostingRegressor\n",
    "model=GradientBoostingRegressor(max_depth=4, random_state=808, n_estimators=200)"
   ]
  },
  {
   "cell_type": "code",
   "execution_count": 15,
   "metadata": {},
   "outputs": [],
   "source": [
    "# fit model\n",
    "model=model.fit(X_train,y_train)"
   ]
  },
  {
   "cell_type": "code",
   "execution_count": 16,
   "metadata": {},
   "outputs": [
    {
     "name": "stdout",
     "output_type": "stream",
     "text": [
      "[3.85907683e-03 4.43456448e-03 0.00000000e+00 0.00000000e+00\n",
      " 1.09597329e-02 0.00000000e+00 5.12178302e-05 4.13494658e-03\n",
      " 2.97151777e-04 1.09521863e-03 0.00000000e+00 5.69129626e-05\n",
      " 8.27114099e-04 1.21511469e-04 1.24439764e-03 0.00000000e+00\n",
      " 0.00000000e+00 2.35096733e-03 0.00000000e+00 1.11689293e-01\n",
      " 0.00000000e+00 1.15902167e-03 5.30169783e-04 0.00000000e+00\n",
      " 5.42884590e-03 7.13791875e-04 4.92887107e-04 5.84505039e-02\n",
      " 9.57317482e-04 0.00000000e+00 1.62224804e-04 8.21593492e-04\n",
      " 0.00000000e+00 5.00489075e-03 0.00000000e+00 7.67837008e-04\n",
      " 1.66896216e-02 4.09367914e-04 0.00000000e+00 1.02700051e-02\n",
      " 1.59702553e-03 8.84993465e-04 3.38346242e-05 5.88610717e-03\n",
      " 0.00000000e+00 2.24300124e-03 2.10353590e-03 2.37682477e-03\n",
      " 1.12199628e-02 6.88185214e-04 0.00000000e+00 3.80990334e-04\n",
      " 4.09434223e-03 1.97799646e-04 3.56905079e-02 4.15205093e-04\n",
      " 0.00000000e+00 3.32601671e-03 0.00000000e+00 0.00000000e+00\n",
      " 0.00000000e+00 1.65195070e-03 6.72253341e-04 3.44296086e-04\n",
      " 0.00000000e+00 5.57429136e-03 4.59566701e-03 3.72618250e-04\n",
      " 0.00000000e+00 7.45683647e-03 9.67890082e-05 9.46514473e-04\n",
      " 0.00000000e+00 1.13535466e-03 2.81555061e-05 0.00000000e+00\n",
      " 1.23757654e-04 0.00000000e+00 0.00000000e+00 3.20639760e-03\n",
      " 2.19519239e-04 0.00000000e+00 3.55371481e-04 7.41802691e-04\n",
      " 1.86869249e-02 3.60340084e-03 3.44281640e-03 0.00000000e+00\n",
      " 2.80494127e-03 2.07614636e-03 5.98163765e-04 5.89085595e-03\n",
      " 0.00000000e+00 1.79408930e-03 3.72672828e-03 3.04736549e-03\n",
      " 6.98776265e-03 0.00000000e+00 9.22098917e-04 6.94724480e-04\n",
      " 8.49391846e-03 0.00000000e+00 0.00000000e+00 0.00000000e+00\n",
      " 3.23212889e-04 1.73743624e-02 1.66470633e-02 2.16004738e-06\n",
      " 1.74580666e-04 0.00000000e+00 3.03360504e-02 0.00000000e+00\n",
      " 0.00000000e+00 6.40785561e-04 0.00000000e+00 0.00000000e+00\n",
      " 1.10137517e-03 1.45063674e-03 2.25655608e-03 3.52160688e-04\n",
      " 1.32212176e-02 5.36015962e-06 4.57230077e-04 3.09962438e-03\n",
      " 4.14310302e-03 8.34492134e-03 1.19517952e-03 0.00000000e+00\n",
      " 2.86498683e-03 5.47235338e-04 0.00000000e+00 3.03337183e-04\n",
      " 2.90311873e-03 0.00000000e+00 1.53862074e-01 1.62595528e-04\n",
      " 3.37634079e-04 0.00000000e+00 1.23559891e-02 4.48354377e-03\n",
      " 0.00000000e+00 0.00000000e+00 7.91688431e-05 0.00000000e+00\n",
      " 0.00000000e+00 4.24667441e-03 0.00000000e+00 8.33157951e-04\n",
      " 7.82744309e-06 8.76986323e-03 0.00000000e+00 0.00000000e+00\n",
      " 2.48545741e-04 5.40278993e-03 1.97012908e-05 0.00000000e+00\n",
      " 1.79151669e-04 6.61015256e-03 0.00000000e+00 4.01333585e-04\n",
      " 4.51263908e-04 6.23000902e-04 0.00000000e+00 8.59455186e-03\n",
      " 5.30448866e-04 3.81206816e-03 3.96638625e-03 4.23468814e-03\n",
      " 5.52029421e-04 9.44696404e-04 2.91806438e-04 0.00000000e+00\n",
      " 1.40414260e-03 0.00000000e+00 0.00000000e+00 0.00000000e+00\n",
      " 0.00000000e+00 1.04088563e-01 9.95111912e-04 1.12951707e-03\n",
      " 6.70308867e-03 2.28203383e-03 4.72544926e-03 8.45493275e-04\n",
      " 4.40715508e-04 1.99868043e-03 9.01268967e-04 0.00000000e+00\n",
      " 0.00000000e+00 8.34676943e-04 0.00000000e+00 4.53650724e-02\n",
      " 0.00000000e+00 0.00000000e+00 0.00000000e+00 0.00000000e+00\n",
      " 0.00000000e+00 0.00000000e+00 0.00000000e+00 9.89263001e-03\n",
      " 1.38277866e-04 3.52129762e-02 0.00000000e+00 4.88507171e-05\n",
      " 2.02709147e-03 0.00000000e+00 7.06384945e-04 5.19766782e-04\n",
      " 0.00000000e+00 2.71986683e-03 3.75835149e-02 0.00000000e+00\n",
      " 2.44094275e-03 0.00000000e+00 2.84045380e-03]\n"
     ]
    }
   ],
   "source": [
    "print(model.feature_importances_)"
   ]
  },
  {
   "cell_type": "code",
   "execution_count": 17,
   "metadata": {},
   "outputs": [
    {
     "data": {
      "text/plain": [
       "[(0.15386207352307127, 'driver_id'),\n",
       " (0.11168929259269282, 'driver_home_lat'),\n",
       " (0.10408856294000675, 'driver_home_lon'),\n",
       " (0.05845050391008584, 'driver_created_at_pdt_dayofyear'),\n",
       " (0.04536507243003646, 'driver_previous_completed_trips'),\n",
       " (0.03758351491136549, 'driver_created_at_pdt_hour'),\n",
       " (0.03569050794712634, 'driver_created_at_pdt_day'),\n",
       " (0.03521297620917384, 'scheduled_starts_at_pdt_hour'),\n",
       " (0.03033605037433866, 'claimed_before_trip_start_secs'),\n",
       " (0.01868692493105692, 'driver_created_at_pdt_weekday'),\n",
       " (0.017374362395921425, 'driver_signup_before_trip_start_secs'),\n",
       " (0.016689621625723895, 'origin_location_id'),\n",
       " (0.01664706328847502, 'origin_lon'),\n",
       " (0.013221217573512285, 'driver_signup_before_trip_created_secs'),\n",
       " (0.012355989126396474, 'driver_signup_before_trip_claimed_secs'),\n",
       " (0.011219962773306683, 'scheduled_ends_at_pdt_hour'),\n",
       " (0.01095973288363682, 'driver_created_at_pdt_weekofyear'),\n",
       " (0.010270005074769934, 'lead_organizer_previous_completed_trips'),\n",
       " (0.009892630014978185, 'drivers_prev_ride_1hr_int'),\n",
       " (0.008769863231640796, 'trip_created_before_trip_start_secs'),\n",
       " (0.008594551857560495, 'predicted_driver_fare'),\n",
       " (0.008493918460322969, 'destination_location_id'),\n",
       " (0.00834492134256936, 'origin_lat'),\n",
       " (0.007456836470721194, 'id'),\n",
       " (0.006987762653544316, 'origin_region_id'),\n",
       " (0.006703088665472201, 'trip_template_id'),\n",
       " (0.006610152563669483, 'org_signup_before_trip_start_secs'),\n",
       " (0.005890855951468376, 'scheduled_ends_at_pdt_dayofyear'),\n",
       " (0.005886107169259133, 'destination_lon'),\n",
       " (0.0055742913648071275, 'driver_signup_before_org_signup_secs'),\n",
       " (0.005428845899824878, 'claimed_after_created'),\n",
       " (0.005402789927281711, 'creator_id'),\n",
       " (0.005004890752381971, 'destination_lat'),\n",
       " (0.004725449260679811, 'created_at_pdt_weekofyear'),\n",
       " (0.0045956670095715765, 'origin_region_name_San Fernando Valley - West'),\n",
       " (0.004483543765140619, 'organizers_count'),\n",
       " (0.004434564479093118, 'organizer_home_lat'),\n",
       " (0.0042466744062595345, 'organizer_home_lon'),\n",
       " (0.004234688139395794, 'org_signup_before_trip_created_secs'),\n",
       " (0.004143103017463584, 'total_predicted_distance_miles'),\n",
       " (0.0041349465751234805, 'origin_region_name_Malibu'),\n",
       " (0.004094342229204006, 'created_at_pdt_hour'),\n",
       " (0.003966386251413148, 'scheduled_starts_at_pdt_dayofyear'),\n",
       " (0.0038590768300752515, 'Unnamed: 0'),\n",
       " (0.003812068164788156, 'total_predicted_duration'),\n",
       " (0.0037267282806942126, 'trip_claimed_after_trip_created'),\n",
       " (0.0036034008408190577, 'origin_region_name_Orange County - Central'),\n",
       " (0.0034428164039354598, 'driver_created_at_pdt_month'),\n",
       " (0.0033260167097717707, 'trip_predicted_raw_fare'),\n",
       " (0.0032063976031245184, 'trip_est_duration_secs'),\n",
       " (0.003099624381519518, 'lead_organizer_created_at_pdt_dayofyear'),\n",
       " (0.003047365488435721, 'origin_region_name_Orange County - North'),\n",
       " (0.0029031187272201687, 'lead_organizer_platform_ios'),\n",
       " (0.0028649868340567923, 'created_at_pdt_dayofyear'),\n",
       " (0.0028404537964139896, 'lead_organizer_created_at_pdt_hour'),\n",
       " (0.0028049412725542205, 'claimed_at_pdt_dayofyear'),\n",
       " (0.002719866828932897, 'claimed_at_pdt_hour_9'),\n",
       " (0.002440942749710153, 'origin_region_name_East Contra Costa'),\n",
       " (0.0023768247699910918, 'destination_region_id'),\n",
       " (0.002350967327721649, 'claimed_at_pdt_hour'),\n",
       " (0.002282033834877125, 'lead_organizer_id'),\n",
       " (0.002256556083250867, 'lead_organizer_created_at_pdt_weekday'),\n",
       " (0.0022430012400704315, 'origin_region_name_Central LA - West'),\n",
       " (0.002103535904867811, 'origin_region_name_San Gabriel Valley - West'),\n",
       " (0.00207614636164424, 'origin_region_name_Tri Valley'),\n",
       " (0.002027091470901243, 'claimed_at_pdt_weekofyear'),\n",
       " (0.00199868043220608, 'origin_analysis_metro_name_LA'),\n",
       " (0.0017940892993047821, 'scheduled_starts_at_pdt_day'),\n",
       " (0.001651950704185139, 'origin_region_name_Santa Clarita'),\n",
       " (0.0015970255317551587, 'scheduled_starts_at_pdt_hour_17'),\n",
       " (0.0014506367388587068, 'scheduled_starts_at_pdt_weekday_5'),\n",
       " (0.0014041426025568965, 'created_at_pdt_day'),\n",
       " (0.0012443976375195718, 'driver_has_driven_this_route_before_int'),\n",
       " (0.0011951795161226281, 'lead_organizer_created_at_pdt_day'),\n",
       " (0.0011590216731987442, 'route_legs_count'),\n",
       " (0.0011353546577756186, 'origin_region_name_East Bay South'),\n",
       " (0.0011295170697997838, 'origin_region_name_South Bay'),\n",
       " (0.001101375167917581, 'scheduled_starts_at_pdt_month_10'),\n",
       " (0.0010952186312477102, 'is_affiliate_int'),\n",
       " (0.000995111911598849, 'created_at_pdt_weekday'),\n",
       " (0.0009573174823381537, 'claimed_at_pdt_weekday'),\n",
       " (0.0009465144727589075, 'origin_region_name_Central LA - South'),\n",
       " (0.0009446964039684418, 'passengers_count'),\n",
       " (0.0009220989168783456, 'scheduled_starts_at_pdt_hour_16'),\n",
       " (0.000901268967147401, 'origin_region_name_Inland Empire'),\n",
       " (0.0008849934648371079, 'scheduled_ends_at_pdt_day'),\n",
       " (0.0008454932748985504, 'claimed_at_pdt_hour_7'),\n",
       " (0.0008346769430257664, 'claimed_at_pdt_day'),\n",
       " (0.0008331579508265918, 'origin_analysis_metro_name_OC'),\n",
       " (0.0008271140993092645, 'scheduled_starts_at_pdt_weekofyear'),\n",
       " (0.0008215934916084118, 'lead_organizer_platform_web'),\n",
       " (0.0007678370082320787, 'lead_organizer_created_at_pdt_weekofyear'),\n",
       " (0.0007418026905372208, 'carpool_int'),\n",
       " (0.0007137918752134483, 'scheduled_ends_at_pdt_weekofyear'),\n",
       " (0.0007063849453729275, 'origin_region_name_Peninsula South'),\n",
       " (0.0006947244803433392, 'origin_region_name_South LA'),\n",
       " (0.0006881852135255603, 'origin_region_name_Westside'),\n",
       " (0.0006722533405336271, 'claimed_at_pdt_hour_21'),\n",
       " (0.000640785560692659, 'scheduled_starts_at_pdt_weekday'),\n",
       " (0.0006230009017477327, 'scheduled_starts_at_pdt_hour_15'),\n",
       " (0.0005981637649489615, 'claimed_at_pdt_month_5'),\n",
       " (0.0005520294212765918, 'scheduled_starts_at_pdt_quarter_2'),\n",
       " (0.0005472353382335702, 'claimed_at_pdt_hour_10'),\n",
       " (0.0005304488664625723, 'scheduled_starts_at_pdt_weekday_1'),\n",
       " (0.0005301697829332691, 'scheduled_starts_at_pdt_hour_18'),\n",
       " (0.0005197667817463546, 'scheduled_starts_at_pdt_month_3'),\n",
       " (0.0004928871073428329, 'scheduled_ends_at_pdt_weekday'),\n",
       " (0.00045723007698018057, 'scheduled_starts_at_pdt_month_2'),\n",
       " (0.00045126390813185474, 'claimed_at_pdt_weekday_2'),\n",
       " (0.00044071550791453004, 'claimed_at_pdt_hour_13'),\n",
       " (0.0004152050929894692, 'claimed_at_pdt_hour_3'),\n",
       " (0.0004093679142597083, 'scheduled_starts_at_pdt_weekday_3'),\n",
       " (0.00040133358494981073, 'scheduled_starts_at_pdt_hour_8'),\n",
       " (0.00038099033441006165, 'claimed_at_pdt_hour_4'),\n",
       " (0.00037261825012796344, 'scheduled_starts_at_pdt_hour_19'),\n",
       " (0.0003553714813600515, 'driver_created_at_pdt_quarter'),\n",
       " (0.00035216068758195683, 'claimed_at_pdt_hour_5'),\n",
       " (0.00034429608555306855, 'scheduled_starts_at_pdt_hour_21'),\n",
       " (0.0003376340791421999, 'claimed_at_pdt_month_11'),\n",
       " (0.0003232128889919454, 'origin_region_name_Ventura'),\n",
       " (0.000303337182809172, 'claimed_at_pdt_weekday_1'),\n",
       " (0.00029715177710494924, 'is_same_day_ride_int'),\n",
       " (0.00029180643814095963, 'claimed_at_pdt_hour_19'),\n",
       " (0.00024854574060923114, 'claimed_at_pdt_month_4'),\n",
       " (0.0002195192389433925, 'origin_region_name_Lamorinda Walnut Creek'),\n",
       " (0.00019779964640472908, 'scheduled_starts_at_pdt_hour_14'),\n",
       " (0.00017915166919080578, 'claimed_at_pdt_month_10'),\n",
       " (0.00017458066612177663, 'claimed_at_pdt_hour_20'),\n",
       " (0.00016259552761984497, 'claimed_at_pdt_month_6'),\n",
       " (0.0001622248042721841, 'claimed_at_pdt_month_12'),\n",
       " (0.00013827786601082435, 'claimed_at_pdt_quarter_2'),\n",
       " (0.0001237576537654871, 'origin_region_name_Orange County - West'),\n",
       " (0.00012151146856501935, 'is_repeating_ride_int'),\n",
       " (9.67890081795858e-05, 'scheduled_starts_at_pdt_weekday_6'),\n",
       " (7.916884305078618e-05, 'scheduled_ends_at_pdt_quarter'),\n",
       " (5.6912962555042745e-05, 'claimed_at_pdt_weekday_4'),\n",
       " (5.121783016434798e-05, 'scheduled_starts_at_pdt_weekday_4'),\n",
       " (4.885071713668079e-05, 'claimed_at_pdt_hour_15'),\n",
       " (3.383462424511234e-05, 'claimed_at_pdt_hour_17'),\n",
       " (2.8155506133719666e-05, 'scheduled_starts_at_pdt_month_4'),\n",
       " (1.9701290782231803e-05, 'created_at_pdt_quarter'),\n",
       " (7.827443094822494e-06, 'claimed_at_pdt_month_8'),\n",
       " (5.360159621489246e-06, 'scheduled_starts_at_pdt_hour_9'),\n",
       " (2.160047378091759e-06, 'claimed_at_pdt_weekday_5'),\n",
       " (0.0, 'shuttle_int'),\n",
       " (0.0, 'scheduled_starts_at_pdt_weekday_2'),\n",
       " (0.0, 'scheduled_starts_at_pdt_quarter_4'),\n",
       " (0.0, 'scheduled_starts_at_pdt_quarter_3'),\n",
       " (0.0, 'scheduled_starts_at_pdt_quarter'),\n",
       " (0.0, 'scheduled_starts_at_pdt_month_9'),\n",
       " (0.0, 'scheduled_starts_at_pdt_month_8'),\n",
       " (0.0, 'scheduled_starts_at_pdt_month_7'),\n",
       " (0.0, 'scheduled_starts_at_pdt_month_6'),\n",
       " (0.0, 'scheduled_starts_at_pdt_month_5'),\n",
       " (0.0, 'scheduled_starts_at_pdt_month_12'),\n",
       " (0.0, 'scheduled_starts_at_pdt_month_11'),\n",
       " (0.0, 'scheduled_starts_at_pdt_month'),\n",
       " (0.0, 'scheduled_starts_at_pdt_hour_7'),\n",
       " (0.0, 'scheduled_starts_at_pdt_hour_6'),\n",
       " (0.0, 'scheduled_starts_at_pdt_hour_5'),\n",
       " (0.0, 'scheduled_starts_at_pdt_hour_4'),\n",
       " (0.0, 'scheduled_starts_at_pdt_hour_3'),\n",
       " (0.0, 'scheduled_starts_at_pdt_hour_23'),\n",
       " (0.0, 'scheduled_starts_at_pdt_hour_22'),\n",
       " (0.0, 'scheduled_starts_at_pdt_hour_20'),\n",
       " (0.0, 'scheduled_starts_at_pdt_hour_2'),\n",
       " (0.0, 'scheduled_starts_at_pdt_hour_13'),\n",
       " (0.0, 'scheduled_starts_at_pdt_hour_12'),\n",
       " (0.0, 'scheduled_starts_at_pdt_hour_11'),\n",
       " (0.0, 'scheduled_starts_at_pdt_hour_10'),\n",
       " (0.0, 'scheduled_starts_at_pdt_hour_1'),\n",
       " (0.0, 'scheduled_ends_at_pdt_month'),\n",
       " (0.0, 'origin_region_name_antelope-valley'),\n",
       " (0.0, 'origin_region_name_Southeast LA'),\n",
       " (0.0, 'origin_region_name_San Jose'),\n",
       " (0.0, 'origin_region_name_San Gabriel Valley - South'),\n",
       " (0.0, 'origin_region_name_San Gabriel Valley - East'),\n",
       " (0.0, 'origin_region_name_San Francisco'),\n",
       " (0.0, 'origin_region_name_San Fernando Valley - East'),\n",
       " (0.0, 'origin_region_name_Pomona Valley'),\n",
       " (0.0, 'origin_region_name_Peninsula North'),\n",
       " (0.0, 'origin_region_name_Orange County - South'),\n",
       " (0.0, 'origin_region_name_Oakland Berkeley'),\n",
       " (0.0, 'origin_region_name_North Bay'),\n",
       " (0.0, 'origin_region_name_Long Beach'),\n",
       " (0.0, 'origin_region_name_Eastside'),\n",
       " (0.0, 'origin_region_name_East Bay North'),\n",
       " (0.0, 'origin_region_name_Default (Unassigned)'),\n",
       " (0.0, 'origin_analysis_metro_name_Default (Unassigned)'),\n",
       " (0.0, 'lead_organizer_created_at_pdt_quarter'),\n",
       " (0.0, 'lead_organizer_created_at_pdt_month'),\n",
       " (0.0, 'driver_gender_male'),\n",
       " (0.0, 'created_at_pdt_month'),\n",
       " (0.0, 'coupon_consumed'),\n",
       " (0.0, 'claimed_at_pdt_weekday_6'),\n",
       " (0.0, 'claimed_at_pdt_weekday_3'),\n",
       " (0.0, 'claimed_at_pdt_quarter_4'),\n",
       " (0.0, 'claimed_at_pdt_quarter_3'),\n",
       " (0.0, 'claimed_at_pdt_quarter'),\n",
       " (0.0, 'claimed_at_pdt_month_9'),\n",
       " (0.0, 'claimed_at_pdt_month_7'),\n",
       " (0.0, 'claimed_at_pdt_month_3'),\n",
       " (0.0, 'claimed_at_pdt_month_2'),\n",
       " (0.0, 'claimed_at_pdt_month'),\n",
       " (0.0, 'claimed_at_pdt_hour_8'),\n",
       " (0.0, 'claimed_at_pdt_hour_6'),\n",
       " (0.0, 'claimed_at_pdt_hour_23'),\n",
       " (0.0, 'claimed_at_pdt_hour_22'),\n",
       " (0.0, 'claimed_at_pdt_hour_2'),\n",
       " (0.0, 'claimed_at_pdt_hour_18'),\n",
       " (0.0, 'claimed_at_pdt_hour_16'),\n",
       " (0.0, 'claimed_at_pdt_hour_14'),\n",
       " (0.0, 'claimed_at_pdt_hour_12'),\n",
       " (0.0, 'claimed_at_pdt_hour_11'),\n",
       " (0.0, 'claimed_at_pdt_hour_1')]"
      ]
     },
     "execution_count": 17,
     "metadata": {},
     "output_type": "execute_result"
    }
   ],
   "source": [
    "importances = list(zip(model.feature_importances_, X_train.columns))\n",
    "importances.sort(reverse=True)\n",
    "importances"
   ]
  },
  {
   "cell_type": "code",
   "execution_count": 18,
   "metadata": {},
   "outputs": [
    {
     "data": {
      "text/plain": [
       "dict_values(['driver_id', 'driver_home_lat', 'driver_home_lon', 'driver_created_at_pdt_dayofyear', 'driver_previous_completed_trips', 'driver_created_at_pdt_hour', 'driver_created_at_pdt_day', 'scheduled_starts_at_pdt_hour', 'claimed_before_trip_start_secs', 'driver_created_at_pdt_weekday'])"
      ]
     },
     "execution_count": 18,
     "metadata": {},
     "output_type": "execute_result"
    }
   ],
   "source": [
    "# top 10 importances\n",
    "dict(importances[:10]).values()\n"
   ]
  },
  {
   "cell_type": "code",
   "execution_count": 19,
   "metadata": {},
   "outputs": [
    {
     "data": {
      "text/plain": [
       "144"
      ]
     },
     "execution_count": 19,
     "metadata": {},
     "output_type": "execute_result"
    }
   ],
   "source": [
    "# number of non-zero features used\n",
    "len([(i,f) for i, f in importances if i > 0])"
   ]
  },
  {
   "cell_type": "code",
   "execution_count": 20,
   "metadata": {},
   "outputs": [
    {
     "data": {
      "text/plain": [
       "18"
      ]
     },
     "execution_count": 20,
     "metadata": {},
     "output_type": "execute_result"
    }
   ],
   "source": [
    "# number of features wiht importance above 1%\n",
    "len([(i,f) for i, f in importances if i > 0.01])"
   ]
  },
  {
   "cell_type": "code",
   "execution_count": 36,
   "metadata": {},
   "outputs": [
    {
     "data": {
      "text/plain": [
       "<matplotlib.axes._subplots.AxesSubplot at 0x1a35576fd0>"
      ]
     },
     "execution_count": 36,
     "metadata": {},
     "output_type": "execute_result"
    },
    {
     "data": {
      "image/png": "[encoded data removed]",
      "text/plain": [
       "<Figure size 432x288 with 1 Axes>"
      ]
     },
     "metadata": {},
     "output_type": "display_data"
    }
   ],
   "source": [
    "pd.DataFrame(importances[:10], index=[x for (_,x) in importances[:10] ]).plot(kind = 'bar')"
   ]
  },
  {
   "cell_type": "code",
   "execution_count": 22,
   "metadata": {},
   "outputs": [
    {
     "data": {
      "text/plain": [
       "0.22747989476422925"
      ]
     },
     "execution_count": 22,
     "metadata": {},
     "output_type": "execute_result"
    }
   ],
   "source": [
    "# score against TRAINING set\n",
    "model.score(X_train,y_train)"
   ]
  },
  {
   "cell_type": "code",
   "execution_count": 23,
   "metadata": {},
   "outputs": [
    {
     "data": {
      "text/plain": [
       "0.19806095714458216"
      ]
     },
     "execution_count": 23,
     "metadata": {},
     "output_type": "execute_result"
    }
   ],
   "source": [
    "# score against TEST set\n",
    "model.score(X_test,y_test)"
   ]
  },
  {
   "cell_type": "code",
   "execution_count": 24,
   "metadata": {},
   "outputs": [
    {
     "data": {
      "text/plain": [
       "25135"
      ]
     },
     "execution_count": 24,
     "metadata": {},
     "output_type": "execute_result"
    }
   ],
   "source": [
    "model_y_test_pred = model.predict(X_test)\n",
    "model_y_test_pred.size"
   ]
  },
  {
   "cell_type": "code",
   "execution_count": 25,
   "metadata": {},
   "outputs": [
    {
     "data": {
      "text/plain": [
       "numpy.ndarray"
      ]
     },
     "execution_count": 25,
     "metadata": {},
     "output_type": "execute_result"
    }
   ],
   "source": [
    "type(model_y_test_pred)"
   ]
  },
  {
   "cell_type": "code",
   "execution_count": 26,
   "metadata": {},
   "outputs": [
    {
     "data": {
      "text/plain": [
       "array([-448.56527558, -270.95134461, -583.78929274, -547.94887213,\n",
       "       -367.70695698, -221.97450466, -225.38637958, -460.61554138,\n",
       "       -477.89838041, -329.19884767])"
      ]
     },
     "execution_count": 26,
     "metadata": {},
     "output_type": "execute_result"
    }
   ],
   "source": [
    "model_y_test_pred[:10]"
   ]
  },
  {
   "cell_type": "code",
   "execution_count": 27,
   "metadata": {},
   "outputs": [
    {
     "data": {
      "text/plain": [
       "181.9168189086847"
      ]
     },
     "execution_count": 27,
     "metadata": {},
     "output_type": "execute_result"
    }
   ],
   "source": [
    "pd.Series(model_y_test_pred).std()"
   ]
  },
  {
   "cell_type": "code",
   "execution_count": 28,
   "metadata": {},
   "outputs": [
    {
     "data": {
      "text/plain": [
       "-0.012677338090677746"
      ]
     },
     "execution_count": 28,
     "metadata": {},
     "output_type": "execute_result"
    }
   ],
   "source": [
    "pd.Series(model_y_test_pred).corr(y_test)"
   ]
  },
  {
   "cell_type": "code",
   "execution_count": 29,
   "metadata": {},
   "outputs": [
    {
     "name": "stdout",
     "output_type": "stream",
     "text": [
      "0.198 7.65 210451 0.198 338 249 4.16\n"
     ]
    }
   ],
   "source": [
    "# regression metrics\n",
    "from sklearn.metrics import explained_variance_score, mean_squared_error, r2_score, mean_absolute_error, median_absolute_error\n",
    "from math import sqrt\n",
    "print (\"%.3f %.2f %.0f %.3f %.0f %.0f %.2f\" % \n",
    "       (explained_variance_score(y_test, model_y_test_pred),\n",
    "        sqrt(mean_squared_error(y_test, model_y_test_pred))/60, # sqrt of MSE in minutes\n",
    "        mean_squared_error(y_test, model_y_test_pred), \n",
    "        r2_score(y_test, model_y_test_pred), \n",
    "        mean_absolute_error(y_test, model_y_test_pred), \n",
    "        median_absolute_error(y_test, model_y_test_pred),\n",
    "        median_absolute_error(y_test, model_y_test_pred)/60 # MAE in minutes\n",
    "       ))"
   ]
  },
  {
   "cell_type": "code",
   "execution_count": 30,
   "metadata": {},
   "outputs": [
    {
     "data": {
      "text/plain": [
       "array([  0., 300., 900.])"
      ]
     },
     "execution_count": 30,
     "metadata": {},
     "output_type": "execute_result"
    }
   ],
   "source": [
    "# make classifications from seconds late target\n",
    "bins = np.array([0.0, 5*60, 15*60]) # 0 on-time, 1 almost on-time, 2 late, 3 extremely late\n",
    "bins"
   ]
  },
  {
   "cell_type": "code",
   "execution_count": 31,
   "metadata": {},
   "outputs": [
    {
     "data": {
      "text/plain": [
       "array([1, 1, 0, 0, 0, 1, 0, 0, 1, 0])"
      ]
     },
     "execution_count": 31,
     "metadata": {},
     "output_type": "execute_result"
    }
   ],
   "source": [
    "np.digitize(y_test, bins)[:10]"
   ]
  },
  {
   "cell_type": "code",
   "execution_count": 32,
   "metadata": {
    "scrolled": true
   },
   "outputs": [
    {
     "name": "stdout",
     "output_type": "stream",
     "text": [
      "[[    0 21156]\n",
      " [    1  2939]\n",
      " [    2   892]\n",
      " [    3   148]]\n"
     ]
    }
   ],
   "source": [
    "# materialize y_test_class array\n",
    "# check to see how many trips are categorized as 0 on-time, 1 almost on-time, 2 late, 3 extremely late\n",
    "y_test_class=np.digitize(y_test, bins)\n",
    "unique, counts = np.unique(y_test_class, return_counts=True)\n",
    "print(np.asarray((unique, counts)).T)"
   ]
  },
  {
   "cell_type": "code",
   "execution_count": 33,
   "metadata": {},
   "outputs": [
    {
     "name": "stdout",
     "output_type": "stream",
     "text": [
      "[[    0 24926]\n",
      " [    1   145]\n",
      " [    2    54]\n",
      " [    3    10]]\n"
     ]
    }
   ],
   "source": [
    "# materialize model_y_pred_class\n",
    "# check to see how many trips are categorized as 0 on-time, 1 almost on-time, 2 late, 3 extremely late\n",
    "model_y_test_pred_class=np.digitize(model_y_test_pred, bins)\n",
    "print(np.asarray(np.unique(model_y_test_pred_class, return_counts=True)).T)"
   ]
  },
  {
   "cell_type": "code",
   "execution_count": 34,
   "metadata": {},
   "outputs": [
    {
     "name": "stdout",
     "output_type": "stream",
     "text": [
      "             precision    recall  f1-score   support\n",
      "\n",
      "          0       0.85      1.00      0.91     21156\n",
      "          1       0.30      0.01      0.03      2939\n",
      "          2       0.30      0.02      0.03       892\n",
      "          3       0.60      0.04      0.08       148\n",
      "\n",
      "avg / total       0.76      0.84      0.77     25135\n",
      "\n"
     ]
    }
   ],
   "source": [
    "from sklearn.metrics import classification_report\n",
    "print(classification_report(y_test_class,model_y_test_pred_class))"
   ]
  },
  {
   "cell_type": "code",
   "execution_count": 35,
   "metadata": {},
   "outputs": [
    {
     "name": "stdout",
     "output_type": "stream",
     "text": [
      "[[21075    71     9     1]\n",
      " [ 2882    43    13     1]\n",
      " [  849    25    16     2]\n",
      " [  120     6    16     6]]\n"
     ]
    }
   ],
   "source": [
    "from sklearn.metrics import confusion_matrix\n",
    "print(confusion_matrix(y_test_class,model_y_test_pred_class,labels=[0,1,2,3]))"
   ]
  },
  {
   "cell_type": "code",
   "execution_count": null,
   "metadata": {},
   "outputs": [],
   "source": []
  }
 ],
 "metadata": {
  "kernelspec": {
   "display_name": "Python 3",
   "language": "python",
   "name": "python3"
  },
  "language_info": {
   "codemirror_mode": {
    "name": "ipython",
    "version": 3
   },
   "file_extension": ".py",
   "mimetype": "text/x-python",
   "name": "python",
   "nbconvert_exporter": "python",
   "pygments_lexer": "ipython3",
   "version": "3.6.5"
  }
 },
 "nbformat": 4,
 "nbformat_minor": 2
}
