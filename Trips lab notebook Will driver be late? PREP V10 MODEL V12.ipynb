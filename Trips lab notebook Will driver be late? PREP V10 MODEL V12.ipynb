{
 "cells": [
  {
   "cell_type": "markdown",
   "metadata": {},
   "source": [
    "### Linear regression model V12\n",
    "added driver had a ride within past hour"
   ]
  },
  {
   "cell_type": "code",
   "execution_count": 1,
   "metadata": {},
   "outputs": [],
   "source": [
    "fileprefix='./lateness_PREP_V10_'"
   ]
  },
  {
   "cell_type": "code",
   "execution_count": 2,
   "metadata": {},
   "outputs": [],
   "source": [
    "import pandas as pd\n",
    "import numpy as np"
   ]
  },
  {
   "cell_type": "code",
   "execution_count": 3,
   "metadata": {},
   "outputs": [],
   "source": [
    "df_X=pd.read_csv(fileprefix+'X.csv', sep='\\t')"
   ]
  },
  {
   "cell_type": "code",
   "execution_count": 4,
   "metadata": {},
   "outputs": [
    {
     "data": {
      "text/plain": [
       "(125675, 215)"
      ]
     },
     "execution_count": 4,
     "metadata": {},
     "output_type": "execute_result"
    }
   ],
   "source": [
    "df_X.shape"
   ]
  },
  {
   "cell_type": "code",
   "execution_count": 5,
   "metadata": {},
   "outputs": [],
   "source": [
    "df_y=pd.read_csv(fileprefix+'y.csv', sep='\\t', header=None)"
   ]
  },
  {
   "cell_type": "code",
   "execution_count": 6,
   "metadata": {},
   "outputs": [
    {
     "data": {
      "text/plain": [
       "(125675, 2)"
      ]
     },
     "execution_count": 6,
     "metadata": {},
     "output_type": "execute_result"
    }
   ],
   "source": [
    "type(df_y)\n",
    "df_y.shape"
   ]
  },
  {
   "cell_type": "code",
   "execution_count": 7,
   "metadata": {},
   "outputs": [
    {
     "data": {
      "text/html": [
       "<div>\n",
       "<style scoped>\n",
       "    .dataframe tbody tr th:only-of-type {\n",
       "        vertical-align: middle;\n",
       "    }\n",
       "\n",
       "    .dataframe tbody tr th {\n",
       "        vertical-align: top;\n",
       "    }\n",
       "\n",
       "    .dataframe thead th {\n",
       "        text-align: right;\n",
       "    }\n",
       "</style>\n",
       "<table border=\"1\" class=\"dataframe\">\n",
       "  <thead>\n",
       "    <tr style=\"text-align: right;\">\n",
       "      <th></th>\n",
       "      <th>0</th>\n",
       "      <th>1</th>\n",
       "    </tr>\n",
       "  </thead>\n",
       "  <tbody>\n",
       "    <tr>\n",
       "      <th>0</th>\n",
       "      <td>5</td>\n",
       "      <td>-497.0</td>\n",
       "    </tr>\n",
       "    <tr>\n",
       "      <th>1</th>\n",
       "      <td>6</td>\n",
       "      <td>5.0</td>\n",
       "    </tr>\n",
       "    <tr>\n",
       "      <th>2</th>\n",
       "      <td>7</td>\n",
       "      <td>-313.0</td>\n",
       "    </tr>\n",
       "    <tr>\n",
       "      <th>3</th>\n",
       "      <td>8</td>\n",
       "      <td>-296.0</td>\n",
       "    </tr>\n",
       "    <tr>\n",
       "      <th>4</th>\n",
       "      <td>9</td>\n",
       "      <td>-166.0</td>\n",
       "    </tr>\n",
       "  </tbody>\n",
       "</table>\n",
       "</div>"
      ],
      "text/plain": [
       "   0      1\n",
       "0  5 -497.0\n",
       "1  6    5.0\n",
       "2  7 -313.0\n",
       "3  8 -296.0\n",
       "4  9 -166.0"
      ]
     },
     "execution_count": 7,
     "metadata": {},
     "output_type": "execute_result"
    }
   ],
   "source": [
    "df_y.head()"
   ]
  },
  {
   "cell_type": "code",
   "execution_count": 8,
   "metadata": {},
   "outputs": [
    {
     "data": {
      "text/plain": [
       "0   -497.0\n",
       "1      5.0\n",
       "2   -313.0\n",
       "3   -296.0\n",
       "4   -166.0\n",
       "Name: 1, dtype: float64"
      ]
     },
     "execution_count": 8,
     "metadata": {},
     "output_type": "execute_result"
    }
   ],
   "source": [
    "y=df_y[1]\n",
    "y.head()"
   ]
  },
  {
   "cell_type": "code",
   "execution_count": 9,
   "metadata": {},
   "outputs": [
    {
     "data": {
      "text/plain": [
       "(125675,)"
      ]
     },
     "execution_count": 9,
     "metadata": {},
     "output_type": "execute_result"
    }
   ],
   "source": [
    "y.shape"
   ]
  },
  {
   "cell_type": "code",
   "execution_count": 10,
   "metadata": {},
   "outputs": [
    {
     "data": {
      "text/html": [
       "<div>\n",
       "<style scoped>\n",
       "    .dataframe tbody tr th:only-of-type {\n",
       "        vertical-align: middle;\n",
       "    }\n",
       "\n",
       "    .dataframe tbody tr th {\n",
       "        vertical-align: top;\n",
       "    }\n",
       "\n",
       "    .dataframe thead th {\n",
       "        text-align: right;\n",
       "    }\n",
       "</style>\n",
       "<table border=\"1\" class=\"dataframe\">\n",
       "  <thead>\n",
       "    <tr style=\"text-align: right;\">\n",
       "      <th></th>\n",
       "      <th>Unnamed: 0</th>\n",
       "      <th>lead_organizer_created_at_pdt_hour</th>\n",
       "      <th>creator_id</th>\n",
       "      <th>claimed_at_pdt_hour_14</th>\n",
       "      <th>origin_region_name_East Bay South</th>\n",
       "      <th>scheduled_starts_at_pdt_month</th>\n",
       "      <th>carpool_int</th>\n",
       "      <th>scheduled_starts_at_pdt_weekofyear</th>\n",
       "      <th>scheduled_starts_at_pdt_hour_2</th>\n",
       "      <th>origin_region_name_Central LA - West</th>\n",
       "      <th>...</th>\n",
       "      <th>destination_region_id</th>\n",
       "      <th>claimed_at_pdt_hour_6</th>\n",
       "      <th>organizers_count</th>\n",
       "      <th>scheduled_starts_at_pdt_hour_5</th>\n",
       "      <th>scheduled_starts_at_pdt_hour_6</th>\n",
       "      <th>origin_region_name_Ventura</th>\n",
       "      <th>lead_organizer_created_at_pdt_month</th>\n",
       "      <th>scheduled_starts_at_pdt_month_2</th>\n",
       "      <th>origin_region_name_Pomona Valley</th>\n",
       "      <th>driver_id</th>\n",
       "    </tr>\n",
       "  </thead>\n",
       "  <tbody>\n",
       "    <tr>\n",
       "      <th>0</th>\n",
       "      <td>5</td>\n",
       "      <td>19</td>\n",
       "      <td>81281</td>\n",
       "      <td>0</td>\n",
       "      <td>0</td>\n",
       "      <td>2</td>\n",
       "      <td>0</td>\n",
       "      <td>7</td>\n",
       "      <td>0</td>\n",
       "      <td>0</td>\n",
       "      <td>...</td>\n",
       "      <td>36.0</td>\n",
       "      <td>0</td>\n",
       "      <td>1.0</td>\n",
       "      <td>0</td>\n",
       "      <td>0</td>\n",
       "      <td>0</td>\n",
       "      <td>7</td>\n",
       "      <td>1</td>\n",
       "      <td>0</td>\n",
       "      <td>62969.0</td>\n",
       "    </tr>\n",
       "    <tr>\n",
       "      <th>1</th>\n",
       "      <td>6</td>\n",
       "      <td>19</td>\n",
       "      <td>80068</td>\n",
       "      <td>0</td>\n",
       "      <td>0</td>\n",
       "      <td>1</td>\n",
       "      <td>0</td>\n",
       "      <td>4</td>\n",
       "      <td>0</td>\n",
       "      <td>0</td>\n",
       "      <td>...</td>\n",
       "      <td>36.0</td>\n",
       "      <td>0</td>\n",
       "      <td>1.0</td>\n",
       "      <td>0</td>\n",
       "      <td>0</td>\n",
       "      <td>0</td>\n",
       "      <td>7</td>\n",
       "      <td>0</td>\n",
       "      <td>0</td>\n",
       "      <td>62969.0</td>\n",
       "    </tr>\n",
       "    <tr>\n",
       "      <th>2</th>\n",
       "      <td>7</td>\n",
       "      <td>20</td>\n",
       "      <td>87802</td>\n",
       "      <td>0</td>\n",
       "      <td>0</td>\n",
       "      <td>2</td>\n",
       "      <td>0</td>\n",
       "      <td>6</td>\n",
       "      <td>0</td>\n",
       "      <td>0</td>\n",
       "      <td>...</td>\n",
       "      <td>48.0</td>\n",
       "      <td>0</td>\n",
       "      <td>1.0</td>\n",
       "      <td>0</td>\n",
       "      <td>0</td>\n",
       "      <td>0</td>\n",
       "      <td>7</td>\n",
       "      <td>1</td>\n",
       "      <td>0</td>\n",
       "      <td>62969.0</td>\n",
       "    </tr>\n",
       "    <tr>\n",
       "      <th>3</th>\n",
       "      <td>8</td>\n",
       "      <td>20</td>\n",
       "      <td>81561</td>\n",
       "      <td>0</td>\n",
       "      <td>0</td>\n",
       "      <td>1</td>\n",
       "      <td>0</td>\n",
       "      <td>4</td>\n",
       "      <td>0</td>\n",
       "      <td>0</td>\n",
       "      <td>...</td>\n",
       "      <td>36.0</td>\n",
       "      <td>0</td>\n",
       "      <td>1.0</td>\n",
       "      <td>0</td>\n",
       "      <td>0</td>\n",
       "      <td>0</td>\n",
       "      <td>7</td>\n",
       "      <td>0</td>\n",
       "      <td>0</td>\n",
       "      <td>62969.0</td>\n",
       "    </tr>\n",
       "    <tr>\n",
       "      <th>4</th>\n",
       "      <td>9</td>\n",
       "      <td>19</td>\n",
       "      <td>76793</td>\n",
       "      <td>0</td>\n",
       "      <td>0</td>\n",
       "      <td>1</td>\n",
       "      <td>0</td>\n",
       "      <td>4</td>\n",
       "      <td>0</td>\n",
       "      <td>0</td>\n",
       "      <td>...</td>\n",
       "      <td>33.0</td>\n",
       "      <td>0</td>\n",
       "      <td>1.0</td>\n",
       "      <td>0</td>\n",
       "      <td>0</td>\n",
       "      <td>0</td>\n",
       "      <td>7</td>\n",
       "      <td>0</td>\n",
       "      <td>0</td>\n",
       "      <td>62969.0</td>\n",
       "    </tr>\n",
       "  </tbody>\n",
       "</table>\n",
       "<p>5 rows × 215 columns</p>\n",
       "</div>"
      ],
      "text/plain": [
       "   Unnamed: 0  lead_organizer_created_at_pdt_hour  creator_id  \\\n",
       "0           5                                  19       81281   \n",
       "1           6                                  19       80068   \n",
       "2           7                                  20       87802   \n",
       "3           8                                  20       81561   \n",
       "4           9                                  19       76793   \n",
       "\n",
       "   claimed_at_pdt_hour_14  origin_region_name_East Bay South  \\\n",
       "0                       0                                  0   \n",
       "1                       0                                  0   \n",
       "2                       0                                  0   \n",
       "3                       0                                  0   \n",
       "4                       0                                  0   \n",
       "\n",
       "   scheduled_starts_at_pdt_month  carpool_int  \\\n",
       "0                              2            0   \n",
       "1                              1            0   \n",
       "2                              2            0   \n",
       "3                              1            0   \n",
       "4                              1            0   \n",
       "\n",
       "   scheduled_starts_at_pdt_weekofyear  scheduled_starts_at_pdt_hour_2  \\\n",
       "0                                   7                               0   \n",
       "1                                   4                               0   \n",
       "2                                   6                               0   \n",
       "3                                   4                               0   \n",
       "4                                   4                               0   \n",
       "\n",
       "   origin_region_name_Central LA - West    ...      destination_region_id  \\\n",
       "0                                     0    ...                       36.0   \n",
       "1                                     0    ...                       36.0   \n",
       "2                                     0    ...                       48.0   \n",
       "3                                     0    ...                       36.0   \n",
       "4                                     0    ...                       33.0   \n",
       "\n",
       "   claimed_at_pdt_hour_6  organizers_count  scheduled_starts_at_pdt_hour_5  \\\n",
       "0                      0               1.0                               0   \n",
       "1                      0               1.0                               0   \n",
       "2                      0               1.0                               0   \n",
       "3                      0               1.0                               0   \n",
       "4                      0               1.0                               0   \n",
       "\n",
       "   scheduled_starts_at_pdt_hour_6  origin_region_name_Ventura  \\\n",
       "0                               0                           0   \n",
       "1                               0                           0   \n",
       "2                               0                           0   \n",
       "3                               0                           0   \n",
       "4                               0                           0   \n",
       "\n",
       "   lead_organizer_created_at_pdt_month  scheduled_starts_at_pdt_month_2  \\\n",
       "0                                    7                                1   \n",
       "1                                    7                                0   \n",
       "2                                    7                                1   \n",
       "3                                    7                                0   \n",
       "4                                    7                                0   \n",
       "\n",
       "   origin_region_name_Pomona Valley  driver_id  \n",
       "0                                 0    62969.0  \n",
       "1                                 0    62969.0  \n",
       "2                                 0    62969.0  \n",
       "3                                 0    62969.0  \n",
       "4                                 0    62969.0  \n",
       "\n",
       "[5 rows x 215 columns]"
      ]
     },
     "execution_count": 10,
     "metadata": {},
     "output_type": "execute_result"
    }
   ],
   "source": [
    "df_X.head()"
   ]
  },
  {
   "cell_type": "code",
   "execution_count": 11,
   "metadata": {},
   "outputs": [
    {
     "data": {
      "text/plain": [
       "count    125675.0\n",
       "mean       -416.0\n",
       "std         509.0\n",
       "min       -1800.0\n",
       "25%        -657.0\n",
       "50%        -324.0\n",
       "75%         -96.0\n",
       "max        1800.0\n",
       "Name: 1, dtype: float64"
      ]
     },
     "execution_count": 11,
     "metadata": {},
     "output_type": "execute_result"
    }
   ],
   "source": [
    "y.describe().round()"
   ]
  },
  {
   "cell_type": "code",
   "execution_count": 12,
   "metadata": {},
   "outputs": [],
   "source": [
    "# break df_X,y into test and train sets\n",
    "from sklearn.model_selection import train_test_split\n",
    "X_train, X_test, y_train, y_test = train_test_split(df_X, y, test_size=0.20, random_state=808)"
   ]
  },
  {
   "cell_type": "code",
   "execution_count": 13,
   "metadata": {},
   "outputs": [
    {
     "name": "stdout",
     "output_type": "stream",
     "text": [
      "(100540, 215)\n",
      "(25135, 215)\n",
      "(100540,)\n",
      "(25135,)\n"
     ]
    }
   ],
   "source": [
    "for i in X_train, X_test, y_train, y_test:\n",
    "    print(i.shape)"
   ]
  },
  {
   "cell_type": "code",
   "execution_count": 14,
   "metadata": {},
   "outputs": [],
   "source": [
    "# select a linear model\n",
    "import sklearn.linear_model\n",
    "model=sklearn.linear_model.LinearRegression(normalize=True)"
   ]
  },
  {
   "cell_type": "code",
   "execution_count": 15,
   "metadata": {},
   "outputs": [],
   "source": [
    "# fit model\n",
    "model=model.fit(X_train,y_train)"
   ]
  },
  {
   "cell_type": "code",
   "execution_count": 16,
   "metadata": {
    "scrolled": true
   },
   "outputs": [
    {
     "data": {
      "text/plain": [
       "array([-1.00585466e-05,  4.41788710e-01, -3.41750350e-03, -1.86017948e+14,\n",
       "       -1.26303649e+14, -3.81112455e+13, -9.55600396e-01, -2.04021079e+13,\n",
       "       -3.78772529e+16, -3.53377777e+13, -9.31592667e+14,  3.26447254e+00,\n",
       "       -3.53130832e+13, -1.06295970e+14,  9.76203422e+02, -8.81149708e+13,\n",
       "       -1.90605440e+14,  9.06842039e+01,  1.03113063e+00, -1.08634761e+14,\n",
       "       -1.14175576e+01, -2.48308137e+00, -2.19256352e+01,  3.79140401e+14,\n",
       "       -8.22986671e+01, -5.56280940e+13,  2.84355301e+14,  1.03437660e+00,\n",
       "        2.52083209e+12,  9.47851003e+13, -1.72014935e+16, -2.35202023e+14,\n",
       "       -1.62055022e+15, -2.65033333e+14, -4.04549054e+14,  1.22036728e+05,\n",
       "       -1.76688888e+13,  1.76565452e+13, -8.89667694e+14,  3.26399162e+14,\n",
       "       -1.32869963e+14, -8.83444442e+13, -2.62142750e+12,  4.49583955e+12,\n",
       "        2.52212641e+08, -9.25088418e-05, -7.95193283e+14, -5.58955600e+14,\n",
       "       -2.08261981e+14, -1.60288133e+15, -8.94245346e+12,  1.51452057e+14,\n",
       "       -2.79026922e+14, -1.71056017e+14, -2.92313918e+14, -9.30089740e+13,\n",
       "       -3.79592052e+13, -2.25878937e+14, -2.56583396e+01, -4.70404045e+14,\n",
       "        7.30122350e+00, -2.65739926e+13, -5.27044058e+04, -2.25918523e+14,\n",
       "       -5.83073332e+14,  1.86318533e+14, -1.11656851e+14,  4.18404576e+00,\n",
       "       -4.49022043e+14, -9.45458284e+00,  3.62340653e+01, -1.86318533e+14,\n",
       "       -1.21703329e+05, -3.68925542e+05, -2.82702221e+14, -4.06258039e+14,\n",
       "       -1.76565414e+13,  2.13724325e+14, -2.47364444e+14, -2.29695555e+14,\n",
       "       -2.56584025e+14, -2.02903163e+13, -2.95250563e+00, -9.09658717e+13,\n",
       "       -9.20760054e+00,  1.17490473e+14, -3.20730031e+14, -3.05600915e+14,\n",
       "       -2.13820021e+14,  1.32869963e+13, -3.82877267e+01, -1.49674014e+14,\n",
       "        2.32433206e+14,  5.54470962e-02, -1.43972538e+14, -2.34580140e+00,\n",
       "       -8.20016206e+00, -6.68080168e+16,  3.44055704e+14,  1.88060998e+00,\n",
       "       -6.25330471e+01, -1.94357777e+14, -5.74954245e-01, -2.77966027e+14,\n",
       "       -1.72730952e+14, -7.32969828e+13, -2.69062845e+08,  5.23926603e+04,\n",
       "       -2.21622814e+14,  3.75129475e-03,  1.89570201e+14, -6.46936570e+00,\n",
       "       -5.31479851e+13,  9.28128035e+00,  1.68808321e+16,  3.98226848e+01,\n",
       "       -1.86082135e+07, -1.74711836e+06, -1.58521244e+15, -1.92438019e+14,\n",
       "        1.76688888e+13, -7.08802516e+01,  7.24519768e+02, -4.91786047e+14,\n",
       "       -2.15600232e+14,  1.50474613e+13, -1.16614666e+15, -7.95078004e-03,\n",
       "        1.09128714e+13, -2.12591941e+14, -2.65739926e+14,  1.07297198e-04,\n",
       "       -1.32869963e+13, -3.16317402e+06,  2.20484187e+00, -1.46156959e+14,\n",
       "       -2.52452929e+14, -1.11791120e+15, -7.06755553e+13, -1.99304944e+14,\n",
       "       -7.45274133e+14,  2.25784305e+01, -7.96434437e+12, -1.19582967e+14,\n",
       "        6.51340529e+00, -3.72637067e+14,  1.01718657e+15, -2.98395744e+12,\n",
       "       -5.30066665e+13,  4.73925501e+14, -2.12026666e+14, -1.62671369e+01,\n",
       "       -3.84876037e+14,  2.13820021e+13,  2.30441254e+08, -2.39165933e+14,\n",
       "        1.92135143e-03,  1.41304450e+14,  2.76943900e+01, -1.59443955e+14,\n",
       "       -4.51722805e+14, -2.82743607e+02,  1.83783092e+14,  1.37877707e+01,\n",
       "       -1.48151055e+01, -3.53377777e+14, -2.99348029e+14,  8.91016425e-01,\n",
       "       -3.10074643e+14,  2.47379721e+13, -1.63821910e+15,  2.60428061e+01,\n",
       "        5.55895997e+13,  3.61712245e+14,  6.34076787e+14, -3.00371110e+14,\n",
       "        5.68710602e+14,  1.15743834e+00,  2.17604962e+07, -4.36436317e-01,\n",
       "       -3.42112033e+14, -3.09285641e+00, -1.68502038e+07, -4.44343648e+14,\n",
       "       -4.62012537e+14, -1.72511051e+01,  2.11964884e+14,  1.58960992e+14,\n",
       "       -8.55280083e+13,  2.44614509e-01,  1.76617533e+14, -6.41460062e+13,\n",
       "       -7.02440782e+14, -3.18039999e+14, -3.63494035e+14, -4.27640041e+14,\n",
       "        1.68610952e+07, -1.97041798e+12, -6.64349814e+13,  1.95462347e+02,\n",
       "       -2.33730697e-04, -9.19096150e+12, -3.98609889e+13,  8.83444442e+13,\n",
       "        1.79488930e-01,  3.83239545e-01, -7.97219777e+13, -6.44591624e+00,\n",
       "       -1.06910010e+14, -1.28292012e+14, -3.35708888e+14, -7.54861042e+01,\n",
       "        9.44744109e+13, -1.76688888e+14,  1.18483800e-03])"
      ]
     },
     "execution_count": 16,
     "metadata": {},
     "output_type": "execute_result"
    }
   ],
   "source": [
    "model.coef_"
   ]
  },
  {
   "cell_type": "code",
   "execution_count": 17,
   "metadata": {
    "scrolled": true
   },
   "outputs": [
    {
     "data": {
      "text/plain": [
       "0                      0\n",
       "1                      0\n",
       "2                      0\n",
       "3       -186017947995876\n",
       "4       -126303649335140\n",
       "5        -38111245468321\n",
       "6                      0\n",
       "7        -20402107857531\n",
       "8     -37877252922600496\n",
       "9        -35337777668254\n",
       "10      -931592666555448\n",
       "11                     3\n",
       "12       -35313083170491\n",
       "13      -106295970283375\n",
       "14                   976\n",
       "15       -88114970840800\n",
       "16      -190605439969260\n",
       "17                    90\n",
       "18                     1\n",
       "19      -108634760500859\n",
       "20                   -11\n",
       "21                    -2\n",
       "22                   -21\n",
       "23       379140401017384\n",
       "24                   -82\n",
       "25       -55628093998654\n",
       "26       284355300763037\n",
       "27                     1\n",
       "28         2520832089892\n",
       "29        94785100254339\n",
       "             ...        \n",
       "185                  -17\n",
       "186      211964883940117\n",
       "187      158960991875840\n",
       "188      -85528008256834\n",
       "189                    0\n",
       "190      176617533400063\n",
       "191      -64146006192800\n",
       "192     -702440782067738\n",
       "193     -318039999014151\n",
       "194     -363494035091267\n",
       "195     -427640041283823\n",
       "196             16861095\n",
       "197       -1970417979978\n",
       "198      -66434981427139\n",
       "199                  195\n",
       "200                    0\n",
       "201       -9190961504085\n",
       "202      -39860988856289\n",
       "203       88344444170602\n",
       "204                    0\n",
       "205                    0\n",
       "206      -79721977712518\n",
       "207                   -6\n",
       "208     -106910010320963\n",
       "209     -128292012385131\n",
       "210     -335708887848264\n",
       "211                  -75\n",
       "212       94474410871475\n",
       "213     -176688888341325\n",
       "214                    0\n",
       "Length: 215, dtype: int64"
      ]
     },
     "execution_count": 17,
     "metadata": {},
     "output_type": "execute_result"
    }
   ],
   "source": [
    "pd.Series(model.coef_).astype(int)"
   ]
  },
  {
   "cell_type": "code",
   "execution_count": 18,
   "metadata": {},
   "outputs": [
    {
     "data": {
      "text/plain": [
       "-443472553406620.5"
      ]
     },
     "execution_count": 18,
     "metadata": {},
     "output_type": "execute_result"
    }
   ],
   "source": [
    "model.intercept_"
   ]
  },
  {
   "cell_type": "code",
   "execution_count": 19,
   "metadata": {},
   "outputs": [
    {
     "data": {
      "text/plain": [
       "Unnamed: 0                               6.259357e+04\n",
       "lead_organizer_created_at_pdt_hour       4.782270e+00\n",
       "creator_id                               2.835762e+04\n",
       "claimed_at_pdt_hour_14                   2.110560e-01\n",
       "origin_region_name_East Bay South        1.291162e-01\n",
       "scheduled_starts_at_pdt_month            3.471655e+00\n",
       "carpool_int                              1.312920e-01\n",
       "scheduled_starts_at_pdt_weekofyear       1.507374e+01\n",
       "scheduled_starts_at_pdt_hour_2           0.000000e+00\n",
       "origin_region_name_Central LA - West     2.467008e-01\n",
       "claimed_at_pdt_weekday_5                 2.344145e-01\n",
       "lead_organizer_created_at_pdt_quarter    8.076552e-01\n",
       "claimed_at_pdt_month_3                   2.793281e-01\n",
       "claimed_at_pdt_hour_8                    2.012094e-01\n",
       "total_predicted_duration                 1.252958e+01\n",
       "scheduled_starts_at_pdt_weekday          1.357037e+00\n",
       "claimed_at_pdt_month_10                  3.337243e-01\n",
       "lead_organizer_platform_web              7.853678e-02\n",
       "is_same_day_ride_int                     1.590459e-01\n",
       "origin_region_name_Tri Valley            1.269005e-01\n",
       "driver_created_at_pdt_hour               2.327039e+00\n",
       "passengers_count                         5.874265e-01\n",
       "organizer_home_lat                       3.493593e+00\n",
       "scheduled_starts_at_pdt_weekday_4        3.646652e-01\n",
       "driver_home_lat                          1.476480e+00\n",
       "origin_region_name_North Bay             8.977842e-02\n",
       "scheduled_starts_at_pdt_weekday_3        4.145787e-01\n",
       "total_predicted_distance_miles           5.668047e+00\n",
       "scheduled_starts_at_pdt_dayofyear        1.054582e+02\n",
       "scheduled_starts_at_pdt_weekday_1        4.133796e-01\n",
       "                                             ...     \n",
       "coupon_consumed                          7.915962e-02\n",
       "scheduled_starts_at_pdt_month_6          2.505018e-01\n",
       "claimed_at_pdt_month_5                   2.864879e-01\n",
       "scheduled_starts_at_pdt_hour_4           2.043462e-02\n",
       "created_at_pdt_weekday                   2.166007e+00\n",
       "claimed_at_pdt_month_4                   2.604898e-01\n",
       "scheduled_starts_at_pdt_hour_3           3.153774e-03\n",
       "scheduled_starts_at_pdt_month_12         2.637374e-01\n",
       "origin_region_name_Southeast LA          6.079670e-02\n",
       "scheduled_starts_at_pdt_hour_17          2.635451e-01\n",
       "scheduled_starts_at_pdt_hour_20          8.857118e-02\n",
       "org_signup_before_trip_start_secs        1.297236e+07\n",
       "scheduled_ends_at_pdt_dayofyear          1.054582e+02\n",
       "claimed_at_pdt_hour_5                    1.150550e-01\n",
       "origin_lat                               1.466141e+00\n",
       "id                                       9.032390e+04\n",
       "scheduled_starts_at_pdt_day              8.724887e+00\n",
       "claimed_at_pdt_hour_3                    6.835683e-02\n",
       "origin_region_name_South Bay             2.274818e-01\n",
       "claimed_after_created                    3.024465e+04\n",
       "destination_region_id                    1.422844e+01\n",
       "claimed_at_pdt_hour_6                    1.799625e-01\n",
       "organizers_count                         1.717336e-01\n",
       "scheduled_starts_at_pdt_hour_5           3.729015e-02\n",
       "scheduled_starts_at_pdt_hour_6           1.417350e-01\n",
       "origin_region_name_Ventura               7.248199e-02\n",
       "lead_organizer_created_at_pdt_month      2.500288e+00\n",
       "scheduled_starts_at_pdt_month_2          2.649988e-01\n",
       "origin_region_name_Pomona Valley         2.618835e-02\n",
       "driver_id                                3.646652e+04\n",
       "Length: 215, dtype: float64"
      ]
     },
     "execution_count": 19,
     "metadata": {},
     "output_type": "execute_result"
    }
   ],
   "source": [
    "X_train.std()"
   ]
  },
  {
   "cell_type": "code",
   "execution_count": 20,
   "metadata": {},
   "outputs": [
    {
     "name": "stdout",
     "output_type": "stream",
     "text": [
      "origin_region_name_Default (Unassigned)           -2727169179423537664\n",
      "origin_region_name_antelope-valley                 -369762287038972864\n",
      "scheduled_starts_at_pdt_hour_23                     -27570054176955188\n",
      "scheduled_starts_at_pdt_hour_3                      -20339443318561720\n",
      "scheduled_starts_at_pdt_hour_22                     -12845860886665568\n",
      "origin_region_name_Orange County - West             -11008776322857560\n",
      "origin_region_name_Orange County - North             -8966063542857170\n",
      "origin_region_name_East Contra Costa                 -8851536908691808\n",
      "origin_region_name_Orange County - South             -8771031569666359\n",
      "origin_region_name_Orange County - Central           -7202586331499325\n",
      "scheduled_starts_at_pdt_hour_21                      -7159766035687088\n",
      "origin_region_name_Pomona Valley                     -6746849950879226\n",
      "origin_region_name_Inland Empire                     -5471526237725377\n",
      "origin_region_name_Southeast LA                      -5231204707585897\n",
      "scheduled_starts_at_pdt_hour_20                      -4828207787707214\n",
      "origin_region_name_Ventura                           -4631618259942900\n",
      "scheduled_starts_at_pdt_hour_4                       -4185445824047297\n",
      "claimed_at_pdt_weekday_5                             -3974126330610684\n",
      "scheduled_starts_at_pdt_hour_19                      -3278758932382928\n",
      "claimed_at_pdt_weekday_6                             -3229993399889074\n",
      "scheduled_starts_at_pdt_hour_5                       -2866977062182021\n",
      "origin_region_name_San Gabriel Valley - South        -2824741662534193\n",
      "scheduled_starts_at_pdt_month_10                     -2686018274596106\n",
      "scheduled_starts_at_pdt_month_12                     -2663409854449700\n",
      "scheduled_starts_at_pdt_month_11                     -2581677022435836\n",
      "origin_region_name_San Gabriel Valley - East         -2546138891387923\n",
      "claimed_at_pdt_weekday_4                             -2463037420165223\n",
      "claimed_at_pdt_hour_23                               -2401746478981945\n",
      "origin_region_name_South LA                          -2335806899428738\n",
      "origin_region_name_Santa Clarita                     -2200966710077867\n",
      "scheduled_starts_at_pdt_hour_18                      -2115750962678351\n",
      "scheduled_starts_at_pdt_hour_11                      -2061671804966141\n",
      "scheduled_starts_at_pdt_hour_10                      -1972189658296235\n",
      "scheduled_starts_at_pdt_month_7                      -1854617140339883\n",
      "claimed_at_pdt_hour_22                               -1742733586664995\n",
      "origin_region_name_Malibu                            -1609041732495792\n",
      "scheduled_starts_at_pdt_hour_9                       -1605930494276403\n",
      "claimed_at_pdt_weekday_3                             -1551034468371279\n",
      "claimed_at_pdt_hour_21                               -1485890095055315\n",
      "scheduled_starts_at_pdt_hour_12                      -1380350623181049\n",
      "scheduled_starts_at_pdt_hour_17                      -1379248149396119\n",
      "claimed_at_pdt_hour_20                               -1341418559759265\n",
      "scheduled_starts_at_pdt_hour_13                      -1242559161216663\n",
      "scheduled_starts_at_pdt_month_8                      -1224637337281083\n",
      "origin_region_name_Westside                          -1167465410005847\n",
      "scheduled_starts_at_pdt_hour_16                      -1102421906941434\n",
      "claimed_at_pdt_hour_18                               -1080719291519612\n",
      "claimed_at_pdt_hour_19                               -1067866633473772\n",
      "claimed_at_pdt_quarter_3                             -1058282446560656\n",
      "origin_region_name_San Francisco                     -1057609069987420\n",
      "origin_region_name_East Bay North                    -1023213929257519\n",
      "origin_region_name_San Gabriel Valley - West         -1017824440507992\n",
      "claimed_at_pdt_weekday_2                              -990222351763958\n",
      "claimed_at_pdt_hour_17                                -987981249309515\n",
      "origin_region_name_East Bay South                     -978216637586687\n",
      "origin_analysis_metro_name_LA                         -976044985145927\n",
      "claimed_at_pdt_hour_15                                -945375758797368\n",
      "claimed_at_pdt_month_12                               -918243814690963\n",
      "scheduled_starts_at_pdt_hour_6                        -905153839965684\n",
      "claimed_at_pdt_hour_14                                -881367699129177\n",
      "claimed_at_pdt_hour_16                                -880593718335600\n",
      "origin_region_name_Tri Valley                         -856062839266190\n",
      "scheduled_starts_at_pdt_hour_14                       -851686626263413\n",
      "origin_region_name_San Fernando Valley - West         -834114365422259\n",
      "claimed_at_pdt_hour_13                                -806994988998489\n",
      "origin_region_name_San Fernando Valley - East         -799180872186290\n",
      "scheduled_starts_at_pdt_hour_8                        -767798834031130\n",
      "scheduled_starts_at_pdt_hour_15                       -746408587373133\n",
      "claimed_at_pdt_hour_11                                -736069718992964\n",
      "claimed_at_pdt_hour_10                                -686835759127230\n",
      "scheduled_starts_at_pdt_month_9                       -685552311008728\n",
      "claimed_at_pdt_month_11                               -680407892668809\n",
      "claimed_at_pdt_hour_4                                 -648445213385024\n",
      "origin_region_name_North Bay                          -619615402692426\n",
      "claimed_at_pdt_hour_3                                 -583131067713874\n",
      "claimed_at_pdt_hour_5                                 -577419478079129\n",
      "claimed_at_pdt_month_10                               -571146418446678\n",
      "claimed_at_pdt_hour_9                                 -550762289477184\n",
      "claimed_at_pdt_quarter_2                              -531700365937666\n",
      "claimed_at_pdt_hour_8                                 -528285223420887\n",
      "origin_region_name_Long Beach                         -524210774503037\n",
      "claimed_at_pdt_weekday_1                              -486092205712622\n",
      "claimed_at_pdt_hour_7                                 -454065880682097\n",
      "claimed_at_pdt_hour_6                                 -442992061329273\n",
      "claimed_at_pdt_hour_12                                -438800347422824\n",
      "scheduled_starts_at_pdt_hour_7                        -406429448249342\n",
      "claimed_at_pdt_hour_2                                 -374427151475279\n",
      "origin_region_name_Oakland Berkeley                   -340313282564268\n",
      "scheduled_starts_at_pdt_quarter_2                     -266401139885266\n",
      "origin_region_name_Eastside                           -242593826603712\n",
      "origin_region_name_San Jose                           -205366212445808\n",
      "claimed_at_pdt_hour_1                                 -154825291236968\n",
      "origin_region_name_Central LA - West                  -143241464808235\n",
      "origin_region_name_Peninsula South                    -139751393620860\n",
      "claimed_at_pdt_month_3                                -126421531101952\n",
      "origin_region_name_Central LA - South                  -90659881666044\n",
      "claimed_at_pdt_month_2                                 -66053112695834\n",
      "scheduled_starts_at_pdt_weekday                        -64931866816403\n",
      "origin_region_name_Lamorinda Walnut Creek              -21602118447596\n",
      "scheduled_starts_at_pdt_month                          -10977833584300\n",
      "claimed_at_pdt_quarter                                  -6947199869646\n",
      "scheduled_ends_at_pdt_weekday                           -6589206894414\n",
      "scheduled_starts_at_pdt_weekofyear                      -1353486345183\n",
      "scheduled_starts_at_pdt_day                             -1053419000162\n",
      "scheduled_ends_at_pdt_month                              -859520276664\n",
      "scheduled_ends_at_pdt_dayofyear                           -18684347893\n",
      "driver_created_at_pdt_weekday                                   -33313\n",
      "driver_created_at_pdt_weekofyear                                -32181\n",
      "claimed_at_pdt_dayofyear                                         -1153\n",
      "claimed_before_trip_start_secs                                   -1129\n",
      "driver_gender_male                                                -904\n",
      "coupon_consumed                                                   -217\n",
      "is_affiliate_int                                                   -95\n",
      "drivers_prev_ride_1hr_int                                          -93\n",
      "created_at_pdt_month                                               -80\n",
      "driver_created_at_pdt_quarter                                      -80\n",
      "driver_home_lat                                                    -55\n",
      "organizers_count                                                   -37\n",
      "lead_organizer_created_at_pdt_month                                -30\n",
      "is_repeating_ride_int                                              -19\n",
      "created_at_pdt_quarter                                             -13\n",
      "carpool_int                                                         -7\n",
      "organizer_home_lat                                                  -6\n",
      "origin_lon                                                          -5\n",
      "driver_created_at_pdt_hour                                          -4\n",
      "passengers_count                                                    -4\n",
      "driver_home_lon                                                     -1\n",
      "org_signup_before_trip_created_secs                                 -1\n",
      "driver_signup_before_trip_claimed_secs                              -1\n",
      "created_at_pdt_day                                                  -1\n",
      "organizer_home_lon                                                   0\n",
      "predicted_driver_fare                                                0\n",
      "driver_signup_before_trip_created_secs                               0\n",
      "lead_organizer_created_at_pdt_day                                    0\n",
      "driver_signup_before_org_signup_secs                                 0\n",
      "created_at_pdt_hour                                                  0\n",
      "claimed_at_pdt_weekofyear                                            0\n",
      "trip_est_duration_secs                                               0\n",
      "lead_organizer_previous_completed_trips                              0\n",
      "creator_id                                                           0\n",
      "id                                                                   0\n",
      "destination_location_id                                              0\n",
      "Unnamed: 0                                                           0\n",
      "origin_location_id                                                   0\n",
      "driver_id                                                            0\n",
      "lead_organizer_id                                                    0\n",
      "trip_template_id                                                     0\n",
      "claimed_after_created                                                0\n",
      "driver_previous_completed_trips                                      0\n",
      "lead_organizer_created_at_pdt_dayofyear                              0\n",
      "destination_region_id                                                0\n",
      "trip_predicted_raw_fare                                              0\n",
      "created_at_pdt_dayofyear                                             0\n",
      "lead_organizer_created_at_pdt_hour                                   0\n",
      "created_at_pdt_weekday                                               0\n",
      "created_at_pdt_weekofyear                                            0\n",
      "total_predicted_distance_miles                                       0\n",
      "lead_organizer_created_at_pdt_weekofyear                             0\n",
      "lead_organizer_created_at_pdt_weekday                                0\n",
      "org_signup_before_trip_start_secs                                    1\n",
      "driver_signup_before_trip_start_secs                                 1\n",
      "driver_created_at_pdt_day                                            2\n",
      "lead_organizer_created_at_pdt_quarter                                4\n",
      "destination_lon                                                      4\n",
      "is_same_day_ride_int                                                 6\n",
      "scheduled_ends_at_pdt_hour                                           7\n",
      "destination_lat                                                     24\n",
      "route_legs_count                                                    26\n",
      "driver_has_driven_this_route_before_int                             27\n",
      "total_predicted_duration                                            77\n",
      "lead_organizer_platform_ios                                        108\n",
      "trip_created_before_trip_start_secs                                120\n",
      "origin_lat                                                         133\n",
      "trip_claimed_after_trip_created                                    138\n",
      "shuttle_int                                                        266\n",
      "driver_created_at_pdt_month                                        277\n",
      "driver_created_at_pdt_dayofyear                                    648\n",
      "lead_organizer_platform_web                                       1154\n",
      "claimed_at_pdt_day                                               13886\n",
      "scheduled_starts_at_pdt_dayofyear                          23903603055\n",
      "scheduled_ends_at_pdt_weekofyear                          298256311646\n",
      "origin_region_id                                         1240564196094\n",
      "scheduled_ends_at_pdt_day                                1250774621058\n",
      "claimed_at_pdt_hour                                      2297264984300\n",
      "claimed_at_pdt_month                                     5081434539400\n",
      "scheduled_starts_at_pdt_hour                             5677571484825\n",
      "claimed_at_pdt_weekday                                  92972437379858\n",
      "scheduled_starts_at_pdt_month_4                         99149134490270\n",
      "claimed_at_pdt_quarter_4                               121653468991076\n",
      "scheduled_ends_at_pdt_quarter                          131666142893295\n",
      "scheduled_starts_at_pdt_quarter                        185803072970618\n",
      "origin_region_name_Peninsula North                     208384984647638\n",
      "scheduled_starts_at_pdt_weekday_1                      229293152560302\n",
      "scheduled_starts_at_pdt_month_2                        356508832596507\n",
      "origin_region_name_South Bay                           388358376330576\n",
      "scheduled_starts_at_pdt_month_5                        403783887737478\n",
      "scheduled_starts_at_pdt_weekday_2                      455502507329665\n",
      "scheduled_starts_at_pdt_quarter_3                      552124090601179\n",
      "claimed_at_pdt_month_5                                 554861129990173\n",
      "claimed_at_pdt_month_6                                 593085634141629\n",
      "scheduled_starts_at_pdt_month_3                        636321422541664\n",
      "claimed_at_pdt_month_4                                 678020936812077\n",
      "scheduled_starts_at_pdt_weekday_3                      685889774485668\n",
      "scheduled_starts_at_pdt_month_6                        846160966187179\n",
      "claimed_at_pdt_month_9                                1018920766674710\n",
      "scheduled_starts_at_pdt_weekday_4                     1039694477247858\n",
      "claimed_at_pdt_month_8                                1335363911464973\n",
      "scheduled_starts_at_pdt_quarter_4                     1374945161434558\n",
      "claimed_at_pdt_month_7                                1628845352086079\n",
      "origin_analysis_metro_name_OC                         2912922927621071\n",
      "scheduled_starts_at_pdt_weekday_5                     7076342781876287\n",
      "scheduled_starts_at_pdt_weekday_6                    11752030705392094\n",
      "origin_analysis_metro_name_Default (Unassigned)    2676330689197442048\n"
     ]
    }
   ],
   "source": [
    "# normalize the linear model coefficients by the standard deviation to see which features are most important\n",
    "# use print to see every feature not just first 20 and last 20\n",
    "print((model.coef_/X_train.std()).sort_values(axis=0).replace([np.inf, -np.inf], np.nan).dropna().astype(int).to_string())"
   ]
  },
  {
   "cell_type": "code",
   "execution_count": 21,
   "metadata": {},
   "outputs": [
    {
     "data": {
      "text/plain": [
       "0.05486599271597269"
      ]
     },
     "execution_count": 21,
     "metadata": {},
     "output_type": "execute_result"
    }
   ],
   "source": [
    "# score against TRAINING set\n",
    "model.score(X_train,y_train)"
   ]
  },
  {
   "cell_type": "code",
   "execution_count": 22,
   "metadata": {},
   "outputs": [
    {
     "data": {
      "text/plain": [
       "0.0516980954670887"
      ]
     },
     "execution_count": 22,
     "metadata": {},
     "output_type": "execute_result"
    }
   ],
   "source": [
    "# score against TEST set\n",
    "model.score(X_test,y_test)"
   ]
  },
  {
   "cell_type": "code",
   "execution_count": 23,
   "metadata": {},
   "outputs": [
    {
     "data": {
      "text/plain": [
       "25135"
      ]
     },
     "execution_count": 23,
     "metadata": {},
     "output_type": "execute_result"
    }
   ],
   "source": [
    "model_y_test_pred = model.predict(X_test)\n",
    "model_y_test_pred.size"
   ]
  },
  {
   "cell_type": "code",
   "execution_count": 24,
   "metadata": {},
   "outputs": [
    {
     "data": {
      "text/plain": [
       "numpy.ndarray"
      ]
     },
     "execution_count": 24,
     "metadata": {},
     "output_type": "execute_result"
    }
   ],
   "source": [
    "type(model_y_test_pred)"
   ]
  },
  {
   "cell_type": "code",
   "execution_count": 25,
   "metadata": {},
   "outputs": [
    {
     "data": {
      "text/plain": [
       "array([-329.625 , -456.375 , -485.625 , -587.9375, -482.5   , -439.25  ,\n",
       "       -288.8125, -461.4375, -529.25  , -348.0625])"
      ]
     },
     "execution_count": 25,
     "metadata": {},
     "output_type": "execute_result"
    }
   ],
   "source": [
    "model_y_test_pred[:10]"
   ]
  },
  {
   "cell_type": "code",
   "execution_count": 26,
   "metadata": {},
   "outputs": [
    {
     "data": {
      "text/plain": [
       "119.15905405745319"
      ]
     },
     "execution_count": 26,
     "metadata": {},
     "output_type": "execute_result"
    }
   ],
   "source": [
    "pd.Series(model_y_test_pred).std()"
   ]
  },
  {
   "cell_type": "code",
   "execution_count": 27,
   "metadata": {},
   "outputs": [
    {
     "data": {
      "text/plain": [
       "-0.008199351057710483"
      ]
     },
     "execution_count": 27,
     "metadata": {},
     "output_type": "execute_result"
    }
   ],
   "source": [
    "pd.Series(model_y_test_pred).corr(y_test)"
   ]
  },
  {
   "cell_type": "code",
   "execution_count": 28,
   "metadata": {},
   "outputs": [
    {
     "name": "stdout",
     "output_type": "stream",
     "text": [
      "0.052 8.31 248860 0.052 373 284 4.72\n"
     ]
    }
   ],
   "source": [
    "# regression metrics\n",
    "from sklearn.metrics import explained_variance_score, mean_squared_error, r2_score, mean_absolute_error, median_absolute_error\n",
    "from math import sqrt\n",
    "print (\"%.3f %.2f %.0f %.3f %.0f %.0f %.2f\" % \n",
    "       (explained_variance_score(y_test, model_y_test_pred),\n",
    "        sqrt(mean_squared_error(y_test, model_y_test_pred))/60, # sqrt of MSE in minutes\n",
    "        mean_squared_error(y_test, model_y_test_pred), \n",
    "        r2_score(y_test, model_y_test_pred), \n",
    "        mean_absolute_error(y_test, model_y_test_pred), \n",
    "        median_absolute_error(y_test, model_y_test_pred),\n",
    "        median_absolute_error(y_test, model_y_test_pred)/60 # MAE in minutes\n",
    "       ))"
   ]
  },
  {
   "cell_type": "code",
   "execution_count": 29,
   "metadata": {},
   "outputs": [
    {
     "data": {
      "text/plain": [
       "array([  0., 300., 900.])"
      ]
     },
     "execution_count": 29,
     "metadata": {},
     "output_type": "execute_result"
    }
   ],
   "source": [
    "# make classifications from seconds late target\n",
    "bins = np.array([0.0, 5*60, 15*60]) # 0 on-time, 1 almost on-time, 2 late, 3 extremely late\n",
    "bins"
   ]
  },
  {
   "cell_type": "code",
   "execution_count": 30,
   "metadata": {},
   "outputs": [
    {
     "data": {
      "text/plain": [
       "array([1, 1, 0, 0, 0, 1, 0, 0, 1, 0])"
      ]
     },
     "execution_count": 30,
     "metadata": {},
     "output_type": "execute_result"
    }
   ],
   "source": [
    "np.digitize(y_test, bins)[:10]"
   ]
  },
  {
   "cell_type": "code",
   "execution_count": 31,
   "metadata": {
    "scrolled": true
   },
   "outputs": [
    {
     "name": "stdout",
     "output_type": "stream",
     "text": [
      "[[    0 21156]\n",
      " [    1  2939]\n",
      " [    2   892]\n",
      " [    3   148]]\n"
     ]
    }
   ],
   "source": [
    "# materialize y_test_class array\n",
    "# check to see how many trips are categorized as 0 on-time, 1 almost on-time, 2 late, 3 extremely late\n",
    "y_test_class=np.digitize(y_test, bins)\n",
    "unique, counts = np.unique(y_test_class, return_counts=True)\n",
    "print(np.asarray((unique, counts)).T)"
   ]
  },
  {
   "cell_type": "code",
   "execution_count": 32,
   "metadata": {},
   "outputs": [
    {
     "name": "stdout",
     "output_type": "stream",
     "text": [
      "[[    0 25119]\n",
      " [    1    16]]\n"
     ]
    }
   ],
   "source": [
    "# materialize model_y_pred_class\n",
    "# check to see how many trips are categorized as 0 on-time, 1 almost on-time, 2 late, 3 extremely late\n",
    "model_y_test_pred_class=np.digitize(model_y_test_pred, bins)\n",
    "print(np.asarray(np.unique(model_y_test_pred_class, return_counts=True)).T)"
   ]
  },
  {
   "cell_type": "code",
   "execution_count": 33,
   "metadata": {},
   "outputs": [
    {
     "name": "stdout",
     "output_type": "stream",
     "text": [
      "             precision    recall  f1-score   support\n",
      "\n",
      "          0       0.84      1.00      0.91     21156\n",
      "          1       0.12      0.00      0.00      2939\n",
      "          2       0.00      0.00      0.00       892\n",
      "          3       0.00      0.00      0.00       148\n",
      "\n",
      "avg / total       0.72      0.84      0.77     25135\n",
      "\n"
     ]
    },
    {
     "name": "stderr",
     "output_type": "stream",
     "text": [
      "/Applications/anaconda3/lib/python3.6/site-packages/sklearn/metrics/classification.py:1135: UndefinedMetricWarning: Precision and F-score are ill-defined and being set to 0.0 in labels with no predicted samples.\n",
      "  'precision', 'predicted', average, warn_for)\n"
     ]
    }
   ],
   "source": [
    "from sklearn.metrics import classification_report\n",
    "print(classification_report(y_test_class,model_y_test_pred_class))"
   ]
  },
  {
   "cell_type": "code",
   "execution_count": 34,
   "metadata": {},
   "outputs": [
    {
     "name": "stdout",
     "output_type": "stream",
     "text": [
      "[[21143    13     0     0]\n",
      " [ 2937     2     0     0]\n",
      " [  891     1     0     0]\n",
      " [  148     0     0     0]]\n"
     ]
    }
   ],
   "source": [
    "from sklearn.metrics import confusion_matrix\n",
    "print(confusion_matrix(y_test_class,model_y_test_pred_class,labels=[0,1,2,3]))"
   ]
  },
  {
   "cell_type": "code",
   "execution_count": null,
   "metadata": {},
   "outputs": [],
   "source": []
  }
 ],
 "metadata": {
  "kernelspec": {
   "display_name": "Python 3",
   "language": "python",
   "name": "python3"
  },
  "language_info": {
   "codemirror_mode": {
    "name": "ipython",
    "version": 3
   },
   "file_extension": ".py",
   "mimetype": "text/x-python",
   "name": "python",
   "nbconvert_exporter": "python",
   "pygments_lexer": "ipython3",
   "version": "3.6.5"
  }
 },
 "nbformat": 4,
 "nbformat_minor": 2
}
