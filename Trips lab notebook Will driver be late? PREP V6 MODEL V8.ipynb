{
 "cells": [
  {
   "cell_type": "markdown",
   "metadata": {},
   "source": [
    "### Linear regression model V8\n",
    "with one-hot encoded date features"
   ]
  },
  {
   "cell_type": "code",
   "execution_count": 1,
   "metadata": {},
   "outputs": [],
   "source": [
    "fileprefix='./lateness_PREP_V6_'"
   ]
  },
  {
   "cell_type": "code",
   "execution_count": 2,
   "metadata": {},
   "outputs": [],
   "source": [
    "import pandas as pd\n",
    "import numpy as np"
   ]
  },
  {
   "cell_type": "code",
   "execution_count": 3,
   "metadata": {},
   "outputs": [],
   "source": [
    "df_X=pd.read_csv(fileprefix+'X.csv', sep='\\t')"
   ]
  },
  {
   "cell_type": "code",
   "execution_count": 4,
   "metadata": {},
   "outputs": [
    {
     "data": {
      "text/plain": [
       "(125675, 362)"
      ]
     },
     "execution_count": 4,
     "metadata": {},
     "output_type": "execute_result"
    }
   ],
   "source": [
    "df_X.shape"
   ]
  },
  {
   "cell_type": "code",
   "execution_count": 5,
   "metadata": {},
   "outputs": [],
   "source": [
    "df_y=pd.read_csv(fileprefix+'y.csv', sep='\\t', header=None)"
   ]
  },
  {
   "cell_type": "code",
   "execution_count": 6,
   "metadata": {},
   "outputs": [
    {
     "data": {
      "text/plain": [
       "(125675, 2)"
      ]
     },
     "execution_count": 6,
     "metadata": {},
     "output_type": "execute_result"
    }
   ],
   "source": [
    "type(df_y)\n",
    "df_y.shape"
   ]
  },
  {
   "cell_type": "code",
   "execution_count": 7,
   "metadata": {},
   "outputs": [
    {
     "data": {
      "text/html": [
       "<div>\n",
       "<style scoped>\n",
       "    .dataframe tbody tr th:only-of-type {\n",
       "        vertical-align: middle;\n",
       "    }\n",
       "\n",
       "    .dataframe tbody tr th {\n",
       "        vertical-align: top;\n",
       "    }\n",
       "\n",
       "    .dataframe thead th {\n",
       "        text-align: right;\n",
       "    }\n",
       "</style>\n",
       "<table border=\"1\" class=\"dataframe\">\n",
       "  <thead>\n",
       "    <tr style=\"text-align: right;\">\n",
       "      <th></th>\n",
       "      <th>0</th>\n",
       "      <th>1</th>\n",
       "    </tr>\n",
       "  </thead>\n",
       "  <tbody>\n",
       "    <tr>\n",
       "      <th>0</th>\n",
       "      <td>5</td>\n",
       "      <td>-497.0</td>\n",
       "    </tr>\n",
       "    <tr>\n",
       "      <th>1</th>\n",
       "      <td>6</td>\n",
       "      <td>5.0</td>\n",
       "    </tr>\n",
       "    <tr>\n",
       "      <th>2</th>\n",
       "      <td>7</td>\n",
       "      <td>-313.0</td>\n",
       "    </tr>\n",
       "    <tr>\n",
       "      <th>3</th>\n",
       "      <td>8</td>\n",
       "      <td>-296.0</td>\n",
       "    </tr>\n",
       "    <tr>\n",
       "      <th>4</th>\n",
       "      <td>9</td>\n",
       "      <td>-166.0</td>\n",
       "    </tr>\n",
       "  </tbody>\n",
       "</table>\n",
       "</div>"
      ],
      "text/plain": [
       "   0      1\n",
       "0  5 -497.0\n",
       "1  6    5.0\n",
       "2  7 -313.0\n",
       "3  8 -296.0\n",
       "4  9 -166.0"
      ]
     },
     "execution_count": 7,
     "metadata": {},
     "output_type": "execute_result"
    }
   ],
   "source": [
    "df_y.head()"
   ]
  },
  {
   "cell_type": "code",
   "execution_count": 8,
   "metadata": {},
   "outputs": [
    {
     "data": {
      "text/plain": [
       "0   -497.0\n",
       "1      5.0\n",
       "2   -313.0\n",
       "3   -296.0\n",
       "4   -166.0\n",
       "Name: 1, dtype: float64"
      ]
     },
     "execution_count": 8,
     "metadata": {},
     "output_type": "execute_result"
    }
   ],
   "source": [
    "y=df_y[1]\n",
    "y.head()"
   ]
  },
  {
   "cell_type": "code",
   "execution_count": 9,
   "metadata": {},
   "outputs": [
    {
     "data": {
      "text/plain": [
       "(125675,)"
      ]
     },
     "execution_count": 9,
     "metadata": {},
     "output_type": "execute_result"
    }
   ],
   "source": [
    "y.shape"
   ]
  },
  {
   "cell_type": "code",
   "execution_count": 10,
   "metadata": {},
   "outputs": [
    {
     "data": {
      "text/html": [
       "<div>\n",
       "<style scoped>\n",
       "    .dataframe tbody tr th:only-of-type {\n",
       "        vertical-align: middle;\n",
       "    }\n",
       "\n",
       "    .dataframe tbody tr th {\n",
       "        vertical-align: top;\n",
       "    }\n",
       "\n",
       "    .dataframe thead th {\n",
       "        text-align: right;\n",
       "    }\n",
       "</style>\n",
       "<table border=\"1\" class=\"dataframe\">\n",
       "  <thead>\n",
       "    <tr style=\"text-align: right;\">\n",
       "      <th></th>\n",
       "      <th>Unnamed: 0</th>\n",
       "      <th>driver_created_at_pdt_month_3.0</th>\n",
       "      <th>scheduled_ends_at_pdt_month_2</th>\n",
       "      <th>scheduled_starts_at_pdt_hour</th>\n",
       "      <th>claimed_at_pdt_quarter_4.0</th>\n",
       "      <th>scheduled_ends_at_pdt_weekday_5</th>\n",
       "      <th>created_at_pdt_quarter_4</th>\n",
       "      <th>claimed_at_pdt_hour_18.0</th>\n",
       "      <th>lead_organizer_created_at_pdt_month_8</th>\n",
       "      <th>scheduled_starts_at_pdt_hour_22</th>\n",
       "      <th>...</th>\n",
       "      <th>created_at_pdt_month_4</th>\n",
       "      <th>created_at_pdt_weekday_0</th>\n",
       "      <th>driver_created_at_pdt_month_11.0</th>\n",
       "      <th>driver_created_at_pdt_weekday_2.0</th>\n",
       "      <th>scheduled_ends_at_pdt_month_9</th>\n",
       "      <th>scheduled_ends_at_pdt_hour_20</th>\n",
       "      <th>scheduled_ends_at_pdt_month_3</th>\n",
       "      <th>lead_organizer_created_at_pdt_hour_7</th>\n",
       "      <th>lead_organizer_created_at_pdt_hour_4</th>\n",
       "      <th>destination_lon</th>\n",
       "    </tr>\n",
       "  </thead>\n",
       "  <tbody>\n",
       "    <tr>\n",
       "      <th>0</th>\n",
       "      <td>5</td>\n",
       "      <td>0</td>\n",
       "      <td>1</td>\n",
       "      <td>16</td>\n",
       "      <td>0</td>\n",
       "      <td>0</td>\n",
       "      <td>0</td>\n",
       "      <td>0</td>\n",
       "      <td>0</td>\n",
       "      <td>0</td>\n",
       "      <td>...</td>\n",
       "      <td>0</td>\n",
       "      <td>0</td>\n",
       "      <td>0</td>\n",
       "      <td>0</td>\n",
       "      <td>0</td>\n",
       "      <td>0</td>\n",
       "      <td>0</td>\n",
       "      <td>0</td>\n",
       "      <td>0</td>\n",
       "      <td>-118.23</td>\n",
       "    </tr>\n",
       "    <tr>\n",
       "      <th>1</th>\n",
       "      <td>6</td>\n",
       "      <td>0</td>\n",
       "      <td>0</td>\n",
       "      <td>16</td>\n",
       "      <td>0</td>\n",
       "      <td>0</td>\n",
       "      <td>0</td>\n",
       "      <td>0</td>\n",
       "      <td>0</td>\n",
       "      <td>0</td>\n",
       "      <td>...</td>\n",
       "      <td>0</td>\n",
       "      <td>0</td>\n",
       "      <td>0</td>\n",
       "      <td>0</td>\n",
       "      <td>0</td>\n",
       "      <td>0</td>\n",
       "      <td>0</td>\n",
       "      <td>0</td>\n",
       "      <td>0</td>\n",
       "      <td>-118.24</td>\n",
       "    </tr>\n",
       "    <tr>\n",
       "      <th>2</th>\n",
       "      <td>7</td>\n",
       "      <td>0</td>\n",
       "      <td>1</td>\n",
       "      <td>16</td>\n",
       "      <td>0</td>\n",
       "      <td>0</td>\n",
       "      <td>0</td>\n",
       "      <td>0</td>\n",
       "      <td>0</td>\n",
       "      <td>0</td>\n",
       "      <td>...</td>\n",
       "      <td>0</td>\n",
       "      <td>0</td>\n",
       "      <td>0</td>\n",
       "      <td>0</td>\n",
       "      <td>0</td>\n",
       "      <td>0</td>\n",
       "      <td>0</td>\n",
       "      <td>0</td>\n",
       "      <td>0</td>\n",
       "      <td>-118.11</td>\n",
       "    </tr>\n",
       "    <tr>\n",
       "      <th>3</th>\n",
       "      <td>8</td>\n",
       "      <td>0</td>\n",
       "      <td>0</td>\n",
       "      <td>16</td>\n",
       "      <td>0</td>\n",
       "      <td>0</td>\n",
       "      <td>0</td>\n",
       "      <td>0</td>\n",
       "      <td>0</td>\n",
       "      <td>0</td>\n",
       "      <td>...</td>\n",
       "      <td>0</td>\n",
       "      <td>0</td>\n",
       "      <td>0</td>\n",
       "      <td>0</td>\n",
       "      <td>0</td>\n",
       "      <td>0</td>\n",
       "      <td>0</td>\n",
       "      <td>0</td>\n",
       "      <td>0</td>\n",
       "      <td>-118.28</td>\n",
       "    </tr>\n",
       "    <tr>\n",
       "      <th>4</th>\n",
       "      <td>9</td>\n",
       "      <td>0</td>\n",
       "      <td>0</td>\n",
       "      <td>14</td>\n",
       "      <td>0</td>\n",
       "      <td>0</td>\n",
       "      <td>1</td>\n",
       "      <td>0</td>\n",
       "      <td>0</td>\n",
       "      <td>0</td>\n",
       "      <td>...</td>\n",
       "      <td>0</td>\n",
       "      <td>1</td>\n",
       "      <td>0</td>\n",
       "      <td>0</td>\n",
       "      <td>0</td>\n",
       "      <td>0</td>\n",
       "      <td>0</td>\n",
       "      <td>0</td>\n",
       "      <td>0</td>\n",
       "      <td>-118.38</td>\n",
       "    </tr>\n",
       "  </tbody>\n",
       "</table>\n",
       "<p>5 rows × 362 columns</p>\n",
       "</div>"
      ],
      "text/plain": [
       "   Unnamed: 0  driver_created_at_pdt_month_3.0  scheduled_ends_at_pdt_month_2  \\\n",
       "0           5                                0                              1   \n",
       "1           6                                0                              0   \n",
       "2           7                                0                              1   \n",
       "3           8                                0                              0   \n",
       "4           9                                0                              0   \n",
       "\n",
       "   scheduled_starts_at_pdt_hour  claimed_at_pdt_quarter_4.0  \\\n",
       "0                            16                           0   \n",
       "1                            16                           0   \n",
       "2                            16                           0   \n",
       "3                            16                           0   \n",
       "4                            14                           0   \n",
       "\n",
       "   scheduled_ends_at_pdt_weekday_5  created_at_pdt_quarter_4  \\\n",
       "0                                0                         0   \n",
       "1                                0                         0   \n",
       "2                                0                         0   \n",
       "3                                0                         0   \n",
       "4                                0                         1   \n",
       "\n",
       "   claimed_at_pdt_hour_18.0  lead_organizer_created_at_pdt_month_8  \\\n",
       "0                         0                                      0   \n",
       "1                         0                                      0   \n",
       "2                         0                                      0   \n",
       "3                         0                                      0   \n",
       "4                         0                                      0   \n",
       "\n",
       "   scheduled_starts_at_pdt_hour_22       ...         created_at_pdt_month_4  \\\n",
       "0                                0       ...                              0   \n",
       "1                                0       ...                              0   \n",
       "2                                0       ...                              0   \n",
       "3                                0       ...                              0   \n",
       "4                                0       ...                              0   \n",
       "\n",
       "   created_at_pdt_weekday_0  driver_created_at_pdt_month_11.0  \\\n",
       "0                         0                                 0   \n",
       "1                         0                                 0   \n",
       "2                         0                                 0   \n",
       "3                         0                                 0   \n",
       "4                         1                                 0   \n",
       "\n",
       "   driver_created_at_pdt_weekday_2.0  scheduled_ends_at_pdt_month_9  \\\n",
       "0                                  0                              0   \n",
       "1                                  0                              0   \n",
       "2                                  0                              0   \n",
       "3                                  0                              0   \n",
       "4                                  0                              0   \n",
       "\n",
       "   scheduled_ends_at_pdt_hour_20  scheduled_ends_at_pdt_month_3  \\\n",
       "0                              0                              0   \n",
       "1                              0                              0   \n",
       "2                              0                              0   \n",
       "3                              0                              0   \n",
       "4                              0                              0   \n",
       "\n",
       "   lead_organizer_created_at_pdt_hour_7  lead_organizer_created_at_pdt_hour_4  \\\n",
       "0                                     0                                     0   \n",
       "1                                     0                                     0   \n",
       "2                                     0                                     0   \n",
       "3                                     0                                     0   \n",
       "4                                     0                                     0   \n",
       "\n",
       "   destination_lon  \n",
       "0          -118.23  \n",
       "1          -118.24  \n",
       "2          -118.11  \n",
       "3          -118.28  \n",
       "4          -118.38  \n",
       "\n",
       "[5 rows x 362 columns]"
      ]
     },
     "execution_count": 10,
     "metadata": {},
     "output_type": "execute_result"
    }
   ],
   "source": [
    "df_X.head()"
   ]
  },
  {
   "cell_type": "code",
   "execution_count": 11,
   "metadata": {},
   "outputs": [
    {
     "data": {
      "text/plain": [
       "count    125675.0\n",
       "mean       -416.0\n",
       "std         509.0\n",
       "min       -1800.0\n",
       "25%        -657.0\n",
       "50%        -324.0\n",
       "75%         -96.0\n",
       "max        1800.0\n",
       "Name: 1, dtype: float64"
      ]
     },
     "execution_count": 11,
     "metadata": {},
     "output_type": "execute_result"
    }
   ],
   "source": [
    "y.describe().round()"
   ]
  },
  {
   "cell_type": "code",
   "execution_count": 12,
   "metadata": {},
   "outputs": [],
   "source": [
    "# break df_X,y into test and train sets\n",
    "from sklearn.model_selection import train_test_split\n",
    "X_train, X_test, y_train, y_test = train_test_split(df_X, y, test_size=0.20, random_state=808)"
   ]
  },
  {
   "cell_type": "code",
   "execution_count": 13,
   "metadata": {},
   "outputs": [
    {
     "name": "stdout",
     "output_type": "stream",
     "text": [
      "(100540, 362)\n",
      "(25135, 362)\n",
      "(100540,)\n",
      "(25135,)\n"
     ]
    }
   ],
   "source": [
    "for i in X_train, X_test, y_train, y_test:\n",
    "    print(i.shape)"
   ]
  },
  {
   "cell_type": "code",
   "execution_count": 14,
   "metadata": {},
   "outputs": [],
   "source": [
    "# select a linear model\n",
    "import sklearn.linear_model\n",
    "model=sklearn.linear_model.LinearRegression(normalize=True)"
   ]
  },
  {
   "cell_type": "code",
   "execution_count": 15,
   "metadata": {},
   "outputs": [],
   "source": [
    "# fit model\n",
    "model=model.fit(X_train,y_train)"
   ]
  },
  {
   "cell_type": "code",
   "execution_count": 16,
   "metadata": {
    "scrolled": true
   },
   "outputs": [
    {
     "data": {
      "text/plain": [
       "array([-9.10204597e-06, -1.88107289e+14, -1.12493766e+15, -4.93923353e+13,\n",
       "        2.54552552e+14, -1.75592777e+15, -3.50433601e+14,  4.55931167e+14,\n",
       "        3.48924693e+14,  4.24362294e+14, -2.77609609e+14,  8.89064102e+14,\n",
       "        5.78187963e+14, -3.62495730e+15,  3.04783346e+14,  1.15256510e+05,\n",
       "        2.96509412e+12,  5.06030082e-02,  1.26541585e+14, -1.37692245e+15,\n",
       "       -1.10629728e+15,  4.02316277e+14, -1.04543654e-02, -1.17126548e+15,\n",
       "        1.43985952e+16, -4.99694531e+14, -1.51831190e+14, -2.97518770e+01,\n",
       "        2.81612143e+14, -4.51543632e-03, -3.30960167e+13,  1.26850040e+01,\n",
       "        2.53668295e+12, -7.62286087e+04,  5.37435698e+14, -6.09357415e+14,\n",
       "       -1.70877744e+14,  1.40583588e+15,  8.78434784e+14,  2.78910553e+14,\n",
       "       -3.40451378e+14,  1.06081486e+15,  4.80423705e-02, -4.20163141e+14,\n",
       "       -2.77577982e+14, -2.53786466e+01, -2.79372799e+15, -3.29126831e+00,\n",
       "       -3.45009382e+15,  5.77553808e+14, -7.99926272e+13, -1.51359712e+15,\n",
       "        1.67883483e+06,  3.99406725e+14, -1.42897680e+14, -2.67527105e+07,\n",
       "       -4.71842575e-01,  2.76803282e+14,  1.63827486e+15, -4.74493460e+13,\n",
       "        7.77622201e+11,  1.57304307e+02,  5.80710290e+14,  6.53231715e+14,\n",
       "       -1.19582191e+14, -2.91951048e+15, -3.61976287e+14, -2.26837872e+14,\n",
       "       -4.47403234e-02, -9.71102594e+14, -1.58997428e+01, -2.07331100e+14,\n",
       "       -8.13084307e+15, -2.67130400e+14, -3.15302020e+14, -7.96660105e+14,\n",
       "        2.18103161e+14, -2.21678574e+15,  5.44449577e+14, -2.03828467e+15,\n",
       "       -1.02476791e+15, -2.78221171e+00,  3.63146013e+14, -1.38789777e+15,\n",
       "       -3.86838192e+14, -1.87302690e+14, -1.03570081e+15,  2.92922106e+14,\n",
       "        7.30603096e+13, -7.45565329e+14, -2.64364624e+14,  7.01761413e+14,\n",
       "       -4.15307406e+14,  2.20843154e+14,  6.16971003e+14, -1.00414683e+15,\n",
       "       -4.28515090e+15, -3.65915071e+14, -3.16522736e+14,  3.26885300e+14,\n",
       "        4.03061810e-03,  1.20442966e+00,  2.83899456e+13, -2.17738065e+14,\n",
       "        2.58187247e+14,  2.13174860e+00, -4.07522653e+13, -3.84178304e+14,\n",
       "        2.76185288e+14,  3.25577623e+14, -3.48608336e+14,  1.08922897e+14,\n",
       "       -4.43600990e+15, -2.71535639e+14,  2.50179542e+12, -6.29683218e+14,\n",
       "        2.07556574e+13, -1.01349848e+00, -7.58151400e+14, -5.38376890e+07,\n",
       "        3.66674114e+14,  1.56732165e+14,  2.69886695e+15, -4.11459151e-05,\n",
       "       -4.35199185e+13,  2.10114869e+16, -2.65003303e+14, -4.25236507e+14,\n",
       "        5.77083976e+14,  2.92458246e+14,  1.09321023e+14, -1.80764680e+14,\n",
       "        1.00680028e+14,  3.92028816e+01,  1.45581735e+14,  1.92863090e+14,\n",
       "       -7.99435102e+16, -6.71999110e+14, -2.08108720e+14,  2.47825594e+14,\n",
       "        3.62607129e+13, -6.75682898e+14, -1.68345730e+14, -2.01687239e+13,\n",
       "       -2.34752036e+14,  1.82557755e+15,  1.39853344e+14,  1.25746793e+13,\n",
       "       -1.26681831e+14, -1.03616530e+13, -2.99735938e+12,  2.49827048e+13,\n",
       "        2.99633859e+14, -5.85846820e+14,  9.53705684e+02, -3.57574478e+12,\n",
       "        4.96683433e+14,  3.04315902e+14, -1.05350445e+14, -7.87237692e+14,\n",
       "        8.91607793e+13, -1.48621372e+15, -1.18953394e+14,  2.90624587e+14,\n",
       "       -9.68844104e+13, -3.57218289e+13,  1.29913045e+14,  2.67906689e+14,\n",
       "        8.48712676e-01, -1.55352813e+14, -2.40954968e+15,  1.78077438e+14,\n",
       "        1.02501404e-03, -7.89785932e+14,  3.60743474e+14,  5.29627689e+13,\n",
       "        2.71144163e+15,  1.20537713e+14,  1.21601938e-01,  9.82092120e+13,\n",
       "       -2.69314205e+14, -2.73490712e+13, -8.61522897e+13,  4.73754629e+14,\n",
       "       -1.64405869e+14,  5.38883925e+11,  1.82157140e+11,  2.68548900e+14,\n",
       "        2.12685481e+14, -2.39853944e+14, -9.83962794e+14, -3.65175751e+14,\n",
       "       -5.95462691e+11,  4.68208718e+13,  7.86159467e+13, -1.08243255e+14,\n",
       "       -5.51881414e+14,  3.33674371e+14, -4.30309873e+14, -3.37707321e+14,\n",
       "       -2.21985444e+15,  5.92895363e+14, -4.32846556e+14,  2.26792953e+14,\n",
       "        2.54363874e+14, -2.79800641e+13, -2.02129907e+14, -1.96105078e+14,\n",
       "        7.65624867e+12,  1.45097217e+15, -4.86043032e-04, -7.80288276e+00,\n",
       "        1.07636679e+15,  4.67937052e+14, -9.93493247e+04, -1.39800006e+15,\n",
       "        2.52169841e+14, -1.38450472e+13, -1.17964573e+07, -1.73317355e+15,\n",
       "       -4.22699824e+14,  6.47133446e+13, -4.83021190e+14,  2.48823218e+14,\n",
       "        8.09428330e+13, -1.37308260e+12,  7.33103000e+14, -4.64699741e+14,\n",
       "        6.43093692e+14, -1.76980548e+14,  2.75151280e+00, -2.41237662e+14,\n",
       "        5.99020972e+14,  5.30639221e+00,  1.39357544e+15, -2.27279265e+14,\n",
       "       -2.56176389e+13, -2.74344233e+13,  4.15178902e+14, -2.16396861e+16,\n",
       "       -9.29670062e+14, -1.77195525e+14, -3.02727341e+14, -4.27773190e+14,\n",
       "       -2.36857343e+14, -2.02537138e+15,  3.52977471e+14, -1.17141600e+15,\n",
       "       -2.52428624e+14, -1.26561843e+14, -2.06553480e+14,  1.26366948e+15,\n",
       "        6.76636553e+14,  1.24537763e+15,  1.61258018e+14, -4.22054725e+14,\n",
       "        3.09995512e+14,  3.86854926e+01, -3.26968447e+14,  1.77400617e+14,\n",
       "       -1.11975288e+01, -1.07471701e+15, -1.77166437e+14, -1.52885213e+07,\n",
       "       -1.47134948e+15,  3.11063298e+11,  9.96212857e+04,  3.27156033e+14,\n",
       "       -1.43281387e+14, -3.61461973e+14,  1.28008282e+14, -1.09389300e+15,\n",
       "        1.62691503e+15,  1.36902961e+14, -1.98857808e+14, -1.14600547e+14,\n",
       "       -4.03059385e+14,  4.28838371e+14,  2.68879319e+14, -1.14942275e+05,\n",
       "        7.64373875e+04,  1.26720061e+07, -2.14704586e+14, -4.27422987e+13,\n",
       "       -7.38482820e+13,  2.41983268e+07, -7.35148515e+14,  1.64883025e+14,\n",
       "        1.81842448e+14, -6.43668365e+11,  4.31289583e+13, -2.90152661e+14,\n",
       "       -3.53026058e+14, -7.86807059e+14,  1.70665310e+14,  1.30730878e+00,\n",
       "       -3.65600737e+14, -1.39256510e+14, -2.55438364e+06, -5.89574877e+13,\n",
       "       -5.93018803e+12, -3.52536144e+13, -4.41458264e+14,  9.46076718e+14,\n",
       "        2.92236114e+13,  3.74426637e+14, -7.19825418e+13, -4.70836920e+14,\n",
       "        6.59692494e+14,  3.19494210e+11,  2.80834523e+14, -1.44503968e+14,\n",
       "        2.79605274e+07, -9.99021133e+14,  2.82269632e+00,  3.88723539e+14,\n",
       "        9.15853319e+00,  2.89272206e+14, -8.78954827e+14, -3.50121445e+14,\n",
       "        2.82389763e+14,  3.67995968e+13,  2.32192331e+14,  6.18940229e+14,\n",
       "       -1.70374804e-03,  4.35667438e+14,  4.84085140e+13,  2.36933517e-01,\n",
       "        1.20271236e+14,  2.56461877e+14,  5.14458723e+14, -1.89555227e+14,\n",
       "       -8.69375518e+13, -6.97025645e+01, -6.95610591e+13,  4.16703603e+14,\n",
       "        2.35882435e+14,  2.11417575e+14, -1.09600735e+14, -1.74989054e+00,\n",
       "        9.24154366e+14, -3.27389951e+14,  9.21477709e+13, -4.29871225e+14,\n",
       "        3.74969958e+14,  5.08188864e+14, -4.13542241e+14,  1.53189890e-04,\n",
       "        3.32763410e+14,  4.71928151e+14, -2.40485240e+14,  6.59308721e+13,\n",
       "       -4.19646788e+13, -4.17626458e+14,  9.41270569e+14,  2.75733169e+14,\n",
       "       -1.25973582e+14, -3.27876699e+14, -2.40485240e+14, -3.09774235e+13,\n",
       "       -1.14917616e+14,  9.37745584e+00])"
      ]
     },
     "execution_count": 16,
     "metadata": {},
     "output_type": "execute_result"
    }
   ],
   "source": [
    "model.coef_"
   ]
  },
  {
   "cell_type": "code",
   "execution_count": 17,
   "metadata": {
    "scrolled": true
   },
   "outputs": [
    {
     "data": {
      "text/plain": [
       "0                      0\n",
       "1       -188107288802910\n",
       "2      -1124937662046740\n",
       "3        -49392335289811\n",
       "4        254552552407957\n",
       "5      -1755927766463711\n",
       "6       -350433601118605\n",
       "7        455931167335538\n",
       "8        348924692778264\n",
       "9        424362293749046\n",
       "10      -277609608664414\n",
       "11       889064102385292\n",
       "12       578187963335539\n",
       "13     -3624957298350644\n",
       "14       304783346144703\n",
       "15                115256\n",
       "16         2965094121981\n",
       "17                     0\n",
       "18       126541584520082\n",
       "19     -1376922450409474\n",
       "20     -1106297282208050\n",
       "21       402316276943412\n",
       "22                     0\n",
       "23     -1171265483974046\n",
       "24     14398595191657266\n",
       "25      -499694530646569\n",
       "26      -151831189552965\n",
       "27                   -29\n",
       "28       281612143237910\n",
       "29                     0\n",
       "             ...        \n",
       "332      -86937551791413\n",
       "333                  -69\n",
       "334      -69561059148661\n",
       "335      416703602697836\n",
       "336      235882434933064\n",
       "337      211417575335555\n",
       "338     -109600735373248\n",
       "339                   -1\n",
       "340      924154366201346\n",
       "341     -327389951244150\n",
       "342       92147770946518\n",
       "343     -429871225402455\n",
       "344      374969958459185\n",
       "345      508188863977719\n",
       "346     -413542240945351\n",
       "347                    0\n",
       "348      332763410282975\n",
       "349      471928151116774\n",
       "350     -240485239598720\n",
       "351       65930872083444\n",
       "352      -41964678780108\n",
       "353     -417626458189859\n",
       "354      941270568847639\n",
       "355      275733168759552\n",
       "356     -125973582437630\n",
       "357     -327876699145794\n",
       "358     -240485239598720\n",
       "359      -30977423514863\n",
       "360     -114917615929687\n",
       "361                    9\n",
       "Length: 362, dtype: int64"
      ]
     },
     "execution_count": 17,
     "metadata": {},
     "output_type": "execute_result"
    }
   ],
   "source": [
    "pd.Series(model.coef_).astype(int)"
   ]
  },
  {
   "cell_type": "code",
   "execution_count": 18,
   "metadata": {},
   "outputs": [
    {
     "data": {
      "text/plain": [
       "8546598178314728.0"
      ]
     },
     "execution_count": 18,
     "metadata": {},
     "output_type": "execute_result"
    }
   ],
   "source": [
    "model.intercept_"
   ]
  },
  {
   "cell_type": "code",
   "execution_count": 19,
   "metadata": {},
   "outputs": [
    {
     "data": {
      "text/plain": [
       "Unnamed: 0                                 62593.572542\n",
       "driver_created_at_pdt_month_3.0                0.229514\n",
       "scheduled_ends_at_pdt_month_2                  0.264999\n",
       "scheduled_starts_at_pdt_hour                   3.766047\n",
       "claimed_at_pdt_quarter_4.0                     0.456950\n",
       "scheduled_ends_at_pdt_weekday_5                0.067194\n",
       "created_at_pdt_quarter_4                       0.443363\n",
       "claimed_at_pdt_hour_18.0                       0.221303\n",
       "lead_organizer_created_at_pdt_month_8          0.383424\n",
       "scheduled_starts_at_pdt_hour_22                0.036619\n",
       "claimed_at_pdt_hour_0.0                        0.244425\n",
       "driver_created_at_pdt_hour_18.0                0.056415\n",
       "claimed_at_pdt_hour_21.0                       0.187784\n",
       "scheduled_starts_at_pdt_weekday_4              0.364665\n",
       "lead_organizer_created_at_pdt_hour_19          0.403735\n",
       "lead_organizer_created_at_pdt_day              9.349237\n",
       "driver_created_at_pdt_dayofyear               80.748703\n",
       "driver_previous_completed_trips              342.782841\n",
       "created_at_pdt_quarter_3                       0.447911\n",
       "scheduled_ends_at_pdt_month_8                  0.253197\n",
       "scheduled_ends_at_pdt_weekday_2                0.416178\n",
       "driver_created_at_pdt_month_1.0                0.201797\n",
       "lead_organizer_previous_completed_trips      207.852029\n",
       "driver_created_at_pdt_hour_7.0                 0.030236\n",
       "scheduled_starts_at_pdt_hour_2                 0.000000\n",
       "lead_organizer_created_at_pdt_weekday_3        0.292772\n",
       "scheduled_ends_at_pdt_hour_6                   0.093199\n",
       "is_affiliate_int                               0.267340\n",
       "created_at_pdt_month_2                         0.266094\n",
       "creator_id                                 28357.616687\n",
       "                                               ...     \n",
       "lead_organizer_created_at_pdt_hour_5           0.074424\n",
       "driver_home_lat                                1.476480\n",
       "scheduled_starts_at_pdt_hour_12                0.185883\n",
       "lead_organizer_created_at_pdt_hour_23          0.123750\n",
       "scheduled_ends_at_pdt_month_5                  0.290974\n",
       "claimed_at_pdt_hour_12.0                       0.363363\n",
       "scheduled_ends_at_pdt_weekday                  1.357137\n",
       "predicted_driver_fare                          5.895252\n",
       "scheduled_ends_at_pdt_weekday_4                0.364628\n",
       "lead_organizer_created_at_pdt_weekday_5        0.208452\n",
       "claimed_at_pdt_month                           3.474735\n",
       "scheduled_starts_at_pdt_weekday_3              0.414579\n",
       "scheduled_starts_at_pdt_hour_21                0.062715\n",
       "created_at_pdt_hour_4                          0.064345\n",
       "lead_organizer_created_at_pdt_weekday_4        0.275027\n",
       "origin_location_id                         36800.071753\n",
       "lead_organizer_created_at_pdt_hour_20          0.412053\n",
       "created_at_pdt_hour_5                          0.100066\n",
       "scheduled_starts_at_pdt_month_3                0.288821\n",
       "driver_created_at_pdt_quarter_1.0              0.338262\n",
       "created_at_pdt_month_4                         0.252076\n",
       "created_at_pdt_weekday_0                       0.401678\n",
       "driver_created_at_pdt_month_11.0               0.248654\n",
       "driver_created_at_pdt_weekday_2.0              0.365633\n",
       "scheduled_ends_at_pdt_month_9                  0.314491\n",
       "scheduled_ends_at_pdt_hour_20                  0.104306\n",
       "scheduled_ends_at_pdt_month_3                  0.288821\n",
       "lead_organizer_created_at_pdt_hour_7           0.142774\n",
       "lead_organizer_created_at_pdt_hour_4           0.067267\n",
       "destination_lon                                1.570260\n",
       "Length: 362, dtype: float64"
      ]
     },
     "execution_count": 19,
     "metadata": {},
     "output_type": "execute_result"
    }
   ],
   "source": [
    "X_train.std()"
   ]
  },
  {
   "cell_type": "code",
   "execution_count": 29,
   "metadata": {},
   "outputs": [
    {
     "data": {
      "text/plain": [
       "scheduled_ends_at_pdt_hour_3              -6861521005573226496\n",
       "scheduled_starts_at_pdt_hour_0             -773548428394554880\n",
       "scheduled_ends_at_pdt_weekday_6             -91474089073338544\n",
       "driver_created_at_pdt_hour_4.0              -64343640216620280\n",
       "driver_created_at_pdt_hour_7.0              -38737135758520784\n",
       "scheduled_ends_at_pdt_weekday_5             -26132359193392896\n",
       "driver_created_at_pdt_weekday_6.0           -25110469997652340\n",
       "scheduled_starts_at_pdt_hour_4              -22740803065577440\n",
       "scheduled_ends_at_pdt_hour_23               -15779532208189100\n",
       "scheduled_starts_at_pdt_weekday_5           -14916724175146500\n",
       "lead_organizer_created_at_pdt_month_2       -14073519584188760\n",
       "scheduled_ends_at_pdt_hour_4                -13389975951927816\n",
       "lead_organizer_created_at_pdt_month_1       -11643750708165582\n",
       "lead_organizer_created_at_pdt_month_3       -11370750294460346\n",
       "scheduled_starts_at_pdt_hour_5              -11137187281994490\n",
       "driver_created_at_pdt_quarter_4.0           -10862275749517562\n",
       "lead_organizer_created_at_pdt_quarter_2     -10538779513914712\n",
       "scheduled_starts_at_pdt_weekday_4            -9940507720203814\n",
       "driver_created_at_pdt_hour_8.0               -9249293822868184\n",
       "scheduled_ends_at_pdt_hour_22                -9056471621446310\n",
       "scheduled_ends_at_pdt_month_7                -6362686987930347\n",
       "scheduled_starts_at_pdt_weekday_0            -5866818670789467\n",
       "scheduled_ends_at_pdt_month_8                -5438144273738752\n",
       "scheduled_ends_at_pdt_weekday_3              -5347080455186185\n",
       "lead_organizer_created_at_pdt_month_10       -5148613183087208\n",
       "driver_created_at_pdt_month_6.0              -4756557896732181\n",
       "scheduled_ends_at_pdt_hour_21                -4750754002117366\n",
       "driver_created_at_pdt_month_9.0              -4614632591383148\n",
       "lead_organizer_created_at_pdt_month_11       -4498884293508798\n",
       "lead_organizer_created_at_pdt_quarter_3      -4350096074336215\n",
       "                                                  ...         \n",
       "lead_organizer_created_at_pdt_hour_23         3367291025061494\n",
       "claimed_at_pdt_quarter_2.0                    3372773040316716\n",
       "driver_created_at_pdt_month_12.0              3637176654510817\n",
       "scheduled_starts_at_pdt_hour_20               3675886876661024\n",
       "claimed_at_pdt_hour_22.0                      3690032725738989\n",
       "driver_created_at_pdt_month_11.0              3785458093724248\n",
       "driver_created_at_pdt_month_10.0              4261772999547799\n",
       "created_at_pdt_hour_5                         4716180296486286\n",
       "lead_organizer_created_at_pdt_month_5         4960274472200682\n",
       "claimed_at_pdt_hour_23.0                      5184585677493062\n",
       "scheduled_ends_at_pdt_month_6                 5563134412518538\n",
       "scheduled_starts_at_pdt_hour_21               5978987474559325\n",
       "lead_organizer_created_at_pdt_month_6         6021250209014872\n",
       "created_at_pdt_hour_0                         7172335300992903\n",
       "created_at_pdt_hour_4                         7897851544663050\n",
       "created_at_pdt_hour_1                        10002242415576964\n",
       "created_at_pdt_hour_3                        10222579916559430\n",
       "scheduled_starts_at_pdt_hour_22              11588546153489146\n",
       "created_at_pdt_hour_2                        12261998223021742\n",
       "driver_created_at_pdt_hour_18.0              15759493213461256\n",
       "driver_created_at_pdt_hour_21.0              18229981121730876\n",
       "driver_created_at_pdt_hour_19.0              26275411952313704\n",
       "scheduled_starts_at_pdt_hour_23              26559193487109868\n",
       "scheduled_starts_at_pdt_weekday_6            33619129604080732\n",
       "driver_created_at_pdt_hour_23.0              47298367459702248\n",
       "driver_created_at_pdt_hour_22.0              47448529406584696\n",
       "driver_created_at_pdt_hour_20.0             115674085317553696\n",
       "scheduled_ends_at_pdt_hour_0                384497337636254080\n",
       "scheduled_ends_at_pdt_hour_1                605115220798670464\n",
       "scheduled_starts_at_pdt_hour_3             6662331323159498752\n",
       "Length: 359, dtype: int64"
      ]
     },
     "execution_count": 29,
     "metadata": {},
     "output_type": "execute_result"
    }
   ],
   "source": [
    "# normalize the linear model coefficients by the standard deviation to see which features are most important\n",
    "(model.coef_/X_train.std()).sort_values(axis=0).replace([np.inf, -np.inf], np.nan).dropna().astype(int)"
   ]
  },
  {
   "cell_type": "code",
   "execution_count": 30,
   "metadata": {},
   "outputs": [
    {
     "data": {
      "text/plain": [
       "0.06459012670589692"
      ]
     },
     "execution_count": 30,
     "metadata": {},
     "output_type": "execute_result"
    }
   ],
   "source": [
    "# score against TRAINING set\n",
    "model.score(X_train,y_train)"
   ]
  },
  {
   "cell_type": "code",
   "execution_count": 31,
   "metadata": {},
   "outputs": [
    {
     "data": {
      "text/plain": [
       "-7.02460277334559e+22"
      ]
     },
     "execution_count": 31,
     "metadata": {},
     "output_type": "execute_result"
    }
   ],
   "source": [
    "# score against TEST set\n",
    "model.score(X_test,y_test)"
   ]
  },
  {
   "cell_type": "code",
   "execution_count": 32,
   "metadata": {},
   "outputs": [
    {
     "data": {
      "text/plain": [
       "25135"
      ]
     },
     "execution_count": 32,
     "metadata": {},
     "output_type": "execute_result"
    }
   ],
   "source": [
    "model_y_test_pred = model.predict(X_test)\n",
    "model_y_test_pred.size"
   ]
  },
  {
   "cell_type": "code",
   "execution_count": 33,
   "metadata": {},
   "outputs": [
    {
     "data": {
      "text/plain": [
       "numpy.ndarray"
      ]
     },
     "execution_count": 33,
     "metadata": {},
     "output_type": "execute_result"
    }
   ],
   "source": [
    "type(model_y_test_pred)"
   ]
  },
  {
   "cell_type": "code",
   "execution_count": 34,
   "metadata": {},
   "outputs": [
    {
     "data": {
      "text/plain": [
       "array([-276., -388., -549., -601., -499., -420., -319., -448., -502.,\n",
       "       -388.])"
      ]
     },
     "execution_count": 34,
     "metadata": {},
     "output_type": "execute_result"
    }
   ],
   "source": [
    "model_y_test_pred[:10]"
   ]
  },
  {
   "cell_type": "code",
   "execution_count": 35,
   "metadata": {},
   "outputs": [
    {
     "data": {
      "text/plain": [
       "135773619666787.58"
      ]
     },
     "execution_count": 35,
     "metadata": {},
     "output_type": "execute_result"
    }
   ],
   "source": [
    "pd.Series(model_y_test_pred).std()"
   ]
  },
  {
   "cell_type": "code",
   "execution_count": 36,
   "metadata": {},
   "outputs": [
    {
     "data": {
      "text/plain": [
       "0.0010796661030326987"
      ]
     },
     "execution_count": 36,
     "metadata": {},
     "output_type": "execute_result"
    }
   ],
   "source": [
    "pd.Series(model_y_test_pred).corr(y_test)"
   ]
  },
  {
   "cell_type": "code",
   "execution_count": 37,
   "metadata": {},
   "outputs": [
    {
     "name": "stdout",
     "output_type": "stream",
     "text": [
      "-70243232983993657851904.000 2262893661113.65 18434475797429976565641379840 -70246027733455897362432.000 856398605935 281 4.68\n"
     ]
    }
   ],
   "source": [
    "# regression metrics\n",
    "from sklearn.metrics import explained_variance_score, mean_squared_error, r2_score, mean_absolute_error, median_absolute_error\n",
    "from math import sqrt\n",
    "print (\"%.3f %.2f %.0f %.3f %.0f %.0f %.2f\" % \n",
    "       (explained_variance_score(y_test, model_y_test_pred),\n",
    "        sqrt(mean_squared_error(y_test, model_y_test_pred))/60, # sqrt of MSE in minutes\n",
    "        mean_squared_error(y_test, model_y_test_pred), \n",
    "        r2_score(y_test, model_y_test_pred), \n",
    "        mean_absolute_error(y_test, model_y_test_pred), \n",
    "        median_absolute_error(y_test, model_y_test_pred),\n",
    "        median_absolute_error(y_test, model_y_test_pred)/60 # MAE in minutes\n",
    "       ))"
   ]
  },
  {
   "cell_type": "code",
   "execution_count": 38,
   "metadata": {},
   "outputs": [
    {
     "data": {
      "text/plain": [
       "array([  0., 300., 900.])"
      ]
     },
     "execution_count": 38,
     "metadata": {},
     "output_type": "execute_result"
    }
   ],
   "source": [
    "# make classifications from seconds late target\n",
    "bins = np.array([0.0, 5*60, 15*60]) # 0 on-time, 1 almost on-time, 2 late, 3 extremely late\n",
    "bins"
   ]
  },
  {
   "cell_type": "code",
   "execution_count": 39,
   "metadata": {},
   "outputs": [
    {
     "data": {
      "text/plain": [
       "array([1, 1, 0, 0, 0, 1, 0, 0, 1, 0])"
      ]
     },
     "execution_count": 39,
     "metadata": {},
     "output_type": "execute_result"
    }
   ],
   "source": [
    "np.digitize(y_test, bins)[:10]"
   ]
  },
  {
   "cell_type": "code",
   "execution_count": 40,
   "metadata": {
    "scrolled": true
   },
   "outputs": [
    {
     "name": "stdout",
     "output_type": "stream",
     "text": [
      "[[    0 21156]\n",
      " [    1  2939]\n",
      " [    2   892]\n",
      " [    3   148]]\n"
     ]
    }
   ],
   "source": [
    "# materialize y_test_class array\n",
    "# check to see how many trips are categorized as 0 on-time, 1 almost on-time, 2 late, 3 extremely late\n",
    "y_test_class=np.digitize(y_test, bins)\n",
    "unique, counts = np.unique(y_test_class, return_counts=True)\n",
    "print(np.asarray((unique, counts)).T)"
   ]
  },
  {
   "cell_type": "code",
   "execution_count": 41,
   "metadata": {},
   "outputs": [
    {
     "name": "stdout",
     "output_type": "stream",
     "text": [
      "[[    0 25113]\n",
      " [    1    21]\n",
      " [    3     1]]\n"
     ]
    }
   ],
   "source": [
    "# materialize model_y_pred_class\n",
    "# check to see how many trips are categorized as 0 on-time, 1 almost on-time, 2 late, 3 extremely late\n",
    "model_y_test_pred_class=np.digitize(model_y_test_pred, bins)\n",
    "print(np.asarray(np.unique(model_y_test_pred_class, return_counts=True)).T)"
   ]
  },
  {
   "cell_type": "code",
   "execution_count": 42,
   "metadata": {},
   "outputs": [
    {
     "name": "stdout",
     "output_type": "stream",
     "text": [
      "             precision    recall  f1-score   support\n",
      "\n",
      "          0       0.84      1.00      0.91     21156\n",
      "          1       0.10      0.00      0.00      2939\n",
      "          2       0.00      0.00      0.00       892\n",
      "          3       0.00      0.00      0.00       148\n",
      "\n",
      "avg / total       0.72      0.84      0.77     25135\n",
      "\n"
     ]
    },
    {
     "name": "stderr",
     "output_type": "stream",
     "text": [
      "/Applications/anaconda3/lib/python3.6/site-packages/sklearn/metrics/classification.py:1135: UndefinedMetricWarning: Precision and F-score are ill-defined and being set to 0.0 in labels with no predicted samples.\n",
      "  'precision', 'predicted', average, warn_for)\n"
     ]
    }
   ],
   "source": [
    "from sklearn.metrics import classification_report\n",
    "print(classification_report(y_test_class,model_y_test_pred_class))"
   ]
  },
  {
   "cell_type": "code",
   "execution_count": 43,
   "metadata": {},
   "outputs": [
    {
     "name": "stdout",
     "output_type": "stream",
     "text": [
      "[[21142    13     0     1]\n",
      " [ 2937     2     0     0]\n",
      " [  887     5     0     0]\n",
      " [  147     1     0     0]]\n"
     ]
    }
   ],
   "source": [
    "from sklearn.metrics import confusion_matrix\n",
    "print(confusion_matrix(y_test_class,model_y_test_pred_class,labels=[0,1,2,3]))"
   ]
  },
  {
   "cell_type": "code",
   "execution_count": null,
   "metadata": {},
   "outputs": [],
   "source": []
  }
 ],
 "metadata": {
  "kernelspec": {
   "display_name": "Python 3",
   "language": "python",
   "name": "python3"
  },
  "language_info": {
   "codemirror_mode": {
    "name": "ipython",
    "version": 3
   },
   "file_extension": ".py",
   "mimetype": "text/x-python",
   "name": "python",
   "nbconvert_exporter": "python",
   "pygments_lexer": "ipython3",
   "version": "3.6.5"
  }
 },
 "nbformat": 4,
 "nbformat_minor": 2
}
