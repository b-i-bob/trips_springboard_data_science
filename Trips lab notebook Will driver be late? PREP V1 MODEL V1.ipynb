{
 "cells": [
  {
   "cell_type": "markdown",
   "metadata": {},
   "source": [
    "# Linear regression model V1"
   ]
  },
  {
   "cell_type": "code",
   "execution_count": 1,
   "metadata": {},
   "outputs": [],
   "source": [
    "fileprefix='./lateness_PREP_V1_'"
   ]
  },
  {
   "cell_type": "code",
   "execution_count": 2,
   "metadata": {},
   "outputs": [],
   "source": [
    "import pandas as pd\n",
    "import numpy as np"
   ]
  },
  {
   "cell_type": "code",
   "execution_count": 3,
   "metadata": {},
   "outputs": [],
   "source": [
    "df_X=pd.read_csv(fileprefix+'X.csv', sep='\\t')"
   ]
  },
  {
   "cell_type": "code",
   "execution_count": 5,
   "metadata": {},
   "outputs": [
    {
     "data": {
      "text/plain": [
       "(125675, 29)"
      ]
     },
     "execution_count": 5,
     "metadata": {},
     "output_type": "execute_result"
    }
   ],
   "source": [
    "df_X.shape"
   ]
  },
  {
   "cell_type": "code",
   "execution_count": 21,
   "metadata": {},
   "outputs": [],
   "source": [
    "df_y=pd.read_csv(fileprefix+'y.csv', sep='\\t', header=None)"
   ]
  },
  {
   "cell_type": "code",
   "execution_count": 22,
   "metadata": {},
   "outputs": [
    {
     "data": {
      "text/plain": [
       "(125675, 2)"
      ]
     },
     "execution_count": 22,
     "metadata": {},
     "output_type": "execute_result"
    }
   ],
   "source": [
    "type(df_y)\n",
    "df_y.shape"
   ]
  },
  {
   "cell_type": "code",
   "execution_count": 23,
   "metadata": {},
   "outputs": [],
   "source": [
    "y=df_y.iloc[:,1]"
   ]
  },
  {
   "cell_type": "code",
   "execution_count": 24,
   "metadata": {},
   "outputs": [
    {
     "data": {
      "text/plain": [
       "pandas.core.series.Series"
      ]
     },
     "execution_count": 24,
     "metadata": {},
     "output_type": "execute_result"
    }
   ],
   "source": [
    "type(y)"
   ]
  },
  {
   "cell_type": "code",
   "execution_count": 25,
   "metadata": {},
   "outputs": [
    {
     "data": {
      "text/plain": [
       "(125675,)"
      ]
     },
     "execution_count": 25,
     "metadata": {},
     "output_type": "execute_result"
    }
   ],
   "source": [
    "y.shape"
   ]
  },
  {
   "cell_type": "code",
   "execution_count": 26,
   "metadata": {
    "scrolled": true
   },
   "outputs": [
    {
     "data": {
      "text/plain": [
       "0   -497.0\n",
       "1      5.0\n",
       "2   -313.0\n",
       "3   -296.0\n",
       "4   -166.0\n",
       "Name: 1, dtype: float64"
      ]
     },
     "execution_count": 26,
     "metadata": {},
     "output_type": "execute_result"
    }
   ],
   "source": [
    "y.head()"
   ]
  },
  {
   "cell_type": "code",
   "execution_count": 27,
   "metadata": {},
   "outputs": [
    {
     "data": {
      "text/html": [
       "<div>\n",
       "<style scoped>\n",
       "    .dataframe tbody tr th:only-of-type {\n",
       "        vertical-align: middle;\n",
       "    }\n",
       "\n",
       "    .dataframe tbody tr th {\n",
       "        vertical-align: top;\n",
       "    }\n",
       "\n",
       "    .dataframe thead th {\n",
       "        text-align: right;\n",
       "    }\n",
       "</style>\n",
       "<table border=\"1\" class=\"dataframe\">\n",
       "  <thead>\n",
       "    <tr style=\"text-align: right;\">\n",
       "      <th></th>\n",
       "      <th>Unnamed: 0</th>\n",
       "      <th>total_predicted_distance_miles</th>\n",
       "      <th>lead_organizer_previous_completed_trips</th>\n",
       "      <th>total_predicted_duration</th>\n",
       "      <th>predicted_driver_fare</th>\n",
       "      <th>organizer_home_lat</th>\n",
       "      <th>destination_lat</th>\n",
       "      <th>driver_previous_completed_trips</th>\n",
       "      <th>destination_region_id</th>\n",
       "      <th>coupon_consumed</th>\n",
       "      <th>...</th>\n",
       "      <th>driver_home_lon</th>\n",
       "      <th>passengers_count</th>\n",
       "      <th>origin_lon</th>\n",
       "      <th>organizer_home_lon</th>\n",
       "      <th>trip_template_id</th>\n",
       "      <th>origin_lat</th>\n",
       "      <th>claimed_after_created</th>\n",
       "      <th>destination_lon</th>\n",
       "      <th>driver_home_lat</th>\n",
       "      <th>route_legs_count</th>\n",
       "    </tr>\n",
       "  </thead>\n",
       "  <tbody>\n",
       "    <tr>\n",
       "      <th>0</th>\n",
       "      <td>5</td>\n",
       "      <td>10.0</td>\n",
       "      <td>5</td>\n",
       "      <td>36.47</td>\n",
       "      <td>19.63</td>\n",
       "      <td>34.17</td>\n",
       "      <td>34.18</td>\n",
       "      <td>663.0</td>\n",
       "      <td>36.0</td>\n",
       "      <td>0.0</td>\n",
       "      <td>...</td>\n",
       "      <td>-118.25</td>\n",
       "      <td>1.0</td>\n",
       "      <td>-118.35</td>\n",
       "      <td>-118.34</td>\n",
       "      <td>0.0</td>\n",
       "      <td>34.18</td>\n",
       "      <td>2753.65</td>\n",
       "      <td>-118.23</td>\n",
       "      <td>34.1</td>\n",
       "      <td>1</td>\n",
       "    </tr>\n",
       "    <tr>\n",
       "      <th>1</th>\n",
       "      <td>6</td>\n",
       "      <td>5.0</td>\n",
       "      <td>65</td>\n",
       "      <td>29.00</td>\n",
       "      <td>14.19</td>\n",
       "      <td>34.08</td>\n",
       "      <td>34.10</td>\n",
       "      <td>634.0</td>\n",
       "      <td>36.0</td>\n",
       "      <td>0.0</td>\n",
       "      <td>...</td>\n",
       "      <td>-118.25</td>\n",
       "      <td>1.0</td>\n",
       "      <td>-118.31</td>\n",
       "      <td>-118.34</td>\n",
       "      <td>6325.0</td>\n",
       "      <td>34.10</td>\n",
       "      <td>5867.40</td>\n",
       "      <td>-118.24</td>\n",
       "      <td>34.1</td>\n",
       "      <td>1</td>\n",
       "    </tr>\n",
       "    <tr>\n",
       "      <th>2</th>\n",
       "      <td>7</td>\n",
       "      <td>5.0</td>\n",
       "      <td>13</td>\n",
       "      <td>18.90</td>\n",
       "      <td>14.06</td>\n",
       "      <td>34.16</td>\n",
       "      <td>34.16</td>\n",
       "      <td>649.0</td>\n",
       "      <td>48.0</td>\n",
       "      <td>0.0</td>\n",
       "      <td>...</td>\n",
       "      <td>-118.25</td>\n",
       "      <td>1.0</td>\n",
       "      <td>-118.16</td>\n",
       "      <td>-118.11</td>\n",
       "      <td>0.0</td>\n",
       "      <td>34.13</td>\n",
       "      <td>32.20</td>\n",
       "      <td>-118.11</td>\n",
       "      <td>34.1</td>\n",
       "      <td>1</td>\n",
       "    </tr>\n",
       "    <tr>\n",
       "      <th>3</th>\n",
       "      <td>8</td>\n",
       "      <td>7.0</td>\n",
       "      <td>88</td>\n",
       "      <td>22.93</td>\n",
       "      <td>15.59</td>\n",
       "      <td>34.05</td>\n",
       "      <td>34.17</td>\n",
       "      <td>637.0</td>\n",
       "      <td>36.0</td>\n",
       "      <td>0.0</td>\n",
       "      <td>...</td>\n",
       "      <td>-118.25</td>\n",
       "      <td>1.0</td>\n",
       "      <td>-118.24</td>\n",
       "      <td>-118.22</td>\n",
       "      <td>0.0</td>\n",
       "      <td>34.11</td>\n",
       "      <td>22.28</td>\n",
       "      <td>-118.28</td>\n",
       "      <td>34.1</td>\n",
       "      <td>1</td>\n",
       "    </tr>\n",
       "    <tr>\n",
       "      <th>4</th>\n",
       "      <td>9</td>\n",
       "      <td>13.0</td>\n",
       "      <td>46</td>\n",
       "      <td>35.50</td>\n",
       "      <td>21.63</td>\n",
       "      <td>34.12</td>\n",
       "      <td>34.12</td>\n",
       "      <td>629.0</td>\n",
       "      <td>33.0</td>\n",
       "      <td>0.0</td>\n",
       "      <td>...</td>\n",
       "      <td>-118.25</td>\n",
       "      <td>1.0</td>\n",
       "      <td>-118.51</td>\n",
       "      <td>-118.38</td>\n",
       "      <td>3719.0</td>\n",
       "      <td>34.20</td>\n",
       "      <td>150534.13</td>\n",
       "      <td>-118.38</td>\n",
       "      <td>34.1</td>\n",
       "      <td>1</td>\n",
       "    </tr>\n",
       "  </tbody>\n",
       "</table>\n",
       "<p>5 rows × 29 columns</p>\n",
       "</div>"
      ],
      "text/plain": [
       "   Unnamed: 0  total_predicted_distance_miles  \\\n",
       "0           5                            10.0   \n",
       "1           6                             5.0   \n",
       "2           7                             5.0   \n",
       "3           8                             7.0   \n",
       "4           9                            13.0   \n",
       "\n",
       "   lead_organizer_previous_completed_trips  total_predicted_duration  \\\n",
       "0                                        5                     36.47   \n",
       "1                                       65                     29.00   \n",
       "2                                       13                     18.90   \n",
       "3                                       88                     22.93   \n",
       "4                                       46                     35.50   \n",
       "\n",
       "   predicted_driver_fare  organizer_home_lat  destination_lat  \\\n",
       "0                  19.63               34.17            34.18   \n",
       "1                  14.19               34.08            34.10   \n",
       "2                  14.06               34.16            34.16   \n",
       "3                  15.59               34.05            34.17   \n",
       "4                  21.63               34.12            34.12   \n",
       "\n",
       "   driver_previous_completed_trips  destination_region_id  coupon_consumed  \\\n",
       "0                            663.0                   36.0              0.0   \n",
       "1                            634.0                   36.0              0.0   \n",
       "2                            649.0                   48.0              0.0   \n",
       "3                            637.0                   36.0              0.0   \n",
       "4                            629.0                   33.0              0.0   \n",
       "\n",
       "         ...         driver_home_lon  passengers_count  origin_lon  \\\n",
       "0        ...                 -118.25               1.0     -118.35   \n",
       "1        ...                 -118.25               1.0     -118.31   \n",
       "2        ...                 -118.25               1.0     -118.16   \n",
       "3        ...                 -118.25               1.0     -118.24   \n",
       "4        ...                 -118.25               1.0     -118.51   \n",
       "\n",
       "   organizer_home_lon  trip_template_id  origin_lat  claimed_after_created  \\\n",
       "0             -118.34               0.0       34.18                2753.65   \n",
       "1             -118.34            6325.0       34.10                5867.40   \n",
       "2             -118.11               0.0       34.13                  32.20   \n",
       "3             -118.22               0.0       34.11                  22.28   \n",
       "4             -118.38            3719.0       34.20              150534.13   \n",
       "\n",
       "   destination_lon  driver_home_lat  route_legs_count  \n",
       "0          -118.23             34.1                 1  \n",
       "1          -118.24             34.1                 1  \n",
       "2          -118.11             34.1                 1  \n",
       "3          -118.28             34.1                 1  \n",
       "4          -118.38             34.1                 1  \n",
       "\n",
       "[5 rows x 29 columns]"
      ]
     },
     "execution_count": 27,
     "metadata": {},
     "output_type": "execute_result"
    }
   ],
   "source": [
    "df_X.head()"
   ]
  },
  {
   "cell_type": "code",
   "execution_count": 28,
   "metadata": {},
   "outputs": [
    {
     "data": {
      "text/plain": [
       "count      125675\n",
       "mean         -507\n",
       "std         22763\n",
       "min      -7862491\n",
       "25%          -657\n",
       "50%          -324\n",
       "75%           -96\n",
       "max        204537\n",
       "Name: 1, dtype: object"
      ]
     },
     "execution_count": 28,
     "metadata": {},
     "output_type": "execute_result"
    }
   ],
   "source": [
    "y.describe().apply(lambda x: '%.0f' % x)"
   ]
  },
  {
   "cell_type": "code",
   "execution_count": 29,
   "metadata": {},
   "outputs": [],
   "source": [
    "# select a linear model\n",
    "import sklearn.linear_model\n",
    "model=sklearn.linear_model.LinearRegression()"
   ]
  },
  {
   "cell_type": "code",
   "execution_count": 30,
   "metadata": {},
   "outputs": [],
   "source": [
    "# fit model\n",
    "model=model.fit(df_X,y)"
   ]
  },
  {
   "cell_type": "code",
   "execution_count": 31,
   "metadata": {},
   "outputs": [
    {
     "data": {
      "text/plain": [
       "array([-4.19692549e-04,  4.73702359e+01,  3.58555063e-02,  2.63339714e+01,\n",
       "       -3.34848890e+01, -6.14720839e+02, -1.81653660e+04,  1.10699545e+00,\n",
       "        4.50163588e+01, -4.50395352e+01, -3.25283265e-03, -1.05755212e-02,\n",
       "        3.82179479e-03,  1.01613851e+02,  6.24973085e-04,  2.70389156e-03,\n",
       "        4.32179718e+01,  4.83540473e-03, -4.99072432e+00, -8.58495030e+03,\n",
       "        2.49196918e+01,  5.25170576e+03, -1.81905888e+02, -1.62503795e-02,\n",
       "       -2.45779577e+04, -1.67218925e-03,  2.69593289e+03,  4.33148922e+04,\n",
       "       -3.21774114e+02])"
      ]
     },
     "execution_count": 31,
     "metadata": {},
     "output_type": "execute_result"
    }
   ],
   "source": [
    "model.coef_"
   ]
  },
  {
   "cell_type": "code",
   "execution_count": 66,
   "metadata": {
    "collapsed": true
   },
   "outputs": [
    {
     "data": {
      "text/plain": [
       "0         -0\n",
       "1         47\n",
       "2          0\n",
       "3         26\n",
       "4        -33\n",
       "5       -615\n",
       "6     -18165\n",
       "7          1\n",
       "8         45\n",
       "9        -45\n",
       "10        -0\n",
       "11        -0\n",
       "12         0\n",
       "13       102\n",
       "14         0\n",
       "15         0\n",
       "16        43\n",
       "17         0\n",
       "18        -5\n",
       "19     -8585\n",
       "20        25\n",
       "21      5252\n",
       "22      -182\n",
       "23        -0\n",
       "24    -24578\n",
       "25        -0\n",
       "26      2696\n",
       "27     43315\n",
       "28      -322\n",
       "dtype: object"
      ]
     },
     "execution_count": 66,
     "metadata": {},
     "output_type": "execute_result"
    }
   ],
   "source": [
    "pd.Series(model.coef_).apply(lambda x: '%.0f' % x)"
   ]
  },
  {
   "cell_type": "code",
   "execution_count": 32,
   "metadata": {},
   "outputs": [
    {
     "data": {
      "text/plain": [
       "-98281.3634048134"
      ]
     },
     "execution_count": 32,
     "metadata": {},
     "output_type": "execute_result"
    }
   ],
   "source": [
    "model.intercept_"
   ]
  },
  {
   "cell_type": "code",
   "execution_count": 59,
   "metadata": {
    "collapsed": true
   },
   "outputs": [
    {
     "data": {
      "text/plain": [
       "Unnamed: 0                                 62574.764615\n",
       "total_predicted_distance_miles                 5.648633\n",
       "lead_organizer_previous_completed_trips      205.035384\n",
       "total_predicted_duration                      12.495387\n",
       "predicted_driver_fare                          5.869914\n",
       "organizer_home_lat                             3.520902\n",
       "destination_lat                                1.465935\n",
       "driver_previous_completed_trips              343.170859\n",
       "destination_region_id                         14.230953\n",
       "coupon_consumed                                0.078336\n",
       "id                                         90386.207317\n",
       "creator_id                                 28361.473481\n",
       "driver_id                                  36476.929023\n",
       "organizers_count                               0.172448\n",
       "destination_location_id                    36903.795020\n",
       "origin_location_id                         36848.424811\n",
       "origin_region_id                              14.245880\n",
       "lead_organizer_id                          28366.288764\n",
       "trip_predicted_raw_fare                       12.181633\n",
       "driver_home_lon                                1.686690\n",
       "passengers_count                               0.584727\n",
       "origin_lon                                     1.568521\n",
       "organizer_home_lon                            11.110236\n",
       "trip_template_id                            5739.083626\n",
       "origin_lat                                     1.465858\n",
       "claimed_after_created                      30303.787703\n",
       "destination_lon                                1.568718\n",
       "driver_home_lat                                1.475387\n",
       "route_legs_count                               0.278448\n",
       "dtype: float64"
      ]
     },
     "execution_count": 59,
     "metadata": {},
     "output_type": "execute_result"
    }
   ],
   "source": [
    "df_X.std()"
   ]
  },
  {
   "cell_type": "code",
   "execution_count": 76,
   "metadata": {},
   "outputs": [
    {
     "data": {
      "text/plain": [
       "origin_lat                                 -16767\n",
       "destination_lat                            -12392\n",
       "driver_home_lon                             -5090\n",
       "route_legs_count                            -1156\n",
       "coupon_consumed                              -575\n",
       "organizer_home_lat                           -175\n",
       "organizer_home_lon                            -16\n",
       "predicted_driver_fare                          -6\n",
       "trip_predicted_raw_fare                        -0\n",
       "trip_template_id                               -0\n",
       "creator_id                                     -0\n",
       "claimed_after_created                          -0\n",
       "id                                             -0\n",
       "Unnamed: 0                                     -0\n",
       "destination_location_id                         0\n",
       "origin_location_id                              0\n",
       "driver_id                                       0\n",
       "lead_organizer_id                               0\n",
       "lead_organizer_previous_completed_trips         0\n",
       "driver_previous_completed_trips                 0\n",
       "total_predicted_duration                        2\n",
       "origin_region_id                                3\n",
       "destination_region_id                           3\n",
       "total_predicted_distance_miles                  8\n",
       "passengers_count                               43\n",
       "organizers_count                              589\n",
       "destination_lon                              1719\n",
       "origin_lon                                   3348\n",
       "driver_home_lat                             29358\n",
       "dtype: object"
      ]
     },
     "execution_count": 76,
     "metadata": {},
     "output_type": "execute_result"
    }
   ],
   "source": [
    "# normalize the linear odel coefficients by the standard deviation to see which features are most important\n",
    "(model.coef_/df_X.std()).sort_values(axis=0).apply(lambda x: '%.0f' % x)"
   ]
  },
  {
   "cell_type": "code",
   "execution_count": 38,
   "metadata": {},
   "outputs": [
    {
     "data": {
      "text/plain": [
       "0.32419216823706354"
      ]
     },
     "execution_count": 38,
     "metadata": {},
     "output_type": "execute_result"
    }
   ],
   "source": [
    "# score against full training set\n",
    "model.score(df_X,y)"
   ]
  },
  {
   "cell_type": "code",
   "execution_count": 39,
   "metadata": {},
   "outputs": [
    {
     "data": {
      "text/plain": [
       "125675"
      ]
     },
     "execution_count": 39,
     "metadata": {},
     "output_type": "execute_result"
    }
   ],
   "source": [
    "model_y_pred = model.predict(df_X)\n",
    "model_y_pred.size"
   ]
  },
  {
   "cell_type": "code",
   "execution_count": 42,
   "metadata": {},
   "outputs": [
    {
     "data": {
      "text/plain": [
       "numpy.ndarray"
      ]
     },
     "execution_count": 42,
     "metadata": {},
     "output_type": "execute_result"
    }
   ],
   "source": [
    "type(model_y_pred)"
   ]
  },
  {
   "cell_type": "code",
   "execution_count": 45,
   "metadata": {},
   "outputs": [
    {
     "data": {
      "text/plain": [
       "array([-3174.54725717,  -236.23555056,   -65.49284239, -1401.42339247,\n",
       "       -3838.2072563 , -2516.09309354,  -737.29632668, -3505.40605735,\n",
       "       -3508.77048622, -1339.0324038 ])"
      ]
     },
     "execution_count": 45,
     "metadata": {},
     "output_type": "execute_result"
    }
   ],
   "source": [
    "model_y_pred[:10]"
   ]
  },
  {
   "cell_type": "code",
   "execution_count": 52,
   "metadata": {},
   "outputs": [
    {
     "data": {
      "text/plain": [
       "12960.940850901721"
      ]
     },
     "execution_count": 52,
     "metadata": {},
     "output_type": "execute_result"
    }
   ],
   "source": [
    "pd.Series(model_y_pred).std()"
   ]
  },
  {
   "cell_type": "code",
   "execution_count": 53,
   "metadata": {},
   "outputs": [
    {
     "data": {
      "text/plain": [
       "0.5693787563977618"
      ]
     },
     "execution_count": 53,
     "metadata": {},
     "output_type": "execute_result"
    }
   ],
   "source": [
    "pd.Series(model_y_pred).corr(y)"
   ]
  },
  {
   "cell_type": "code",
   "execution_count": 82,
   "metadata": {},
   "outputs": [
    {
     "name": "stdout",
     "output_type": "stream",
     "text": [
      "xvs 0.324 mse 350179165 r2 0.324 mae 3015 medianae 1855\n"
     ]
    }
   ],
   "source": [
    "# regression metrics\n",
    "from sklearn.metrics import explained_variance_score, mean_squared_error, r2_score, mean_absolute_error, median_absolute_error\n",
    "print (\"xvs %.3f mse %.0f r2 %.3f mae %.0f medianae %.0f\" % \n",
    "       (explained_variance_score(y, model_y_pred),\n",
    "        mean_squared_error(y, model_y_pred), \n",
    "        r2_score(y, model_y_pred), \n",
    "        mean_absolute_error(y, model_y_pred), \n",
    "        median_absolute_error(y, model_y_pred)))"
   ]
  },
  {
   "cell_type": "code",
   "execution_count": 102,
   "metadata": {},
   "outputs": [
    {
     "data": {
      "text/plain": [
       "array([  0., 300., 900.])"
      ]
     },
     "execution_count": 102,
     "metadata": {},
     "output_type": "execute_result"
    }
   ],
   "source": [
    "# make classifications from seconds late target\n",
    "bins = np.array([0.0, 5*60, 15*60]) # 0 on-time, 1 almost on-time, 2 late, 3 extremely late\n",
    "##type(y.values)\n",
    "##numpy.ndarray\n",
    "##y.head(10)\n",
    "bins"
   ]
  },
  {
   "cell_type": "code",
   "execution_count": 94,
   "metadata": {},
   "outputs": [
    {
     "data": {
      "text/plain": [
       "array([0, 1, 0, 0, 0, 0, 0, 0, 0, 0])"
      ]
     },
     "execution_count": 94,
     "metadata": {},
     "output_type": "execute_result"
    }
   ],
   "source": [
    "np.digitize(y, bins)[:10]"
   ]
  },
  {
   "cell_type": "code",
   "execution_count": 100,
   "metadata": {
    "scrolled": true
   },
   "outputs": [
    {
     "name": "stdout",
     "output_type": "stream",
     "text": [
      "[[     0 105695]\n",
      " [     1  14861]\n",
      " [     2   4357]\n",
      " [     3    762]]\n"
     ]
    }
   ],
   "source": [
    "# materialize y_class array\n",
    "# check to see how many trips are categorized as 0 on-time, 1 almost on-time, 2 late, 3 extremely late\n",
    "y_class=np.digitize(y, bins)\n",
    "unique, counts = np.unique(y_class, return_counts=True)\n",
    "print(np.asarray((unique, counts)).T)"
   ]
  },
  {
   "cell_type": "code",
   "execution_count": 104,
   "metadata": {},
   "outputs": [
    {
     "name": "stdout",
     "output_type": "stream",
     "text": [
      "[[    0 70954]\n",
      " [    1  5376]\n",
      " [    2 10208]\n",
      " [    3 39137]]\n"
     ]
    }
   ],
   "source": [
    "# materialize model_y_pred_class\n",
    "# check to see how many trips are categorized as 0 on-time, 1 almost on-time, 2 late, 3 extremely late\n",
    "model_y_pred_class=np.digitize(model_y_pred, bins)\n",
    "print(np.asarray(np.unique(model_y_pred_class, return_counts=True)).T)"
   ]
  },
  {
   "cell_type": "code",
   "execution_count": 106,
   "metadata": {},
   "outputs": [
    {
     "name": "stdout",
     "output_type": "stream",
     "text": [
      "             precision    recall  f1-score   support\n",
      "\n",
      "          0       0.84      0.56      0.67    105695\n",
      "          1       0.12      0.04      0.06     14861\n",
      "          2       0.03      0.07      0.04      4357\n",
      "          3       0.01      0.29      0.01       762\n",
      "\n",
      "avg / total       0.72      0.48      0.57    125675\n",
      "\n"
     ]
    }
   ],
   "source": [
    "from sklearn.metrics import classification_report\n",
    "print(classification_report(y_class,model_y_pred_class))"
   ]
  },
  {
   "cell_type": "code",
   "execution_count": 111,
   "metadata": {},
   "outputs": [
    {
     "name": "stdout",
     "output_type": "stream",
     "text": [
      "[[59249  4564  8708 33174]\n",
      " [ 8681   620  1159  4401]\n",
      " [ 2574   156   289  1338]\n",
      " [  450    36    52   224]]\n"
     ]
    }
   ],
   "source": [
    "from sklearn.metrics import confusion_matrix\n",
    "print(confusion_matrix(y_class,model_y_pred_class,labels=[0,1,2,3]))"
   ]
  },
  {
   "cell_type": "code",
   "execution_count": null,
   "metadata": {},
   "outputs": [],
   "source": []
  }
 ],
 "metadata": {
  "kernelspec": {
   "display_name": "Python 3",
   "language": "python",
   "name": "python3"
  },
  "language_info": {
   "codemirror_mode": {
    "name": "ipython",
    "version": 3
   },
   "file_extension": ".py",
   "mimetype": "text/x-python",
   "name": "python",
   "nbconvert_exporter": "python",
   "pygments_lexer": "ipython3",
   "version": "3.6.5"
  }
 },
 "nbformat": 4,
 "nbformat_minor": 2
}
