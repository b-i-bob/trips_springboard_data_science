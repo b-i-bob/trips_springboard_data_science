{
 "cells": [
  {
   "cell_type": "markdown",
   "metadata": {},
   "source": [
    "### Linear regression model V13\n",
    "try ridge regression"
   ]
  },
  {
   "cell_type": "code",
   "execution_count": 1,
   "metadata": {},
   "outputs": [],
   "source": [
    "fileprefix='./lateness_PREP_V10_'"
   ]
  },
  {
   "cell_type": "code",
   "execution_count": 2,
   "metadata": {},
   "outputs": [],
   "source": [
    "import pandas as pd\n",
    "import numpy as np"
   ]
  },
  {
   "cell_type": "code",
   "execution_count": 3,
   "metadata": {},
   "outputs": [],
   "source": [
    "df_X=pd.read_csv(fileprefix+'X.csv', sep='\\t')"
   ]
  },
  {
   "cell_type": "code",
   "execution_count": 4,
   "metadata": {},
   "outputs": [
    {
     "data": {
      "text/plain": [
       "(125675, 215)"
      ]
     },
     "execution_count": 4,
     "metadata": {},
     "output_type": "execute_result"
    }
   ],
   "source": [
    "df_X.shape"
   ]
  },
  {
   "cell_type": "code",
   "execution_count": 5,
   "metadata": {},
   "outputs": [],
   "source": [
    "df_y=pd.read_csv(fileprefix+'y.csv', sep='\\t', header=None)"
   ]
  },
  {
   "cell_type": "code",
   "execution_count": 6,
   "metadata": {},
   "outputs": [
    {
     "data": {
      "text/plain": [
       "(125675, 2)"
      ]
     },
     "execution_count": 6,
     "metadata": {},
     "output_type": "execute_result"
    }
   ],
   "source": [
    "type(df_y)\n",
    "df_y.shape"
   ]
  },
  {
   "cell_type": "code",
   "execution_count": 7,
   "metadata": {},
   "outputs": [
    {
     "data": {
      "text/html": [
       "<div>\n",
       "<style scoped>\n",
       "    .dataframe tbody tr th:only-of-type {\n",
       "        vertical-align: middle;\n",
       "    }\n",
       "\n",
       "    .dataframe tbody tr th {\n",
       "        vertical-align: top;\n",
       "    }\n",
       "\n",
       "    .dataframe thead th {\n",
       "        text-align: right;\n",
       "    }\n",
       "</style>\n",
       "<table border=\"1\" class=\"dataframe\">\n",
       "  <thead>\n",
       "    <tr style=\"text-align: right;\">\n",
       "      <th></th>\n",
       "      <th>0</th>\n",
       "      <th>1</th>\n",
       "    </tr>\n",
       "  </thead>\n",
       "  <tbody>\n",
       "    <tr>\n",
       "      <th>0</th>\n",
       "      <td>5</td>\n",
       "      <td>-497.0</td>\n",
       "    </tr>\n",
       "    <tr>\n",
       "      <th>1</th>\n",
       "      <td>6</td>\n",
       "      <td>5.0</td>\n",
       "    </tr>\n",
       "    <tr>\n",
       "      <th>2</th>\n",
       "      <td>7</td>\n",
       "      <td>-313.0</td>\n",
       "    </tr>\n",
       "    <tr>\n",
       "      <th>3</th>\n",
       "      <td>8</td>\n",
       "      <td>-296.0</td>\n",
       "    </tr>\n",
       "    <tr>\n",
       "      <th>4</th>\n",
       "      <td>9</td>\n",
       "      <td>-166.0</td>\n",
       "    </tr>\n",
       "  </tbody>\n",
       "</table>\n",
       "</div>"
      ],
      "text/plain": [
       "   0      1\n",
       "0  5 -497.0\n",
       "1  6    5.0\n",
       "2  7 -313.0\n",
       "3  8 -296.0\n",
       "4  9 -166.0"
      ]
     },
     "execution_count": 7,
     "metadata": {},
     "output_type": "execute_result"
    }
   ],
   "source": [
    "df_y.head()"
   ]
  },
  {
   "cell_type": "code",
   "execution_count": 8,
   "metadata": {},
   "outputs": [
    {
     "data": {
      "text/plain": [
       "0   -497.0\n",
       "1      5.0\n",
       "2   -313.0\n",
       "3   -296.0\n",
       "4   -166.0\n",
       "Name: 1, dtype: float64"
      ]
     },
     "execution_count": 8,
     "metadata": {},
     "output_type": "execute_result"
    }
   ],
   "source": [
    "y=df_y[1]\n",
    "y.head()"
   ]
  },
  {
   "cell_type": "code",
   "execution_count": 9,
   "metadata": {},
   "outputs": [
    {
     "data": {
      "text/plain": [
       "(125675,)"
      ]
     },
     "execution_count": 9,
     "metadata": {},
     "output_type": "execute_result"
    }
   ],
   "source": [
    "y.shape"
   ]
  },
  {
   "cell_type": "code",
   "execution_count": 10,
   "metadata": {},
   "outputs": [
    {
     "data": {
      "text/html": [
       "<div>\n",
       "<style scoped>\n",
       "    .dataframe tbody tr th:only-of-type {\n",
       "        vertical-align: middle;\n",
       "    }\n",
       "\n",
       "    .dataframe tbody tr th {\n",
       "        vertical-align: top;\n",
       "    }\n",
       "\n",
       "    .dataframe thead th {\n",
       "        text-align: right;\n",
       "    }\n",
       "</style>\n",
       "<table border=\"1\" class=\"dataframe\">\n",
       "  <thead>\n",
       "    <tr style=\"text-align: right;\">\n",
       "      <th></th>\n",
       "      <th>Unnamed: 0</th>\n",
       "      <th>lead_organizer_created_at_pdt_hour</th>\n",
       "      <th>creator_id</th>\n",
       "      <th>claimed_at_pdt_hour_14</th>\n",
       "      <th>origin_region_name_East Bay South</th>\n",
       "      <th>scheduled_starts_at_pdt_month</th>\n",
       "      <th>carpool_int</th>\n",
       "      <th>scheduled_starts_at_pdt_weekofyear</th>\n",
       "      <th>scheduled_starts_at_pdt_hour_2</th>\n",
       "      <th>origin_region_name_Central LA - West</th>\n",
       "      <th>...</th>\n",
       "      <th>destination_region_id</th>\n",
       "      <th>claimed_at_pdt_hour_6</th>\n",
       "      <th>organizers_count</th>\n",
       "      <th>scheduled_starts_at_pdt_hour_5</th>\n",
       "      <th>scheduled_starts_at_pdt_hour_6</th>\n",
       "      <th>origin_region_name_Ventura</th>\n",
       "      <th>lead_organizer_created_at_pdt_month</th>\n",
       "      <th>scheduled_starts_at_pdt_month_2</th>\n",
       "      <th>origin_region_name_Pomona Valley</th>\n",
       "      <th>driver_id</th>\n",
       "    </tr>\n",
       "  </thead>\n",
       "  <tbody>\n",
       "    <tr>\n",
       "      <th>0</th>\n",
       "      <td>5</td>\n",
       "      <td>19</td>\n",
       "      <td>81281</td>\n",
       "      <td>0</td>\n",
       "      <td>0</td>\n",
       "      <td>2</td>\n",
       "      <td>0</td>\n",
       "      <td>7</td>\n",
       "      <td>0</td>\n",
       "      <td>0</td>\n",
       "      <td>...</td>\n",
       "      <td>36.0</td>\n",
       "      <td>0</td>\n",
       "      <td>1.0</td>\n",
       "      <td>0</td>\n",
       "      <td>0</td>\n",
       "      <td>0</td>\n",
       "      <td>7</td>\n",
       "      <td>1</td>\n",
       "      <td>0</td>\n",
       "      <td>62969.0</td>\n",
       "    </tr>\n",
       "    <tr>\n",
       "      <th>1</th>\n",
       "      <td>6</td>\n",
       "      <td>19</td>\n",
       "      <td>80068</td>\n",
       "      <td>0</td>\n",
       "      <td>0</td>\n",
       "      <td>1</td>\n",
       "      <td>0</td>\n",
       "      <td>4</td>\n",
       "      <td>0</td>\n",
       "      <td>0</td>\n",
       "      <td>...</td>\n",
       "      <td>36.0</td>\n",
       "      <td>0</td>\n",
       "      <td>1.0</td>\n",
       "      <td>0</td>\n",
       "      <td>0</td>\n",
       "      <td>0</td>\n",
       "      <td>7</td>\n",
       "      <td>0</td>\n",
       "      <td>0</td>\n",
       "      <td>62969.0</td>\n",
       "    </tr>\n",
       "    <tr>\n",
       "      <th>2</th>\n",
       "      <td>7</td>\n",
       "      <td>20</td>\n",
       "      <td>87802</td>\n",
       "      <td>0</td>\n",
       "      <td>0</td>\n",
       "      <td>2</td>\n",
       "      <td>0</td>\n",
       "      <td>6</td>\n",
       "      <td>0</td>\n",
       "      <td>0</td>\n",
       "      <td>...</td>\n",
       "      <td>48.0</td>\n",
       "      <td>0</td>\n",
       "      <td>1.0</td>\n",
       "      <td>0</td>\n",
       "      <td>0</td>\n",
       "      <td>0</td>\n",
       "      <td>7</td>\n",
       "      <td>1</td>\n",
       "      <td>0</td>\n",
       "      <td>62969.0</td>\n",
       "    </tr>\n",
       "    <tr>\n",
       "      <th>3</th>\n",
       "      <td>8</td>\n",
       "      <td>20</td>\n",
       "      <td>81561</td>\n",
       "      <td>0</td>\n",
       "      <td>0</td>\n",
       "      <td>1</td>\n",
       "      <td>0</td>\n",
       "      <td>4</td>\n",
       "      <td>0</td>\n",
       "      <td>0</td>\n",
       "      <td>...</td>\n",
       "      <td>36.0</td>\n",
       "      <td>0</td>\n",
       "      <td>1.0</td>\n",
       "      <td>0</td>\n",
       "      <td>0</td>\n",
       "      <td>0</td>\n",
       "      <td>7</td>\n",
       "      <td>0</td>\n",
       "      <td>0</td>\n",
       "      <td>62969.0</td>\n",
       "    </tr>\n",
       "    <tr>\n",
       "      <th>4</th>\n",
       "      <td>9</td>\n",
       "      <td>19</td>\n",
       "      <td>76793</td>\n",
       "      <td>0</td>\n",
       "      <td>0</td>\n",
       "      <td>1</td>\n",
       "      <td>0</td>\n",
       "      <td>4</td>\n",
       "      <td>0</td>\n",
       "      <td>0</td>\n",
       "      <td>...</td>\n",
       "      <td>33.0</td>\n",
       "      <td>0</td>\n",
       "      <td>1.0</td>\n",
       "      <td>0</td>\n",
       "      <td>0</td>\n",
       "      <td>0</td>\n",
       "      <td>7</td>\n",
       "      <td>0</td>\n",
       "      <td>0</td>\n",
       "      <td>62969.0</td>\n",
       "    </tr>\n",
       "  </tbody>\n",
       "</table>\n",
       "<p>5 rows × 215 columns</p>\n",
       "</div>"
      ],
      "text/plain": [
       "   Unnamed: 0  lead_organizer_created_at_pdt_hour  creator_id  \\\n",
       "0           5                                  19       81281   \n",
       "1           6                                  19       80068   \n",
       "2           7                                  20       87802   \n",
       "3           8                                  20       81561   \n",
       "4           9                                  19       76793   \n",
       "\n",
       "   claimed_at_pdt_hour_14  origin_region_name_East Bay South  \\\n",
       "0                       0                                  0   \n",
       "1                       0                                  0   \n",
       "2                       0                                  0   \n",
       "3                       0                                  0   \n",
       "4                       0                                  0   \n",
       "\n",
       "   scheduled_starts_at_pdt_month  carpool_int  \\\n",
       "0                              2            0   \n",
       "1                              1            0   \n",
       "2                              2            0   \n",
       "3                              1            0   \n",
       "4                              1            0   \n",
       "\n",
       "   scheduled_starts_at_pdt_weekofyear  scheduled_starts_at_pdt_hour_2  \\\n",
       "0                                   7                               0   \n",
       "1                                   4                               0   \n",
       "2                                   6                               0   \n",
       "3                                   4                               0   \n",
       "4                                   4                               0   \n",
       "\n",
       "   origin_region_name_Central LA - West    ...      destination_region_id  \\\n",
       "0                                     0    ...                       36.0   \n",
       "1                                     0    ...                       36.0   \n",
       "2                                     0    ...                       48.0   \n",
       "3                                     0    ...                       36.0   \n",
       "4                                     0    ...                       33.0   \n",
       "\n",
       "   claimed_at_pdt_hour_6  organizers_count  scheduled_starts_at_pdt_hour_5  \\\n",
       "0                      0               1.0                               0   \n",
       "1                      0               1.0                               0   \n",
       "2                      0               1.0                               0   \n",
       "3                      0               1.0                               0   \n",
       "4                      0               1.0                               0   \n",
       "\n",
       "   scheduled_starts_at_pdt_hour_6  origin_region_name_Ventura  \\\n",
       "0                               0                           0   \n",
       "1                               0                           0   \n",
       "2                               0                           0   \n",
       "3                               0                           0   \n",
       "4                               0                           0   \n",
       "\n",
       "   lead_organizer_created_at_pdt_month  scheduled_starts_at_pdt_month_2  \\\n",
       "0                                    7                                1   \n",
       "1                                    7                                0   \n",
       "2                                    7                                1   \n",
       "3                                    7                                0   \n",
       "4                                    7                                0   \n",
       "\n",
       "   origin_region_name_Pomona Valley  driver_id  \n",
       "0                                 0    62969.0  \n",
       "1                                 0    62969.0  \n",
       "2                                 0    62969.0  \n",
       "3                                 0    62969.0  \n",
       "4                                 0    62969.0  \n",
       "\n",
       "[5 rows x 215 columns]"
      ]
     },
     "execution_count": 10,
     "metadata": {},
     "output_type": "execute_result"
    }
   ],
   "source": [
    "df_X.head()"
   ]
  },
  {
   "cell_type": "code",
   "execution_count": 11,
   "metadata": {},
   "outputs": [
    {
     "data": {
      "text/plain": [
       "count    125675.0\n",
       "mean       -416.0\n",
       "std         509.0\n",
       "min       -1800.0\n",
       "25%        -657.0\n",
       "50%        -324.0\n",
       "75%         -96.0\n",
       "max        1800.0\n",
       "Name: 1, dtype: float64"
      ]
     },
     "execution_count": 11,
     "metadata": {},
     "output_type": "execute_result"
    }
   ],
   "source": [
    "y.describe().round()"
   ]
  },
  {
   "cell_type": "code",
   "execution_count": 12,
   "metadata": {},
   "outputs": [],
   "source": [
    "# break df_X,y into test and train sets\n",
    "from sklearn.model_selection import train_test_split\n",
    "X_train, X_test, y_train, y_test = train_test_split(df_X, y, test_size=0.20, random_state=808)"
   ]
  },
  {
   "cell_type": "code",
   "execution_count": 13,
   "metadata": {},
   "outputs": [
    {
     "name": "stdout",
     "output_type": "stream",
     "text": [
      "(100540, 215)\n",
      "(25135, 215)\n",
      "(100540,)\n",
      "(25135,)\n"
     ]
    }
   ],
   "source": [
    "for i in X_train, X_test, y_train, y_test:\n",
    "    print(i.shape)"
   ]
  },
  {
   "cell_type": "code",
   "execution_count": 35,
   "metadata": {},
   "outputs": [],
   "source": [
    "# select a linear model\n",
    "import sklearn.linear_model\n",
    "model=sklearn.linear_model.Ridge(alpha = .75)"
   ]
  },
  {
   "cell_type": "code",
   "execution_count": 36,
   "metadata": {},
   "outputs": [],
   "source": [
    "# fit model\n",
    "model=model.fit(X_train,y_train)"
   ]
  },
  {
   "cell_type": "code",
   "execution_count": 37,
   "metadata": {
    "scrolled": true
   },
   "outputs": [
    {
     "data": {
      "text/plain": [
       "array([-1.03720295e-05,  5.30011854e-01, -3.30934856e-03,  9.33439771e+00,\n",
       "       -1.14861725e+02, -3.55243391e+00, -4.49986202e+00, -4.86750467e-01,\n",
       "       -5.94821165e-04, -1.82789965e+01, -1.52047477e+01,  3.24008183e+00,\n",
       "        2.92001422e+01, -1.54566384e+01,  4.78492489e+02, -1.74216888e+02,\n",
       "        3.05324435e+01,  8.88690147e+01, -1.11183823e+00,  4.77214586e+01,\n",
       "        3.14378560e-01, -2.27659168e+00, -2.12295989e+01, -2.00801286e+01,\n",
       "       -8.27591985e+01, -9.51579969e+01, -1.77632113e+01,  1.03828581e+00,\n",
       "       -1.77626821e+02, -1.15939262e+01,  1.54830053e+02, -1.25143584e+01,\n",
       "        9.08053143e+01,  1.98512583e+01, -1.35981275e+01,  1.72320284e-01,\n",
       "       -4.71411275e+01,  6.48278854e+00, -1.25143222e+01, -2.37270175e+01,\n",
       "        1.27170003e+01,  1.43801269e+02, -3.51232305e+01, -4.88171162e-01,\n",
       "        1.53080716e-03, -8.87106893e-05,  9.65198569e+00,  8.01542144e+00,\n",
       "       -2.14833909e+01,  3.64308349e+01,  1.81261950e+02, -3.87350962e+00,\n",
       "        1.60496890e+00,  3.51001448e+01,  1.43548387e+01,  1.14249093e-01,\n",
       "       -8.87832093e+00, -8.42472892e+00, -2.67516638e+01,  5.70234823e+01,\n",
       "        7.67069484e+00, -2.40526626e+01, -1.67687790e+00, -4.16792624e+01,\n",
       "       -8.75744141e+01, -3.39743899e-01, -3.16125665e+01,  4.45333724e+00,\n",
       "       -4.76800712e+01, -8.42965904e+00,  3.59878337e+01,  1.33005942e+01,\n",
       "       -2.27309202e-01, -5.00546676e+00, -5.01252072e+01, -3.81935598e+01,\n",
       "       -2.52601252e+00, -3.87501568e+00,  1.81361342e+01,  6.02365329e+01,\n",
       "        1.49512039e+01, -4.40190834e+01, -2.97417278e+00, -7.98487457e+01,\n",
       "       -9.66450203e+00, -1.08291345e+01, -1.60956756e+01,  2.27345562e+01,\n",
       "       -1.39290151e+01, -6.86871372e-01, -3.81817512e+01,  7.07901365e+01,\n",
       "       -3.10486736e+01,  5.57440411e-02, -7.13898627e+01, -2.14216157e+00,\n",
       "       -5.73005708e+00, -4.04043021e-04,  1.56848814e+01,  1.61423891e+00,\n",
       "       -6.46760448e+01, -3.17512922e+01, -5.61250386e-01, -2.59800484e+01,\n",
       "       -7.24241299e+00, -3.20293860e+01,  1.08807424e-03, -2.14467222e+01,\n",
       "        4.14885348e+01,  3.63478750e-03, -2.02162333e+01, -6.27475376e+00,\n",
       "       -5.18706623e+01,  8.26660211e+00,  1.54830138e+02,  3.93221431e+01,\n",
       "       -7.36233302e-04, -3.90640537e-04,  4.19394369e+01, -1.48328945e+01,\n",
       "        3.26809857e+00, -6.88410618e+01,  6.98388016e+02,  9.02120405e+01,\n",
       "        5.88360710e+00,  4.76965722e+01, -7.69265767e+00, -7.13881183e-03,\n",
       "        1.77608748e+02,  9.29738290e+00, -1.08435572e+01,  1.03403916e-04,\n",
       "       -1.69270310e+01,  1.41542544e-03,  2.16637569e+00, -2.01655134e+00,\n",
       "       -1.27470279e+01,  2.98116744e-01, -1.49362445e+01,  1.00309847e+01,\n",
       "        2.63666493e+00,  2.17220700e+01,  1.18854640e+01,  2.26777632e+01,\n",
       "        6.33493687e+00,  1.29996268e+01,  2.40911475e+02, -3.55207944e+00,\n",
       "        2.96804283e+01,  6.29157358e+01, -6.87908629e+01, -7.97284684e+00,\n",
       "       -1.35737590e+01, -4.05602280e+01, -7.83565982e-04, -1.19047846e+01,\n",
       "        1.96874642e-03,  1.39657250e+01,  2.78080362e+01,  7.64773655e-01,\n",
       "        3.41440788e+01, -2.51580761e+02, -1.70718752e+01,  1.38335965e+01,\n",
       "       -1.55369910e+01, -8.86951581e+01, -4.94053649e+01,  9.75257739e-01,\n",
       "       -2.33335187e+01, -1.00691681e+01,  7.17355331e+01,  2.73105406e+01,\n",
       "       -3.26308823e+01,  4.21878487e+01,  2.99454153e+01, -5.25204284e+01,\n",
       "       -5.05271407e+01,  1.12223337e+00, -6.75429664e-04, -4.35086013e-01,\n",
       "       -1.26881575e+01, -3.31113641e+00, -3.43262727e-04, -2.85006028e+02,\n",
       "        2.75156109e+02, -1.73759280e+01, -1.07142605e+01,  2.36366771e+01,\n",
       "       -4.37202416e+01,  1.76313991e-01,  3.88822235e+00, -1.10842337e+02,\n",
       "        3.28055643e+01, -3.83614318e+01, -1.48782861e+01, -4.80092758e+00,\n",
       "        3.46257031e-04,  1.77852514e+02, -4.19625223e+01,  1.91377023e+02,\n",
       "       -2.08814691e-04, -1.77871035e+02, -3.16414053e+01,  1.51361031e+01,\n",
       "        1.79550990e-01,  3.79387774e-01, -1.73673666e+00, -3.42040449e+00,\n",
       "        2.18419261e+01,  4.61772914e+01, -3.41331188e+01, -6.83964938e+01,\n",
       "        1.07732315e+01, -1.48732819e+02,  1.24787979e-03])"
      ]
     },
     "execution_count": 37,
     "metadata": {},
     "output_type": "execute_result"
    }
   ],
   "source": [
    "model.coef_"
   ]
  },
  {
   "cell_type": "code",
   "execution_count": 38,
   "metadata": {
    "scrolled": true
   },
   "outputs": [
    {
     "data": {
      "text/plain": [
       "0        0\n",
       "1        0\n",
       "2        0\n",
       "3        9\n",
       "4     -114\n",
       "5       -3\n",
       "6       -4\n",
       "7        0\n",
       "8        0\n",
       "9      -18\n",
       "10     -15\n",
       "11       3\n",
       "12      29\n",
       "13     -15\n",
       "14     478\n",
       "15    -174\n",
       "16      30\n",
       "17      88\n",
       "18      -1\n",
       "19      47\n",
       "20       0\n",
       "21      -2\n",
       "22     -21\n",
       "23     -20\n",
       "24     -82\n",
       "25     -95\n",
       "26     -17\n",
       "27       1\n",
       "28    -177\n",
       "29     -11\n",
       "      ... \n",
       "185    -17\n",
       "186    -10\n",
       "187     23\n",
       "188    -43\n",
       "189      0\n",
       "190      3\n",
       "191   -110\n",
       "192     32\n",
       "193    -38\n",
       "194    -14\n",
       "195     -4\n",
       "196      0\n",
       "197    177\n",
       "198    -41\n",
       "199    191\n",
       "200      0\n",
       "201   -177\n",
       "202    -31\n",
       "203     15\n",
       "204      0\n",
       "205      0\n",
       "206     -1\n",
       "207     -3\n",
       "208     21\n",
       "209     46\n",
       "210    -34\n",
       "211    -68\n",
       "212     10\n",
       "213   -148\n",
       "214      0\n",
       "Length: 215, dtype: int64"
      ]
     },
     "execution_count": 38,
     "metadata": {},
     "output_type": "execute_result"
    }
   ],
   "source": [
    "pd.Series(model.coef_).astype(int)"
   ]
  },
  {
   "cell_type": "code",
   "execution_count": 39,
   "metadata": {},
   "outputs": [
    {
     "data": {
      "text/plain": [
       "-6494.421409884282"
      ]
     },
     "execution_count": 39,
     "metadata": {},
     "output_type": "execute_result"
    }
   ],
   "source": [
    "model.intercept_"
   ]
  },
  {
   "cell_type": "code",
   "execution_count": 40,
   "metadata": {},
   "outputs": [
    {
     "data": {
      "text/plain": [
       "Unnamed: 0                               6.259357e+04\n",
       "lead_organizer_created_at_pdt_hour       4.782270e+00\n",
       "creator_id                               2.835762e+04\n",
       "claimed_at_pdt_hour_14                   2.110560e-01\n",
       "origin_region_name_East Bay South        1.291162e-01\n",
       "scheduled_starts_at_pdt_month            3.471655e+00\n",
       "carpool_int                              1.312920e-01\n",
       "scheduled_starts_at_pdt_weekofyear       1.507374e+01\n",
       "scheduled_starts_at_pdt_hour_2           0.000000e+00\n",
       "origin_region_name_Central LA - West     2.467008e-01\n",
       "claimed_at_pdt_weekday_5                 2.344145e-01\n",
       "lead_organizer_created_at_pdt_quarter    8.076552e-01\n",
       "claimed_at_pdt_month_3                   2.793281e-01\n",
       "claimed_at_pdt_hour_8                    2.012094e-01\n",
       "total_predicted_duration                 1.252958e+01\n",
       "scheduled_starts_at_pdt_weekday          1.357037e+00\n",
       "claimed_at_pdt_month_10                  3.337243e-01\n",
       "lead_organizer_platform_web              7.853678e-02\n",
       "is_same_day_ride_int                     1.590459e-01\n",
       "origin_region_name_Tri Valley            1.269005e-01\n",
       "driver_created_at_pdt_hour               2.327039e+00\n",
       "passengers_count                         5.874265e-01\n",
       "organizer_home_lat                       3.493593e+00\n",
       "scheduled_starts_at_pdt_weekday_4        3.646652e-01\n",
       "driver_home_lat                          1.476480e+00\n",
       "origin_region_name_North Bay             8.977842e-02\n",
       "scheduled_starts_at_pdt_weekday_3        4.145787e-01\n",
       "total_predicted_distance_miles           5.668047e+00\n",
       "scheduled_starts_at_pdt_dayofyear        1.054582e+02\n",
       "scheduled_starts_at_pdt_weekday_1        4.133796e-01\n",
       "                                             ...     \n",
       "coupon_consumed                          7.915962e-02\n",
       "scheduled_starts_at_pdt_month_6          2.505018e-01\n",
       "claimed_at_pdt_month_5                   2.864879e-01\n",
       "scheduled_starts_at_pdt_hour_4           2.043462e-02\n",
       "created_at_pdt_weekday                   2.166007e+00\n",
       "claimed_at_pdt_month_4                   2.604898e-01\n",
       "scheduled_starts_at_pdt_hour_3           3.153774e-03\n",
       "scheduled_starts_at_pdt_month_12         2.637374e-01\n",
       "origin_region_name_Southeast LA          6.079670e-02\n",
       "scheduled_starts_at_pdt_hour_17          2.635451e-01\n",
       "scheduled_starts_at_pdt_hour_20          8.857118e-02\n",
       "org_signup_before_trip_start_secs        1.297236e+07\n",
       "scheduled_ends_at_pdt_dayofyear          1.054582e+02\n",
       "claimed_at_pdt_hour_5                    1.150550e-01\n",
       "origin_lat                               1.466141e+00\n",
       "id                                       9.032390e+04\n",
       "scheduled_starts_at_pdt_day              8.724887e+00\n",
       "claimed_at_pdt_hour_3                    6.835683e-02\n",
       "origin_region_name_South Bay             2.274818e-01\n",
       "claimed_after_created                    3.024465e+04\n",
       "destination_region_id                    1.422844e+01\n",
       "claimed_at_pdt_hour_6                    1.799625e-01\n",
       "organizers_count                         1.717336e-01\n",
       "scheduled_starts_at_pdt_hour_5           3.729015e-02\n",
       "scheduled_starts_at_pdt_hour_6           1.417350e-01\n",
       "origin_region_name_Ventura               7.248199e-02\n",
       "lead_organizer_created_at_pdt_month      2.500288e+00\n",
       "scheduled_starts_at_pdt_month_2          2.649988e-01\n",
       "origin_region_name_Pomona Valley         2.618835e-02\n",
       "driver_id                                3.646652e+04\n",
       "Length: 215, dtype: float64"
      ]
     },
     "execution_count": 40,
     "metadata": {},
     "output_type": "execute_result"
    }
   ],
   "source": [
    "X_train.std()"
   ]
  },
  {
   "cell_type": "code",
   "execution_count": 41,
   "metadata": {},
   "outputs": [
    {
     "name": "stdout",
     "output_type": "stream",
     "text": [
      "scheduled_starts_at_pdt_hour_3                    -35145\n",
      "origin_region_name_Pomona Valley                   -5679\n",
      "origin_region_name_East Contra Costa               -5677\n",
      "origin_region_name_antelope-valley                 -2439\n",
      "scheduled_starts_at_pdt_hour_4                     -2139\n",
      "origin_region_name_North Bay                       -1059\n",
      "scheduled_starts_at_pdt_weekday_6                  -1044\n",
      "driver_gender_male                                  -935\n",
      "origin_region_name_East Bay North                   -898\n",
      "origin_region_name_East Bay South                   -889\n",
      "origin_region_name_Inland Empire                    -821\n",
      "scheduled_starts_at_pdt_hour_21                     -760\n",
      "claimed_at_pdt_hour_4                               -632\n",
      "origin_region_name_Southeast LA                     -630\n",
      "origin_region_name_San Francisco                    -524\n",
      "origin_region_name_Ventura                          -470\n",
      "claimed_at_pdt_hour_3                               -462\n",
      "origin_region_name_South LA                         -408\n",
      "origin_region_name_Santa Clarita                    -390\n",
      "claimed_at_pdt_hour_5                               -364\n",
      "claimed_at_pdt_hour_2                               -338\n",
      "scheduled_starts_at_pdt_hour_19                     -308\n",
      "origin_region_name_Peninsula South                  -303\n",
      "origin_region_name_Westside                         -293\n",
      "origin_region_name_Lamorinda Walnut Creek           -289\n",
      "origin_region_name_San Fernando Valley - West       -270\n",
      "origin_region_name_Central LA - South               -241\n",
      "coupon_consumed                                     -219\n",
      "claimed_at_pdt_hour_1                               -197\n",
      "claimed_at_pdt_month_12                             -169\n",
      "origin_region_name_Oakland Berkeley                 -148\n",
      "scheduled_starts_at_pdt_hour_14                     -140\n",
      "origin_region_name_San Fernando Valley - East       -130\n",
      "scheduled_starts_at_pdt_hour_10                     -128\n",
      "scheduled_starts_at_pdt_weekday                     -128\n",
      "scheduled_starts_at_pdt_hour_9                      -123\n",
      "scheduled_starts_at_pdt_hour_13                     -116\n",
      "origin_region_name_Long Beach                       -110\n",
      "scheduled_starts_at_pdt_hour_11                     -109\n",
      "is_affiliate_int                                    -100\n",
      "drivers_prev_ride_1hr_int                            -93\n",
      "scheduled_starts_at_pdt_month_8                      -92\n",
      "driver_created_at_pdt_quarter                        -78\n",
      "claimed_at_pdt_hour_8                                -76\n",
      "scheduled_starts_at_pdt_quarter_2                    -75\n",
      "scheduled_starts_at_pdt_hour_18                      -74\n",
      "origin_region_name_Central LA - West                 -74\n",
      "claimed_at_pdt_month_9                               -74\n",
      "scheduled_starts_at_pdt_quarter_3                    -73\n",
      "created_at_pdt_month                                 -71\n",
      "claimed_at_pdt_quarter_4                             -71\n",
      "claimed_at_pdt_month_11                              -70\n",
      "claimed_at_pdt_weekday_5                             -64\n",
      "scheduled_starts_at_pdt_month_7                      -62\n",
      "scheduled_starts_at_pdt_month_3                      -59\n",
      "scheduled_starts_at_pdt_hour_17                      -56\n",
      "driver_home_lat                                      -56\n",
      "scheduled_starts_at_pdt_weekday_4                    -55\n",
      "claimed_at_pdt_hour_20                               -54\n",
      "scheduled_starts_at_pdt_hour_20                      -54\n",
      "claimed_at_pdt_hour_19                               -53\n",
      "claimed_at_pdt_hour_18                               -53\n",
      "scheduled_starts_at_pdt_weekday_2                    -48\n",
      "origin_region_name_San Jose                          -48\n",
      "scheduled_starts_at_pdt_weekday_3                    -42\n",
      "scheduled_starts_at_pdt_month_6                      -42\n",
      "scheduled_starts_at_pdt_hour_16                      -40\n",
      "scheduled_starts_at_pdt_month_4                      -40\n",
      "scheduled_starts_at_pdt_month_10                     -37\n",
      "scheduled_starts_at_pdt_hour_15                      -37\n",
      "scheduled_starts_at_pdt_month_5                      -37\n",
      "claimed_at_pdt_hour_17                               -36\n",
      "carpool_int                                          -34\n",
      "claimed_at_pdt_hour_13                               -33\n",
      "scheduled_starts_at_pdt_weekday_1                    -28\n",
      "lead_organizer_created_at_pdt_month                  -27\n",
      "scheduled_starts_at_pdt_day                          -20\n",
      "is_repeating_ride_int                                -20\n",
      "organizers_count                                     -19\n",
      "created_at_pdt_quarter                               -13\n",
      "scheduled_starts_at_pdt_hour                         -10\n",
      "claimed_at_pdt_hour_11                               -10\n",
      "claimed_at_pdt_hour_6                                 -9\n",
      "claimed_at_pdt_month_2                                -9\n",
      "is_same_day_ride_int                                  -6\n",
      "organizer_home_lat                                    -6\n",
      "passengers_count                                      -3\n",
      "origin_lon                                            -3\n",
      "scheduled_starts_at_pdt_quarter                       -3\n",
      "scheduled_ends_at_pdt_quarter                         -3\n",
      "driver_home_lon                                       -1\n",
      "scheduled_starts_at_pdt_dayofyear                     -1\n",
      "driver_created_at_pdt_weekday                         -1\n",
      "scheduled_starts_at_pdt_month                         -1\n",
      "scheduled_ends_at_pdt_month                           -1\n",
      "created_at_pdt_day                                     0\n",
      "organizer_home_lon                                     0\n",
      "predicted_driver_fare                                  0\n",
      "driver_created_at_pdt_weekofyear                       0\n",
      "driver_created_at_pdt_dayofyear                        0\n",
      "lead_organizer_created_at_pdt_day                      0\n",
      "claimed_at_pdt_weekday                                 0\n",
      "claimed_at_pdt_hour                                    0\n",
      "created_at_pdt_hour                                    0\n",
      "claimed_at_pdt_weekofyear                              0\n",
      "scheduled_ends_at_pdt_weekofyear                       0\n",
      "scheduled_starts_at_pdt_weekofyear                     0\n",
      "trip_est_duration_secs                                 0\n",
      "claimed_at_pdt_dayofyear                               0\n",
      "lead_organizer_previous_completed_trips                0\n",
      "creator_id                                             0\n",
      "destination_location_id                                0\n",
      "id                                                     0\n",
      "trip_created_before_trip_start_secs                    0\n",
      "Unnamed: 0                                             0\n",
      "org_signup_before_trip_created_secs                    0\n",
      "driver_signup_before_trip_start_secs                   0\n",
      "driver_signup_before_trip_claimed_secs                 0\n",
      "driver_signup_before_org_signup_secs                   0\n",
      "org_signup_before_trip_start_secs                      0\n",
      "driver_signup_before_trip_created_secs                 0\n",
      "trip_claimed_after_trip_created                        0\n",
      "origin_location_id                                     0\n",
      "claimed_before_trip_start_secs                         0\n",
      "driver_id                                              0\n",
      "lead_organizer_id                                      0\n",
      "trip_template_id                                       0\n",
      "claimed_after_created                                  0\n",
      "driver_previous_completed_trips                        0\n",
      "claimed_at_pdt_day                                     0\n",
      "lead_organizer_created_at_pdt_dayofyear                0\n",
      "destination_region_id                                  0\n",
      "created_at_pdt_dayofyear                               0\n",
      "trip_predicted_raw_fare                                0\n",
      "created_at_pdt_weekday                                 0\n",
      "lead_organizer_created_at_pdt_hour                     0\n",
      "driver_created_at_pdt_hour                             0\n",
      "created_at_pdt_weekofyear                              0\n",
      "total_predicted_distance_miles                         0\n",
      "origin_region_id                                       0\n",
      "lead_organizer_created_at_pdt_weekofyear               0\n",
      "lead_organizer_created_at_pdt_weekday                  0\n",
      "claimed_at_pdt_hour_7                                  0\n",
      "claimed_at_pdt_weekday_6                               0\n",
      "scheduled_ends_at_pdt_dayofyear                        1\n",
      "claimed_at_pdt_month                                   1\n",
      "claimed_at_pdt_hour_12                                 2\n",
      "driver_created_at_pdt_day                              2\n",
      "lead_organizer_created_at_pdt_quarter                  4\n",
      "destination_lon                                        4\n",
      "scheduled_ends_at_pdt_hour                             7\n",
      "claimed_at_pdt_hour_21                                 8\n",
      "claimed_at_pdt_weekday_4                               8\n",
      "claimed_at_pdt_quarter                                10\n",
      "claimed_at_pdt_month_4                                14\n",
      "scheduled_starts_at_pdt_month_9                       18\n",
      "scheduled_ends_at_pdt_day                             20\n",
      "claimed_at_pdt_weekday_3                              22\n",
      "destination_lat                                       24\n",
      "route_legs_count                                      27\n",
      "driver_has_driven_this_route_before_int               27\n",
      "scheduled_starts_at_pdt_month_11                      31\n",
      "claimed_at_pdt_weekday_2                              34\n",
      "claimed_at_pdt_weekday_1                              34\n",
      "total_predicted_duration                              38\n",
      "claimed_at_pdt_hour_16                                38\n",
      "scheduled_starts_at_pdt_month_2                       40\n",
      "claimed_at_pdt_hour_14                                44\n",
      "claimed_at_pdt_hour_15                                47\n",
      "claimed_at_pdt_month_6                                58\n",
      "claimed_at_pdt_month_8                                60\n",
      "scheduled_starts_at_pdt_quarter_4                     64\n",
      "claimed_at_pdt_hour_10                                65\n",
      "origin_region_name_South Bay                          66\n",
      "origin_region_name_San Gabriel Valley - West          76\n",
      "claimed_at_pdt_quarter_3                              79\n",
      "scheduled_starts_at_pdt_hour_12                       80\n",
      "claimed_at_pdt_month_5                                82\n",
      "claimed_at_pdt_hour_22                                85\n",
      "claimed_at_pdt_month_10                               91\n",
      "claimed_at_pdt_quarter_2                              99\n",
      "claimed_at_pdt_hour_9                                104\n",
      "claimed_at_pdt_month_3                               104\n",
      "lead_organizer_platform_ios                          107\n",
      "scheduled_starts_at_pdt_month_12                     124\n",
      "origin_lat                                           130\n",
      "scheduled_ends_at_pdt_weekday                        133\n",
      "origin_region_name_Eastside                          135\n",
      "scheduled_starts_at_pdt_hour_8                       157\n",
      "claimed_at_pdt_hour_23                               178\n",
      "claimed_at_pdt_month_7                               189\n",
      "origin_region_name_Orange County - Central           190\n",
      "scheduled_starts_at_pdt_hour_7                       192\n",
      "origin_region_name_Orange County - North             203\n",
      "origin_region_name_San Gabriel Valley - South        207\n",
      "driver_created_at_pdt_month                          267\n",
      "shuttle_int                                          279\n",
      "scheduled_starts_at_pdt_hour_6                       325\n",
      "origin_region_name_Tri Valley                        376\n",
      "origin_region_name_Orange County - West              482\n",
      "origin_region_name_Orange County - South             491\n",
      "origin_analysis_metro_name_LA                        581\n",
      "scheduled_starts_at_pdt_hour_5                       585\n",
      "origin_region_name_Peninsula North                   660\n",
      "origin_region_name_San Gabriel Valley - East         667\n",
      "origin_analysis_metro_name_OC                        689\n",
      "scheduled_starts_at_pdt_weekday_5                    939\n",
      "lead_organizer_platform_web                         1131\n",
      "scheduled_starts_at_pdt_hour_22                     1557\n",
      "origin_region_name_Malibu                           2619\n",
      "scheduled_starts_at_pdt_hour_23                     5057\n",
      "origin_region_name_Default (Unassigned)            24547\n",
      "origin_analysis_metro_name_Default (Unassigned)    24547\n"
     ]
    }
   ],
   "source": [
    "# normalize the linear model coefficients by the standard deviation to see which features are most important\n",
    "# use print to see every feature not just first 20 and last 20\n",
    "print((model.coef_/X_train.std()).sort_values(axis=0).replace([np.inf, -np.inf], np.nan).dropna().astype(int).to_string())"
   ]
  },
  {
   "cell_type": "code",
   "execution_count": 42,
   "metadata": {},
   "outputs": [
    {
     "data": {
      "text/plain": [
       "0.05481997076111856"
      ]
     },
     "execution_count": 42,
     "metadata": {},
     "output_type": "execute_result"
    }
   ],
   "source": [
    "# score against TRAINING set\n",
    "model.score(X_train,y_train)"
   ]
  },
  {
   "cell_type": "code",
   "execution_count": 43,
   "metadata": {},
   "outputs": [
    {
     "data": {
      "text/plain": [
       "0.05210928495282685"
      ]
     },
     "execution_count": 43,
     "metadata": {},
     "output_type": "execute_result"
    }
   ],
   "source": [
    "# score against TEST set\n",
    "model.score(X_test,y_test)"
   ]
  },
  {
   "cell_type": "code",
   "execution_count": 44,
   "metadata": {},
   "outputs": [
    {
     "data": {
      "text/plain": [
       "25135"
      ]
     },
     "execution_count": 44,
     "metadata": {},
     "output_type": "execute_result"
    }
   ],
   "source": [
    "model_y_test_pred = model.predict(X_test)\n",
    "model_y_test_pred.size"
   ]
  },
  {
   "cell_type": "code",
   "execution_count": 45,
   "metadata": {},
   "outputs": [
    {
     "data": {
      "text/plain": [
       "numpy.ndarray"
      ]
     },
     "execution_count": 45,
     "metadata": {},
     "output_type": "execute_result"
    }
   ],
   "source": [
    "type(model_y_test_pred)"
   ]
  },
  {
   "cell_type": "code",
   "execution_count": 46,
   "metadata": {},
   "outputs": [
    {
     "data": {
      "text/plain": [
       "array([-337.07703602, -456.81456881, -483.54349511, -582.88394794,\n",
       "       -486.08087179, -440.92981934, -291.39203378, -455.45163583,\n",
       "       -530.09586564, -346.35708708])"
      ]
     },
     "execution_count": 46,
     "metadata": {},
     "output_type": "execute_result"
    }
   ],
   "source": [
    "model_y_test_pred[:10]"
   ]
  },
  {
   "cell_type": "code",
   "execution_count": 47,
   "metadata": {},
   "outputs": [
    {
     "data": {
      "text/plain": [
       "118.05080187748986"
      ]
     },
     "execution_count": 47,
     "metadata": {},
     "output_type": "execute_result"
    }
   ],
   "source": [
    "pd.Series(model_y_test_pred).std()"
   ]
  },
  {
   "cell_type": "code",
   "execution_count": 48,
   "metadata": {},
   "outputs": [
    {
     "data": {
      "text/plain": [
       "-0.006922137026179084"
      ]
     },
     "execution_count": 48,
     "metadata": {},
     "output_type": "execute_result"
    }
   ],
   "source": [
    "pd.Series(model_y_test_pred).corr(y_test)"
   ]
  },
  {
   "cell_type": "code",
   "execution_count": 49,
   "metadata": {},
   "outputs": [
    {
     "name": "stdout",
     "output_type": "stream",
     "text": [
      "0.052 8.31 248752 0.052 373 284 4.73\n"
     ]
    }
   ],
   "source": [
    "# regression metrics\n",
    "from sklearn.metrics import explained_variance_score, mean_squared_error, r2_score, mean_absolute_error, median_absolute_error\n",
    "from math import sqrt\n",
    "print (\"%.3f %.2f %.0f %.3f %.0f %.0f %.2f\" % \n",
    "       (explained_variance_score(y_test, model_y_test_pred),\n",
    "        sqrt(mean_squared_error(y_test, model_y_test_pred))/60, # sqrt of MSE in minutes\n",
    "        mean_squared_error(y_test, model_y_test_pred), \n",
    "        r2_score(y_test, model_y_test_pred), \n",
    "        mean_absolute_error(y_test, model_y_test_pred), \n",
    "        median_absolute_error(y_test, model_y_test_pred),\n",
    "        median_absolute_error(y_test, model_y_test_pred)/60 # MAE in minutes\n",
    "       ))"
   ]
  },
  {
   "cell_type": "code",
   "execution_count": 50,
   "metadata": {},
   "outputs": [
    {
     "data": {
      "text/plain": [
       "array([  0., 300., 900.])"
      ]
     },
     "execution_count": 50,
     "metadata": {},
     "output_type": "execute_result"
    }
   ],
   "source": [
    "# make classifications from seconds late target\n",
    "bins = np.array([0.0, 5*60, 15*60]) # 0 on-time, 1 almost on-time, 2 late, 3 extremely late\n",
    "bins"
   ]
  },
  {
   "cell_type": "code",
   "execution_count": 51,
   "metadata": {},
   "outputs": [
    {
     "data": {
      "text/plain": [
       "array([1, 1, 0, 0, 0, 1, 0, 0, 1, 0])"
      ]
     },
     "execution_count": 51,
     "metadata": {},
     "output_type": "execute_result"
    }
   ],
   "source": [
    "np.digitize(y_test, bins)[:10]"
   ]
  },
  {
   "cell_type": "code",
   "execution_count": 52,
   "metadata": {
    "scrolled": true
   },
   "outputs": [
    {
     "name": "stdout",
     "output_type": "stream",
     "text": [
      "[[    0 21156]\n",
      " [    1  2939]\n",
      " [    2   892]\n",
      " [    3   148]]\n"
     ]
    }
   ],
   "source": [
    "# materialize y_test_class array\n",
    "# check to see how many trips are categorized as 0 on-time, 1 almost on-time, 2 late, 3 extremely late\n",
    "y_test_class=np.digitize(y_test, bins)\n",
    "unique, counts = np.unique(y_test_class, return_counts=True)\n",
    "print(np.asarray((unique, counts)).T)"
   ]
  },
  {
   "cell_type": "code",
   "execution_count": 53,
   "metadata": {},
   "outputs": [
    {
     "name": "stdout",
     "output_type": "stream",
     "text": [
      "[[    0 25122]\n",
      " [    1    13]]\n"
     ]
    }
   ],
   "source": [
    "# materialize model_y_pred_class\n",
    "# check to see how many trips are categorized as 0 on-time, 1 almost on-time, 2 late, 3 extremely late\n",
    "model_y_test_pred_class=np.digitize(model_y_test_pred, bins)\n",
    "print(np.asarray(np.unique(model_y_test_pred_class, return_counts=True)).T)"
   ]
  },
  {
   "cell_type": "code",
   "execution_count": 54,
   "metadata": {},
   "outputs": [
    {
     "name": "stdout",
     "output_type": "stream",
     "text": [
      "             precision    recall  f1-score   support\n",
      "\n",
      "          0       0.84      1.00      0.91     21156\n",
      "          1       0.15      0.00      0.00      2939\n",
      "          2       0.00      0.00      0.00       892\n",
      "          3       0.00      0.00      0.00       148\n",
      "\n",
      "avg / total       0.73      0.84      0.77     25135\n",
      "\n"
     ]
    },
    {
     "name": "stderr",
     "output_type": "stream",
     "text": [
      "/Applications/anaconda3/lib/python3.6/site-packages/sklearn/metrics/classification.py:1135: UndefinedMetricWarning: Precision and F-score are ill-defined and being set to 0.0 in labels with no predicted samples.\n",
      "  'precision', 'predicted', average, warn_for)\n"
     ]
    }
   ],
   "source": [
    "from sklearn.metrics import classification_report\n",
    "print(classification_report(y_test_class,model_y_test_pred_class))"
   ]
  },
  {
   "cell_type": "code",
   "execution_count": 55,
   "metadata": {},
   "outputs": [
    {
     "name": "stdout",
     "output_type": "stream",
     "text": [
      "[[21146    10     0     0]\n",
      " [ 2937     2     0     0]\n",
      " [  891     1     0     0]\n",
      " [  148     0     0     0]]\n"
     ]
    }
   ],
   "source": [
    "from sklearn.metrics import confusion_matrix\n",
    "print(confusion_matrix(y_test_class,model_y_test_pred_class,labels=[0,1,2,3]))"
   ]
  },
  {
   "cell_type": "code",
   "execution_count": null,
   "metadata": {},
   "outputs": [],
   "source": []
  }
 ],
 "metadata": {
  "kernelspec": {
   "display_name": "Python 3",
   "language": "python",
   "name": "python3"
  },
  "language_info": {
   "codemirror_mode": {
    "name": "ipython",
    "version": 3
   },
   "file_extension": ".py",
   "mimetype": "text/x-python",
   "name": "python",
   "nbconvert_exporter": "python",
   "pygments_lexer": "ipython3",
   "version": "3.6.5"
  }
 },
 "nbformat": 4,
 "nbformat_minor": 2
}
