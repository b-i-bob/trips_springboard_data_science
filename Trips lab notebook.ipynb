{
 "cells": [
  {
   "cell_type": "markdown",
   "metadata": {},
   "source": [
    "## Trip Lab notebook\n",
    "exploring trips dataset"
   ]
  },
  {
   "cell_type": "code",
   "execution_count": 2,
   "metadata": {},
   "outputs": [],
   "source": [
    "import pandas as pd\n",
    "import numpy as np"
   ]
  },
  {
   "cell_type": "code",
   "execution_count": 3,
   "metadata": {},
   "outputs": [],
   "source": [
    "df=pd.read_csv('/Users/bob 2/Projects/TripsData2017.txt', sep='\\t')"
   ]
  },
  {
   "cell_type": "code",
   "execution_count": 4,
   "metadata": {},
   "outputs": [
    {
     "data": {
      "text/plain": [
       "(217348, 74)"
      ]
     },
     "execution_count": 4,
     "metadata": {},
     "output_type": "execute_result"
    }
   ],
   "source": [
    "df.shape"
   ]
  },
  {
   "cell_type": "code",
   "execution_count": 5,
   "metadata": {},
   "outputs": [
    {
     "data": {
      "text/plain": [
       "['id',\n",
       " 'trip_state',\n",
       " 'canceled_by',\n",
       " 'canceled_at_pdt',\n",
       " 'canceled_before_scheduled_start',\n",
       " 'claimed_at_pdt',\n",
       " 'driver_id',\n",
       " 'lead_organizer_id',\n",
       " 'creator_id',\n",
       " 'carpool',\n",
       " 'is_repeating_ride',\n",
       " 'shuttle',\n",
       " 'trip_template_id',\n",
       " 'departs_for_trip_at_pdt',\n",
       " 'time_anchor',\n",
       " 'created_at_pdt',\n",
       " 'scheduled_starts_at_pdt',\n",
       " 'scheduled_ends_at_pdt',\n",
       " 'origin_arrived_at_pdt',\n",
       " 'origin_departed_at_pdt',\n",
       " 'destination_arrived_at_pdt',\n",
       " 'origin_location_id',\n",
       " 'destination_location_id',\n",
       " 'origin_region_id',\n",
       " 'origin_analysis_metro_name',\n",
       " 'destination_region_id',\n",
       " 'destination_region_name',\n",
       " 'origin_region_name',\n",
       " 'origin_metro_area_name',\n",
       " 'destination_metro_area_name',\n",
       " 'destination_analysis_metro_name',\n",
       " 'origin_lat',\n",
       " 'origin_lon',\n",
       " 'destination_lat',\n",
       " 'destination_lon',\n",
       " 'passengers_ids',\n",
       " 'organizers_count',\n",
       " 'passengers_count',\n",
       " 'driver_home_lat',\n",
       " 'driver_home_lon',\n",
       " 'organizer_home_lat',\n",
       " 'organizer_home_lon',\n",
       " 'rating',\n",
       " 'canceled_by_id',\n",
       " 'route_legs_count',\n",
       " 'start_waypoints_zipcodes',\n",
       " 'end_waypoints_zipcodes',\n",
       " 'total_predicted_distance_miles',\n",
       " 'total_predicted_duration',\n",
       " 'trip_paid_time',\n",
       " 'is_affiliate',\n",
       " 'lead_organizer_platform',\n",
       " 'lead_organizer_app_version',\n",
       " 'driver_platform',\n",
       " 'driver_app_version',\n",
       " 'driver_gender',\n",
       " 'driver_fare_multiplier',\n",
       " 'lead_organizer_created_at_pdt',\n",
       " 'driver_created_at_pdt',\n",
       " 'coupon',\n",
       " 'coupon_consumed',\n",
       " 'events',\n",
       " 'has_cd_unclaimed_event',\n",
       " 'driver_previous_completed_trips',\n",
       " 'lead_organizer_previous_completed_trips',\n",
       " 'commute_distance',\n",
       " 'claimed_after_created',\n",
       " 'is_unfilled_canceled',\n",
       " 'is_cd_cancel',\n",
       " 'is_same_day_ride',\n",
       " 'trip_predicted_raw_fare',\n",
       " 'predicted_driver_fare',\n",
       " 'predicted_driver_fare_with_multiplier',\n",
       " 'driver_has_driven_this_route_before']"
      ]
     },
     "execution_count": 5,
     "metadata": {},
     "output_type": "execute_result"
    }
   ],
   "source": [
    "list(df)"
   ]
  },
  {
   "cell_type": "code",
   "execution_count": 6,
   "metadata": {},
   "outputs": [
    {
     "name": "stdout",
     "output_type": "stream",
     "text": [
      "<class 'pandas.core.frame.DataFrame'>\n",
      "RangeIndex: 217348 entries, 0 to 217347\n",
      "Columns: 74 entries, id to driver_has_driven_this_route_before\n",
      "dtypes: bool(8), float64(29), int64(5), object(32)\n",
      "memory usage: 111.1+ MB\n"
     ]
    }
   ],
   "source": [
    "df.info(verbose=False)"
   ]
  },
  {
   "cell_type": "code",
   "execution_count": 27,
   "metadata": {},
   "outputs": [],
   "source": [
    "columns='origin_region_name  destination_region_name trip_paid_time'.split()"
   ]
  },
  {
   "cell_type": "code",
   "execution_count": 28,
   "metadata": {},
   "outputs": [
    {
     "data": {
      "text/plain": [
       "['origin_region_name', 'destination_region_name', 'trip_paid_time']"
      ]
     },
     "execution_count": 28,
     "metadata": {},
     "output_type": "execute_result"
    }
   ],
   "source": [
    "columns"
   ]
  },
  {
   "cell_type": "code",
   "execution_count": 29,
   "metadata": {},
   "outputs": [],
   "source": [
    "df_small=df.loc[df['trip_state'] == 'complete'][columns].dropna()"
   ]
  },
  {
   "cell_type": "markdown",
   "metadata": {},
   "source": [
    "#### filter for only trips in complete trip_state, select columns needed, drop NULLs to predict trip time from region orgin and region dest"
   ]
  },
  {
   "cell_type": "code",
   "execution_count": 30,
   "metadata": {},
   "outputs": [
    {
     "data": {
      "text/plain": [
       "(124144, 3)"
      ]
     },
     "execution_count": 30,
     "metadata": {},
     "output_type": "execute_result"
    }
   ],
   "source": [
    "df_small.shape"
   ]
  },
  {
   "cell_type": "markdown",
   "metadata": {},
   "source": [
    "#### convert region name vectors into one hot representations, 36 dummy vectors for each origin and destination"
   ]
  },
  {
   "cell_type": "code",
   "execution_count": 32,
   "metadata": {},
   "outputs": [],
   "source": [
    "df_origin_dummies = pd.get_dummies(df_small['origin_region_name'])"
   ]
  },
  {
   "cell_type": "code",
   "execution_count": 35,
   "metadata": {},
   "outputs": [
    {
     "data": {
      "text/plain": [
       "(124144, 36)"
      ]
     },
     "execution_count": 35,
     "metadata": {},
     "output_type": "execute_result"
    }
   ],
   "source": [
    "df_origin_dummies.shape"
   ]
  },
  {
   "cell_type": "code",
   "execution_count": 33,
   "metadata": {
    "collapsed": true
   },
   "outputs": [
    {
     "data": {
      "text/plain": [
       "<bound method NDFrame.head of         Central LA - North  Central LA - South  Central LA - West  \\\n",
       "5                        0                   0                  0   \n",
       "6                        1                   0                  0   \n",
       "7                        0                   0                  0   \n",
       "8                        0                   0                  0   \n",
       "9                        0                   0                  0   \n",
       "10                       0                   0                  0   \n",
       "11                       0                   0                  0   \n",
       "12                       0                   0                  0   \n",
       "13                       0                   0                  0   \n",
       "14                       0                   0                  0   \n",
       "15                       0                   0                  0   \n",
       "17                       0                   0                  0   \n",
       "18                       0                   0                  0   \n",
       "22                       0                   0                  0   \n",
       "23                       0                   0                  0   \n",
       "24                       0                   0                  0   \n",
       "25                       0                   0                  0   \n",
       "26                       0                   0                  0   \n",
       "27                       0                   0                  0   \n",
       "28                       0                   0                  0   \n",
       "31                       0                   0                  0   \n",
       "32                       1                   0                  0   \n",
       "33                       0                   0                  1   \n",
       "34                       0                   0                  0   \n",
       "35                       0                   0                  0   \n",
       "36                       0                   0                  0   \n",
       "37                       0                   0                  0   \n",
       "38                       0                   0                  0   \n",
       "39                       0                   0                  0   \n",
       "40                       0                   0                  1   \n",
       "...                    ...                 ...                ...   \n",
       "212988                   0                   0                  0   \n",
       "212989                   0                   0                  0   \n",
       "212990                   0                   0                  0   \n",
       "212992                   0                   0                  0   \n",
       "212993                   0                   0                  0   \n",
       "212994                   0                   0                  0   \n",
       "212995                   0                   0                  0   \n",
       "212998                   0                   0                  0   \n",
       "213000                   0                   0                  1   \n",
       "213001                   0                   0                  0   \n",
       "213003                   0                   0                  0   \n",
       "213004                   0                   0                  0   \n",
       "213006                   0                   0                  0   \n",
       "213007                   0                   0                  0   \n",
       "213009                   0                   0                  0   \n",
       "213012                   0                   0                  1   \n",
       "213013                   0                   1                  0   \n",
       "213014                   1                   0                  0   \n",
       "213016                   0                   0                  0   \n",
       "213017                   0                   0                  0   \n",
       "213018                   0                   0                  0   \n",
       "213020                   0                   0                  0   \n",
       "213022                   0                   0                  0   \n",
       "213023                   0                   0                  0   \n",
       "213024                   0                   0                  0   \n",
       "213025                   0                   0                  0   \n",
       "213026                   0                   0                  0   \n",
       "213027                   1                   0                  0   \n",
       "213028                   0                   0                  0   \n",
       "213029                   0                   0                  0   \n",
       "\n",
       "        Default (Unassigned)  East Bay North  East Bay South  \\\n",
       "5                          0               0               0   \n",
       "6                          0               0               0   \n",
       "7                          0               0               0   \n",
       "8                          0               0               0   \n",
       "9                          0               0               0   \n",
       "10                         0               0               0   \n",
       "11                         0               0               0   \n",
       "12                         0               0               0   \n",
       "13                         0               0               0   \n",
       "14                         0               0               0   \n",
       "15                         0               0               0   \n",
       "17                         0               0               0   \n",
       "18                         0               0               0   \n",
       "22                         0               0               0   \n",
       "23                         0               0               0   \n",
       "24                         0               0               0   \n",
       "25                         0               0               0   \n",
       "26                         0               0               0   \n",
       "27                         0               0               0   \n",
       "28                         0               0               0   \n",
       "31                         0               0               0   \n",
       "32                         0               0               0   \n",
       "33                         0               0               0   \n",
       "34                         0               0               0   \n",
       "35                         0               0               0   \n",
       "36                         0               0               0   \n",
       "37                         0               0               0   \n",
       "38                         0               0               0   \n",
       "39                         0               0               0   \n",
       "40                         0               0               0   \n",
       "...                      ...             ...             ...   \n",
       "212988                     0               0               0   \n",
       "212989                     0               0               0   \n",
       "212990                     0               0               0   \n",
       "212992                     0               0               0   \n",
       "212993                     0               0               0   \n",
       "212994                     0               0               0   \n",
       "212995                     0               0               0   \n",
       "212998                     0               0               0   \n",
       "213000                     0               0               0   \n",
       "213001                     0               0               0   \n",
       "213003                     0               0               0   \n",
       "213004                     0               0               0   \n",
       "213006                     0               0               0   \n",
       "213007                     0               0               0   \n",
       "213009                     0               0               0   \n",
       "213012                     0               0               0   \n",
       "213013                     0               0               0   \n",
       "213014                     0               0               0   \n",
       "213016                     0               0               0   \n",
       "213017                     0               0               0   \n",
       "213018                     0               0               0   \n",
       "213020                     0               0               0   \n",
       "213022                     0               0               0   \n",
       "213023                     0               0               0   \n",
       "213024                     0               0               0   \n",
       "213025                     0               0               0   \n",
       "213026                     0               0               0   \n",
       "213027                     0               0               0   \n",
       "213028                     0               0               0   \n",
       "213029                     0               0               0   \n",
       "\n",
       "        East Contra Costa  Eastside  Inland Empire  Lamorinda Walnut Creek  \\\n",
       "5                       0         0              0                       0   \n",
       "6                       0         0              0                       0   \n",
       "7                       0         0              0                       0   \n",
       "8                       0         1              0                       0   \n",
       "9                       0         0              0                       0   \n",
       "10                      0         1              0                       0   \n",
       "11                      0         0              1                       0   \n",
       "12                      0         0              0                       0   \n",
       "13                      0         0              0                       0   \n",
       "14                      0         0              0                       0   \n",
       "15                      0         0              0                       0   \n",
       "17                      0         0              0                       0   \n",
       "18                      0         0              0                       0   \n",
       "22                      0         0              0                       0   \n",
       "23                      0         0              0                       0   \n",
       "24                      0         0              1                       0   \n",
       "25                      0         0              0                       0   \n",
       "26                      0         0              1                       0   \n",
       "27                      0         0              0                       0   \n",
       "28                      0         0              0                       0   \n",
       "31                      0         1              0                       0   \n",
       "32                      0         0              0                       0   \n",
       "33                      0         0              0                       0   \n",
       "34                      0         0              0                       0   \n",
       "35                      0         0              0                       0   \n",
       "36                      0         0              0                       0   \n",
       "37                      0         0              0                       0   \n",
       "38                      0         0              0                       0   \n",
       "39                      0         0              0                       0   \n",
       "40                      0         0              0                       0   \n",
       "...                   ...       ...            ...                     ...   \n",
       "212988                  0         0              0                       0   \n",
       "212989                  0         0              0                       0   \n",
       "212990                  0         0              0                       0   \n",
       "212992                  0         0              0                       0   \n",
       "212993                  0         0              0                       0   \n",
       "212994                  0         0              0                       0   \n",
       "212995                  0         1              0                       0   \n",
       "212998                  0         0              0                       0   \n",
       "213000                  0         0              0                       0   \n",
       "213001                  0         0              0                       0   \n",
       "213003                  0         0              0                       0   \n",
       "213004                  0         0              0                       0   \n",
       "213006                  0         0              0                       0   \n",
       "213007                  0         0              0                       0   \n",
       "213009                  0         0              0                       0   \n",
       "213012                  0         0              0                       0   \n",
       "213013                  0         0              0                       0   \n",
       "213014                  0         0              0                       0   \n",
       "213016                  0         0              0                       0   \n",
       "213017                  0         0              0                       0   \n",
       "213018                  0         0              0                       0   \n",
       "213020                  0         0              0                       0   \n",
       "213022                  0         0              0                       0   \n",
       "213023                  0         0              0                       0   \n",
       "213024                  0         0              0                       0   \n",
       "213025                  0         0              0                       0   \n",
       "213026                  0         0              0                       0   \n",
       "213027                  0         0              0                       0   \n",
       "213028                  0         0              0                       0   \n",
       "213029                  0         0              0                       0   \n",
       "\n",
       "             ...         San Gabriel Valley - West  San Jose  Santa Clarita  \\\n",
       "5            ...                                 0         0              0   \n",
       "6            ...                                 0         0              0   \n",
       "7            ...                                 1         0              0   \n",
       "8            ...                                 0         0              0   \n",
       "9            ...                                 0         0              0   \n",
       "10           ...                                 0         0              0   \n",
       "11           ...                                 0         0              0   \n",
       "12           ...                                 0         0              0   \n",
       "13           ...                                 1         0              0   \n",
       "14           ...                                 0         0              0   \n",
       "15           ...                                 0         0              0   \n",
       "17           ...                                 1         0              0   \n",
       "18           ...                                 0         0              0   \n",
       "22           ...                                 0         0              0   \n",
       "23           ...                                 0         0              0   \n",
       "24           ...                                 0         0              0   \n",
       "25           ...                                 0         0              0   \n",
       "26           ...                                 0         0              0   \n",
       "27           ...                                 0         0              0   \n",
       "28           ...                                 0         0              0   \n",
       "31           ...                                 0         0              0   \n",
       "32           ...                                 0         0              0   \n",
       "33           ...                                 0         0              0   \n",
       "34           ...                                 0         0              0   \n",
       "35           ...                                 0         0              0   \n",
       "36           ...                                 0         0              0   \n",
       "37           ...                                 0         0              0   \n",
       "38           ...                                 0         0              0   \n",
       "39           ...                                 0         0              0   \n",
       "40           ...                                 0         0              0   \n",
       "...          ...                               ...       ...            ...   \n",
       "212988       ...                                 0         1              0   \n",
       "212989       ...                                 0         1              0   \n",
       "212990       ...                                 0         1              0   \n",
       "212992       ...                                 0         0              0   \n",
       "212993       ...                                 0         0              1   \n",
       "212994       ...                                 0         0              0   \n",
       "212995       ...                                 0         0              0   \n",
       "212998       ...                                 0         0              0   \n",
       "213000       ...                                 0         0              0   \n",
       "213001       ...                                 0         0              0   \n",
       "213003       ...                                 0         0              0   \n",
       "213004       ...                                 0         0              0   \n",
       "213006       ...                                 0         0              0   \n",
       "213007       ...                                 0         0              0   \n",
       "213009       ...                                 0         0              0   \n",
       "213012       ...                                 0         0              0   \n",
       "213013       ...                                 0         0              0   \n",
       "213014       ...                                 0         0              0   \n",
       "213016       ...                                 0         0              0   \n",
       "213017       ...                                 0         0              0   \n",
       "213018       ...                                 0         0              0   \n",
       "213020       ...                                 0         0              0   \n",
       "213022       ...                                 0         0              0   \n",
       "213023       ...                                 0         0              0   \n",
       "213024       ...                                 0         0              0   \n",
       "213025       ...                                 0         0              0   \n",
       "213026       ...                                 0         0              0   \n",
       "213027       ...                                 0         0              0   \n",
       "213028       ...                                 0         0              0   \n",
       "213029       ...                                 0         0              0   \n",
       "\n",
       "        South Bay  South LA  Southeast LA  Tri Valley  Ventura  Westside  \\\n",
       "5               0         0             0           0        0         0   \n",
       "6               0         0             0           0        0         0   \n",
       "7               0         0             0           0        0         0   \n",
       "8               0         0             0           0        0         0   \n",
       "9               0         0             0           0        0         0   \n",
       "10              0         0             0           0        0         0   \n",
       "11              0         0             0           0        0         0   \n",
       "12              0         0             0           0        0         0   \n",
       "13              0         0             0           0        0         0   \n",
       "14              0         0             0           0        0         0   \n",
       "15              0         0             0           0        0         0   \n",
       "17              0         0             0           0        0         0   \n",
       "18              0         0             0           0        0         0   \n",
       "22              0         0             0           0        0         0   \n",
       "23              0         0             0           0        0         0   \n",
       "24              0         0             0           0        0         0   \n",
       "25              0         0             0           0        0         0   \n",
       "26              0         0             0           0        0         0   \n",
       "27              0         0             0           0        0         0   \n",
       "28              0         0             0           0        0         0   \n",
       "31              0         0             0           0        0         0   \n",
       "32              0         0             0           0        0         0   \n",
       "33              0         0             0           0        0         0   \n",
       "34              0         0             0           0        0         1   \n",
       "35              0         0             0           0        0         1   \n",
       "36              0         0             0           0        0         1   \n",
       "37              0         0             0           0        0         1   \n",
       "38              0         0             0           0        0         1   \n",
       "39              0         0             0           0        0         1   \n",
       "40              0         0             0           0        0         0   \n",
       "...           ...       ...           ...         ...      ...       ...   \n",
       "212988          0         0             0           0        0         0   \n",
       "212989          0         0             0           0        0         0   \n",
       "212990          0         0             0           0        0         0   \n",
       "212992          0         0             0           0        0         0   \n",
       "212993          0         0             0           0        0         0   \n",
       "212994          0         0             0           0        0         0   \n",
       "212995          0         0             0           0        0         0   \n",
       "212998          0         0             0           0        0         1   \n",
       "213000          0         0             0           0        0         0   \n",
       "213001          0         0             0           0        0         0   \n",
       "213003          1         0             0           0        0         0   \n",
       "213004          0         1             0           0        0         0   \n",
       "213006          0         0             0           0        0         1   \n",
       "213007          0         0             1           0        0         0   \n",
       "213009          0         0             0           0        0         0   \n",
       "213012          0         0             0           0        0         0   \n",
       "213013          0         0             0           0        0         0   \n",
       "213014          0         0             0           0        0         0   \n",
       "213016          0         0             0           0        0         0   \n",
       "213017          0         0             0           0        0         0   \n",
       "213018          0         0             0           0        0         0   \n",
       "213020          0         0             0           0        0         0   \n",
       "213022          0         0             0           0        0         0   \n",
       "213023          0         0             0           0        0         0   \n",
       "213024          1         0             0           0        0         0   \n",
       "213025          0         0             0           0        0         0   \n",
       "213026          0         0             0           0        0         0   \n",
       "213027          0         0             0           0        0         0   \n",
       "213028          0         0             0           0        0         0   \n",
       "213029          0         0             0           0        0         1   \n",
       "\n",
       "        antelope-valley  \n",
       "5                     0  \n",
       "6                     0  \n",
       "7                     0  \n",
       "8                     0  \n",
       "9                     0  \n",
       "10                    0  \n",
       "11                    0  \n",
       "12                    0  \n",
       "13                    0  \n",
       "14                    0  \n",
       "15                    0  \n",
       "17                    0  \n",
       "18                    0  \n",
       "22                    0  \n",
       "23                    0  \n",
       "24                    0  \n",
       "25                    0  \n",
       "26                    0  \n",
       "27                    0  \n",
       "28                    0  \n",
       "31                    0  \n",
       "32                    0  \n",
       "33                    0  \n",
       "34                    0  \n",
       "35                    0  \n",
       "36                    0  \n",
       "37                    0  \n",
       "38                    0  \n",
       "39                    0  \n",
       "40                    0  \n",
       "...                 ...  \n",
       "212988                0  \n",
       "212989                0  \n",
       "212990                0  \n",
       "212992                0  \n",
       "212993                0  \n",
       "212994                0  \n",
       "212995                0  \n",
       "212998                0  \n",
       "213000                0  \n",
       "213001                0  \n",
       "213003                0  \n",
       "213004                0  \n",
       "213006                0  \n",
       "213007                0  \n",
       "213009                0  \n",
       "213012                0  \n",
       "213013                0  \n",
       "213014                0  \n",
       "213016                0  \n",
       "213017                0  \n",
       "213018                0  \n",
       "213020                0  \n",
       "213022                0  \n",
       "213023                0  \n",
       "213024                0  \n",
       "213025                0  \n",
       "213026                0  \n",
       "213027                0  \n",
       "213028                0  \n",
       "213029                0  \n",
       "\n",
       "[124144 rows x 36 columns]>"
      ]
     },
     "execution_count": 33,
     "metadata": {},
     "output_type": "execute_result"
    }
   ],
   "source": [
    "df_origin_dummies.head"
   ]
  },
  {
   "cell_type": "code",
   "execution_count": 34,
   "metadata": {
    "collapsed": true
   },
   "outputs": [
    {
     "data": {
      "text/plain": [
       "['Central LA - North',\n",
       " 'Central LA - South',\n",
       " 'Central LA - West',\n",
       " 'Default (Unassigned)',\n",
       " 'East Bay North',\n",
       " 'East Bay South',\n",
       " 'East Contra Costa',\n",
       " 'Eastside',\n",
       " 'Inland Empire',\n",
       " 'Lamorinda Walnut Creek',\n",
       " 'Long Beach',\n",
       " 'Malibu',\n",
       " 'North Bay',\n",
       " 'Oakland Berkeley',\n",
       " 'Orange County - Central',\n",
       " 'Orange County - North',\n",
       " 'Orange County - South',\n",
       " 'Orange County - West',\n",
       " 'Peninsula North',\n",
       " 'Peninsula South',\n",
       " 'Pomona Valley',\n",
       " 'San Fernando Valley - East',\n",
       " 'San Fernando Valley - West',\n",
       " 'San Francisco',\n",
       " 'San Gabriel Valley - East',\n",
       " 'San Gabriel Valley - South',\n",
       " 'San Gabriel Valley - West',\n",
       " 'San Jose',\n",
       " 'Santa Clarita',\n",
       " 'South Bay',\n",
       " 'South LA',\n",
       " 'Southeast LA',\n",
       " 'Tri Valley',\n",
       " 'Ventura',\n",
       " 'Westside',\n",
       " 'antelope-valley']"
      ]
     },
     "execution_count": 34,
     "metadata": {},
     "output_type": "execute_result"
    }
   ],
   "source": [
    "list(df_origin_dummies)"
   ]
  },
  {
   "cell_type": "code",
   "execution_count": 36,
   "metadata": {},
   "outputs": [],
   "source": [
    "df_destination_dummies = pd.get_dummies(df_small['destination_region_name'])"
   ]
  },
  {
   "cell_type": "code",
   "execution_count": 37,
   "metadata": {},
   "outputs": [
    {
     "data": {
      "text/plain": [
       "(124144, 36)"
      ]
     },
     "execution_count": 37,
     "metadata": {},
     "output_type": "execute_result"
    }
   ],
   "source": [
    "df_destination_dummies.shape"
   ]
  },
  {
   "cell_type": "code",
   "execution_count": 38,
   "metadata": {
    "collapsed": true
   },
   "outputs": [
    {
     "data": {
      "text/plain": [
       "['Central LA - North',\n",
       " 'Central LA - South',\n",
       " 'Central LA - West',\n",
       " 'Default (Unassigned)',\n",
       " 'East Bay North',\n",
       " 'East Bay South',\n",
       " 'East Contra Costa',\n",
       " 'Eastside',\n",
       " 'Inland Empire',\n",
       " 'Lamorinda Walnut Creek',\n",
       " 'Long Beach',\n",
       " 'Malibu',\n",
       " 'North Bay',\n",
       " 'Oakland Berkeley',\n",
       " 'Orange County - Central',\n",
       " 'Orange County - North',\n",
       " 'Orange County - South',\n",
       " 'Orange County - West',\n",
       " 'Peninsula North',\n",
       " 'Peninsula South',\n",
       " 'Pomona Valley',\n",
       " 'San Fernando Valley - East',\n",
       " 'San Fernando Valley - West',\n",
       " 'San Francisco',\n",
       " 'San Gabriel Valley - East',\n",
       " 'San Gabriel Valley - South',\n",
       " 'San Gabriel Valley - West',\n",
       " 'San Jose',\n",
       " 'Santa Clarita',\n",
       " 'South Bay',\n",
       " 'South LA',\n",
       " 'Southeast LA',\n",
       " 'Tri Valley',\n",
       " 'Ventura',\n",
       " 'Westside',\n",
       " 'antelope-valley']"
      ]
     },
     "execution_count": 38,
     "metadata": {},
     "output_type": "execute_result"
    }
   ],
   "source": [
    "list(df_destination_dummies)"
   ]
  },
  {
   "cell_type": "code",
   "execution_count": 44,
   "metadata": {},
   "outputs": [],
   "source": [
    "df_small_dummies = pd.merge(df_origin_dummies, df_destination_dummies, left_index=True, right_index=True, suffixes=(' origin', ' destination'))"
   ]
  },
  {
   "cell_type": "code",
   "execution_count": 45,
   "metadata": {},
   "outputs": [
    {
     "data": {
      "text/plain": [
       "(124144, 72)"
      ]
     },
     "execution_count": 45,
     "metadata": {},
     "output_type": "execute_result"
    }
   ],
   "source": [
    "df_small_dummies.shape"
   ]
  },
  {
   "cell_type": "code",
   "execution_count": 46,
   "metadata": {
    "collapsed": true
   },
   "outputs": [
    {
     "data": {
      "text/plain": [
       "['Central LA - North origin',\n",
       " 'Central LA - South origin',\n",
       " 'Central LA - West origin',\n",
       " 'Default (Unassigned) origin',\n",
       " 'East Bay North origin',\n",
       " 'East Bay South origin',\n",
       " 'East Contra Costa origin',\n",
       " 'Eastside origin',\n",
       " 'Inland Empire origin',\n",
       " 'Lamorinda Walnut Creek origin',\n",
       " 'Long Beach origin',\n",
       " 'Malibu origin',\n",
       " 'North Bay origin',\n",
       " 'Oakland Berkeley origin',\n",
       " 'Orange County - Central origin',\n",
       " 'Orange County - North origin',\n",
       " 'Orange County - South origin',\n",
       " 'Orange County - West origin',\n",
       " 'Peninsula North origin',\n",
       " 'Peninsula South origin',\n",
       " 'Pomona Valley origin',\n",
       " 'San Fernando Valley - East origin',\n",
       " 'San Fernando Valley - West origin',\n",
       " 'San Francisco origin',\n",
       " 'San Gabriel Valley - East origin',\n",
       " 'San Gabriel Valley - South origin',\n",
       " 'San Gabriel Valley - West origin',\n",
       " 'San Jose origin',\n",
       " 'Santa Clarita origin',\n",
       " 'South Bay origin',\n",
       " 'South LA origin',\n",
       " 'Southeast LA origin',\n",
       " 'Tri Valley origin',\n",
       " 'Ventura origin',\n",
       " 'Westside origin',\n",
       " 'antelope-valley origin',\n",
       " 'Central LA - North destination',\n",
       " 'Central LA - South destination',\n",
       " 'Central LA - West destination',\n",
       " 'Default (Unassigned) destination',\n",
       " 'East Bay North destination',\n",
       " 'East Bay South destination',\n",
       " 'East Contra Costa destination',\n",
       " 'Eastside destination',\n",
       " 'Inland Empire destination',\n",
       " 'Lamorinda Walnut Creek destination',\n",
       " 'Long Beach destination',\n",
       " 'Malibu destination',\n",
       " 'North Bay destination',\n",
       " 'Oakland Berkeley destination',\n",
       " 'Orange County - Central destination',\n",
       " 'Orange County - North destination',\n",
       " 'Orange County - South destination',\n",
       " 'Orange County - West destination',\n",
       " 'Peninsula North destination',\n",
       " 'Peninsula South destination',\n",
       " 'Pomona Valley destination',\n",
       " 'San Fernando Valley - East destination',\n",
       " 'San Fernando Valley - West destination',\n",
       " 'San Francisco destination',\n",
       " 'San Gabriel Valley - East destination',\n",
       " 'San Gabriel Valley - South destination',\n",
       " 'San Gabriel Valley - West destination',\n",
       " 'San Jose destination',\n",
       " 'Santa Clarita destination',\n",
       " 'South Bay destination',\n",
       " 'South LA destination',\n",
       " 'Southeast LA destination',\n",
       " 'Tri Valley destination',\n",
       " 'Ventura destination',\n",
       " 'Westside destination',\n",
       " 'antelope-valley destination']"
      ]
     },
     "execution_count": 46,
     "metadata": {},
     "output_type": "execute_result"
    }
   ],
   "source": [
    "list(df_small_dummies)"
   ]
  },
  {
   "cell_type": "code",
   "execution_count": 47,
   "metadata": {},
   "outputs": [],
   "source": [
    "y=df_small['trip_paid_time']"
   ]
  },
  {
   "cell_type": "code",
   "execution_count": 51,
   "metadata": {},
   "outputs": [
    {
     "data": {
      "text/plain": [
       "124144"
      ]
     },
     "execution_count": 51,
     "metadata": {},
     "output_type": "execute_result"
    }
   ],
   "source": [
    "len(y)"
   ]
  },
  {
   "cell_type": "code",
   "execution_count": 52,
   "metadata": {},
   "outputs": [],
   "source": [
    "import sklearn.linear_model"
   ]
  },
  {
   "cell_type": "code",
   "execution_count": 53,
   "metadata": {},
   "outputs": [],
   "source": [
    "model=sklearn.linear_model.LinearRegression()"
   ]
  },
  {
   "cell_type": "code",
   "execution_count": 54,
   "metadata": {},
   "outputs": [],
   "source": [
    "model?"
   ]
  },
  {
   "cell_type": "code",
   "execution_count": 56,
   "metadata": {},
   "outputs": [],
   "source": [
    "model=model.fit(df_small_dummies,y)"
   ]
  },
  {
   "cell_type": "code",
   "execution_count": 57,
   "metadata": {},
   "outputs": [
    {
     "data": {
      "text/plain": [
       "array([2.60213322e+10, 2.60213322e+10, 2.60213322e+10, 2.60213321e+10,\n",
       "       2.60213322e+10, 2.60213322e+10, 2.60213322e+10, 2.60213322e+10,\n",
       "       2.60213322e+10, 2.60213322e+10, 2.60213322e+10, 2.60213322e+10,\n",
       "       2.60213322e+10, 2.60213322e+10, 2.60213322e+10, 2.60213322e+10,\n",
       "       2.60213322e+10, 2.60213322e+10, 2.60213322e+10, 2.60213322e+10,\n",
       "       2.60213322e+10, 2.60213322e+10, 2.60213322e+10, 2.60213322e+10,\n",
       "       2.60213322e+10, 2.60213322e+10, 2.60213322e+10, 2.60213322e+10,\n",
       "       2.60213322e+10, 2.60213322e+10, 2.60213322e+10, 2.60213322e+10,\n",
       "       2.60213322e+10, 2.60213322e+10, 2.60213322e+10, 4.53537488e+11,\n",
       "       8.80630247e+11, 8.80630247e+11, 8.80630247e+11, 8.80630247e+11,\n",
       "       8.80630247e+11, 8.80630247e+11, 8.80630247e+11, 8.80630247e+11,\n",
       "       8.80630247e+11, 8.80630247e+11, 8.80630247e+11, 8.80630247e+11,\n",
       "       8.80630247e+11, 8.80630247e+11, 8.80630247e+11, 8.80630247e+11,\n",
       "       8.80630247e+11, 8.80630247e+11, 8.80630247e+11, 8.80630247e+11,\n",
       "       8.80630247e+11, 8.80630247e+11, 8.80630247e+11, 8.80630247e+11,\n",
       "       8.80630247e+11, 8.80630247e+11, 8.80630247e+11, 8.80630247e+11,\n",
       "       8.80630247e+11, 8.80630247e+11, 8.80630247e+11, 8.80630247e+11,\n",
       "       8.80630247e+11, 8.80630247e+11, 8.80630247e+11, 4.53114091e+11])"
      ]
     },
     "execution_count": 57,
     "metadata": {},
     "output_type": "execute_result"
    }
   ],
   "source": [
    "model.coef_"
   ]
  },
  {
   "cell_type": "code",
   "execution_count": 58,
   "metadata": {},
   "outputs": [
    {
     "data": {
      "text/plain": [
       "-906651579141.8099"
      ]
     },
     "execution_count": 58,
     "metadata": {},
     "output_type": "execute_result"
    }
   ],
   "source": [
    "model.intercept_"
   ]
  },
  {
   "cell_type": "code",
   "execution_count": 59,
   "metadata": {},
   "outputs": [
    {
     "data": {
      "text/plain": [
       "0.10030790387836164"
      ]
     },
     "execution_count": 59,
     "metadata": {},
     "output_type": "execute_result"
    }
   ],
   "source": [
    "model.score(df_small_dummies,y)"
   ]
  },
  {
   "cell_type": "code",
   "execution_count": null,
   "metadata": {},
   "outputs": [],
   "source": []
  }
 ],
 "metadata": {
  "kernelspec": {
   "display_name": "Python 3",
   "language": "python",
   "name": "python3"
  },
  "language_info": {
   "codemirror_mode": {
    "name": "ipython",
    "version": 3
   },
   "file_extension": ".py",
   "mimetype": "text/x-python",
   "name": "python",
   "nbconvert_exporter": "python",
   "pygments_lexer": "ipython3",
   "version": "3.6.5"
  }
 },
 "nbformat": 4,
 "nbformat_minor": 2
}
