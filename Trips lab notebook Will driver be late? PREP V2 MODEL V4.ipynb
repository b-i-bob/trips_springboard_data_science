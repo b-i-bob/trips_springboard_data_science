{
 "cells": [
  {
   "cell_type": "markdown",
   "metadata": {},
   "source": [
    "# Linear regression model V4\n",
    "with boolean features added as 1,0 features"
   ]
  },
  {
   "cell_type": "code",
   "execution_count": 1,
   "metadata": {},
   "outputs": [],
   "source": [
    "fileprefix='./lateness_PREP_V2_'"
   ]
  },
  {
   "cell_type": "code",
   "execution_count": 2,
   "metadata": {},
   "outputs": [],
   "source": [
    "import pandas as pd\n",
    "import numpy as np"
   ]
  },
  {
   "cell_type": "code",
   "execution_count": 3,
   "metadata": {},
   "outputs": [],
   "source": [
    "df_X=pd.read_csv(fileprefix+'X.csv', sep='\\t')"
   ]
  },
  {
   "cell_type": "code",
   "execution_count": 4,
   "metadata": {},
   "outputs": [
    {
     "data": {
      "text/plain": [
       "(125675, 35)"
      ]
     },
     "execution_count": 4,
     "metadata": {},
     "output_type": "execute_result"
    }
   ],
   "source": [
    "df_X.shape"
   ]
  },
  {
   "cell_type": "code",
   "execution_count": 5,
   "metadata": {},
   "outputs": [],
   "source": [
    "df_y=pd.read_csv(fileprefix+'y.csv', sep='\\t', header=None)"
   ]
  },
  {
   "cell_type": "code",
   "execution_count": 6,
   "metadata": {},
   "outputs": [
    {
     "data": {
      "text/plain": [
       "(125675, 2)"
      ]
     },
     "execution_count": 6,
     "metadata": {},
     "output_type": "execute_result"
    }
   ],
   "source": [
    "type(df_y)\n",
    "df_y.shape"
   ]
  },
  {
   "cell_type": "code",
   "execution_count": 7,
   "metadata": {},
   "outputs": [],
   "source": [
    "y=df_y.iloc[:,1]"
   ]
  },
  {
   "cell_type": "code",
   "execution_count": 8,
   "metadata": {},
   "outputs": [
    {
     "data": {
      "text/plain": [
       "pandas.core.series.Series"
      ]
     },
     "execution_count": 8,
     "metadata": {},
     "output_type": "execute_result"
    }
   ],
   "source": [
    "type(y)"
   ]
  },
  {
   "cell_type": "code",
   "execution_count": 9,
   "metadata": {},
   "outputs": [
    {
     "data": {
      "text/plain": [
       "(125675,)"
      ]
     },
     "execution_count": 9,
     "metadata": {},
     "output_type": "execute_result"
    }
   ],
   "source": [
    "y.shape"
   ]
  },
  {
   "cell_type": "code",
   "execution_count": 10,
   "metadata": {
    "scrolled": true
   },
   "outputs": [
    {
     "data": {
      "text/plain": [
       "0   -497.0\n",
       "1      5.0\n",
       "2   -313.0\n",
       "3   -296.0\n",
       "4   -166.0\n",
       "Name: 1, dtype: float64"
      ]
     },
     "execution_count": 10,
     "metadata": {},
     "output_type": "execute_result"
    }
   ],
   "source": [
    "y.head()"
   ]
  },
  {
   "cell_type": "code",
   "execution_count": 11,
   "metadata": {},
   "outputs": [
    {
     "data": {
      "text/html": [
       "<div>\n",
       "<style scoped>\n",
       "    .dataframe tbody tr th:only-of-type {\n",
       "        vertical-align: middle;\n",
       "    }\n",
       "\n",
       "    .dataframe tbody tr th {\n",
       "        vertical-align: top;\n",
       "    }\n",
       "\n",
       "    .dataframe thead th {\n",
       "        text-align: right;\n",
       "    }\n",
       "</style>\n",
       "<table border=\"1\" class=\"dataframe\">\n",
       "  <thead>\n",
       "    <tr style=\"text-align: right;\">\n",
       "      <th></th>\n",
       "      <th>Unnamed: 0</th>\n",
       "      <th>origin_lon</th>\n",
       "      <th>total_predicted_distance_miles</th>\n",
       "      <th>destination_location_id</th>\n",
       "      <th>destination_lon</th>\n",
       "      <th>trip_predicted_raw_fare</th>\n",
       "      <th>coupon_consumed</th>\n",
       "      <th>lead_organizer_id</th>\n",
       "      <th>organizer_home_lon</th>\n",
       "      <th>is_same_day_ride_int</th>\n",
       "      <th>...</th>\n",
       "      <th>trip_template_id</th>\n",
       "      <th>is_repeating_ride_int</th>\n",
       "      <th>passengers_count</th>\n",
       "      <th>origin_location_id</th>\n",
       "      <th>destination_region_id</th>\n",
       "      <th>claimed_after_created</th>\n",
       "      <th>predicted_driver_fare</th>\n",
       "      <th>route_legs_count</th>\n",
       "      <th>is_affiliate_int</th>\n",
       "      <th>driver_home_lon</th>\n",
       "    </tr>\n",
       "  </thead>\n",
       "  <tbody>\n",
       "    <tr>\n",
       "      <th>0</th>\n",
       "      <td>5</td>\n",
       "      <td>-118.35</td>\n",
       "      <td>10.0</td>\n",
       "      <td>86289.0</td>\n",
       "      <td>-118.23</td>\n",
       "      <td>32.50</td>\n",
       "      <td>0.0</td>\n",
       "      <td>81281</td>\n",
       "      <td>-118.34</td>\n",
       "      <td>0</td>\n",
       "      <td>...</td>\n",
       "      <td>0.0</td>\n",
       "      <td>0</td>\n",
       "      <td>1.0</td>\n",
       "      <td>82879.0</td>\n",
       "      <td>36.0</td>\n",
       "      <td>2753.65</td>\n",
       "      <td>19.63</td>\n",
       "      <td>1</td>\n",
       "      <td>0</td>\n",
       "      <td>-118.25</td>\n",
       "    </tr>\n",
       "    <tr>\n",
       "      <th>1</th>\n",
       "      <td>6</td>\n",
       "      <td>-118.31</td>\n",
       "      <td>5.0</td>\n",
       "      <td>86075.0</td>\n",
       "      <td>-118.24</td>\n",
       "      <td>23.09</td>\n",
       "      <td>0.0</td>\n",
       "      <td>80068</td>\n",
       "      <td>-118.34</td>\n",
       "      <td>0</td>\n",
       "      <td>...</td>\n",
       "      <td>6325.0</td>\n",
       "      <td>1</td>\n",
       "      <td>1.0</td>\n",
       "      <td>83958.0</td>\n",
       "      <td>36.0</td>\n",
       "      <td>5867.40</td>\n",
       "      <td>14.19</td>\n",
       "      <td>1</td>\n",
       "      <td>0</td>\n",
       "      <td>-118.25</td>\n",
       "    </tr>\n",
       "    <tr>\n",
       "      <th>2</th>\n",
       "      <td>7</td>\n",
       "      <td>-118.16</td>\n",
       "      <td>5.0</td>\n",
       "      <td>88361.0</td>\n",
       "      <td>-118.11</td>\n",
       "      <td>17.81</td>\n",
       "      <td>0.0</td>\n",
       "      <td>87802</td>\n",
       "      <td>-118.11</td>\n",
       "      <td>0</td>\n",
       "      <td>...</td>\n",
       "      <td>0.0</td>\n",
       "      <td>0</td>\n",
       "      <td>1.0</td>\n",
       "      <td>84580.0</td>\n",
       "      <td>48.0</td>\n",
       "      <td>32.20</td>\n",
       "      <td>14.06</td>\n",
       "      <td>1</td>\n",
       "      <td>0</td>\n",
       "      <td>-118.25</td>\n",
       "    </tr>\n",
       "    <tr>\n",
       "      <th>3</th>\n",
       "      <td>8</td>\n",
       "      <td>-118.24</td>\n",
       "      <td>7.0</td>\n",
       "      <td>87908.0</td>\n",
       "      <td>-118.28</td>\n",
       "      <td>22.56</td>\n",
       "      <td>0.0</td>\n",
       "      <td>81561</td>\n",
       "      <td>-118.22</td>\n",
       "      <td>0</td>\n",
       "      <td>...</td>\n",
       "      <td>0.0</td>\n",
       "      <td>0</td>\n",
       "      <td>1.0</td>\n",
       "      <td>87880.0</td>\n",
       "      <td>36.0</td>\n",
       "      <td>22.28</td>\n",
       "      <td>15.59</td>\n",
       "      <td>1</td>\n",
       "      <td>0</td>\n",
       "      <td>-118.25</td>\n",
       "    </tr>\n",
       "    <tr>\n",
       "      <th>4</th>\n",
       "      <td>9</td>\n",
       "      <td>-118.51</td>\n",
       "      <td>13.0</td>\n",
       "      <td>89633.0</td>\n",
       "      <td>-118.38</td>\n",
       "      <td>36.19</td>\n",
       "      <td>0.0</td>\n",
       "      <td>76793</td>\n",
       "      <td>-118.38</td>\n",
       "      <td>0</td>\n",
       "      <td>...</td>\n",
       "      <td>3719.0</td>\n",
       "      <td>1</td>\n",
       "      <td>1.0</td>\n",
       "      <td>92149.0</td>\n",
       "      <td>33.0</td>\n",
       "      <td>150534.13</td>\n",
       "      <td>21.63</td>\n",
       "      <td>1</td>\n",
       "      <td>0</td>\n",
       "      <td>-118.25</td>\n",
       "    </tr>\n",
       "  </tbody>\n",
       "</table>\n",
       "<p>5 rows × 35 columns</p>\n",
       "</div>"
      ],
      "text/plain": [
       "   Unnamed: 0  origin_lon  total_predicted_distance_miles  \\\n",
       "0           5     -118.35                            10.0   \n",
       "1           6     -118.31                             5.0   \n",
       "2           7     -118.16                             5.0   \n",
       "3           8     -118.24                             7.0   \n",
       "4           9     -118.51                            13.0   \n",
       "\n",
       "   destination_location_id  destination_lon  trip_predicted_raw_fare  \\\n",
       "0                  86289.0          -118.23                    32.50   \n",
       "1                  86075.0          -118.24                    23.09   \n",
       "2                  88361.0          -118.11                    17.81   \n",
       "3                  87908.0          -118.28                    22.56   \n",
       "4                  89633.0          -118.38                    36.19   \n",
       "\n",
       "   coupon_consumed  lead_organizer_id  organizer_home_lon  \\\n",
       "0              0.0              81281             -118.34   \n",
       "1              0.0              80068             -118.34   \n",
       "2              0.0              87802             -118.11   \n",
       "3              0.0              81561             -118.22   \n",
       "4              0.0              76793             -118.38   \n",
       "\n",
       "   is_same_day_ride_int       ...         trip_template_id  \\\n",
       "0                     0       ...                      0.0   \n",
       "1                     0       ...                   6325.0   \n",
       "2                     0       ...                      0.0   \n",
       "3                     0       ...                      0.0   \n",
       "4                     0       ...                   3719.0   \n",
       "\n",
       "   is_repeating_ride_int  passengers_count  origin_location_id  \\\n",
       "0                      0               1.0             82879.0   \n",
       "1                      1               1.0             83958.0   \n",
       "2                      0               1.0             84580.0   \n",
       "3                      0               1.0             87880.0   \n",
       "4                      1               1.0             92149.0   \n",
       "\n",
       "   destination_region_id  claimed_after_created  predicted_driver_fare  \\\n",
       "0                   36.0                2753.65                  19.63   \n",
       "1                   36.0                5867.40                  14.19   \n",
       "2                   48.0                  32.20                  14.06   \n",
       "3                   36.0                  22.28                  15.59   \n",
       "4                   33.0              150534.13                  21.63   \n",
       "\n",
       "   route_legs_count  is_affiliate_int  driver_home_lon  \n",
       "0                 1                 0          -118.25  \n",
       "1                 1                 0          -118.25  \n",
       "2                 1                 0          -118.25  \n",
       "3                 1                 0          -118.25  \n",
       "4                 1                 0          -118.25  \n",
       "\n",
       "[5 rows x 35 columns]"
      ]
     },
     "execution_count": 11,
     "metadata": {},
     "output_type": "execute_result"
    }
   ],
   "source": [
    "df_X.head()"
   ]
  },
  {
   "cell_type": "code",
   "execution_count": 12,
   "metadata": {},
   "outputs": [
    {
     "data": {
      "text/plain": [
       "count     125675.0\n",
       "mean        -507.0\n",
       "std        22763.0\n",
       "min     -7862491.0\n",
       "25%         -657.0\n",
       "50%         -324.0\n",
       "75%          -96.0\n",
       "max       204537.0\n",
       "Name: 1, dtype: float64"
      ]
     },
     "execution_count": 12,
     "metadata": {},
     "output_type": "execute_result"
    }
   ],
   "source": [
    "y.describe().round()"
   ]
  },
  {
   "cell_type": "code",
   "execution_count": 13,
   "metadata": {},
   "outputs": [],
   "source": [
    "# break df_X,y into test and train sets\n",
    "from sklearn.model_selection import train_test_split\n",
    "X_train, X_test, y_train, y_test = train_test_split(df_X, y, test_size=0.20, random_state=808)"
   ]
  },
  {
   "cell_type": "code",
   "execution_count": 14,
   "metadata": {},
   "outputs": [
    {
     "name": "stdout",
     "output_type": "stream",
     "text": [
      "(100540, 35)\n",
      "(25135, 35)\n",
      "(100540,)\n",
      "(25135,)\n"
     ]
    }
   ],
   "source": [
    "for i in X_train, X_test, y_train, y_test:\n",
    "    print(i.shape)"
   ]
  },
  {
   "cell_type": "code",
   "execution_count": 15,
   "metadata": {},
   "outputs": [],
   "source": [
    "# select a linear model\n",
    "import sklearn.linear_model\n",
    "model=sklearn.linear_model.LinearRegression(normalize=True)"
   ]
  },
  {
   "cell_type": "code",
   "execution_count": 16,
   "metadata": {},
   "outputs": [],
   "source": [
    "# fit model\n",
    "model=model.fit(X_train,y_train)"
   ]
  },
  {
   "cell_type": "code",
   "execution_count": 17,
   "metadata": {},
   "outputs": [
    {
     "data": {
      "text/plain": [
       "array([-1.92853056e-04,  5.60449749e+03,  5.19930315e+01,  1.18247045e-03,\n",
       "        3.51637061e+03, -4.88539419e+00, -5.87425549e+02,  1.32490779e-02,\n",
       "       -1.67418706e+02,  2.76737818e+02, -5.78342267e+02, -5.68419078e+02,\n",
       "       -4.27814569e+02,  5.01237137e+04,  1.37883365e+00, -2.12056273e+04,\n",
       "       -1.93155974e-02,  5.04949220e-03, -2.82082320e+04,  5.13887053e+01,\n",
       "        2.84639807e+01, -6.09901329e-03, -1.08192065e+02, -7.70802732e-02,\n",
       "        1.02218438e+03,  1.53897693e-01, -2.21508548e+03,  5.77931450e+01,\n",
       "        2.00687599e-03,  4.98134332e+01,  1.47025564e-03, -3.62342540e+01,\n",
       "       -3.86716177e+02,  1.29896669e+02, -9.70647566e+03])"
      ]
     },
     "execution_count": 17,
     "metadata": {},
     "output_type": "execute_result"
    }
   ],
   "source": [
    "model.coef_"
   ]
  },
  {
   "cell_type": "code",
   "execution_count": 18,
   "metadata": {},
   "outputs": [
    {
     "data": {
      "text/plain": [
       "0         0\n",
       "1      5604\n",
       "2        51\n",
       "3         0\n",
       "4      3516\n",
       "5        -4\n",
       "6      -587\n",
       "7         0\n",
       "8      -167\n",
       "9       276\n",
       "10     -578\n",
       "11     -568\n",
       "12     -427\n",
       "13    50123\n",
       "14        1\n",
       "15   -21205\n",
       "16        0\n",
       "17        0\n",
       "18   -28208\n",
       "19       51\n",
       "20       28\n",
       "21        0\n",
       "22     -108\n",
       "23        0\n",
       "24     1022\n",
       "25        0\n",
       "26    -2215\n",
       "27       57\n",
       "28        0\n",
       "29       49\n",
       "30        0\n",
       "31      -36\n",
       "32     -386\n",
       "33      129\n",
       "34    -9706\n",
       "dtype: int64"
      ]
     },
     "execution_count": 18,
     "metadata": {},
     "output_type": "execute_result"
    }
   ],
   "source": [
    "pd.Series(model.coef_).astype(int)"
   ]
  },
  {
   "cell_type": "code",
   "execution_count": 19,
   "metadata": {},
   "outputs": [
    {
     "data": {
      "text/plain": [
       "-95388.57623206552"
      ]
     },
     "execution_count": 19,
     "metadata": {},
     "output_type": "execute_result"
    }
   ],
   "source": [
    "model.intercept_"
   ]
  },
  {
   "cell_type": "code",
   "execution_count": 35,
   "metadata": {},
   "outputs": [
    {
     "data": {
      "text/plain": [
       "Unnamed: 0                                 62593.572542\n",
       "origin_lon                                     1.569941\n",
       "total_predicted_distance_miles                 5.668047\n",
       "destination_location_id                    36887.288829\n",
       "destination_lon                                1.570260\n",
       "trip_predicted_raw_fare                       12.222037\n",
       "coupon_consumed                                0.079160\n",
       "lead_organizer_id                          28362.539772\n",
       "organizer_home_lon                            11.007659\n",
       "is_same_day_ride_int                           0.159046\n",
       "organizers_count                               0.171734\n",
       "organizer_home_lat                             3.493593\n",
       "shuttle_int                                    0.097849\n",
       "driver_home_lat                                1.476480\n",
       "driver_previous_completed_trips              342.782841\n",
       "destination_lat                                1.466265\n",
       "creator_id                                 28357.616687\n",
       "driver_id                                  36466.519381\n",
       "origin_lat                                     1.466141\n",
       "origin_region_id                              14.242624\n",
       "total_predicted_duration                      12.529584\n",
       "id                                         90323.898193\n",
       "driver_has_driven_this_route_before_int        0.494761\n",
       "lead_organizer_previous_completed_trips      207.852029\n",
       "carpool_int                                    0.131292\n",
       "trip_template_id                            5735.203230\n",
       "is_repeating_ride_int                          0.476103\n",
       "passengers_count                               0.587426\n",
       "origin_location_id                         36800.071753\n",
       "destination_region_id                         14.228444\n",
       "claimed_after_created                      30244.652047\n",
       "predicted_driver_fare                          5.895252\n",
       "route_legs_count                               0.279636\n",
       "is_affiliate_int                               0.267340\n",
       "driver_home_lon                                1.696783\n",
       "dtype: float64"
      ]
     },
     "execution_count": 35,
     "metadata": {},
     "output_type": "execute_result"
    }
   ],
   "source": [
    "X_train.std()"
   ]
  },
  {
   "cell_type": "code",
   "execution_count": 36,
   "metadata": {},
   "outputs": [
    {
     "data": {
      "text/plain": [
       "origin_lat                                -19239\n",
       "destination_lat                           -14462\n",
       "coupon_consumed                            -7420\n",
       "driver_home_lon                            -5720\n",
       "is_repeating_ride_int                      -4652\n",
       "shuttle_int                                -4372\n",
       "organizers_count                           -3367\n",
       "route_legs_count                           -1382\n",
       "driver_has_driven_this_route_before_int     -218\n",
       "organizer_home_lat                          -162\n",
       "organizer_home_lon                           -15\n",
       "predicted_driver_fare                         -6\n",
       "trip_predicted_raw_fare                        0\n",
       "lead_organizer_previous_completed_trips        0\n",
       "creator_id                                     0\n",
       "id                                             0\n",
       "Unnamed: 0                                     0\n",
       "destination_location_id                        0\n",
       "claimed_after_created                          0\n",
       "origin_location_id                             0\n",
       "driver_id                                      0\n",
       "lead_organizer_id                              0\n",
       "trip_template_id                               0\n",
       "driver_previous_completed_trips                0\n",
       "total_predicted_duration                       2\n",
       "destination_region_id                          3\n",
       "origin_region_id                               3\n",
       "total_predicted_distance_miles                 9\n",
       "passengers_count                              98\n",
       "is_affiliate_int                             485\n",
       "is_same_day_ride_int                        1739\n",
       "destination_lon                             2239\n",
       "origin_lon                                  3569\n",
       "carpool_int                                 7785\n",
       "driver_home_lat                            33948\n",
       "dtype: int64"
      ]
     },
     "execution_count": 36,
     "metadata": {},
     "output_type": "execute_result"
    }
   ],
   "source": [
    "# normalize the linear model coefficients by the standard deviation to see which features are most important\n",
    "(model.coef_/X_train.std()).sort_values(axis=0).astype(int)"
   ]
  },
  {
   "cell_type": "code",
   "execution_count": 39,
   "metadata": {},
   "outputs": [
    {
     "data": {
      "text/plain": [
       "0.3722831322811122"
      ]
     },
     "execution_count": 39,
     "metadata": {},
     "output_type": "execute_result"
    }
   ],
   "source": [
    "# score against TRAINING set\n",
    "model.score(X_train,y_train)"
   ]
  },
  {
   "cell_type": "code",
   "execution_count": 37,
   "metadata": {},
   "outputs": [
    {
     "data": {
      "text/plain": [
       "-67.98918692556897"
      ]
     },
     "execution_count": 37,
     "metadata": {},
     "output_type": "execute_result"
    }
   ],
   "source": [
    "# score against TEST set\n",
    "model.score(X_test,y_test)"
   ]
  },
  {
   "cell_type": "code",
   "execution_count": 38,
   "metadata": {},
   "outputs": [
    {
     "data": {
      "text/plain": [
       "25135"
      ]
     },
     "execution_count": 38,
     "metadata": {},
     "output_type": "execute_result"
    }
   ],
   "source": [
    "model_y_test_pred = model.predict(X_test)\n",
    "model_y_test_pred.size"
   ]
  },
  {
   "cell_type": "code",
   "execution_count": 24,
   "metadata": {},
   "outputs": [
    {
     "data": {
      "text/plain": [
       "numpy.ndarray"
      ]
     },
     "execution_count": 24,
     "metadata": {},
     "output_type": "execute_result"
    }
   ],
   "source": [
    "type(model_y_test_pred)"
   ]
  },
  {
   "cell_type": "code",
   "execution_count": 25,
   "metadata": {},
   "outputs": [
    {
     "data": {
      "text/plain": [
       "array([10604.68937238,   258.42825308,  1772.90953286, -2379.00008807,\n",
       "       -4136.27010871, -1141.00160023, -1812.67614023,  5022.49716351,\n",
       "       -2634.94609103, -4762.80274687])"
      ]
     },
     "execution_count": 25,
     "metadata": {},
     "output_type": "execute_result"
    }
   ],
   "source": [
    "model_y_test_pred[:10]"
   ]
  },
  {
   "cell_type": "code",
   "execution_count": 26,
   "metadata": {},
   "outputs": [
    {
     "data": {
      "text/plain": [
       "11887.618863407686"
      ]
     },
     "execution_count": 26,
     "metadata": {},
     "output_type": "execute_result"
    }
   ],
   "source": [
    "pd.Series(model_y_test_pred).std()"
   ]
  },
  {
   "cell_type": "code",
   "execution_count": 40,
   "metadata": {},
   "outputs": [
    {
     "data": {
      "text/plain": [
       "0.006848441557800376"
      ]
     },
     "execution_count": 40,
     "metadata": {},
     "output_type": "execute_result"
    }
   ],
   "source": [
    "pd.Series(model_y_test_pred).corr(y_test)"
   ]
  },
  {
   "cell_type": "code",
   "execution_count": 28,
   "metadata": {},
   "outputs": [
    {
     "name": "stdout",
     "output_type": "stream",
     "text": [
      "-67.985 143748875 -67.989 3413 2122\n"
     ]
    }
   ],
   "source": [
    "# regression metrics\n",
    "from sklearn.metrics import explained_variance_score, mean_squared_error, r2_score, mean_absolute_error, median_absolute_error\n",
    "print (\"%.3f %.0f %.3f %.0f %.0f\" % \n",
    "       (explained_variance_score(y_test, model_y_test_pred),\n",
    "        mean_squared_error(y_test, model_y_test_pred), \n",
    "        r2_score(y_test, model_y_test_pred), \n",
    "        mean_absolute_error(y_test, model_y_test_pred), \n",
    "        median_absolute_error(y_test, model_y_test_pred)))"
   ]
  },
  {
   "cell_type": "code",
   "execution_count": 29,
   "metadata": {},
   "outputs": [
    {
     "data": {
      "text/plain": [
       "array([  0., 300., 900.])"
      ]
     },
     "execution_count": 29,
     "metadata": {},
     "output_type": "execute_result"
    }
   ],
   "source": [
    "# make classifications from seconds late target\n",
    "bins = np.array([0.0, 5*60, 15*60]) # 0 on-time, 1 almost on-time, 2 late, 3 extremely late\n",
    "bins"
   ]
  },
  {
   "cell_type": "code",
   "execution_count": 30,
   "metadata": {},
   "outputs": [
    {
     "data": {
      "text/plain": [
       "array([1, 1, 0, 0, 0, 1, 0, 0, 1, 0])"
      ]
     },
     "execution_count": 30,
     "metadata": {},
     "output_type": "execute_result"
    }
   ],
   "source": [
    "np.digitize(y_test, bins)[:10]"
   ]
  },
  {
   "cell_type": "code",
   "execution_count": 31,
   "metadata": {
    "scrolled": true
   },
   "outputs": [
    {
     "name": "stdout",
     "output_type": "stream",
     "text": [
      "[[    0 21156]\n",
      " [    1  2939]\n",
      " [    2   892]\n",
      " [    3   148]]\n"
     ]
    }
   ],
   "source": [
    "# materialize y_test_class array\n",
    "# check to see how many trips are categorized as 0 on-time, 1 almost on-time, 2 late, 3 extremely late\n",
    "y_test_class=np.digitize(y_test, bins)\n",
    "unique, counts = np.unique(y_test_class, return_counts=True)\n",
    "print(np.asarray((unique, counts)).T)"
   ]
  },
  {
   "cell_type": "code",
   "execution_count": 32,
   "metadata": {},
   "outputs": [
    {
     "name": "stdout",
     "output_type": "stream",
     "text": [
      "[[    0 14160]\n",
      " [    1   944]\n",
      " [    2  1792]\n",
      " [    3  8239]]\n"
     ]
    }
   ],
   "source": [
    "# materialize model_y_pred_class\n",
    "# check to see how many trips are categorized as 0 on-time, 1 almost on-time, 2 late, 3 extremely late\n",
    "model_y_test_pred_class=np.digitize(model_y_test_pred, bins)\n",
    "print(np.asarray(np.unique(model_y_test_pred_class, return_counts=True)).T)"
   ]
  },
  {
   "cell_type": "code",
   "execution_count": 33,
   "metadata": {},
   "outputs": [
    {
     "name": "stdout",
     "output_type": "stream",
     "text": [
      "             precision    recall  f1-score   support\n",
      "\n",
      "          0       0.84      0.56      0.67     21156\n",
      "          1       0.12      0.04      0.06      2939\n",
      "          2       0.03      0.05      0.04       892\n",
      "          3       0.01      0.37      0.01       148\n",
      "\n",
      "avg / total       0.72      0.48      0.57     25135\n",
      "\n"
     ]
    }
   ],
   "source": [
    "from sklearn.metrics import classification_report\n",
    "print(classification_report(y_test_class,model_y_test_pred_class))"
   ]
  },
  {
   "cell_type": "code",
   "execution_count": 34,
   "metadata": {},
   "outputs": [
    {
     "name": "stdout",
     "output_type": "stream",
     "text": [
      "[[11828   798  1517  7013]\n",
      " [ 1702   116   219   902]\n",
      " [  548    27    48   269]\n",
      " [   82     3     8    55]]\n"
     ]
    }
   ],
   "source": [
    "from sklearn.metrics import confusion_matrix\n",
    "print(confusion_matrix(y_test_class,model_y_test_pred_class,labels=[0,1,2,3]))"
   ]
  },
  {
   "cell_type": "code",
   "execution_count": null,
   "metadata": {},
   "outputs": [],
   "source": []
  }
 ],
 "metadata": {
  "kernelspec": {
   "display_name": "Python 3",
   "language": "python",
   "name": "python3"
  },
  "language_info": {
   "codemirror_mode": {
    "name": "ipython",
    "version": 3
   },
   "file_extension": ".py",
   "mimetype": "text/x-python",
   "name": "python",
   "nbconvert_exporter": "python",
   "pygments_lexer": "ipython3",
   "version": "3.6.5"
  }
 },
 "nbformat": 4,
 "nbformat_minor": 2
}
