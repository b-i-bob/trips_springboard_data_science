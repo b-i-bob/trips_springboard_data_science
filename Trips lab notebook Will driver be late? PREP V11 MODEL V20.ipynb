{
 "cells": [
  {
   "cell_type": "markdown",
   "metadata": {},
   "source": [
    "### Regression model V20\n",
    "Use most recent 20% as test set to test leakage in new feature avg prior late arrival \n",
    "try gradient boosted regressor (see cell 14)"
   ]
  },
  {
   "cell_type": "code",
   "execution_count": 1,
   "metadata": {},
   "outputs": [],
   "source": [
    "fileprefix='./lateness_PREP_V11_'"
   ]
  },
  {
   "cell_type": "code",
   "execution_count": 2,
   "metadata": {},
   "outputs": [],
   "source": [
    "import pandas as pd\n",
    "import numpy as np"
   ]
  },
  {
   "cell_type": "code",
   "execution_count": 3,
   "metadata": {},
   "outputs": [],
   "source": [
    "df_X=pd.read_csv(fileprefix+'X.csv', sep='\\t')"
   ]
  },
  {
   "cell_type": "code",
   "execution_count": 4,
   "metadata": {},
   "outputs": [
    {
     "data": {
      "text/plain": [
       "(125675, 216)"
      ]
     },
     "execution_count": 4,
     "metadata": {},
     "output_type": "execute_result"
    }
   ],
   "source": [
    "df_X.shape"
   ]
  },
  {
   "cell_type": "code",
   "execution_count": 5,
   "metadata": {},
   "outputs": [],
   "source": [
    "df_y=pd.read_csv(fileprefix+'y.csv', sep='\\t', header=None)"
   ]
  },
  {
   "cell_type": "code",
   "execution_count": 6,
   "metadata": {},
   "outputs": [
    {
     "data": {
      "text/plain": [
       "(125675, 2)"
      ]
     },
     "execution_count": 6,
     "metadata": {},
     "output_type": "execute_result"
    }
   ],
   "source": [
    "type(df_y)\n",
    "df_y.shape"
   ]
  },
  {
   "cell_type": "code",
   "execution_count": 7,
   "metadata": {},
   "outputs": [
    {
     "data": {
      "text/html": [
       "<div>\n",
       "<style scoped>\n",
       "    .dataframe tbody tr th:only-of-type {\n",
       "        vertical-align: middle;\n",
       "    }\n",
       "\n",
       "    .dataframe tbody tr th {\n",
       "        vertical-align: top;\n",
       "    }\n",
       "\n",
       "    .dataframe thead th {\n",
       "        text-align: right;\n",
       "    }\n",
       "</style>\n",
       "<table border=\"1\" class=\"dataframe\">\n",
       "  <thead>\n",
       "    <tr style=\"text-align: right;\">\n",
       "      <th></th>\n",
       "      <th>0</th>\n",
       "      <th>1</th>\n",
       "    </tr>\n",
       "  </thead>\n",
       "  <tbody>\n",
       "    <tr>\n",
       "      <th>0</th>\n",
       "      <td>5</td>\n",
       "      <td>-497.0</td>\n",
       "    </tr>\n",
       "    <tr>\n",
       "      <th>1</th>\n",
       "      <td>6</td>\n",
       "      <td>5.0</td>\n",
       "    </tr>\n",
       "    <tr>\n",
       "      <th>2</th>\n",
       "      <td>7</td>\n",
       "      <td>-313.0</td>\n",
       "    </tr>\n",
       "    <tr>\n",
       "      <th>3</th>\n",
       "      <td>8</td>\n",
       "      <td>-296.0</td>\n",
       "    </tr>\n",
       "    <tr>\n",
       "      <th>4</th>\n",
       "      <td>9</td>\n",
       "      <td>-166.0</td>\n",
       "    </tr>\n",
       "  </tbody>\n",
       "</table>\n",
       "</div>"
      ],
      "text/plain": [
       "   0      1\n",
       "0  5 -497.0\n",
       "1  6    5.0\n",
       "2  7 -313.0\n",
       "3  8 -296.0\n",
       "4  9 -166.0"
      ]
     },
     "execution_count": 7,
     "metadata": {},
     "output_type": "execute_result"
    }
   ],
   "source": [
    "df_y.head()"
   ]
  },
  {
   "cell_type": "code",
   "execution_count": 8,
   "metadata": {},
   "outputs": [
    {
     "data": {
      "text/plain": [
       "0   -497.0\n",
       "1      5.0\n",
       "2   -313.0\n",
       "3   -296.0\n",
       "4   -166.0\n",
       "Name: 1, dtype: float64"
      ]
     },
     "execution_count": 8,
     "metadata": {},
     "output_type": "execute_result"
    }
   ],
   "source": [
    "y=df_y[1]\n",
    "y.head()"
   ]
  },
  {
   "cell_type": "code",
   "execution_count": 9,
   "metadata": {},
   "outputs": [
    {
     "data": {
      "text/plain": [
       "(125675,)"
      ]
     },
     "execution_count": 9,
     "metadata": {},
     "output_type": "execute_result"
    }
   ],
   "source": [
    "y.shape"
   ]
  },
  {
   "cell_type": "code",
   "execution_count": 10,
   "metadata": {},
   "outputs": [
    {
     "data": {
      "text/html": [
       "<div>\n",
       "<style scoped>\n",
       "    .dataframe tbody tr th:only-of-type {\n",
       "        vertical-align: middle;\n",
       "    }\n",
       "\n",
       "    .dataframe tbody tr th {\n",
       "        vertical-align: top;\n",
       "    }\n",
       "\n",
       "    .dataframe thead th {\n",
       "        text-align: right;\n",
       "    }\n",
       "</style>\n",
       "<table border=\"1\" class=\"dataframe\">\n",
       "  <thead>\n",
       "    <tr style=\"text-align: right;\">\n",
       "      <th></th>\n",
       "      <th>Unnamed: 0</th>\n",
       "      <th>claimed_at_pdt_hour_4</th>\n",
       "      <th>claimed_at_pdt_hour_13</th>\n",
       "      <th>lead_organizer_created_at_pdt_hour</th>\n",
       "      <th>origin_region_name_San Francisco</th>\n",
       "      <th>created_at_pdt_month</th>\n",
       "      <th>destination_lat</th>\n",
       "      <th>origin_region_name_Orange County - North</th>\n",
       "      <th>created_at_pdt_weekday</th>\n",
       "      <th>driver_signup_before_trip_created_secs</th>\n",
       "      <th>...</th>\n",
       "      <th>scheduled_starts_at_pdt_hour_10</th>\n",
       "      <th>driver_previous_completed_trips</th>\n",
       "      <th>claimed_at_pdt_hour_1</th>\n",
       "      <th>lead_organizer_created_at_pdt_weekofyear</th>\n",
       "      <th>scheduled_starts_at_pdt_hour_12</th>\n",
       "      <th>origin_analysis_metro_name_LA</th>\n",
       "      <th>shuttle_int</th>\n",
       "      <th>lead_organizer_created_at_pdt_dayofyear</th>\n",
       "      <th>scheduled_starts_at_pdt_dayofyear</th>\n",
       "      <th>lead_organizer_platform_ios</th>\n",
       "    </tr>\n",
       "  </thead>\n",
       "  <tbody>\n",
       "    <tr>\n",
       "      <th>0</th>\n",
       "      <td>5</td>\n",
       "      <td>0</td>\n",
       "      <td>0</td>\n",
       "      <td>19</td>\n",
       "      <td>0</td>\n",
       "      <td>2</td>\n",
       "      <td>34.18</td>\n",
       "      <td>0</td>\n",
       "      <td>6</td>\n",
       "      <td>18685416.0</td>\n",
       "      <td>...</td>\n",
       "      <td>0</td>\n",
       "      <td>663.0</td>\n",
       "      <td>0</td>\n",
       "      <td>26</td>\n",
       "      <td>0</td>\n",
       "      <td>1</td>\n",
       "      <td>0</td>\n",
       "      <td>185</td>\n",
       "      <td>45</td>\n",
       "      <td>1</td>\n",
       "    </tr>\n",
       "    <tr>\n",
       "      <th>1</th>\n",
       "      <td>6</td>\n",
       "      <td>0</td>\n",
       "      <td>0</td>\n",
       "      <td>19</td>\n",
       "      <td>0</td>\n",
       "      <td>1</td>\n",
       "      <td>34.10</td>\n",
       "      <td>0</td>\n",
       "      <td>3</td>\n",
       "      <td>16613901.0</td>\n",
       "      <td>...</td>\n",
       "      <td>0</td>\n",
       "      <td>634.0</td>\n",
       "      <td>0</td>\n",
       "      <td>26</td>\n",
       "      <td>0</td>\n",
       "      <td>1</td>\n",
       "      <td>0</td>\n",
       "      <td>185</td>\n",
       "      <td>24</td>\n",
       "      <td>1</td>\n",
       "    </tr>\n",
       "    <tr>\n",
       "      <th>2</th>\n",
       "      <td>7</td>\n",
       "      <td>0</td>\n",
       "      <td>0</td>\n",
       "      <td>20</td>\n",
       "      <td>0</td>\n",
       "      <td>2</td>\n",
       "      <td>34.16</td>\n",
       "      <td>0</td>\n",
       "      <td>6</td>\n",
       "      <td>18684204.0</td>\n",
       "      <td>...</td>\n",
       "      <td>0</td>\n",
       "      <td>649.0</td>\n",
       "      <td>0</td>\n",
       "      <td>26</td>\n",
       "      <td>0</td>\n",
       "      <td>1</td>\n",
       "      <td>0</td>\n",
       "      <td>185</td>\n",
       "      <td>39</td>\n",
       "      <td>1</td>\n",
       "    </tr>\n",
       "    <tr>\n",
       "      <th>3</th>\n",
       "      <td>8</td>\n",
       "      <td>0</td>\n",
       "      <td>0</td>\n",
       "      <td>20</td>\n",
       "      <td>0</td>\n",
       "      <td>1</td>\n",
       "      <td>34.17</td>\n",
       "      <td>0</td>\n",
       "      <td>2</td>\n",
       "      <td>17715744.0</td>\n",
       "      <td>...</td>\n",
       "      <td>0</td>\n",
       "      <td>637.0</td>\n",
       "      <td>0</td>\n",
       "      <td>26</td>\n",
       "      <td>0</td>\n",
       "      <td>1</td>\n",
       "      <td>0</td>\n",
       "      <td>185</td>\n",
       "      <td>26</td>\n",
       "      <td>1</td>\n",
       "    </tr>\n",
       "    <tr>\n",
       "      <th>4</th>\n",
       "      <td>9</td>\n",
       "      <td>0</td>\n",
       "      <td>0</td>\n",
       "      <td>19</td>\n",
       "      <td>0</td>\n",
       "      <td>10</td>\n",
       "      <td>34.12</td>\n",
       "      <td>0</td>\n",
       "      <td>0</td>\n",
       "      <td>7851048.0</td>\n",
       "      <td>...</td>\n",
       "      <td>0</td>\n",
       "      <td>629.0</td>\n",
       "      <td>0</td>\n",
       "      <td>26</td>\n",
       "      <td>0</td>\n",
       "      <td>1</td>\n",
       "      <td>0</td>\n",
       "      <td>185</td>\n",
       "      <td>23</td>\n",
       "      <td>1</td>\n",
       "    </tr>\n",
       "  </tbody>\n",
       "</table>\n",
       "<p>5 rows × 216 columns</p>\n",
       "</div>"
      ],
      "text/plain": [
       "   Unnamed: 0  claimed_at_pdt_hour_4  claimed_at_pdt_hour_13  \\\n",
       "0           5                      0                       0   \n",
       "1           6                      0                       0   \n",
       "2           7                      0                       0   \n",
       "3           8                      0                       0   \n",
       "4           9                      0                       0   \n",
       "\n",
       "   lead_organizer_created_at_pdt_hour  origin_region_name_San Francisco  \\\n",
       "0                                  19                                 0   \n",
       "1                                  19                                 0   \n",
       "2                                  20                                 0   \n",
       "3                                  20                                 0   \n",
       "4                                  19                                 0   \n",
       "\n",
       "   created_at_pdt_month  destination_lat  \\\n",
       "0                     2            34.18   \n",
       "1                     1            34.10   \n",
       "2                     2            34.16   \n",
       "3                     1            34.17   \n",
       "4                    10            34.12   \n",
       "\n",
       "   origin_region_name_Orange County - North  created_at_pdt_weekday  \\\n",
       "0                                         0                       6   \n",
       "1                                         0                       3   \n",
       "2                                         0                       6   \n",
       "3                                         0                       2   \n",
       "4                                         0                       0   \n",
       "\n",
       "   driver_signup_before_trip_created_secs             ...               \\\n",
       "0                              18685416.0             ...                \n",
       "1                              16613901.0             ...                \n",
       "2                              18684204.0             ...                \n",
       "3                              17715744.0             ...                \n",
       "4                               7851048.0             ...                \n",
       "\n",
       "   scheduled_starts_at_pdt_hour_10  driver_previous_completed_trips  \\\n",
       "0                                0                            663.0   \n",
       "1                                0                            634.0   \n",
       "2                                0                            649.0   \n",
       "3                                0                            637.0   \n",
       "4                                0                            629.0   \n",
       "\n",
       "   claimed_at_pdt_hour_1  lead_organizer_created_at_pdt_weekofyear  \\\n",
       "0                      0                                        26   \n",
       "1                      0                                        26   \n",
       "2                      0                                        26   \n",
       "3                      0                                        26   \n",
       "4                      0                                        26   \n",
       "\n",
       "   scheduled_starts_at_pdt_hour_12  origin_analysis_metro_name_LA  \\\n",
       "0                                0                              1   \n",
       "1                                0                              1   \n",
       "2                                0                              1   \n",
       "3                                0                              1   \n",
       "4                                0                              1   \n",
       "\n",
       "   shuttle_int  lead_organizer_created_at_pdt_dayofyear  \\\n",
       "0            0                                      185   \n",
       "1            0                                      185   \n",
       "2            0                                      185   \n",
       "3            0                                      185   \n",
       "4            0                                      185   \n",
       "\n",
       "   scheduled_starts_at_pdt_dayofyear  lead_organizer_platform_ios  \n",
       "0                                 45                            1  \n",
       "1                                 24                            1  \n",
       "2                                 39                            1  \n",
       "3                                 26                            1  \n",
       "4                                 23                            1  \n",
       "\n",
       "[5 rows x 216 columns]"
      ]
     },
     "execution_count": 10,
     "metadata": {},
     "output_type": "execute_result"
    }
   ],
   "source": [
    "df_X.head()"
   ]
  },
  {
   "cell_type": "code",
   "execution_count": 11,
   "metadata": {},
   "outputs": [
    {
     "data": {
      "text/plain": [
       "count    125675.0\n",
       "mean       -416.0\n",
       "std         509.0\n",
       "min       -1800.0\n",
       "25%        -657.0\n",
       "50%        -324.0\n",
       "75%         -96.0\n",
       "max        1800.0\n",
       "Name: 1, dtype: float64"
      ]
     },
     "execution_count": 11,
     "metadata": {},
     "output_type": "execute_result"
    }
   ],
   "source": [
    "y.describe().round()"
   ]
  },
  {
   "cell_type": "code",
   "execution_count": 46,
   "metadata": {},
   "outputs": [],
   "source": [
    "# break df_X,y into test and train sets\n",
    "###from sklearn.model_selection import train_test_split\n",
    "###X_train, X_test, y_train, y_test = train_test_split(df_X, y, test_size=0.20, random_state=808)\n",
    "# use first 80% as train and last 30% as test to test for leakage\n",
    "###print(y.shape[0])\n",
    "###train_split=0.80\n",
    "###index = int(np.floor(y.shape[0] * train_split))\n",
    "###print(index)\n",
    "###y_train = y[:index]\n",
    "###print(y_train.shape)\n",
    "###X_train = df_X[:index]\n",
    "###print(X_train.shape)\n",
    "###y_test = y[index:]\n",
    "###print(y_test.shape)\n",
    "##print(y_train.head())\n",
    "##print(y_train.tail())\n",
    "##print(y_test.head())\n",
    "##print(y_test.tail())\n",
    "###X_test = df_X[index:]\n",
    "###print(X_test.shape)\n",
    "###X_train.iloc[:10]['scheduled_starts_at_pdt_dayofyear']\n",
    "## this shows df_X (and y) are not in time sorted order... so try another approach\n",
    "##X_train.iloc[:10]['scheduled_starts_at_pdt_dayofyear'][X_train['scheduled_starts_at_pdt_dayofyear']<100]\n",
    "###df_X[df_X.scheduled_starts_at_pdt_dayofyear>=100]['scheduled_starts_at_pdt_dayofyear'].head(10)\n",
    "###y[df_X.scheduled_starts_at_pdt_dayofyear>=100].head(10)\n",
    "###y[df_X.scheduled_starts_at_pdt_dayofyear>=299].count()\n",
    "\n",
    "## to test for leakage train on older data and test on newer data\n",
    "## approximate 80/20 split\n",
    "## data contains 1 year of data, first 298 days of the year use for training, rest use for testing\n",
    "y_train = y[df_X.scheduled_starts_at_pdt_dayofyear<299]\n",
    "X_train = df_X[df_X.scheduled_starts_at_pdt_dayofyear<299]\n",
    "y_test = y[df_X.scheduled_starts_at_pdt_dayofyear>=299]\n",
    "X_test = df_X[df_X.scheduled_starts_at_pdt_dayofyear>=299]\n"
   ]
  },
  {
   "cell_type": "code",
   "execution_count": 47,
   "metadata": {},
   "outputs": [
    {
     "name": "stdout",
     "output_type": "stream",
     "text": [
      "(100198, 216)\n",
      "(25477, 216)\n",
      "(100198,)\n",
      "(25477,)\n"
     ]
    }
   ],
   "source": [
    "for i in X_train, X_test, y_train, y_test:\n",
    "    print(i.shape)"
   ]
  },
  {
   "cell_type": "code",
   "execution_count": 48,
   "metadata": {},
   "outputs": [],
   "source": [
    "# select a regressor\n",
    "from sklearn.ensemble import GradientBoostingRegressor\n",
    "model=GradientBoostingRegressor(max_depth=4, random_state=808, n_estimators=200)"
   ]
  },
  {
   "cell_type": "code",
   "execution_count": 49,
   "metadata": {},
   "outputs": [],
   "source": [
    "# fit model\n",
    "model=model.fit(X_train,y_train)"
   ]
  },
  {
   "cell_type": "code",
   "execution_count": 50,
   "metadata": {},
   "outputs": [
    {
     "name": "stdout",
     "output_type": "stream",
     "text": [
      "[2.28555510e-02 8.73578591e-04 6.44664375e-04 5.54849464e-03\n",
      " 0.00000000e+00 8.93844687e-05 9.50098640e-03 0.00000000e+00\n",
      " 1.86967733e-03 1.37766945e-02 0.00000000e+00 1.04116471e-03\n",
      " 5.25640202e-04 1.02506902e-03 1.57811148e-04 0.00000000e+00\n",
      " 7.95846879e-05 5.92826096e-03 0.00000000e+00 3.31915677e-03\n",
      " 0.00000000e+00 5.05534791e-04 3.06105505e-04 4.88077062e-04\n",
      " 3.67566209e-04 1.32412056e-02 0.00000000e+00 3.72227872e-02\n",
      " 5.02813757e-02 1.91082574e-04 0.00000000e+00 0.00000000e+00\n",
      " 0.00000000e+00 1.49743767e-02 2.84031009e-03 0.00000000e+00\n",
      " 4.91924262e-04 0.00000000e+00 0.00000000e+00 1.17475949e-02\n",
      " 1.42183203e-02 2.97791598e-03 6.33489729e-04 1.61616648e-02\n",
      " 1.72653578e-03 8.47784257e-04 1.79789628e-06 1.87580490e-03\n",
      " 1.16085966e-03 4.61842608e-04 0.00000000e+00 4.81043107e-04\n",
      " 0.00000000e+00 1.58659365e-01 4.54218779e-04 5.78123192e-04\n",
      " 1.01378580e-02 1.88109538e-02 4.39302952e-03 1.17112252e-02\n",
      " 1.02972703e-03 2.16674922e-03 4.04673229e-03 1.45371310e-03\n",
      " 1.70680235e-02 2.04033336e-04 3.59675736e-04 0.00000000e+00\n",
      " 5.58240291e-03 4.89325152e-04 7.80749813e-06 1.73698541e-02\n",
      " 0.00000000e+00 0.00000000e+00 5.35588970e-04 9.75850201e-04\n",
      " 3.56508822e-02 1.05296108e-02 7.25436446e-05 1.74511210e-03\n",
      " 0.00000000e+00 5.90256628e-03 1.80139345e-05 1.25255535e-02\n",
      " 0.00000000e+00 1.75545955e-02 2.49390881e-02 0.00000000e+00\n",
      " 1.52328958e-02 8.11258151e-04 0.00000000e+00 7.59944713e-05\n",
      " 5.76348988e-03 1.17290990e-03 0.00000000e+00 2.27775904e-03\n",
      " 5.95784752e-05 6.97569699e-04 1.04169479e-03 4.85212350e-05\n",
      " 3.54176636e-04 2.55082571e-03 6.90793135e-03 1.27326179e-04\n",
      " 0.00000000e+00 1.51574784e-02 0.00000000e+00 4.10776362e-03\n",
      " 2.59471922e-04 0.00000000e+00 0.00000000e+00 9.07190589e-04\n",
      " 0.00000000e+00 0.00000000e+00 1.16889461e-02 2.13202692e-04\n",
      " 4.69365966e-05 2.51807784e-03 0.00000000e+00 3.09919895e-03\n",
      " 5.47414441e-03 0.00000000e+00 0.00000000e+00 2.93047761e-03\n",
      " 0.00000000e+00 0.00000000e+00 1.55012940e-04 0.00000000e+00\n",
      " 0.00000000e+00 0.00000000e+00 1.97208503e-03 0.00000000e+00\n",
      " 3.16191175e-03 0.00000000e+00 0.00000000e+00 1.82851660e-03\n",
      " 4.83433792e-03 2.46067798e-06 4.42506989e-04 0.00000000e+00\n",
      " 7.81506321e-03 8.70535381e-04 9.72556397e-06 1.59155866e-04\n",
      " 3.64561791e-04 7.91589227e-05 2.92847719e-03 2.63176244e-02\n",
      " 4.71516265e-04 6.96684010e-04 2.98497930e-03 0.00000000e+00\n",
      " 0.00000000e+00 3.69126046e-03 0.00000000e+00 0.00000000e+00\n",
      " 0.00000000e+00 0.00000000e+00 9.67436937e-03 0.00000000e+00\n",
      " 0.00000000e+00 2.39086157e-04 0.00000000e+00 0.00000000e+00\n",
      " 2.09289710e-02 0.00000000e+00 3.25048584e-02 2.81692741e-02\n",
      " 2.97546610e-04 0.00000000e+00 4.68099683e-04 1.73855604e-03\n",
      " 2.03266089e-06 0.00000000e+00 0.00000000e+00 3.69124072e-04\n",
      " 1.16681492e-02 9.59231479e-03 2.15951681e-04 0.00000000e+00\n",
      " 3.67159729e-07 0.00000000e+00 3.33318765e-04 0.00000000e+00\n",
      " 4.25459785e-03 8.40405701e-05 1.91054161e-03 0.00000000e+00\n",
      " 3.89951184e-03 1.41973769e-04 0.00000000e+00 4.33204138e-04\n",
      " 2.57738875e-03 4.02368350e-04 6.02786999e-04 9.88181039e-04\n",
      " 4.13958491e-04 8.91260960e-03 2.43345354e-03 0.00000000e+00\n",
      " 5.93184026e-03 1.91818405e-03 0.00000000e+00 2.62061206e-04\n",
      " 1.16013524e-02 2.86205886e-02 0.00000000e+00 3.76648668e-02\n",
      " 2.79436231e-04 1.88757984e-03 4.36870071e-09 2.82357573e-04\n",
      " 0.00000000e+00 8.96112068e-03 8.43319311e-03 3.17744315e-03]\n"
     ]
    }
   ],
   "source": [
    "print(model.feature_importances_)"
   ]
  },
  {
   "cell_type": "code",
   "execution_count": 51,
   "metadata": {},
   "outputs": [
    {
     "data": {
      "text/plain": [
       "[(0.15865936524633667, 'avg_prior_arrived_late_seconds'),\n",
       " (0.05028137572985059, 'claimed_before_trip_start_secs'),\n",
       " (0.03766486684246616, 'driver_previous_completed_trips'),\n",
       " (0.03722278715594114, 'driver_home_lon'),\n",
       " (0.03565088220182171, 'driver_id'),\n",
       " (0.03250485841424662, 'driver_home_lat'),\n",
       " (0.02862058860752911, 'origin_location_id'),\n",
       " (0.028169274088713482, 'scheduled_starts_at_pdt_hour'),\n",
       " (0.026317624350436206, 'driver_created_at_pdt_dayofyear'),\n",
       " (0.02493908814760605, 'origin_lon'),\n",
       " (0.022855550953449332, 'Unnamed: 0'),\n",
       " (0.020928971022296003, 'driver_signup_before_trip_start_secs'),\n",
       " (0.01881095381973332, 'trip_created_before_trip_start_secs'),\n",
       " (0.01755459546041832, 'destination_location_id'),\n",
       " (0.01736985411355486, 'origin_lat'),\n",
       " (0.017068023490225414, 'driver_created_at_pdt_day'),\n",
       " (0.016161664781040433, 'driver_signup_before_org_signup_secs'),\n",
       " (0.015232895756191786, 'org_signup_before_trip_start_secs'),\n",
       " (0.015157478410995899, 'id'),\n",
       " (0.014974376699647282, 'trip_est_duration_secs'),\n",
       " (0.014218320297505001, 'lead_organizer_previous_completed_trips'),\n",
       " (0.013776694519926958, 'driver_signup_before_trip_created_secs'),\n",
       " (0.013241205555486529, 'drivers_prev_ride_1hr_int'),\n",
       " (0.012525553514511624, 'driver_created_at_pdt_hour'),\n",
       " (0.011747594908253944, 'scheduled_ends_at_pdt_hour'),\n",
       " (0.01171122520045639, 'predicted_driver_fare'),\n",
       " (0.011688946109565088, 'total_predicted_duration'),\n",
       " (0.011668149191638957, 'driver_signup_before_trip_claimed_secs'),\n",
       " (0.011601352360432915, 'trip_predicted_raw_fare'),\n",
       " (0.010529610838323948, 'org_signup_before_trip_created_secs'),\n",
       " (0.010137857995264813, 'trip_claimed_after_trip_created'),\n",
       " (0.009674369366485826, 'claimed_after_created'),\n",
       " (0.009592314789849274, 'organizer_home_lat'),\n",
       " (0.009500986404836001, 'destination_lat'),\n",
       " (0.008961120679045732, 'lead_organizer_created_at_pdt_dayofyear'),\n",
       " (0.008912609599901273, 'destination_lon'),\n",
       " (0.008433193107309833, 'scheduled_starts_at_pdt_dayofyear'),\n",
       " (0.007815063205924453, 'organizer_home_lon'),\n",
       " (0.006907931352121303, 'trip_template_id'),\n",
       " (0.005931840259861338, 'driver_created_at_pdt_weekday'),\n",
       " (0.005928260956704295, 'created_at_pdt_day'),\n",
       " (0.005902566277398544, 'created_at_pdt_hour'),\n",
       " (0.005763489880848249, 'lead_organizer_created_at_pdt_day'),\n",
       " (0.005582402912877455, 'lead_organizer_id'),\n",
       " (0.005548494644846481, 'lead_organizer_created_at_pdt_hour'),\n",
       " (0.005474144410536134, 'creator_id'),\n",
       " (0.004834337920542344, 'passengers_count'),\n",
       " (0.004393029522180596, 'total_predicted_distance_miles'),\n",
       " (0.0042545978540206785, 'claimed_at_pdt_dayofyear'),\n",
       " (0.004107763623465652, 'claimed_at_pdt_hour_21'),\n",
       " (0.00404673229385326, 'created_at_pdt_weekofyear'),\n",
       " (0.0038995118393396156, 'created_at_pdt_dayofyear'),\n",
       " (0.003691260463695053, 'destination_region_id'),\n",
       " (0.0033191567665595795, 'claimed_at_pdt_day'),\n",
       " (0.003177443147380688, 'lead_organizer_platform_ios'),\n",
       " (0.003161911751401124, 'claimed_at_pdt_weekofyear'),\n",
       " (0.0030991989459956, 'scheduled_starts_at_pdt_hour_15'),\n",
       " (0.002984979299880833, 'driver_created_at_pdt_weekofyear'),\n",
       " (0.0029779159790066525, 'is_affiliate_int'),\n",
       " (0.0029304776059020958, 'origin_region_id'),\n",
       " (0.002928477187368464, 'origin_region_name_East Bay South'),\n",
       " (0.002840310092616598, 'organizers_count'),\n",
       " (0.0025773887484641317, 'claimed_at_pdt_weekday'),\n",
       " (0.00255082571079049, 'claimed_at_pdt_hour_9'),\n",
       " (0.0025180778444502737, 'scheduled_starts_at_pdt_weekday_5'),\n",
       " (0.0024334535370591106, 'scheduled_starts_at_pdt_day'),\n",
       " (0.002277759037606608, 'origin_region_name_Malibu'),\n",
       " (0.002166749217582615, 'driver_created_at_pdt_month'),\n",
       " (0.001972085025247647, 'claimed_at_pdt_hour'),\n",
       " (0.0019181840533791306, 'origin_region_name_Orange County - Central'),\n",
       " (0.0019105416125204356, 'claimed_at_pdt_weekday_1'),\n",
       " (0.0018875798394922347, 'lead_organizer_created_at_pdt_weekofyear'),\n",
       " (0.0018758048975326118, 'scheduled_ends_at_pdt_dayofyear'),\n",
       " (0.0018696773327489776, 'created_at_pdt_weekday'),\n",
       " (0.0018285165986487095, 'origin_region_name_Tri Valley'),\n",
       " (0.0017451121009145845, 'route_legs_count'),\n",
       " (0.001738556038604945, 'driver_gender_male'),\n",
       " (0.001726535775825232, 'claimed_at_pdt_hour_10'),\n",
       " (0.0014537130995766574, 'origin_region_name_Central LA - West'),\n",
       " (0.0011729098967723874, 'lead_organizer_created_at_pdt_weekday'),\n",
       " (0.0011608596614833065, 'scheduled_starts_at_pdt_hour_14'),\n",
       " (0.0010416947919706697, 'claimed_at_pdt_month_4'),\n",
       " (0.0010411647082660342, 'origin_region_name_San Gabriel Valley - South'),\n",
       " (0.0010297270308347653, 'scheduled_starts_at_pdt_hour_18'),\n",
       " (0.0010250690207543225, 'origin_region_name_Peninsula South'),\n",
       " (0.0009881810391237941, 'scheduled_ends_at_pdt_day'),\n",
       " (0.0009758502007581027, 'origin_region_name_Westside'),\n",
       " (0.000907190588848982, 'driver_has_driven_this_route_before_int'),\n",
       " (0.000873578590578927, 'claimed_at_pdt_hour_4'),\n",
       " (0.0008705353811656269, 'origin_region_name_South Bay'),\n",
       " (0.0008477842571480134, 'lead_organizer_platform_web'),\n",
       " (0.0008112581511114075, 'claimed_at_pdt_hour_6'),\n",
       " (0.0006975696990150458, 'origin_region_name_North Bay'),\n",
       " (0.0006966840097753419, 'scheduled_starts_at_pdt_quarter_3'),\n",
       " (0.0006446643752627517, 'claimed_at_pdt_hour_13'),\n",
       " (0.0006334897288056611, 'claimed_at_pdt_hour_12'),\n",
       " (0.000602786999090409, 'scheduled_starts_at_pdt_weekday_3'),\n",
       " (0.0005781231924909188, 'claimed_at_pdt_hour_8'),\n",
       " (0.0005355889703049525, 'scheduled_starts_at_pdt_hour_19'),\n",
       " (0.0005256402018383045, 'origin_region_name_Southeast LA'),\n",
       " (0.0005055347911499654, 'scheduled_starts_at_pdt_month_4'),\n",
       " (0.0004919242619121533, 'carpool_int'),\n",
       " (0.0004893251520288625, 'origin_region_name_Eastside'),\n",
       " (0.0004880770618881773, 'claimed_at_pdt_weekday_2'),\n",
       " (0.00048104310720205323, 'scheduled_starts_at_pdt_hour_4'),\n",
       " (0.00047151626472161367, 'origin_region_name_San Gabriel Valley - East'),\n",
       " (0.00046809968333029223, 'origin_region_name_Orange County - West'),\n",
       " (0.00046184260838034503, 'origin_region_name_Central LA - South'),\n",
       " (0.000454218779160582, 'lead_organizer_created_at_pdt_quarter'),\n",
       " (0.00044250698861984913, 'scheduled_starts_at_pdt_hour_7'),\n",
       " (0.00043320413810572035, 'claimed_at_pdt_hour_17'),\n",
       " (0.0004139584912921042, 'scheduled_ends_at_pdt_weekday'),\n",
       " (0.0004023683502903036, 'scheduled_starts_at_pdt_hour_8'),\n",
       " (0.00036912407182606536, 'claimed_at_pdt_hour_22'),\n",
       " (0.0003675662092436026, 'origin_region_name_Inland Empire'),\n",
       " (0.0003645617912235262, 'scheduled_starts_at_pdt_month_3'),\n",
       " (0.00035967573573776704, 'claimed_at_pdt_hour_16'),\n",
       " (0.00035417663593895215, 'claimed_at_pdt_hour_3'),\n",
       " (0.0003333187651066227, 'origin_region_name_San Gabriel Valley - West'),\n",
       " (0.0003061055050798471, 'claimed_at_pdt_hour_23'),\n",
       " (0.0002975466096247379, 'scheduled_starts_at_pdt_month_2'),\n",
       " (0.0002823575732134289, 'origin_analysis_metro_name_LA'),\n",
       " (0.0002794362307385859, 'claimed_at_pdt_hour_1'),\n",
       " (0.0002620612055923237, 'origin_region_name_South LA'),\n",
       " (0.00025947192239049195, 'claimed_at_pdt_month'),\n",
       " (0.00023908615698632193, 'scheduled_starts_at_pdt_weekday_2'),\n",
       " (0.0002159516812709864, 'driver_created_at_pdt_quarter'),\n",
       " (0.00021320269230315904, 'claimed_at_pdt_weekday_5'),\n",
       " (0.00020403333632380876, 'claimed_at_pdt_hour_11'),\n",
       " (0.00019108257410214692, 'scheduled_starts_at_pdt_hour_21'),\n",
       " (0.00015915586581254784, 'scheduled_ends_at_pdt_weekofyear'),\n",
       " (0.00015781114837243462, 'scheduled_starts_at_pdt_weekday'),\n",
       " (0.00015501293952213929, 'claimed_at_pdt_hour_5'),\n",
       " (0.00014197376900848793, 'lead_organizer_created_at_pdt_month'),\n",
       " (0.00012732617877152008, 'scheduled_starts_at_pdt_month_5'),\n",
       " (8.938446872031974e-05, 'created_at_pdt_month'),\n",
       " (8.404057005767079e-05, 'claimed_at_pdt_month_3'),\n",
       " (7.9584687905807e-05, 'scheduled_ends_at_pdt_month'),\n",
       " (7.91589227274497e-05, 'scheduled_starts_at_pdt_month_10'),\n",
       " (7.59944712582794e-05, 'scheduled_starts_at_pdt_quarter'),\n",
       " (7.254364464913035e-05, 'scheduled_starts_at_pdt_month_6'),\n",
       " (5.957847518200298e-05, 'claimed_at_pdt_hour_15'),\n",
       " (4.8521235014669406e-05, 'claimed_at_pdt_month_6'),\n",
       " (4.693659661088889e-05, 'scheduled_starts_at_pdt_hour_13'),\n",
       " (1.801393446494142e-05, 'scheduled_starts_at_pdt_hour_17'),\n",
       " (9.725563966877155e-06, 'scheduled_starts_at_pdt_month'),\n",
       " (7.807498128347945e-06, 'origin_region_name_Lamorinda Walnut Creek'),\n",
       " (2.4606779820952124e-06, 'origin_region_name_San Jose'),\n",
       " (2.0326608855276125e-06, 'scheduled_starts_at_pdt_weekday_1'),\n",
       " (1.797896278654721e-06, 'claimed_at_pdt_quarter'),\n",
       " (3.6715972941080117e-07, 'is_repeating_ride_int'),\n",
       " (4.368700714950731e-09, 'scheduled_starts_at_pdt_hour_12'),\n",
       " (0.0, 'shuttle_int'),\n",
       " (0.0, 'scheduled_starts_at_pdt_weekofyear'),\n",
       " (0.0, 'scheduled_starts_at_pdt_weekday_6'),\n",
       " (0.0, 'scheduled_starts_at_pdt_weekday_4'),\n",
       " (0.0, 'scheduled_starts_at_pdt_quarter_4'),\n",
       " (0.0, 'scheduled_starts_at_pdt_quarter_2'),\n",
       " (0.0, 'scheduled_starts_at_pdt_month_9'),\n",
       " (0.0, 'scheduled_starts_at_pdt_month_8'),\n",
       " (0.0, 'scheduled_starts_at_pdt_month_7'),\n",
       " (0.0, 'scheduled_starts_at_pdt_month_12'),\n",
       " (0.0, 'scheduled_starts_at_pdt_month_11'),\n",
       " (0.0, 'scheduled_starts_at_pdt_hour_9'),\n",
       " (0.0, 'scheduled_starts_at_pdt_hour_6'),\n",
       " (0.0, 'scheduled_starts_at_pdt_hour_5'),\n",
       " (0.0, 'scheduled_starts_at_pdt_hour_3'),\n",
       " (0.0, 'scheduled_starts_at_pdt_hour_23'),\n",
       " (0.0, 'scheduled_starts_at_pdt_hour_22'),\n",
       " (0.0, 'scheduled_starts_at_pdt_hour_20'),\n",
       " (0.0, 'scheduled_starts_at_pdt_hour_2'),\n",
       " (0.0, 'scheduled_starts_at_pdt_hour_16'),\n",
       " (0.0, 'scheduled_starts_at_pdt_hour_11'),\n",
       " (0.0, 'scheduled_starts_at_pdt_hour_10'),\n",
       " (0.0, 'scheduled_starts_at_pdt_hour_1'),\n",
       " (0.0, 'scheduled_ends_at_pdt_quarter'),\n",
       " (0.0, 'origin_region_name_antelope-valley'),\n",
       " (0.0, 'origin_region_name_Ventura'),\n",
       " (0.0, 'origin_region_name_Santa Clarita'),\n",
       " (0.0, 'origin_region_name_San Francisco'),\n",
       " (0.0, 'origin_region_name_San Fernando Valley - West'),\n",
       " (0.0, 'origin_region_name_San Fernando Valley - East'),\n",
       " (0.0, 'origin_region_name_Pomona Valley'),\n",
       " (0.0, 'origin_region_name_Peninsula North'),\n",
       " (0.0, 'origin_region_name_Orange County - South'),\n",
       " (0.0, 'origin_region_name_Orange County - North'),\n",
       " (0.0, 'origin_region_name_Oakland Berkeley'),\n",
       " (0.0, 'origin_region_name_Long Beach'),\n",
       " (0.0, 'origin_region_name_East Contra Costa'),\n",
       " (0.0, 'origin_region_name_East Bay North'),\n",
       " (0.0, 'origin_region_name_Default (Unassigned)'),\n",
       " (0.0, 'origin_analysis_metro_name_OC'),\n",
       " (0.0, 'origin_analysis_metro_name_Default (Unassigned)'),\n",
       " (0.0, 'is_same_day_ride_int'),\n",
       " (0.0, 'created_at_pdt_quarter'),\n",
       " (0.0, 'coupon_consumed'),\n",
       " (0.0, 'claimed_at_pdt_weekday_6'),\n",
       " (0.0, 'claimed_at_pdt_weekday_4'),\n",
       " (0.0, 'claimed_at_pdt_weekday_3'),\n",
       " (0.0, 'claimed_at_pdt_quarter_4'),\n",
       " (0.0, 'claimed_at_pdt_quarter_3'),\n",
       " (0.0, 'claimed_at_pdt_quarter_2'),\n",
       " (0.0, 'claimed_at_pdt_month_9'),\n",
       " (0.0, 'claimed_at_pdt_month_8'),\n",
       " (0.0, 'claimed_at_pdt_month_7'),\n",
       " (0.0, 'claimed_at_pdt_month_5'),\n",
       " (0.0, 'claimed_at_pdt_month_2'),\n",
       " (0.0, 'claimed_at_pdt_month_12'),\n",
       " (0.0, 'claimed_at_pdt_month_11'),\n",
       " (0.0, 'claimed_at_pdt_month_10'),\n",
       " (0.0, 'claimed_at_pdt_hour_7'),\n",
       " (0.0, 'claimed_at_pdt_hour_20'),\n",
       " (0.0, 'claimed_at_pdt_hour_2'),\n",
       " (0.0, 'claimed_at_pdt_hour_19'),\n",
       " (0.0, 'claimed_at_pdt_hour_18'),\n",
       " (0.0, 'claimed_at_pdt_hour_14')]"
      ]
     },
     "execution_count": 51,
     "metadata": {},
     "output_type": "execute_result"
    }
   ],
   "source": [
    "importances = list(zip(model.feature_importances_, X_train.columns))\n",
    "importances.sort(reverse=True)\n",
    "importances"
   ]
  },
  {
   "cell_type": "code",
   "execution_count": 52,
   "metadata": {},
   "outputs": [
    {
     "data": {
      "text/plain": [
       "dict_values(['avg_prior_arrived_late_seconds', 'claimed_before_trip_start_secs', 'driver_previous_completed_trips', 'driver_home_lon', 'driver_id', 'driver_home_lat', 'origin_location_id', 'scheduled_starts_at_pdt_hour', 'driver_created_at_pdt_dayofyear', 'origin_lon'])"
      ]
     },
     "execution_count": 52,
     "metadata": {},
     "output_type": "execute_result"
    }
   ],
   "source": [
    "# top 10 importances\n",
    "dict(importances[:10]).values()\n"
   ]
  },
  {
   "cell_type": "code",
   "execution_count": 53,
   "metadata": {},
   "outputs": [
    {
     "data": {
      "text/plain": [
       "152"
      ]
     },
     "execution_count": 53,
     "metadata": {},
     "output_type": "execute_result"
    }
   ],
   "source": [
    "# number of non-zero features used\n",
    "len([(i,f) for i, f in importances if i > 0])"
   ]
  },
  {
   "cell_type": "code",
   "execution_count": 54,
   "metadata": {},
   "outputs": [
    {
     "data": {
      "text/plain": [
       "31"
      ]
     },
     "execution_count": 54,
     "metadata": {},
     "output_type": "execute_result"
    }
   ],
   "source": [
    "# number of features with importance above 1%\n",
    "len([(i,f) for i, f in importances if i > 0.01])"
   ]
  },
  {
   "cell_type": "code",
   "execution_count": 56,
   "metadata": {},
   "outputs": [
    {
     "data": {
      "text/plain": [
       "<matplotlib.axes._subplots.AxesSubplot at 0x10b8b3940>"
      ]
     },
     "execution_count": 56,
     "metadata": {},
     "output_type": "execute_result"
    },
    {
     "data": {
      "image/png": "[encoded data removed]",
      "text/plain": [
       "<Figure size 432x288 with 1 Axes>"
      ]
     },
     "metadata": {},
     "output_type": "display_data"
    }
   ],
   "source": [
    "pd.DataFrame(importances[:10], index=[x for (_,x) in importances[:10] ]).plot(kind = 'bar')"
   ]
  },
  {
   "cell_type": "code",
   "execution_count": 57,
   "metadata": {},
   "outputs": [
    {
     "data": {
      "text/plain": [
       "0.29379630016932234"
      ]
     },
     "execution_count": 57,
     "metadata": {},
     "output_type": "execute_result"
    }
   ],
   "source": [
    "# score against TRAINING set\n",
    "model.score(X_train,y_train)"
   ]
  },
  {
   "cell_type": "code",
   "execution_count": 58,
   "metadata": {},
   "outputs": [
    {
     "data": {
      "text/plain": [
       "0.17880554180598396"
      ]
     },
     "execution_count": 58,
     "metadata": {},
     "output_type": "execute_result"
    }
   ],
   "source": [
    "# score against TEST set\n",
    "model.score(X_test,y_test)"
   ]
  },
  {
   "cell_type": "code",
   "execution_count": 59,
   "metadata": {},
   "outputs": [
    {
     "data": {
      "text/plain": [
       "25477"
      ]
     },
     "execution_count": 59,
     "metadata": {},
     "output_type": "execute_result"
    }
   ],
   "source": [
    "model_y_test_pred = model.predict(X_test)\n",
    "model_y_test_pred.size"
   ]
  },
  {
   "cell_type": "code",
   "execution_count": 60,
   "metadata": {},
   "outputs": [
    {
     "data": {
      "text/plain": [
       "numpy.ndarray"
      ]
     },
     "execution_count": 60,
     "metadata": {},
     "output_type": "execute_result"
    }
   ],
   "source": [
    "type(model_y_test_pred)"
   ]
  },
  {
   "cell_type": "code",
   "execution_count": 61,
   "metadata": {},
   "outputs": [
    {
     "data": {
      "text/plain": [
       "array([-270.17190677, -207.3364827 ,   18.53882978, -185.42022056,\n",
       "         66.44927654, -114.35239602, -325.37415755, -676.88177902,\n",
       "       -194.66226717, -551.80785578])"
      ]
     },
     "execution_count": 61,
     "metadata": {},
     "output_type": "execute_result"
    }
   ],
   "source": [
    "model_y_test_pred[:10]"
   ]
  },
  {
   "cell_type": "code",
   "execution_count": 62,
   "metadata": {},
   "outputs": [
    {
     "data": {
      "text/plain": [
       "246.01284894860316"
      ]
     },
     "execution_count": 62,
     "metadata": {},
     "output_type": "execute_result"
    }
   ],
   "source": [
    "pd.Series(model_y_test_pred).std()"
   ]
  },
  {
   "cell_type": "code",
   "execution_count": 63,
   "metadata": {},
   "outputs": [
    {
     "data": {
      "text/plain": [
       "-0.0086116083461328"
      ]
     },
     "execution_count": 63,
     "metadata": {},
     "output_type": "execute_result"
    }
   ],
   "source": [
    "pd.Series(model_y_test_pred).corr(y_test)"
   ]
  },
  {
   "cell_type": "code",
   "execution_count": 64,
   "metadata": {},
   "outputs": [
    {
     "name": "stdout",
     "output_type": "stream",
     "text": [
      "0.180 7.57 206403 0.179 337 251 4.18\n"
     ]
    }
   ],
   "source": [
    "# regression metrics\n",
    "from sklearn.metrics import explained_variance_score, mean_squared_error, r2_score, mean_absolute_error, median_absolute_error\n",
    "from math import sqrt\n",
    "print (\"%.3f %.2f %.0f %.3f %.0f %.0f %.2f\" % \n",
    "       (explained_variance_score(y_test, model_y_test_pred),\n",
    "        sqrt(mean_squared_error(y_test, model_y_test_pred))/60, # sqrt of MSE in minutes\n",
    "        mean_squared_error(y_test, model_y_test_pred), \n",
    "        r2_score(y_test, model_y_test_pred), \n",
    "        mean_absolute_error(y_test, model_y_test_pred), \n",
    "        median_absolute_error(y_test, model_y_test_pred),\n",
    "        median_absolute_error(y_test, model_y_test_pred)/60 # MAE in minutes\n",
    "       ))"
   ]
  },
  {
   "cell_type": "code",
   "execution_count": 65,
   "metadata": {},
   "outputs": [
    {
     "data": {
      "text/plain": [
       "array([  0., 300., 900.])"
      ]
     },
     "execution_count": 65,
     "metadata": {},
     "output_type": "execute_result"
    }
   ],
   "source": [
    "# make classifications from seconds late target\n",
    "bins = np.array([0.0, 5*60, 15*60]) # 0 on-time, 1 almost on-time, 2 late, 3 extremely late\n",
    "bins"
   ]
  },
  {
   "cell_type": "code",
   "execution_count": 66,
   "metadata": {},
   "outputs": [
    {
     "data": {
      "text/plain": [
       "array([1, 0, 0, 0, 1, 0, 0, 0, 0, 0])"
      ]
     },
     "execution_count": 66,
     "metadata": {},
     "output_type": "execute_result"
    }
   ],
   "source": [
    "np.digitize(y_test, bins)[:10]"
   ]
  },
  {
   "cell_type": "code",
   "execution_count": 67,
   "metadata": {
    "scrolled": true
   },
   "outputs": [
    {
     "name": "stdout",
     "output_type": "stream",
     "text": [
      "[[    0 21301]\n",
      " [    1  3118]\n",
      " [    2   904]\n",
      " [    3   154]]\n"
     ]
    }
   ],
   "source": [
    "# materialize y_test_class array\n",
    "# check to see how many trips are categorized as 0 on-time, 1 almost on-time, 2 late, 3 extremely late\n",
    "y_test_class=np.digitize(y_test, bins)\n",
    "unique, counts = np.unique(y_test_class, return_counts=True)\n",
    "print(np.asarray((unique, counts)).T)"
   ]
  },
  {
   "cell_type": "code",
   "execution_count": 68,
   "metadata": {},
   "outputs": [
    {
     "name": "stdout",
     "output_type": "stream",
     "text": [
      "[[    0 24941]\n",
      " [    1   457]\n",
      " [    2    69]\n",
      " [    3    10]]\n"
     ]
    }
   ],
   "source": [
    "# materialize model_y_pred_class\n",
    "# check to see how many trips are categorized as 0 on-time, 1 almost on-time, 2 late, 3 extremely late\n",
    "model_y_test_pred_class=np.digitize(model_y_test_pred, bins)\n",
    "print(np.asarray(np.unique(model_y_test_pred_class, return_counts=True)).T)"
   ]
  },
  {
   "cell_type": "code",
   "execution_count": 69,
   "metadata": {},
   "outputs": [
    {
     "name": "stdout",
     "output_type": "stream",
     "text": [
      "             precision    recall  f1-score   support\n",
      "\n",
      "          0       0.84      0.99      0.91     21301\n",
      "          1       0.29      0.04      0.07      3118\n",
      "          2       0.26      0.02      0.04       904\n",
      "          3       0.20      0.01      0.02       154\n",
      "\n",
      "avg / total       0.75      0.83      0.77     25477\n",
      "\n"
     ]
    }
   ],
   "source": [
    "from sklearn.metrics import classification_report\n",
    "print(classification_report(y_test_class,model_y_test_pred_class))"
   ]
  },
  {
   "cell_type": "code",
   "execution_count": 70,
   "metadata": {},
   "outputs": [
    {
     "name": "stdout",
     "output_type": "stream",
     "text": [
      "[[21006   273    22     0]\n",
      " [ 2970   132    13     3]\n",
      " [  838    43    18     5]\n",
      " [  127     9    16     2]]\n"
     ]
    }
   ],
   "source": [
    "from sklearn.metrics import confusion_matrix\n",
    "print(confusion_matrix(y_test_class,model_y_test_pred_class,labels=[0,1,2,3]))"
   ]
  },
  {
   "cell_type": "code",
   "execution_count": null,
   "metadata": {},
   "outputs": [],
   "source": []
  }
 ],
 "metadata": {
  "kernelspec": {
   "display_name": "Python 3",
   "language": "python",
   "name": "python3"
  },
  "language_info": {
   "codemirror_mode": {
    "name": "ipython",
    "version": 3
   },
   "file_extension": ".py",
   "mimetype": "text/x-python",
   "name": "python",
   "nbconvert_exporter": "python",
   "pygments_lexer": "ipython3",
   "version": "3.6.5"
  }
 },
 "nbformat": 4,
 "nbformat_minor": 2
}
