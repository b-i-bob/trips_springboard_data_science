{
 "cells": [
  {
   "cell_type": "markdown",
   "metadata": {},
   "source": [
    "### Linear regression model V11\n",
    "added misc one-hot encoded features driver_gender, platform, metro, region"
   ]
  },
  {
   "cell_type": "code",
   "execution_count": 1,
   "metadata": {},
   "outputs": [],
   "source": [
    "fileprefix='./lateness_PREP_V9_'"
   ]
  },
  {
   "cell_type": "code",
   "execution_count": 2,
   "metadata": {},
   "outputs": [],
   "source": [
    "import pandas as pd\n",
    "import numpy as np"
   ]
  },
  {
   "cell_type": "code",
   "execution_count": 3,
   "metadata": {},
   "outputs": [],
   "source": [
    "df_X=pd.read_csv(fileprefix+'X.csv', sep='\\t')"
   ]
  },
  {
   "cell_type": "code",
   "execution_count": 4,
   "metadata": {},
   "outputs": [
    {
     "data": {
      "text/plain": [
       "(125675, 214)"
      ]
     },
     "execution_count": 4,
     "metadata": {},
     "output_type": "execute_result"
    }
   ],
   "source": [
    "df_X.shape"
   ]
  },
  {
   "cell_type": "code",
   "execution_count": 5,
   "metadata": {},
   "outputs": [],
   "source": [
    "df_y=pd.read_csv(fileprefix+'y.csv', sep='\\t', header=None)"
   ]
  },
  {
   "cell_type": "code",
   "execution_count": 6,
   "metadata": {},
   "outputs": [
    {
     "data": {
      "text/plain": [
       "(125675, 2)"
      ]
     },
     "execution_count": 6,
     "metadata": {},
     "output_type": "execute_result"
    }
   ],
   "source": [
    "type(df_y)\n",
    "df_y.shape"
   ]
  },
  {
   "cell_type": "code",
   "execution_count": 7,
   "metadata": {},
   "outputs": [
    {
     "data": {
      "text/html": [
       "<div>\n",
       "<style scoped>\n",
       "    .dataframe tbody tr th:only-of-type {\n",
       "        vertical-align: middle;\n",
       "    }\n",
       "\n",
       "    .dataframe tbody tr th {\n",
       "        vertical-align: top;\n",
       "    }\n",
       "\n",
       "    .dataframe thead th {\n",
       "        text-align: right;\n",
       "    }\n",
       "</style>\n",
       "<table border=\"1\" class=\"dataframe\">\n",
       "  <thead>\n",
       "    <tr style=\"text-align: right;\">\n",
       "      <th></th>\n",
       "      <th>0</th>\n",
       "      <th>1</th>\n",
       "    </tr>\n",
       "  </thead>\n",
       "  <tbody>\n",
       "    <tr>\n",
       "      <th>0</th>\n",
       "      <td>5</td>\n",
       "      <td>-497.0</td>\n",
       "    </tr>\n",
       "    <tr>\n",
       "      <th>1</th>\n",
       "      <td>6</td>\n",
       "      <td>5.0</td>\n",
       "    </tr>\n",
       "    <tr>\n",
       "      <th>2</th>\n",
       "      <td>7</td>\n",
       "      <td>-313.0</td>\n",
       "    </tr>\n",
       "    <tr>\n",
       "      <th>3</th>\n",
       "      <td>8</td>\n",
       "      <td>-296.0</td>\n",
       "    </tr>\n",
       "    <tr>\n",
       "      <th>4</th>\n",
       "      <td>9</td>\n",
       "      <td>-166.0</td>\n",
       "    </tr>\n",
       "  </tbody>\n",
       "</table>\n",
       "</div>"
      ],
      "text/plain": [
       "   0      1\n",
       "0  5 -497.0\n",
       "1  6    5.0\n",
       "2  7 -313.0\n",
       "3  8 -296.0\n",
       "4  9 -166.0"
      ]
     },
     "execution_count": 7,
     "metadata": {},
     "output_type": "execute_result"
    }
   ],
   "source": [
    "df_y.head()"
   ]
  },
  {
   "cell_type": "code",
   "execution_count": 8,
   "metadata": {},
   "outputs": [
    {
     "data": {
      "text/plain": [
       "0   -497.0\n",
       "1      5.0\n",
       "2   -313.0\n",
       "3   -296.0\n",
       "4   -166.0\n",
       "Name: 1, dtype: float64"
      ]
     },
     "execution_count": 8,
     "metadata": {},
     "output_type": "execute_result"
    }
   ],
   "source": [
    "y=df_y[1]\n",
    "y.head()"
   ]
  },
  {
   "cell_type": "code",
   "execution_count": 9,
   "metadata": {},
   "outputs": [
    {
     "data": {
      "text/plain": [
       "(125675,)"
      ]
     },
     "execution_count": 9,
     "metadata": {},
     "output_type": "execute_result"
    }
   ],
   "source": [
    "y.shape"
   ]
  },
  {
   "cell_type": "code",
   "execution_count": 10,
   "metadata": {},
   "outputs": [
    {
     "data": {
      "text/html": [
       "<div>\n",
       "<style scoped>\n",
       "    .dataframe tbody tr th:only-of-type {\n",
       "        vertical-align: middle;\n",
       "    }\n",
       "\n",
       "    .dataframe tbody tr th {\n",
       "        vertical-align: top;\n",
       "    }\n",
       "\n",
       "    .dataframe thead th {\n",
       "        text-align: right;\n",
       "    }\n",
       "</style>\n",
       "<table border=\"1\" class=\"dataframe\">\n",
       "  <thead>\n",
       "    <tr style=\"text-align: right;\">\n",
       "      <th></th>\n",
       "      <th>Unnamed: 0</th>\n",
       "      <th>scheduled_starts_at_pdt_quarter_2</th>\n",
       "      <th>scheduled_starts_at_pdt_month_4</th>\n",
       "      <th>scheduled_starts_at_pdt_month_7</th>\n",
       "      <th>claimed_at_pdt_hour_11</th>\n",
       "      <th>origin_analysis_metro_name_Default (Unassigned)</th>\n",
       "      <th>claimed_at_pdt_weekday_1</th>\n",
       "      <th>lead_organizer_id</th>\n",
       "      <th>lead_organizer_created_at_pdt_hour</th>\n",
       "      <th>origin_location_id</th>\n",
       "      <th>...</th>\n",
       "      <th>scheduled_starts_at_pdt_weekday_2</th>\n",
       "      <th>scheduled_starts_at_pdt_month_3</th>\n",
       "      <th>scheduled_starts_at_pdt_month_6</th>\n",
       "      <th>claimed_at_pdt_hour_2</th>\n",
       "      <th>id</th>\n",
       "      <th>scheduled_starts_at_pdt_hour_10</th>\n",
       "      <th>claimed_at_pdt_month_4</th>\n",
       "      <th>scheduled_ends_at_pdt_hour</th>\n",
       "      <th>organizers_count</th>\n",
       "      <th>origin_region_name_Orange County - West</th>\n",
       "    </tr>\n",
       "  </thead>\n",
       "  <tbody>\n",
       "    <tr>\n",
       "      <th>0</th>\n",
       "      <td>5</td>\n",
       "      <td>0</td>\n",
       "      <td>0</td>\n",
       "      <td>0</td>\n",
       "      <td>0</td>\n",
       "      <td>0</td>\n",
       "      <td>1</td>\n",
       "      <td>81281</td>\n",
       "      <td>19</td>\n",
       "      <td>82879.0</td>\n",
       "      <td>...</td>\n",
       "      <td>0</td>\n",
       "      <td>0</td>\n",
       "      <td>0</td>\n",
       "      <td>0</td>\n",
       "      <td>338150</td>\n",
       "      <td>0</td>\n",
       "      <td>0</td>\n",
       "      <td>16</td>\n",
       "      <td>1.0</td>\n",
       "      <td>0</td>\n",
       "    </tr>\n",
       "    <tr>\n",
       "      <th>1</th>\n",
       "      <td>6</td>\n",
       "      <td>0</td>\n",
       "      <td>0</td>\n",
       "      <td>0</td>\n",
       "      <td>0</td>\n",
       "      <td>0</td>\n",
       "      <td>1</td>\n",
       "      <td>80068</td>\n",
       "      <td>19</td>\n",
       "      <td>83958.0</td>\n",
       "      <td>...</td>\n",
       "      <td>0</td>\n",
       "      <td>0</td>\n",
       "      <td>0</td>\n",
       "      <td>0</td>\n",
       "      <td>310958</td>\n",
       "      <td>0</td>\n",
       "      <td>0</td>\n",
       "      <td>16</td>\n",
       "      <td>1.0</td>\n",
       "      <td>0</td>\n",
       "    </tr>\n",
       "    <tr>\n",
       "      <th>2</th>\n",
       "      <td>7</td>\n",
       "      <td>0</td>\n",
       "      <td>0</td>\n",
       "      <td>0</td>\n",
       "      <td>0</td>\n",
       "      <td>0</td>\n",
       "      <td>0</td>\n",
       "      <td>87802</td>\n",
       "      <td>20</td>\n",
       "      <td>84580.0</td>\n",
       "      <td>...</td>\n",
       "      <td>1</td>\n",
       "      <td>0</td>\n",
       "      <td>0</td>\n",
       "      <td>0</td>\n",
       "      <td>338135</td>\n",
       "      <td>0</td>\n",
       "      <td>0</td>\n",
       "      <td>16</td>\n",
       "      <td>1.0</td>\n",
       "      <td>0</td>\n",
       "    </tr>\n",
       "    <tr>\n",
       "      <th>3</th>\n",
       "      <td>8</td>\n",
       "      <td>0</td>\n",
       "      <td>0</td>\n",
       "      <td>0</td>\n",
       "      <td>0</td>\n",
       "      <td>0</td>\n",
       "      <td>0</td>\n",
       "      <td>81561</td>\n",
       "      <td>20</td>\n",
       "      <td>87880.0</td>\n",
       "      <td>...</td>\n",
       "      <td>0</td>\n",
       "      <td>0</td>\n",
       "      <td>0</td>\n",
       "      <td>0</td>\n",
       "      <td>324615</td>\n",
       "      <td>0</td>\n",
       "      <td>0</td>\n",
       "      <td>16</td>\n",
       "      <td>1.0</td>\n",
       "      <td>0</td>\n",
       "    </tr>\n",
       "    <tr>\n",
       "      <th>4</th>\n",
       "      <td>9</td>\n",
       "      <td>0</td>\n",
       "      <td>0</td>\n",
       "      <td>0</td>\n",
       "      <td>0</td>\n",
       "      <td>0</td>\n",
       "      <td>0</td>\n",
       "      <td>76793</td>\n",
       "      <td>19</td>\n",
       "      <td>92149.0</td>\n",
       "      <td>...</td>\n",
       "      <td>0</td>\n",
       "      <td>0</td>\n",
       "      <td>0</td>\n",
       "      <td>0</td>\n",
       "      <td>247127</td>\n",
       "      <td>0</td>\n",
       "      <td>0</td>\n",
       "      <td>15</td>\n",
       "      <td>1.0</td>\n",
       "      <td>0</td>\n",
       "    </tr>\n",
       "  </tbody>\n",
       "</table>\n",
       "<p>5 rows × 214 columns</p>\n",
       "</div>"
      ],
      "text/plain": [
       "   Unnamed: 0  scheduled_starts_at_pdt_quarter_2  \\\n",
       "0           5                                  0   \n",
       "1           6                                  0   \n",
       "2           7                                  0   \n",
       "3           8                                  0   \n",
       "4           9                                  0   \n",
       "\n",
       "   scheduled_starts_at_pdt_month_4  scheduled_starts_at_pdt_month_7  \\\n",
       "0                                0                                0   \n",
       "1                                0                                0   \n",
       "2                                0                                0   \n",
       "3                                0                                0   \n",
       "4                                0                                0   \n",
       "\n",
       "   claimed_at_pdt_hour_11  origin_analysis_metro_name_Default (Unassigned)  \\\n",
       "0                       0                                                0   \n",
       "1                       0                                                0   \n",
       "2                       0                                                0   \n",
       "3                       0                                                0   \n",
       "4                       0                                                0   \n",
       "\n",
       "   claimed_at_pdt_weekday_1  lead_organizer_id  \\\n",
       "0                         1              81281   \n",
       "1                         1              80068   \n",
       "2                         0              87802   \n",
       "3                         0              81561   \n",
       "4                         0              76793   \n",
       "\n",
       "   lead_organizer_created_at_pdt_hour  origin_location_id  \\\n",
       "0                                  19             82879.0   \n",
       "1                                  19             83958.0   \n",
       "2                                  20             84580.0   \n",
       "3                                  20             87880.0   \n",
       "4                                  19             92149.0   \n",
       "\n",
       "                    ...                     scheduled_starts_at_pdt_weekday_2  \\\n",
       "0                   ...                                                     0   \n",
       "1                   ...                                                     0   \n",
       "2                   ...                                                     1   \n",
       "3                   ...                                                     0   \n",
       "4                   ...                                                     0   \n",
       "\n",
       "   scheduled_starts_at_pdt_month_3  scheduled_starts_at_pdt_month_6  \\\n",
       "0                                0                                0   \n",
       "1                                0                                0   \n",
       "2                                0                                0   \n",
       "3                                0                                0   \n",
       "4                                0                                0   \n",
       "\n",
       "   claimed_at_pdt_hour_2      id  scheduled_starts_at_pdt_hour_10  \\\n",
       "0                      0  338150                                0   \n",
       "1                      0  310958                                0   \n",
       "2                      0  338135                                0   \n",
       "3                      0  324615                                0   \n",
       "4                      0  247127                                0   \n",
       "\n",
       "   claimed_at_pdt_month_4  scheduled_ends_at_pdt_hour  organizers_count  \\\n",
       "0                       0                          16               1.0   \n",
       "1                       0                          16               1.0   \n",
       "2                       0                          16               1.0   \n",
       "3                       0                          16               1.0   \n",
       "4                       0                          15               1.0   \n",
       "\n",
       "   origin_region_name_Orange County - West  \n",
       "0                                        0  \n",
       "1                                        0  \n",
       "2                                        0  \n",
       "3                                        0  \n",
       "4                                        0  \n",
       "\n",
       "[5 rows x 214 columns]"
      ]
     },
     "execution_count": 10,
     "metadata": {},
     "output_type": "execute_result"
    }
   ],
   "source": [
    "df_X.head()"
   ]
  },
  {
   "cell_type": "code",
   "execution_count": 11,
   "metadata": {},
   "outputs": [
    {
     "data": {
      "text/plain": [
       "count    125675.0\n",
       "mean       -416.0\n",
       "std         509.0\n",
       "min       -1800.0\n",
       "25%        -657.0\n",
       "50%        -324.0\n",
       "75%         -96.0\n",
       "max        1800.0\n",
       "Name: 1, dtype: float64"
      ]
     },
     "execution_count": 11,
     "metadata": {},
     "output_type": "execute_result"
    }
   ],
   "source": [
    "y.describe().round()"
   ]
  },
  {
   "cell_type": "code",
   "execution_count": 12,
   "metadata": {},
   "outputs": [],
   "source": [
    "# break df_X,y into test and train sets\n",
    "from sklearn.model_selection import train_test_split\n",
    "X_train, X_test, y_train, y_test = train_test_split(df_X, y, test_size=0.20, random_state=808)"
   ]
  },
  {
   "cell_type": "code",
   "execution_count": 13,
   "metadata": {},
   "outputs": [
    {
     "name": "stdout",
     "output_type": "stream",
     "text": [
      "(100540, 214)\n",
      "(25135, 214)\n",
      "(100540,)\n",
      "(25135,)\n"
     ]
    }
   ],
   "source": [
    "for i in X_train, X_test, y_train, y_test:\n",
    "    print(i.shape)"
   ]
  },
  {
   "cell_type": "code",
   "execution_count": 14,
   "metadata": {},
   "outputs": [],
   "source": [
    "# select a linear model\n",
    "import sklearn.linear_model\n",
    "model=sklearn.linear_model.LinearRegression(normalize=True)"
   ]
  },
  {
   "cell_type": "code",
   "execution_count": 15,
   "metadata": {},
   "outputs": [],
   "source": [
    "# fit model\n",
    "model=model.fit(X_train,y_train)"
   ]
  },
  {
   "cell_type": "code",
   "execution_count": 16,
   "metadata": {
    "scrolled": true
   },
   "outputs": [
    {
     "data": {
      "text/plain": [
       "array([-1.01871686e-05,  5.30369822e+14, -1.03097829e+15, -2.87368236e+14,\n",
       "       -1.10083611e+15, -8.91482252e+16, -3.73765259e+14,  3.47497369e-03,\n",
       "        3.98778200e-01,  1.06611593e-04, -1.52018379e+01, -9.00684093e+14,\n",
       "        4.77309113e+14, -1.22645042e+15, -1.98497717e+14, -6.22701999e+14,\n",
       "       -1.30098814e+15,  4.01302941e+00, -6.16898129e+16, -9.58973514e+14,\n",
       "       -6.22701999e+13, -2.63779528e+01, -2.10159622e+15,  1.34733135e+11,\n",
       "        2.48313750e+00,  6.01849513e+14,  3.48015658e+01,  1.30072951e+08,\n",
       "       -6.60230573e+00, -8.39101825e+14,  1.21977775e-03, -6.54214861e+12,\n",
       "        4.32381334e-01,  3.09860054e+07, -9.90869456e+07, -1.45665510e+01,\n",
       "       -7.79165980e+14, -1.31858858e+15, -1.50114016e+15, -6.90961410e+12,\n",
       "       -5.60431799e+14,  1.00076010e+14,  9.12350402e+02, -1.79807534e+14,\n",
       "       -1.25865274e+15, -7.00532073e+14, -1.13878105e+15, -1.19531532e+15,\n",
       "       -1.44011976e+14, -1.96264458e+13, -9.92488584e+13, -9.06644916e+13,\n",
       "        3.28113572e+01, -1.96368185e+14,  2.28455511e+01, -9.31888126e+01,\n",
       "       -4.79486757e+14, -8.66441835e+00, -2.38798186e+14,  9.92488624e+13,\n",
       "       -8.99037669e+14,  3.11351000e+13, -1.12129578e+15, -4.67026500e+14,\n",
       "       -5.91566899e+14, -6.93816569e+05, -1.02745830e+15, -1.31130783e+15,\n",
       "       -1.06404425e+17,  4.46174013e+14, -3.14515749e-03, -1.89913350e+14,\n",
       "       -3.04211329e+00, -8.62354415e+14,  8.96666261e+13, -1.55675500e+14,\n",
       "       -4.98161600e+14, -8.85739348e+00, -1.92284660e+15,  3.92517657e+01,\n",
       "       -2.53933340e+11, -4.35891400e+14,  1.19200206e+11,  7.50333305e+06,\n",
       "       -8.19714962e+06, -2.87493090e+14,  3.78570073e-02,  4.52848056e+14,\n",
       "        3.53599197e+14,  5.39579313e+14,  3.73765259e+14, -1.70129218e+15,\n",
       "        9.33834803e+00, -3.42486100e+14, -2.55755434e+00, -4.19550912e+14,\n",
       "       -5.00380052e+14, -4.66363461e+05,  1.43805875e+01,  1.30192445e+05,\n",
       "       -9.34052999e+13, -8.07244213e+01, -3.06836491e+00, -1.40106415e+15,\n",
       "       -6.00456062e+14,  1.57157144e+13, -3.27107430e+13,  6.62358837e+04,\n",
       "       -2.30174824e+15, -2.46876468e+00, -5.29296699e+14,  1.13953914e+00,\n",
       "       -2.24259155e+15,  5.70714413e+14, -4.69911172e-01, -7.47530518e+14,\n",
       "        3.16462618e+13,  8.68179011e+00, -3.73621200e+14, -2.07663086e+14,\n",
       "       -2.26395166e+12,  1.22699593e+00, -3.92528917e+13, -3.11351000e+13,\n",
       "       -2.63911651e+02,  4.15038913e+14, -2.21422917e+01,  5.08444213e+14,\n",
       "       -1.20091212e+15, -2.20167223e+15,  8.91585078e+16,  7.38571434e+14,\n",
       "       -5.89966864e+14, -1.49506104e+15,  3.52768713e+14,  1.99336813e-01,\n",
       "       -1.00076010e+15,  2.06322569e-03, -2.05491660e+15, -2.89162208e+14,\n",
       "       -7.21012245e+14, -3.11702940e+07, -7.19230135e+14, -4.07133026e+14,\n",
       "       -3.17565974e+00,  1.49245927e+13, -3.11351000e+14,  8.78105103e+05,\n",
       "       -1.01890936e+15, -3.07884167e+14, -1.90144420e+15, -3.84093823e+00,\n",
       "       -3.59615068e+14, -1.72909460e+01,  9.07055075e+07, -6.66246874e+04,\n",
       "       -7.74611929e-05, -5.06381884e+14, -1.86882629e+15, -1.24540400e+14,\n",
       "        2.03716048e+02,  3.34030999e+13, -1.60121617e+15, -2.59876626e+14,\n",
       "       -1.19871689e+15, -1.29836824e+05, -1.68277708e+01,  5.99358446e+13,\n",
       "       -2.00152021e+15, -6.59294291e+14,  4.26462050e-01,  1.12037466e+14,\n",
       "        1.55675500e+14, -2.61685944e+13, -5.74861325e+14, -2.42435070e+13,\n",
       "       -1.37852443e+15,  2.77969563e+00, -2.39743378e+14,  7.37052250e+02,\n",
       "       -4.04756300e+14,  3.83903813e+14, -4.00304042e+14, -1.68292076e+14,\n",
       "       -1.80136819e+15,  2.18366143e+00, -1.16418022e+15,  3.99530556e+14,\n",
       "       -5.39422602e+14,  3.21633613e+14, -2.99679223e+14, -3.00228031e+14,\n",
       "       -1.00076010e+14,  1.94274319e+14, -5.26013069e-01,  4.94621404e-02,\n",
       "        8.56545586e+01, -6.28523259e+01, -1.07884520e+15,  3.74086686e+00,\n",
       "       -8.00608083e+14,  9.74750809e-01, -7.05654826e+01, -8.14803222e-03,\n",
       "       -1.30842972e+13, -5.53495537e+14, -1.59880092e+15, -2.00152021e+14,\n",
       "       -1.66167372e-04, -5.99358446e+14,  5.52096914e+14,  2.62454396e+01,\n",
       "       -1.08717448e+01, -1.25758552e+15])"
      ]
     },
     "execution_count": 16,
     "metadata": {},
     "output_type": "execute_result"
    }
   ],
   "source": [
    "model.coef_"
   ]
  },
  {
   "cell_type": "code",
   "execution_count": 17,
   "metadata": {
    "scrolled": true
   },
   "outputs": [
    {
     "data": {
      "text/plain": [
       "0                      0\n",
       "1        530369822124746\n",
       "2      -1030978288676129\n",
       "3       -287368235557604\n",
       "4      -1100836114267292\n",
       "5     -89148225152143520\n",
       "6       -373765258844129\n",
       "7                      0\n",
       "8                      0\n",
       "9                      0\n",
       "10                   -15\n",
       "11      -900684093491396\n",
       "12       477309112925265\n",
       "13     -1226450420380091\n",
       "14      -198497717149739\n",
       "15      -622701999378672\n",
       "16     -1300988135043174\n",
       "17                     4\n",
       "18    -61689812938479760\n",
       "19      -958973513990055\n",
       "20       -62270199937880\n",
       "21                   -26\n",
       "22     -2101596218146646\n",
       "23          134733134862\n",
       "24                     2\n",
       "25       601849512801131\n",
       "26                    34\n",
       "27             130072951\n",
       "28                    -6\n",
       "29      -839101824741320\n",
       "             ...        \n",
       "184    -1801368186982856\n",
       "185                    2\n",
       "186    -1164180220442282\n",
       "187      399530556012866\n",
       "188     -539422601619402\n",
       "189      321633613080643\n",
       "190     -299679223121854\n",
       "191     -300228031163841\n",
       "192     -100076010387943\n",
       "193      194274319044530\n",
       "194                    0\n",
       "195                    0\n",
       "196                   85\n",
       "197                  -62\n",
       "198    -1078845203238795\n",
       "199                    3\n",
       "200     -800608083103499\n",
       "201                    0\n",
       "202                  -70\n",
       "203                    0\n",
       "204      -13084297219188\n",
       "205     -553495537250033\n",
       "206    -1598800920810999\n",
       "207     -200152020775893\n",
       "208                    0\n",
       "209     -599358446243772\n",
       "210      552096914330908\n",
       "211                   26\n",
       "212                  -10\n",
       "213    -1257585520349039\n",
       "Length: 214, dtype: int64"
      ]
     },
     "execution_count": 17,
     "metadata": {},
     "output_type": "execute_result"
    }
   ],
   "source": [
    "pd.Series(model.coef_).astype(int)"
   ]
  },
  {
   "cell_type": "code",
   "execution_count": 18,
   "metadata": {},
   "outputs": [
    {
     "data": {
      "text/plain": [
       "-399539137114836.0"
      ]
     },
     "execution_count": 18,
     "metadata": {},
     "output_type": "execute_result"
    }
   ],
   "source": [
    "model.intercept_"
   ]
  },
  {
   "cell_type": "code",
   "execution_count": 19,
   "metadata": {},
   "outputs": [
    {
     "data": {
      "text/plain": [
       "Unnamed: 0                                         6.259357e+04\n",
       "scheduled_starts_at_pdt_quarter_2                  4.191305e-01\n",
       "scheduled_starts_at_pdt_month_4                    2.495027e-01\n",
       "scheduled_starts_at_pdt_month_7                    2.181308e-01\n",
       "claimed_at_pdt_hour_11                             1.985640e-01\n",
       "origin_analysis_metro_name_Default (Unassigned)    6.307454e-03\n",
       "claimed_at_pdt_weekday_1                           3.832987e-01\n",
       "lead_organizer_id                                  2.836254e+04\n",
       "lead_organizer_created_at_pdt_hour                 4.782270e+00\n",
       "origin_location_id                                 3.680007e+04\n",
       "trip_est_duration_secs                             7.517752e+02\n",
       "claimed_at_pdt_hour_9                              2.171226e-01\n",
       "origin_region_name_North Bay                       8.977842e-02\n",
       "origin_region_name_Orange County - South           1.847616e-01\n",
       "claimed_at_pdt_month_3                             2.793281e-01\n",
       "origin_region_name_Westside                        3.026880e-01\n",
       "claimed_at_pdt_hour_13                             2.140422e-01\n",
       "lead_organizer_created_at_pdt_weekofyear           1.090812e+01\n",
       "scheduled_starts_at_pdt_hour_1                     0.000000e+00\n",
       "scheduled_starts_at_pdt_hour_16                    3.103277e-01\n",
       "origin_region_name_Central LA - West               2.467008e-01\n",
       "is_affiliate_int                                   2.673397e-01\n",
       "claimed_at_pdt_hour_21                             1.877844e-01\n",
       "scheduled_ends_at_pdt_dayofyear                    1.054582e+02\n",
       "lead_organizer_created_at_pdt_dayofyear            7.665583e+01\n",
       "origin_region_name_Peninsula North                 7.220991e-02\n",
       "destination_lat                                    1.466265e+00\n",
       "trip_claimed_after_trip_created                    1.814771e+06\n",
       "organizer_home_lon                                 1.100766e+01\n",
       "scheduled_starts_at_pdt_hour_14                    3.514767e-01\n",
       "                                                       ...     \n",
       "claimed_at_pdt_hour_18                             2.213025e-01\n",
       "created_at_pdt_weekofyear                          1.518791e+01\n",
       "origin_region_name_Orange County - Central         2.200893e-01\n",
       "scheduled_starts_at_pdt_month_10                   3.312218e-01\n",
       "scheduled_starts_at_pdt_hour_9                     1.198296e-01\n",
       "origin_region_name_San Francisco                   1.361302e-01\n",
       "scheduled_starts_at_pdt_hour_5                     3.729015e-02\n",
       "claimed_at_pdt_hour_3                              6.835683e-02\n",
       "claimed_at_pdt_hour_1                              8.581929e-02\n",
       "claimed_at_pdt_quarter_4                           4.569504e-01\n",
       "claimed_at_pdt_weekofyear                          1.507906e+01\n",
       "driver_previous_completed_trips                    3.427828e+02\n",
       "lead_organizer_platform_web                        7.853678e-02\n",
       "driver_gender_male                                 6.914497e-02\n",
       "scheduled_starts_at_pdt_hour_18                    1.819099e-01\n",
       "lead_organizer_created_at_pdt_quarter              8.076552e-01\n",
       "claimed_at_pdt_hour_8                              2.012094e-01\n",
       "trip_predicted_raw_fare                            1.222204e+01\n",
       "driver_created_at_pdt_quarter                      8.817053e-01\n",
       "lead_organizer_previous_completed_trips            2.078520e+02\n",
       "scheduled_starts_at_pdt_weekday_2                  4.161782e-01\n",
       "scheduled_starts_at_pdt_month_3                    2.888212e-01\n",
       "scheduled_starts_at_pdt_month_6                    2.505018e-01\n",
       "claimed_at_pdt_hour_2                              7.097240e-02\n",
       "id                                                 9.032390e+04\n",
       "scheduled_starts_at_pdt_hour_10                    1.084176e-01\n",
       "claimed_at_pdt_month_4                             2.604898e-01\n",
       "scheduled_ends_at_pdt_hour                         3.780759e+00\n",
       "organizers_count                                   1.717336e-01\n",
       "origin_region_name_Orange County - West            1.488103e-01\n",
       "Length: 214, dtype: float64"
      ]
     },
     "execution_count": 19,
     "metadata": {},
     "output_type": "execute_result"
    }
   ],
   "source": [
    "X_train.std()"
   ]
  },
  {
   "cell_type": "code",
   "execution_count": 36,
   "metadata": {},
   "outputs": [
    {
     "name": "stdout",
     "output_type": "stream",
     "text": [
      "origin_analysis_metro_name_Default (Unassigned)   -9223372036854775808\n",
      "origin_region_name_antelope-valley                 -651573841444286592\n",
      "scheduled_starts_at_pdt_hour_23                     -77281560373768816\n",
      "scheduled_starts_at_pdt_hour_3                      -57013450416174136\n",
      "scheduled_starts_at_pdt_hour_22                     -36008205399018092\n",
      "scheduled_starts_at_pdt_hour_21                     -20069524985243216\n",
      "claimed_at_pdt_hour_23                              -18089657016276980\n",
      "scheduled_starts_at_pdt_hour_20                     -13533939006715420\n",
      "claimed_at_pdt_hour_22                              -13126053532044140\n",
      "origin_region_name_Pomona Valley                    -11888911049702508\n",
      "scheduled_starts_at_pdt_hour_4                      -11732214309986624\n",
      "claimed_at_pdt_hour_21                              -11191540164066754\n",
      "claimed_at_pdt_hour_20                              -10103398453444082\n",
      "origin_region_name_Inland Empire                     -9641608931583952\n",
      "origin_region_name_Southeast LA                      -9218128149298688\n",
      "scheduled_starts_at_pdt_hour_19                      -9190682207499504\n",
      "origin_region_name_Orange County - West              -8450931661953060\n",
      "origin_region_name_Ventura                           -8161571386582160\n",
      "claimed_at_pdt_hour_18                               -8139843853439767\n",
      "claimed_at_pdt_hour_19                               -8043039224878168\n",
      "scheduled_starts_at_pdt_hour_5                       -8036417320730639\n",
      "claimed_at_pdt_weekday_5                             -7972316710758629\n",
      "claimed_at_pdt_hour_17                               -7441352405394637\n",
      "claimed_at_pdt_hour_15                               -7120453127673884\n",
      "origin_region_name_Orange County - North             -6686254893859285\n",
      "claimed_at_pdt_hour_14                               -6638352349840797\n",
      "origin_region_name_Orange County - South             -6638014207178946\n",
      "claimed_at_pdt_hour_16                               -6632522822363422\n",
      "claimed_at_pdt_weekday_6                             -6479544990614096\n",
      "scheduled_starts_at_pdt_month_6                      -6382391775217735\n",
      "claimed_at_pdt_hour_13                               -6078186308416517\n",
      "scheduled_starts_at_pdt_hour_18                      -5930657034933701\n",
      "scheduled_starts_at_pdt_hour_11                      -5779067862678481\n",
      "claimed_at_pdt_hour_11                               -5543985959039893\n",
      "scheduled_starts_at_pdt_hour_10                      -5528240647183678\n",
      "origin_region_name_Orange County - Central           -5289580337355480\n",
      "claimed_at_pdt_hour_10                               -5173161871103372\n",
      "origin_region_name_San Gabriel Valley - South        -4977597339317780\n",
      "claimed_at_pdt_weekday_4                             -4940988974799377\n",
      "claimed_at_pdt_hour_4                                -4884009035352001\n",
      "scheduled_starts_at_pdt_month_5                      -4506620496126643\n",
      "scheduled_starts_at_pdt_hour_9                       -4501580361535869\n",
      "origin_region_name_San Gabriel Valley - East         -4486659555244953\n",
      "claimed_at_pdt_hour_3                                -4392070979508121\n",
      "claimed_at_pdt_hour_5                                -4349051993776934\n",
      "scheduled_starts_at_pdt_quarter_4                    -4169540155892834\n",
      "claimed_at_pdt_hour_9                                -4148273350801846\n",
      "origin_region_name_East Contra Costa                 -4136747493959055\n",
      "scheduled_starts_at_pdt_month_4                      -4132133566073707\n",
      "origin_region_name_South LA                          -4116024612786941\n",
      "claimed_at_pdt_hour_8                                -3978978873115830\n",
      "origin_region_name_Santa Clarita                     -3878416984221135\n",
      "scheduled_starts_at_pdt_hour_12                      -3869257903435124\n",
      "scheduled_starts_at_pdt_hour_17                      -3866167561507512\n",
      "scheduled_starts_at_pdt_hour_13                      -3483014948726088\n",
      "claimed_at_pdt_hour_7                                -3419967975893294\n",
      "claimed_at_pdt_hour_6                                -3336561340053132\n",
      "claimed_at_pdt_hour_12                               -3304989870065816\n",
      "claimed_at_pdt_weekday_3                             -3111460729347034\n",
      "scheduled_starts_at_pdt_hour_16                      -3090196508567630\n",
      "origin_region_name_Malibu                            -2835360823524939\n",
      "claimed_at_pdt_hour_2                                -2820138930997922\n",
      "scheduled_starts_at_pdt_month_9                      -2742061345884638\n",
      "scheduled_starts_at_pdt_hour_6                       -2537234808530602\n",
      "scheduled_starts_at_pdt_hour_14                      -2387360975231819\n",
      "scheduled_starts_at_pdt_month_8                      -2270410235301166\n",
      "scheduled_starts_at_pdt_hour_8                       -2152215282793135\n",
      "scheduled_starts_at_pdt_hour_15                      -2092256327765290\n",
      "claimed_at_pdt_month_12                              -2058184636563784\n",
      "origin_region_name_Westside                          -2057240418005670\n",
      "claimed_at_pdt_weekday_2                             -1986440677924212\n",
      "scheduled_starts_at_pdt_month_3                      -1916395376281366\n",
      "origin_region_name_San Gabriel Valley - West         -1793551705687685\n",
      "scheduled_starts_at_pdt_quarter_3                    -1712699476033713\n",
      "origin_region_name_San Fernando Valley - West        -1469828374424529\n",
      "claimed_at_pdt_quarter_2                             -1415403009758366\n",
      "origin_region_name_San Fernando Valley - East        -1408270581267573\n",
      "claimed_at_pdt_month_11                              -1330134872184220\n",
      "scheduled_starts_at_pdt_month_7                      -1317412685517886\n",
      "claimed_at_pdt_hour_1                                -1166124918024878\n",
      "scheduled_starts_at_pdt_hour_7                       -1139261524150801\n",
      "scheduled_starts_at_pdt_month_2                      -1084884519254056\n",
      "claimed_at_pdt_weekday_1                              -975127787137293\n",
      "origin_region_name_Long Beach                         -923734085497539\n",
      "claimed_at_pdt_month_10                               -922570412589889\n",
      "claimed_at_pdt_month_9                                -902678110643888\n",
      "scheduled_starts_at_pdt_weekday_6                     -811135200921376\n",
      "claimed_at_pdt_month_8                                -737099926571115\n",
      "claimed_at_pdt_month_3                                -710625724781861\n",
      "scheduled_starts_at_pdt_month_12                      -638104713467208\n",
      "origin_analysis_metro_name_LA                         -504483652498841\n",
      "scheduled_starts_at_pdt_weekday_5                     -488415225252217\n",
      "origin_region_name_Eastside                           -427484892460742\n",
      "claimed_at_pdt_month_7                                -408276019801597\n",
      "claimed_at_pdt_month_2                                -371289930351848\n",
      "origin_region_name_Central LA - West                  -252411873116082\n",
      "claimed_at_pdt_quarter                                -226687192009537\n",
      "scheduled_starts_at_pdt_quarter                       -170714363524327\n",
      "origin_region_name_Central LA - South                 -159755630664790\n",
      "scheduled_ends_at_pdt_quarter                         -125198045047684\n",
      "scheduled_starts_at_pdt_weekday_4                      -71760601196515\n",
      "scheduled_starts_at_pdt_weekday_3                      -47340698300073\n",
      "scheduled_starts_at_pdt_weekday_2                      -31439172264388\n",
      "scheduled_starts_at_pdt_weekday_1                      -15826009311458\n",
      "scheduled_starts_at_pdt_month                           -6983271799347\n",
      "scheduled_starts_at_pdt_day                              -791943125411\n",
      "scheduled_ends_at_pdt_day                                 -29104473479\n",
      "scheduled_starts_at_pdt_dayofyear                         -21467753458\n",
      "driver_created_at_pdt_weekday                                   -42111\n",
      "driver_created_at_pdt_weekofyear                                -40680\n",
      "claimed_at_pdt_dayofyear                                         -1230\n",
      "driver_gender_male                                                -908\n",
      "claimed_before_trip_start_secs                                    -415\n",
      "coupon_consumed                                                   -218\n",
      "is_affiliate_int                                                   -98\n",
      "driver_created_at_pdt_quarter                                      -80\n",
      "created_at_pdt_month                                               -75\n",
      "organizers_count                                                   -63\n",
      "driver_home_lat                                                    -54\n",
      "lead_organizer_created_at_pdt_month                                -37\n",
      "is_repeating_ride_int                                              -18\n",
      "is_same_day_ride_int                                               -15\n",
      "created_at_pdt_quarter                                             -14\n",
      "organizer_home_lat                                                  -6\n",
      "driver_created_at_pdt_hour                                          -6\n",
      "passengers_count                                                    -5\n",
      "driver_signup_before_trip_created_secs                              -2\n",
      "origin_lon                                                          -2\n",
      "driver_home_lon                                                     -1\n",
      "created_at_pdt_day                                                   0\n",
      "org_signup_before_trip_created_secs                                  0\n",
      "organizer_home_lon                                                   0\n",
      "predicted_driver_fare                                                0\n",
      "lead_organizer_created_at_pdt_day                                    0\n",
      "created_at_pdt_hour                                                  0\n",
      "driver_signup_before_org_signup_secs                                 0\n",
      "claimed_at_pdt_weekofyear                                            0\n",
      "trip_est_duration_secs                                               0\n",
      "lead_organizer_previous_completed_trips                              0\n",
      "creator_id                                                           0\n",
      "destination_location_id                                              0\n",
      "id                                                                   0\n",
      "Unnamed: 0                                                           0\n",
      "origin_location_id                                                   0\n",
      "driver_id                                                            0\n",
      "lead_organizer_id                                                    0\n",
      "trip_template_id                                                     0\n",
      "claimed_after_created                                                0\n",
      "driver_previous_completed_trips                                      0\n",
      "created_at_pdt_weekday                                               0\n",
      "destination_region_id                                                0\n",
      "lead_organizer_created_at_pdt_dayofyear                              0\n",
      "driver_signup_before_trip_start_secs                                 0\n",
      "trip_predicted_raw_fare                                              0\n",
      "created_at_pdt_dayofyear                                             0\n",
      "lead_organizer_created_at_pdt_hour                                   0\n",
      "created_at_pdt_weekofyear                                            0\n",
      "total_predicted_distance_miles                                       0\n",
      "lead_organizer_created_at_pdt_weekofyear                             0\n",
      "lead_organizer_created_at_pdt_weekday                                0\n",
      "org_signup_before_trip_start_secs                                    0\n",
      "destination_lon                                                      1\n",
      "driver_signup_before_trip_claimed_secs                               2\n",
      "driver_created_at_pdt_day                                            2\n",
      "carpool_int                                                          3\n",
      "lead_organizer_created_at_pdt_quarter                                4\n",
      "scheduled_ends_at_pdt_hour                                           6\n",
      "destination_lat                                                     23\n",
      "driver_has_driven_this_route_before_int                             29\n",
      "route_legs_count                                                    33\n",
      "trip_created_before_trip_start_secs                                 47\n",
      "trip_claimed_after_trip_created                                     71\n",
      "total_predicted_duration                                            72\n",
      "lead_organizer_platform_ios                                        106\n",
      "origin_lat                                                         138\n",
      "driver_created_at_pdt_month                                        281\n",
      "shuttle_int                                                        335\n",
      "driver_created_at_pdt_dayofyear                                    820\n",
      "lead_organizer_platform_web                                       1090\n",
      "claimed_at_pdt_day                                               14814\n",
      "scheduled_ends_at_pdt_dayofyear                             1277597337\n",
      "scheduled_ends_at_pdt_weekday                              87832139408\n",
      "scheduled_starts_at_pdt_weekofyear                       2099429312069\n",
      "origin_region_id                                         2186050895781\n",
      "scheduled_ends_at_pdt_weekofyear                         2215978857372\n",
      "scheduled_starts_at_pdt_weekday                         11580900075628\n",
      "scheduled_starts_at_pdt_hour                            15914788584213\n",
      "claimed_at_pdt_hour                                     17302715338661\n",
      "scheduled_ends_at_pdt_month                             25828211263489\n",
      "claimed_at_pdt_month                                    28563152767461\n",
      "claimed_at_pdt_quarter_3                                34964881672451\n",
      "claimed_at_pdt_weekday                                 186507839585842\n",
      "scheduled_starts_at_pdt_month_11                       363741191462254\n",
      "claimed_at_pdt_quarter_4                               425154074834012\n",
      "origin_region_name_South Bay                           684342800746743\n",
      "scheduled_starts_at_pdt_month_10                      1206232823891880\n",
      "scheduled_starts_at_pdt_quarter_2                     1265404889687584\n",
      "claimed_at_pdt_month_6                                1484133044243532\n",
      "claimed_at_pdt_month_5                                1580688324862900\n",
      "origin_region_name_Oakland Berkeley                   2071557887868631\n",
      "origin_analysis_metro_name_OC                         2115051193570113\n",
      "claimed_at_pdt_month_4                                2119456997611795\n",
      "origin_region_name_San Francisco                      2362691043253727\n",
      "origin_region_name_East Bay South                     2732179364108757\n",
      "origin_region_name_San Jose                           2750775781256139\n",
      "origin_region_name_Tri Valley                         3025235998704429\n",
      "origin_region_name_Peninsula South                    3716401445588274\n",
      "origin_region_name_East Bay North                     4668493679781621\n",
      "origin_region_name_Lamorinda Walnut Creek             4703025494098666\n",
      "origin_region_name_North Bay                          5316523665562012\n",
      "origin_region_name_Peninsula North                    8334721629676868\n",
      "origin_region_name_Default (Unassigned)           -9223372036854775808\n"
     ]
    }
   ],
   "source": [
    "# normalize the linear model coefficients by the standard deviation to see which features are most important\n",
    "# use print to see every feature not just first 20 and last 20\n",
    "print((model.coef_/X_train.std()).sort_values(axis=0).replace([np.inf, -np.inf], np.nan).dropna().astype(int).to_string())"
   ]
  },
  {
   "cell_type": "code",
   "execution_count": 21,
   "metadata": {},
   "outputs": [
    {
     "data": {
      "text/plain": [
       "0.054004996011660755"
      ]
     },
     "execution_count": 21,
     "metadata": {},
     "output_type": "execute_result"
    }
   ],
   "source": [
    "# score against TRAINING set\n",
    "model.score(X_train,y_train)"
   ]
  },
  {
   "cell_type": "code",
   "execution_count": 22,
   "metadata": {},
   "outputs": [
    {
     "data": {
      "text/plain": [
       "0.05118080348475107"
      ]
     },
     "execution_count": 22,
     "metadata": {},
     "output_type": "execute_result"
    }
   ],
   "source": [
    "# score against TEST set\n",
    "model.score(X_test,y_test)"
   ]
  },
  {
   "cell_type": "code",
   "execution_count": 23,
   "metadata": {},
   "outputs": [
    {
     "data": {
      "text/plain": [
       "25135"
      ]
     },
     "execution_count": 23,
     "metadata": {},
     "output_type": "execute_result"
    }
   ],
   "source": [
    "model_y_test_pred = model.predict(X_test)\n",
    "model_y_test_pred.size"
   ]
  },
  {
   "cell_type": "code",
   "execution_count": 24,
   "metadata": {},
   "outputs": [
    {
     "data": {
      "text/plain": [
       "numpy.ndarray"
      ]
     },
     "execution_count": 24,
     "metadata": {},
     "output_type": "execute_result"
    }
   ],
   "source": [
    "type(model_y_test_pred)"
   ]
  },
  {
   "cell_type": "code",
   "execution_count": 25,
   "metadata": {},
   "outputs": [
    {
     "data": {
      "text/plain": [
       "array([-333.1875, -464.0625, -487.75  , -600.    , -476.75  , -449.0625,\n",
       "       -302.8125, -420.375 , -527.625 , -357.8125])"
      ]
     },
     "execution_count": 25,
     "metadata": {},
     "output_type": "execute_result"
    }
   ],
   "source": [
    "model_y_test_pred[:10]"
   ]
  },
  {
   "cell_type": "code",
   "execution_count": 26,
   "metadata": {},
   "outputs": [
    {
     "data": {
      "text/plain": [
       "118.03918765802274"
      ]
     },
     "execution_count": 26,
     "metadata": {},
     "output_type": "execute_result"
    }
   ],
   "source": [
    "pd.Series(model_y_test_pred).std()"
   ]
  },
  {
   "cell_type": "code",
   "execution_count": 27,
   "metadata": {},
   "outputs": [
    {
     "data": {
      "text/plain": [
       "-0.007083311198758798"
      ]
     },
     "execution_count": 27,
     "metadata": {},
     "output_type": "execute_result"
    }
   ],
   "source": [
    "pd.Series(model_y_test_pred).corr(y_test)"
   ]
  },
  {
   "cell_type": "code",
   "execution_count": 28,
   "metadata": {},
   "outputs": [
    {
     "name": "stdout",
     "output_type": "stream",
     "text": [
      "0.051 8.32 248996 0.051 373 284 4.73\n"
     ]
    }
   ],
   "source": [
    "# regression metrics\n",
    "from sklearn.metrics import explained_variance_score, mean_squared_error, r2_score, mean_absolute_error, median_absolute_error\n",
    "from math import sqrt\n",
    "print (\"%.3f %.2f %.0f %.3f %.0f %.0f %.2f\" % \n",
    "       (explained_variance_score(y_test, model_y_test_pred),\n",
    "        sqrt(mean_squared_error(y_test, model_y_test_pred))/60, # sqrt of MSE in minutes\n",
    "        mean_squared_error(y_test, model_y_test_pred), \n",
    "        r2_score(y_test, model_y_test_pred), \n",
    "        mean_absolute_error(y_test, model_y_test_pred), \n",
    "        median_absolute_error(y_test, model_y_test_pred),\n",
    "        median_absolute_error(y_test, model_y_test_pred)/60 # MAE in minutes\n",
    "       ))"
   ]
  },
  {
   "cell_type": "code",
   "execution_count": 29,
   "metadata": {},
   "outputs": [
    {
     "data": {
      "text/plain": [
       "array([  0., 300., 900.])"
      ]
     },
     "execution_count": 29,
     "metadata": {},
     "output_type": "execute_result"
    }
   ],
   "source": [
    "# make classifications from seconds late target\n",
    "bins = np.array([0.0, 5*60, 15*60]) # 0 on-time, 1 almost on-time, 2 late, 3 extremely late\n",
    "bins"
   ]
  },
  {
   "cell_type": "code",
   "execution_count": 30,
   "metadata": {},
   "outputs": [
    {
     "data": {
      "text/plain": [
       "array([1, 1, 0, 0, 0, 1, 0, 0, 1, 0])"
      ]
     },
     "execution_count": 30,
     "metadata": {},
     "output_type": "execute_result"
    }
   ],
   "source": [
    "np.digitize(y_test, bins)[:10]"
   ]
  },
  {
   "cell_type": "code",
   "execution_count": 31,
   "metadata": {
    "scrolled": true
   },
   "outputs": [
    {
     "name": "stdout",
     "output_type": "stream",
     "text": [
      "[[    0 21156]\n",
      " [    1  2939]\n",
      " [    2   892]\n",
      " [    3   148]]\n"
     ]
    }
   ],
   "source": [
    "# materialize y_test_class array\n",
    "# check to see how many trips are categorized as 0 on-time, 1 almost on-time, 2 late, 3 extremely late\n",
    "y_test_class=np.digitize(y_test, bins)\n",
    "unique, counts = np.unique(y_test_class, return_counts=True)\n",
    "print(np.asarray((unique, counts)).T)"
   ]
  },
  {
   "cell_type": "code",
   "execution_count": 32,
   "metadata": {},
   "outputs": [
    {
     "name": "stdout",
     "output_type": "stream",
     "text": [
      "[[    0 25123]\n",
      " [    1    12]]\n"
     ]
    }
   ],
   "source": [
    "# materialize model_y_pred_class\n",
    "# check to see how many trips are categorized as 0 on-time, 1 almost on-time, 2 late, 3 extremely late\n",
    "model_y_test_pred_class=np.digitize(model_y_test_pred, bins)\n",
    "print(np.asarray(np.unique(model_y_test_pred_class, return_counts=True)).T)"
   ]
  },
  {
   "cell_type": "code",
   "execution_count": 33,
   "metadata": {},
   "outputs": [
    {
     "name": "stdout",
     "output_type": "stream",
     "text": [
      "             precision    recall  f1-score   support\n",
      "\n",
      "          0       0.84      1.00      0.91     21156\n",
      "          1       0.17      0.00      0.00      2939\n",
      "          2       0.00      0.00      0.00       892\n",
      "          3       0.00      0.00      0.00       148\n",
      "\n",
      "avg / total       0.73      0.84      0.77     25135\n",
      "\n"
     ]
    },
    {
     "name": "stderr",
     "output_type": "stream",
     "text": [
      "/Applications/anaconda3/lib/python3.6/site-packages/sklearn/metrics/classification.py:1135: UndefinedMetricWarning: Precision and F-score are ill-defined and being set to 0.0 in labels with no predicted samples.\n",
      "  'precision', 'predicted', average, warn_for)\n"
     ]
    }
   ],
   "source": [
    "from sklearn.metrics import classification_report\n",
    "print(classification_report(y_test_class,model_y_test_pred_class))"
   ]
  },
  {
   "cell_type": "code",
   "execution_count": 34,
   "metadata": {},
   "outputs": [
    {
     "name": "stdout",
     "output_type": "stream",
     "text": [
      "[[21147     9     0     0]\n",
      " [ 2937     2     0     0]\n",
      " [  891     1     0     0]\n",
      " [  148     0     0     0]]\n"
     ]
    }
   ],
   "source": [
    "from sklearn.metrics import confusion_matrix\n",
    "print(confusion_matrix(y_test_class,model_y_test_pred_class,labels=[0,1,2,3]))"
   ]
  },
  {
   "cell_type": "code",
   "execution_count": null,
   "metadata": {},
   "outputs": [],
   "source": []
  }
 ],
 "metadata": {
  "kernelspec": {
   "display_name": "Python 3",
   "language": "python",
   "name": "python3"
  },
  "language_info": {
   "codemirror_mode": {
    "name": "ipython",
    "version": 3
   },
   "file_extension": ".py",
   "mimetype": "text/x-python",
   "name": "python",
   "nbconvert_exporter": "python",
   "pygments_lexer": "ipython3",
   "version": "3.6.5"
  }
 },
 "nbformat": 4,
 "nbformat_minor": 2
}
