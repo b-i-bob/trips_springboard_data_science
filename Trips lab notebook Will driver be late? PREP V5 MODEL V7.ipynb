{
 "cells": [
  {
   "cell_type": "markdown",
   "metadata": {},
   "source": [
    "### Linear regression model V7\n",
    "with saturated y values"
   ]
  },
  {
   "cell_type": "code",
   "execution_count": 2,
   "metadata": {},
   "outputs": [],
   "source": [
    "fileprefix='./lateness_PREP_V5_'"
   ]
  },
  {
   "cell_type": "code",
   "execution_count": 3,
   "metadata": {},
   "outputs": [],
   "source": [
    "import pandas as pd\n",
    "import numpy as np"
   ]
  },
  {
   "cell_type": "code",
   "execution_count": 4,
   "metadata": {},
   "outputs": [],
   "source": [
    "df_X=pd.read_csv(fileprefix+'X.csv', sep='\\t')"
   ]
  },
  {
   "cell_type": "code",
   "execution_count": 5,
   "metadata": {},
   "outputs": [
    {
     "data": {
      "text/plain": [
       "(125675, 87)"
      ]
     },
     "execution_count": 5,
     "metadata": {},
     "output_type": "execute_result"
    }
   ],
   "source": [
    "df_X.shape"
   ]
  },
  {
   "cell_type": "code",
   "execution_count": 6,
   "metadata": {},
   "outputs": [],
   "source": [
    "df_y=pd.read_csv(fileprefix+'y.csv', sep='\\t', header=None)"
   ]
  },
  {
   "cell_type": "code",
   "execution_count": 7,
   "metadata": {},
   "outputs": [
    {
     "data": {
      "text/plain": [
       "(125675, 2)"
      ]
     },
     "execution_count": 7,
     "metadata": {},
     "output_type": "execute_result"
    }
   ],
   "source": [
    "type(df_y)\n",
    "df_y.shape"
   ]
  },
  {
   "cell_type": "code",
   "execution_count": 26,
   "metadata": {},
   "outputs": [
    {
     "data": {
      "text/html": [
       "<div>\n",
       "<style scoped>\n",
       "    .dataframe tbody tr th:only-of-type {\n",
       "        vertical-align: middle;\n",
       "    }\n",
       "\n",
       "    .dataframe tbody tr th {\n",
       "        vertical-align: top;\n",
       "    }\n",
       "\n",
       "    .dataframe thead th {\n",
       "        text-align: right;\n",
       "    }\n",
       "</style>\n",
       "<table border=\"1\" class=\"dataframe\">\n",
       "  <thead>\n",
       "    <tr style=\"text-align: right;\">\n",
       "      <th></th>\n",
       "      <th>0</th>\n",
       "      <th>1</th>\n",
       "    </tr>\n",
       "  </thead>\n",
       "  <tbody>\n",
       "    <tr>\n",
       "      <th>0</th>\n",
       "      <td>5</td>\n",
       "      <td>-497.0</td>\n",
       "    </tr>\n",
       "    <tr>\n",
       "      <th>1</th>\n",
       "      <td>6</td>\n",
       "      <td>5.0</td>\n",
       "    </tr>\n",
       "    <tr>\n",
       "      <th>2</th>\n",
       "      <td>7</td>\n",
       "      <td>-313.0</td>\n",
       "    </tr>\n",
       "    <tr>\n",
       "      <th>3</th>\n",
       "      <td>8</td>\n",
       "      <td>-296.0</td>\n",
       "    </tr>\n",
       "    <tr>\n",
       "      <th>4</th>\n",
       "      <td>9</td>\n",
       "      <td>-166.0</td>\n",
       "    </tr>\n",
       "  </tbody>\n",
       "</table>\n",
       "</div>"
      ],
      "text/plain": [
       "   0      1\n",
       "0  5 -497.0\n",
       "1  6    5.0\n",
       "2  7 -313.0\n",
       "3  8 -296.0\n",
       "4  9 -166.0"
      ]
     },
     "execution_count": 26,
     "metadata": {},
     "output_type": "execute_result"
    }
   ],
   "source": [
    "df_y.head()"
   ]
  },
  {
   "cell_type": "code",
   "execution_count": 29,
   "metadata": {},
   "outputs": [
    {
     "data": {
      "text/plain": [
       "0   -497.0\n",
       "1      5.0\n",
       "2   -313.0\n",
       "3   -296.0\n",
       "4   -166.0\n",
       "Name: 1, dtype: float64"
      ]
     },
     "execution_count": 29,
     "metadata": {},
     "output_type": "execute_result"
    }
   ],
   "source": [
    "y=df_y[1]\n",
    "y.head()"
   ]
  },
  {
   "cell_type": "code",
   "execution_count": 30,
   "metadata": {},
   "outputs": [
    {
     "data": {
      "text/plain": [
       "(125675,)"
      ]
     },
     "execution_count": 30,
     "metadata": {},
     "output_type": "execute_result"
    }
   ],
   "source": [
    "y.shape"
   ]
  },
  {
   "cell_type": "code",
   "execution_count": 32,
   "metadata": {},
   "outputs": [
    {
     "data": {
      "text/html": [
       "<div>\n",
       "<style scoped>\n",
       "    .dataframe tbody tr th:only-of-type {\n",
       "        vertical-align: middle;\n",
       "    }\n",
       "\n",
       "    .dataframe tbody tr th {\n",
       "        vertical-align: top;\n",
       "    }\n",
       "\n",
       "    .dataframe thead th {\n",
       "        text-align: right;\n",
       "    }\n",
       "</style>\n",
       "<table border=\"1\" class=\"dataframe\">\n",
       "  <thead>\n",
       "    <tr style=\"text-align: right;\">\n",
       "      <th></th>\n",
       "      <th>Unnamed: 0</th>\n",
       "      <th>lead_organizer_created_at_pdt_quarter</th>\n",
       "      <th>is_same_day_ride_int</th>\n",
       "      <th>origin_lat</th>\n",
       "      <th>driver_signup_before_org_signup_secs</th>\n",
       "      <th>claimed_before_trip_start_secs</th>\n",
       "      <th>trip_created_before_trip_start_secs</th>\n",
       "      <th>driver_home_lon</th>\n",
       "      <th>scheduled_ends_at_pdt_weekday</th>\n",
       "      <th>trip_template_id</th>\n",
       "      <th>...</th>\n",
       "      <th>trip_est_duration_secs</th>\n",
       "      <th>org_signup_before_trip_created_secs</th>\n",
       "      <th>lead_organizer_created_at_pdt_day</th>\n",
       "      <th>shuttle_int</th>\n",
       "      <th>destination_location_id</th>\n",
       "      <th>created_at_pdt_weekofyear</th>\n",
       "      <th>driver_created_at_pdt_day</th>\n",
       "      <th>driver_created_at_pdt_weekday</th>\n",
       "      <th>is_repeating_ride_int</th>\n",
       "      <th>total_predicted_distance_miles</th>\n",
       "    </tr>\n",
       "  </thead>\n",
       "  <tbody>\n",
       "    <tr>\n",
       "      <th>0</th>\n",
       "      <td>5</td>\n",
       "      <td>3</td>\n",
       "      <td>0</td>\n",
       "      <td>34.18</td>\n",
       "      <td>-69412.0</td>\n",
       "      <td>591987.0</td>\n",
       "      <td>757206.0</td>\n",
       "      <td>-118.25</td>\n",
       "      <td>1</td>\n",
       "      <td>0.0</td>\n",
       "      <td>...</td>\n",
       "      <td>2188.0</td>\n",
       "      <td>18754828.0</td>\n",
       "      <td>3</td>\n",
       "      <td>0</td>\n",
       "      <td>86289.0</td>\n",
       "      <td>5</td>\n",
       "      <td>4.0</td>\n",
       "      <td>0.0</td>\n",
       "      <td>0</td>\n",
       "      <td>10.0</td>\n",
       "    </tr>\n",
       "    <tr>\n",
       "      <th>1</th>\n",
       "      <td>6</td>\n",
       "      <td>3</td>\n",
       "      <td>0</td>\n",
       "      <td>34.10</td>\n",
       "      <td>-69815.0</td>\n",
       "      <td>663477.0</td>\n",
       "      <td>1015521.0</td>\n",
       "      <td>-118.25</td>\n",
       "      <td>1</td>\n",
       "      <td>6325.0</td>\n",
       "      <td>...</td>\n",
       "      <td>1740.0</td>\n",
       "      <td>16683716.0</td>\n",
       "      <td>3</td>\n",
       "      <td>0</td>\n",
       "      <td>86075.0</td>\n",
       "      <td>2</td>\n",
       "      <td>4.0</td>\n",
       "      <td>0.0</td>\n",
       "      <td>1</td>\n",
       "      <td>5.0</td>\n",
       "    </tr>\n",
       "    <tr>\n",
       "      <th>2</th>\n",
       "      <td>7</td>\n",
       "      <td>3</td>\n",
       "      <td>0</td>\n",
       "      <td>34.13</td>\n",
       "      <td>-66508.0</td>\n",
       "      <td>238086.0</td>\n",
       "      <td>240018.0</td>\n",
       "      <td>-118.25</td>\n",
       "      <td>2</td>\n",
       "      <td>0.0</td>\n",
       "      <td>...</td>\n",
       "      <td>1134.0</td>\n",
       "      <td>18750712.0</td>\n",
       "      <td>3</td>\n",
       "      <td>0</td>\n",
       "      <td>88361.0</td>\n",
       "      <td>5</td>\n",
       "      <td>4.0</td>\n",
       "      <td>0.0</td>\n",
       "      <td>0</td>\n",
       "      <td>5.0</td>\n",
       "    </tr>\n",
       "    <tr>\n",
       "      <th>3</th>\n",
       "      <td>8</td>\n",
       "      <td>3</td>\n",
       "      <td>0</td>\n",
       "      <td>34.11</td>\n",
       "      <td>-69324.0</td>\n",
       "      <td>85741.0</td>\n",
       "      <td>87078.0</td>\n",
       "      <td>-118.25</td>\n",
       "      <td>3</td>\n",
       "      <td>0.0</td>\n",
       "      <td>...</td>\n",
       "      <td>1376.0</td>\n",
       "      <td>17785068.0</td>\n",
       "      <td>3</td>\n",
       "      <td>0</td>\n",
       "      <td>87908.0</td>\n",
       "      <td>4</td>\n",
       "      <td>4.0</td>\n",
       "      <td>0.0</td>\n",
       "      <td>0</td>\n",
       "      <td>7.0</td>\n",
       "    </tr>\n",
       "    <tr>\n",
       "      <th>4</th>\n",
       "      <td>9</td>\n",
       "      <td>3</td>\n",
       "      <td>0</td>\n",
       "      <td>34.20</td>\n",
       "      <td>-70895.0</td>\n",
       "      <td>657826.0</td>\n",
       "      <td>9686274.0</td>\n",
       "      <td>-118.25</td>\n",
       "      <td>0</td>\n",
       "      <td>3719.0</td>\n",
       "      <td>...</td>\n",
       "      <td>2130.0</td>\n",
       "      <td>7921943.0</td>\n",
       "      <td>3</td>\n",
       "      <td>0</td>\n",
       "      <td>89633.0</td>\n",
       "      <td>40</td>\n",
       "      <td>4.0</td>\n",
       "      <td>0.0</td>\n",
       "      <td>1</td>\n",
       "      <td>13.0</td>\n",
       "    </tr>\n",
       "  </tbody>\n",
       "</table>\n",
       "<p>5 rows × 87 columns</p>\n",
       "</div>"
      ],
      "text/plain": [
       "   Unnamed: 0  lead_organizer_created_at_pdt_quarter  is_same_day_ride_int  \\\n",
       "0           5                                      3                     0   \n",
       "1           6                                      3                     0   \n",
       "2           7                                      3                     0   \n",
       "3           8                                      3                     0   \n",
       "4           9                                      3                     0   \n",
       "\n",
       "   origin_lat  driver_signup_before_org_signup_secs  \\\n",
       "0       34.18                              -69412.0   \n",
       "1       34.10                              -69815.0   \n",
       "2       34.13                              -66508.0   \n",
       "3       34.11                              -69324.0   \n",
       "4       34.20                              -70895.0   \n",
       "\n",
       "   claimed_before_trip_start_secs  trip_created_before_trip_start_secs  \\\n",
       "0                        591987.0                             757206.0   \n",
       "1                        663477.0                            1015521.0   \n",
       "2                        238086.0                             240018.0   \n",
       "3                         85741.0                              87078.0   \n",
       "4                        657826.0                            9686274.0   \n",
       "\n",
       "   driver_home_lon  scheduled_ends_at_pdt_weekday  trip_template_id  \\\n",
       "0          -118.25                              1               0.0   \n",
       "1          -118.25                              1            6325.0   \n",
       "2          -118.25                              2               0.0   \n",
       "3          -118.25                              3               0.0   \n",
       "4          -118.25                              0            3719.0   \n",
       "\n",
       "                ...                trip_est_duration_secs  \\\n",
       "0               ...                                2188.0   \n",
       "1               ...                                1740.0   \n",
       "2               ...                                1134.0   \n",
       "3               ...                                1376.0   \n",
       "4               ...                                2130.0   \n",
       "\n",
       "   org_signup_before_trip_created_secs  lead_organizer_created_at_pdt_day  \\\n",
       "0                           18754828.0                                  3   \n",
       "1                           16683716.0                                  3   \n",
       "2                           18750712.0                                  3   \n",
       "3                           17785068.0                                  3   \n",
       "4                            7921943.0                                  3   \n",
       "\n",
       "   shuttle_int  destination_location_id  created_at_pdt_weekofyear  \\\n",
       "0            0                  86289.0                          5   \n",
       "1            0                  86075.0                          2   \n",
       "2            0                  88361.0                          5   \n",
       "3            0                  87908.0                          4   \n",
       "4            0                  89633.0                         40   \n",
       "\n",
       "   driver_created_at_pdt_day  driver_created_at_pdt_weekday  \\\n",
       "0                        4.0                            0.0   \n",
       "1                        4.0                            0.0   \n",
       "2                        4.0                            0.0   \n",
       "3                        4.0                            0.0   \n",
       "4                        4.0                            0.0   \n",
       "\n",
       "   is_repeating_ride_int  total_predicted_distance_miles  \n",
       "0                      0                            10.0  \n",
       "1                      1                             5.0  \n",
       "2                      0                             5.0  \n",
       "3                      0                             7.0  \n",
       "4                      1                            13.0  \n",
       "\n",
       "[5 rows x 87 columns]"
      ]
     },
     "execution_count": 32,
     "metadata": {},
     "output_type": "execute_result"
    }
   ],
   "source": [
    "df_X.head()"
   ]
  },
  {
   "cell_type": "code",
   "execution_count": 33,
   "metadata": {},
   "outputs": [
    {
     "data": {
      "text/plain": [
       "count    125675.0\n",
       "mean       -416.0\n",
       "std         509.0\n",
       "min       -1800.0\n",
       "25%        -657.0\n",
       "50%        -324.0\n",
       "75%         -96.0\n",
       "max        1800.0\n",
       "Name: 1, dtype: float64"
      ]
     },
     "execution_count": 33,
     "metadata": {},
     "output_type": "execute_result"
    }
   ],
   "source": [
    "y.describe().round()"
   ]
  },
  {
   "cell_type": "code",
   "execution_count": 34,
   "metadata": {},
   "outputs": [],
   "source": [
    "# break df_X,y into test and train sets\n",
    "from sklearn.model_selection import train_test_split\n",
    "X_train, X_test, y_train, y_test = train_test_split(df_X, y, test_size=0.20, random_state=808)"
   ]
  },
  {
   "cell_type": "code",
   "execution_count": 35,
   "metadata": {},
   "outputs": [
    {
     "name": "stdout",
     "output_type": "stream",
     "text": [
      "(100540, 87)\n",
      "(25135, 87)\n",
      "(100540,)\n",
      "(25135,)\n"
     ]
    }
   ],
   "source": [
    "for i in X_train, X_test, y_train, y_test:\n",
    "    print(i.shape)"
   ]
  },
  {
   "cell_type": "code",
   "execution_count": 36,
   "metadata": {},
   "outputs": [],
   "source": [
    "# select a linear model\n",
    "import sklearn.linear_model\n",
    "model=sklearn.linear_model.LinearRegression(normalize=True)"
   ]
  },
  {
   "cell_type": "code",
   "execution_count": 37,
   "metadata": {},
   "outputs": [],
   "source": [
    "# fit model\n",
    "model=model.fit(X_train,y_train)"
   ]
  },
  {
   "cell_type": "code",
   "execution_count": 38,
   "metadata": {
    "scrolled": true
   },
   "outputs": [
    {
     "data": {
      "text/plain": [
       "array([-5.31659131e-06, -6.35594356e+00,  5.94421546e+00,  1.56605126e+02,\n",
       "       -1.56495913e+05, -2.18291758e+07,  2.32141350e+07,  3.54872908e+00,\n",
       "       -7.17322631e+11,  2.36292132e-03, -1.92937692e+11, -5.01209714e-01,\n",
       "        4.94241566e+11, -6.53145144e+01, -7.67426411e+00, -1.01072962e+00,\n",
       "        6.90072265e+04,  3.01303875e+11,  7.49660314e+00,  4.68454707e+10,\n",
       "        4.06027902e-01, -1.60780049e+01, -1.74254571e+00, -4.68454707e+10,\n",
       "        4.36197346e+01,  2.72353159e+11,  1.15952507e+00, -7.76785078e+00,\n",
       "        2.07716921e-04, -6.78789640e+01,  1.17312383e+01, -8.16046624e+11,\n",
       "       -2.51794190e+00, -3.37561593e+01,  4.16018757e+11,  5.00414360e+00,\n",
       "       -1.30976924e+01,  5.54417771e-02, -1.46862575e+01, -2.26780684e+02,\n",
       "        5.45694427e-02,  2.38631466e+07,  1.61090219e+01,  2.25500317e+01,\n",
       "        1.04534799e+01, -3.22613451e+05, -1.06234578e+06, -2.98128993e-01,\n",
       "        3.46441010e-03, -3.68836162e-01,  1.37167134e+01,  2.36442084e+00,\n",
       "       -1.55486145e+06,  2.03397081e+06, -4.85865325e+05, -3.01303875e+11,\n",
       "       -3.54013722e-03, -6.01086306e+00, -5.30071170e-01, -1.93418662e+01,\n",
       "        1.82364437e-01, -7.45520828e+11,  2.31146134e-01, -8.16320546e-03,\n",
       "        9.88355966e-04,  1.06461047e+00, -3.19545728e+00,  9.13514360e+02,\n",
       "       -2.30054121e-01,  4.77822118e+02,  2.82897256e+01,  7.18624071e+02,\n",
       "       -3.59519051e+01, -2.72353159e+11, -3.57251742e+00, -1.51554839e-04,\n",
       "        1.05092985e+01, -1.52275058e+01,  9.05849864e+05, -2.31746558e-01,\n",
       "        3.49063849e+01, -1.37609040e-04,  1.86457920e+00,  2.26221905e+01,\n",
       "       -6.94096940e+04, -1.30728055e+01,  2.97285898e+00])"
      ]
     },
     "execution_count": 38,
     "metadata": {},
     "output_type": "execute_result"
    }
   ],
   "source": [
    "model.coef_"
   ]
  },
  {
   "cell_type": "code",
   "execution_count": 39,
   "metadata": {
    "scrolled": true
   },
   "outputs": [
    {
     "data": {
      "text/plain": [
       "0                0\n",
       "1               -6\n",
       "2                5\n",
       "3              156\n",
       "4          -156495\n",
       "5        -21829175\n",
       "6         23214134\n",
       "7                3\n",
       "8    -717322630987\n",
       "9                0\n",
       "10   -192937691789\n",
       "11               0\n",
       "12    494241566354\n",
       "13             -65\n",
       "14              -7\n",
       "15              -1\n",
       "16           69007\n",
       "17    301303874958\n",
       "18               7\n",
       "19     46845470683\n",
       "20               0\n",
       "21             -16\n",
       "22              -1\n",
       "23    -46845470679\n",
       "24              43\n",
       "25    272353159113\n",
       "26               1\n",
       "27              -7\n",
       "28               0\n",
       "29             -67\n",
       "          ...     \n",
       "57              -6\n",
       "58               0\n",
       "59             -19\n",
       "60               0\n",
       "61   -745520828349\n",
       "62               0\n",
       "63               0\n",
       "64               0\n",
       "65               1\n",
       "66              -3\n",
       "67             913\n",
       "68               0\n",
       "69             477\n",
       "70              28\n",
       "71             718\n",
       "72             -35\n",
       "73   -272353159310\n",
       "74              -3\n",
       "75               0\n",
       "76              10\n",
       "77             -15\n",
       "78          905849\n",
       "79               0\n",
       "80              34\n",
       "81               0\n",
       "82               1\n",
       "83              22\n",
       "84          -69409\n",
       "85             -13\n",
       "86               2\n",
       "Length: 87, dtype: int64"
      ]
     },
     "execution_count": 39,
     "metadata": {},
     "output_type": "execute_result"
    }
   ],
   "source": [
    "pd.Series(model.coef_).astype(int)"
   ]
  },
  {
   "cell_type": "code",
   "execution_count": 40,
   "metadata": {},
   "outputs": [
    {
     "data": {
      "text/plain": [
       "1115405672864.3857"
      ]
     },
     "execution_count": 40,
     "metadata": {},
     "output_type": "execute_result"
    }
   ],
   "source": [
    "model.intercept_"
   ]
  },
  {
   "cell_type": "code",
   "execution_count": 41,
   "metadata": {},
   "outputs": [
    {
     "data": {
      "text/plain": [
       "Unnamed: 0                                 6.259357e+04\n",
       "lead_organizer_created_at_pdt_quarter      8.076552e-01\n",
       "is_same_day_ride_int                       1.590459e-01\n",
       "origin_lat                                 1.466141e+00\n",
       "driver_signup_before_org_signup_secs       1.723678e+07\n",
       "claimed_before_trip_start_secs             2.381955e+05\n",
       "trip_created_before_trip_start_secs        1.920172e+06\n",
       "driver_home_lon                            1.696783e+00\n",
       "scheduled_ends_at_pdt_weekday              1.357137e+00\n",
       "trip_template_id                           5.735203e+03\n",
       "scheduled_starts_at_pdt_dayofyear          1.054582e+02\n",
       "lead_organizer_created_at_pdt_dayofyear    7.665583e+01\n",
       "scheduled_starts_at_pdt_weekday            1.357037e+00\n",
       "driver_home_lat                            1.476480e+00\n",
       "created_at_pdt_day                         8.901218e+00\n",
       "claimed_at_pdt_weekday                     2.004019e+00\n",
       "driver_created_at_pdt_dayofyear            8.074870e+01\n",
       "scheduled_ends_at_pdt_day                  8.724890e+00\n",
       "created_at_pdt_dayofyear                   1.064046e+02\n",
       "scheduled_ends_at_pdt_quarter              1.150273e+00\n",
       "trip_predicted_raw_fare                    1.222204e+01\n",
       "claimed_at_pdt_dayofyear                   1.055471e+02\n",
       "organizer_home_lon                         1.100766e+01\n",
       "scheduled_starts_at_pdt_quarter            1.150273e+00\n",
       "origin_lon                                 1.569941e+00\n",
       "scheduled_starts_at_pdt_month              3.471655e+00\n",
       "lead_organizer_created_at_pdt_weekday      2.267035e+00\n",
       "carpool_int                                1.312920e-01\n",
       "origin_location_id                         3.680007e+04\n",
       "driver_created_at_pdt_quarter              8.817318e-01\n",
       "                                               ...     \n",
       "organizer_home_lat                         3.493593e+00\n",
       "created_at_pdt_hour                        4.993326e+00\n",
       "created_at_pdt_quarter                     1.135271e+00\n",
       "claimed_after_created                      3.024465e+04\n",
       "scheduled_ends_at_pdt_weekofyear           1.507374e+01\n",
       "lead_organizer_created_at_pdt_hour         4.782270e+00\n",
       "lead_organizer_previous_completed_trips    2.078520e+02\n",
       "driver_id                                  3.646652e+04\n",
       "destination_region_id                      1.422844e+01\n",
       "passengers_count                           5.874265e-01\n",
       "total_predicted_duration                   1.252958e+01\n",
       "created_at_pdt_weekday                     2.166007e+00\n",
       "claimed_at_pdt_month                       3.474735e+00\n",
       "scheduled_ends_at_pdt_hour                 3.780759e+00\n",
       "driver_created_at_pdt_month                2.614661e+00\n",
       "is_affiliate_int                           2.673397e-01\n",
       "scheduled_ends_at_pdt_month                3.471655e+00\n",
       "lead_organizer_created_at_pdt_month        2.500288e+00\n",
       "id                                         9.032390e+04\n",
       "destination_lat                            1.466265e+00\n",
       "trip_est_duration_secs                     7.517752e+02\n",
       "org_signup_before_trip_created_secs        1.294888e+07\n",
       "lead_organizer_created_at_pdt_day          9.349237e+00\n",
       "shuttle_int                                9.784898e-02\n",
       "destination_location_id                    3.688729e+04\n",
       "created_at_pdt_weekofyear                  1.518791e+01\n",
       "driver_created_at_pdt_day                  9.002556e+00\n",
       "driver_created_at_pdt_weekday              1.582086e+00\n",
       "is_repeating_ride_int                      4.761031e-01\n",
       "total_predicted_distance_miles             5.668047e+00\n",
       "Length: 87, dtype: float64"
      ]
     },
     "execution_count": 41,
     "metadata": {},
     "output_type": "execute_result"
    }
   ],
   "source": [
    "X_train.std()"
   ]
  },
  {
   "cell_type": "code",
   "execution_count": 44,
   "metadata": {},
   "outputs": [
    {
     "data": {
      "text/plain": [
       "scheduled_ends_at_pdt_weekday              -528555977171\n",
       "scheduled_ends_at_pdt_month                 -78450536641\n",
       "scheduled_starts_at_pdt_weekofyear          -54136953420\n",
       "scheduled_ends_at_pdt_weekofyear            -49458235799\n",
       "scheduled_starts_at_pdt_quarter             -40725511262\n",
       "scheduled_starts_at_pdt_day                 -34533843555\n",
       "scheduled_starts_at_pdt_dayofyear            -1829517331\n",
       "driver_created_at_pdt_weekday                     -43872\n",
       "driver_created_at_pdt_weekofyear                  -42381\n",
       "coupon_consumed                                     -165\n",
       "is_affiliate_int                                    -134\n",
       "claimed_before_trip_start_secs                       -91\n",
       "driver_created_at_pdt_quarter                        -76\n",
       "created_at_pdt_month                                 -64\n",
       "carpool_int                                          -59\n",
       "driver_home_lat                                      -44\n",
       "is_repeating_ride_int                                -27\n",
       "created_at_pdt_quarter                               -17\n",
       "scheduled_starts_at_pdt_hour                          -8\n",
       "lead_organizer_created_at_pdt_quarter                 -7\n",
       "driver_created_at_pdt_hour                            -6\n",
       "passengers_count                                      -5\n",
       "organizer_home_lat                                    -1\n",
       "lead_organizer_created_at_pdt_month                   -1\n",
       "created_at_pdt_day                                     0\n",
       "claimed_at_pdt_weekday                                 0\n",
       "predicted_driver_fare                                  0\n",
       "organizer_home_lon                                     0\n",
       "claimed_at_pdt_dayofyear                               0\n",
       "driver_signup_before_trip_created_secs                 0\n",
       "                                                ...     \n",
       "created_at_pdt_weekofyear                              0\n",
       "driver_signup_before_trip_claimed_secs                 0\n",
       "lead_organizer_created_at_pdt_weekofyear               0\n",
       "lead_organizer_created_at_pdt_weekday                  0\n",
       "total_predicted_distance_miles                         0\n",
       "claimed_at_pdt_day                                     1\n",
       "driver_home_lon                                        2\n",
       "driver_created_at_pdt_day                              2\n",
       "destination_lat                                        7\n",
       "scheduled_ends_at_pdt_hour                             7\n",
       "destination_lon                                        8\n",
       "trip_created_before_trip_start_secs                   12\n",
       "trip_claimed_after_trip_created                       13\n",
       "organizers_count                                      13\n",
       "claimed_at_pdt_quarter                                19\n",
       "driver_has_driven_this_route_before_int               23\n",
       "origin_lon                                            27\n",
       "is_same_day_ride_int                                  37\n",
       "route_legs_count                                      37\n",
       "total_predicted_duration                              72\n",
       "origin_lat                                           106\n",
       "claimed_at_pdt_month                                 137\n",
       "driver_created_at_pdt_month                          274\n",
       "shuttle_int                                          356\n",
       "driver_created_at_pdt_dayofyear                      854\n",
       "scheduled_ends_at_pdt_dayofyear               3944868175\n",
       "scheduled_ends_at_pdt_day                    34533829355\n",
       "scheduled_ends_at_pdt_quarter                40725511265\n",
       "scheduled_starts_at_pdt_month                78450536584\n",
       "scheduled_starts_at_pdt_weekday             364206300648\n",
       "Length: 87, dtype: int64"
      ]
     },
     "execution_count": 44,
     "metadata": {},
     "output_type": "execute_result"
    }
   ],
   "source": [
    "# normalize the linear model coefficients by the standard deviation to see which features are most important\n",
    "(model.coef_/X_train.std()).sort_values(axis=0).astype(int)"
   ]
  },
  {
   "cell_type": "code",
   "execution_count": 45,
   "metadata": {},
   "outputs": [
    {
     "data": {
      "text/plain": [
       "0.04565596937567884"
      ]
     },
     "execution_count": 45,
     "metadata": {},
     "output_type": "execute_result"
    }
   ],
   "source": [
    "# score against TRAINING set\n",
    "model.score(X_train,y_train)"
   ]
  },
  {
   "cell_type": "code",
   "execution_count": 46,
   "metadata": {},
   "outputs": [
    {
     "data": {
      "text/plain": [
       "0.04542368295847066"
      ]
     },
     "execution_count": 46,
     "metadata": {},
     "output_type": "execute_result"
    }
   ],
   "source": [
    "# score against TEST set\n",
    "model.score(X_test,y_test)"
   ]
  },
  {
   "cell_type": "code",
   "execution_count": 47,
   "metadata": {},
   "outputs": [
    {
     "data": {
      "text/plain": [
       "25135"
      ]
     },
     "execution_count": 47,
     "metadata": {},
     "output_type": "execute_result"
    }
   ],
   "source": [
    "model_y_test_pred = model.predict(X_test)\n",
    "model_y_test_pred.size"
   ]
  },
  {
   "cell_type": "code",
   "execution_count": 48,
   "metadata": {},
   "outputs": [
    {
     "data": {
      "text/plain": [
       "numpy.ndarray"
      ]
     },
     "execution_count": 48,
     "metadata": {},
     "output_type": "execute_result"
    }
   ],
   "source": [
    "type(model_y_test_pred)"
   ]
  },
  {
   "cell_type": "code",
   "execution_count": 49,
   "metadata": {},
   "outputs": [
    {
     "data": {
      "text/plain": [
       "array([-371.41821289, -489.8359375 , -510.69287109, -508.4296875 ,\n",
       "       -507.60327148, -446.30810547, -317.55908203, -409.35473633,\n",
       "       -490.80517578, -345.51269531])"
      ]
     },
     "execution_count": 49,
     "metadata": {},
     "output_type": "execute_result"
    }
   ],
   "source": [
    "model_y_test_pred[:10]"
   ]
  },
  {
   "cell_type": "code",
   "execution_count": 50,
   "metadata": {},
   "outputs": [
    {
     "data": {
      "text/plain": [
       "108.44369004834678"
      ]
     },
     "execution_count": 50,
     "metadata": {},
     "output_type": "execute_result"
    }
   ],
   "source": [
    "pd.Series(model_y_test_pred).std()"
   ]
  },
  {
   "cell_type": "code",
   "execution_count": 51,
   "metadata": {},
   "outputs": [
    {
     "data": {
      "text/plain": [
       "-0.011380490878104168"
      ]
     },
     "execution_count": 51,
     "metadata": {},
     "output_type": "execute_result"
    }
   ],
   "source": [
    "pd.Series(model_y_test_pred).corr(y_test)"
   ]
  },
  {
   "cell_type": "code",
   "execution_count": 62,
   "metadata": {},
   "outputs": [
    {
     "name": "stdout",
     "output_type": "stream",
     "text": [
      "0.045 8.34 250507 0.045 375 286 4.77\n"
     ]
    }
   ],
   "source": [
    "# regression metrics\n",
    "from sklearn.metrics import explained_variance_score, mean_squared_error, r2_score, mean_absolute_error, median_absolute_error\n",
    "from math import sqrt\n",
    "print (\"%.3f %.2f %.0f %.3f %.0f %.0f %.2f\" % \n",
    "       (explained_variance_score(y_test, model_y_test_pred),\n",
    "        sqrt(mean_squared_error(y_test, model_y_test_pred))/60, # sqrt of MSE in minutes\n",
    "        mean_squared_error(y_test, model_y_test_pred), \n",
    "        r2_score(y_test, model_y_test_pred), \n",
    "        mean_absolute_error(y_test, model_y_test_pred), \n",
    "        median_absolute_error(y_test, model_y_test_pred),\n",
    "        median_absolute_error(y_test, model_y_test_pred)/60 # MAE in minutes\n",
    "       ))"
   ]
  },
  {
   "cell_type": "code",
   "execution_count": 63,
   "metadata": {},
   "outputs": [
    {
     "data": {
      "text/plain": [
       "array([  0., 300., 900.])"
      ]
     },
     "execution_count": 63,
     "metadata": {},
     "output_type": "execute_result"
    }
   ],
   "source": [
    "# make classifications from seconds late target\n",
    "bins = np.array([0.0, 5*60, 15*60]) # 0 on-time, 1 almost on-time, 2 late, 3 extremely late\n",
    "bins"
   ]
  },
  {
   "cell_type": "code",
   "execution_count": 64,
   "metadata": {},
   "outputs": [
    {
     "data": {
      "text/plain": [
       "array([1, 1, 0, 0, 0, 1, 0, 0, 1, 0])"
      ]
     },
     "execution_count": 64,
     "metadata": {},
     "output_type": "execute_result"
    }
   ],
   "source": [
    "np.digitize(y_test, bins)[:10]"
   ]
  },
  {
   "cell_type": "code",
   "execution_count": 65,
   "metadata": {
    "scrolled": true
   },
   "outputs": [
    {
     "name": "stdout",
     "output_type": "stream",
     "text": [
      "[[    0 21156]\n",
      " [    1  2939]\n",
      " [    2   892]\n",
      " [    3   148]]\n"
     ]
    }
   ],
   "source": [
    "# materialize y_test_class array\n",
    "# check to see how many trips are categorized as 0 on-time, 1 almost on-time, 2 late, 3 extremely late\n",
    "y_test_class=np.digitize(y_test, bins)\n",
    "unique, counts = np.unique(y_test_class, return_counts=True)\n",
    "print(np.asarray((unique, counts)).T)"
   ]
  },
  {
   "cell_type": "code",
   "execution_count": 66,
   "metadata": {},
   "outputs": [
    {
     "name": "stdout",
     "output_type": "stream",
     "text": [
      "[[    0 25131]\n",
      " [    1     4]]\n"
     ]
    }
   ],
   "source": [
    "# materialize model_y_pred_class\n",
    "# check to see how many trips are categorized as 0 on-time, 1 almost on-time, 2 late, 3 extremely late\n",
    "model_y_test_pred_class=np.digitize(model_y_test_pred, bins)\n",
    "print(np.asarray(np.unique(model_y_test_pred_class, return_counts=True)).T)"
   ]
  },
  {
   "cell_type": "code",
   "execution_count": 67,
   "metadata": {},
   "outputs": [
    {
     "name": "stdout",
     "output_type": "stream",
     "text": [
      "             precision    recall  f1-score   support\n",
      "\n",
      "          0       0.84      1.00      0.91     21156\n",
      "          1       0.25      0.00      0.00      2939\n",
      "          2       0.00      0.00      0.00       892\n",
      "          3       0.00      0.00      0.00       148\n",
      "\n",
      "avg / total       0.74      0.84      0.77     25135\n",
      "\n"
     ]
    },
    {
     "name": "stderr",
     "output_type": "stream",
     "text": [
      "/Applications/anaconda3/lib/python3.6/site-packages/sklearn/metrics/classification.py:1135: UndefinedMetricWarning: Precision and F-score are ill-defined and being set to 0.0 in labels with no predicted samples.\n",
      "  'precision', 'predicted', average, warn_for)\n"
     ]
    }
   ],
   "source": [
    "from sklearn.metrics import classification_report\n",
    "print(classification_report(y_test_class,model_y_test_pred_class))"
   ]
  },
  {
   "cell_type": "code",
   "execution_count": 68,
   "metadata": {},
   "outputs": [
    {
     "name": "stdout",
     "output_type": "stream",
     "text": [
      "[[21155     1     0     0]\n",
      " [ 2938     1     0     0]\n",
      " [  890     2     0     0]\n",
      " [  148     0     0     0]]\n"
     ]
    }
   ],
   "source": [
    "from sklearn.metrics import confusion_matrix\n",
    "print(confusion_matrix(y_test_class,model_y_test_pred_class,labels=[0,1,2,3]))"
   ]
  },
  {
   "cell_type": "code",
   "execution_count": null,
   "metadata": {},
   "outputs": [],
   "source": []
  }
 ],
 "metadata": {
  "kernelspec": {
   "display_name": "Python 3",
   "language": "python",
   "name": "python3"
  }
 },
 "nbformat": 4,
 "nbformat_minor": 2
}
