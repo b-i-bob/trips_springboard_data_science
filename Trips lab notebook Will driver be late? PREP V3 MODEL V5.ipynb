{
 "cells": [
  {
   "cell_type": "markdown",
   "metadata": {},
   "source": [
    "### Linear regression model V5\n",
    "with 10 duration features added in seconds"
   ]
  },
  {
   "cell_type": "code",
   "execution_count": 1,
   "metadata": {},
   "outputs": [],
   "source": [
    "fileprefix='./lateness_PREP_V3_'"
   ]
  },
  {
   "cell_type": "code",
   "execution_count": 2,
   "metadata": {},
   "outputs": [],
   "source": [
    "import pandas as pd\n",
    "import numpy as np"
   ]
  },
  {
   "cell_type": "code",
   "execution_count": 3,
   "metadata": {},
   "outputs": [],
   "source": [
    "df_X=pd.read_csv(fileprefix+'X.csv', sep='\\t')"
   ]
  },
  {
   "cell_type": "code",
   "execution_count": 4,
   "metadata": {},
   "outputs": [
    {
     "data": {
      "text/plain": [
       "(125675, 45)"
      ]
     },
     "execution_count": 4,
     "metadata": {},
     "output_type": "execute_result"
    }
   ],
   "source": [
    "df_X.shape"
   ]
  },
  {
   "cell_type": "code",
   "execution_count": 5,
   "metadata": {},
   "outputs": [],
   "source": [
    "df_y=pd.read_csv(fileprefix+'y.csv', sep='\\t', header=None)"
   ]
  },
  {
   "cell_type": "code",
   "execution_count": 6,
   "metadata": {},
   "outputs": [
    {
     "data": {
      "text/plain": [
       "(125675, 2)"
      ]
     },
     "execution_count": 6,
     "metadata": {},
     "output_type": "execute_result"
    }
   ],
   "source": [
    "type(df_y)\n",
    "df_y.shape"
   ]
  },
  {
   "cell_type": "code",
   "execution_count": 7,
   "metadata": {},
   "outputs": [],
   "source": [
    "y=df_y.iloc[:,1]"
   ]
  },
  {
   "cell_type": "code",
   "execution_count": 8,
   "metadata": {},
   "outputs": [
    {
     "data": {
      "text/plain": [
       "pandas.core.series.Series"
      ]
     },
     "execution_count": 8,
     "metadata": {},
     "output_type": "execute_result"
    }
   ],
   "source": [
    "type(y)"
   ]
  },
  {
   "cell_type": "code",
   "execution_count": 9,
   "metadata": {},
   "outputs": [
    {
     "data": {
      "text/plain": [
       "(125675,)"
      ]
     },
     "execution_count": 9,
     "metadata": {},
     "output_type": "execute_result"
    }
   ],
   "source": [
    "y.shape"
   ]
  },
  {
   "cell_type": "code",
   "execution_count": 10,
   "metadata": {
    "scrolled": true
   },
   "outputs": [
    {
     "data": {
      "text/plain": [
       "0   -497.0\n",
       "1      5.0\n",
       "2   -313.0\n",
       "3   -296.0\n",
       "4   -166.0\n",
       "Name: 1, dtype: float64"
      ]
     },
     "execution_count": 10,
     "metadata": {},
     "output_type": "execute_result"
    }
   ],
   "source": [
    "y.head()"
   ]
  },
  {
   "cell_type": "code",
   "execution_count": 11,
   "metadata": {},
   "outputs": [
    {
     "data": {
      "text/html": [
       "<div>\n",
       "<style scoped>\n",
       "    .dataframe tbody tr th:only-of-type {\n",
       "        vertical-align: middle;\n",
       "    }\n",
       "\n",
       "    .dataframe tbody tr th {\n",
       "        vertical-align: top;\n",
       "    }\n",
       "\n",
       "    .dataframe thead th {\n",
       "        text-align: right;\n",
       "    }\n",
       "</style>\n",
       "<table border=\"1\" class=\"dataframe\">\n",
       "  <thead>\n",
       "    <tr style=\"text-align: right;\">\n",
       "      <th></th>\n",
       "      <th>Unnamed: 0</th>\n",
       "      <th>org_signup_before_trip_created_secs</th>\n",
       "      <th>passengers_count</th>\n",
       "      <th>destination_lon</th>\n",
       "      <th>coupon_consumed</th>\n",
       "      <th>lead_organizer_previous_completed_trips</th>\n",
       "      <th>driver_signup_before_trip_created_secs</th>\n",
       "      <th>origin_region_id</th>\n",
       "      <th>creator_id</th>\n",
       "      <th>total_predicted_duration</th>\n",
       "      <th>...</th>\n",
       "      <th>is_repeating_ride_int</th>\n",
       "      <th>driver_signup_before_trip_start_secs</th>\n",
       "      <th>destination_location_id</th>\n",
       "      <th>route_legs_count</th>\n",
       "      <th>driver_id</th>\n",
       "      <th>origin_lat</th>\n",
       "      <th>organizers_count</th>\n",
       "      <th>organizer_home_lat</th>\n",
       "      <th>origin_lon</th>\n",
       "      <th>trip_predicted_raw_fare</th>\n",
       "    </tr>\n",
       "  </thead>\n",
       "  <tbody>\n",
       "    <tr>\n",
       "      <th>0</th>\n",
       "      <td>5</td>\n",
       "      <td>18754828.0</td>\n",
       "      <td>1.0</td>\n",
       "      <td>-118.23</td>\n",
       "      <td>0.0</td>\n",
       "      <td>5</td>\n",
       "      <td>18685416.0</td>\n",
       "      <td>44.0</td>\n",
       "      <td>81281</td>\n",
       "      <td>36.47</td>\n",
       "      <td>...</td>\n",
       "      <td>0</td>\n",
       "      <td>19442622.0</td>\n",
       "      <td>86289.0</td>\n",
       "      <td>1</td>\n",
       "      <td>62969.0</td>\n",
       "      <td>34.18</td>\n",
       "      <td>1.0</td>\n",
       "      <td>34.17</td>\n",
       "      <td>-118.35</td>\n",
       "      <td>32.50</td>\n",
       "    </tr>\n",
       "    <tr>\n",
       "      <th>1</th>\n",
       "      <td>6</td>\n",
       "      <td>16683716.0</td>\n",
       "      <td>1.0</td>\n",
       "      <td>-118.24</td>\n",
       "      <td>0.0</td>\n",
       "      <td>65</td>\n",
       "      <td>16613901.0</td>\n",
       "      <td>33.0</td>\n",
       "      <td>80068</td>\n",
       "      <td>29.00</td>\n",
       "      <td>...</td>\n",
       "      <td>1</td>\n",
       "      <td>17629422.0</td>\n",
       "      <td>86075.0</td>\n",
       "      <td>1</td>\n",
       "      <td>62969.0</td>\n",
       "      <td>34.10</td>\n",
       "      <td>1.0</td>\n",
       "      <td>34.08</td>\n",
       "      <td>-118.31</td>\n",
       "      <td>23.09</td>\n",
       "    </tr>\n",
       "    <tr>\n",
       "      <th>2</th>\n",
       "      <td>7</td>\n",
       "      <td>18750712.0</td>\n",
       "      <td>1.0</td>\n",
       "      <td>-118.11</td>\n",
       "      <td>0.0</td>\n",
       "      <td>13</td>\n",
       "      <td>18684204.0</td>\n",
       "      <td>48.0</td>\n",
       "      <td>87802</td>\n",
       "      <td>18.90</td>\n",
       "      <td>...</td>\n",
       "      <td>0</td>\n",
       "      <td>18924222.0</td>\n",
       "      <td>88361.0</td>\n",
       "      <td>1</td>\n",
       "      <td>62969.0</td>\n",
       "      <td>34.13</td>\n",
       "      <td>1.0</td>\n",
       "      <td>34.16</td>\n",
       "      <td>-118.16</td>\n",
       "      <td>17.81</td>\n",
       "    </tr>\n",
       "    <tr>\n",
       "      <th>3</th>\n",
       "      <td>8</td>\n",
       "      <td>17785068.0</td>\n",
       "      <td>1.0</td>\n",
       "      <td>-118.28</td>\n",
       "      <td>0.0</td>\n",
       "      <td>88</td>\n",
       "      <td>17715744.0</td>\n",
       "      <td>36.0</td>\n",
       "      <td>81561</td>\n",
       "      <td>22.93</td>\n",
       "      <td>...</td>\n",
       "      <td>0</td>\n",
       "      <td>17802822.0</td>\n",
       "      <td>87908.0</td>\n",
       "      <td>1</td>\n",
       "      <td>62969.0</td>\n",
       "      <td>34.11</td>\n",
       "      <td>1.0</td>\n",
       "      <td>34.05</td>\n",
       "      <td>-118.24</td>\n",
       "      <td>22.56</td>\n",
       "    </tr>\n",
       "    <tr>\n",
       "      <th>4</th>\n",
       "      <td>9</td>\n",
       "      <td>7921943.0</td>\n",
       "      <td>1.0</td>\n",
       "      <td>-118.38</td>\n",
       "      <td>0.0</td>\n",
       "      <td>46</td>\n",
       "      <td>7851048.0</td>\n",
       "      <td>45.0</td>\n",
       "      <td>76793</td>\n",
       "      <td>35.50</td>\n",
       "      <td>...</td>\n",
       "      <td>1</td>\n",
       "      <td>17537322.0</td>\n",
       "      <td>89633.0</td>\n",
       "      <td>1</td>\n",
       "      <td>62969.0</td>\n",
       "      <td>34.20</td>\n",
       "      <td>1.0</td>\n",
       "      <td>34.12</td>\n",
       "      <td>-118.51</td>\n",
       "      <td>36.19</td>\n",
       "    </tr>\n",
       "  </tbody>\n",
       "</table>\n",
       "<p>5 rows × 45 columns</p>\n",
       "</div>"
      ],
      "text/plain": [
       "   Unnamed: 0  org_signup_before_trip_created_secs  passengers_count  \\\n",
       "0           5                           18754828.0               1.0   \n",
       "1           6                           16683716.0               1.0   \n",
       "2           7                           18750712.0               1.0   \n",
       "3           8                           17785068.0               1.0   \n",
       "4           9                            7921943.0               1.0   \n",
       "\n",
       "   destination_lon  coupon_consumed  lead_organizer_previous_completed_trips  \\\n",
       "0          -118.23              0.0                                        5   \n",
       "1          -118.24              0.0                                       65   \n",
       "2          -118.11              0.0                                       13   \n",
       "3          -118.28              0.0                                       88   \n",
       "4          -118.38              0.0                                       46   \n",
       "\n",
       "   driver_signup_before_trip_created_secs  origin_region_id  creator_id  \\\n",
       "0                              18685416.0              44.0       81281   \n",
       "1                              16613901.0              33.0       80068   \n",
       "2                              18684204.0              48.0       87802   \n",
       "3                              17715744.0              36.0       81561   \n",
       "4                               7851048.0              45.0       76793   \n",
       "\n",
       "   total_predicted_duration           ...             is_repeating_ride_int  \\\n",
       "0                     36.47           ...                                 0   \n",
       "1                     29.00           ...                                 1   \n",
       "2                     18.90           ...                                 0   \n",
       "3                     22.93           ...                                 0   \n",
       "4                     35.50           ...                                 1   \n",
       "\n",
       "   driver_signup_before_trip_start_secs  destination_location_id  \\\n",
       "0                            19442622.0                  86289.0   \n",
       "1                            17629422.0                  86075.0   \n",
       "2                            18924222.0                  88361.0   \n",
       "3                            17802822.0                  87908.0   \n",
       "4                            17537322.0                  89633.0   \n",
       "\n",
       "   route_legs_count  driver_id  origin_lat  organizers_count  \\\n",
       "0                 1    62969.0       34.18               1.0   \n",
       "1                 1    62969.0       34.10               1.0   \n",
       "2                 1    62969.0       34.13               1.0   \n",
       "3                 1    62969.0       34.11               1.0   \n",
       "4                 1    62969.0       34.20               1.0   \n",
       "\n",
       "   organizer_home_lat  origin_lon  trip_predicted_raw_fare  \n",
       "0               34.17     -118.35                    32.50  \n",
       "1               34.08     -118.31                    23.09  \n",
       "2               34.16     -118.16                    17.81  \n",
       "3               34.05     -118.24                    22.56  \n",
       "4               34.12     -118.51                    36.19  \n",
       "\n",
       "[5 rows x 45 columns]"
      ]
     },
     "execution_count": 11,
     "metadata": {},
     "output_type": "execute_result"
    }
   ],
   "source": [
    "df_X.head()"
   ]
  },
  {
   "cell_type": "code",
   "execution_count": 12,
   "metadata": {},
   "outputs": [
    {
     "data": {
      "text/plain": [
       "count     125675.0\n",
       "mean        -507.0\n",
       "std        22763.0\n",
       "min     -7862491.0\n",
       "25%         -657.0\n",
       "50%         -324.0\n",
       "75%          -96.0\n",
       "max       204537.0\n",
       "Name: 1, dtype: float64"
      ]
     },
     "execution_count": 12,
     "metadata": {},
     "output_type": "execute_result"
    }
   ],
   "source": [
    "y.describe().round()"
   ]
  },
  {
   "cell_type": "code",
   "execution_count": 13,
   "metadata": {},
   "outputs": [],
   "source": [
    "# break df_X,y into test and train sets\n",
    "from sklearn.model_selection import train_test_split\n",
    "X_train, X_test, y_train, y_test = train_test_split(df_X, y, test_size=0.20, random_state=808)"
   ]
  },
  {
   "cell_type": "code",
   "execution_count": 14,
   "metadata": {},
   "outputs": [
    {
     "name": "stdout",
     "output_type": "stream",
     "text": [
      "(100540, 45)\n",
      "(25135, 45)\n",
      "(100540,)\n",
      "(25135,)\n"
     ]
    }
   ],
   "source": [
    "for i in X_train, X_test, y_train, y_test:\n",
    "    print(i.shape)"
   ]
  },
  {
   "cell_type": "code",
   "execution_count": 15,
   "metadata": {},
   "outputs": [],
   "source": [
    "# select a linear model\n",
    "import sklearn.linear_model\n",
    "model=sklearn.linear_model.LinearRegression(normalize=True)"
   ]
  },
  {
   "cell_type": "code",
   "execution_count": 16,
   "metadata": {},
   "outputs": [],
   "source": [
    "# fit model\n",
    "model=model.fit(X_train,y_train)"
   ]
  },
  {
   "cell_type": "code",
   "execution_count": 17,
   "metadata": {},
   "outputs": [
    {
     "data": {
      "text/plain": [
       "array([-4.46304923e-04,  2.83062873e+07,  1.58809831e+01,  7.63070636e+01,\n",
       "        4.26297518e+00,  1.41224972e-01, -4.19374691e+07,  3.97251150e-01,\n",
       "       -4.74131379e-03,  7.98521358e+03, -3.32454183e+01, -4.16779938e+01,\n",
       "        2.13585671e+00, -7.70422994e-02, -1.60591932e+01, -4.56784399e-04,\n",
       "       -1.33112258e+02,  1.96415907e-03, -2.80847512e+07,  2.59900338e+07,\n",
       "        8.29713028e+00,  1.03576627e+07,  1.56323711e+07,  5.92842852e+01,\n",
       "        9.66202213e-03,  4.03756802e-01, -1.46301573e+02, -1.98884083e-04,\n",
       "        1.11771517e+01, -1.49192226e+01, -3.27351899e+06, -3.47065909e+01,\n",
       "        2.21536152e+05,  1.41574844e+02, -2.05373933e+02,  7.31242463e+01,\n",
       "        1.57258991e+07,  3.76191224e-04, -2.16417343e+02,  3.16118237e-03,\n",
       "        5.32997191e+02,  7.34760994e+01, -5.10912076e+01,  1.45764811e+02,\n",
       "       -5.81321772e+00])"
      ]
     },
     "execution_count": 17,
     "metadata": {},
     "output_type": "execute_result"
    }
   ],
   "source": [
    "model.coef_"
   ]
  },
  {
   "cell_type": "code",
   "execution_count": 18,
   "metadata": {},
   "outputs": [
    {
     "data": {
      "text/plain": [
       "0            0\n",
       "1     28306287\n",
       "2           15\n",
       "3           76\n",
       "4            4\n",
       "5            0\n",
       "6    -41937469\n",
       "7            0\n",
       "8            0\n",
       "9         7985\n",
       "10         -33\n",
       "11         -41\n",
       "12           2\n",
       "13           0\n",
       "14         -16\n",
       "15           0\n",
       "16        -133\n",
       "17           0\n",
       "18   -28084751\n",
       "19    25990033\n",
       "20           8\n",
       "21    10357662\n",
       "22    15632371\n",
       "23          59\n",
       "24           0\n",
       "25           0\n",
       "26        -146\n",
       "27           0\n",
       "28          11\n",
       "29         -14\n",
       "30    -3273518\n",
       "31         -34\n",
       "32      221536\n",
       "33         141\n",
       "34        -205\n",
       "35          73\n",
       "36    15725899\n",
       "37           0\n",
       "38        -216\n",
       "39           0\n",
       "40         532\n",
       "41          73\n",
       "42         -51\n",
       "43         145\n",
       "44          -5\n",
       "dtype: int64"
      ]
     },
     "execution_count": 18,
     "metadata": {},
     "output_type": "execute_result"
    }
   ],
   "source": [
    "pd.Series(model.coef_).astype(int)"
   ]
  },
  {
   "cell_type": "code",
   "execution_count": 19,
   "metadata": {},
   "outputs": [
    {
     "data": {
      "text/plain": [
       "12308.071845378414"
      ]
     },
     "execution_count": 19,
     "metadata": {},
     "output_type": "execute_result"
    }
   ],
   "source": [
    "model.intercept_"
   ]
  },
  {
   "cell_type": "code",
   "execution_count": 20,
   "metadata": {},
   "outputs": [
    {
     "data": {
      "text/plain": [
       "Unnamed: 0                                 6.259357e+04\n",
       "org_signup_before_trip_created_secs        1.294888e+07\n",
       "passengers_count                           5.874265e-01\n",
       "destination_lon                            1.570260e+00\n",
       "coupon_consumed                            7.915962e-02\n",
       "lead_organizer_previous_completed_trips    2.078520e+02\n",
       "driver_signup_before_trip_created_secs     1.246842e+07\n",
       "origin_region_id                           1.424262e+01\n",
       "creator_id                                 2.835762e+04\n",
       "total_predicted_duration                   1.252958e+01\n",
       "driver_home_lon                            1.696783e+00\n",
       "destination_lat                            1.466265e+00\n",
       "destination_region_id                      1.422844e+01\n",
       "claimed_after_created                      3.024465e+04\n",
       "shuttle_int                                9.784898e-02\n",
       "origin_location_id                         3.680007e+04\n",
       "trip_est_duration_secs                     7.517752e+02\n",
       "lead_organizer_id                          2.836254e+04\n",
       "org_signup_before_trip_start_secs          1.297236e+07\n",
       "driver_signup_before_trip_claimed_secs     1.236846e+07\n",
       "total_predicted_distance_miles             5.668047e+00\n",
       "trip_claimed_after_trip_created            1.814771e+06\n",
       "claimed_before_trip_start_secs             2.381955e+05\n",
       "carpool_int                                1.312920e-01\n",
       "trip_template_id                           5.735203e+03\n",
       "driver_previous_completed_trips            3.427828e+02\n",
       "is_same_day_ride_int                       1.590459e-01\n",
       "id                                         9.032390e+04\n",
       "predicted_driver_fare                      5.895252e+00\n",
       "organizer_home_lon                         1.100766e+01\n",
       "trip_created_before_trip_start_secs        1.920172e+06\n",
       "is_affiliate_int                           2.673397e-01\n",
       "driver_signup_before_org_signup_secs       1.723678e+07\n",
       "driver_has_driven_this_route_before_int    4.947607e-01\n",
       "driver_home_lat                            1.476480e+00\n",
       "is_repeating_ride_int                      4.761031e-01\n",
       "driver_signup_before_trip_start_secs       1.237647e+07\n",
       "destination_location_id                    3.688729e+04\n",
       "route_legs_count                           2.796359e-01\n",
       "driver_id                                  3.646652e+04\n",
       "origin_lat                                 1.466141e+00\n",
       "organizers_count                           1.717336e-01\n",
       "organizer_home_lat                         3.493593e+00\n",
       "origin_lon                                 1.569941e+00\n",
       "trip_predicted_raw_fare                    1.222204e+01\n",
       "dtype: float64"
      ]
     },
     "execution_count": 20,
     "metadata": {},
     "output_type": "execute_result"
    }
   ],
   "source": [
    "X_train.std()"
   ]
  },
  {
   "cell_type": "code",
   "execution_count": 21,
   "metadata": {},
   "outputs": [
    {
     "data": {
      "text/plain": [
       "is_same_day_ride_int                      -919\n",
       "route_legs_count                          -773\n",
       "shuttle_int                               -164\n",
       "driver_home_lat                           -139\n",
       "is_affiliate_int                          -129\n",
       "destination_lat                            -28\n",
       "driver_home_lon                            -19\n",
       "organizer_home_lat                         -14\n",
       "driver_signup_before_trip_created_secs      -3\n",
       "org_signup_before_trip_start_secs           -2\n",
       "trip_created_before_trip_start_secs         -1\n",
       "organizer_home_lon                          -1\n",
       "trip_predicted_raw_fare                      0\n",
       "trip_est_duration_secs                       0\n",
       "claimed_after_created                        0\n",
       "creator_id                                   0\n",
       "origin_location_id                           0\n",
       "Unnamed: 0                                   0\n",
       "id                                           0\n",
       "destination_location_id                      0\n",
       "lead_organizer_id                            0\n",
       "driver_id                                    0\n",
       "trip_template_id                             0\n",
       "lead_organizer_previous_completed_trips      0\n",
       "driver_previous_completed_trips              0\n",
       "driver_signup_before_org_signup_secs         0\n",
       "origin_region_id                             0\n",
       "destination_region_id                        0\n",
       "driver_signup_before_trip_start_secs         1\n",
       "total_predicted_distance_miles               1\n",
       "predicted_driver_fare                        1\n",
       "driver_signup_before_trip_claimed_secs       2\n",
       "org_signup_before_trip_created_secs          2\n",
       "trip_claimed_after_trip_created              5\n",
       "passengers_count                            27\n",
       "destination_lon                             48\n",
       "coupon_consumed                             53\n",
       "claimed_before_trip_start_secs              65\n",
       "origin_lon                                  92\n",
       "is_repeating_ride_int                      153\n",
       "driver_has_driven_this_route_before_int    286\n",
       "origin_lat                                 363\n",
       "organizers_count                           427\n",
       "carpool_int                                451\n",
       "total_predicted_duration                   637\n",
       "dtype: int64"
      ]
     },
     "execution_count": 21,
     "metadata": {},
     "output_type": "execute_result"
    }
   ],
   "source": [
    "# normalize the linear model coefficients by the standard deviation to see which features are most important\n",
    "(model.coef_/X_train.std()).sort_values(axis=0).astype(int)"
   ]
  },
  {
   "cell_type": "code",
   "execution_count": 22,
   "metadata": {},
   "outputs": [
    {
     "data": {
      "text/plain": [
       "0.9500275931381763"
      ]
     },
     "execution_count": 22,
     "metadata": {},
     "output_type": "execute_result"
    }
   ],
   "source": [
    "# score against TRAINING set\n",
    "model.score(X_train,y_train)"
   ]
  },
  {
   "cell_type": "code",
   "execution_count": 23,
   "metadata": {},
   "outputs": [
    {
     "data": {
      "text/plain": [
       "-0.023181727248209546"
      ]
     },
     "execution_count": 23,
     "metadata": {},
     "output_type": "execute_result"
    }
   ],
   "source": [
    "# score against TEST set\n",
    "model.score(X_test,y_test)"
   ]
  },
  {
   "cell_type": "code",
   "execution_count": 24,
   "metadata": {},
   "outputs": [
    {
     "data": {
      "text/plain": [
       "25135"
      ]
     },
     "execution_count": 24,
     "metadata": {},
     "output_type": "execute_result"
    }
   ],
   "source": [
    "model_y_test_pred = model.predict(X_test)\n",
    "model_y_test_pred.size"
   ]
  },
  {
   "cell_type": "code",
   "execution_count": 25,
   "metadata": {},
   "outputs": [
    {
     "data": {
      "text/plain": [
       "numpy.ndarray"
      ]
     },
     "execution_count": 25,
     "metadata": {},
     "output_type": "execute_result"
    }
   ],
   "source": [
    "type(model_y_test_pred)"
   ]
  },
  {
   "cell_type": "code",
   "execution_count": 26,
   "metadata": {},
   "outputs": [
    {
     "data": {
      "text/plain": [
       "array([-108.23366245, -744.7595553 , -757.25321174, -441.9184738 ,\n",
       "       -193.87206954, -476.65725213, -931.04175451, -124.31141246,\n",
       "       -715.06430852, -270.610252  ])"
      ]
     },
     "execution_count": 26,
     "metadata": {},
     "output_type": "execute_result"
    }
   ],
   "source": [
    "model_y_test_pred[:10]"
   ]
  },
  {
   "cell_type": "code",
   "execution_count": 27,
   "metadata": {},
   "outputs": [
    {
     "data": {
      "text/plain": [
       "242.2700100488003"
      ]
     },
     "execution_count": 27,
     "metadata": {},
     "output_type": "execute_result"
    }
   ],
   "source": [
    "pd.Series(model_y_test_pred).std()"
   ]
  },
  {
   "cell_type": "code",
   "execution_count": 28,
   "metadata": {},
   "outputs": [
    {
     "data": {
      "text/plain": [
       "0.020457688191864953"
      ]
     },
     "execution_count": 28,
     "metadata": {},
     "output_type": "execute_result"
    }
   ],
   "source": [
    "pd.Series(model_y_test_pred).corr(y_test)"
   ]
  },
  {
   "cell_type": "code",
   "execution_count": 29,
   "metadata": {},
   "outputs": [
    {
     "name": "stdout",
     "output_type": "stream",
     "text": [
      "-0.023 2131946 -0.023 447 332\n"
     ]
    }
   ],
   "source": [
    "# regression metrics\n",
    "from sklearn.metrics import explained_variance_score, mean_squared_error, r2_score, mean_absolute_error, median_absolute_error\n",
    "print (\"%.3f %.0f %.3f %.0f %.0f\" % \n",
    "       (explained_variance_score(y_test, model_y_test_pred),\n",
    "        mean_squared_error(y_test, model_y_test_pred), \n",
    "        r2_score(y_test, model_y_test_pred), \n",
    "        mean_absolute_error(y_test, model_y_test_pred), \n",
    "        median_absolute_error(y_test, model_y_test_pred)))"
   ]
  },
  {
   "cell_type": "code",
   "execution_count": 30,
   "metadata": {},
   "outputs": [
    {
     "data": {
      "text/plain": [
       "array([  0., 300., 900.])"
      ]
     },
     "execution_count": 30,
     "metadata": {},
     "output_type": "execute_result"
    }
   ],
   "source": [
    "# make classifications from seconds late target\n",
    "bins = np.array([0.0, 5*60, 15*60]) # 0 on-time, 1 almost on-time, 2 late, 3 extremely late\n",
    "bins"
   ]
  },
  {
   "cell_type": "code",
   "execution_count": 31,
   "metadata": {},
   "outputs": [
    {
     "data": {
      "text/plain": [
       "array([1, 1, 0, 0, 0, 1, 0, 0, 1, 0])"
      ]
     },
     "execution_count": 31,
     "metadata": {},
     "output_type": "execute_result"
    }
   ],
   "source": [
    "np.digitize(y_test, bins)[:10]"
   ]
  },
  {
   "cell_type": "code",
   "execution_count": 32,
   "metadata": {
    "scrolled": true
   },
   "outputs": [
    {
     "name": "stdout",
     "output_type": "stream",
     "text": [
      "[[    0 21156]\n",
      " [    1  2939]\n",
      " [    2   892]\n",
      " [    3   148]]\n"
     ]
    }
   ],
   "source": [
    "# materialize y_test_class array\n",
    "# check to see how many trips are categorized as 0 on-time, 1 almost on-time, 2 late, 3 extremely late\n",
    "y_test_class=np.digitize(y_test, bins)\n",
    "unique, counts = np.unique(y_test_class, return_counts=True)\n",
    "print(np.asarray((unique, counts)).T)"
   ]
  },
  {
   "cell_type": "code",
   "execution_count": 33,
   "metadata": {},
   "outputs": [
    {
     "name": "stdout",
     "output_type": "stream",
     "text": [
      "[[    0 24598]\n",
      " [    1   518]\n",
      " [    2    18]\n",
      " [    3     1]]\n"
     ]
    }
   ],
   "source": [
    "# materialize model_y_pred_class\n",
    "# check to see how many trips are categorized as 0 on-time, 1 almost on-time, 2 late, 3 extremely late\n",
    "model_y_test_pred_class=np.digitize(model_y_test_pred, bins)\n",
    "print(np.asarray(np.unique(model_y_test_pred_class, return_counts=True)).T)"
   ]
  },
  {
   "cell_type": "code",
   "execution_count": 34,
   "metadata": {},
   "outputs": [
    {
     "name": "stdout",
     "output_type": "stream",
     "text": [
      "             precision    recall  f1-score   support\n",
      "\n",
      "          0       0.84      0.98      0.91     21156\n",
      "          1       0.14      0.03      0.04      2939\n",
      "          2       0.06      0.00      0.00       892\n",
      "          3       0.00      0.00      0.00       148\n",
      "\n",
      "avg / total       0.73      0.83      0.77     25135\n",
      "\n"
     ]
    }
   ],
   "source": [
    "from sklearn.metrics import classification_report\n",
    "print(classification_report(y_test_class,model_y_test_pred_class))"
   ]
  },
  {
   "cell_type": "code",
   "execution_count": 35,
   "metadata": {},
   "outputs": [
    {
     "name": "stdout",
     "output_type": "stream",
     "text": [
      "[[20731   413    12     0]\n",
      " [ 2862    75     2     0]\n",
      " [  869    21     1     1]\n",
      " [  136     9     3     0]]\n"
     ]
    }
   ],
   "source": [
    "from sklearn.metrics import confusion_matrix\n",
    "print(confusion_matrix(y_test_class,model_y_test_pred_class,labels=[0,1,2,3]))"
   ]
  },
  {
   "cell_type": "code",
   "execution_count": null,
   "metadata": {},
   "outputs": [],
   "source": []
  }
 ],
 "metadata": {
  "kernelspec": {
   "display_name": "Python 3",
   "language": "python",
   "name": "python3"
  },
  "language_info": {
   "codemirror_mode": {
    "name": "ipython",
    "version": 3
   },
   "file_extension": ".py",
   "mimetype": "text/x-python",
   "name": "python",
   "nbconvert_exporter": "python",
   "pygments_lexer": "ipython3",
   "version": "3.6.5"
  }
 },
 "nbformat": 4,
 "nbformat_minor": 2
}
