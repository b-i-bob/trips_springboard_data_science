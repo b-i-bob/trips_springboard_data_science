{
 "cells": [
  {
   "cell_type": "markdown",
   "metadata": {},
   "source": [
    "### Ensemble Piecewise Linear regression model V17\n",
    "try random forest regressor with deeper trees and more trees (see cell 14)"
   ]
  },
  {
   "cell_type": "code",
   "execution_count": 1,
   "metadata": {},
   "outputs": [],
   "source": [
    "fileprefix='./lateness_PREP_V10_'"
   ]
  },
  {
   "cell_type": "code",
   "execution_count": 2,
   "metadata": {},
   "outputs": [],
   "source": [
    "import pandas as pd\n",
    "import numpy as np"
   ]
  },
  {
   "cell_type": "code",
   "execution_count": 3,
   "metadata": {},
   "outputs": [],
   "source": [
    "df_X=pd.read_csv(fileprefix+'X.csv', sep='\\t')"
   ]
  },
  {
   "cell_type": "code",
   "execution_count": 4,
   "metadata": {},
   "outputs": [
    {
     "data": {
      "text/plain": [
       "(125675, 215)"
      ]
     },
     "execution_count": 4,
     "metadata": {},
     "output_type": "execute_result"
    }
   ],
   "source": [
    "df_X.shape"
   ]
  },
  {
   "cell_type": "code",
   "execution_count": 5,
   "metadata": {},
   "outputs": [],
   "source": [
    "df_y=pd.read_csv(fileprefix+'y.csv', sep='\\t', header=None)"
   ]
  },
  {
   "cell_type": "code",
   "execution_count": 6,
   "metadata": {},
   "outputs": [
    {
     "data": {
      "text/plain": [
       "(125675, 2)"
      ]
     },
     "execution_count": 6,
     "metadata": {},
     "output_type": "execute_result"
    }
   ],
   "source": [
    "type(df_y)\n",
    "df_y.shape"
   ]
  },
  {
   "cell_type": "code",
   "execution_count": 7,
   "metadata": {},
   "outputs": [
    {
     "data": {
      "text/html": [
       "<div>\n",
       "<style scoped>\n",
       "    .dataframe tbody tr th:only-of-type {\n",
       "        vertical-align: middle;\n",
       "    }\n",
       "\n",
       "    .dataframe tbody tr th {\n",
       "        vertical-align: top;\n",
       "    }\n",
       "\n",
       "    .dataframe thead th {\n",
       "        text-align: right;\n",
       "    }\n",
       "</style>\n",
       "<table border=\"1\" class=\"dataframe\">\n",
       "  <thead>\n",
       "    <tr style=\"text-align: right;\">\n",
       "      <th></th>\n",
       "      <th>0</th>\n",
       "      <th>1</th>\n",
       "    </tr>\n",
       "  </thead>\n",
       "  <tbody>\n",
       "    <tr>\n",
       "      <th>0</th>\n",
       "      <td>5</td>\n",
       "      <td>-497.0</td>\n",
       "    </tr>\n",
       "    <tr>\n",
       "      <th>1</th>\n",
       "      <td>6</td>\n",
       "      <td>5.0</td>\n",
       "    </tr>\n",
       "    <tr>\n",
       "      <th>2</th>\n",
       "      <td>7</td>\n",
       "      <td>-313.0</td>\n",
       "    </tr>\n",
       "    <tr>\n",
       "      <th>3</th>\n",
       "      <td>8</td>\n",
       "      <td>-296.0</td>\n",
       "    </tr>\n",
       "    <tr>\n",
       "      <th>4</th>\n",
       "      <td>9</td>\n",
       "      <td>-166.0</td>\n",
       "    </tr>\n",
       "  </tbody>\n",
       "</table>\n",
       "</div>"
      ],
      "text/plain": [
       "   0      1\n",
       "0  5 -497.0\n",
       "1  6    5.0\n",
       "2  7 -313.0\n",
       "3  8 -296.0\n",
       "4  9 -166.0"
      ]
     },
     "execution_count": 7,
     "metadata": {},
     "output_type": "execute_result"
    }
   ],
   "source": [
    "df_y.head()"
   ]
  },
  {
   "cell_type": "code",
   "execution_count": 8,
   "metadata": {},
   "outputs": [
    {
     "data": {
      "text/plain": [
       "0   -497.0\n",
       "1      5.0\n",
       "2   -313.0\n",
       "3   -296.0\n",
       "4   -166.0\n",
       "Name: 1, dtype: float64"
      ]
     },
     "execution_count": 8,
     "metadata": {},
     "output_type": "execute_result"
    }
   ],
   "source": [
    "y=df_y[1]\n",
    "y.head()"
   ]
  },
  {
   "cell_type": "code",
   "execution_count": 9,
   "metadata": {},
   "outputs": [
    {
     "data": {
      "text/plain": [
       "(125675,)"
      ]
     },
     "execution_count": 9,
     "metadata": {},
     "output_type": "execute_result"
    }
   ],
   "source": [
    "y.shape"
   ]
  },
  {
   "cell_type": "code",
   "execution_count": 10,
   "metadata": {},
   "outputs": [
    {
     "data": {
      "text/html": [
       "<div>\n",
       "<style scoped>\n",
       "    .dataframe tbody tr th:only-of-type {\n",
       "        vertical-align: middle;\n",
       "    }\n",
       "\n",
       "    .dataframe tbody tr th {\n",
       "        vertical-align: top;\n",
       "    }\n",
       "\n",
       "    .dataframe thead th {\n",
       "        text-align: right;\n",
       "    }\n",
       "</style>\n",
       "<table border=\"1\" class=\"dataframe\">\n",
       "  <thead>\n",
       "    <tr style=\"text-align: right;\">\n",
       "      <th></th>\n",
       "      <th>Unnamed: 0</th>\n",
       "      <th>lead_organizer_created_at_pdt_hour</th>\n",
       "      <th>creator_id</th>\n",
       "      <th>claimed_at_pdt_hour_14</th>\n",
       "      <th>origin_region_name_East Bay South</th>\n",
       "      <th>scheduled_starts_at_pdt_month</th>\n",
       "      <th>carpool_int</th>\n",
       "      <th>scheduled_starts_at_pdt_weekofyear</th>\n",
       "      <th>scheduled_starts_at_pdt_hour_2</th>\n",
       "      <th>origin_region_name_Central LA - West</th>\n",
       "      <th>...</th>\n",
       "      <th>destination_region_id</th>\n",
       "      <th>claimed_at_pdt_hour_6</th>\n",
       "      <th>organizers_count</th>\n",
       "      <th>scheduled_starts_at_pdt_hour_5</th>\n",
       "      <th>scheduled_starts_at_pdt_hour_6</th>\n",
       "      <th>origin_region_name_Ventura</th>\n",
       "      <th>lead_organizer_created_at_pdt_month</th>\n",
       "      <th>scheduled_starts_at_pdt_month_2</th>\n",
       "      <th>origin_region_name_Pomona Valley</th>\n",
       "      <th>driver_id</th>\n",
       "    </tr>\n",
       "  </thead>\n",
       "  <tbody>\n",
       "    <tr>\n",
       "      <th>0</th>\n",
       "      <td>5</td>\n",
       "      <td>19</td>\n",
       "      <td>81281</td>\n",
       "      <td>0</td>\n",
       "      <td>0</td>\n",
       "      <td>2</td>\n",
       "      <td>0</td>\n",
       "      <td>7</td>\n",
       "      <td>0</td>\n",
       "      <td>0</td>\n",
       "      <td>...</td>\n",
       "      <td>36.0</td>\n",
       "      <td>0</td>\n",
       "      <td>1.0</td>\n",
       "      <td>0</td>\n",
       "      <td>0</td>\n",
       "      <td>0</td>\n",
       "      <td>7</td>\n",
       "      <td>1</td>\n",
       "      <td>0</td>\n",
       "      <td>62969.0</td>\n",
       "    </tr>\n",
       "    <tr>\n",
       "      <th>1</th>\n",
       "      <td>6</td>\n",
       "      <td>19</td>\n",
       "      <td>80068</td>\n",
       "      <td>0</td>\n",
       "      <td>0</td>\n",
       "      <td>1</td>\n",
       "      <td>0</td>\n",
       "      <td>4</td>\n",
       "      <td>0</td>\n",
       "      <td>0</td>\n",
       "      <td>...</td>\n",
       "      <td>36.0</td>\n",
       "      <td>0</td>\n",
       "      <td>1.0</td>\n",
       "      <td>0</td>\n",
       "      <td>0</td>\n",
       "      <td>0</td>\n",
       "      <td>7</td>\n",
       "      <td>0</td>\n",
       "      <td>0</td>\n",
       "      <td>62969.0</td>\n",
       "    </tr>\n",
       "    <tr>\n",
       "      <th>2</th>\n",
       "      <td>7</td>\n",
       "      <td>20</td>\n",
       "      <td>87802</td>\n",
       "      <td>0</td>\n",
       "      <td>0</td>\n",
       "      <td>2</td>\n",
       "      <td>0</td>\n",
       "      <td>6</td>\n",
       "      <td>0</td>\n",
       "      <td>0</td>\n",
       "      <td>...</td>\n",
       "      <td>48.0</td>\n",
       "      <td>0</td>\n",
       "      <td>1.0</td>\n",
       "      <td>0</td>\n",
       "      <td>0</td>\n",
       "      <td>0</td>\n",
       "      <td>7</td>\n",
       "      <td>1</td>\n",
       "      <td>0</td>\n",
       "      <td>62969.0</td>\n",
       "    </tr>\n",
       "    <tr>\n",
       "      <th>3</th>\n",
       "      <td>8</td>\n",
       "      <td>20</td>\n",
       "      <td>81561</td>\n",
       "      <td>0</td>\n",
       "      <td>0</td>\n",
       "      <td>1</td>\n",
       "      <td>0</td>\n",
       "      <td>4</td>\n",
       "      <td>0</td>\n",
       "      <td>0</td>\n",
       "      <td>...</td>\n",
       "      <td>36.0</td>\n",
       "      <td>0</td>\n",
       "      <td>1.0</td>\n",
       "      <td>0</td>\n",
       "      <td>0</td>\n",
       "      <td>0</td>\n",
       "      <td>7</td>\n",
       "      <td>0</td>\n",
       "      <td>0</td>\n",
       "      <td>62969.0</td>\n",
       "    </tr>\n",
       "    <tr>\n",
       "      <th>4</th>\n",
       "      <td>9</td>\n",
       "      <td>19</td>\n",
       "      <td>76793</td>\n",
       "      <td>0</td>\n",
       "      <td>0</td>\n",
       "      <td>1</td>\n",
       "      <td>0</td>\n",
       "      <td>4</td>\n",
       "      <td>0</td>\n",
       "      <td>0</td>\n",
       "      <td>...</td>\n",
       "      <td>33.0</td>\n",
       "      <td>0</td>\n",
       "      <td>1.0</td>\n",
       "      <td>0</td>\n",
       "      <td>0</td>\n",
       "      <td>0</td>\n",
       "      <td>7</td>\n",
       "      <td>0</td>\n",
       "      <td>0</td>\n",
       "      <td>62969.0</td>\n",
       "    </tr>\n",
       "  </tbody>\n",
       "</table>\n",
       "<p>5 rows × 215 columns</p>\n",
       "</div>"
      ],
      "text/plain": [
       "   Unnamed: 0  lead_organizer_created_at_pdt_hour  creator_id  \\\n",
       "0           5                                  19       81281   \n",
       "1           6                                  19       80068   \n",
       "2           7                                  20       87802   \n",
       "3           8                                  20       81561   \n",
       "4           9                                  19       76793   \n",
       "\n",
       "   claimed_at_pdt_hour_14  origin_region_name_East Bay South  \\\n",
       "0                       0                                  0   \n",
       "1                       0                                  0   \n",
       "2                       0                                  0   \n",
       "3                       0                                  0   \n",
       "4                       0                                  0   \n",
       "\n",
       "   scheduled_starts_at_pdt_month  carpool_int  \\\n",
       "0                              2            0   \n",
       "1                              1            0   \n",
       "2                              2            0   \n",
       "3                              1            0   \n",
       "4                              1            0   \n",
       "\n",
       "   scheduled_starts_at_pdt_weekofyear  scheduled_starts_at_pdt_hour_2  \\\n",
       "0                                   7                               0   \n",
       "1                                   4                               0   \n",
       "2                                   6                               0   \n",
       "3                                   4                               0   \n",
       "4                                   4                               0   \n",
       "\n",
       "   origin_region_name_Central LA - West    ...      destination_region_id  \\\n",
       "0                                     0    ...                       36.0   \n",
       "1                                     0    ...                       36.0   \n",
       "2                                     0    ...                       48.0   \n",
       "3                                     0    ...                       36.0   \n",
       "4                                     0    ...                       33.0   \n",
       "\n",
       "   claimed_at_pdt_hour_6  organizers_count  scheduled_starts_at_pdt_hour_5  \\\n",
       "0                      0               1.0                               0   \n",
       "1                      0               1.0                               0   \n",
       "2                      0               1.0                               0   \n",
       "3                      0               1.0                               0   \n",
       "4                      0               1.0                               0   \n",
       "\n",
       "   scheduled_starts_at_pdt_hour_6  origin_region_name_Ventura  \\\n",
       "0                               0                           0   \n",
       "1                               0                           0   \n",
       "2                               0                           0   \n",
       "3                               0                           0   \n",
       "4                               0                           0   \n",
       "\n",
       "   lead_organizer_created_at_pdt_month  scheduled_starts_at_pdt_month_2  \\\n",
       "0                                    7                                1   \n",
       "1                                    7                                0   \n",
       "2                                    7                                1   \n",
       "3                                    7                                0   \n",
       "4                                    7                                0   \n",
       "\n",
       "   origin_region_name_Pomona Valley  driver_id  \n",
       "0                                 0    62969.0  \n",
       "1                                 0    62969.0  \n",
       "2                                 0    62969.0  \n",
       "3                                 0    62969.0  \n",
       "4                                 0    62969.0  \n",
       "\n",
       "[5 rows x 215 columns]"
      ]
     },
     "execution_count": 10,
     "metadata": {},
     "output_type": "execute_result"
    }
   ],
   "source": [
    "df_X.head()"
   ]
  },
  {
   "cell_type": "code",
   "execution_count": 11,
   "metadata": {},
   "outputs": [
    {
     "data": {
      "text/plain": [
       "count    125675.0\n",
       "mean       -416.0\n",
       "std         509.0\n",
       "min       -1800.0\n",
       "25%        -657.0\n",
       "50%        -324.0\n",
       "75%         -96.0\n",
       "max        1800.0\n",
       "Name: 1, dtype: float64"
      ]
     },
     "execution_count": 11,
     "metadata": {},
     "output_type": "execute_result"
    }
   ],
   "source": [
    "y.describe().round()"
   ]
  },
  {
   "cell_type": "code",
   "execution_count": 12,
   "metadata": {},
   "outputs": [],
   "source": [
    "# break df_X,y into test and train sets\n",
    "from sklearn.model_selection import train_test_split\n",
    "X_train, X_test, y_train, y_test = train_test_split(df_X, y, test_size=0.20, random_state=808)"
   ]
  },
  {
   "cell_type": "code",
   "execution_count": 13,
   "metadata": {},
   "outputs": [
    {
     "name": "stdout",
     "output_type": "stream",
     "text": [
      "(100540, 215)\n",
      "(25135, 215)\n",
      "(100540,)\n",
      "(25135,)\n"
     ]
    }
   ],
   "source": [
    "for i in X_train, X_test, y_train, y_test:\n",
    "    print(i.shape)"
   ]
  },
  {
   "cell_type": "code",
   "execution_count": 14,
   "metadata": {},
   "outputs": [],
   "source": [
    "# select a regressor\n",
    "from sklearn.ensemble import RandomForestRegressor\n",
    "model=RandomForestRegressor(max_depth=4, random_state=808, n_estimators=200)"
   ]
  },
  {
   "cell_type": "code",
   "execution_count": 15,
   "metadata": {},
   "outputs": [],
   "source": [
    "# fit model\n",
    "model=model.fit(X_train,y_train)"
   ]
  },
  {
   "cell_type": "code",
   "execution_count": 16,
   "metadata": {},
   "outputs": [
    {
     "name": "stdout",
     "output_type": "stream",
     "text": [
      "[5.19983429e-05 7.08064431e-04 1.11457761e-04 0.00000000e+00\n",
      " 0.00000000e+00 3.62133458e-06 0.00000000e+00 1.96302589e-06\n",
      " 0.00000000e+00 3.56948411e-06 0.00000000e+00 0.00000000e+00\n",
      " 0.00000000e+00 0.00000000e+00 2.34979471e-03 3.31724133e-06\n",
      " 0.00000000e+00 0.00000000e+00 0.00000000e+00 0.00000000e+00\n",
      " 3.66565344e-04 7.77375008e-06 1.22226886e-04 0.00000000e+00\n",
      " 1.11656951e-01 0.00000000e+00 0.00000000e+00 3.68542928e-05\n",
      " 1.07003121e-03 8.74829835e-05 2.45992046e-05 0.00000000e+00\n",
      " 0.00000000e+00 0.00000000e+00 0.00000000e+00 0.00000000e+00\n",
      " 0.00000000e+00 0.00000000e+00 4.70016091e-05 0.00000000e+00\n",
      " 0.00000000e+00 3.06559376e-05 0.00000000e+00 3.64232077e-05\n",
      " 2.67080219e-03 3.51818090e-04 6.15348158e-05 0.00000000e+00\n",
      " 2.53874756e-05 0.00000000e+00 5.01982406e-06 0.00000000e+00\n",
      " 0.00000000e+00 0.00000000e+00 0.00000000e+00 0.00000000e+00\n",
      " 0.00000000e+00 6.60535406e-05 0.00000000e+00 0.00000000e+00\n",
      " 0.00000000e+00 0.00000000e+00 1.35906328e-04 0.00000000e+00\n",
      " 0.00000000e+00 2.13877214e-05 0.00000000e+00 2.25156400e-04\n",
      " 0.00000000e+00 1.08444145e-04 1.98186007e-03 0.00000000e+00\n",
      " 1.36894847e-04 3.20526231e-03 0.00000000e+00 0.00000000e+00\n",
      " 0.00000000e+00 2.66023924e-05 0.00000000e+00 0.00000000e+00\n",
      " 0.00000000e+00 0.00000000e+00 2.68537877e-04 0.00000000e+00\n",
      " 1.81737916e-05 2.45972122e-06 0.00000000e+00 0.00000000e+00\n",
      " 1.27990418e-05 8.47317038e-05 2.26707919e-04 1.65458969e-04\n",
      " 0.00000000e+00 1.04020324e-01 0.00000000e+00 6.32958719e-04\n",
      " 1.29619328e-03 0.00000000e+00 0.00000000e+00 1.13458253e-04\n",
      " 0.00000000e+00 0.00000000e+00 5.92535681e-04 2.40644914e-05\n",
      " 0.00000000e+00 0.00000000e+00 1.54328351e-01 3.76157858e-02\n",
      " 0.00000000e+00 7.82713379e-05 4.29443318e-05 1.06917647e-03\n",
      " 0.00000000e+00 1.50274386e-04 0.00000000e+00 0.00000000e+00\n",
      " 5.22028010e-05 1.12740772e-04 0.00000000e+00 0.00000000e+00\n",
      " 3.38606944e-05 5.79905304e-05 1.10610681e-03 0.00000000e+00\n",
      " 0.00000000e+00 0.00000000e+00 0.00000000e+00 9.44432123e-05\n",
      " 1.23599990e-05 0.00000000e+00 0.00000000e+00 6.01550166e-05\n",
      " 1.74253945e-05 7.65400107e-04 0.00000000e+00 0.00000000e+00\n",
      " 0.00000000e+00 0.00000000e+00 0.00000000e+00 0.00000000e+00\n",
      " 0.00000000e+00 3.70057386e-04 2.91742537e-06 0.00000000e+00\n",
      " 9.57340686e-04 0.00000000e+00 0.00000000e+00 1.15183583e-05\n",
      " 2.09438541e-04 0.00000000e+00 0.00000000e+00 2.44592183e-03\n",
      " 0.00000000e+00 3.46202382e-01 1.19056112e-03 0.00000000e+00\n",
      " 1.98720813e-04 0.00000000e+00 1.26906749e-01 0.00000000e+00\n",
      " 0.00000000e+00 0.00000000e+00 0.00000000e+00 4.32753114e-04\n",
      " 3.81734052e-06 4.47126384e-05 0.00000000e+00 1.55584845e-03\n",
      " 0.00000000e+00 0.00000000e+00 0.00000000e+00 0.00000000e+00\n",
      " 0.00000000e+00 3.72802786e-05 5.54616441e-06 0.00000000e+00\n",
      " 0.00000000e+00 2.23543428e-05 3.77972030e-02 0.00000000e+00\n",
      " 0.00000000e+00 4.52338412e-03 2.69342894e-02 0.00000000e+00\n",
      " 1.67523857e-04 0.00000000e+00 0.00000000e+00 0.00000000e+00\n",
      " 0.00000000e+00 1.42643222e-04 0.00000000e+00 0.00000000e+00\n",
      " 0.00000000e+00 0.00000000e+00 3.75404043e-05 0.00000000e+00\n",
      " 1.20958241e-04 1.38286284e-03 0.00000000e+00 5.93230487e-04\n",
      " 4.72570880e-04 0.00000000e+00 0.00000000e+00 0.00000000e+00\n",
      " 2.08390234e-03 1.58364660e-05 0.00000000e+00 4.17182944e-04\n",
      " 0.00000000e+00 2.94409692e-06 0.00000000e+00 3.23060264e-05\n",
      " 0.00000000e+00 0.00000000e+00 1.58793297e-02]\n"
     ]
    }
   ],
   "source": [
    "print(model.feature_importances_)"
   ]
  },
  {
   "cell_type": "code",
   "execution_count": 17,
   "metadata": {},
   "outputs": [
    {
     "data": {
      "text/plain": [
       "[(0.34620238152403837, 'scheduled_starts_at_pdt_hour'),\n",
       " (0.15432835083653867, 'claimed_before_trip_start_secs'),\n",
       " (0.1269067486802626, 'scheduled_ends_at_pdt_hour'),\n",
       " (0.11165695070394388, 'driver_home_lat'),\n",
       " (0.10402032382677313, 'driver_previous_completed_trips'),\n",
       " (0.037797202968858266, 'driver_signup_before_trip_start_secs'),\n",
       " (0.037615785760697185, 'driver_created_at_pdt_dayofyear'),\n",
       " (0.026934289381928954, 'driver_signup_before_trip_claimed_secs'),\n",
       " (0.015879329708056153, 'driver_id'),\n",
       " (0.004523384116608959, 'driver_home_lon'),\n",
       " (0.003205262313053591, 'driver_created_at_pdt_weekofyear'),\n",
       " (0.0026708021936665606, 'trip_claimed_after_trip_created'),\n",
       " (0.0024459218254744754, 'trip_est_duration_secs'),\n",
       " (0.002349794707263142, 'total_predicted_duration'),\n",
       " (0.002083902341749663, 'claimed_after_created'),\n",
       " (0.0019818600653778717, 'destination_lat'),\n",
       " (0.0015558484460120594, 'trip_predicted_raw_fare'),\n",
       " (0.001382862835275156, 'scheduled_ends_at_pdt_dayofyear'),\n",
       " (0.0012961932758982738, 'origin_lon'),\n",
       " (0.0011905611199065826, 'trip_created_before_trip_start_secs'),\n",
       " (0.0011061068060310786, 'driver_created_at_pdt_month'),\n",
       " (0.0010700312147793039, 'scheduled_starts_at_pdt_dayofyear'),\n",
       " (0.0010691764699032027, 'organizer_home_lon'),\n",
       " (0.0009573406860795375, 'destination_lon'),\n",
       " (0.000765400106986481, 'driver_signup_before_trip_created_secs'),\n",
       " (0.0007080644311308047, 'lead_organizer_created_at_pdt_hour'),\n",
       " (0.0006329587190860819, 'lead_organizer_created_at_pdt_day'),\n",
       " (0.000593230487138696, 'origin_lat'),\n",
       " (0.0005925356810996006, 'claimed_at_pdt_weekofyear'),\n",
       " (0.00047257088038265253, 'id'),\n",
       " (0.00043275311379897493, 'driver_has_driven_this_route_before_int'),\n",
       " (0.00041718294444804363, 'organizers_count'),\n",
       " (0.0003700573856646015, 'driver_created_at_pdt_day'),\n",
       " (0.0003665653435721658, 'driver_created_at_pdt_hour'),\n",
       " (0.00035181809002048596, 'destination_location_id'),\n",
       " (0.0002685378765966293, 'predicted_driver_fare'),\n",
       " (0.00022670791902128213, 'drivers_prev_ride_1hr_int'),\n",
       " (0.0002251563999799043, 'lead_organizer_created_at_pdt_weekofyear'),\n",
       " (0.0002094385412036905, 'origin_region_name_Eastside'),\n",
       " (0.0001987208125183502, 'trip_template_id'),\n",
       " (0.00016752385725632744, 'origin_analysis_metro_name_LA'),\n",
       " (0.00016545896866169431, 'scheduled_starts_at_pdt_hour_7'),\n",
       " (0.00015027438553861153, 'created_at_pdt_dayofyear'),\n",
       " (0.00014264322198625124, 'created_at_pdt_weekday'),\n",
       " (0.00013689484655274233, 'claimed_at_pdt_dayofyear'),\n",
       " (0.00013590632782398704, 'driver_created_at_pdt_weekday'),\n",
       " (0.00012222688571368018, 'organizer_home_lat'),\n",
       " (0.00012095824091122804, 'org_signup_before_trip_start_secs'),\n",
       " (0.00011345825305046091, 'lead_organizer_created_at_pdt_dayofyear'),\n",
       " (0.00011274077220865929, 'driver_signup_before_org_signup_secs'),\n",
       " (0.00011145776056580844, 'creator_id'),\n",
       " (0.0001084441449416401, 'created_at_pdt_day'),\n",
       " (9.444321230268569e-05, 'lead_organizer_previous_completed_trips'),\n",
       " (8.748298354192023e-05, 'scheduled_starts_at_pdt_weekday_1'),\n",
       " (8.473170382996332e-05, 'claimed_at_pdt_hour'),\n",
       " (7.827133788394861e-05, 'lead_organizer_id'),\n",
       " (6.605354062072749e-05, 'claimed_at_pdt_hour_17'),\n",
       " (6.15348157674485e-05, 'scheduled_starts_at_pdt_month_11'),\n",
       " (6.015501664717834e-05, 'origin_location_id'),\n",
       " (5.799053041601209e-05, 'driver_created_at_pdt_quarter'),\n",
       " (5.2202800955357295e-05, 'org_signup_before_trip_created_secs'),\n",
       " (5.199834294299059e-05, 'Unnamed: 0'),\n",
       " (4.7001609144239715e-05, 'scheduled_starts_at_pdt_month_10'),\n",
       " (4.471263839520374e-05, 'origin_region_name_Westside'),\n",
       " (4.294433178167231e-05, 'scheduled_starts_at_pdt_weekday_2'),\n",
       " (3.75404043294414e-05, 'scheduled_starts_at_pdt_hour_17'),\n",
       " (3.728027855592415e-05, 'claimed_at_pdt_month_7'),\n",
       " (3.685429279918362e-05, 'total_predicted_distance_miles'),\n",
       " (3.642320771241888e-05, 'scheduled_ends_at_pdt_weekofyear'),\n",
       " (3.386069444867708e-05, 'origin_region_id'),\n",
       " (3.2306026401795726e-05, 'lead_organizer_created_at_pdt_month'),\n",
       " (3.065593759501828e-05, 'origin_region_name_Malibu'),\n",
       " (2.660239236857495e-05, 'scheduled_starts_at_pdt_quarter'),\n",
       " (2.538747564377438e-05, 'claimed_at_pdt_month_11'),\n",
       " (2.4599204612302368e-05, 'origin_region_name_Default (Unassigned)'),\n",
       " (2.4064491364797885e-05, 'scheduled_starts_at_pdt_hour_13'),\n",
       " (2.2354342791359598e-05, 'lead_organizer_created_at_pdt_weekday'),\n",
       " (2.138772141879174e-05, 'claimed_at_pdt_weekday'),\n",
       " (1.8173791642872593e-05, 'is_repeating_ride_int'),\n",
       " (1.7425394522391525e-05, 'claimed_at_pdt_hour_1'),\n",
       " (1.5836466007277023e-05, 'destination_region_id'),\n",
       " (1.2799041782062785e-05, 'scheduled_starts_at_pdt_hour_10'),\n",
       " (1.2359998969071392e-05, 'scheduled_ends_at_pdt_day'),\n",
       " (1.1518358271611662e-05, 'scheduled_ends_at_pdt_month'),\n",
       " (7.773750083114793e-06, 'passengers_count'),\n",
       " (5.546164409904258e-06, 'scheduled_starts_at_pdt_quarter_4'),\n",
       " (5.019824061445273e-06, 'scheduled_ends_at_pdt_weekday'),\n",
       " (3.817340524199649e-06, 'created_at_pdt_quarter'),\n",
       " (3.621334583361451e-06, 'scheduled_starts_at_pdt_month'),\n",
       " (3.5694841148993136e-06, 'origin_region_name_Central LA - West'),\n",
       " (3.3172413311893363e-06, 'scheduled_starts_at_pdt_weekday'),\n",
       " (2.9440969166479003e-06, 'scheduled_starts_at_pdt_hour_6'),\n",
       " (2.9174253695317773e-06, 'claimed_at_pdt_quarter'),\n",
       " (2.4597212174970683e-06, 'scheduled_starts_at_pdt_month_5'),\n",
       " (1.9630258852788033e-06, 'scheduled_starts_at_pdt_weekofyear'),\n",
       " (0.0, 'shuttle_int'),\n",
       " (0.0, 'scheduled_starts_at_pdt_weekday_6'),\n",
       " (0.0, 'scheduled_starts_at_pdt_weekday_5'),\n",
       " (0.0, 'scheduled_starts_at_pdt_weekday_4'),\n",
       " (0.0, 'scheduled_starts_at_pdt_weekday_3'),\n",
       " (0.0, 'scheduled_starts_at_pdt_quarter_3'),\n",
       " (0.0, 'scheduled_starts_at_pdt_quarter_2'),\n",
       " (0.0, 'scheduled_starts_at_pdt_month_9'),\n",
       " (0.0, 'scheduled_starts_at_pdt_month_8'),\n",
       " (0.0, 'scheduled_starts_at_pdt_month_7'),\n",
       " (0.0, 'scheduled_starts_at_pdt_month_6'),\n",
       " (0.0, 'scheduled_starts_at_pdt_month_4'),\n",
       " (0.0, 'scheduled_starts_at_pdt_month_3'),\n",
       " (0.0, 'scheduled_starts_at_pdt_month_2'),\n",
       " (0.0, 'scheduled_starts_at_pdt_month_12'),\n",
       " (0.0, 'scheduled_starts_at_pdt_hour_9'),\n",
       " (0.0, 'scheduled_starts_at_pdt_hour_8'),\n",
       " (0.0, 'scheduled_starts_at_pdt_hour_5'),\n",
       " (0.0, 'scheduled_starts_at_pdt_hour_4'),\n",
       " (0.0, 'scheduled_starts_at_pdt_hour_3'),\n",
       " (0.0, 'scheduled_starts_at_pdt_hour_23'),\n",
       " (0.0, 'scheduled_starts_at_pdt_hour_22'),\n",
       " (0.0, 'scheduled_starts_at_pdt_hour_21'),\n",
       " (0.0, 'scheduled_starts_at_pdt_hour_20'),\n",
       " (0.0, 'scheduled_starts_at_pdt_hour_2'),\n",
       " (0.0, 'scheduled_starts_at_pdt_hour_19'),\n",
       " (0.0, 'scheduled_starts_at_pdt_hour_18'),\n",
       " (0.0, 'scheduled_starts_at_pdt_hour_16'),\n",
       " (0.0, 'scheduled_starts_at_pdt_hour_15'),\n",
       " (0.0, 'scheduled_starts_at_pdt_hour_14'),\n",
       " (0.0, 'scheduled_starts_at_pdt_hour_12'),\n",
       " (0.0, 'scheduled_starts_at_pdt_hour_11'),\n",
       " (0.0, 'scheduled_starts_at_pdt_hour_1'),\n",
       " (0.0, 'scheduled_starts_at_pdt_day'),\n",
       " (0.0, 'scheduled_ends_at_pdt_quarter'),\n",
       " (0.0, 'route_legs_count'),\n",
       " (0.0, 'origin_region_name_antelope-valley'),\n",
       " (0.0, 'origin_region_name_Ventura'),\n",
       " (0.0, 'origin_region_name_Tri Valley'),\n",
       " (0.0, 'origin_region_name_Southeast LA'),\n",
       " (0.0, 'origin_region_name_South LA'),\n",
       " (0.0, 'origin_region_name_South Bay'),\n",
       " (0.0, 'origin_region_name_Santa Clarita'),\n",
       " (0.0, 'origin_region_name_San Jose'),\n",
       " (0.0, 'origin_region_name_San Gabriel Valley - West'),\n",
       " (0.0, 'origin_region_name_San Gabriel Valley - South'),\n",
       " (0.0, 'origin_region_name_San Gabriel Valley - East'),\n",
       " (0.0, 'origin_region_name_San Francisco'),\n",
       " (0.0, 'origin_region_name_San Fernando Valley - West'),\n",
       " (0.0, 'origin_region_name_San Fernando Valley - East'),\n",
       " (0.0, 'origin_region_name_Pomona Valley'),\n",
       " (0.0, 'origin_region_name_Peninsula South'),\n",
       " (0.0, 'origin_region_name_Peninsula North'),\n",
       " (0.0, 'origin_region_name_Orange County - West'),\n",
       " (0.0, 'origin_region_name_Orange County - South'),\n",
       " (0.0, 'origin_region_name_Orange County - North'),\n",
       " (0.0, 'origin_region_name_Orange County - Central'),\n",
       " (0.0, 'origin_region_name_Oakland Berkeley'),\n",
       " (0.0, 'origin_region_name_North Bay'),\n",
       " (0.0, 'origin_region_name_Long Beach'),\n",
       " (0.0, 'origin_region_name_Lamorinda Walnut Creek'),\n",
       " (0.0, 'origin_region_name_Inland Empire'),\n",
       " (0.0, 'origin_region_name_East Contra Costa'),\n",
       " (0.0, 'origin_region_name_East Bay South'),\n",
       " (0.0, 'origin_region_name_East Bay North'),\n",
       " (0.0, 'origin_region_name_Central LA - South'),\n",
       " (0.0, 'origin_analysis_metro_name_OC'),\n",
       " (0.0, 'origin_analysis_metro_name_Default (Unassigned)'),\n",
       " (0.0, 'lead_organizer_platform_web'),\n",
       " (0.0, 'lead_organizer_platform_ios'),\n",
       " (0.0, 'lead_organizer_created_at_pdt_quarter'),\n",
       " (0.0, 'is_same_day_ride_int'),\n",
       " (0.0, 'is_affiliate_int'),\n",
       " (0.0, 'driver_gender_male'),\n",
       " (0.0, 'created_at_pdt_weekofyear'),\n",
       " (0.0, 'created_at_pdt_month'),\n",
       " (0.0, 'created_at_pdt_hour'),\n",
       " (0.0, 'coupon_consumed'),\n",
       " (0.0, 'claimed_at_pdt_weekday_6'),\n",
       " (0.0, 'claimed_at_pdt_weekday_5'),\n",
       " (0.0, 'claimed_at_pdt_weekday_4'),\n",
       " (0.0, 'claimed_at_pdt_weekday_3'),\n",
       " (0.0, 'claimed_at_pdt_weekday_2'),\n",
       " (0.0, 'claimed_at_pdt_weekday_1'),\n",
       " (0.0, 'claimed_at_pdt_quarter_4'),\n",
       " (0.0, 'claimed_at_pdt_quarter_3'),\n",
       " (0.0, 'claimed_at_pdt_quarter_2'),\n",
       " (0.0, 'claimed_at_pdt_month_9'),\n",
       " (0.0, 'claimed_at_pdt_month_8'),\n",
       " (0.0, 'claimed_at_pdt_month_6'),\n",
       " (0.0, 'claimed_at_pdt_month_5'),\n",
       " (0.0, 'claimed_at_pdt_month_4'),\n",
       " (0.0, 'claimed_at_pdt_month_3'),\n",
       " (0.0, 'claimed_at_pdt_month_2'),\n",
       " (0.0, 'claimed_at_pdt_month_12'),\n",
       " (0.0, 'claimed_at_pdt_month_10'),\n",
       " (0.0, 'claimed_at_pdt_month'),\n",
       " (0.0, 'claimed_at_pdt_hour_9'),\n",
       " (0.0, 'claimed_at_pdt_hour_8'),\n",
       " (0.0, 'claimed_at_pdt_hour_7'),\n",
       " (0.0, 'claimed_at_pdt_hour_6'),\n",
       " (0.0, 'claimed_at_pdt_hour_5'),\n",
       " (0.0, 'claimed_at_pdt_hour_4'),\n",
       " (0.0, 'claimed_at_pdt_hour_3'),\n",
       " (0.0, 'claimed_at_pdt_hour_23'),\n",
       " (0.0, 'claimed_at_pdt_hour_22'),\n",
       " (0.0, 'claimed_at_pdt_hour_21'),\n",
       " (0.0, 'claimed_at_pdt_hour_20'),\n",
       " (0.0, 'claimed_at_pdt_hour_2'),\n",
       " (0.0, 'claimed_at_pdt_hour_19'),\n",
       " (0.0, 'claimed_at_pdt_hour_18'),\n",
       " (0.0, 'claimed_at_pdt_hour_16'),\n",
       " (0.0, 'claimed_at_pdt_hour_15'),\n",
       " (0.0, 'claimed_at_pdt_hour_14'),\n",
       " (0.0, 'claimed_at_pdt_hour_13'),\n",
       " (0.0, 'claimed_at_pdt_hour_12'),\n",
       " (0.0, 'claimed_at_pdt_hour_11'),\n",
       " (0.0, 'claimed_at_pdt_hour_10'),\n",
       " (0.0, 'claimed_at_pdt_day'),\n",
       " (0.0, 'carpool_int')]"
      ]
     },
     "execution_count": 17,
     "metadata": {},
     "output_type": "execute_result"
    }
   ],
   "source": [
    "importances = list(zip(model.feature_importances_, X_train.columns))\n",
    "importances.sort(reverse=True)\n",
    "importances"
   ]
  },
  {
   "cell_type": "code",
   "execution_count": 18,
   "metadata": {},
   "outputs": [
    {
     "data": {
      "text/plain": [
       "dict_values(['scheduled_starts_at_pdt_hour', 'claimed_before_trip_start_secs', 'scheduled_ends_at_pdt_hour', 'driver_home_lat', 'driver_previous_completed_trips', 'driver_signup_before_trip_start_secs', 'driver_created_at_pdt_dayofyear', 'driver_signup_before_trip_claimed_secs', 'driver_id', 'driver_home_lon'])"
      ]
     },
     "execution_count": 18,
     "metadata": {},
     "output_type": "execute_result"
    }
   ],
   "source": [
    "# top 10 importances\n",
    "dict(importances[:10]).values()\n"
   ]
  },
  {
   "cell_type": "code",
   "execution_count": 19,
   "metadata": {},
   "outputs": [
    {
     "data": {
      "text/plain": [
       "95"
      ]
     },
     "execution_count": 19,
     "metadata": {},
     "output_type": "execute_result"
    }
   ],
   "source": [
    "# number of non-zero features used\n",
    "len([(i,f) for i, f in importances if i > 0])"
   ]
  },
  {
   "cell_type": "code",
   "execution_count": 20,
   "metadata": {},
   "outputs": [
    {
     "data": {
      "text/plain": [
       "9"
      ]
     },
     "execution_count": 20,
     "metadata": {},
     "output_type": "execute_result"
    }
   ],
   "source": [
    "# number of features wiht importance above 1%\n",
    "len([(i,f) for i, f in importances if i > 0.01])"
   ]
  },
  {
   "cell_type": "code",
   "execution_count": 36,
   "metadata": {},
   "outputs": [
    {
     "data": {
      "text/plain": [
       "<matplotlib.axes._subplots.AxesSubplot at 0x11c90fcf8>"
      ]
     },
     "execution_count": 36,
     "metadata": {},
     "output_type": "execute_result"
    },
    {
     "data": {
      "image/png": "[encoded data removed]",
      "text/plain": [
       "<Figure size 432x288 with 1 Axes>"
      ]
     },
     "metadata": {},
     "output_type": "display_data"
    }
   ],
   "source": [
    "pd.DataFrame(importances[:10], index=[x for (_,x) in importances[:10] ]).plot(kind = 'bar')"
   ]
  },
  {
   "cell_type": "code",
   "execution_count": 22,
   "metadata": {},
   "outputs": [
    {
     "data": {
      "text/plain": [
       "0.06271157881530454"
      ]
     },
     "execution_count": 22,
     "metadata": {},
     "output_type": "execute_result"
    }
   ],
   "source": [
    "# score against TRAINING set\n",
    "model.score(X_train,y_train)"
   ]
  },
  {
   "cell_type": "code",
   "execution_count": 23,
   "metadata": {},
   "outputs": [
    {
     "data": {
      "text/plain": [
       "0.06510468325141228"
      ]
     },
     "execution_count": 23,
     "metadata": {},
     "output_type": "execute_result"
    }
   ],
   "source": [
    "# score against TEST set\n",
    "model.score(X_test,y_test)"
   ]
  },
  {
   "cell_type": "code",
   "execution_count": 24,
   "metadata": {},
   "outputs": [
    {
     "data": {
      "text/plain": [
       "25135"
      ]
     },
     "execution_count": 24,
     "metadata": {},
     "output_type": "execute_result"
    }
   ],
   "source": [
    "model_y_test_pred = model.predict(X_test)\n",
    "model_y_test_pred.size"
   ]
  },
  {
   "cell_type": "code",
   "execution_count": 25,
   "metadata": {},
   "outputs": [
    {
     "data": {
      "text/plain": [
       "numpy.ndarray"
      ]
     },
     "execution_count": 25,
     "metadata": {},
     "output_type": "execute_result"
    }
   ],
   "source": [
    "type(model_y_test_pred)"
   ]
  },
  {
   "cell_type": "code",
   "execution_count": 26,
   "metadata": {},
   "outputs": [
    {
     "data": {
      "text/plain": [
       "array([-517.91628859, -413.00817159, -413.00817159, -504.59527536,\n",
       "       -548.74519117, -416.47415   , -257.04772021, -504.59527536,\n",
       "       -504.59527536, -413.00817159])"
      ]
     },
     "execution_count": 26,
     "metadata": {},
     "output_type": "execute_result"
    }
   ],
   "source": [
    "model_y_test_pred[:10]"
   ]
  },
  {
   "cell_type": "code",
   "execution_count": 27,
   "metadata": {},
   "outputs": [
    {
     "data": {
      "text/plain": [
       "114.24146089110701"
      ]
     },
     "execution_count": 27,
     "metadata": {},
     "output_type": "execute_result"
    }
   ],
   "source": [
    "pd.Series(model_y_test_pred).std()"
   ]
  },
  {
   "cell_type": "code",
   "execution_count": 28,
   "metadata": {},
   "outputs": [
    {
     "data": {
      "text/plain": [
       "-0.03061082387698781"
      ]
     },
     "execution_count": 28,
     "metadata": {},
     "output_type": "execute_result"
    }
   ],
   "source": [
    "pd.Series(model_y_test_pred).corr(y_test)"
   ]
  },
  {
   "cell_type": "code",
   "execution_count": 29,
   "metadata": {},
   "outputs": [
    {
     "name": "stdout",
     "output_type": "stream",
     "text": [
      "0.065 8.26 245342 0.065 371 280 4.67\n"
     ]
    }
   ],
   "source": [
    "# regression metrics\n",
    "from sklearn.metrics import explained_variance_score, mean_squared_error, r2_score, mean_absolute_error, median_absolute_error\n",
    "from math import sqrt\n",
    "print (\"%.3f %.2f %.0f %.3f %.0f %.0f %.2f\" % \n",
    "       (explained_variance_score(y_test, model_y_test_pred),\n",
    "        sqrt(mean_squared_error(y_test, model_y_test_pred))/60, # sqrt of MSE in minutes\n",
    "        mean_squared_error(y_test, model_y_test_pred), \n",
    "        r2_score(y_test, model_y_test_pred), \n",
    "        mean_absolute_error(y_test, model_y_test_pred), \n",
    "        median_absolute_error(y_test, model_y_test_pred),\n",
    "        median_absolute_error(y_test, model_y_test_pred)/60 # MAE in minutes\n",
    "       ))"
   ]
  },
  {
   "cell_type": "code",
   "execution_count": 30,
   "metadata": {},
   "outputs": [
    {
     "data": {
      "text/plain": [
       "array([  0., 300., 900.])"
      ]
     },
     "execution_count": 30,
     "metadata": {},
     "output_type": "execute_result"
    }
   ],
   "source": [
    "# make classifications from seconds late target\n",
    "bins = np.array([0.0, 5*60, 15*60]) # 0 on-time, 1 almost on-time, 2 late, 3 extremely late\n",
    "bins"
   ]
  },
  {
   "cell_type": "code",
   "execution_count": 31,
   "metadata": {},
   "outputs": [
    {
     "data": {
      "text/plain": [
       "array([1, 1, 0, 0, 0, 1, 0, 0, 1, 0])"
      ]
     },
     "execution_count": 31,
     "metadata": {},
     "output_type": "execute_result"
    }
   ],
   "source": [
    "np.digitize(y_test, bins)[:10]"
   ]
  },
  {
   "cell_type": "code",
   "execution_count": 32,
   "metadata": {
    "scrolled": true
   },
   "outputs": [
    {
     "name": "stdout",
     "output_type": "stream",
     "text": [
      "[[    0 21156]\n",
      " [    1  2939]\n",
      " [    2   892]\n",
      " [    3   148]]\n"
     ]
    }
   ],
   "source": [
    "# materialize y_test_class array\n",
    "# check to see how many trips are categorized as 0 on-time, 1 almost on-time, 2 late, 3 extremely late\n",
    "y_test_class=np.digitize(y_test, bins)\n",
    "unique, counts = np.unique(y_test_class, return_counts=True)\n",
    "print(np.asarray((unique, counts)).T)"
   ]
  },
  {
   "cell_type": "code",
   "execution_count": 33,
   "metadata": {},
   "outputs": [
    {
     "name": "stdout",
     "output_type": "stream",
     "text": [
      "[[    0 25067]\n",
      " [    1    19]\n",
      " [    2    44]\n",
      " [    3     5]]\n"
     ]
    }
   ],
   "source": [
    "# materialize model_y_pred_class\n",
    "# check to see how many trips are categorized as 0 on-time, 1 almost on-time, 2 late, 3 extremely late\n",
    "model_y_test_pred_class=np.digitize(model_y_test_pred, bins)\n",
    "print(np.asarray(np.unique(model_y_test_pred_class, return_counts=True)).T)"
   ]
  },
  {
   "cell_type": "code",
   "execution_count": 34,
   "metadata": {},
   "outputs": [
    {
     "name": "stdout",
     "output_type": "stream",
     "text": [
      "             precision    recall  f1-score   support\n",
      "\n",
      "          0       0.84      1.00      0.91     21156\n",
      "          1       0.26      0.00      0.00      2939\n",
      "          2       0.25      0.01      0.02       892\n",
      "          3       0.40      0.01      0.03       148\n",
      "\n",
      "avg / total       0.75      0.84      0.77     25135\n",
      "\n"
     ]
    }
   ],
   "source": [
    "from sklearn.metrics import classification_report\n",
    "print(classification_report(y_test_class,model_y_test_pred_class))"
   ]
  },
  {
   "cell_type": "code",
   "execution_count": 35,
   "metadata": {},
   "outputs": [
    {
     "name": "stdout",
     "output_type": "stream",
     "text": [
      "[[21144     4     7     1]\n",
      " [ 2920     5    14     0]\n",
      " [  875     4    11     2]\n",
      " [  128     6    12     2]]\n"
     ]
    }
   ],
   "source": [
    "from sklearn.metrics import confusion_matrix\n",
    "print(confusion_matrix(y_test_class,model_y_test_pred_class,labels=[0,1,2,3]))"
   ]
  },
  {
   "cell_type": "code",
   "execution_count": null,
   "metadata": {},
   "outputs": [],
   "source": []
  }
 ],
 "metadata": {
  "kernelspec": {
   "display_name": "Python 3",
   "language": "python",
   "name": "python3"
  },
  "language_info": {
   "codemirror_mode": {
    "name": "ipython",
    "version": 3
   },
   "file_extension": ".py",
   "mimetype": "text/x-python",
   "name": "python",
   "nbconvert_exporter": "python",
   "pygments_lexer": "ipython3",
   "version": "3.6.5"
  }
 },
 "nbformat": 4,
 "nbformat_minor": 2
}
