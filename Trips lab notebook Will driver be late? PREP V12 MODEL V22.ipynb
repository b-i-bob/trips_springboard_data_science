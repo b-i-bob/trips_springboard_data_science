{
 "cells": [
  {
   "cell_type": "markdown",
   "metadata": {},
   "source": [
    "### Regression model V22\n",
    "\n",
    "Remove all IDs from the feature set to test the hypothesis that resulting predictive model will generalize better, perform better on new data.\n",
    "\n",
    "Rationale: Three IDs ended up in the top 10 most important features: 'driver_id', 'origin_location_id', 'destination_location_id'. IDs are not expected to generalize well to new data.\n",
    "Also the prediction accuracy on the test set is several percentage points below that of the training set. This indicates the model is overfitting the training data somewhat. \n",
    "\n",
    "Another interpretation is that re-training the model frequently is important for this problem. "
   ]
  },
  {
   "cell_type": "code",
   "execution_count": 1,
   "metadata": {},
   "outputs": [],
   "source": [
    "fileprefix='./lateness_PREP_V12_'"
   ]
  },
  {
   "cell_type": "code",
   "execution_count": 2,
   "metadata": {},
   "outputs": [],
   "source": [
    "import pandas as pd\n",
    "import numpy as np"
   ]
  },
  {
   "cell_type": "code",
   "execution_count": 3,
   "metadata": {},
   "outputs": [],
   "source": [
    "df_X=pd.read_csv(fileprefix+'X.csv', sep='\\t')"
   ]
  },
  {
   "cell_type": "code",
   "execution_count": 4,
   "metadata": {},
   "outputs": [
    {
     "data": {
      "text/plain": [
       "(125675, 217)"
      ]
     },
     "execution_count": 4,
     "metadata": {},
     "output_type": "execute_result"
    }
   ],
   "source": [
    "df_X.shape"
   ]
  },
  {
   "cell_type": "code",
   "execution_count": 5,
   "metadata": {},
   "outputs": [],
   "source": [
    "df_y=pd.read_csv(fileprefix+'y.csv', sep='\\t', header=None)"
   ]
  },
  {
   "cell_type": "code",
   "execution_count": 6,
   "metadata": {},
   "outputs": [
    {
     "data": {
      "text/plain": [
       "(125675, 2)"
      ]
     },
     "execution_count": 6,
     "metadata": {},
     "output_type": "execute_result"
    }
   ],
   "source": [
    "type(df_y)\n",
    "df_y.shape"
   ]
  },
  {
   "cell_type": "code",
   "execution_count": 7,
   "metadata": {},
   "outputs": [
    {
     "data": {
      "text/html": [
       "<div>\n",
       "<style scoped>\n",
       "    .dataframe tbody tr th:only-of-type {\n",
       "        vertical-align: middle;\n",
       "    }\n",
       "\n",
       "    .dataframe tbody tr th {\n",
       "        vertical-align: top;\n",
       "    }\n",
       "\n",
       "    .dataframe thead th {\n",
       "        text-align: right;\n",
       "    }\n",
       "</style>\n",
       "<table border=\"1\" class=\"dataframe\">\n",
       "  <thead>\n",
       "    <tr style=\"text-align: right;\">\n",
       "      <th></th>\n",
       "      <th>0</th>\n",
       "      <th>1</th>\n",
       "    </tr>\n",
       "  </thead>\n",
       "  <tbody>\n",
       "    <tr>\n",
       "      <th>0</th>\n",
       "      <td>5</td>\n",
       "      <td>-497.0</td>\n",
       "    </tr>\n",
       "    <tr>\n",
       "      <th>1</th>\n",
       "      <td>6</td>\n",
       "      <td>5.0</td>\n",
       "    </tr>\n",
       "    <tr>\n",
       "      <th>2</th>\n",
       "      <td>7</td>\n",
       "      <td>-313.0</td>\n",
       "    </tr>\n",
       "    <tr>\n",
       "      <th>3</th>\n",
       "      <td>8</td>\n",
       "      <td>-296.0</td>\n",
       "    </tr>\n",
       "    <tr>\n",
       "      <th>4</th>\n",
       "      <td>9</td>\n",
       "      <td>-166.0</td>\n",
       "    </tr>\n",
       "  </tbody>\n",
       "</table>\n",
       "</div>"
      ],
      "text/plain": [
       "   0      1\n",
       "0  5 -497.0\n",
       "1  6    5.0\n",
       "2  7 -313.0\n",
       "3  8 -296.0\n",
       "4  9 -166.0"
      ]
     },
     "execution_count": 7,
     "metadata": {},
     "output_type": "execute_result"
    }
   ],
   "source": [
    "df_y.head()"
   ]
  },
  {
   "cell_type": "code",
   "execution_count": 8,
   "metadata": {},
   "outputs": [
    {
     "data": {
      "text/plain": [
       "0   -497.0\n",
       "1      5.0\n",
       "2   -313.0\n",
       "3   -296.0\n",
       "4   -166.0\n",
       "Name: 1, dtype: float64"
      ]
     },
     "execution_count": 8,
     "metadata": {},
     "output_type": "execute_result"
    }
   ],
   "source": [
    "y=df_y[1]\n",
    "y.head()"
   ]
  },
  {
   "cell_type": "code",
   "execution_count": 9,
   "metadata": {},
   "outputs": [
    {
     "data": {
      "text/plain": [
       "(125675,)"
      ]
     },
     "execution_count": 9,
     "metadata": {},
     "output_type": "execute_result"
    }
   ],
   "source": [
    "y.shape"
   ]
  },
  {
   "cell_type": "code",
   "execution_count": 10,
   "metadata": {},
   "outputs": [
    {
     "data": {
      "text/html": [
       "<div>\n",
       "<style scoped>\n",
       "    .dataframe tbody tr th:only-of-type {\n",
       "        vertical-align: middle;\n",
       "    }\n",
       "\n",
       "    .dataframe tbody tr th {\n",
       "        vertical-align: top;\n",
       "    }\n",
       "\n",
       "    .dataframe thead th {\n",
       "        text-align: right;\n",
       "    }\n",
       "</style>\n",
       "<table border=\"1\" class=\"dataframe\">\n",
       "  <thead>\n",
       "    <tr style=\"text-align: right;\">\n",
       "      <th></th>\n",
       "      <th>Unnamed: 0</th>\n",
       "      <th>claimed_at_pdt_hour_22</th>\n",
       "      <th>claimed_at_pdt_hour_1</th>\n",
       "      <th>scheduled_starts_at_pdt_hour_11</th>\n",
       "      <th>origin_analysis_metro_name_OC</th>\n",
       "      <th>scheduled_starts_at_pdt_quarter</th>\n",
       "      <th>created_at_pdt_weekofyear</th>\n",
       "      <th>origin_region_id</th>\n",
       "      <th>claimed_at_pdt_month_4</th>\n",
       "      <th>origin_region_name_San Fernando Valley - East</th>\n",
       "      <th>...</th>\n",
       "      <th>total_predicted_duration</th>\n",
       "      <th>scheduled_starts_at_pdt_hour_9</th>\n",
       "      <th>claimed_at_pdt_quarter_4</th>\n",
       "      <th>origin_location_id</th>\n",
       "      <th>claimed_at_pdt_hour_3</th>\n",
       "      <th>drivers_prev_ride_1hr_int</th>\n",
       "      <th>driver_home_lon</th>\n",
       "      <th>scheduled_starts_at_pdt_hour</th>\n",
       "      <th>origin_lon</th>\n",
       "      <th>driver_signup_before_org_signup_secs</th>\n",
       "    </tr>\n",
       "  </thead>\n",
       "  <tbody>\n",
       "    <tr>\n",
       "      <th>0</th>\n",
       "      <td>5</td>\n",
       "      <td>0</td>\n",
       "      <td>0</td>\n",
       "      <td>0</td>\n",
       "      <td>0</td>\n",
       "      <td>1</td>\n",
       "      <td>5</td>\n",
       "      <td>44.0</td>\n",
       "      <td>0</td>\n",
       "      <td>1</td>\n",
       "      <td>...</td>\n",
       "      <td>36.47</td>\n",
       "      <td>0</td>\n",
       "      <td>0</td>\n",
       "      <td>82879.0</td>\n",
       "      <td>0</td>\n",
       "      <td>1</td>\n",
       "      <td>-118.25</td>\n",
       "      <td>16</td>\n",
       "      <td>-118.35</td>\n",
       "      <td>-69412.0</td>\n",
       "    </tr>\n",
       "    <tr>\n",
       "      <th>1</th>\n",
       "      <td>6</td>\n",
       "      <td>0</td>\n",
       "      <td>0</td>\n",
       "      <td>0</td>\n",
       "      <td>0</td>\n",
       "      <td>1</td>\n",
       "      <td>2</td>\n",
       "      <td>33.0</td>\n",
       "      <td>0</td>\n",
       "      <td>0</td>\n",
       "      <td>...</td>\n",
       "      <td>29.00</td>\n",
       "      <td>0</td>\n",
       "      <td>0</td>\n",
       "      <td>83958.0</td>\n",
       "      <td>0</td>\n",
       "      <td>1</td>\n",
       "      <td>-118.25</td>\n",
       "      <td>16</td>\n",
       "      <td>-118.31</td>\n",
       "      <td>-69815.0</td>\n",
       "    </tr>\n",
       "    <tr>\n",
       "      <th>2</th>\n",
       "      <td>7</td>\n",
       "      <td>0</td>\n",
       "      <td>0</td>\n",
       "      <td>0</td>\n",
       "      <td>0</td>\n",
       "      <td>1</td>\n",
       "      <td>5</td>\n",
       "      <td>48.0</td>\n",
       "      <td>0</td>\n",
       "      <td>0</td>\n",
       "      <td>...</td>\n",
       "      <td>18.90</td>\n",
       "      <td>0</td>\n",
       "      <td>0</td>\n",
       "      <td>84580.0</td>\n",
       "      <td>0</td>\n",
       "      <td>1</td>\n",
       "      <td>-118.25</td>\n",
       "      <td>16</td>\n",
       "      <td>-118.16</td>\n",
       "      <td>-66508.0</td>\n",
       "    </tr>\n",
       "    <tr>\n",
       "      <th>3</th>\n",
       "      <td>8</td>\n",
       "      <td>0</td>\n",
       "      <td>0</td>\n",
       "      <td>0</td>\n",
       "      <td>0</td>\n",
       "      <td>1</td>\n",
       "      <td>4</td>\n",
       "      <td>36.0</td>\n",
       "      <td>0</td>\n",
       "      <td>0</td>\n",
       "      <td>...</td>\n",
       "      <td>22.93</td>\n",
       "      <td>0</td>\n",
       "      <td>0</td>\n",
       "      <td>87880.0</td>\n",
       "      <td>0</td>\n",
       "      <td>1</td>\n",
       "      <td>-118.25</td>\n",
       "      <td>16</td>\n",
       "      <td>-118.24</td>\n",
       "      <td>-69324.0</td>\n",
       "    </tr>\n",
       "    <tr>\n",
       "      <th>4</th>\n",
       "      <td>9</td>\n",
       "      <td>0</td>\n",
       "      <td>0</td>\n",
       "      <td>0</td>\n",
       "      <td>0</td>\n",
       "      <td>1</td>\n",
       "      <td>40</td>\n",
       "      <td>45.0</td>\n",
       "      <td>0</td>\n",
       "      <td>0</td>\n",
       "      <td>...</td>\n",
       "      <td>35.50</td>\n",
       "      <td>0</td>\n",
       "      <td>0</td>\n",
       "      <td>92149.0</td>\n",
       "      <td>0</td>\n",
       "      <td>0</td>\n",
       "      <td>-118.25</td>\n",
       "      <td>14</td>\n",
       "      <td>-118.51</td>\n",
       "      <td>-70895.0</td>\n",
       "    </tr>\n",
       "  </tbody>\n",
       "</table>\n",
       "<p>5 rows × 217 columns</p>\n",
       "</div>"
      ],
      "text/plain": [
       "   Unnamed: 0  claimed_at_pdt_hour_22  claimed_at_pdt_hour_1  \\\n",
       "0           5                       0                      0   \n",
       "1           6                       0                      0   \n",
       "2           7                       0                      0   \n",
       "3           8                       0                      0   \n",
       "4           9                       0                      0   \n",
       "\n",
       "   scheduled_starts_at_pdt_hour_11  origin_analysis_metro_name_OC  \\\n",
       "0                                0                              0   \n",
       "1                                0                              0   \n",
       "2                                0                              0   \n",
       "3                                0                              0   \n",
       "4                                0                              0   \n",
       "\n",
       "   scheduled_starts_at_pdt_quarter  created_at_pdt_weekofyear  \\\n",
       "0                                1                          5   \n",
       "1                                1                          2   \n",
       "2                                1                          5   \n",
       "3                                1                          4   \n",
       "4                                1                         40   \n",
       "\n",
       "   origin_region_id  claimed_at_pdt_month_4  \\\n",
       "0              44.0                       0   \n",
       "1              33.0                       0   \n",
       "2              48.0                       0   \n",
       "3              36.0                       0   \n",
       "4              45.0                       0   \n",
       "\n",
       "   origin_region_name_San Fernando Valley - East  \\\n",
       "0                                              1   \n",
       "1                                              0   \n",
       "2                                              0   \n",
       "3                                              0   \n",
       "4                                              0   \n",
       "\n",
       "                   ...                   total_predicted_duration  \\\n",
       "0                  ...                                      36.47   \n",
       "1                  ...                                      29.00   \n",
       "2                  ...                                      18.90   \n",
       "3                  ...                                      22.93   \n",
       "4                  ...                                      35.50   \n",
       "\n",
       "   scheduled_starts_at_pdt_hour_9  claimed_at_pdt_quarter_4  \\\n",
       "0                               0                         0   \n",
       "1                               0                         0   \n",
       "2                               0                         0   \n",
       "3                               0                         0   \n",
       "4                               0                         0   \n",
       "\n",
       "   origin_location_id  claimed_at_pdt_hour_3  drivers_prev_ride_1hr_int  \\\n",
       "0             82879.0                      0                          1   \n",
       "1             83958.0                      0                          1   \n",
       "2             84580.0                      0                          1   \n",
       "3             87880.0                      0                          1   \n",
       "4             92149.0                      0                          0   \n",
       "\n",
       "   driver_home_lon  scheduled_starts_at_pdt_hour  origin_lon  \\\n",
       "0          -118.25                            16     -118.35   \n",
       "1          -118.25                            16     -118.31   \n",
       "2          -118.25                            16     -118.16   \n",
       "3          -118.25                            16     -118.24   \n",
       "4          -118.25                            14     -118.51   \n",
       "\n",
       "   driver_signup_before_org_signup_secs  \n",
       "0                              -69412.0  \n",
       "1                              -69815.0  \n",
       "2                              -66508.0  \n",
       "3                              -69324.0  \n",
       "4                              -70895.0  \n",
       "\n",
       "[5 rows x 217 columns]"
      ]
     },
     "execution_count": 10,
     "metadata": {},
     "output_type": "execute_result"
    }
   ],
   "source": [
    "df_X.head()"
   ]
  },
  {
   "cell_type": "code",
   "execution_count": 11,
   "metadata": {},
   "outputs": [
    {
     "data": {
      "text/plain": [
       "count    125675.0\n",
       "mean       -416.0\n",
       "std         509.0\n",
       "min       -1800.0\n",
       "25%        -657.0\n",
       "50%        -324.0\n",
       "75%         -96.0\n",
       "max        1800.0\n",
       "Name: 1, dtype: float64"
      ]
     },
     "execution_count": 11,
     "metadata": {},
     "output_type": "execute_result"
    }
   ],
   "source": [
    "y.describe().round()"
   ]
  },
  {
   "cell_type": "code",
   "execution_count": 13,
   "metadata": {},
   "outputs": [
    {
     "data": {
      "text/plain": [
       "Index(['origin_region_id', 'lead_organizer_id', 'creator_id', 'driver_id',\n",
       "       'destination_region_id', 'trip_template_id', 'destination_location_id',\n",
       "       'origin_location_id'],\n",
       "      dtype='object')"
      ]
     },
     "execution_count": 13,
     "metadata": {},
     "output_type": "execute_result"
    }
   ],
   "source": [
    "# column names ending in _id\n",
    "df_X.filter(regex='_id$').columns"
   ]
  },
  {
   "cell_type": "code",
   "execution_count": 14,
   "metadata": {},
   "outputs": [
    {
     "data": {
      "text/plain": [
       "(125675, 209)"
      ]
     },
     "execution_count": 14,
     "metadata": {},
     "output_type": "execute_result"
    }
   ],
   "source": [
    "# DROP column names ending in _id\n",
    "df_X.drop(df_X.filter(regex='_id$').columns, axis = 1, inplace = True)\n",
    "df_X.shape"
   ]
  },
  {
   "cell_type": "code",
   "execution_count": 15,
   "metadata": {},
   "outputs": [],
   "source": [
    "# break df_X,y into test and train sets\n",
    "###from sklearn.model_selection import train_test_split\n",
    "###X_train, X_test, y_train, y_test = train_test_split(df_X, y, test_size=0.20, random_state=808)\n",
    "# use first 80% as train and last 30% as test to test for leakage\n",
    "###print(y.shape[0])\n",
    "###train_split=0.80\n",
    "###index = int(np.floor(y.shape[0] * train_split))\n",
    "###print(index)\n",
    "###y_train = y[:index]\n",
    "###print(y_train.shape)\n",
    "###X_train = df_X[:index]\n",
    "###print(X_train.shape)\n",
    "###y_test = y[index:]\n",
    "###print(y_test.shape)\n",
    "##print(y_train.head())\n",
    "##print(y_train.tail())\n",
    "##print(y_test.head())\n",
    "##print(y_test.tail())\n",
    "###X_test = df_X[index:]\n",
    "###print(X_test.shape)\n",
    "###X_train.iloc[:10]['scheduled_starts_at_pdt_dayofyear']\n",
    "## this shows df_X (and y) are not in time sorted order... so try another approach\n",
    "##X_train.iloc[:10]['scheduled_starts_at_pdt_dayofyear'][X_train['scheduled_starts_at_pdt_dayofyear']<100]\n",
    "###df_X[df_X.scheduled_starts_at_pdt_dayofyear>=100]['scheduled_starts_at_pdt_dayofyear'].head(10)\n",
    "###y[df_X.scheduled_starts_at_pdt_dayofyear>=100].head(10)\n",
    "###y[df_X.scheduled_starts_at_pdt_dayofyear>=299].count()\n",
    "\n",
    "## to test for leakage train on older data and test on newer data\n",
    "## approximate 80/20 split\n",
    "## data contains 1 year of data, first 298 days of the year use for training, rest use for testing\n",
    "y_train = y[df_X.scheduled_starts_at_pdt_dayofyear<299]\n",
    "X_train = df_X[df_X.scheduled_starts_at_pdt_dayofyear<299]\n",
    "y_test = y[df_X.scheduled_starts_at_pdt_dayofyear>=299]\n",
    "X_test = df_X[df_X.scheduled_starts_at_pdt_dayofyear>=299]\n"
   ]
  },
  {
   "cell_type": "code",
   "execution_count": 16,
   "metadata": {},
   "outputs": [
    {
     "name": "stdout",
     "output_type": "stream",
     "text": [
      "(100198, 209)\n",
      "(25477, 209)\n",
      "(100198,)\n",
      "(25477,)\n"
     ]
    }
   ],
   "source": [
    "for i in X_train, X_test, y_train, y_test:\n",
    "    print(i.shape)"
   ]
  },
  {
   "cell_type": "code",
   "execution_count": 17,
   "metadata": {},
   "outputs": [],
   "source": [
    "# select a regressor\n",
    "from sklearn.ensemble import GradientBoostingRegressor\n",
    "model=GradientBoostingRegressor(max_depth=4, random_state=808, n_estimators=200)"
   ]
  },
  {
   "cell_type": "code",
   "execution_count": 18,
   "metadata": {},
   "outputs": [],
   "source": [
    "# fit model\n",
    "model=model.fit(X_train,y_train)"
   ]
  },
  {
   "cell_type": "code",
   "execution_count": 19,
   "metadata": {},
   "outputs": [
    {
     "name": "stdout",
     "output_type": "stream",
     "text": [
      "[1.80404777e-02 0.00000000e+00 4.09800849e-04 0.00000000e+00\n",
      " 0.00000000e+00 2.72959150e-06 4.19961399e-03 4.87426082e-04\n",
      " 0.00000000e+00 5.49040739e-04 4.93137167e-05 0.00000000e+00\n",
      " 5.51811882e-04 0.00000000e+00 2.51116964e-04 5.46233180e-03\n",
      " 8.51442283e-04 9.31016756e-03 0.00000000e+00 4.16683413e-02\n",
      " 0.00000000e+00 4.30805642e-02 8.92141974e-04 1.61998976e-02\n",
      " 4.27042671e-04 1.91405117e-02 7.41902796e-03 0.00000000e+00\n",
      " 9.19916482e-03 2.29756800e-03 3.13933922e-03 0.00000000e+00\n",
      " 7.80766387e-05 0.00000000e+00 5.42707958e-04 0.00000000e+00\n",
      " 3.92757287e-04 8.20479608e-05 8.44793387e-03 0.00000000e+00\n",
      " 0.00000000e+00 1.52081995e-04 5.26006224e-02 0.00000000e+00\n",
      " 9.25961707e-04 3.28972691e-04 6.30453764e-04 0.00000000e+00\n",
      " 0.00000000e+00 0.00000000e+00 8.38834763e-04 1.88827221e-02\n",
      " 9.17099745e-04 2.00370233e-04 0.00000000e+00 2.14507587e-06\n",
      " 0.00000000e+00 1.13621410e-04 0.00000000e+00 1.25860562e-03\n",
      " 4.46376372e-02 5.14987902e-04 8.43430599e-06 4.28040408e-04\n",
      " 1.32488861e-03 2.31254689e-03 1.68926566e-04 9.56737735e-05\n",
      " 5.33865054e-03 9.72691492e-04 0.00000000e+00 5.23056257e-04\n",
      " 3.26762040e-04 3.69038382e-04 3.14987635e-04 0.00000000e+00\n",
      " 0.00000000e+00 4.08795588e-04 0.00000000e+00 2.55234178e-02\n",
      " 3.78318993e-04 6.53416973e-03 4.22941984e-03 1.37272916e-03\n",
      " 1.91580963e-03 1.48133093e-03 5.49703339e-03 8.10841764e-05\n",
      " 2.22159326e-03 1.17814017e-02 1.29688318e-04 0.00000000e+00\n",
      " 3.37400673e-03 3.76861187e-03 1.46305004e-02 3.34347471e-03\n",
      " 0.00000000e+00 8.24283262e-05 0.00000000e+00 0.00000000e+00\n",
      " 0.00000000e+00 1.01414237e-03 1.28419220e-02 2.03738660e-02\n",
      " 5.71407470e-04 3.63656374e-04 0.00000000e+00 0.00000000e+00\n",
      " 3.15151861e-03 1.11261164e-02 4.19445885e-04 8.75396190e-04\n",
      " 0.00000000e+00 5.33062072e-03 4.95657802e-05 4.48876664e-04\n",
      " 4.33254472e-04 1.57683793e-03 5.15786167e-03 1.28127340e-03\n",
      " 7.21073503e-04 2.75412564e-03 1.79262017e-03 3.20335181e-03\n",
      " 2.95255187e-03 1.56838466e-03 8.71047852e-05 0.00000000e+00\n",
      " 5.01753993e-04 9.21082115e-04 9.83012323e-04 0.00000000e+00\n",
      " 0.00000000e+00 0.00000000e+00 0.00000000e+00 0.00000000e+00\n",
      " 1.17712224e-03 5.07836501e-03 0.00000000e+00 0.00000000e+00\n",
      " 4.12927472e-04 9.35843182e-03 0.00000000e+00 2.50137712e-04\n",
      " 4.01650160e-03 7.66164272e-04 0.00000000e+00 4.63187799e-04\n",
      " 1.54098413e-04 4.16065359e-03 1.55996223e-03 3.97200604e-04\n",
      " 4.03370017e-05 5.29605046e-03 6.96272330e-03 1.41387093e-02\n",
      " 5.99894420e-03 0.00000000e+00 7.05763656e-03 7.44741319e-04\n",
      " 2.54656710e-08 5.38798357e-04 4.49014600e-04 1.73418202e-04\n",
      " 1.57726355e-01 1.44507911e-04 1.78673120e-03 1.95093069e-05\n",
      " 1.00694637e-02 1.12219042e-05 2.51507050e-02 0.00000000e+00\n",
      " 0.00000000e+00 7.75102975e-03 4.85135190e-04 1.07051333e-02\n",
      " 5.61870509e-04 1.01010100e-04 1.54257205e-02 5.70828919e-04\n",
      " 8.70043980e-04 0.00000000e+00 0.00000000e+00 0.00000000e+00\n",
      " 0.00000000e+00 2.20953123e-03 3.51574540e-04 1.30239655e-02\n",
      " 7.87736348e-04 2.68038528e-03 1.43336939e-02 1.14018379e-02\n",
      " 0.00000000e+00 1.80203357e-02 0.00000000e+00 0.00000000e+00\n",
      " 4.50235895e-04 1.48808258e-03 6.73722147e-05 2.57652805e-04\n",
      " 1.29973490e-02 3.07293271e-04 0.00000000e+00 4.58228371e-04\n",
      " 1.33933403e-02 3.65088567e-02 2.65006157e-02 2.75289398e-02\n",
      " 2.20437080e-02]\n"
     ]
    }
   ],
   "source": [
    "print(model.feature_importances_)"
   ]
  },
  {
   "cell_type": "code",
   "execution_count": 20,
   "metadata": {},
   "outputs": [
    {
     "data": {
      "text/plain": [
       "[(0.15772635478986835, 'avg_prior_arrived_late_seconds'),\n",
       " (0.052600622375116944, 'claimed_before_trip_start_secs'),\n",
       " (0.04463763716746889, 'driver_previous_completed_trips'),\n",
       " (0.04308056424723175, 'avg_prior_arrived_late_seconds_to_origin_location'),\n",
       " (0.04166834134438286, 'driver_home_lat'),\n",
       " (0.0365088567096899, 'driver_home_lon'),\n",
       " (0.027528939786409672, 'origin_lon'),\n",
       " (0.02650061571840987, 'scheduled_starts_at_pdt_hour'),\n",
       " (0.025523417786739964, 'driver_signup_before_trip_start_secs'),\n",
       " (0.02515070498786813, 'driver_created_at_pdt_dayofyear'),\n",
       " (0.022043707975572934, 'driver_signup_before_org_signup_secs'),\n",
       " (0.020373866004753233, 'driver_created_at_pdt_day'),\n",
       " (0.019140511714229595, 'origin_lat'),\n",
       " (0.018882722143711214, 'trip_created_before_trip_start_secs'),\n",
       " (0.018040477732991222, 'Unnamed: 0'),\n",
       " (0.018020335698941056, 'driver_signup_before_trip_created_secs'),\n",
       " (0.0161998976092448, 'driver_signup_before_trip_claimed_secs'),\n",
       " (0.015425720539844888, 'lead_organizer_previous_completed_trips'),\n",
       " (0.014630500419747484, 'driver_created_at_pdt_hour'),\n",
       " (0.014333693905214, 'id'),\n",
       " (0.014138709310669137, 'org_signup_before_trip_start_secs'),\n",
       " (0.0133933403221409, 'drivers_prev_ride_1hr_int'),\n",
       " (0.013023965478531742, 'trip_claimed_after_trip_created'),\n",
       " (0.012997349006481558, 'total_predicted_duration'),\n",
       " (0.012841921950098307, 'claimed_after_created'),\n",
       " (0.011781401738252475, 'trip_est_duration_secs'),\n",
       " (0.011401837932717304, 'destination_lon'),\n",
       " (0.011126116396447288, 'lead_organizer_created_at_pdt_dayofyear'),\n",
       " (0.010705133285894359, 'predicted_driver_fare'),\n",
       " (0.01006946370110643, 'organizer_home_lon'),\n",
       " (0.00935843181652035, 'trip_predicted_raw_fare'),\n",
       " (0.009310167562463986, 'destination_lat'),\n",
       " (0.009199164820847624, 'created_at_pdt_hour'),\n",
       " (0.008447933871537524, 'org_signup_before_trip_created_secs'),\n",
       " (0.007751029748197143, 'claimed_at_pdt_dayofyear'),\n",
       " (0.007419027962970401, 'organizer_home_lat'),\n",
       " (0.0070576365593044066, 'driver_created_at_pdt_weekday'),\n",
       " (0.006962723297815075, 'driver_created_at_pdt_weekofyear'),\n",
       " (0.006534169730335724, 'scheduled_ends_at_pdt_hour'),\n",
       " (0.005998944195814203, 'total_predicted_distance_miles'),\n",
       " (0.005497033394219232, 'driver_has_driven_this_route_before_int'),\n",
       " (0.005462331798994895, 'passengers_count'),\n",
       " (0.0053386505415512564, 'scheduled_ends_at_pdt_dayofyear'),\n",
       " (0.005330620720459212, 'created_at_pdt_weekday'),\n",
       " (0.005296050463379189, 'claimed_at_pdt_day'),\n",
       " (0.0051578616734725465, 'lead_organizer_created_at_pdt_day'),\n",
       " (0.005078365011173036, 'scheduled_starts_at_pdt_dayofyear'),\n",
       " (0.004229419838144422, 'lead_organizer_created_at_pdt_hour'),\n",
       " (0.004199613994542472, 'created_at_pdt_weekofyear'),\n",
       " (0.00416065358917275, 'claimed_at_pdt_weekday'),\n",
       " (0.00401650159745206, 'created_at_pdt_day'),\n",
       " (0.0037686118672243404, 'claimed_at_pdt_hour_21'),\n",
       " (0.003374006730896101, 'origin_region_name_Central LA - West'),\n",
       " (0.0033434747122533877, 'scheduled_starts_at_pdt_hour_15'),\n",
       " (0.0032033518134734163, 'scheduled_ends_at_pdt_day'),\n",
       " (0.0031515186144955953, 'scheduled_starts_at_pdt_weekday_5'),\n",
       " (0.0031393392206868287, 'created_at_pdt_dayofyear'),\n",
       " (0.0029525518704833042, 'scheduled_starts_at_pdt_day'),\n",
       " (0.0027541256406419805, 'scheduled_starts_at_pdt_hour_14'),\n",
       " (0.0026803852753310314, 'lead_organizer_platform_ios'),\n",
       " (0.0023125468871484484, 'claimed_at_pdt_hour'),\n",
       " (0.0022975679963706547, 'origin_region_name_Inland Empire'),\n",
       " (0.002221593261961568, 'claimed_at_pdt_hour_4'),\n",
       " (0.0022095312308313534, 'driver_created_at_pdt_month'),\n",
       " (0.0019158096308184702, 'claimed_at_pdt_hour_9'),\n",
       " (0.001792620166426955, 'origin_region_name_Malibu'),\n",
       " (0.0017867312037527278, 'origin_region_name_South Bay'),\n",
       " (0.0015768379349907604, 'origin_region_name_Tri Valley'),\n",
       " (0.0015683846615027663, 'driver_gender_male'),\n",
       " (0.0015599622278568515, 'origin_region_name_Orange County - Central'),\n",
       " (0.0014880825812400974, 'claimed_at_pdt_weekofyear'),\n",
       " (0.0014813309268637126, 'organizers_count'),\n",
       " (0.0013727291620960562, 'lead_organizer_created_at_pdt_weekofyear'),\n",
       " (0.0013248886106742308, 'scheduled_ends_at_pdt_weekday'),\n",
       " (0.0012812734038464347, 'is_affiliate_int'),\n",
       " (0.001258605616567181, 'origin_region_name_Westside'),\n",
       " (0.0011771222365687265, 'origin_region_name_Central LA - South'),\n",
       " (0.0010141423686055502, 'route_legs_count'),\n",
       " (0.0009830123231685966, 'origin_region_name_San Gabriel Valley - South'),\n",
       " (0.0009726914916031255, 'origin_region_name_Orange County - West'),\n",
       " (0.0009259617068481573, 'scheduled_starts_at_pdt_hour_4'),\n",
       " (0.0009210821154400409, 'claimed_at_pdt_hour_12'),\n",
       " (0.0009170997446182802, 'scheduled_starts_at_pdt_hour_18'),\n",
       " (0.000892141973648668, 'origin_region_name_Peninsula South'),\n",
       " (0.0008753961899625349, 'lead_organizer_platform_web'),\n",
       " (0.0008700439802332233, 'claimed_at_pdt_hour_8'),\n",
       " (0.0008514422827171136, 'origin_region_name_East Contra Costa'),\n",
       " (0.0008388347630498273, 'origin_analysis_metro_name_LA'),\n",
       " (0.0007877363484529266, 'claimed_at_pdt_hour_10'),\n",
       " (0.0007661642722495061, 'claimed_at_pdt_weekday_1'),\n",
       " (0.0007447413194675507, 'claimed_at_pdt_month_9'),\n",
       " (0.0007210735034647285, 'scheduled_starts_at_pdt_month_2'),\n",
       " (0.0006304537636247596, 'origin_region_name_San Gabriel Valley - East'),\n",
       " (0.0005714074695894755, 'is_repeating_ride_int'),\n",
       " (0.0005708289189152864, 'claimed_at_pdt_hour_6'),\n",
       " (0.0005618705086274893, 'origin_region_name_Orange County - North'),\n",
       " (0.0005518118816820246, 'scheduled_starts_at_pdt_weekday'),\n",
       " (0.0005490407393297787, 'lead_organizer_created_at_pdt_month'),\n",
       " (0.0005427079584810305, 'scheduled_starts_at_pdt_hour_17'),\n",
       " (0.0005387983565347367, 'claimed_at_pdt_hour_14'),\n",
       " (0.0005230562565580906, 'lead_organizer_created_at_pdt_weekday'),\n",
       " (0.0005149879015402016, 'scheduled_starts_at_pdt_weekofyear'),\n",
       " (0.0005017539927241058, 'claimed_at_pdt_hour_11'),\n",
       " (0.00048742608214843503, 'claimed_at_pdt_month_4'),\n",
       " (0.00048513518962419735, 'origin_region_name_South LA'),\n",
       " (0.00046318779916063794, 'scheduled_starts_at_pdt_hour_8'),\n",
       " (0.00045822837136618756, 'claimed_at_pdt_hour_3'),\n",
       " (0.0004502358950821707, 'origin_region_name_East Bay South'),\n",
       " (0.0004490145998464125, 'scheduled_starts_at_pdt_month_4'),\n",
       " (0.00044887666385830027, 'origin_region_name_Long Beach'),\n",
       " (0.00043325447173744934, 'claimed_at_pdt_weekday_4'),\n",
       " (0.0004280404083591444, 'origin_region_name_San Fernando Valley - West'),\n",
       " (0.0004270426710457274, 'scheduled_starts_at_pdt_weekday_2'),\n",
       " (0.0004194458853781941, 'lead_organizer_created_at_pdt_quarter'),\n",
       " (0.0004129274715533459, 'claimed_at_pdt_hour_7'),\n",
       " (0.00040980084900939777, 'claimed_at_pdt_hour_1'),\n",
       " (0.0004087955879570523, 'shuttle_int'),\n",
       " (0.0003972006041477074, 'claimed_at_pdt_hour_18'),\n",
       " (0.00039275728699255427, 'scheduled_starts_at_pdt_month_3'),\n",
       " (0.00037831899305079783, 'scheduled_starts_at_pdt_hour_7'),\n",
       " (0.00036903838246568925, 'scheduled_starts_at_pdt_quarter_3'),\n",
       " (0.00036365637371195083, 'scheduled_starts_at_pdt_hour_19'),\n",
       " (0.0003515745401218183, 'claimed_at_pdt_hour_17'),\n",
       " (0.0003289726911897172, 'claimed_at_pdt_weekday_3'),\n",
       " (0.000326762039766642, 'scheduled_ends_at_pdt_quarter'),\n",
       " (0.0003149876345779967, 'claimed_at_pdt_weekday_5'),\n",
       " (0.00030729327051535647, 'scheduled_starts_at_pdt_hour_9'),\n",
       " (0.000257652805022003, 'claimed_at_pdt_quarter_3'),\n",
       " (0.0002511169644560364, 'claimed_at_pdt_hour_2'),\n",
       " (0.00025013771151809823, 'created_at_pdt_month'),\n",
       " (0.00020037023342586597, 'claimed_at_pdt_hour_20'),\n",
       " (0.00017341820209983323, 'scheduled_starts_at_pdt_hour_21'),\n",
       " (0.000168926566170765, 'origin_region_name_San Gabriel Valley - West'),\n",
       " (0.00015409841293537394, 'scheduled_starts_at_pdt_hour_16'),\n",
       " (0.00015208199463050045, 'claimed_at_pdt_month_8'),\n",
       " (0.00014450791121381866, 'scheduled_ends_at_pdt_weekofyear'),\n",
       " (0.00012968831814287683, 'origin_region_name_Eastside'),\n",
       " (0.00011362140964575264, 'claimed_at_pdt_hour_15'),\n",
       " (0.00010101009965421951, 'claimed_at_pdt_month'),\n",
       " (9.567377345523674e-05, 'created_at_pdt_quarter'),\n",
       " (8.710478520867438e-05, 'scheduled_starts_at_pdt_month'),\n",
       " (8.242832620710575e-05, 'scheduled_starts_at_pdt_hour_13'),\n",
       " (8.204796075980705e-05, 'scheduled_starts_at_pdt_weekday_3'),\n",
       " (8.108417642740057e-05, 'scheduled_starts_at_pdt_weekday_1'),\n",
       " (7.807663866570497e-05, 'claimed_at_pdt_weekday_6'),\n",
       " (6.737221471021555e-05, 'is_same_day_ride_int'),\n",
       " (4.956578017591178e-05, 'scheduled_starts_at_pdt_weekday_4'),\n",
       " (4.931371667731749e-05, 'scheduled_starts_at_pdt_month_5'),\n",
       " (4.0337001667609725e-05, 'origin_region_name_Orange County - South'),\n",
       " (1.9509306907836353e-05, 'claimed_at_pdt_hour_19'),\n",
       " (1.1221904235461437e-05, 'claimed_at_pdt_quarter_2'),\n",
       " (8.434305986827299e-06, 'origin_region_name_Oakland Berkeley'),\n",
       " (2.7295915046413083e-06, 'scheduled_starts_at_pdt_quarter'),\n",
       " (2.1450758735853816e-06, 'scheduled_ends_at_pdt_month'),\n",
       " (2.5465670964187836e-08, 'scheduled_starts_at_pdt_hour_12'),\n",
       " (0.0, 'scheduled_starts_at_pdt_weekday_6'),\n",
       " (0.0, 'scheduled_starts_at_pdt_quarter_4'),\n",
       " (0.0, 'scheduled_starts_at_pdt_quarter_2'),\n",
       " (0.0, 'scheduled_starts_at_pdt_month_9'),\n",
       " (0.0, 'scheduled_starts_at_pdt_month_8'),\n",
       " (0.0, 'scheduled_starts_at_pdt_month_7'),\n",
       " (0.0, 'scheduled_starts_at_pdt_month_6'),\n",
       " (0.0, 'scheduled_starts_at_pdt_month_12'),\n",
       " (0.0, 'scheduled_starts_at_pdt_month_11'),\n",
       " (0.0, 'scheduled_starts_at_pdt_month_10'),\n",
       " (0.0, 'scheduled_starts_at_pdt_hour_6'),\n",
       " (0.0, 'scheduled_starts_at_pdt_hour_5'),\n",
       " (0.0, 'scheduled_starts_at_pdt_hour_3'),\n",
       " (0.0, 'scheduled_starts_at_pdt_hour_23'),\n",
       " (0.0, 'scheduled_starts_at_pdt_hour_22'),\n",
       " (0.0, 'scheduled_starts_at_pdt_hour_20'),\n",
       " (0.0, 'scheduled_starts_at_pdt_hour_2'),\n",
       " (0.0, 'scheduled_starts_at_pdt_hour_11'),\n",
       " (0.0, 'scheduled_starts_at_pdt_hour_10'),\n",
       " (0.0, 'scheduled_starts_at_pdt_hour_1'),\n",
       " (0.0, 'origin_region_name_antelope-valley'),\n",
       " (0.0, 'origin_region_name_Ventura'),\n",
       " (0.0, 'origin_region_name_Southeast LA'),\n",
       " (0.0, 'origin_region_name_Santa Clarita'),\n",
       " (0.0, 'origin_region_name_San Jose'),\n",
       " (0.0, 'origin_region_name_San Francisco'),\n",
       " (0.0, 'origin_region_name_San Fernando Valley - East'),\n",
       " (0.0, 'origin_region_name_Pomona Valley'),\n",
       " (0.0, 'origin_region_name_Peninsula North'),\n",
       " (0.0, 'origin_region_name_North Bay'),\n",
       " (0.0, 'origin_region_name_Lamorinda Walnut Creek'),\n",
       " (0.0, 'origin_region_name_East Bay North'),\n",
       " (0.0, 'origin_region_name_Default (Unassigned)'),\n",
       " (0.0, 'origin_analysis_metro_name_OC'),\n",
       " (0.0, 'origin_analysis_metro_name_Default (Unassigned)'),\n",
       " (0.0, 'driver_created_at_pdt_quarter'),\n",
       " (0.0, 'coupon_consumed'),\n",
       " (0.0, 'claimed_at_pdt_weekday_2'),\n",
       " (0.0, 'claimed_at_pdt_quarter_4'),\n",
       " (0.0, 'claimed_at_pdt_quarter'),\n",
       " (0.0, 'claimed_at_pdt_month_7'),\n",
       " (0.0, 'claimed_at_pdt_month_6'),\n",
       " (0.0, 'claimed_at_pdt_month_5'),\n",
       " (0.0, 'claimed_at_pdt_month_3'),\n",
       " (0.0, 'claimed_at_pdt_month_2'),\n",
       " (0.0, 'claimed_at_pdt_month_12'),\n",
       " (0.0, 'claimed_at_pdt_month_11'),\n",
       " (0.0, 'claimed_at_pdt_month_10'),\n",
       " (0.0, 'claimed_at_pdt_hour_5'),\n",
       " (0.0, 'claimed_at_pdt_hour_23'),\n",
       " (0.0, 'claimed_at_pdt_hour_22'),\n",
       " (0.0, 'claimed_at_pdt_hour_16'),\n",
       " (0.0, 'claimed_at_pdt_hour_13'),\n",
       " (0.0, 'carpool_int')]"
      ]
     },
     "execution_count": 20,
     "metadata": {},
     "output_type": "execute_result"
    }
   ],
   "source": [
    "importances = list(zip(model.feature_importances_, X_train.columns))\n",
    "importances.sort(reverse=True)\n",
    "importances"
   ]
  },
  {
   "cell_type": "code",
   "execution_count": 21,
   "metadata": {},
   "outputs": [
    {
     "data": {
      "text/plain": [
       "dict_values(['avg_prior_arrived_late_seconds', 'claimed_before_trip_start_secs', 'driver_previous_completed_trips', 'avg_prior_arrived_late_seconds_to_origin_location', 'driver_home_lat', 'driver_home_lon', 'origin_lon', 'scheduled_starts_at_pdt_hour', 'driver_signup_before_trip_start_secs', 'driver_created_at_pdt_dayofyear'])"
      ]
     },
     "execution_count": 21,
     "metadata": {},
     "output_type": "execute_result"
    }
   ],
   "source": [
    "# top 10 importances\n",
    "dict(importances[:10]).values()\n"
   ]
  },
  {
   "cell_type": "code",
   "execution_count": 22,
   "metadata": {},
   "outputs": [
    {
     "data": {
      "text/plain": [
       "155"
      ]
     },
     "execution_count": 22,
     "metadata": {},
     "output_type": "execute_result"
    }
   ],
   "source": [
    "# number of non-zero features used\n",
    "len([(i,f) for i, f in importances if i > 0])"
   ]
  },
  {
   "cell_type": "code",
   "execution_count": 23,
   "metadata": {},
   "outputs": [
    {
     "data": {
      "text/plain": [
       "30"
      ]
     },
     "execution_count": 23,
     "metadata": {},
     "output_type": "execute_result"
    }
   ],
   "source": [
    "# number of features with importance above 1%\n",
    "len([(i,f) for i, f in importances if i > 0.01])"
   ]
  },
  {
   "cell_type": "code",
   "execution_count": 25,
   "metadata": {},
   "outputs": [
    {
     "data": {
      "text/plain": [
       "<matplotlib.axes._subplots.AxesSubplot at 0x1a457c5a58>"
      ]
     },
     "execution_count": 25,
     "metadata": {},
     "output_type": "execute_result"
    },
    {
     "data": {
      "image/png": "[encoded data removed]",
      "text/plain": [
       "<Figure size 432x288 with 1 Axes>"
      ]
     },
     "metadata": {},
     "output_type": "display_data"
    }
   ],
   "source": [
    "pd.DataFrame(importances[:10], index=[x for (_,x) in importances[:10] ]).plot(kind = 'bar')"
   ]
  },
  {
   "cell_type": "code",
   "execution_count": 26,
   "metadata": {},
   "outputs": [
    {
     "data": {
      "text/plain": [
       "0.2949845494326796"
      ]
     },
     "execution_count": 26,
     "metadata": {},
     "output_type": "execute_result"
    }
   ],
   "source": [
    "# score against TRAINING set\n",
    "model.score(X_train,y_train)"
   ]
  },
  {
   "cell_type": "code",
   "execution_count": 27,
   "metadata": {},
   "outputs": [
    {
     "data": {
      "text/plain": [
       "0.2169964041844824"
      ]
     },
     "execution_count": 27,
     "metadata": {},
     "output_type": "execute_result"
    }
   ],
   "source": [
    "# score against TEST set\n",
    "model.score(X_test,y_test)"
   ]
  },
  {
   "cell_type": "code",
   "execution_count": 28,
   "metadata": {},
   "outputs": [
    {
     "data": {
      "text/plain": [
       "25477"
      ]
     },
     "execution_count": 28,
     "metadata": {},
     "output_type": "execute_result"
    }
   ],
   "source": [
    "model_y_test_pred = model.predict(X_test)\n",
    "model_y_test_pred.size"
   ]
  },
  {
   "cell_type": "code",
   "execution_count": 29,
   "metadata": {},
   "outputs": [
    {
     "data": {
      "text/plain": [
       "numpy.ndarray"
      ]
     },
     "execution_count": 29,
     "metadata": {},
     "output_type": "execute_result"
    }
   ],
   "source": [
    "type(model_y_test_pred)"
   ]
  },
  {
   "cell_type": "code",
   "execution_count": 30,
   "metadata": {},
   "outputs": [
    {
     "data": {
      "text/plain": [
       "array([-279.79543532, -242.11417048,    5.7409928 , -239.20644505,\n",
       "        -32.84724105,  -60.19041884, -382.33659072, -577.12660966,\n",
       "       -222.05293284, -507.45586432])"
      ]
     },
     "execution_count": 30,
     "metadata": {},
     "output_type": "execute_result"
    }
   ],
   "source": [
    "model_y_test_pred[:10]"
   ]
  },
  {
   "cell_type": "code",
   "execution_count": 31,
   "metadata": {},
   "outputs": [
    {
     "data": {
      "text/plain": [
       "230.6569217713909"
      ]
     },
     "execution_count": 31,
     "metadata": {},
     "output_type": "execute_result"
    }
   ],
   "source": [
    "pd.Series(model_y_test_pred).std()"
   ]
  },
  {
   "cell_type": "code",
   "execution_count": 32,
   "metadata": {},
   "outputs": [
    {
     "data": {
      "text/plain": [
       "-0.016345845307375446"
      ]
     },
     "execution_count": 32,
     "metadata": {},
     "output_type": "execute_result"
    }
   ],
   "source": [
    "pd.Series(model_y_test_pred).corr(y_test)"
   ]
  },
  {
   "cell_type": "code",
   "execution_count": 33,
   "metadata": {},
   "outputs": [
    {
     "name": "stdout",
     "output_type": "stream",
     "text": [
      "0.217 7.39 196804 0.217 327 238 3.97\n"
     ]
    }
   ],
   "source": [
    "# regression metrics\n",
    "from sklearn.metrics import explained_variance_score, mean_squared_error, r2_score, mean_absolute_error, median_absolute_error\n",
    "from math import sqrt\n",
    "print (\"%.3f %.2f %.0f %.3f %.0f %.0f %.2f\" % \n",
    "       (explained_variance_score(y_test, model_y_test_pred),\n",
    "        sqrt(mean_squared_error(y_test, model_y_test_pred))/60, # sqrt of MSE in minutes\n",
    "        mean_squared_error(y_test, model_y_test_pred), \n",
    "        r2_score(y_test, model_y_test_pred), \n",
    "        mean_absolute_error(y_test, model_y_test_pred), \n",
    "        median_absolute_error(y_test, model_y_test_pred),\n",
    "        median_absolute_error(y_test, model_y_test_pred)/60 # MAE in minutes\n",
    "       ))"
   ]
  },
  {
   "cell_type": "code",
   "execution_count": 34,
   "metadata": {},
   "outputs": [
    {
     "data": {
      "text/plain": [
       "array([  0., 300., 900.])"
      ]
     },
     "execution_count": 34,
     "metadata": {},
     "output_type": "execute_result"
    }
   ],
   "source": [
    "# make classifications from seconds late target\n",
    "bins = np.array([0.0, 5*60, 15*60]) # 0 on-time, 1 almost on-time, 2 late, 3 extremely late\n",
    "bins"
   ]
  },
  {
   "cell_type": "code",
   "execution_count": 35,
   "metadata": {},
   "outputs": [
    {
     "data": {
      "text/plain": [
       "array([1, 0, 0, 0, 1, 0, 0, 0, 0, 0])"
      ]
     },
     "execution_count": 35,
     "metadata": {},
     "output_type": "execute_result"
    }
   ],
   "source": [
    "np.digitize(y_test, bins)[:10]"
   ]
  },
  {
   "cell_type": "code",
   "execution_count": 36,
   "metadata": {
    "scrolled": true
   },
   "outputs": [
    {
     "name": "stdout",
     "output_type": "stream",
     "text": [
      "[[    0 21301]\n",
      " [    1  3118]\n",
      " [    2   904]\n",
      " [    3   154]]\n"
     ]
    }
   ],
   "source": [
    "# materialize y_test_class array\n",
    "# check to see how many trips are categorized as 0 on-time, 1 almost on-time, 2 late, 3 extremely late\n",
    "y_test_class=np.digitize(y_test, bins)\n",
    "unique, counts = np.unique(y_test_class, return_counts=True)\n",
    "print(np.asarray((unique, counts)).T)"
   ]
  },
  {
   "cell_type": "code",
   "execution_count": 37,
   "metadata": {},
   "outputs": [
    {
     "name": "stdout",
     "output_type": "stream",
     "text": [
      "[[    0 25151]\n",
      " [    1   259]\n",
      " [    2    60]\n",
      " [    3     7]]\n"
     ]
    }
   ],
   "source": [
    "# materialize model_y_pred_class\n",
    "# check to see how many trips are categorized as 0 on-time, 1 almost on-time, 2 late, 3 extremely late\n",
    "model_y_test_pred_class=np.digitize(model_y_test_pred, bins)\n",
    "print(np.asarray(np.unique(model_y_test_pred_class, return_counts=True)).T)"
   ]
  },
  {
   "cell_type": "code",
   "execution_count": 38,
   "metadata": {},
   "outputs": [
    {
     "name": "stdout",
     "output_type": "stream",
     "text": [
      "             precision    recall  f1-score   support\n",
      "\n",
      "          0       0.84      0.99      0.91     21301\n",
      "          1       0.34      0.03      0.05      3118\n",
      "          2       0.28      0.02      0.04       904\n",
      "          3       0.43      0.02      0.04       154\n",
      "\n",
      "avg / total       0.76      0.83      0.77     25477\n",
      "\n"
     ]
    }
   ],
   "source": [
    "from sklearn.metrics import classification_report\n",
    "print(classification_report(y_test_class,model_y_test_pred_class))"
   ]
  },
  {
   "cell_type": "code",
   "execution_count": 39,
   "metadata": {},
   "outputs": [
    {
     "name": "stdout",
     "output_type": "stream",
     "text": [
      "[[21160   129    12     0]\n",
      " [ 3013    88    16     1]\n",
      " [  848    36    17     3]\n",
      " [  130     6    15     3]]\n"
     ]
    }
   ],
   "source": [
    "from sklearn.metrics import confusion_matrix\n",
    "print(confusion_matrix(y_test_class,model_y_test_pred_class,labels=[0,1,2,3]))"
   ]
  },
  {
   "cell_type": "code",
   "execution_count": null,
   "metadata": {},
   "outputs": [],
   "source": []
  }
 ],
 "metadata": {
  "kernelspec": {
   "display_name": "Python 3",
   "language": "python",
   "name": "python3"
  },
  "language_info": {
   "codemirror_mode": {
    "name": "ipython",
    "version": 3
   },
   "file_extension": ".py",
   "mimetype": "text/x-python",
   "name": "python",
   "nbconvert_exporter": "python",
   "pygments_lexer": "ipython3",
   "version": "3.6.5"
  }
 },
 "nbformat": 4,
 "nbformat_minor": 2
}
