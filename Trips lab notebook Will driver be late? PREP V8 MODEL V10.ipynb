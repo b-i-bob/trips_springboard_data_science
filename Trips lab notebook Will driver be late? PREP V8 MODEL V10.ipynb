{
 "cells": [
  {
   "cell_type": "markdown",
   "metadata": {},
   "source": [
    "### Linear regression model V10\n",
    "fixed bug with non-integer one-hot encoded date features"
   ]
  },
  {
   "cell_type": "code",
   "execution_count": 1,
   "metadata": {},
   "outputs": [],
   "source": [
    "fileprefix='./lateness_PREP_V8_'"
   ]
  },
  {
   "cell_type": "code",
   "execution_count": 2,
   "metadata": {},
   "outputs": [],
   "source": [
    "import pandas as pd\n",
    "import numpy as np"
   ]
  },
  {
   "cell_type": "code",
   "execution_count": 3,
   "metadata": {},
   "outputs": [],
   "source": [
    "df_X=pd.read_csv(fileprefix+'X.csv', sep='\\t')"
   ]
  },
  {
   "cell_type": "code",
   "execution_count": 4,
   "metadata": {},
   "outputs": [
    {
     "data": {
      "text/plain": [
       "(125675, 173)"
      ]
     },
     "execution_count": 4,
     "metadata": {},
     "output_type": "execute_result"
    }
   ],
   "source": [
    "df_X.shape"
   ]
  },
  {
   "cell_type": "code",
   "execution_count": 5,
   "metadata": {},
   "outputs": [],
   "source": [
    "df_y=pd.read_csv(fileprefix+'y.csv', sep='\\t', header=None)"
   ]
  },
  {
   "cell_type": "code",
   "execution_count": 6,
   "metadata": {},
   "outputs": [
    {
     "data": {
      "text/plain": [
       "(125675, 2)"
      ]
     },
     "execution_count": 6,
     "metadata": {},
     "output_type": "execute_result"
    }
   ],
   "source": [
    "type(df_y)\n",
    "df_y.shape"
   ]
  },
  {
   "cell_type": "code",
   "execution_count": 7,
   "metadata": {},
   "outputs": [
    {
     "data": {
      "text/html": [
       "<div>\n",
       "<style scoped>\n",
       "    .dataframe tbody tr th:only-of-type {\n",
       "        vertical-align: middle;\n",
       "    }\n",
       "\n",
       "    .dataframe tbody tr th {\n",
       "        vertical-align: top;\n",
       "    }\n",
       "\n",
       "    .dataframe thead th {\n",
       "        text-align: right;\n",
       "    }\n",
       "</style>\n",
       "<table border=\"1\" class=\"dataframe\">\n",
       "  <thead>\n",
       "    <tr style=\"text-align: right;\">\n",
       "      <th></th>\n",
       "      <th>0</th>\n",
       "      <th>1</th>\n",
       "    </tr>\n",
       "  </thead>\n",
       "  <tbody>\n",
       "    <tr>\n",
       "      <th>0</th>\n",
       "      <td>5</td>\n",
       "      <td>-497.0</td>\n",
       "    </tr>\n",
       "    <tr>\n",
       "      <th>1</th>\n",
       "      <td>6</td>\n",
       "      <td>5.0</td>\n",
       "    </tr>\n",
       "    <tr>\n",
       "      <th>2</th>\n",
       "      <td>7</td>\n",
       "      <td>-313.0</td>\n",
       "    </tr>\n",
       "    <tr>\n",
       "      <th>3</th>\n",
       "      <td>8</td>\n",
       "      <td>-296.0</td>\n",
       "    </tr>\n",
       "    <tr>\n",
       "      <th>4</th>\n",
       "      <td>9</td>\n",
       "      <td>-166.0</td>\n",
       "    </tr>\n",
       "  </tbody>\n",
       "</table>\n",
       "</div>"
      ],
      "text/plain": [
       "   0      1\n",
       "0  5 -497.0\n",
       "1  6    5.0\n",
       "2  7 -313.0\n",
       "3  8 -296.0\n",
       "4  9 -166.0"
      ]
     },
     "execution_count": 7,
     "metadata": {},
     "output_type": "execute_result"
    }
   ],
   "source": [
    "df_y.head()"
   ]
  },
  {
   "cell_type": "code",
   "execution_count": 8,
   "metadata": {},
   "outputs": [
    {
     "data": {
      "text/plain": [
       "0   -497.0\n",
       "1      5.0\n",
       "2   -313.0\n",
       "3   -296.0\n",
       "4   -166.0\n",
       "Name: 1, dtype: float64"
      ]
     },
     "execution_count": 8,
     "metadata": {},
     "output_type": "execute_result"
    }
   ],
   "source": [
    "y=df_y[1]\n",
    "y.head()"
   ]
  },
  {
   "cell_type": "code",
   "execution_count": 9,
   "metadata": {},
   "outputs": [
    {
     "data": {
      "text/plain": [
       "(125675,)"
      ]
     },
     "execution_count": 9,
     "metadata": {},
     "output_type": "execute_result"
    }
   ],
   "source": [
    "y.shape"
   ]
  },
  {
   "cell_type": "code",
   "execution_count": 10,
   "metadata": {},
   "outputs": [
    {
     "data": {
      "text/html": [
       "<div>\n",
       "<style scoped>\n",
       "    .dataframe tbody tr th:only-of-type {\n",
       "        vertical-align: middle;\n",
       "    }\n",
       "\n",
       "    .dataframe tbody tr th {\n",
       "        vertical-align: top;\n",
       "    }\n",
       "\n",
       "    .dataframe thead th {\n",
       "        text-align: right;\n",
       "    }\n",
       "</style>\n",
       "<table border=\"1\" class=\"dataframe\">\n",
       "  <thead>\n",
       "    <tr style=\"text-align: right;\">\n",
       "      <th></th>\n",
       "      <th>Unnamed: 0</th>\n",
       "      <th>scheduled_ends_at_pdt_weekday</th>\n",
       "      <th>scheduled_starts_at_pdt_month_7</th>\n",
       "      <th>claimed_at_pdt_weekday_3</th>\n",
       "      <th>trip_predicted_raw_fare</th>\n",
       "      <th>scheduled_starts_at_pdt_hour_7</th>\n",
       "      <th>total_predicted_distance_miles</th>\n",
       "      <th>driver_signup_before_trip_created_secs</th>\n",
       "      <th>scheduled_starts_at_pdt_hour_2</th>\n",
       "      <th>scheduled_starts_at_pdt_day</th>\n",
       "      <th>...</th>\n",
       "      <th>claimed_at_pdt_weekofyear</th>\n",
       "      <th>lead_organizer_created_at_pdt_hour</th>\n",
       "      <th>scheduled_starts_at_pdt_hour_10</th>\n",
       "      <th>claimed_at_pdt_hour_20</th>\n",
       "      <th>claimed_at_pdt_hour_12</th>\n",
       "      <th>destination_region_id</th>\n",
       "      <th>scheduled_starts_at_pdt_month_10</th>\n",
       "      <th>total_predicted_duration</th>\n",
       "      <th>claimed_at_pdt_quarter_2</th>\n",
       "      <th>claimed_at_pdt_hour_2</th>\n",
       "    </tr>\n",
       "  </thead>\n",
       "  <tbody>\n",
       "    <tr>\n",
       "      <th>0</th>\n",
       "      <td>5</td>\n",
       "      <td>1</td>\n",
       "      <td>0</td>\n",
       "      <td>0</td>\n",
       "      <td>32.50</td>\n",
       "      <td>0</td>\n",
       "      <td>10.0</td>\n",
       "      <td>18685416.0</td>\n",
       "      <td>0</td>\n",
       "      <td>14</td>\n",
       "      <td>...</td>\n",
       "      <td>6</td>\n",
       "      <td>19</td>\n",
       "      <td>0</td>\n",
       "      <td>0</td>\n",
       "      <td>0</td>\n",
       "      <td>36.0</td>\n",
       "      <td>0</td>\n",
       "      <td>36.47</td>\n",
       "      <td>0</td>\n",
       "      <td>0</td>\n",
       "    </tr>\n",
       "    <tr>\n",
       "      <th>1</th>\n",
       "      <td>6</td>\n",
       "      <td>1</td>\n",
       "      <td>0</td>\n",
       "      <td>0</td>\n",
       "      <td>23.09</td>\n",
       "      <td>0</td>\n",
       "      <td>5.0</td>\n",
       "      <td>16613901.0</td>\n",
       "      <td>0</td>\n",
       "      <td>24</td>\n",
       "      <td>...</td>\n",
       "      <td>3</td>\n",
       "      <td>19</td>\n",
       "      <td>0</td>\n",
       "      <td>0</td>\n",
       "      <td>0</td>\n",
       "      <td>36.0</td>\n",
       "      <td>0</td>\n",
       "      <td>29.00</td>\n",
       "      <td>0</td>\n",
       "      <td>0</td>\n",
       "    </tr>\n",
       "    <tr>\n",
       "      <th>2</th>\n",
       "      <td>7</td>\n",
       "      <td>2</td>\n",
       "      <td>0</td>\n",
       "      <td>0</td>\n",
       "      <td>17.81</td>\n",
       "      <td>0</td>\n",
       "      <td>5.0</td>\n",
       "      <td>18684204.0</td>\n",
       "      <td>0</td>\n",
       "      <td>8</td>\n",
       "      <td>...</td>\n",
       "      <td>5</td>\n",
       "      <td>20</td>\n",
       "      <td>0</td>\n",
       "      <td>0</td>\n",
       "      <td>0</td>\n",
       "      <td>48.0</td>\n",
       "      <td>0</td>\n",
       "      <td>18.90</td>\n",
       "      <td>0</td>\n",
       "      <td>0</td>\n",
       "    </tr>\n",
       "    <tr>\n",
       "      <th>3</th>\n",
       "      <td>8</td>\n",
       "      <td>3</td>\n",
       "      <td>0</td>\n",
       "      <td>0</td>\n",
       "      <td>22.56</td>\n",
       "      <td>0</td>\n",
       "      <td>7.0</td>\n",
       "      <td>17715744.0</td>\n",
       "      <td>0</td>\n",
       "      <td>26</td>\n",
       "      <td>...</td>\n",
       "      <td>4</td>\n",
       "      <td>20</td>\n",
       "      <td>0</td>\n",
       "      <td>0</td>\n",
       "      <td>0</td>\n",
       "      <td>36.0</td>\n",
       "      <td>0</td>\n",
       "      <td>22.93</td>\n",
       "      <td>0</td>\n",
       "      <td>0</td>\n",
       "    </tr>\n",
       "    <tr>\n",
       "      <th>4</th>\n",
       "      <td>9</td>\n",
       "      <td>0</td>\n",
       "      <td>0</td>\n",
       "      <td>0</td>\n",
       "      <td>36.19</td>\n",
       "      <td>0</td>\n",
       "      <td>13.0</td>\n",
       "      <td>7851048.0</td>\n",
       "      <td>0</td>\n",
       "      <td>23</td>\n",
       "      <td>...</td>\n",
       "      <td>3</td>\n",
       "      <td>19</td>\n",
       "      <td>0</td>\n",
       "      <td>0</td>\n",
       "      <td>0</td>\n",
       "      <td>33.0</td>\n",
       "      <td>0</td>\n",
       "      <td>35.50</td>\n",
       "      <td>0</td>\n",
       "      <td>0</td>\n",
       "    </tr>\n",
       "  </tbody>\n",
       "</table>\n",
       "<p>5 rows × 173 columns</p>\n",
       "</div>"
      ],
      "text/plain": [
       "   Unnamed: 0  scheduled_ends_at_pdt_weekday  scheduled_starts_at_pdt_month_7  \\\n",
       "0           5                              1                                0   \n",
       "1           6                              1                                0   \n",
       "2           7                              2                                0   \n",
       "3           8                              3                                0   \n",
       "4           9                              0                                0   \n",
       "\n",
       "   claimed_at_pdt_weekday_3  trip_predicted_raw_fare  \\\n",
       "0                         0                    32.50   \n",
       "1                         0                    23.09   \n",
       "2                         0                    17.81   \n",
       "3                         0                    22.56   \n",
       "4                         0                    36.19   \n",
       "\n",
       "   scheduled_starts_at_pdt_hour_7  total_predicted_distance_miles  \\\n",
       "0                               0                            10.0   \n",
       "1                               0                             5.0   \n",
       "2                               0                             5.0   \n",
       "3                               0                             7.0   \n",
       "4                               0                            13.0   \n",
       "\n",
       "   driver_signup_before_trip_created_secs  scheduled_starts_at_pdt_hour_2  \\\n",
       "0                              18685416.0                               0   \n",
       "1                              16613901.0                               0   \n",
       "2                              18684204.0                               0   \n",
       "3                              17715744.0                               0   \n",
       "4                               7851048.0                               0   \n",
       "\n",
       "   scheduled_starts_at_pdt_day          ...            \\\n",
       "0                           14          ...             \n",
       "1                           24          ...             \n",
       "2                            8          ...             \n",
       "3                           26          ...             \n",
       "4                           23          ...             \n",
       "\n",
       "   claimed_at_pdt_weekofyear  lead_organizer_created_at_pdt_hour  \\\n",
       "0                          6                                  19   \n",
       "1                          3                                  19   \n",
       "2                          5                                  20   \n",
       "3                          4                                  20   \n",
       "4                          3                                  19   \n",
       "\n",
       "   scheduled_starts_at_pdt_hour_10  claimed_at_pdt_hour_20  \\\n",
       "0                                0                       0   \n",
       "1                                0                       0   \n",
       "2                                0                       0   \n",
       "3                                0                       0   \n",
       "4                                0                       0   \n",
       "\n",
       "   claimed_at_pdt_hour_12  destination_region_id  \\\n",
       "0                       0                   36.0   \n",
       "1                       0                   36.0   \n",
       "2                       0                   48.0   \n",
       "3                       0                   36.0   \n",
       "4                       0                   33.0   \n",
       "\n",
       "   scheduled_starts_at_pdt_month_10  total_predicted_duration  \\\n",
       "0                                 0                     36.47   \n",
       "1                                 0                     29.00   \n",
       "2                                 0                     18.90   \n",
       "3                                 0                     22.93   \n",
       "4                                 0                     35.50   \n",
       "\n",
       "   claimed_at_pdt_quarter_2  claimed_at_pdt_hour_2  \n",
       "0                         0                      0  \n",
       "1                         0                      0  \n",
       "2                         0                      0  \n",
       "3                         0                      0  \n",
       "4                         0                      0  \n",
       "\n",
       "[5 rows x 173 columns]"
      ]
     },
     "execution_count": 10,
     "metadata": {},
     "output_type": "execute_result"
    }
   ],
   "source": [
    "df_X.head()"
   ]
  },
  {
   "cell_type": "code",
   "execution_count": 11,
   "metadata": {},
   "outputs": [
    {
     "data": {
      "text/plain": [
       "count    125675.0\n",
       "mean       -416.0\n",
       "std         509.0\n",
       "min       -1800.0\n",
       "25%        -657.0\n",
       "50%        -324.0\n",
       "75%         -96.0\n",
       "max        1800.0\n",
       "Name: 1, dtype: float64"
      ]
     },
     "execution_count": 11,
     "metadata": {},
     "output_type": "execute_result"
    }
   ],
   "source": [
    "y.describe().round()"
   ]
  },
  {
   "cell_type": "code",
   "execution_count": 12,
   "metadata": {},
   "outputs": [],
   "source": [
    "# break df_X,y into test and train sets\n",
    "from sklearn.model_selection import train_test_split\n",
    "X_train, X_test, y_train, y_test = train_test_split(df_X, y, test_size=0.20, random_state=808)"
   ]
  },
  {
   "cell_type": "code",
   "execution_count": 13,
   "metadata": {},
   "outputs": [
    {
     "name": "stdout",
     "output_type": "stream",
     "text": [
      "(100540, 173)\n",
      "(25135, 173)\n",
      "(100540,)\n",
      "(25135,)\n"
     ]
    }
   ],
   "source": [
    "for i in X_train, X_test, y_train, y_test:\n",
    "    print(i.shape)"
   ]
  },
  {
   "cell_type": "code",
   "execution_count": 14,
   "metadata": {},
   "outputs": [],
   "source": [
    "# select a linear model\n",
    "import sklearn.linear_model\n",
    "model=sklearn.linear_model.LinearRegression(normalize=True)"
   ]
  },
  {
   "cell_type": "code",
   "execution_count": 15,
   "metadata": {},
   "outputs": [],
   "source": [
    "# fit model\n",
    "model=model.fit(X_train,y_train)"
   ]
  },
  {
   "cell_type": "code",
   "execution_count": 16,
   "metadata": {
    "scrolled": true
   },
   "outputs": [
    {
     "data": {
      "text/plain": [
       "array([-6.38117582e-06, -1.96573323e+14,  2.80986646e+14,  9.14604671e+13,\n",
       "       -3.22947844e-01, -1.80172203e+13,  3.75375261e+00, -1.47734009e+07,\n",
       "       -1.85277459e+16, -1.92595308e+14,  3.09036443e+01,  7.60287557e+00,\n",
       "        1.11056204e+14, -1.69911472e+01, -1.42908528e+15, -5.65779528e+05,\n",
       "       -1.01099642e+15, -8.72495149e+00,  1.61481708e+02,  1.00939873e+01,\n",
       "        3.16206966e+14,  4.29152730e+00, -1.71492987e+04,  6.71841043e+14,\n",
       "        4.59543826e+13,  6.09736447e+13,  3.70147912e-03, -5.40516610e+13,\n",
       "       -1.37058306e+14, -1.50154801e+07,  1.60310972e+15,  1.93164159e+15,\n",
       "        2.34316398e+01, -1.05695080e+15,  6.15680962e+14,  1.86779779e+01,\n",
       "        1.76429443e+15, -2.16675273e+02, -5.14777724e+13,  2.26506579e+14,\n",
       "        1.04638162e+13, -1.37863148e+14, -1.02955545e+13,  7.44744829e+02,\n",
       "       -8.08257366e+04, -6.94215763e+06,  1.95898269e+00,  3.04868224e+13,\n",
       "       -2.18443488e+12, -4.07492472e+13, -2.29771913e+14, -1.54433317e+13,\n",
       "       -1.04998851e-02,  6.92500833e+06,  1.23824449e+13, -1.71569645e+01,\n",
       "        1.54108414e+01, -2.49274023e+13, -7.94676549e+12, -1.85836678e+16,\n",
       "       -3.67635061e+14,  1.98757758e+14, -1.70873769e+00,  1.82920934e+14,\n",
       "        6.61169219e-01,  3.13914485e+13,  2.61657013e+00, -6.29431331e+01,\n",
       "       -5.46877050e+00, -6.43361356e+14, -9.65042034e+14, -2.05911090e+13,\n",
       "       -1.28958170e+00,  1.35391701e+01, -2.69736982e+01,  3.45481253e+14,\n",
       "        2.25990344e+01,  1.72180123e+07,  8.88250455e-01, -3.34605521e+13,\n",
       "        5.23190809e+13, -5.03437152e+00, -4.59543826e+13, -3.72013011e-01,\n",
       "        8.03603183e+04, -3.77210583e+00, -8.27178886e+14,  1.21947289e+14,\n",
       "       -1.35244433e+15,  6.27828970e+13, -7.34484447e+00,  5.17806782e-02,\n",
       "       -2.79715760e+00, -7.35270121e+14,  4.31709475e+13,  1.67347158e+14,\n",
       "       -4.13589443e+14, -3.60344407e+13, -6.55648188e+14, -6.89315739e+14,\n",
       "        2.20506291e+14, -4.59543826e+14,  4.18552647e+13, -2.75726295e+14,\n",
       "       -1.23826982e+05, -3.64737207e-04, -2.83127748e+13, -1.49217631e+01,\n",
       "       -4.37561065e+13, -4.81545292e+13, -3.24241495e+14,  4.66158886e+00,\n",
       "        9.38876007e-04,  2.57388862e+12,  4.27174336e+14, -7.72166586e+12,\n",
       "        5.10656335e+14, -5.97406974e+14, -8.73133269e+14, -6.34288328e-05,\n",
       "        1.72856980e-01, -3.21680678e+14, -1.94821548e+13, -8.89037764e+13,\n",
       "        1.24166215e+05, -4.63299952e+13, -6.84801381e+01, -5.05498208e+14,\n",
       "       -3.08866634e+13,  7.18294553e+11, -5.66255496e+13,  1.42990485e-01,\n",
       "       -1.83817530e+14,  4.48333804e+14,  2.20253219e+06,  1.47471453e+13,\n",
       "       -4.11822179e+13,  2.09276323e+13, -2.31649976e+13, -4.49754618e+06,\n",
       "        7.15226897e+00, -4.20550553e+14, -1.79295572e+00,  4.81545330e+13,\n",
       "       -3.86083293e+13,  1.57766378e-03, -3.04868224e+13,  1.44576976e-04,\n",
       "       -4.25163313e-01,  4.24451799e+01, -7.81224504e+14,  1.25880180e+07,\n",
       "       -1.28694431e+13, -5.91994383e+13, -3.72396024e+14, -3.71657966e-03,\n",
       "        6.29016745e+13, -1.82770081e+01,  1.52434112e+14, -3.84338964e-01,\n",
       "       -4.89038838e+13,  1.81413197e+14, -9.63090588e+13, -2.86535946e-01,\n",
       "        3.50181447e-01, -2.57388862e+13, -9.19087652e+14, -5.51452591e+14,\n",
       "        7.89309438e-01,  3.43309177e+14,  8.95035195e+02, -6.01001045e+14,\n",
       "       -9.19087652e+13])"
      ]
     },
     "execution_count": 16,
     "metadata": {},
     "output_type": "execute_result"
    }
   ],
   "source": [
    "model.coef_"
   ]
  },
  {
   "cell_type": "code",
   "execution_count": 17,
   "metadata": {
    "scrolled": true
   },
   "outputs": [
    {
     "data": {
      "text/plain": [
       "0                      0\n",
       "1       -196573322776005\n",
       "2        280986646132845\n",
       "3         91460467117945\n",
       "4                      0\n",
       "5        -18017220338911\n",
       "6                      3\n",
       "7              -14773400\n",
       "8     -18527745924005848\n",
       "9       -192595307643385\n",
       "10                    30\n",
       "11                     7\n",
       "12       111056203841541\n",
       "13                   -16\n",
       "14     -1429085276380031\n",
       "15               -565779\n",
       "16     -1010996416790062\n",
       "17                    -8\n",
       "18                   161\n",
       "19                    10\n",
       "20       316206965530914\n",
       "21                     4\n",
       "22                -17149\n",
       "23       671841042842758\n",
       "24        45954382581380\n",
       "25        60973644745304\n",
       "26                     0\n",
       "27       -54051661016998\n",
       "28      -137058305690306\n",
       "29             -15015480\n",
       "             ...        \n",
       "143       48154533038370\n",
       "144      -38608329297837\n",
       "145                    0\n",
       "146      -30486822372646\n",
       "147                    0\n",
       "148                    0\n",
       "149                   42\n",
       "150     -781224503883246\n",
       "151             12588017\n",
       "152      -12869443099244\n",
       "153      -59199438256519\n",
       "154     -372396024109739\n",
       "155                    0\n",
       "156       62901674528178\n",
       "157                  -18\n",
       "158      152434111863217\n",
       "159                    0\n",
       "160      -48903883777268\n",
       "161      181413196915784\n",
       "162      -96309058750905\n",
       "163                    0\n",
       "164                    0\n",
       "165      -25738886198560\n",
       "166     -919087651627350\n",
       "167     -551452590976407\n",
       "168                    0\n",
       "169      343309177281598\n",
       "170                  895\n",
       "171     -601001045154883\n",
       "172      -91908765162756\n",
       "Length: 173, dtype: int64"
      ]
     },
     "execution_count": 17,
     "metadata": {},
     "output_type": "execute_result"
    }
   ],
   "source": [
    "pd.Series(model.coef_).astype(int)"
   ]
  },
  {
   "cell_type": "code",
   "execution_count": 18,
   "metadata": {},
   "outputs": [
    {
     "data": {
      "text/plain": [
       "-626731765991412.5"
      ]
     },
     "execution_count": 18,
     "metadata": {},
     "output_type": "execute_result"
    }
   ],
   "source": [
    "model.intercept_"
   ]
  },
  {
   "cell_type": "code",
   "execution_count": 19,
   "metadata": {},
   "outputs": [
    {
     "data": {
      "text/plain": [
       "Unnamed: 0                                  6.259357e+04\n",
       "scheduled_ends_at_pdt_weekday               1.357137e+00\n",
       "scheduled_starts_at_pdt_month_7             2.181308e-01\n",
       "claimed_at_pdt_weekday_3                    3.603760e-01\n",
       "trip_predicted_raw_fare                     1.222204e+01\n",
       "scheduled_starts_at_pdt_hour_7              3.682657e-01\n",
       "total_predicted_distance_miles              5.668047e+00\n",
       "driver_signup_before_trip_created_secs      1.246842e+07\n",
       "scheduled_starts_at_pdt_hour_2              0.000000e+00\n",
       "scheduled_starts_at_pdt_day                 8.724887e+00\n",
       "scheduled_ends_at_pdt_hour                  3.780759e+00\n",
       "organizers_count                            1.717336e-01\n",
       "claimed_at_pdt_month_4                      2.604898e-01\n",
       "driver_created_at_pdt_hour                  2.327039e+00\n",
       "claimed_at_pdt_quarter_4                    4.569504e-01\n",
       "driver_created_at_pdt_weekofyear            1.146398e+01\n",
       "claimed_at_pdt_hour_22                      1.677330e-01\n",
       "is_same_day_ride_int                        1.590459e-01\n",
       "origin_lat                                  1.466141e+00\n",
       "route_legs_count                            2.796359e-01\n",
       "scheduled_starts_at_pdt_month_3             2.888212e-01\n",
       "lead_organizer_created_at_pdt_weekofyear    1.090812e+01\n",
       "driver_signup_before_org_signup_secs        1.723678e+07\n",
       "scheduled_starts_at_pdt_month_12            2.637374e-01\n",
       "claimed_at_pdt_hour                         5.783833e+00\n",
       "claimed_at_pdt_weekday_2                    3.763166e-01\n",
       "lead_organizer_id                           2.836254e+04\n",
       "scheduled_starts_at_pdt_hour_21             6.271463e-02\n",
       "claimed_at_pdt_month_12                     2.460333e-01\n",
       "claimed_before_trip_start_secs              2.381955e+05\n",
       "                                                ...     \n",
       "claimed_at_pdt_month                        3.474717e+00\n",
       "scheduled_starts_at_pdt_hour_15             4.296977e-01\n",
       "trip_template_id                            5.735203e+03\n",
       "claimed_at_pdt_weekday                      2.004019e+00\n",
       "origin_location_id                          3.680007e+04\n",
       "created_at_pdt_weekday                      2.166007e+00\n",
       "origin_lon                                  1.569941e+00\n",
       "claimed_at_pdt_hour_17                      2.286267e-01\n",
       "driver_signup_before_trip_start_secs        1.237647e+07\n",
       "scheduled_starts_at_pdt_hour_5              3.729015e-02\n",
       "scheduled_starts_at_pdt_hour_23             1.783769e-02\n",
       "claimed_at_pdt_month_8                      2.576494e-01\n",
       "creator_id                                  2.835762e+04\n",
       "claimed_at_pdt_month_5                      2.864879e-01\n",
       "coupon_consumed                             7.915962e-02\n",
       "claimed_at_pdt_weekday_5                    2.344145e-01\n",
       "carpool_int                                 1.312920e-01\n",
       "scheduled_starts_at_pdt_hour_19             1.239060e-01\n",
       "scheduled_starts_at_pdt_weekday             1.357037e+00\n",
       "claimed_at_pdt_month_3                      2.793281e-01\n",
       "claimed_at_pdt_weekofyear                   1.507906e+01\n",
       "lead_organizer_created_at_pdt_hour          4.782270e+00\n",
       "scheduled_starts_at_pdt_hour_10             1.084176e-01\n",
       "claimed_at_pdt_hour_20                      1.981037e-01\n",
       "claimed_at_pdt_hour_12                      3.633633e-01\n",
       "destination_region_id                       1.422844e+01\n",
       "scheduled_starts_at_pdt_month_10            3.312218e-01\n",
       "total_predicted_duration                    1.252958e+01\n",
       "claimed_at_pdt_quarter_2                    4.168190e-01\n",
       "claimed_at_pdt_hour_2                       7.097240e-02\n",
       "Length: 173, dtype: float64"
      ]
     },
     "execution_count": 19,
     "metadata": {},
     "output_type": "execute_result"
    }
   ],
   "source": [
    "X_train.std()"
   ]
  },
  {
   "cell_type": "code",
   "execution_count": 20,
   "metadata": {},
   "outputs": [
    {
     "data": {
      "text/plain": [
       "claimed_at_pdt_hour_23              -8306676256070094\n",
       "claimed_at_pdt_hour_22              -6027415396125470\n",
       "claimed_at_pdt_hour_21              -5139096936224958\n",
       "claimed_at_pdt_hour_20              -4639427931846646\n",
       "claimed_at_pdt_hour_18              -3737773889502062\n",
       "claimed_at_pdt_hour_19              -3693321708411689\n",
       "claimed_at_pdt_hour_17              -3417030255649621\n",
       "scheduled_starts_at_pdt_hour_23     -3318784110190134\n",
       "claimed_at_pdt_hour_15              -3269674979182198\n",
       "scheduled_starts_at_pdt_quarter_2   -3226785536048879\n",
       "claimed_at_pdt_quarter_4            -3127440783354361\n",
       "claimed_at_pdt_hour_14              -3048296813711447\n",
       "claimed_at_pdt_hour_16              -3045619925065257\n",
       "claimed_at_pdt_hour_13              -2791071485913993\n",
       "claimed_at_pdt_hour_11              -2545769468625431\n",
       "scheduled_starts_at_pdt_hour_3      -2448389142260039\n",
       "claimed_at_pdt_hour_10              -2375488979411549\n",
       "claimed_at_pdt_hour_4               -2242711503700317\n",
       "claimed_at_pdt_hour_3               -2016816111418471\n",
       "claimed_at_pdt_hour_5               -1997062017296255\n",
       "claimed_at_pdt_hour_9               -1904865510484124\n",
       "claimed_at_pdt_hour_8               -1827126368342788\n",
       "claimed_at_pdt_hour_7               -1570431476744475\n",
       "scheduled_starts_at_pdt_hour_22     -1546338600527423\n",
       "claimed_at_pdt_quarter_3            -1536032628907133\n",
       "claimed_at_pdt_hour_6               -1532131584109226\n",
       "claimed_at_pdt_hour_12              -1517634129576141\n",
       "claimed_at_pdt_month_7              -1460108855416426\n",
       "claimed_at_pdt_month_8              -1445359592213332\n",
       "claimed_at_pdt_quarter_2            -1441875366750337\n",
       "                                           ...       \n",
       "scheduled_starts_at_pdt_weekday_2      50285271534405\n",
       "claimed_at_pdt_month_6                 61896989201788\n",
       "scheduled_starts_at_pdt_weekday_3      75718910429037\n",
       "claimed_at_pdt_weekday_1               79538017334822\n",
       "scheduled_starts_at_pdt_weekday_4     114777236700072\n",
       "scheduled_starts_at_pdt_weekday       133683271168030\n",
       "claimed_at_pdt_weekday_2              162027536451536\n",
       "scheduled_starts_at_pdt_quarter       191699033003301\n",
       "claimed_at_pdt_month_5                219561376631568\n",
       "claimed_at_pdt_weekday_3              253791780617659\n",
       "claimed_at_pdt_quarter                301359058029226\n",
       "claimed_at_pdt_weekday_4              403020477841495\n",
       "claimed_at_pdt_month_4                426336105582866\n",
       "claimed_at_pdt_weekday_6              528515512103280\n",
       "scheduled_starts_at_pdt_quarter_3     538045923562147\n",
       "scheduled_starts_at_pdt_month_2       631501581338749\n",
       "claimed_at_pdt_weekday_5              650276069560290\n",
       "scheduled_starts_at_pdt_weekday_5     781193983637826\n",
       "scheduled_starts_at_pdt_quarter_4     926293624954114\n",
       "scheduled_starts_at_pdt_month_10     1036493434977836\n",
       "scheduled_starts_at_pdt_month_3      1094819245882491\n",
       "scheduled_starts_at_pdt_month_7      1288156888176086\n",
       "scheduled_starts_at_pdt_weekday_6    1297367293466090\n",
       "scheduled_starts_at_pdt_month_11     1657898469198176\n",
       "scheduled_starts_at_pdt_month_8      1770690795106975\n",
       "scheduled_starts_at_pdt_month_9      1957704323036929\n",
       "scheduled_starts_at_pdt_month_12     2547386341755156\n",
       "scheduled_starts_at_pdt_month_5      6063416414960941\n",
       "scheduled_starts_at_pdt_month_4      6425221127637601\n",
       "scheduled_starts_at_pdt_month_6      7711087231341872\n",
       "Length: 171, dtype: int64"
      ]
     },
     "execution_count": 20,
     "metadata": {},
     "output_type": "execute_result"
    }
   ],
   "source": [
    "# normalize the linear model coefficients by the standard deviation to see which features are most important\n",
    "(model.coef_/X_train.std()).sort_values(axis=0).replace([np.inf, -np.inf], np.nan).dropna().astype(int)"
   ]
  },
  {
   "cell_type": "code",
   "execution_count": 21,
   "metadata": {},
   "outputs": [
    {
     "data": {
      "text/plain": [
       "0.04874752851704512"
      ]
     },
     "execution_count": 21,
     "metadata": {},
     "output_type": "execute_result"
    }
   ],
   "source": [
    "# score against TRAINING set\n",
    "model.score(X_train,y_train)"
   ]
  },
  {
   "cell_type": "code",
   "execution_count": 22,
   "metadata": {},
   "outputs": [
    {
     "data": {
      "text/plain": [
       "0.047302177287114285"
      ]
     },
     "execution_count": 22,
     "metadata": {},
     "output_type": "execute_result"
    }
   ],
   "source": [
    "# score against TEST set\n",
    "model.score(X_test,y_test)"
   ]
  },
  {
   "cell_type": "code",
   "execution_count": 23,
   "metadata": {},
   "outputs": [
    {
     "data": {
      "text/plain": [
       "25135"
      ]
     },
     "execution_count": 23,
     "metadata": {},
     "output_type": "execute_result"
    }
   ],
   "source": [
    "model_y_test_pred = model.predict(X_test)\n",
    "model_y_test_pred.size"
   ]
  },
  {
   "cell_type": "code",
   "execution_count": 24,
   "metadata": {},
   "outputs": [
    {
     "data": {
      "text/plain": [
       "numpy.ndarray"
      ]
     },
     "execution_count": 24,
     "metadata": {},
     "output_type": "execute_result"
    }
   ],
   "source": [
    "type(model_y_test_pred)"
   ]
  },
  {
   "cell_type": "code",
   "execution_count": 25,
   "metadata": {},
   "outputs": [
    {
     "data": {
      "text/plain": [
       "array([-342.125, -497.5  , -482.125, -557.125, -530.25 , -438.5  ,\n",
       "       -325.75 , -451.875, -535.875, -375.625])"
      ]
     },
     "execution_count": 25,
     "metadata": {},
     "output_type": "execute_result"
    }
   ],
   "source": [
    "model_y_test_pred[:10]"
   ]
  },
  {
   "cell_type": "code",
   "execution_count": 26,
   "metadata": {},
   "outputs": [
    {
     "data": {
      "text/plain": [
       "111.7414377610852"
      ]
     },
     "execution_count": 26,
     "metadata": {},
     "output_type": "execute_result"
    }
   ],
   "source": [
    "pd.Series(model_y_test_pred).std()"
   ]
  },
  {
   "cell_type": "code",
   "execution_count": 27,
   "metadata": {},
   "outputs": [
    {
     "data": {
      "text/plain": [
       "-0.013375503293490383"
      ]
     },
     "execution_count": 27,
     "metadata": {},
     "output_type": "execute_result"
    }
   ],
   "source": [
    "pd.Series(model_y_test_pred).corr(y_test)"
   ]
  },
  {
   "cell_type": "code",
   "execution_count": 28,
   "metadata": {},
   "outputs": [
    {
     "name": "stdout",
     "output_type": "stream",
     "text": [
      "0.047 8.33 250014 0.047 375 286 4.76\n"
     ]
    }
   ],
   "source": [
    "# regression metrics\n",
    "from sklearn.metrics import explained_variance_score, mean_squared_error, r2_score, mean_absolute_error, median_absolute_error\n",
    "from math import sqrt\n",
    "print (\"%.3f %.2f %.0f %.3f %.0f %.0f %.2f\" % \n",
    "       (explained_variance_score(y_test, model_y_test_pred),\n",
    "        sqrt(mean_squared_error(y_test, model_y_test_pred))/60, # sqrt of MSE in minutes\n",
    "        mean_squared_error(y_test, model_y_test_pred), \n",
    "        r2_score(y_test, model_y_test_pred), \n",
    "        mean_absolute_error(y_test, model_y_test_pred), \n",
    "        median_absolute_error(y_test, model_y_test_pred),\n",
    "        median_absolute_error(y_test, model_y_test_pred)/60 # MAE in minutes\n",
    "       ))"
   ]
  },
  {
   "cell_type": "code",
   "execution_count": 29,
   "metadata": {},
   "outputs": [
    {
     "data": {
      "text/plain": [
       "array([  0., 300., 900.])"
      ]
     },
     "execution_count": 29,
     "metadata": {},
     "output_type": "execute_result"
    }
   ],
   "source": [
    "# make classifications from seconds late target\n",
    "bins = np.array([0.0, 5*60, 15*60]) # 0 on-time, 1 almost on-time, 2 late, 3 extremely late\n",
    "bins"
   ]
  },
  {
   "cell_type": "code",
   "execution_count": 30,
   "metadata": {},
   "outputs": [
    {
     "data": {
      "text/plain": [
       "array([1, 1, 0, 0, 0, 1, 0, 0, 1, 0])"
      ]
     },
     "execution_count": 30,
     "metadata": {},
     "output_type": "execute_result"
    }
   ],
   "source": [
    "np.digitize(y_test, bins)[:10]"
   ]
  },
  {
   "cell_type": "code",
   "execution_count": 31,
   "metadata": {
    "scrolled": true
   },
   "outputs": [
    {
     "name": "stdout",
     "output_type": "stream",
     "text": [
      "[[    0 21156]\n",
      " [    1  2939]\n",
      " [    2   892]\n",
      " [    3   148]]\n"
     ]
    }
   ],
   "source": [
    "# materialize y_test_class array\n",
    "# check to see how many trips are categorized as 0 on-time, 1 almost on-time, 2 late, 3 extremely late\n",
    "y_test_class=np.digitize(y_test, bins)\n",
    "unique, counts = np.unique(y_test_class, return_counts=True)\n",
    "print(np.asarray((unique, counts)).T)"
   ]
  },
  {
   "cell_type": "code",
   "execution_count": 32,
   "metadata": {},
   "outputs": [
    {
     "name": "stdout",
     "output_type": "stream",
     "text": [
      "[[    0 25130]\n",
      " [    1     5]]\n"
     ]
    }
   ],
   "source": [
    "# materialize model_y_pred_class\n",
    "# check to see how many trips are categorized as 0 on-time, 1 almost on-time, 2 late, 3 extremely late\n",
    "model_y_test_pred_class=np.digitize(model_y_test_pred, bins)\n",
    "print(np.asarray(np.unique(model_y_test_pred_class, return_counts=True)).T)"
   ]
  },
  {
   "cell_type": "code",
   "execution_count": 33,
   "metadata": {},
   "outputs": [
    {
     "name": "stdout",
     "output_type": "stream",
     "text": [
      "             precision    recall  f1-score   support\n",
      "\n",
      "          0       0.84      1.00      0.91     21156\n",
      "          1       0.20      0.00      0.00      2939\n",
      "          2       0.00      0.00      0.00       892\n",
      "          3       0.00      0.00      0.00       148\n",
      "\n",
      "avg / total       0.73      0.84      0.77     25135\n",
      "\n"
     ]
    },
    {
     "name": "stderr",
     "output_type": "stream",
     "text": [
      "/Applications/anaconda3/lib/python3.6/site-packages/sklearn/metrics/classification.py:1135: UndefinedMetricWarning: Precision and F-score are ill-defined and being set to 0.0 in labels with no predicted samples.\n",
      "  'precision', 'predicted', average, warn_for)\n"
     ]
    }
   ],
   "source": [
    "from sklearn.metrics import classification_report\n",
    "print(classification_report(y_test_class,model_y_test_pred_class))"
   ]
  },
  {
   "cell_type": "code",
   "execution_count": 34,
   "metadata": {},
   "outputs": [
    {
     "name": "stdout",
     "output_type": "stream",
     "text": [
      "[[21154     2     0     0]\n",
      " [ 2938     1     0     0]\n",
      " [  890     2     0     0]\n",
      " [  148     0     0     0]]\n"
     ]
    }
   ],
   "source": [
    "from sklearn.metrics import confusion_matrix\n",
    "print(confusion_matrix(y_test_class,model_y_test_pred_class,labels=[0,1,2,3]))"
   ]
  },
  {
   "cell_type": "code",
   "execution_count": null,
   "metadata": {},
   "outputs": [],
   "source": []
  }
 ],
 "metadata": {
  "kernelspec": {
   "display_name": "Python 3",
   "language": "python",
   "name": "python3"
  },
  "language_info": {
   "codemirror_mode": {
    "name": "ipython",
    "version": 3
   },
   "file_extension": ".py",
   "mimetype": "text/x-python",
   "name": "python",
   "nbconvert_exporter": "python",
   "pygments_lexer": "ipython3",
   "version": "3.6.5"
  }
 },
 "nbformat": 4,
 "nbformat_minor": 2
}
