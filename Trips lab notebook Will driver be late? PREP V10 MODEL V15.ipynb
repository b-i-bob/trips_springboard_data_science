{
 "cells": [
  {
   "cell_type": "markdown",
   "metadata": {},
   "source": [
    "### Linear regression model V15\n",
    "try random forest regressor"
   ]
  },
  {
   "cell_type": "code",
   "execution_count": 2,
   "metadata": {},
   "outputs": [],
   "source": [
    "fileprefix='./lateness_PREP_V10_'"
   ]
  },
  {
   "cell_type": "code",
   "execution_count": 3,
   "metadata": {},
   "outputs": [],
   "source": [
    "import pandas as pd\n",
    "import numpy as np"
   ]
  },
  {
   "cell_type": "code",
   "execution_count": 4,
   "metadata": {},
   "outputs": [],
   "source": [
    "df_X=pd.read_csv(fileprefix+'X.csv', sep='\\t')"
   ]
  },
  {
   "cell_type": "code",
   "execution_count": 5,
   "metadata": {},
   "outputs": [
    {
     "data": {
      "text/plain": [
       "(125675, 215)"
      ]
     },
     "execution_count": 5,
     "metadata": {},
     "output_type": "execute_result"
    }
   ],
   "source": [
    "df_X.shape"
   ]
  },
  {
   "cell_type": "code",
   "execution_count": 6,
   "metadata": {},
   "outputs": [],
   "source": [
    "df_y=pd.read_csv(fileprefix+'y.csv', sep='\\t', header=None)"
   ]
  },
  {
   "cell_type": "code",
   "execution_count": 7,
   "metadata": {},
   "outputs": [
    {
     "data": {
      "text/plain": [
       "(125675, 2)"
      ]
     },
     "execution_count": 7,
     "metadata": {},
     "output_type": "execute_result"
    }
   ],
   "source": [
    "type(df_y)\n",
    "df_y.shape"
   ]
  },
  {
   "cell_type": "code",
   "execution_count": 8,
   "metadata": {},
   "outputs": [
    {
     "data": {
      "text/html": [
       "<div>\n",
       "<style scoped>\n",
       "    .dataframe tbody tr th:only-of-type {\n",
       "        vertical-align: middle;\n",
       "    }\n",
       "\n",
       "    .dataframe tbody tr th {\n",
       "        vertical-align: top;\n",
       "    }\n",
       "\n",
       "    .dataframe thead th {\n",
       "        text-align: right;\n",
       "    }\n",
       "</style>\n",
       "<table border=\"1\" class=\"dataframe\">\n",
       "  <thead>\n",
       "    <tr style=\"text-align: right;\">\n",
       "      <th></th>\n",
       "      <th>0</th>\n",
       "      <th>1</th>\n",
       "    </tr>\n",
       "  </thead>\n",
       "  <tbody>\n",
       "    <tr>\n",
       "      <th>0</th>\n",
       "      <td>5</td>\n",
       "      <td>-497.0</td>\n",
       "    </tr>\n",
       "    <tr>\n",
       "      <th>1</th>\n",
       "      <td>6</td>\n",
       "      <td>5.0</td>\n",
       "    </tr>\n",
       "    <tr>\n",
       "      <th>2</th>\n",
       "      <td>7</td>\n",
       "      <td>-313.0</td>\n",
       "    </tr>\n",
       "    <tr>\n",
       "      <th>3</th>\n",
       "      <td>8</td>\n",
       "      <td>-296.0</td>\n",
       "    </tr>\n",
       "    <tr>\n",
       "      <th>4</th>\n",
       "      <td>9</td>\n",
       "      <td>-166.0</td>\n",
       "    </tr>\n",
       "  </tbody>\n",
       "</table>\n",
       "</div>"
      ],
      "text/plain": [
       "   0      1\n",
       "0  5 -497.0\n",
       "1  6    5.0\n",
       "2  7 -313.0\n",
       "3  8 -296.0\n",
       "4  9 -166.0"
      ]
     },
     "execution_count": 8,
     "metadata": {},
     "output_type": "execute_result"
    }
   ],
   "source": [
    "df_y.head()"
   ]
  },
  {
   "cell_type": "code",
   "execution_count": 9,
   "metadata": {},
   "outputs": [
    {
     "data": {
      "text/plain": [
       "0   -497.0\n",
       "1      5.0\n",
       "2   -313.0\n",
       "3   -296.0\n",
       "4   -166.0\n",
       "Name: 1, dtype: float64"
      ]
     },
     "execution_count": 9,
     "metadata": {},
     "output_type": "execute_result"
    }
   ],
   "source": [
    "y=df_y[1]\n",
    "y.head()"
   ]
  },
  {
   "cell_type": "code",
   "execution_count": 10,
   "metadata": {},
   "outputs": [
    {
     "data": {
      "text/plain": [
       "(125675,)"
      ]
     },
     "execution_count": 10,
     "metadata": {},
     "output_type": "execute_result"
    }
   ],
   "source": [
    "y.shape"
   ]
  },
  {
   "cell_type": "code",
   "execution_count": 11,
   "metadata": {},
   "outputs": [
    {
     "data": {
      "text/html": [
       "<div>\n",
       "<style scoped>\n",
       "    .dataframe tbody tr th:only-of-type {\n",
       "        vertical-align: middle;\n",
       "    }\n",
       "\n",
       "    .dataframe tbody tr th {\n",
       "        vertical-align: top;\n",
       "    }\n",
       "\n",
       "    .dataframe thead th {\n",
       "        text-align: right;\n",
       "    }\n",
       "</style>\n",
       "<table border=\"1\" class=\"dataframe\">\n",
       "  <thead>\n",
       "    <tr style=\"text-align: right;\">\n",
       "      <th></th>\n",
       "      <th>Unnamed: 0</th>\n",
       "      <th>lead_organizer_created_at_pdt_hour</th>\n",
       "      <th>creator_id</th>\n",
       "      <th>claimed_at_pdt_hour_14</th>\n",
       "      <th>origin_region_name_East Bay South</th>\n",
       "      <th>scheduled_starts_at_pdt_month</th>\n",
       "      <th>carpool_int</th>\n",
       "      <th>scheduled_starts_at_pdt_weekofyear</th>\n",
       "      <th>scheduled_starts_at_pdt_hour_2</th>\n",
       "      <th>origin_region_name_Central LA - West</th>\n",
       "      <th>...</th>\n",
       "      <th>destination_region_id</th>\n",
       "      <th>claimed_at_pdt_hour_6</th>\n",
       "      <th>organizers_count</th>\n",
       "      <th>scheduled_starts_at_pdt_hour_5</th>\n",
       "      <th>scheduled_starts_at_pdt_hour_6</th>\n",
       "      <th>origin_region_name_Ventura</th>\n",
       "      <th>lead_organizer_created_at_pdt_month</th>\n",
       "      <th>scheduled_starts_at_pdt_month_2</th>\n",
       "      <th>origin_region_name_Pomona Valley</th>\n",
       "      <th>driver_id</th>\n",
       "    </tr>\n",
       "  </thead>\n",
       "  <tbody>\n",
       "    <tr>\n",
       "      <th>0</th>\n",
       "      <td>5</td>\n",
       "      <td>19</td>\n",
       "      <td>81281</td>\n",
       "      <td>0</td>\n",
       "      <td>0</td>\n",
       "      <td>2</td>\n",
       "      <td>0</td>\n",
       "      <td>7</td>\n",
       "      <td>0</td>\n",
       "      <td>0</td>\n",
       "      <td>...</td>\n",
       "      <td>36.0</td>\n",
       "      <td>0</td>\n",
       "      <td>1.0</td>\n",
       "      <td>0</td>\n",
       "      <td>0</td>\n",
       "      <td>0</td>\n",
       "      <td>7</td>\n",
       "      <td>1</td>\n",
       "      <td>0</td>\n",
       "      <td>62969.0</td>\n",
       "    </tr>\n",
       "    <tr>\n",
       "      <th>1</th>\n",
       "      <td>6</td>\n",
       "      <td>19</td>\n",
       "      <td>80068</td>\n",
       "      <td>0</td>\n",
       "      <td>0</td>\n",
       "      <td>1</td>\n",
       "      <td>0</td>\n",
       "      <td>4</td>\n",
       "      <td>0</td>\n",
       "      <td>0</td>\n",
       "      <td>...</td>\n",
       "      <td>36.0</td>\n",
       "      <td>0</td>\n",
       "      <td>1.0</td>\n",
       "      <td>0</td>\n",
       "      <td>0</td>\n",
       "      <td>0</td>\n",
       "      <td>7</td>\n",
       "      <td>0</td>\n",
       "      <td>0</td>\n",
       "      <td>62969.0</td>\n",
       "    </tr>\n",
       "    <tr>\n",
       "      <th>2</th>\n",
       "      <td>7</td>\n",
       "      <td>20</td>\n",
       "      <td>87802</td>\n",
       "      <td>0</td>\n",
       "      <td>0</td>\n",
       "      <td>2</td>\n",
       "      <td>0</td>\n",
       "      <td>6</td>\n",
       "      <td>0</td>\n",
       "      <td>0</td>\n",
       "      <td>...</td>\n",
       "      <td>48.0</td>\n",
       "      <td>0</td>\n",
       "      <td>1.0</td>\n",
       "      <td>0</td>\n",
       "      <td>0</td>\n",
       "      <td>0</td>\n",
       "      <td>7</td>\n",
       "      <td>1</td>\n",
       "      <td>0</td>\n",
       "      <td>62969.0</td>\n",
       "    </tr>\n",
       "    <tr>\n",
       "      <th>3</th>\n",
       "      <td>8</td>\n",
       "      <td>20</td>\n",
       "      <td>81561</td>\n",
       "      <td>0</td>\n",
       "      <td>0</td>\n",
       "      <td>1</td>\n",
       "      <td>0</td>\n",
       "      <td>4</td>\n",
       "      <td>0</td>\n",
       "      <td>0</td>\n",
       "      <td>...</td>\n",
       "      <td>36.0</td>\n",
       "      <td>0</td>\n",
       "      <td>1.0</td>\n",
       "      <td>0</td>\n",
       "      <td>0</td>\n",
       "      <td>0</td>\n",
       "      <td>7</td>\n",
       "      <td>0</td>\n",
       "      <td>0</td>\n",
       "      <td>62969.0</td>\n",
       "    </tr>\n",
       "    <tr>\n",
       "      <th>4</th>\n",
       "      <td>9</td>\n",
       "      <td>19</td>\n",
       "      <td>76793</td>\n",
       "      <td>0</td>\n",
       "      <td>0</td>\n",
       "      <td>1</td>\n",
       "      <td>0</td>\n",
       "      <td>4</td>\n",
       "      <td>0</td>\n",
       "      <td>0</td>\n",
       "      <td>...</td>\n",
       "      <td>33.0</td>\n",
       "      <td>0</td>\n",
       "      <td>1.0</td>\n",
       "      <td>0</td>\n",
       "      <td>0</td>\n",
       "      <td>0</td>\n",
       "      <td>7</td>\n",
       "      <td>0</td>\n",
       "      <td>0</td>\n",
       "      <td>62969.0</td>\n",
       "    </tr>\n",
       "  </tbody>\n",
       "</table>\n",
       "<p>5 rows × 215 columns</p>\n",
       "</div>"
      ],
      "text/plain": [
       "   Unnamed: 0  lead_organizer_created_at_pdt_hour  creator_id  \\\n",
       "0           5                                  19       81281   \n",
       "1           6                                  19       80068   \n",
       "2           7                                  20       87802   \n",
       "3           8                                  20       81561   \n",
       "4           9                                  19       76793   \n",
       "\n",
       "   claimed_at_pdt_hour_14  origin_region_name_East Bay South  \\\n",
       "0                       0                                  0   \n",
       "1                       0                                  0   \n",
       "2                       0                                  0   \n",
       "3                       0                                  0   \n",
       "4                       0                                  0   \n",
       "\n",
       "   scheduled_starts_at_pdt_month  carpool_int  \\\n",
       "0                              2            0   \n",
       "1                              1            0   \n",
       "2                              2            0   \n",
       "3                              1            0   \n",
       "4                              1            0   \n",
       "\n",
       "   scheduled_starts_at_pdt_weekofyear  scheduled_starts_at_pdt_hour_2  \\\n",
       "0                                   7                               0   \n",
       "1                                   4                               0   \n",
       "2                                   6                               0   \n",
       "3                                   4                               0   \n",
       "4                                   4                               0   \n",
       "\n",
       "   origin_region_name_Central LA - West    ...      destination_region_id  \\\n",
       "0                                     0    ...                       36.0   \n",
       "1                                     0    ...                       36.0   \n",
       "2                                     0    ...                       48.0   \n",
       "3                                     0    ...                       36.0   \n",
       "4                                     0    ...                       33.0   \n",
       "\n",
       "   claimed_at_pdt_hour_6  organizers_count  scheduled_starts_at_pdt_hour_5  \\\n",
       "0                      0               1.0                               0   \n",
       "1                      0               1.0                               0   \n",
       "2                      0               1.0                               0   \n",
       "3                      0               1.0                               0   \n",
       "4                      0               1.0                               0   \n",
       "\n",
       "   scheduled_starts_at_pdt_hour_6  origin_region_name_Ventura  \\\n",
       "0                               0                           0   \n",
       "1                               0                           0   \n",
       "2                               0                           0   \n",
       "3                               0                           0   \n",
       "4                               0                           0   \n",
       "\n",
       "   lead_organizer_created_at_pdt_month  scheduled_starts_at_pdt_month_2  \\\n",
       "0                                    7                                1   \n",
       "1                                    7                                0   \n",
       "2                                    7                                1   \n",
       "3                                    7                                0   \n",
       "4                                    7                                0   \n",
       "\n",
       "   origin_region_name_Pomona Valley  driver_id  \n",
       "0                                 0    62969.0  \n",
       "1                                 0    62969.0  \n",
       "2                                 0    62969.0  \n",
       "3                                 0    62969.0  \n",
       "4                                 0    62969.0  \n",
       "\n",
       "[5 rows x 215 columns]"
      ]
     },
     "execution_count": 11,
     "metadata": {},
     "output_type": "execute_result"
    }
   ],
   "source": [
    "df_X.head()"
   ]
  },
  {
   "cell_type": "code",
   "execution_count": 12,
   "metadata": {},
   "outputs": [
    {
     "data": {
      "text/plain": [
       "count    125675.0\n",
       "mean       -416.0\n",
       "std         509.0\n",
       "min       -1800.0\n",
       "25%        -657.0\n",
       "50%        -324.0\n",
       "75%         -96.0\n",
       "max        1800.0\n",
       "Name: 1, dtype: float64"
      ]
     },
     "execution_count": 12,
     "metadata": {},
     "output_type": "execute_result"
    }
   ],
   "source": [
    "y.describe().round()"
   ]
  },
  {
   "cell_type": "code",
   "execution_count": 13,
   "metadata": {},
   "outputs": [],
   "source": [
    "# break df_X,y into test and train sets\n",
    "from sklearn.model_selection import train_test_split\n",
    "X_train, X_test, y_train, y_test = train_test_split(df_X, y, test_size=0.20, random_state=808)"
   ]
  },
  {
   "cell_type": "code",
   "execution_count": 14,
   "metadata": {},
   "outputs": [
    {
     "name": "stdout",
     "output_type": "stream",
     "text": [
      "(100540, 215)\n",
      "(25135, 215)\n",
      "(100540,)\n",
      "(25135,)\n"
     ]
    }
   ],
   "source": [
    "for i in X_train, X_test, y_train, y_test:\n",
    "    print(i.shape)"
   ]
  },
  {
   "cell_type": "code",
   "execution_count": 16,
   "metadata": {},
   "outputs": [],
   "source": [
    "# select a regressor\n",
    "from sklearn.ensemble import RandomForestRegressor\n",
    "model=RandomForestRegressor(max_depth=2, random_state=808, n_estimators=100)"
   ]
  },
  {
   "cell_type": "code",
   "execution_count": 17,
   "metadata": {},
   "outputs": [],
   "source": [
    "# fit model\n",
    "model=model.fit(X_train,y_train)"
   ]
  },
  {
   "cell_type": "code",
   "execution_count": 19,
   "metadata": {},
   "outputs": [
    {
     "name": "stdout",
     "output_type": "stream",
     "text": [
      "[0.         0.         0.         0.         0.         0.\n",
      " 0.         0.         0.         0.         0.         0.\n",
      " 0.         0.         0.         0.         0.         0.\n",
      " 0.         0.         0.         0.         0.         0.\n",
      " 0.         0.         0.         0.         0.         0.\n",
      " 0.         0.         0.         0.         0.         0.\n",
      " 0.         0.         0.         0.         0.         0.\n",
      " 0.         0.         0.         0.         0.         0.\n",
      " 0.         0.         0.         0.         0.         0.\n",
      " 0.         0.         0.         0.         0.         0.\n",
      " 0.         0.         0.         0.         0.         0.\n",
      " 0.         0.         0.         0.         0.         0.\n",
      " 0.         0.         0.         0.         0.         0.\n",
      " 0.         0.         0.         0.         0.         0.\n",
      " 0.         0.         0.         0.         0.         0.\n",
      " 0.         0.         0.         0.04130382 0.         0.\n",
      " 0.         0.         0.         0.         0.         0.\n",
      " 0.         0.         0.         0.         0.19602317 0.0069769\n",
      " 0.         0.         0.         0.         0.         0.\n",
      " 0.         0.         0.         0.         0.         0.\n",
      " 0.         0.         0.         0.         0.         0.\n",
      " 0.         0.         0.         0.         0.         0.\n",
      " 0.         0.         0.         0.         0.         0.\n",
      " 0.         0.         0.         0.         0.         0.\n",
      " 0.         0.         0.         0.         0.         0.\n",
      " 0.         0.         0.         0.50908254 0.         0.\n",
      " 0.         0.         0.19822275 0.         0.         0.\n",
      " 0.         0.         0.         0.         0.         0.\n",
      " 0.         0.         0.         0.         0.         0.\n",
      " 0.         0.         0.         0.         0.03370705 0.\n",
      " 0.         0.         0.01228085 0.         0.         0.\n",
      " 0.         0.         0.         0.         0.         0.\n",
      " 0.         0.         0.         0.         0.         0.\n",
      " 0.         0.         0.         0.         0.         0.\n",
      " 0.         0.         0.         0.         0.         0.\n",
      " 0.         0.         0.         0.         0.00240292]\n"
     ]
    }
   ],
   "source": [
    "print(model.feature_importances_)"
   ]
  },
  {
   "cell_type": "code",
   "execution_count": 41,
   "metadata": {},
   "outputs": [
    {
     "data": {
      "text/plain": [
       "[(0.5090825367034921, 'scheduled_starts_at_pdt_hour'),\n",
       " (0.19822274976683996, 'scheduled_ends_at_pdt_hour'),\n",
       " (0.19602317363507468, 'claimed_before_trip_start_secs'),\n",
       " (0.041303821019345134, 'driver_previous_completed_trips'),\n",
       " (0.03370704837612013, 'driver_signup_before_trip_start_secs'),\n",
       " (0.01228084868966317, 'driver_signup_before_trip_claimed_secs'),\n",
       " (0.006976899715188964, 'driver_created_at_pdt_dayofyear'),\n",
       " (0.002402922094275764, 'driver_id'),\n",
       " (0.0, 'trip_template_id'),\n",
       " (0.0, 'trip_predicted_raw_fare'),\n",
       " (0.0, 'trip_est_duration_secs'),\n",
       " (0.0, 'trip_created_before_trip_start_secs'),\n",
       " (0.0, 'trip_claimed_after_trip_created'),\n",
       " (0.0, 'total_predicted_duration'),\n",
       " (0.0, 'total_predicted_distance_miles'),\n",
       " (0.0, 'shuttle_int'),\n",
       " (0.0, 'scheduled_starts_at_pdt_weekofyear'),\n",
       " (0.0, 'scheduled_starts_at_pdt_weekday_6'),\n",
       " (0.0, 'scheduled_starts_at_pdt_weekday_5'),\n",
       " (0.0, 'scheduled_starts_at_pdt_weekday_4'),\n",
       " (0.0, 'scheduled_starts_at_pdt_weekday_3'),\n",
       " (0.0, 'scheduled_starts_at_pdt_weekday_2'),\n",
       " (0.0, 'scheduled_starts_at_pdt_weekday_1'),\n",
       " (0.0, 'scheduled_starts_at_pdt_weekday'),\n",
       " (0.0, 'scheduled_starts_at_pdt_quarter_4'),\n",
       " (0.0, 'scheduled_starts_at_pdt_quarter_3'),\n",
       " (0.0, 'scheduled_starts_at_pdt_quarter_2'),\n",
       " (0.0, 'scheduled_starts_at_pdt_quarter'),\n",
       " (0.0, 'scheduled_starts_at_pdt_month_9'),\n",
       " (0.0, 'scheduled_starts_at_pdt_month_8'),\n",
       " (0.0, 'scheduled_starts_at_pdt_month_7'),\n",
       " (0.0, 'scheduled_starts_at_pdt_month_6'),\n",
       " (0.0, 'scheduled_starts_at_pdt_month_5'),\n",
       " (0.0, 'scheduled_starts_at_pdt_month_4'),\n",
       " (0.0, 'scheduled_starts_at_pdt_month_3'),\n",
       " (0.0, 'scheduled_starts_at_pdt_month_2'),\n",
       " (0.0, 'scheduled_starts_at_pdt_month_12'),\n",
       " (0.0, 'scheduled_starts_at_pdt_month_11'),\n",
       " (0.0, 'scheduled_starts_at_pdt_month_10'),\n",
       " (0.0, 'scheduled_starts_at_pdt_month'),\n",
       " (0.0, 'scheduled_starts_at_pdt_hour_9'),\n",
       " (0.0, 'scheduled_starts_at_pdt_hour_8'),\n",
       " (0.0, 'scheduled_starts_at_pdt_hour_7'),\n",
       " (0.0, 'scheduled_starts_at_pdt_hour_6'),\n",
       " (0.0, 'scheduled_starts_at_pdt_hour_5'),\n",
       " (0.0, 'scheduled_starts_at_pdt_hour_4'),\n",
       " (0.0, 'scheduled_starts_at_pdt_hour_3'),\n",
       " (0.0, 'scheduled_starts_at_pdt_hour_23'),\n",
       " (0.0, 'scheduled_starts_at_pdt_hour_22'),\n",
       " (0.0, 'scheduled_starts_at_pdt_hour_21'),\n",
       " (0.0, 'scheduled_starts_at_pdt_hour_20'),\n",
       " (0.0, 'scheduled_starts_at_pdt_hour_2'),\n",
       " (0.0, 'scheduled_starts_at_pdt_hour_19'),\n",
       " (0.0, 'scheduled_starts_at_pdt_hour_18'),\n",
       " (0.0, 'scheduled_starts_at_pdt_hour_17'),\n",
       " (0.0, 'scheduled_starts_at_pdt_hour_16'),\n",
       " (0.0, 'scheduled_starts_at_pdt_hour_15'),\n",
       " (0.0, 'scheduled_starts_at_pdt_hour_14'),\n",
       " (0.0, 'scheduled_starts_at_pdt_hour_13'),\n",
       " (0.0, 'scheduled_starts_at_pdt_hour_12'),\n",
       " (0.0, 'scheduled_starts_at_pdt_hour_11'),\n",
       " (0.0, 'scheduled_starts_at_pdt_hour_10'),\n",
       " (0.0, 'scheduled_starts_at_pdt_hour_1'),\n",
       " (0.0, 'scheduled_starts_at_pdt_dayofyear'),\n",
       " (0.0, 'scheduled_starts_at_pdt_day'),\n",
       " (0.0, 'scheduled_ends_at_pdt_weekofyear'),\n",
       " (0.0, 'scheduled_ends_at_pdt_weekday'),\n",
       " (0.0, 'scheduled_ends_at_pdt_quarter'),\n",
       " (0.0, 'scheduled_ends_at_pdt_month'),\n",
       " (0.0, 'scheduled_ends_at_pdt_dayofyear'),\n",
       " (0.0, 'scheduled_ends_at_pdt_day'),\n",
       " (0.0, 'route_legs_count'),\n",
       " (0.0, 'predicted_driver_fare'),\n",
       " (0.0, 'passengers_count'),\n",
       " (0.0, 'origin_region_name_antelope-valley'),\n",
       " (0.0, 'origin_region_name_Westside'),\n",
       " (0.0, 'origin_region_name_Ventura'),\n",
       " (0.0, 'origin_region_name_Tri Valley'),\n",
       " (0.0, 'origin_region_name_Southeast LA'),\n",
       " (0.0, 'origin_region_name_South LA'),\n",
       " (0.0, 'origin_region_name_South Bay'),\n",
       " (0.0, 'origin_region_name_Santa Clarita'),\n",
       " (0.0, 'origin_region_name_San Jose'),\n",
       " (0.0, 'origin_region_name_San Gabriel Valley - West'),\n",
       " (0.0, 'origin_region_name_San Gabriel Valley - South'),\n",
       " (0.0, 'origin_region_name_San Gabriel Valley - East'),\n",
       " (0.0, 'origin_region_name_San Francisco'),\n",
       " (0.0, 'origin_region_name_San Fernando Valley - West'),\n",
       " (0.0, 'origin_region_name_San Fernando Valley - East'),\n",
       " (0.0, 'origin_region_name_Pomona Valley'),\n",
       " (0.0, 'origin_region_name_Peninsula South'),\n",
       " (0.0, 'origin_region_name_Peninsula North'),\n",
       " (0.0, 'origin_region_name_Orange County - West'),\n",
       " (0.0, 'origin_region_name_Orange County - South'),\n",
       " (0.0, 'origin_region_name_Orange County - North'),\n",
       " (0.0, 'origin_region_name_Orange County - Central'),\n",
       " (0.0, 'origin_region_name_Oakland Berkeley'),\n",
       " (0.0, 'origin_region_name_North Bay'),\n",
       " (0.0, 'origin_region_name_Malibu'),\n",
       " (0.0, 'origin_region_name_Long Beach'),\n",
       " (0.0, 'origin_region_name_Lamorinda Walnut Creek'),\n",
       " (0.0, 'origin_region_name_Inland Empire'),\n",
       " (0.0, 'origin_region_name_Eastside'),\n",
       " (0.0, 'origin_region_name_East Contra Costa'),\n",
       " (0.0, 'origin_region_name_East Bay South'),\n",
       " (0.0, 'origin_region_name_East Bay North'),\n",
       " (0.0, 'origin_region_name_Default (Unassigned)'),\n",
       " (0.0, 'origin_region_name_Central LA - West'),\n",
       " (0.0, 'origin_region_name_Central LA - South'),\n",
       " (0.0, 'origin_region_id'),\n",
       " (0.0, 'origin_lon'),\n",
       " (0.0, 'origin_location_id'),\n",
       " (0.0, 'origin_lat'),\n",
       " (0.0, 'origin_analysis_metro_name_OC'),\n",
       " (0.0, 'origin_analysis_metro_name_LA'),\n",
       " (0.0, 'origin_analysis_metro_name_Default (Unassigned)'),\n",
       " (0.0, 'organizers_count'),\n",
       " (0.0, 'organizer_home_lon'),\n",
       " (0.0, 'organizer_home_lat'),\n",
       " (0.0, 'org_signup_before_trip_start_secs'),\n",
       " (0.0, 'org_signup_before_trip_created_secs'),\n",
       " (0.0, 'lead_organizer_previous_completed_trips'),\n",
       " (0.0, 'lead_organizer_platform_web'),\n",
       " (0.0, 'lead_organizer_platform_ios'),\n",
       " (0.0, 'lead_organizer_id'),\n",
       " (0.0, 'lead_organizer_created_at_pdt_weekofyear'),\n",
       " (0.0, 'lead_organizer_created_at_pdt_weekday'),\n",
       " (0.0, 'lead_organizer_created_at_pdt_quarter'),\n",
       " (0.0, 'lead_organizer_created_at_pdt_month'),\n",
       " (0.0, 'lead_organizer_created_at_pdt_hour'),\n",
       " (0.0, 'lead_organizer_created_at_pdt_dayofyear'),\n",
       " (0.0, 'lead_organizer_created_at_pdt_day'),\n",
       " (0.0, 'is_same_day_ride_int'),\n",
       " (0.0, 'is_repeating_ride_int'),\n",
       " (0.0, 'is_affiliate_int'),\n",
       " (0.0, 'id'),\n",
       " (0.0, 'drivers_prev_ride_1hr_int'),\n",
       " (0.0, 'driver_signup_before_trip_created_secs'),\n",
       " (0.0, 'driver_signup_before_org_signup_secs'),\n",
       " (0.0, 'driver_home_lon'),\n",
       " (0.0, 'driver_home_lat'),\n",
       " (0.0, 'driver_has_driven_this_route_before_int'),\n",
       " (0.0, 'driver_gender_male'),\n",
       " (0.0, 'driver_created_at_pdt_weekofyear'),\n",
       " (0.0, 'driver_created_at_pdt_weekday'),\n",
       " (0.0, 'driver_created_at_pdt_quarter'),\n",
       " (0.0, 'driver_created_at_pdt_month'),\n",
       " (0.0, 'driver_created_at_pdt_hour'),\n",
       " (0.0, 'driver_created_at_pdt_day'),\n",
       " (0.0, 'destination_region_id'),\n",
       " (0.0, 'destination_lon'),\n",
       " (0.0, 'destination_location_id'),\n",
       " (0.0, 'destination_lat'),\n",
       " (0.0, 'creator_id'),\n",
       " (0.0, 'created_at_pdt_weekofyear'),\n",
       " (0.0, 'created_at_pdt_weekday'),\n",
       " (0.0, 'created_at_pdt_quarter'),\n",
       " (0.0, 'created_at_pdt_month'),\n",
       " (0.0, 'created_at_pdt_hour'),\n",
       " (0.0, 'created_at_pdt_dayofyear'),\n",
       " (0.0, 'created_at_pdt_day'),\n",
       " (0.0, 'coupon_consumed'),\n",
       " (0.0, 'claimed_at_pdt_weekofyear'),\n",
       " (0.0, 'claimed_at_pdt_weekday_6'),\n",
       " (0.0, 'claimed_at_pdt_weekday_5'),\n",
       " (0.0, 'claimed_at_pdt_weekday_4'),\n",
       " (0.0, 'claimed_at_pdt_weekday_3'),\n",
       " (0.0, 'claimed_at_pdt_weekday_2'),\n",
       " (0.0, 'claimed_at_pdt_weekday_1'),\n",
       " (0.0, 'claimed_at_pdt_weekday'),\n",
       " (0.0, 'claimed_at_pdt_quarter_4'),\n",
       " (0.0, 'claimed_at_pdt_quarter_3'),\n",
       " (0.0, 'claimed_at_pdt_quarter_2'),\n",
       " (0.0, 'claimed_at_pdt_quarter'),\n",
       " (0.0, 'claimed_at_pdt_month_9'),\n",
       " (0.0, 'claimed_at_pdt_month_8'),\n",
       " (0.0, 'claimed_at_pdt_month_7'),\n",
       " (0.0, 'claimed_at_pdt_month_6'),\n",
       " (0.0, 'claimed_at_pdt_month_5'),\n",
       " (0.0, 'claimed_at_pdt_month_4'),\n",
       " (0.0, 'claimed_at_pdt_month_3'),\n",
       " (0.0, 'claimed_at_pdt_month_2'),\n",
       " (0.0, 'claimed_at_pdt_month_12'),\n",
       " (0.0, 'claimed_at_pdt_month_11'),\n",
       " (0.0, 'claimed_at_pdt_month_10'),\n",
       " (0.0, 'claimed_at_pdt_month'),\n",
       " (0.0, 'claimed_at_pdt_hour_9'),\n",
       " (0.0, 'claimed_at_pdt_hour_8'),\n",
       " (0.0, 'claimed_at_pdt_hour_7'),\n",
       " (0.0, 'claimed_at_pdt_hour_6'),\n",
       " (0.0, 'claimed_at_pdt_hour_5'),\n",
       " (0.0, 'claimed_at_pdt_hour_4'),\n",
       " (0.0, 'claimed_at_pdt_hour_3'),\n",
       " (0.0, 'claimed_at_pdt_hour_23'),\n",
       " (0.0, 'claimed_at_pdt_hour_22'),\n",
       " (0.0, 'claimed_at_pdt_hour_21'),\n",
       " (0.0, 'claimed_at_pdt_hour_20'),\n",
       " (0.0, 'claimed_at_pdt_hour_2'),\n",
       " (0.0, 'claimed_at_pdt_hour_19'),\n",
       " (0.0, 'claimed_at_pdt_hour_18'),\n",
       " (0.0, 'claimed_at_pdt_hour_17'),\n",
       " (0.0, 'claimed_at_pdt_hour_16'),\n",
       " (0.0, 'claimed_at_pdt_hour_15'),\n",
       " (0.0, 'claimed_at_pdt_hour_14'),\n",
       " (0.0, 'claimed_at_pdt_hour_13'),\n",
       " (0.0, 'claimed_at_pdt_hour_12'),\n",
       " (0.0, 'claimed_at_pdt_hour_11'),\n",
       " (0.0, 'claimed_at_pdt_hour_10'),\n",
       " (0.0, 'claimed_at_pdt_hour_1'),\n",
       " (0.0, 'claimed_at_pdt_hour'),\n",
       " (0.0, 'claimed_at_pdt_dayofyear'),\n",
       " (0.0, 'claimed_at_pdt_day'),\n",
       " (0.0, 'claimed_after_created'),\n",
       " (0.0, 'carpool_int'),\n",
       " (0.0, 'Unnamed: 0')]"
      ]
     },
     "execution_count": 41,
     "metadata": {},
     "output_type": "execute_result"
    }
   ],
   "source": [
    "importances = list(zip(model.feature_importances_, X_train.columns))\n",
    "importances.sort(reverse=True)\n",
    "importances"
   ]
  },
  {
   "cell_type": "code",
   "execution_count": 20,
   "metadata": {
    "scrolled": true
   },
   "outputs": [],
   "source": [
    "#model.coef_"
   ]
  },
  {
   "cell_type": "code",
   "execution_count": 21,
   "metadata": {
    "scrolled": true
   },
   "outputs": [],
   "source": [
    "#pd.Series(model.coef_).astype(int)"
   ]
  },
  {
   "cell_type": "code",
   "execution_count": 22,
   "metadata": {},
   "outputs": [],
   "source": [
    "#model.intercept_"
   ]
  },
  {
   "cell_type": "code",
   "execution_count": 23,
   "metadata": {},
   "outputs": [],
   "source": [
    "#X_train.std()"
   ]
  },
  {
   "cell_type": "code",
   "execution_count": 24,
   "metadata": {},
   "outputs": [],
   "source": [
    "# normalize the linear model coefficients by the standard deviation to see which features are most important\n",
    "# use print to see every feature not just first 20 and last 20\n",
    "#print((model.coef_/X_train.std()).sort_values(axis=0).replace([np.inf, -np.inf], np.nan).dropna().astype(int).to_string())"
   ]
  },
  {
   "cell_type": "code",
   "execution_count": 25,
   "metadata": {},
   "outputs": [
    {
     "data": {
      "text/plain": [
       "0.04030694358867759"
      ]
     },
     "execution_count": 25,
     "metadata": {},
     "output_type": "execute_result"
    }
   ],
   "source": [
    "# score against TRAINING set\n",
    "model.score(X_train,y_train)"
   ]
  },
  {
   "cell_type": "code",
   "execution_count": 26,
   "metadata": {},
   "outputs": [
    {
     "data": {
      "text/plain": [
       "0.04146379108598386"
      ]
     },
     "execution_count": 26,
     "metadata": {},
     "output_type": "execute_result"
    }
   ],
   "source": [
    "# score against TEST set\n",
    "model.score(X_test,y_test)"
   ]
  },
  {
   "cell_type": "code",
   "execution_count": 27,
   "metadata": {},
   "outputs": [
    {
     "data": {
      "text/plain": [
       "25135"
      ]
     },
     "execution_count": 27,
     "metadata": {},
     "output_type": "execute_result"
    }
   ],
   "source": [
    "model_y_test_pred = model.predict(X_test)\n",
    "model_y_test_pred.size"
   ]
  },
  {
   "cell_type": "code",
   "execution_count": 28,
   "metadata": {},
   "outputs": [
    {
     "data": {
      "text/plain": [
       "numpy.ndarray"
      ]
     },
     "execution_count": 28,
     "metadata": {},
     "output_type": "execute_result"
    }
   ],
   "source": [
    "type(model_y_test_pred)"
   ]
  },
  {
   "cell_type": "code",
   "execution_count": 29,
   "metadata": {},
   "outputs": [
    {
     "data": {
      "text/plain": [
       "array([-477.01780649, -467.94496036, -467.94496036, -467.94496036,\n",
       "       -475.62903594, -467.94496036, -263.67184248, -467.94496036,\n",
       "       -467.94496036, -467.94496036])"
      ]
     },
     "execution_count": 29,
     "metadata": {},
     "output_type": "execute_result"
    }
   ],
   "source": [
    "model_y_test_pred[:10]"
   ]
  },
  {
   "cell_type": "code",
   "execution_count": 30,
   "metadata": {},
   "outputs": [
    {
     "data": {
      "text/plain": [
       "91.15745188847566"
      ]
     },
     "execution_count": 30,
     "metadata": {},
     "output_type": "execute_result"
    }
   ],
   "source": [
    "pd.Series(model_y_test_pred).std()"
   ]
  },
  {
   "cell_type": "code",
   "execution_count": 31,
   "metadata": {},
   "outputs": [
    {
     "data": {
      "text/plain": [
       "-0.03208018533102128"
      ]
     },
     "execution_count": 31,
     "metadata": {},
     "output_type": "execute_result"
    }
   ],
   "source": [
    "pd.Series(model_y_test_pred).corr(y_test)"
   ]
  },
  {
   "cell_type": "code",
   "execution_count": 32,
   "metadata": {},
   "outputs": [
    {
     "name": "stdout",
     "output_type": "stream",
     "text": [
      "0.041 8.36 251546 0.041 376 286 4.76\n"
     ]
    }
   ],
   "source": [
    "# regression metrics\n",
    "from sklearn.metrics import explained_variance_score, mean_squared_error, r2_score, mean_absolute_error, median_absolute_error\n",
    "from math import sqrt\n",
    "print (\"%.3f %.2f %.0f %.3f %.0f %.0f %.2f\" % \n",
    "       (explained_variance_score(y_test, model_y_test_pred),\n",
    "        sqrt(mean_squared_error(y_test, model_y_test_pred))/60, # sqrt of MSE in minutes\n",
    "        mean_squared_error(y_test, model_y_test_pred), \n",
    "        r2_score(y_test, model_y_test_pred), \n",
    "        mean_absolute_error(y_test, model_y_test_pred), \n",
    "        median_absolute_error(y_test, model_y_test_pred),\n",
    "        median_absolute_error(y_test, model_y_test_pred)/60 # MAE in minutes\n",
    "       ))"
   ]
  },
  {
   "cell_type": "code",
   "execution_count": 33,
   "metadata": {},
   "outputs": [
    {
     "data": {
      "text/plain": [
       "array([  0., 300., 900.])"
      ]
     },
     "execution_count": 33,
     "metadata": {},
     "output_type": "execute_result"
    }
   ],
   "source": [
    "# make classifications from seconds late target\n",
    "bins = np.array([0.0, 5*60, 15*60]) # 0 on-time, 1 almost on-time, 2 late, 3 extremely late\n",
    "bins"
   ]
  },
  {
   "cell_type": "code",
   "execution_count": 34,
   "metadata": {},
   "outputs": [
    {
     "data": {
      "text/plain": [
       "array([1, 1, 0, 0, 0, 1, 0, 0, 1, 0])"
      ]
     },
     "execution_count": 34,
     "metadata": {},
     "output_type": "execute_result"
    }
   ],
   "source": [
    "np.digitize(y_test, bins)[:10]"
   ]
  },
  {
   "cell_type": "code",
   "execution_count": 35,
   "metadata": {
    "scrolled": true
   },
   "outputs": [
    {
     "name": "stdout",
     "output_type": "stream",
     "text": [
      "[[    0 21156]\n",
      " [    1  2939]\n",
      " [    2   892]\n",
      " [    3   148]]\n"
     ]
    }
   ],
   "source": [
    "# materialize y_test_class array\n",
    "# check to see how many trips are categorized as 0 on-time, 1 almost on-time, 2 late, 3 extremely late\n",
    "y_test_class=np.digitize(y_test, bins)\n",
    "unique, counts = np.unique(y_test_class, return_counts=True)\n",
    "print(np.asarray((unique, counts)).T)"
   ]
  },
  {
   "cell_type": "code",
   "execution_count": 36,
   "metadata": {},
   "outputs": [
    {
     "name": "stdout",
     "output_type": "stream",
     "text": [
      "[[    0 25069]\n",
      " [    1    14]\n",
      " [    2    52]]\n"
     ]
    }
   ],
   "source": [
    "# materialize model_y_pred_class\n",
    "# check to see how many trips are categorized as 0 on-time, 1 almost on-time, 2 late, 3 extremely late\n",
    "model_y_test_pred_class=np.digitize(model_y_test_pred, bins)\n",
    "print(np.asarray(np.unique(model_y_test_pred_class, return_counts=True)).T)"
   ]
  },
  {
   "cell_type": "code",
   "execution_count": 37,
   "metadata": {},
   "outputs": [
    {
     "name": "stdout",
     "output_type": "stream",
     "text": [
      "             precision    recall  f1-score   support\n",
      "\n",
      "          0       0.84      1.00      0.91     21156\n",
      "          1       0.29      0.00      0.00      2939\n",
      "          2       0.27      0.02      0.03       892\n",
      "          3       0.00      0.00      0.00       148\n",
      "\n",
      "avg / total       0.75      0.84      0.77     25135\n",
      "\n"
     ]
    },
    {
     "name": "stderr",
     "output_type": "stream",
     "text": [
      "/Applications/anaconda3/lib/python3.6/site-packages/sklearn/metrics/classification.py:1135: UndefinedMetricWarning: Precision and F-score are ill-defined and being set to 0.0 in labels with no predicted samples.\n",
      "  'precision', 'predicted', average, warn_for)\n"
     ]
    }
   ],
   "source": [
    "from sklearn.metrics import classification_report\n",
    "print(classification_report(y_test_class,model_y_test_pred_class))"
   ]
  },
  {
   "cell_type": "code",
   "execution_count": 38,
   "metadata": {},
   "outputs": [
    {
     "name": "stdout",
     "output_type": "stream",
     "text": [
      "[[21144     3     9     0]\n",
      " [ 2921     4    14     0]\n",
      " [  874     4    14     0]\n",
      " [  130     3    15     0]]\n"
     ]
    }
   ],
   "source": [
    "from sklearn.metrics import confusion_matrix\n",
    "print(confusion_matrix(y_test_class,model_y_test_pred_class,labels=[0,1,2,3]))"
   ]
  },
  {
   "cell_type": "code",
   "execution_count": null,
   "metadata": {},
   "outputs": [],
   "source": []
  }
 ],
 "metadata": {
  "kernelspec": {
   "display_name": "Python 3",
   "language": "python",
   "name": "python3"
  },
  "language_info": {
   "codemirror_mode": {
    "name": "ipython",
    "version": 3
   },
   "file_extension": ".py",
   "mimetype": "text/x-python",
   "name": "python",
   "nbconvert_exporter": "python",
   "pygments_lexer": "ipython3",
   "version": "3.6.5"
  }
 },
 "nbformat": 4,
 "nbformat_minor": 2
}
