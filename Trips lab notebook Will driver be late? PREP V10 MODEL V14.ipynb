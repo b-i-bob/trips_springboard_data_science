{
 "cells": [
  {
   "cell_type": "markdown",
   "metadata": {},
   "source": [
    "### Linear regression model V14\n",
    "try stochastic gradiant descent regressor"
   ]
  },
  {
   "cell_type": "code",
   "execution_count": 1,
   "metadata": {},
   "outputs": [],
   "source": [
    "fileprefix='./lateness_PREP_V10_'"
   ]
  },
  {
   "cell_type": "code",
   "execution_count": 2,
   "metadata": {},
   "outputs": [],
   "source": [
    "import pandas as pd\n",
    "import numpy as np"
   ]
  },
  {
   "cell_type": "code",
   "execution_count": 3,
   "metadata": {},
   "outputs": [],
   "source": [
    "df_X=pd.read_csv(fileprefix+'X.csv', sep='\\t')"
   ]
  },
  {
   "cell_type": "code",
   "execution_count": 4,
   "metadata": {},
   "outputs": [
    {
     "data": {
      "text/plain": [
       "(125675, 215)"
      ]
     },
     "execution_count": 4,
     "metadata": {},
     "output_type": "execute_result"
    }
   ],
   "source": [
    "df_X.shape"
   ]
  },
  {
   "cell_type": "code",
   "execution_count": 5,
   "metadata": {},
   "outputs": [],
   "source": [
    "df_y=pd.read_csv(fileprefix+'y.csv', sep='\\t', header=None)"
   ]
  },
  {
   "cell_type": "code",
   "execution_count": 6,
   "metadata": {},
   "outputs": [
    {
     "data": {
      "text/plain": [
       "(125675, 2)"
      ]
     },
     "execution_count": 6,
     "metadata": {},
     "output_type": "execute_result"
    }
   ],
   "source": [
    "type(df_y)\n",
    "df_y.shape"
   ]
  },
  {
   "cell_type": "code",
   "execution_count": 7,
   "metadata": {},
   "outputs": [
    {
     "data": {
      "text/html": [
       "<div>\n",
       "<style scoped>\n",
       "    .dataframe tbody tr th:only-of-type {\n",
       "        vertical-align: middle;\n",
       "    }\n",
       "\n",
       "    .dataframe tbody tr th {\n",
       "        vertical-align: top;\n",
       "    }\n",
       "\n",
       "    .dataframe thead th {\n",
       "        text-align: right;\n",
       "    }\n",
       "</style>\n",
       "<table border=\"1\" class=\"dataframe\">\n",
       "  <thead>\n",
       "    <tr style=\"text-align: right;\">\n",
       "      <th></th>\n",
       "      <th>0</th>\n",
       "      <th>1</th>\n",
       "    </tr>\n",
       "  </thead>\n",
       "  <tbody>\n",
       "    <tr>\n",
       "      <th>0</th>\n",
       "      <td>5</td>\n",
       "      <td>-497.0</td>\n",
       "    </tr>\n",
       "    <tr>\n",
       "      <th>1</th>\n",
       "      <td>6</td>\n",
       "      <td>5.0</td>\n",
       "    </tr>\n",
       "    <tr>\n",
       "      <th>2</th>\n",
       "      <td>7</td>\n",
       "      <td>-313.0</td>\n",
       "    </tr>\n",
       "    <tr>\n",
       "      <th>3</th>\n",
       "      <td>8</td>\n",
       "      <td>-296.0</td>\n",
       "    </tr>\n",
       "    <tr>\n",
       "      <th>4</th>\n",
       "      <td>9</td>\n",
       "      <td>-166.0</td>\n",
       "    </tr>\n",
       "  </tbody>\n",
       "</table>\n",
       "</div>"
      ],
      "text/plain": [
       "   0      1\n",
       "0  5 -497.0\n",
       "1  6    5.0\n",
       "2  7 -313.0\n",
       "3  8 -296.0\n",
       "4  9 -166.0"
      ]
     },
     "execution_count": 7,
     "metadata": {},
     "output_type": "execute_result"
    }
   ],
   "source": [
    "df_y.head()"
   ]
  },
  {
   "cell_type": "code",
   "execution_count": 8,
   "metadata": {},
   "outputs": [
    {
     "data": {
      "text/plain": [
       "0   -497.0\n",
       "1      5.0\n",
       "2   -313.0\n",
       "3   -296.0\n",
       "4   -166.0\n",
       "Name: 1, dtype: float64"
      ]
     },
     "execution_count": 8,
     "metadata": {},
     "output_type": "execute_result"
    }
   ],
   "source": [
    "y=df_y[1]\n",
    "y.head()"
   ]
  },
  {
   "cell_type": "code",
   "execution_count": 9,
   "metadata": {},
   "outputs": [
    {
     "data": {
      "text/plain": [
       "(125675,)"
      ]
     },
     "execution_count": 9,
     "metadata": {},
     "output_type": "execute_result"
    }
   ],
   "source": [
    "y.shape"
   ]
  },
  {
   "cell_type": "code",
   "execution_count": 10,
   "metadata": {},
   "outputs": [
    {
     "data": {
      "text/html": [
       "<div>\n",
       "<style scoped>\n",
       "    .dataframe tbody tr th:only-of-type {\n",
       "        vertical-align: middle;\n",
       "    }\n",
       "\n",
       "    .dataframe tbody tr th {\n",
       "        vertical-align: top;\n",
       "    }\n",
       "\n",
       "    .dataframe thead th {\n",
       "        text-align: right;\n",
       "    }\n",
       "</style>\n",
       "<table border=\"1\" class=\"dataframe\">\n",
       "  <thead>\n",
       "    <tr style=\"text-align: right;\">\n",
       "      <th></th>\n",
       "      <th>Unnamed: 0</th>\n",
       "      <th>lead_organizer_created_at_pdt_hour</th>\n",
       "      <th>creator_id</th>\n",
       "      <th>claimed_at_pdt_hour_14</th>\n",
       "      <th>origin_region_name_East Bay South</th>\n",
       "      <th>scheduled_starts_at_pdt_month</th>\n",
       "      <th>carpool_int</th>\n",
       "      <th>scheduled_starts_at_pdt_weekofyear</th>\n",
       "      <th>scheduled_starts_at_pdt_hour_2</th>\n",
       "      <th>origin_region_name_Central LA - West</th>\n",
       "      <th>...</th>\n",
       "      <th>destination_region_id</th>\n",
       "      <th>claimed_at_pdt_hour_6</th>\n",
       "      <th>organizers_count</th>\n",
       "      <th>scheduled_starts_at_pdt_hour_5</th>\n",
       "      <th>scheduled_starts_at_pdt_hour_6</th>\n",
       "      <th>origin_region_name_Ventura</th>\n",
       "      <th>lead_organizer_created_at_pdt_month</th>\n",
       "      <th>scheduled_starts_at_pdt_month_2</th>\n",
       "      <th>origin_region_name_Pomona Valley</th>\n",
       "      <th>driver_id</th>\n",
       "    </tr>\n",
       "  </thead>\n",
       "  <tbody>\n",
       "    <tr>\n",
       "      <th>0</th>\n",
       "      <td>5</td>\n",
       "      <td>19</td>\n",
       "      <td>81281</td>\n",
       "      <td>0</td>\n",
       "      <td>0</td>\n",
       "      <td>2</td>\n",
       "      <td>0</td>\n",
       "      <td>7</td>\n",
       "      <td>0</td>\n",
       "      <td>0</td>\n",
       "      <td>...</td>\n",
       "      <td>36.0</td>\n",
       "      <td>0</td>\n",
       "      <td>1.0</td>\n",
       "      <td>0</td>\n",
       "      <td>0</td>\n",
       "      <td>0</td>\n",
       "      <td>7</td>\n",
       "      <td>1</td>\n",
       "      <td>0</td>\n",
       "      <td>62969.0</td>\n",
       "    </tr>\n",
       "    <tr>\n",
       "      <th>1</th>\n",
       "      <td>6</td>\n",
       "      <td>19</td>\n",
       "      <td>80068</td>\n",
       "      <td>0</td>\n",
       "      <td>0</td>\n",
       "      <td>1</td>\n",
       "      <td>0</td>\n",
       "      <td>4</td>\n",
       "      <td>0</td>\n",
       "      <td>0</td>\n",
       "      <td>...</td>\n",
       "      <td>36.0</td>\n",
       "      <td>0</td>\n",
       "      <td>1.0</td>\n",
       "      <td>0</td>\n",
       "      <td>0</td>\n",
       "      <td>0</td>\n",
       "      <td>7</td>\n",
       "      <td>0</td>\n",
       "      <td>0</td>\n",
       "      <td>62969.0</td>\n",
       "    </tr>\n",
       "    <tr>\n",
       "      <th>2</th>\n",
       "      <td>7</td>\n",
       "      <td>20</td>\n",
       "      <td>87802</td>\n",
       "      <td>0</td>\n",
       "      <td>0</td>\n",
       "      <td>2</td>\n",
       "      <td>0</td>\n",
       "      <td>6</td>\n",
       "      <td>0</td>\n",
       "      <td>0</td>\n",
       "      <td>...</td>\n",
       "      <td>48.0</td>\n",
       "      <td>0</td>\n",
       "      <td>1.0</td>\n",
       "      <td>0</td>\n",
       "      <td>0</td>\n",
       "      <td>0</td>\n",
       "      <td>7</td>\n",
       "      <td>1</td>\n",
       "      <td>0</td>\n",
       "      <td>62969.0</td>\n",
       "    </tr>\n",
       "    <tr>\n",
       "      <th>3</th>\n",
       "      <td>8</td>\n",
       "      <td>20</td>\n",
       "      <td>81561</td>\n",
       "      <td>0</td>\n",
       "      <td>0</td>\n",
       "      <td>1</td>\n",
       "      <td>0</td>\n",
       "      <td>4</td>\n",
       "      <td>0</td>\n",
       "      <td>0</td>\n",
       "      <td>...</td>\n",
       "      <td>36.0</td>\n",
       "      <td>0</td>\n",
       "      <td>1.0</td>\n",
       "      <td>0</td>\n",
       "      <td>0</td>\n",
       "      <td>0</td>\n",
       "      <td>7</td>\n",
       "      <td>0</td>\n",
       "      <td>0</td>\n",
       "      <td>62969.0</td>\n",
       "    </tr>\n",
       "    <tr>\n",
       "      <th>4</th>\n",
       "      <td>9</td>\n",
       "      <td>19</td>\n",
       "      <td>76793</td>\n",
       "      <td>0</td>\n",
       "      <td>0</td>\n",
       "      <td>1</td>\n",
       "      <td>0</td>\n",
       "      <td>4</td>\n",
       "      <td>0</td>\n",
       "      <td>0</td>\n",
       "      <td>...</td>\n",
       "      <td>33.0</td>\n",
       "      <td>0</td>\n",
       "      <td>1.0</td>\n",
       "      <td>0</td>\n",
       "      <td>0</td>\n",
       "      <td>0</td>\n",
       "      <td>7</td>\n",
       "      <td>0</td>\n",
       "      <td>0</td>\n",
       "      <td>62969.0</td>\n",
       "    </tr>\n",
       "  </tbody>\n",
       "</table>\n",
       "<p>5 rows × 215 columns</p>\n",
       "</div>"
      ],
      "text/plain": [
       "   Unnamed: 0  lead_organizer_created_at_pdt_hour  creator_id  \\\n",
       "0           5                                  19       81281   \n",
       "1           6                                  19       80068   \n",
       "2           7                                  20       87802   \n",
       "3           8                                  20       81561   \n",
       "4           9                                  19       76793   \n",
       "\n",
       "   claimed_at_pdt_hour_14  origin_region_name_East Bay South  \\\n",
       "0                       0                                  0   \n",
       "1                       0                                  0   \n",
       "2                       0                                  0   \n",
       "3                       0                                  0   \n",
       "4                       0                                  0   \n",
       "\n",
       "   scheduled_starts_at_pdt_month  carpool_int  \\\n",
       "0                              2            0   \n",
       "1                              1            0   \n",
       "2                              2            0   \n",
       "3                              1            0   \n",
       "4                              1            0   \n",
       "\n",
       "   scheduled_starts_at_pdt_weekofyear  scheduled_starts_at_pdt_hour_2  \\\n",
       "0                                   7                               0   \n",
       "1                                   4                               0   \n",
       "2                                   6                               0   \n",
       "3                                   4                               0   \n",
       "4                                   4                               0   \n",
       "\n",
       "   origin_region_name_Central LA - West    ...      destination_region_id  \\\n",
       "0                                     0    ...                       36.0   \n",
       "1                                     0    ...                       36.0   \n",
       "2                                     0    ...                       48.0   \n",
       "3                                     0    ...                       36.0   \n",
       "4                                     0    ...                       33.0   \n",
       "\n",
       "   claimed_at_pdt_hour_6  organizers_count  scheduled_starts_at_pdt_hour_5  \\\n",
       "0                      0               1.0                               0   \n",
       "1                      0               1.0                               0   \n",
       "2                      0               1.0                               0   \n",
       "3                      0               1.0                               0   \n",
       "4                      0               1.0                               0   \n",
       "\n",
       "   scheduled_starts_at_pdt_hour_6  origin_region_name_Ventura  \\\n",
       "0                               0                           0   \n",
       "1                               0                           0   \n",
       "2                               0                           0   \n",
       "3                               0                           0   \n",
       "4                               0                           0   \n",
       "\n",
       "   lead_organizer_created_at_pdt_month  scheduled_starts_at_pdt_month_2  \\\n",
       "0                                    7                                1   \n",
       "1                                    7                                0   \n",
       "2                                    7                                1   \n",
       "3                                    7                                0   \n",
       "4                                    7                                0   \n",
       "\n",
       "   origin_region_name_Pomona Valley  driver_id  \n",
       "0                                 0    62969.0  \n",
       "1                                 0    62969.0  \n",
       "2                                 0    62969.0  \n",
       "3                                 0    62969.0  \n",
       "4                                 0    62969.0  \n",
       "\n",
       "[5 rows x 215 columns]"
      ]
     },
     "execution_count": 10,
     "metadata": {},
     "output_type": "execute_result"
    }
   ],
   "source": [
    "df_X.head()"
   ]
  },
  {
   "cell_type": "code",
   "execution_count": 11,
   "metadata": {},
   "outputs": [
    {
     "data": {
      "text/plain": [
       "count    125675.0\n",
       "mean       -416.0\n",
       "std         509.0\n",
       "min       -1800.0\n",
       "25%        -657.0\n",
       "50%        -324.0\n",
       "75%         -96.0\n",
       "max        1800.0\n",
       "Name: 1, dtype: float64"
      ]
     },
     "execution_count": 11,
     "metadata": {},
     "output_type": "execute_result"
    }
   ],
   "source": [
    "y.describe().round()"
   ]
  },
  {
   "cell_type": "code",
   "execution_count": 12,
   "metadata": {},
   "outputs": [],
   "source": [
    "# break df_X,y into test and train sets\n",
    "from sklearn.model_selection import train_test_split\n",
    "X_train, X_test, y_train, y_test = train_test_split(df_X, y, test_size=0.20, random_state=808)"
   ]
  },
  {
   "cell_type": "code",
   "execution_count": 13,
   "metadata": {},
   "outputs": [
    {
     "name": "stdout",
     "output_type": "stream",
     "text": [
      "(100540, 215)\n",
      "(25135, 215)\n",
      "(100540,)\n",
      "(25135,)\n"
     ]
    }
   ],
   "source": [
    "for i in X_train, X_test, y_train, y_test:\n",
    "    print(i.shape)"
   ]
  },
  {
   "cell_type": "code",
   "execution_count": 56,
   "metadata": {},
   "outputs": [],
   "source": [
    "# select a linear model\n",
    "import sklearn.linear_model\n",
    "model=sklearn.linear_model.SGDRegressor(max_iter=10000)"
   ]
  },
  {
   "cell_type": "code",
   "execution_count": 57,
   "metadata": {},
   "outputs": [],
   "source": [
    "# fit model\n",
    "model=model.fit(X_train,y_train)"
   ]
  },
  {
   "cell_type": "code",
   "execution_count": 58,
   "metadata": {
    "scrolled": true
   },
   "outputs": [
    {
     "data": {
      "text/plain": [
       "array([-2.15150791e+15,  9.41621960e+11,  8.56439469e+14,  1.99939501e+11,\n",
       "        2.77887892e+10,  2.26135097e+11, -1.93672687e+10,  7.52468956e+10,\n",
       "        0.00000000e+00,  1.16336469e+11,  1.68301155e+11, -2.17425334e+11,\n",
       "        7.01858163e+10, -2.18114403e+10, -6.44488351e+12, -6.88961728e+11,\n",
       "       -1.86160341e+11,  4.30277100e+10,  1.58025416e+09,  1.20657801e+11,\n",
       "       -1.50840771e+12, -2.14466614e+11, -1.60513985e+12, -1.39650575e+11,\n",
       "       -4.61591566e+11, -4.45595124e+10, -1.14804308e+11, -4.33523204e+12,\n",
       "       -1.45002027e+11,  3.36710175e+11,  1.55456023e+09,  4.32560697e+10,\n",
       "       -3.88998349e+10, -3.83727047e+10, -4.71501475e+10, -3.20633126e+12,\n",
       "       -1.43079712e+10, -1.20878804e+11, -1.45354391e+11,  1.78170928e+10,\n",
       "        2.26973597e+11,  2.68984238e+10,  6.57626301e+10,  7.52468956e+10,\n",
       "        1.96493213e+15, -1.86078017e+15,  2.10225700e+11, -3.30314162e+11,\n",
       "        2.85410299e+11,  1.16201018e+11, -6.89142587e+11,  1.82485123e+10,\n",
       "        5.11094159e+10,  2.60083416e+10, -5.95995360e+10, -3.76572171e+10,\n",
       "       -2.09308126e+11, -1.98971352e+11,  1.51967469e+11, -7.81193425e+09,\n",
       "       -1.63953048e+11,  3.04296314e+10, -8.91628177e+11, -1.07324278e+11,\n",
       "       -9.44466028e+09, -4.46705166e+11, -1.60887377e+11, -2.69241576e+12,\n",
       "       -7.18824308e+10, -1.40804042e+12, -3.51332899e+11,  3.06672334e+11,\n",
       "       -6.53647654e+12,  5.39175821e+11,  1.81991074e+10,  1.77651750e+10,\n",
       "        5.79413578e+10,  1.82485123e+10,  5.41648899e+10, -9.61754298e+09,\n",
       "       -9.89302922e+10,  4.45334325e+10, -5.17047831e+12,  6.56490380e+10,\n",
       "       -8.18495341e+10,  4.54516539e+09, -1.03406372e+11, -8.74543890e+10,\n",
       "        1.76359116e+10,  4.59014294e+12,  6.14141965e+10,  1.22697197e+11,\n",
       "       -6.12237034e+08,  1.85573894e+13, -1.69582440e+11,  2.57499833e+12,\n",
       "        8.71102723e+11,  0.00000000e+00,  5.69886280e+10, -1.54418357e+13,\n",
       "       -3.71184679e+10,  3.40646497e+10, -9.04895269e+11, -1.27790966e+11,\n",
       "        6.30394558e+10,  2.94694609e+10,  9.46760827e+14,  2.91654699e+12,\n",
       "       -1.91003508e+11,  3.08302880e+14, -1.51581424e+11,  4.72924544e+12,\n",
       "        1.99792224e+10,  1.01394123e+13,  1.55456023e+09, -2.11721649e+11,\n",
       "       -1.01810717e+15,  3.06371983e+15, -3.69261749e+10,  1.36393001e+10,\n",
       "       -3.58260015e+12,  1.31712420e+11,  3.07637385e+11, -9.28659170e+09,\n",
       "       -3.64895608e+10, -4.47699711e+10, -9.20496972e+08, -1.74147218e+13,\n",
       "       -7.31408475e+12, -1.97941094e+11,  1.76531699e+11,  2.26972185e+15,\n",
       "       -1.25602939e+11,  2.04827617e+15,  3.34792220e+11, -1.94092393e+10,\n",
       "        1.24182353e+11,  1.07896621e+11, -4.19637898e+10,  1.71209965e+11,\n",
       "       -2.18706960e+11, -6.91124288e+12, -1.31941408e+11, -1.03163916e+11,\n",
       "        8.80035519e+11, -1.88246338e+11,  1.79059139e+10,  2.26135097e+11,\n",
       "        6.07567871e+10,  1.12897619e+10,  2.39963424e+10, -3.86642420e+14,\n",
       "        1.07266736e+11, -1.30050610e+12, -1.01819012e+15,  1.15368836e+11,\n",
       "        3.64483164e+14, -6.79923124e+10, -1.12568117e+12, -1.39498091e+11,\n",
       "        4.33656732e+10,  3.72991948e+11,  5.10601722e+10, -1.31101763e+11,\n",
       "        1.57276553e+11, -2.85918610e+11, -2.55138974e+09, -9.73705114e+12,\n",
       "        8.30274713e+10, -7.75403227e+10, -2.24690942e+10,  6.75504265e+10,\n",
       "       -8.07432000e+09, -3.14400476e+10,  6.12688832e+10, -1.13107825e+10,\n",
       "        2.06762269e+10,  3.66057837e+11,  1.03010486e+15,  4.78373517e+11,\n",
       "       -5.41324902e+09,  7.96790005e+11,  8.33440314e+13,  1.04908908e+10,\n",
       "        8.09612459e+10,  4.45434666e+10, -8.78922195e+10,  4.23399244e+10,\n",
       "       -1.70514052e+10,  1.43496330e+12, -1.65351120e+11, -1.23951680e+08,\n",
       "       -3.60242505e+09, -7.60417323e+09, -1.46839577e+10,  4.92295882e+10,\n",
       "       -2.03629730e+15, -1.45182886e+11,  1.90602099e+10, -3.42903489e+11,\n",
       "        7.26642169e+13, -7.31390389e+12,  3.19070665e+10,  4.16145072e+10,\n",
       "       -2.65633020e+13, -1.55558128e+12,  2.26963944e+09, -6.25487040e+10,\n",
       "       -1.20409913e+09,  5.76282372e+10, -3.77093014e+10, -5.89120037e+11,\n",
       "        2.05467176e+10, -7.69552878e+09,  5.20908994e+14])"
      ]
     },
     "execution_count": 58,
     "metadata": {},
     "output_type": "execute_result"
    }
   ],
   "source": [
    "model.coef_"
   ]
  },
  {
   "cell_type": "code",
   "execution_count": 59,
   "metadata": {
    "scrolled": true
   },
   "outputs": [
    {
     "data": {
      "text/plain": [
       "0     -2151507910260358\n",
       "1          941621959763\n",
       "2       856439469294688\n",
       "3          199939500798\n",
       "4           27788789233\n",
       "5          226135097044\n",
       "6          -19367268653\n",
       "7           75246895605\n",
       "8                     0\n",
       "9          116336469283\n",
       "10         168301155362\n",
       "11        -217425334284\n",
       "12          70185816257\n",
       "13         -21811440305\n",
       "14       -6444883513345\n",
       "15        -688961727875\n",
       "16        -186160341040\n",
       "17          43027709990\n",
       "18           1580254164\n",
       "19         120657801394\n",
       "20       -1508407710877\n",
       "21        -214466614201\n",
       "22       -1605139847597\n",
       "23        -139650575415\n",
       "24        -461591566445\n",
       "25         -44559512395\n",
       "26        -114804307906\n",
       "27       -4335232040674\n",
       "28        -145002026910\n",
       "29         336710175078\n",
       "             ...       \n",
       "185         44543466585\n",
       "186        -87892219466\n",
       "187         42339924438\n",
       "188        -17051405239\n",
       "189       1434963300979\n",
       "190       -165351119588\n",
       "191          -123951680\n",
       "192         -3602425046\n",
       "193         -7604173228\n",
       "194        -14683957737\n",
       "195         49229588231\n",
       "196   -2036297295681085\n",
       "197       -145182886313\n",
       "198         19060209884\n",
       "199       -342903489115\n",
       "200      72664216892332\n",
       "201      -7313903891186\n",
       "202         31907066490\n",
       "203         41614507188\n",
       "204     -26563302020223\n",
       "205      -1555581277383\n",
       "206          2269639436\n",
       "207        -62548703958\n",
       "208         -1204099129\n",
       "209         57628237188\n",
       "210        -37709301402\n",
       "211       -589120036654\n",
       "212         20546717642\n",
       "213         -7695528778\n",
       "214     520908994156873\n",
       "Length: 215, dtype: int64"
      ]
     },
     "execution_count": 59,
     "metadata": {},
     "output_type": "execute_result"
    }
   ],
   "source": [
    "pd.Series(model.coef_).astype(int)"
   ]
  },
  {
   "cell_type": "code",
   "execution_count": 60,
   "metadata": {},
   "outputs": [
    {
     "data": {
      "text/plain": [
       "array([2.43695701e+11])"
      ]
     },
     "execution_count": 60,
     "metadata": {},
     "output_type": "execute_result"
    }
   ],
   "source": [
    "model.intercept_"
   ]
  },
  {
   "cell_type": "code",
   "execution_count": 61,
   "metadata": {},
   "outputs": [
    {
     "data": {
      "text/plain": [
       "Unnamed: 0                               6.259357e+04\n",
       "lead_organizer_created_at_pdt_hour       4.782270e+00\n",
       "creator_id                               2.835762e+04\n",
       "claimed_at_pdt_hour_14                   2.110560e-01\n",
       "origin_region_name_East Bay South        1.291162e-01\n",
       "scheduled_starts_at_pdt_month            3.471655e+00\n",
       "carpool_int                              1.312920e-01\n",
       "scheduled_starts_at_pdt_weekofyear       1.507374e+01\n",
       "scheduled_starts_at_pdt_hour_2           0.000000e+00\n",
       "origin_region_name_Central LA - West     2.467008e-01\n",
       "claimed_at_pdt_weekday_5                 2.344145e-01\n",
       "lead_organizer_created_at_pdt_quarter    8.076552e-01\n",
       "claimed_at_pdt_month_3                   2.793281e-01\n",
       "claimed_at_pdt_hour_8                    2.012094e-01\n",
       "total_predicted_duration                 1.252958e+01\n",
       "scheduled_starts_at_pdt_weekday          1.357037e+00\n",
       "claimed_at_pdt_month_10                  3.337243e-01\n",
       "lead_organizer_platform_web              7.853678e-02\n",
       "is_same_day_ride_int                     1.590459e-01\n",
       "origin_region_name_Tri Valley            1.269005e-01\n",
       "driver_created_at_pdt_hour               2.327039e+00\n",
       "passengers_count                         5.874265e-01\n",
       "organizer_home_lat                       3.493593e+00\n",
       "scheduled_starts_at_pdt_weekday_4        3.646652e-01\n",
       "driver_home_lat                          1.476480e+00\n",
       "origin_region_name_North Bay             8.977842e-02\n",
       "scheduled_starts_at_pdt_weekday_3        4.145787e-01\n",
       "total_predicted_distance_miles           5.668047e+00\n",
       "scheduled_starts_at_pdt_dayofyear        1.054582e+02\n",
       "scheduled_starts_at_pdt_weekday_1        4.133796e-01\n",
       "                                             ...     \n",
       "coupon_consumed                          7.915962e-02\n",
       "scheduled_starts_at_pdt_month_6          2.505018e-01\n",
       "claimed_at_pdt_month_5                   2.864879e-01\n",
       "scheduled_starts_at_pdt_hour_4           2.043462e-02\n",
       "created_at_pdt_weekday                   2.166007e+00\n",
       "claimed_at_pdt_month_4                   2.604898e-01\n",
       "scheduled_starts_at_pdt_hour_3           3.153774e-03\n",
       "scheduled_starts_at_pdt_month_12         2.637374e-01\n",
       "origin_region_name_Southeast LA          6.079670e-02\n",
       "scheduled_starts_at_pdt_hour_17          2.635451e-01\n",
       "scheduled_starts_at_pdt_hour_20          8.857118e-02\n",
       "org_signup_before_trip_start_secs        1.297236e+07\n",
       "scheduled_ends_at_pdt_dayofyear          1.054582e+02\n",
       "claimed_at_pdt_hour_5                    1.150550e-01\n",
       "origin_lat                               1.466141e+00\n",
       "id                                       9.032390e+04\n",
       "scheduled_starts_at_pdt_day              8.724887e+00\n",
       "claimed_at_pdt_hour_3                    6.835683e-02\n",
       "origin_region_name_South Bay             2.274818e-01\n",
       "claimed_after_created                    3.024465e+04\n",
       "destination_region_id                    1.422844e+01\n",
       "claimed_at_pdt_hour_6                    1.799625e-01\n",
       "organizers_count                         1.717336e-01\n",
       "scheduled_starts_at_pdt_hour_5           3.729015e-02\n",
       "scheduled_starts_at_pdt_hour_6           1.417350e-01\n",
       "origin_region_name_Ventura               7.248199e-02\n",
       "lead_organizer_created_at_pdt_month      2.500288e+00\n",
       "scheduled_starts_at_pdt_month_2          2.649988e-01\n",
       "origin_region_name_Pomona Valley         2.618835e-02\n",
       "driver_id                                3.646652e+04\n",
       "Length: 215, dtype: float64"
      ]
     },
     "execution_count": 61,
     "metadata": {},
     "output_type": "execute_result"
    }
   ],
   "source": [
    "X_train.std()"
   ]
  },
  {
   "cell_type": "code",
   "execution_count": 62,
   "metadata": {},
   "outputs": [
    {
     "name": "stdout",
     "output_type": "stream",
     "text": [
      "claimed_at_pdt_hour_1                             -1463574705014\n",
      "origin_region_name_San Francisco                  -1245737062248\n",
      "scheduled_starts_at_pdt_hour_21                   -1146182897897\n",
      "origin_region_name_San Jose                       -1132395076164\n",
      "origin_region_name_Westside                        -944598412791\n",
      "claimed_at_pdt_weekday_3                           -916582016790\n",
      "predicted_driver_fare                              -877058054702\n",
      "claimed_at_pdt_hour_17                             -870289046005\n",
      "scheduled_ends_at_pdt_day                          -838301049736\n",
      "scheduled_starts_at_pdt_day                        -838280665294\n",
      "scheduled_starts_at_pdt_hour_4                     -834436979267\n",
      "claimed_at_pdt_hour_16                             -819907298007\n",
      "trip_predicted_raw_fare                            -796679905526\n",
      "driver_created_at_pdt_day                          -767698857914\n",
      "total_predicted_distance_miles                     -764854671881\n",
      "claimed_at_pdt_weekday_4                           -722799038951\n",
      "claimed_at_pdt_hour_23                             -687312310734\n",
      "driver_created_at_pdt_hour                         -648209065392\n",
      "claimed_at_pdt_month_4                             -634770052824\n",
      "origin_region_name_Peninsula North                 -619997588316\n",
      "route_legs_count                                   -586308910909\n",
      "lead_organizer_platform_ios                        -576348972423\n",
      "scheduled_starts_at_pdt_hour_13                    -571249072544\n",
      "driver_created_at_pdt_weekday                      -563577549899\n",
      "claimed_at_pdt_month_10                            -557826744396\n",
      "driver_gender_male                                 -536820953717\n",
      "scheduled_starts_at_pdt_hour_12                    -532217430701\n",
      "scheduled_starts_at_pdt_hour_23                    -520616307692\n",
      "origin_region_name_Ventura                         -520257566203\n",
      "total_predicted_duration                           -514373306565\n",
      "trip_est_duration_secs                             -514305869963\n",
      "scheduled_ends_at_pdt_weekday                      -507791637813\n",
      "scheduled_starts_at_pdt_weekday                    -507695465698\n",
      "claimed_at_pdt_weekday_2                           -500234003678\n",
      "origin_region_name_North Bay                       -496327632897\n",
      "claimed_at_pdt_hour_9                              -475141204348\n",
      "organizer_home_lat                                 -459452465722\n",
      "claimed_at_pdt_quarter_2                           -458240887726\n",
      "scheduled_starts_at_pdt_month_10                   -438843125429\n",
      "claimed_at_pdt_month_12                            -436218568273\n",
      "claimed_at_pdt_hour_12                             -383908003490\n",
      "scheduled_starts_at_pdt_quarter_2                  -383859836679\n",
      "scheduled_starts_at_pdt_weekday_4                  -382955579555\n",
      "passengers_count                                   -365095256298\n",
      "claimed_at_pdt_day                                 -364834648253\n",
      "scheduled_starts_at_pdt_weekday_2                  -364222428528\n",
      "organizers_count                                   -364219452650\n",
      "claimed_at_pdt_hour_22                             -355323871792\n",
      "scheduled_starts_at_pdt_month_6                    -350864558138\n",
      "scheduled_starts_at_pdt_hour                       -345323899715\n",
      "driver_home_lat                                    -312629683137\n",
      "origin_region_name_Long Beach                      -311251473704\n",
      "scheduled_starts_at_pdt_month_4                    -310779551603\n",
      "scheduled_ends_at_pdt_hour                         -297739463550\n",
      "origin_region_name_Pomona Valley                   -293853102182\n",
      "origin_region_name_antelope-valley                 -291871576914\n",
      "claimed_at_pdt_month_6                             -285378581945\n",
      "scheduled_starts_at_pdt_weekday_3                  -276917998887\n",
      "lead_organizer_created_at_pdt_quarter              -269205649591\n",
      "driver_has_driven_this_route_before_int            -264980152095\n",
      "origin_region_id                                   -251540745745\n",
      "lead_organizer_created_at_pdt_weekofyear           -246826782302\n",
      "scheduled_starts_at_pdt_hour_15                    -240649134549\n",
      "destination_lat                                    -239610787620\n",
      "lead_organizer_created_at_pdt_month                -235620918198\n",
      "origin_lat                                         -233881625556\n",
      "claimed_at_pdt_weekday                             -222904653162\n",
      "scheduled_starts_at_pdt_month_7                    -216155422797\n",
      "scheduled_starts_at_pdt_hour_22                    -213329416809\n",
      "origin_region_name_Orange County - South           -210540640219\n",
      "lead_organizer_created_at_pdt_dayofyear            -201443716082\n",
      "claimed_at_pdt_hour_7                              -183840942735\n",
      "is_repeating_ride_int                              -171915550296\n",
      "origin_region_name_Orange County - Central         -167778119812\n",
      "created_at_pdt_day                                 -158185147868\n",
      "origin_region_name_Orange County - West            -150991543870\n",
      "carpool_int                                        -147512930231\n",
      "origin_region_name_San Gabriel Valley - West       -147365149408\n",
      "claimed_at_pdt_month_7                             -141579324720\n",
      "origin_region_name_Southeast LA                    -125075421066\n",
      "scheduled_starts_at_pdt_month_9                    -116027253473\n",
      "claimed_at_pdt_quarter                             -115090870787\n",
      "destination_region_id                              -109328983477\n",
      "claimed_at_pdt_hour_8                              -108401678673\n",
      "origin_region_name_San Gabriel Valley - East       -106608942550\n",
      "claimed_at_pdt_hour_11                              -97748019762\n",
      "origin_region_name_Inland Empire                    -88628142872\n",
      "origin_region_name_South LA                         -87957206789\n",
      "lead_organizer_previous_completed_trips             -83784228367\n",
      "origin_region_name_Central LA - South               -73414858832\n",
      "claimed_at_pdt_dayofyear                            -61929515290\n",
      "claimed_at_pdt_weekofyear                           -60010071350\n",
      "scheduled_starts_at_pdt_hour_17                     -55717067075\n",
      "destination_location_id                             -50445024103\n",
      "scheduled_starts_at_pdt_hour_3                      -39302652224\n",
      "claimed_at_pdt_month                                -34788103841\n",
      "Unnamed: 0                                          -34372665161\n",
      "scheduled_starts_at_pdt_hour_5                      -32290003285\n",
      "claimed_at_pdt_quarter_4                            -17670014584\n",
      "scheduled_starts_at_pdt_hour_16                     -17443655085\n",
      "scheduled_starts_at_pdt_month_12                    -13659136275\n",
      "scheduled_starts_at_pdt_hour_14                      -7259057375\n",
      "scheduled_starts_at_pdt_quarter_3                    -1454313786\n",
      "scheduled_ends_at_pdt_dayofyear                      -1376686359\n",
      "scheduled_starts_at_pdt_dayofyear                    -1374970950\n",
      "claimed_after_created                                 -878280959\n",
      "trip_created_before_trip_start_secs                   -530259758\n",
      "org_signup_before_trip_start_secs                     -156972042\n",
      "org_signup_before_trip_created_secs                    -78625139\n",
      "driver_signup_before_trip_claimed_secs                   6738433\n",
      "driver_signup_before_trip_start_secs                    83230907\n",
      "driver_signup_before_trip_created_secs                 164277161\n",
      "driver_signup_before_org_signup_secs                   177743186\n",
      "id                                                     804484951\n",
      "trip_claimed_after_trip_created                       1082743589\n",
      "claimed_before_trip_start_secs                        3974721449\n",
      "scheduled_ends_at_pdt_weekofyear                      4991917817\n",
      "scheduled_starts_at_pdt_weekofyear                    4991917817\n",
      "is_same_day_ride_int                                  9935839531\n",
      "lead_organizer_id                                    10870073068\n",
      "claimed_at_pdt_hour_6                                12611732440\n",
      "driver_id                                            14284582214\n",
      "scheduled_starts_at_pdt_month_5                      15620539289\n",
      "scheduled_starts_at_pdt_quarter                      15864500495\n",
      "scheduled_ends_at_pdt_quarter                        15864500495\n",
      "created_at_pdt_weekofyear                            22043338245\n",
      "creator_id                                           30201390997\n",
      "driver_created_at_pdt_dayofyear                      36118820090\n",
      "driver_created_at_pdt_weekofyear                     47032184678\n",
      "origin_analysis_metro_name_OC                        51277266982\n",
      "driver_previous_completed_trips                      54137451437\n",
      "claimed_at_pdt_month_9                               55619645894\n",
      "origin_location_id                                   61677103970\n",
      "trip_template_id                                     63551917687\n",
      "scheduled_ends_at_pdt_month                          65137558020\n",
      "scheduled_starts_at_pdt_month                        65137558020\n",
      "scheduled_starts_at_pdt_month_2                      77535136263\n",
      "origin_region_name_San Fernando Valley - West        94401776533\n",
      "created_at_pdt_dayofyear                             95291065547\n",
      "created_at_pdt_hour                                  95802588610\n",
      "claimed_at_pdt_quarter_3                            101595779901\n",
      "created_at_pdt_month                                106672497689\n",
      "scheduled_starts_at_pdt_hour_9                      113822456227\n",
      "scheduled_starts_at_pdt_hour_8                      116740555134\n",
      "driver_created_at_pdt_month                         117659749284\n",
      "scheduled_starts_at_pdt_quarter_4                   132856707836\n",
      "origin_region_name_Oakland Berkeley                 136824853869\n",
      "created_at_pdt_quarter                              138536569109\n",
      "origin_region_name_San Fernando Valley - East       140070630766\n",
      "origin_region_name_Santa Clarita                    141688414520\n",
      "scheduled_starts_at_pdt_hour_19                     143376180911\n",
      "claimed_at_pdt_month_5                              147789580576\n",
      "driver_created_at_pdt_quarter                       149383718893\n",
      "drivers_prev_ride_1hr_int                           149775488180\n",
      "lead_organizer_created_at_pdt_weekday               161469881493\n",
      "scheduled_starts_at_pdt_hour_10                     162666537828\n",
      "claimed_at_pdt_hour_5                               165661767449\n",
      "scheduled_starts_at_pdt_weekday_5                   168571273505\n",
      "origin_analysis_metro_name_LA                       171038254789\n",
      "scheduled_starts_at_pdt_month_3                     176788196554\n",
      "origin_region_name_South Bay                        182935583500\n",
      "lead_organizer_created_at_pdt_hour                  196898528700\n",
      "origin_region_name_East Contra Costa                208983535893\n",
      "origin_region_name_East Bay South                   215223044700\n",
      "claimed_at_pdt_month_2                              216758591039\n",
      "claimed_at_pdt_month_8                              221186733424\n",
      "claimed_at_pdt_hour_4                               243761472628\n",
      "origin_analysis_metro_name_Default (Unassigned)     246463991268\n",
      "origin_region_name_Default (Unassigned)             246463991268\n",
      "claimed_at_pdt_month_3                              251266600259\n",
      "claimed_at_pdt_hour_21                              272170779641\n",
      "lead_organizer_created_at_pdt_day                   275423370126\n",
      "origin_region_name_Eastside                         278063542591\n",
      "claimed_at_pdt_hour_13                              294518871234\n",
      "origin_region_name_Peninsula South                  306728054759\n",
      "claimed_at_pdt_weekday_6                            311746921231\n",
      "scheduled_starts_at_pdt_month_8                     327916338043\n",
      "scheduled_starts_at_pdt_hour_7                      333175763227\n",
      "scheduled_starts_at_pdt_hour_11                     379162637796\n",
      "scheduled_starts_at_pdt_hour_6                      406591331852\n",
      "scheduled_starts_at_pdt_weekday_6                   427260635794\n",
      "claimed_at_pdt_hour_2                               428753044009\n",
      "organizer_home_lon                                  429632274603\n",
      "claimed_at_pdt_hour_3                               466772207216\n",
      "driver_home_lon                                     469588652399\n",
      "origin_region_name_Central LA - West                471569163947\n",
      "origin_region_name_Malibu                           489908413640\n",
      "claimed_at_pdt_hour_18                              521317252631\n",
      "claimed_at_pdt_hour_19                              525286799706\n",
      "origin_region_name_Lamorinda Walnut Creek           541923104011\n",
      "lead_organizer_platform_web                         547866996536\n",
      "origin_lon                                          554863410990\n",
      "scheduled_starts_at_pdt_hour_20                     555819517212\n",
      "destination_lon                                     560439368750\n",
      "coupon_consumed                                     562704410805\n",
      "is_affiliate_int                                    568443360758\n",
      "scheduled_starts_at_pdt_hour_18                     589669601905\n",
      "origin_region_name_San Gabriel Valley - South       618527945578\n",
      "origin_region_name_Orange County - North            649995537589\n",
      "created_at_pdt_weekday                              662492560637\n",
      "scheduled_starts_at_pdt_month_11                    682519419634\n",
      "shuttle_int                                         690353915360\n",
      "claimed_at_pdt_weekday_5                            717964059841\n",
      "origin_region_name_East Bay North                   738441889375\n",
      "claimed_at_pdt_hour                                 793616135550\n",
      "claimed_at_pdt_weekday_1                            800086972613\n",
      "claimed_at_pdt_hour_15                              812111067301\n",
      "scheduled_starts_at_pdt_weekday_1                   814530314741\n",
      "claimed_at_pdt_hour_20                              891107711826\n",
      "claimed_at_pdt_month_11                             932457373914\n",
      "claimed_at_pdt_hour_14                              947329113575\n",
      "origin_region_name_Tri Valley                       950806717531\n",
      "claimed_at_pdt_hour_10                             1173279341433\n"
     ]
    }
   ],
   "source": [
    "# normalize the linear model coefficients by the standard deviation to see which features are most important\n",
    "# use print to see every feature not just first 20 and last 20\n",
    "print((model.coef_/X_train.std()).sort_values(axis=0).replace([np.inf, -np.inf], np.nan).dropna().astype(int).to_string())"
   ]
  },
  {
   "cell_type": "code",
   "execution_count": 63,
   "metadata": {},
   "outputs": [
    {
     "data": {
      "text/plain": [
       "-4.472671736178579e+40"
      ]
     },
     "execution_count": 63,
     "metadata": {},
     "output_type": "execute_result"
    }
   ],
   "source": [
    "# score against TRAINING set\n",
    "model.score(X_train,y_train)"
   ]
  },
  {
   "cell_type": "code",
   "execution_count": 64,
   "metadata": {},
   "outputs": [
    {
     "data": {
      "text/plain": [
       "-4.429291409711066e+40"
      ]
     },
     "execution_count": 64,
     "metadata": {},
     "output_type": "execute_result"
    }
   ],
   "source": [
    "# score against TEST set\n",
    "model.score(X_test,y_test)"
   ]
  },
  {
   "cell_type": "code",
   "execution_count": 65,
   "metadata": {},
   "outputs": [
    {
     "data": {
      "text/plain": [
       "25135"
      ]
     },
     "execution_count": 65,
     "metadata": {},
     "output_type": "execute_result"
    }
   ],
   "source": [
    "model_y_test_pred = model.predict(X_test)\n",
    "model_y_test_pred.size"
   ]
  },
  {
   "cell_type": "code",
   "execution_count": 66,
   "metadata": {},
   "outputs": [
    {
     "data": {
      "text/plain": [
       "numpy.ndarray"
      ]
     },
     "execution_count": 66,
     "metadata": {},
     "output_type": "execute_result"
    }
   ],
   "source": [
    "type(model_y_test_pred)"
   ]
  },
  {
   "cell_type": "code",
   "execution_count": 67,
   "metadata": {},
   "outputs": [
    {
     "data": {
      "text/plain": [
       "array([-7.59970309e+22, -1.00777534e+23,  1.02301252e+23,  9.83383407e+22,\n",
       "        4.79019170e+21,  1.40094121e+21,  3.84895736e+22,  5.17659215e+21,\n",
       "       -2.14057266e+22,  1.86812379e+23])"
      ]
     },
     "execution_count": 67,
     "metadata": {},
     "output_type": "execute_result"
    }
   ],
   "source": [
    "model_y_test_pred[:10]"
   ]
  },
  {
   "cell_type": "code",
   "execution_count": 68,
   "metadata": {},
   "outputs": [
    {
     "data": {
      "text/plain": [
       "1.071781534330665e+23"
      ]
     },
     "execution_count": 68,
     "metadata": {},
     "output_type": "execute_result"
    }
   ],
   "source": [
    "pd.Series(model_y_test_pred).std()"
   ]
  },
  {
   "cell_type": "code",
   "execution_count": 69,
   "metadata": {},
   "outputs": [
    {
     "data": {
      "text/plain": [
       "-0.013697709464620149"
      ]
     },
     "execution_count": 69,
     "metadata": {},
     "output_type": "execute_result"
    }
   ],
   "source": [
    "pd.Series(model_y_test_pred).corr(y_test)"
   ]
  },
  {
   "cell_type": "code",
   "execution_count": 70,
   "metadata": {},
   "outputs": [
    {
     "name": "stdout",
     "output_type": "stream",
     "text": [
      "-43770976965667737848075654960781358792704.000 1796885431187607126016.00 11623670110131382012713023795317834822881116160 -44292914097110661853370241000401620959232.000 80596155433541296979968 59380573630645363802112 989676227177422782464.00\n"
     ]
    }
   ],
   "source": [
    "# regression metrics\n",
    "from sklearn.metrics import explained_variance_score, mean_squared_error, r2_score, mean_absolute_error, median_absolute_error\n",
    "from math import sqrt\n",
    "print (\"%.3f %.2f %.0f %.3f %.0f %.0f %.2f\" % \n",
    "       (explained_variance_score(y_test, model_y_test_pred),\n",
    "        sqrt(mean_squared_error(y_test, model_y_test_pred))/60, # sqrt of MSE in minutes\n",
    "        mean_squared_error(y_test, model_y_test_pred), \n",
    "        r2_score(y_test, model_y_test_pred), \n",
    "        mean_absolute_error(y_test, model_y_test_pred), \n",
    "        median_absolute_error(y_test, model_y_test_pred),\n",
    "        median_absolute_error(y_test, model_y_test_pred)/60 # MAE in minutes\n",
    "       ))"
   ]
  },
  {
   "cell_type": "code",
   "execution_count": 71,
   "metadata": {},
   "outputs": [
    {
     "data": {
      "text/plain": [
       "array([  0., 300., 900.])"
      ]
     },
     "execution_count": 71,
     "metadata": {},
     "output_type": "execute_result"
    }
   ],
   "source": [
    "# make classifications from seconds late target\n",
    "bins = np.array([0.0, 5*60, 15*60]) # 0 on-time, 1 almost on-time, 2 late, 3 extremely late\n",
    "bins"
   ]
  },
  {
   "cell_type": "code",
   "execution_count": 72,
   "metadata": {},
   "outputs": [
    {
     "data": {
      "text/plain": [
       "array([1, 1, 0, 0, 0, 1, 0, 0, 1, 0])"
      ]
     },
     "execution_count": 72,
     "metadata": {},
     "output_type": "execute_result"
    }
   ],
   "source": [
    "np.digitize(y_test, bins)[:10]"
   ]
  },
  {
   "cell_type": "code",
   "execution_count": 73,
   "metadata": {
    "scrolled": true
   },
   "outputs": [
    {
     "name": "stdout",
     "output_type": "stream",
     "text": [
      "[[    0 21156]\n",
      " [    1  2939]\n",
      " [    2   892]\n",
      " [    3   148]]\n"
     ]
    }
   ],
   "source": [
    "# materialize y_test_class array\n",
    "# check to see how many trips are categorized as 0 on-time, 1 almost on-time, 2 late, 3 extremely late\n",
    "y_test_class=np.digitize(y_test, bins)\n",
    "unique, counts = np.unique(y_test_class, return_counts=True)\n",
    "print(np.asarray((unique, counts)).T)"
   ]
  },
  {
   "cell_type": "code",
   "execution_count": 74,
   "metadata": {},
   "outputs": [
    {
     "name": "stdout",
     "output_type": "stream",
     "text": [
      "[[    0 12662]\n",
      " [    3 12473]]\n"
     ]
    }
   ],
   "source": [
    "# materialize model_y_pred_class\n",
    "# check to see how many trips are categorized as 0 on-time, 1 almost on-time, 2 late, 3 extremely late\n",
    "model_y_test_pred_class=np.digitize(model_y_test_pred, bins)\n",
    "print(np.asarray(np.unique(model_y_test_pred_class, return_counts=True)).T)"
   ]
  },
  {
   "cell_type": "code",
   "execution_count": 75,
   "metadata": {},
   "outputs": [
    {
     "name": "stdout",
     "output_type": "stream",
     "text": [
      "             precision    recall  f1-score   support\n",
      "\n",
      "          0       0.84      0.50      0.63     21156\n",
      "          1       0.00      0.00      0.00      2939\n",
      "          2       0.00      0.00      0.00       892\n",
      "          3       0.00      0.39      0.01       148\n",
      "\n",
      "avg / total       0.71      0.43      0.53     25135\n",
      "\n"
     ]
    },
    {
     "name": "stderr",
     "output_type": "stream",
     "text": [
      "/Applications/anaconda3/lib/python3.6/site-packages/sklearn/metrics/classification.py:1135: UndefinedMetricWarning: Precision and F-score are ill-defined and being set to 0.0 in labels with no predicted samples.\n",
      "  'precision', 'predicted', average, warn_for)\n"
     ]
    }
   ],
   "source": [
    "from sklearn.metrics import classification_report\n",
    "print(classification_report(y_test_class,model_y_test_pred_class))"
   ]
  },
  {
   "cell_type": "code",
   "execution_count": 76,
   "metadata": {},
   "outputs": [
    {
     "name": "stdout",
     "output_type": "stream",
     "text": [
      "[[10670     0     0 10486]\n",
      " [ 1447     0     0  1492]\n",
      " [  455     0     0   437]\n",
      " [   90     0     0    58]]\n"
     ]
    }
   ],
   "source": [
    "from sklearn.metrics import confusion_matrix\n",
    "print(confusion_matrix(y_test_class,model_y_test_pred_class,labels=[0,1,2,3]))"
   ]
  },
  {
   "cell_type": "code",
   "execution_count": null,
   "metadata": {},
   "outputs": [],
   "source": []
  }
 ],
 "metadata": {
  "kernelspec": {
   "display_name": "Python 3",
   "language": "python",
   "name": "python3"
  },
  "language_info": {
   "codemirror_mode": {
    "name": "ipython",
    "version": 3
   },
   "file_extension": ".py",
   "mimetype": "text/x-python",
   "name": "python",
   "nbconvert_exporter": "python",
   "pygments_lexer": "ipython3",
   "version": "3.6.5"
  }
 },
 "nbformat": 4,
 "nbformat_minor": 2
}
