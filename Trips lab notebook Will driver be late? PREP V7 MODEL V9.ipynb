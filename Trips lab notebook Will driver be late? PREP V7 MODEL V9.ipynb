{
 "cells": [
  {
   "cell_type": "markdown",
   "metadata": {},
   "source": [
    "### Linear regression model V9\n",
    "with REDUCED number of one-hot encoded date features"
   ]
  },
  {
   "cell_type": "code",
   "execution_count": 1,
   "metadata": {},
   "outputs": [],
   "source": [
    "fileprefix='./lateness_PREP_V7_'"
   ]
  },
  {
   "cell_type": "code",
   "execution_count": 2,
   "metadata": {},
   "outputs": [],
   "source": [
    "import pandas as pd\n",
    "import numpy as np"
   ]
  },
  {
   "cell_type": "code",
   "execution_count": 3,
   "metadata": {},
   "outputs": [],
   "source": [
    "df_X=pd.read_csv(fileprefix+'X.csv', sep='\\t')"
   ]
  },
  {
   "cell_type": "code",
   "execution_count": 4,
   "metadata": {},
   "outputs": [
    {
     "data": {
      "text/plain": [
       "(125675, 216)"
      ]
     },
     "execution_count": 4,
     "metadata": {},
     "output_type": "execute_result"
    }
   ],
   "source": [
    "df_X.shape"
   ]
  },
  {
   "cell_type": "code",
   "execution_count": 5,
   "metadata": {},
   "outputs": [],
   "source": [
    "df_y=pd.read_csv(fileprefix+'y.csv', sep='\\t', header=None)"
   ]
  },
  {
   "cell_type": "code",
   "execution_count": 6,
   "metadata": {},
   "outputs": [
    {
     "data": {
      "text/plain": [
       "(125675, 2)"
      ]
     },
     "execution_count": 6,
     "metadata": {},
     "output_type": "execute_result"
    }
   ],
   "source": [
    "type(df_y)\n",
    "df_y.shape"
   ]
  },
  {
   "cell_type": "code",
   "execution_count": 7,
   "metadata": {},
   "outputs": [
    {
     "data": {
      "text/html": [
       "<div>\n",
       "<style scoped>\n",
       "    .dataframe tbody tr th:only-of-type {\n",
       "        vertical-align: middle;\n",
       "    }\n",
       "\n",
       "    .dataframe tbody tr th {\n",
       "        vertical-align: top;\n",
       "    }\n",
       "\n",
       "    .dataframe thead th {\n",
       "        text-align: right;\n",
       "    }\n",
       "</style>\n",
       "<table border=\"1\" class=\"dataframe\">\n",
       "  <thead>\n",
       "    <tr style=\"text-align: right;\">\n",
       "      <th></th>\n",
       "      <th>0</th>\n",
       "      <th>1</th>\n",
       "    </tr>\n",
       "  </thead>\n",
       "  <tbody>\n",
       "    <tr>\n",
       "      <th>0</th>\n",
       "      <td>5</td>\n",
       "      <td>-497.0</td>\n",
       "    </tr>\n",
       "    <tr>\n",
       "      <th>1</th>\n",
       "      <td>6</td>\n",
       "      <td>5.0</td>\n",
       "    </tr>\n",
       "    <tr>\n",
       "      <th>2</th>\n",
       "      <td>7</td>\n",
       "      <td>-313.0</td>\n",
       "    </tr>\n",
       "    <tr>\n",
       "      <th>3</th>\n",
       "      <td>8</td>\n",
       "      <td>-296.0</td>\n",
       "    </tr>\n",
       "    <tr>\n",
       "      <th>4</th>\n",
       "      <td>9</td>\n",
       "      <td>-166.0</td>\n",
       "    </tr>\n",
       "  </tbody>\n",
       "</table>\n",
       "</div>"
      ],
      "text/plain": [
       "   0      1\n",
       "0  5 -497.0\n",
       "1  6    5.0\n",
       "2  7 -313.0\n",
       "3  8 -296.0\n",
       "4  9 -166.0"
      ]
     },
     "execution_count": 7,
     "metadata": {},
     "output_type": "execute_result"
    }
   ],
   "source": [
    "df_y.head()"
   ]
  },
  {
   "cell_type": "code",
   "execution_count": 8,
   "metadata": {},
   "outputs": [
    {
     "data": {
      "text/plain": [
       "0   -497.0\n",
       "1      5.0\n",
       "2   -313.0\n",
       "3   -296.0\n",
       "4   -166.0\n",
       "Name: 1, dtype: float64"
      ]
     },
     "execution_count": 8,
     "metadata": {},
     "output_type": "execute_result"
    }
   ],
   "source": [
    "y=df_y[1]\n",
    "y.head()"
   ]
  },
  {
   "cell_type": "code",
   "execution_count": 9,
   "metadata": {},
   "outputs": [
    {
     "data": {
      "text/plain": [
       "(125675,)"
      ]
     },
     "execution_count": 9,
     "metadata": {},
     "output_type": "execute_result"
    }
   ],
   "source": [
    "y.shape"
   ]
  },
  {
   "cell_type": "code",
   "execution_count": 10,
   "metadata": {},
   "outputs": [
    {
     "data": {
      "text/html": [
       "<div>\n",
       "<style scoped>\n",
       "    .dataframe tbody tr th:only-of-type {\n",
       "        vertical-align: middle;\n",
       "    }\n",
       "\n",
       "    .dataframe tbody tr th {\n",
       "        vertical-align: top;\n",
       "    }\n",
       "\n",
       "    .dataframe thead th {\n",
       "        text-align: right;\n",
       "    }\n",
       "</style>\n",
       "<table border=\"1\" class=\"dataframe\">\n",
       "  <thead>\n",
       "    <tr style=\"text-align: right;\">\n",
       "      <th></th>\n",
       "      <th>Unnamed: 0</th>\n",
       "      <th>claimed_at_pdt_month_2.0</th>\n",
       "      <th>lead_organizer_created_at_pdt_quarter</th>\n",
       "      <th>scheduled_starts_at_pdt_month_6</th>\n",
       "      <th>scheduled_starts_at_pdt_month_6.1</th>\n",
       "      <th>scheduled_starts_at_pdt_hour_19</th>\n",
       "      <th>scheduled_starts_at_pdt_hour_19.1</th>\n",
       "      <th>claimed_at_pdt_month_11.0</th>\n",
       "      <th>claimed_at_pdt_day</th>\n",
       "      <th>destination_lat</th>\n",
       "      <th>...</th>\n",
       "      <th>scheduled_starts_at_pdt_hour_3</th>\n",
       "      <th>scheduled_starts_at_pdt_hour_3.1</th>\n",
       "      <th>claimed_at_pdt_hour_19.0</th>\n",
       "      <th>scheduled_starts_at_pdt_quarter_4</th>\n",
       "      <th>scheduled_starts_at_pdt_quarter_4.1</th>\n",
       "      <th>claimed_at_pdt_month_10.0</th>\n",
       "      <th>scheduled_starts_at_pdt_month</th>\n",
       "      <th>org_signup_before_trip_created_secs</th>\n",
       "      <th>scheduled_starts_at_pdt_weekday_6</th>\n",
       "      <th>scheduled_starts_at_pdt_weekday_6.1</th>\n",
       "    </tr>\n",
       "  </thead>\n",
       "  <tbody>\n",
       "    <tr>\n",
       "      <th>0</th>\n",
       "      <td>5</td>\n",
       "      <td>1</td>\n",
       "      <td>3</td>\n",
       "      <td>0</td>\n",
       "      <td>0</td>\n",
       "      <td>0</td>\n",
       "      <td>0</td>\n",
       "      <td>0</td>\n",
       "      <td>7.0</td>\n",
       "      <td>34.18</td>\n",
       "      <td>...</td>\n",
       "      <td>0</td>\n",
       "      <td>0</td>\n",
       "      <td>1</td>\n",
       "      <td>0</td>\n",
       "      <td>0</td>\n",
       "      <td>0</td>\n",
       "      <td>2</td>\n",
       "      <td>18754828.0</td>\n",
       "      <td>0</td>\n",
       "      <td>0</td>\n",
       "    </tr>\n",
       "    <tr>\n",
       "      <th>1</th>\n",
       "      <td>6</td>\n",
       "      <td>0</td>\n",
       "      <td>3</td>\n",
       "      <td>0</td>\n",
       "      <td>0</td>\n",
       "      <td>0</td>\n",
       "      <td>0</td>\n",
       "      <td>0</td>\n",
       "      <td>17.0</td>\n",
       "      <td>34.10</td>\n",
       "      <td>...</td>\n",
       "      <td>0</td>\n",
       "      <td>0</td>\n",
       "      <td>0</td>\n",
       "      <td>0</td>\n",
       "      <td>0</td>\n",
       "      <td>0</td>\n",
       "      <td>1</td>\n",
       "      <td>16683716.0</td>\n",
       "      <td>0</td>\n",
       "      <td>0</td>\n",
       "    </tr>\n",
       "    <tr>\n",
       "      <th>2</th>\n",
       "      <td>7</td>\n",
       "      <td>1</td>\n",
       "      <td>3</td>\n",
       "      <td>0</td>\n",
       "      <td>0</td>\n",
       "      <td>0</td>\n",
       "      <td>0</td>\n",
       "      <td>0</td>\n",
       "      <td>5.0</td>\n",
       "      <td>34.16</td>\n",
       "      <td>...</td>\n",
       "      <td>0</td>\n",
       "      <td>0</td>\n",
       "      <td>0</td>\n",
       "      <td>0</td>\n",
       "      <td>0</td>\n",
       "      <td>0</td>\n",
       "      <td>2</td>\n",
       "      <td>18750712.0</td>\n",
       "      <td>0</td>\n",
       "      <td>0</td>\n",
       "    </tr>\n",
       "    <tr>\n",
       "      <th>3</th>\n",
       "      <td>8</td>\n",
       "      <td>0</td>\n",
       "      <td>3</td>\n",
       "      <td>0</td>\n",
       "      <td>0</td>\n",
       "      <td>0</td>\n",
       "      <td>0</td>\n",
       "      <td>0</td>\n",
       "      <td>25.0</td>\n",
       "      <td>34.17</td>\n",
       "      <td>...</td>\n",
       "      <td>0</td>\n",
       "      <td>0</td>\n",
       "      <td>0</td>\n",
       "      <td>0</td>\n",
       "      <td>0</td>\n",
       "      <td>0</td>\n",
       "      <td>1</td>\n",
       "      <td>17785068.0</td>\n",
       "      <td>0</td>\n",
       "      <td>0</td>\n",
       "    </tr>\n",
       "    <tr>\n",
       "      <th>4</th>\n",
       "      <td>9</td>\n",
       "      <td>0</td>\n",
       "      <td>3</td>\n",
       "      <td>0</td>\n",
       "      <td>0</td>\n",
       "      <td>0</td>\n",
       "      <td>0</td>\n",
       "      <td>0</td>\n",
       "      <td>16.0</td>\n",
       "      <td>34.12</td>\n",
       "      <td>...</td>\n",
       "      <td>0</td>\n",
       "      <td>0</td>\n",
       "      <td>0</td>\n",
       "      <td>0</td>\n",
       "      <td>0</td>\n",
       "      <td>0</td>\n",
       "      <td>1</td>\n",
       "      <td>7921943.0</td>\n",
       "      <td>0</td>\n",
       "      <td>0</td>\n",
       "    </tr>\n",
       "  </tbody>\n",
       "</table>\n",
       "<p>5 rows × 216 columns</p>\n",
       "</div>"
      ],
      "text/plain": [
       "   Unnamed: 0  claimed_at_pdt_month_2.0  \\\n",
       "0           5                         1   \n",
       "1           6                         0   \n",
       "2           7                         1   \n",
       "3           8                         0   \n",
       "4           9                         0   \n",
       "\n",
       "   lead_organizer_created_at_pdt_quarter  scheduled_starts_at_pdt_month_6  \\\n",
       "0                                      3                                0   \n",
       "1                                      3                                0   \n",
       "2                                      3                                0   \n",
       "3                                      3                                0   \n",
       "4                                      3                                0   \n",
       "\n",
       "   scheduled_starts_at_pdt_month_6.1  scheduled_starts_at_pdt_hour_19  \\\n",
       "0                                  0                                0   \n",
       "1                                  0                                0   \n",
       "2                                  0                                0   \n",
       "3                                  0                                0   \n",
       "4                                  0                                0   \n",
       "\n",
       "   scheduled_starts_at_pdt_hour_19.1  claimed_at_pdt_month_11.0  \\\n",
       "0                                  0                          0   \n",
       "1                                  0                          0   \n",
       "2                                  0                          0   \n",
       "3                                  0                          0   \n",
       "4                                  0                          0   \n",
       "\n",
       "   claimed_at_pdt_day  destination_lat                 ...                   \\\n",
       "0                 7.0            34.18                 ...                    \n",
       "1                17.0            34.10                 ...                    \n",
       "2                 5.0            34.16                 ...                    \n",
       "3                25.0            34.17                 ...                    \n",
       "4                16.0            34.12                 ...                    \n",
       "\n",
       "   scheduled_starts_at_pdt_hour_3  scheduled_starts_at_pdt_hour_3.1  \\\n",
       "0                               0                                 0   \n",
       "1                               0                                 0   \n",
       "2                               0                                 0   \n",
       "3                               0                                 0   \n",
       "4                               0                                 0   \n",
       "\n",
       "   claimed_at_pdt_hour_19.0  scheduled_starts_at_pdt_quarter_4  \\\n",
       "0                         1                                  0   \n",
       "1                         0                                  0   \n",
       "2                         0                                  0   \n",
       "3                         0                                  0   \n",
       "4                         0                                  0   \n",
       "\n",
       "   scheduled_starts_at_pdt_quarter_4.1  claimed_at_pdt_month_10.0  \\\n",
       "0                                    0                          0   \n",
       "1                                    0                          0   \n",
       "2                                    0                          0   \n",
       "3                                    0                          0   \n",
       "4                                    0                          0   \n",
       "\n",
       "   scheduled_starts_at_pdt_month  org_signup_before_trip_created_secs  \\\n",
       "0                              2                           18754828.0   \n",
       "1                              1                           16683716.0   \n",
       "2                              2                           18750712.0   \n",
       "3                              1                           17785068.0   \n",
       "4                              1                            7921943.0   \n",
       "\n",
       "   scheduled_starts_at_pdt_weekday_6  scheduled_starts_at_pdt_weekday_6.1  \n",
       "0                                  0                                    0  \n",
       "1                                  0                                    0  \n",
       "2                                  0                                    0  \n",
       "3                                  0                                    0  \n",
       "4                                  0                                    0  \n",
       "\n",
       "[5 rows x 216 columns]"
      ]
     },
     "execution_count": 10,
     "metadata": {},
     "output_type": "execute_result"
    }
   ],
   "source": [
    "df_X.head()"
   ]
  },
  {
   "cell_type": "code",
   "execution_count": 11,
   "metadata": {},
   "outputs": [
    {
     "data": {
      "text/plain": [
       "count    125675.0\n",
       "mean       -416.0\n",
       "std         509.0\n",
       "min       -1800.0\n",
       "25%        -657.0\n",
       "50%        -324.0\n",
       "75%         -96.0\n",
       "max        1800.0\n",
       "Name: 1, dtype: float64"
      ]
     },
     "execution_count": 11,
     "metadata": {},
     "output_type": "execute_result"
    }
   ],
   "source": [
    "y.describe().round()"
   ]
  },
  {
   "cell_type": "code",
   "execution_count": 12,
   "metadata": {},
   "outputs": [],
   "source": [
    "# break df_X,y into test and train sets\n",
    "from sklearn.model_selection import train_test_split\n",
    "X_train, X_test, y_train, y_test = train_test_split(df_X, y, test_size=0.20, random_state=808)"
   ]
  },
  {
   "cell_type": "code",
   "execution_count": 13,
   "metadata": {},
   "outputs": [
    {
     "name": "stdout",
     "output_type": "stream",
     "text": [
      "(100540, 216)\n",
      "(25135, 216)\n",
      "(100540,)\n",
      "(25135,)\n"
     ]
    }
   ],
   "source": [
    "for i in X_train, X_test, y_train, y_test:\n",
    "    print(i.shape)"
   ]
  },
  {
   "cell_type": "code",
   "execution_count": 14,
   "metadata": {},
   "outputs": [],
   "source": [
    "# select a linear model\n",
    "import sklearn.linear_model\n",
    "model=sklearn.linear_model.LinearRegression(normalize=True)"
   ]
  },
  {
   "cell_type": "code",
   "execution_count": 15,
   "metadata": {},
   "outputs": [],
   "source": [
    "# fit model\n",
    "model=model.fit(X_train,y_train)"
   ]
  },
  {
   "cell_type": "code",
   "execution_count": 16,
   "metadata": {
    "scrolled": true
   },
   "outputs": [
    {
     "data": {
      "text/plain": [
       "array([-6.98006406e-06,  1.17765119e+14, -4.56598300e+00,  1.50402871e+14,\n",
       "        6.82306122e+14,  1.01212869e+15, -2.29846638e+15,  1.71056279e+14,\n",
       "        1.24118905e+05,  1.24020907e+01, -6.86758902e+00,  2.38070911e+14,\n",
       "       -2.57264831e+14,  2.76106908e+14,  2.30130737e+01, -1.55897492e+01,\n",
       "       -2.13781618e+14, -9.38751568e+14, -1.40812735e+15,  4.64270695e-01,\n",
       "       -6.95498395e+14, -3.20031363e+14, -1.12650188e+15,  6.41344854e+14,\n",
       "       -1.34492372e+01, -8.57305152e+14, -8.53023401e+13, -8.92037317e+14,\n",
       "        2.25107397e+14, -8.44876412e+14, -1.01698476e+14, -4.40375323e+14,\n",
       "        4.79817832e+08, -1.22037704e+15,  2.35530237e+14, -1.45392636e+15,\n",
       "        6.40815666e+14, -6.10511124e+14, -7.52608736e+13,  3.65344262e-03,\n",
       "       -1.68975282e+15,  2.11208665e+01,  2.24915026e+01, -1.44531880e+16,\n",
       "        1.41823801e+16, -6.57126098e+14, -4.31056110e+00,  4.18026820e-02,\n",
       "       -3.11510358e+12,  1.79800787e+13,  1.16022064e+00, -1.19156041e+00,\n",
       "       -2.22169237e+15,  1.47697055e+15,  1.54686441e+02,  8.06729866e+02,\n",
       "        7.33124940e+02,  3.08058381e+01, -1.31425220e+15,  2.88821398e+14,\n",
       "        2.92382172e+14, -1.03262673e+15, -1.33111927e+00, -1.97137829e+15,\n",
       "        1.35374459e+13,  6.26086771e-01, -2.72362147e+13, -2.71872445e+13,\n",
       "        3.68285077e+00,  8.88180216e+06,  5.12730693e+13, -5.25186956e+14,\n",
       "        1.79435098e+13, -1.13173943e+15,  5.90123562e+14, -2.25298857e+14,\n",
       "        4.39207914e+00,  1.40610078e-01,  1.28268971e+15, -7.97143296e+00,\n",
       "        7.96845669e-01, -1.90364106e+15,  1.02351527e+15, -2.91063504e-04,\n",
       "        1.83116779e-03,  6.46774149e+13, -1.01250519e+15, -1.20020363e-02,\n",
       "        6.97903621e+14, -1.59587767e+15, -2.06525345e+15, -3.66858241e+15,\n",
       "        2.31454273e+15, -6.82312800e+01, -1.83460882e-01,  5.80138503e+14,\n",
       "       -1.17765115e+14, -1.39694333e+14, -8.21755236e+14, -1.22605200e+15,\n",
       "       -3.31093632e+14,  8.55126472e+14,  9.05778741e+13, -1.60885554e+13,\n",
       "       -1.57240805e+15,  1.50666389e+14, -2.15912861e+15, -5.63250941e+14,\n",
       "        4.94437393e-02, -1.62976599e+06, -4.21664188e+14, -5.03992751e+14,\n",
       "       -1.99704720e+00,  8.47899764e+13, -8.17245374e+14,  2.00004259e+14,\n",
       "       -6.06216162e+14,  4.27563236e+14,  8.77490051e+13, -5.57394217e+13,\n",
       "        1.01429051e-03, -2.90721851e+00,  5.49755400e+13,  7.41940822e+14,\n",
       "        6.71881968e+00,  1.44498928e-01, -5.73387181e+05,  5.28161341e+14,\n",
       "        2.85705574e+14,  8.14415544e+04,  4.02763594e+14, -1.48691119e+15,\n",
       "        2.90170734e+00, -1.23779781e+05, -2.81625471e+14,  6.77019839e+13,\n",
       "       -2.04494347e+02,  4.72280071e+08,  2.57636133e+14, -6.87120927e+14,\n",
       "       -1.25302879e+14,  1.88191592e+16, -1.68813573e+16, -3.61670868e-03,\n",
       "       -3.95031256e+14, -1.09441239e+15,  1.06890809e+15, -3.72328811e-01,\n",
       "       -9.38751568e+13,  2.13112565e+00, -8.19129963e+04, -3.56880671e+06,\n",
       "        2.29795185e+01,  1.23089159e+01, -2.75458497e+01,  4.04764981e+01,\n",
       "       -4.83386639e+08, -3.24043935e+14, -3.24043909e+14, -1.50200251e+15,\n",
       "       -6.36105160e-05, -3.02797025e-01,  2.56171924e+14,  2.13781618e+14,\n",
       "       -4.69375784e+14,  8.15668740e+14, -2.95579386e+14, -7.87652355e+14,\n",
       "       -6.29185689e+01,  2.55110948e+12,  2.01360163e+14, -8.78380001e+14,\n",
       "       -1.68412120e+14, -1.70097799e+14, -1.73397034e+01,  1.33350192e-04,\n",
       "       -1.87750314e+14, -3.68322946e+06,  4.08292725e+14,  4.08292725e+14,\n",
       "        1.27363335e+07, -3.44006661e+14, -2.65311193e+14, -5.54568804e+14,\n",
       "       -6.64066905e+14, -1.60485402e+01, -4.41348213e+13, -2.26902078e+14,\n",
       "       -7.57805397e+00, -1.87750314e+15,  9.38751568e+13,  2.08342993e+14,\n",
       "        1.02857167e+01, -1.54566634e+15,  1.90481842e+14, -5.61796135e+14,\n",
       "       -5.89137590e+14,  1.98975738e+13, -4.64914058e+14, -3.75500627e+14,\n",
       "       -1.54582651e+01,  2.11689553e+14,  0.00000000e+00,  0.00000000e+00,\n",
       "       -7.51001255e+14,  1.11655757e+01, -1.01552976e+14, -1.01552976e+14,\n",
       "       -1.78362798e+15,  5.80253517e+14,  5.80253517e+14,  5.32911607e+13,\n",
       "        1.98975738e+13, -3.85453130e+06, -8.13110698e+14, -8.13110698e+14])"
      ]
     },
     "execution_count": 16,
     "metadata": {},
     "output_type": "execute_result"
    }
   ],
   "source": [
    "model.coef_"
   ]
  },
  {
   "cell_type": "code",
   "execution_count": 17,
   "metadata": {
    "scrolled": true
   },
   "outputs": [
    {
     "data": {
      "text/plain": [
       "0                     0\n",
       "1       117765118679326\n",
       "2                    -4\n",
       "3       150402870770411\n",
       "4       682306121614365\n",
       "5      1012128688782244\n",
       "6     -2298466382023240\n",
       "7       171056279370881\n",
       "8                124118\n",
       "9                    12\n",
       "10                   -6\n",
       "11      238070911406720\n",
       "12     -257264830866386\n",
       "13      276106907653522\n",
       "14                   23\n",
       "15                  -15\n",
       "16     -213781617931338\n",
       "17     -938751568491299\n",
       "18    -1408127352736958\n",
       "19                    0\n",
       "20     -695498395106504\n",
       "21     -320031362715329\n",
       "22    -1126501882189583\n",
       "23      641344853794023\n",
       "24                  -13\n",
       "25     -857305152028123\n",
       "26      -85302340071230\n",
       "27     -892037317424268\n",
       "28      225107396636210\n",
       "29     -844876411642155\n",
       "             ...       \n",
       "186     -44134821266552\n",
       "187    -226902078032182\n",
       "188                  -7\n",
       "189   -1877503136982645\n",
       "190      93875156849145\n",
       "191     208342992811791\n",
       "192                  10\n",
       "193   -1545666338972348\n",
       "194     190481842478803\n",
       "195    -561796135179843\n",
       "196    -589137590351561\n",
       "197      19897573847586\n",
       "198    -464914058457252\n",
       "199    -375500627396577\n",
       "200                 -15\n",
       "201     211689552715016\n",
       "202                   0\n",
       "203                   0\n",
       "204    -751001254793067\n",
       "205                  11\n",
       "206    -101552975782223\n",
       "207    -101552975782287\n",
       "208   -1783627980133510\n",
       "209     580253516821898\n",
       "210     580253516821898\n",
       "211      53291160691601\n",
       "212      19897573847586\n",
       "213            -3854531\n",
       "214    -813110697896193\n",
       "215    -813110697896187\n",
       "Length: 216, dtype: int64"
      ]
     },
     "execution_count": 17,
     "metadata": {},
     "output_type": "execute_result"
    }
   ],
   "source": [
    "pd.Series(model.coef_).astype(int)"
   ]
  },
  {
   "cell_type": "code",
   "execution_count": 18,
   "metadata": {},
   "outputs": [
    {
     "data": {
      "text/plain": [
       "-139853992874615.69"
      ]
     },
     "execution_count": 18,
     "metadata": {},
     "output_type": "execute_result"
    }
   ],
   "source": [
    "model.intercept_"
   ]
  },
  {
   "cell_type": "code",
   "execution_count": 19,
   "metadata": {},
   "outputs": [
    {
     "data": {
      "text/plain": [
       "Unnamed: 0                               6.259357e+04\n",
       "claimed_at_pdt_month_2.0                 2.673082e-01\n",
       "lead_organizer_created_at_pdt_quarter    8.076552e-01\n",
       "scheduled_starts_at_pdt_month_6          2.505018e-01\n",
       "scheduled_starts_at_pdt_month_6.1        2.505018e-01\n",
       "scheduled_starts_at_pdt_hour_19          1.239060e-01\n",
       "scheduled_starts_at_pdt_hour_19.1        1.239060e-01\n",
       "claimed_at_pdt_month_11.0                3.060840e-01\n",
       "claimed_at_pdt_day                       8.788468e+00\n",
       "destination_lat                          1.466265e+00\n",
       "created_at_pdt_day                       8.901218e+00\n",
       "claimed_at_pdt_quarter                   1.146429e+00\n",
       "scheduled_starts_at_pdt_month_2          2.649988e-01\n",
       "scheduled_starts_at_pdt_month_2.1        2.649988e-01\n",
       "shuttle_int                              9.784898e-02\n",
       "carpool_int                              1.312920e-01\n",
       "claimed_at_pdt_weekday                   2.004019e+00\n",
       "claimed_at_pdt_hour_10.0                 1.934523e-01\n",
       "claimed_at_pdt_hour_15.0                 2.108209e-01\n",
       "lead_organizer_created_at_pdt_hour       4.782270e+00\n",
       "scheduled_starts_at_pdt_hour_15          4.296977e-01\n",
       "scheduled_starts_at_pdt_hour_15.1        4.296977e-01\n",
       "claimed_at_pdt_hour_12.0                 3.633633e-01\n",
       "claimed_at_pdt_weekday_3.0               3.603760e-01\n",
       "trip_est_duration_secs                   7.517752e+02\n",
       "scheduled_starts_at_pdt_month_11         3.080142e-01\n",
       "scheduled_starts_at_pdt_month_11.1       3.080142e-01\n",
       "scheduled_starts_at_pdt_month_8          2.531971e-01\n",
       "scheduled_starts_at_pdt_month_8.1        2.531971e-01\n",
       "claimed_at_pdt_hour_9.0                  2.171226e-01\n",
       "                                             ...     \n",
       "scheduled_starts_at_pdt_weekday_1        4.133796e-01\n",
       "scheduled_starts_at_pdt_weekday_1.1      4.133796e-01\n",
       "is_repeating_ride_int                    4.761031e-01\n",
       "claimed_at_pdt_hour_20.0                 1.981037e-01\n",
       "claimed_at_pdt_hour                      5.783854e+00\n",
       "claimed_at_pdt_month_9.0                 3.203381e-01\n",
       "route_legs_count                         2.796359e-01\n",
       "scheduled_starts_at_pdt_weekday_5        6.697323e-02\n",
       "scheduled_starts_at_pdt_weekday_5.1      6.697323e-02\n",
       "scheduled_starts_at_pdt_hour_17          2.635451e-01\n",
       "scheduled_starts_at_pdt_hour_17.1        2.635451e-01\n",
       "scheduled_ends_at_pdt_month              3.471655e+00\n",
       "claimed_at_pdt_quarter_2.0               4.168190e-01\n",
       "claimed_at_pdt_hour_4.0                  8.196218e-02\n",
       "coupon_consumed                          7.915962e-02\n",
       "scheduled_ends_at_pdt_quarter            1.150273e+00\n",
       "scheduled_starts_at_pdt_hour_2           0.000000e+00\n",
       "scheduled_starts_at_pdt_hour_2.1         0.000000e+00\n",
       "claimed_at_pdt_hour_8.0                  2.012094e-01\n",
       "organizers_count                         1.717336e-01\n",
       "scheduled_starts_at_pdt_hour_3           3.153774e-03\n",
       "scheduled_starts_at_pdt_hour_3.1         3.153774e-03\n",
       "claimed_at_pdt_hour_19.0                 2.364087e-01\n",
       "scheduled_starts_at_pdt_quarter_4        4.611651e-01\n",
       "scheduled_starts_at_pdt_quarter_4.1      4.611651e-01\n",
       "claimed_at_pdt_month_10.0                3.337243e-01\n",
       "scheduled_starts_at_pdt_month            3.471655e+00\n",
       "org_signup_before_trip_created_secs      1.294888e+07\n",
       "scheduled_starts_at_pdt_weekday_6        4.839254e-02\n",
       "scheduled_starts_at_pdt_weekday_6.1      4.839254e-02\n",
       "Length: 216, dtype: float64"
      ]
     },
     "execution_count": 19,
     "metadata": {},
     "output_type": "execute_result"
    }
   ],
   "source": [
    "X_train.std()"
   ]
  },
  {
   "cell_type": "code",
   "execution_count": 20,
   "metadata": {},
   "outputs": [
    {
     "data": {
      "text/plain": [
       "scheduled_starts_at_pdt_hour_4        -707289187004427392\n",
       "scheduled_starts_at_pdt_hour_23        -68733792169853384\n",
       "scheduled_starts_at_pdt_hour_20        -41419596993651440\n",
       "scheduled_starts_at_pdt_hour_3.1       -32200461374739920\n",
       "scheduled_starts_at_pdt_hour_3         -32200461374719628\n",
       "scheduled_starts_at_pdt_hour_22.1      -29886369882305264\n",
       "scheduled_starts_at_pdt_hour_21        -25072429993960736\n",
       "scheduled_starts_at_pdt_weekday_5      -23078869593689108\n",
       "scheduled_starts_at_pdt_hour_11        -19474324563416432\n",
       "scheduled_starts_at_pdt_hour_23.1      -18561464708359304\n",
       "scheduled_starts_at_pdt_hour_19.1      -18550075206673488\n",
       "claimed_at_pdt_hour_23.0               -16968795849946328\n",
       "scheduled_starts_at_pdt_weekday_6      -16802398026197068\n",
       "scheduled_starts_at_pdt_weekday_6.1    -16802398026196938\n",
       "claimed_at_pdt_hour_22.0               -12312744376541214\n",
       "scheduled_starts_at_pdt_hour_22        -10787569991943338\n",
       "claimed_at_pdt_hour_21.0               -10498096239173984\n",
       "claimed_at_pdt_hour_20.0                -9477377353970502\n",
       "scheduled_starts_at_pdt_hour_13         -8509624941899272\n",
       "scheduled_starts_at_pdt_hour_10.1       -8101822971056585\n",
       "claimed_at_pdt_hour_18.0                -7635487421081426\n",
       "claimed_at_pdt_hour_19.0                -7544680946535575\n",
       "claimed_at_pdt_hour_17.0                -6980275507768386\n",
       "claimed_at_pdt_hour_15.0                -6679259610831299\n",
       "claimed_at_pdt_hour_14.0                -6227030490578273\n",
       "claimed_at_pdt_hour_16.0                -6221562169007764\n",
       "claimed_at_pdt_hour_13.0                -5701573142744171\n",
       "claimed_at_pdt_hour_11.0                -5200472615333124\n",
       "scheduled_starts_at_pdt_hour_8          -5079904436383489\n",
       "claimed_at_pdt_hour_10.0                -4852625321225995\n",
       "                                              ...        \n",
       "scheduled_starts_at_pdt_quarter_3         969862497682822\n",
       "scheduled_starts_at_pdt_quarter_3.1       969862497682822\n",
       "scheduled_starts_at_pdt_month_5.1         981894995925282\n",
       "scheduled_starts_at_pdt_month_2.1        1041917598759113\n",
       "scheduled_starts_at_pdt_weekday_4        1104474972169819\n",
       "claimed_at_pdt_weekday_2.0               1136179706387225\n",
       "claimed_at_pdt_month_12.0                1173911987368802\n",
       "scheduled_starts_at_pdt_quarter_4        1258233673716223\n",
       "scheduled_starts_at_pdt_quarter_4.1      1258233673716223\n",
       "scheduled_starts_at_pdt_hour_6           1411113752523968\n",
       "scheduled_starts_at_pdt_weekday_3.1      1545703249287982\n",
       "claimed_at_pdt_weekday_3.0               1779654724750691\n",
       "scheduled_starts_at_pdt_month_5          1815151766231372\n",
       "scheduled_starts_at_pdt_hour_10          1857264954286923\n",
       "claimed_at_pdt_month_4.0                 2227106468537362\n",
       "scheduled_starts_at_pdt_hour_21.1        2402412326910798\n",
       "claimed_at_pdt_month_5.0                 2436066781876659\n",
       "scheduled_starts_at_pdt_hour_8.1         2648817576077042\n",
       "scheduled_starts_at_pdt_month_6.1        2723756861838230\n",
       "claimed_at_pdt_weekday_4.0               2826085603782621\n",
       "scheduled_starts_at_pdt_weekday_5.1      2844149148940343\n",
       "scheduled_starts_at_pdt_month_4.1        2973679086331085\n",
       "claimed_at_pdt_month_6.0                 3423539812523432\n",
       "claimed_at_pdt_weekday_6.0               3706089795065739\n",
       "claimed_at_pdt_weekday_5.0               4559906852652878\n",
       "scheduled_starts_at_pdt_hour_13.1        4575301111102187\n",
       "scheduled_starts_at_pdt_hour_19          8168517687526752\n",
       "scheduled_starts_at_pdt_hour_11.1       12946438594897848\n",
       "scheduled_starts_at_pdt_hour_20.1       26132008642028048\n",
       "scheduled_starts_at_pdt_hour_4.1       694036780389093120\n",
       "Length: 212, dtype: int64"
      ]
     },
     "execution_count": 20,
     "metadata": {},
     "output_type": "execute_result"
    }
   ],
   "source": [
    "# normalize the linear model coefficients by the standard deviation to see which features are most important\n",
    "(model.coef_/X_train.std()).sort_values(axis=0).replace([np.inf, -np.inf], np.nan).dropna().astype(int)"
   ]
  },
  {
   "cell_type": "code",
   "execution_count": 21,
   "metadata": {},
   "outputs": [
    {
     "data": {
      "text/plain": [
       "0.048872336347142165"
      ]
     },
     "execution_count": 21,
     "metadata": {},
     "output_type": "execute_result"
    }
   ],
   "source": [
    "# score against TRAINING set\n",
    "model.score(X_train,y_train)"
   ]
  },
  {
   "cell_type": "code",
   "execution_count": 22,
   "metadata": {},
   "outputs": [
    {
     "data": {
      "text/plain": [
       "0.04759446309068228"
      ]
     },
     "execution_count": 22,
     "metadata": {},
     "output_type": "execute_result"
    }
   ],
   "source": [
    "# score against TEST set\n",
    "model.score(X_test,y_test)"
   ]
  },
  {
   "cell_type": "code",
   "execution_count": 23,
   "metadata": {},
   "outputs": [
    {
     "data": {
      "text/plain": [
       "25135"
      ]
     },
     "execution_count": 23,
     "metadata": {},
     "output_type": "execute_result"
    }
   ],
   "source": [
    "model_y_test_pred = model.predict(X_test)\n",
    "model_y_test_pred.size"
   ]
  },
  {
   "cell_type": "code",
   "execution_count": 24,
   "metadata": {},
   "outputs": [
    {
     "data": {
      "text/plain": [
       "numpy.ndarray"
      ]
     },
     "execution_count": 24,
     "metadata": {},
     "output_type": "execute_result"
    }
   ],
   "source": [
    "type(model_y_test_pred)"
   ]
  },
  {
   "cell_type": "code",
   "execution_count": 25,
   "metadata": {},
   "outputs": [
    {
     "data": {
      "text/plain": [
       "array([-341.6875  , -482.09375 , -485.78125 , -553.875   , -527.59375 ,\n",
       "       -444.203125, -321.015625, -452.25    , -535.265625, -360.140625])"
      ]
     },
     "execution_count": 25,
     "metadata": {},
     "output_type": "execute_result"
    }
   ],
   "source": [
    "model_y_test_pred[:10]"
   ]
  },
  {
   "cell_type": "code",
   "execution_count": 26,
   "metadata": {},
   "outputs": [
    {
     "data": {
      "text/plain": [
       "112.24184598315682"
      ]
     },
     "execution_count": 26,
     "metadata": {},
     "output_type": "execute_result"
    }
   ],
   "source": [
    "pd.Series(model_y_test_pred).std()"
   ]
  },
  {
   "cell_type": "code",
   "execution_count": 27,
   "metadata": {},
   "outputs": [
    {
     "data": {
      "text/plain": [
       "-0.01268815451684004"
      ]
     },
     "execution_count": 27,
     "metadata": {},
     "output_type": "execute_result"
    }
   ],
   "source": [
    "pd.Series(model_y_test_pred).corr(y_test)"
   ]
  },
  {
   "cell_type": "code",
   "execution_count": 28,
   "metadata": {},
   "outputs": [
    {
     "name": "stdout",
     "output_type": "stream",
     "text": [
      "0.048 8.33 249937 0.048 374 285 4.75\n"
     ]
    }
   ],
   "source": [
    "# regression metrics\n",
    "from sklearn.metrics import explained_variance_score, mean_squared_error, r2_score, mean_absolute_error, median_absolute_error\n",
    "from math import sqrt\n",
    "print (\"%.3f %.2f %.0f %.3f %.0f %.0f %.2f\" % \n",
    "       (explained_variance_score(y_test, model_y_test_pred),\n",
    "        sqrt(mean_squared_error(y_test, model_y_test_pred))/60, # sqrt of MSE in minutes\n",
    "        mean_squared_error(y_test, model_y_test_pred), \n",
    "        r2_score(y_test, model_y_test_pred), \n",
    "        mean_absolute_error(y_test, model_y_test_pred), \n",
    "        median_absolute_error(y_test, model_y_test_pred),\n",
    "        median_absolute_error(y_test, model_y_test_pred)/60 # MAE in minutes\n",
    "       ))"
   ]
  },
  {
   "cell_type": "code",
   "execution_count": 29,
   "metadata": {},
   "outputs": [
    {
     "data": {
      "text/plain": [
       "array([  0., 300., 900.])"
      ]
     },
     "execution_count": 29,
     "metadata": {},
     "output_type": "execute_result"
    }
   ],
   "source": [
    "# make classifications from seconds late target\n",
    "bins = np.array([0.0, 5*60, 15*60]) # 0 on-time, 1 almost on-time, 2 late, 3 extremely late\n",
    "bins"
   ]
  },
  {
   "cell_type": "code",
   "execution_count": 30,
   "metadata": {},
   "outputs": [
    {
     "data": {
      "text/plain": [
       "array([1, 1, 0, 0, 0, 1, 0, 0, 1, 0])"
      ]
     },
     "execution_count": 30,
     "metadata": {},
     "output_type": "execute_result"
    }
   ],
   "source": [
    "np.digitize(y_test, bins)[:10]"
   ]
  },
  {
   "cell_type": "code",
   "execution_count": 31,
   "metadata": {
    "scrolled": true
   },
   "outputs": [
    {
     "name": "stdout",
     "output_type": "stream",
     "text": [
      "[[    0 21156]\n",
      " [    1  2939]\n",
      " [    2   892]\n",
      " [    3   148]]\n"
     ]
    }
   ],
   "source": [
    "# materialize y_test_class array\n",
    "# check to see how many trips are categorized as 0 on-time, 1 almost on-time, 2 late, 3 extremely late\n",
    "y_test_class=np.digitize(y_test, bins)\n",
    "unique, counts = np.unique(y_test_class, return_counts=True)\n",
    "print(np.asarray((unique, counts)).T)"
   ]
  },
  {
   "cell_type": "code",
   "execution_count": 32,
   "metadata": {},
   "outputs": [
    {
     "name": "stdout",
     "output_type": "stream",
     "text": [
      "[[    0 25129]\n",
      " [    1     6]]\n"
     ]
    }
   ],
   "source": [
    "# materialize model_y_pred_class\n",
    "# check to see how many trips are categorized as 0 on-time, 1 almost on-time, 2 late, 3 extremely late\n",
    "model_y_test_pred_class=np.digitize(model_y_test_pred, bins)\n",
    "print(np.asarray(np.unique(model_y_test_pred_class, return_counts=True)).T)"
   ]
  },
  {
   "cell_type": "code",
   "execution_count": 33,
   "metadata": {},
   "outputs": [
    {
     "name": "stdout",
     "output_type": "stream",
     "text": [
      "             precision    recall  f1-score   support\n",
      "\n",
      "          0       0.84      1.00      0.91     21156\n",
      "          1       0.00      0.00      0.00      2939\n",
      "          2       0.00      0.00      0.00       892\n",
      "          3       0.00      0.00      0.00       148\n",
      "\n",
      "avg / total       0.71      0.84      0.77     25135\n",
      "\n"
     ]
    },
    {
     "name": "stderr",
     "output_type": "stream",
     "text": [
      "/Applications/anaconda3/lib/python3.6/site-packages/sklearn/metrics/classification.py:1135: UndefinedMetricWarning: Precision and F-score are ill-defined and being set to 0.0 in labels with no predicted samples.\n",
      "  'precision', 'predicted', average, warn_for)\n"
     ]
    }
   ],
   "source": [
    "from sklearn.metrics import classification_report\n",
    "print(classification_report(y_test_class,model_y_test_pred_class))"
   ]
  },
  {
   "cell_type": "code",
   "execution_count": 34,
   "metadata": {},
   "outputs": [
    {
     "name": "stdout",
     "output_type": "stream",
     "text": [
      "[[21152     4     0     0]\n",
      " [ 2939     0     0     0]\n",
      " [  890     2     0     0]\n",
      " [  148     0     0     0]]\n"
     ]
    }
   ],
   "source": [
    "from sklearn.metrics import confusion_matrix\n",
    "print(confusion_matrix(y_test_class,model_y_test_pred_class,labels=[0,1,2,3]))"
   ]
  },
  {
   "cell_type": "code",
   "execution_count": null,
   "metadata": {},
   "outputs": [],
   "source": []
  }
 ],
 "metadata": {
  "kernelspec": {
   "display_name": "Python 3",
   "language": "python",
   "name": "python3"
  },
  "language_info": {
   "codemirror_mode": {
    "name": "ipython",
    "version": 3
   },
   "file_extension": ".py",
   "mimetype": "text/x-python",
   "name": "python",
   "nbconvert_exporter": "python",
   "pygments_lexer": "ipython3",
   "version": "3.6.5"
  }
 },
 "nbformat": 4,
 "nbformat_minor": 2
}
